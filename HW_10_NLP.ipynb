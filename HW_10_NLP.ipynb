{
  "nbformat": 4,
  "nbformat_minor": 0,
  "metadata": {
    "colab": {
      "name": "HW_10_NLP.ipynb",
      "provenance": [],
      "collapsed_sections": [],
      "machine_shape": "hm",
      "mount_file_id": "1RCfuN4i-fRA7hF6AE_t_di5_S0CSSF3u",
      "authorship_tag": "ABX9TyN0S1LKz/dPbx+ctQU1tzSM",
      "include_colab_link": true
    },
    "kernelspec": {
      "name": "python3",
      "display_name": "Python 3"
    },
    "language_info": {
      "name": "python"
    },
    "accelerator": "GPU"
  },
  "cells": [
    {
      "cell_type": "markdown",
      "metadata": {
        "id": "view-in-github",
        "colab_type": "text"
      },
      "source": [
        "<a href=\"https://colab.research.google.com/github/SLVmain/NLP/blob/Les_10/HW_10_NLP.ipynb\" target=\"_parent\"><img src=\"https://colab.research.google.com/assets/colab-badge.svg\" alt=\"Open In Colab\"/></a>"
      ]
    },
    {
      "cell_type": "markdown",
      "source": [
        "# Урок 10. Тема “Перевод без механизма внимания и с вниманием\n",
        "##SEQ2SEQ модель\n",
        "\n",
        "Разобраться с моделькой перевода (без механизма внимания) как она устроена, запустить для перевода с русского на английский (при желании можно взять другие пары языков)\n"
      ],
      "metadata": {
        "id": "B8fk32Bo9aOo"
      }
    },
    {
      "cell_type": "code",
      "execution_count": 1,
      "metadata": {
        "id": "TuNuf94x9Zt-"
      },
      "outputs": [],
      "source": [
        "import tensorflow as tf\n",
        "\n",
        "import matplotlib.pyplot as plt\n",
        "import matplotlib.ticker as ticker\n",
        "from sklearn.model_selection import train_test_split\n",
        "\n",
        "import unicodedata\n",
        "import re\n",
        "import numpy as np\n",
        "import os\n",
        "import io\n",
        "import time"
      ]
    },
    {
      "cell_type": "markdown",
      "metadata": {
        "id": "wfodePkj3jEa"
      },
      "source": [
        "## Download and prepare the dataset\n",
        "\n",
        "We'll use a language dataset provided by http://www.manythings.org/anki/"
      ]
    },
    {
      "cell_type": "code",
      "source": [
        "# возьмем итальяно-английские пары"
      ],
      "metadata": {
        "id": "JscvU5PKpajV"
      },
      "execution_count": null,
      "outputs": []
    },
    {
      "cell_type": "code",
      "metadata": {
        "id": "CNvjhDyAKk3U",
        "colab": {
          "base_uri": "https://localhost:8080/"
        },
        "outputId": "790f52ff-e30d-4cb0-c2da-ad50f37230bd"
      },
      "source": [
        "!wget http://www.manythings.org/anki/ita-eng.zip"
      ],
      "execution_count": 2,
      "outputs": [
        {
          "output_type": "stream",
          "name": "stdout",
          "text": [
            "--2022-06-11 18:18:26--  http://www.manythings.org/anki/ita-eng.zip\n",
            "Resolving www.manythings.org (www.manythings.org)... 104.21.92.44, 172.67.186.54, 2606:4700:3033::ac43:ba36, ...\n",
            "Connecting to www.manythings.org (www.manythings.org)|104.21.92.44|:80... connected.\n",
            "HTTP request sent, awaiting response... 200 OK\n",
            "Length: 7782544 (7.4M) [application/zip]\n",
            "Saving to: ‘ita-eng.zip’\n",
            "\n",
            "ita-eng.zip         100%[===================>]   7.42M  15.0MB/s    in 0.5s    \n",
            "\n",
            "2022-06-11 18:18:27 (15.0 MB/s) - ‘ita-eng.zip’ saved [7782544/7782544]\n",
            "\n"
          ]
        }
      ]
    },
    {
      "cell_type": "code",
      "metadata": {
        "id": "83bg17Lr-7XK",
        "colab": {
          "base_uri": "https://localhost:8080/"
        },
        "outputId": "ccca2047-2099-4174-8561-d6e34f45ae86"
      },
      "source": [
        "!mkdir it-eng\n",
        "!unzip ita-eng.zip -d it-eng/"
      ],
      "execution_count": 3,
      "outputs": [
        {
          "output_type": "stream",
          "name": "stdout",
          "text": [
            "Archive:  ita-eng.zip\n",
            "  inflating: it-eng/ita.txt          \n",
            "  inflating: it-eng/_about.txt       \n"
          ]
        }
      ]
    },
    {
      "cell_type": "code",
      "metadata": {
        "id": "7o5L92efMMhf",
        "colab": {
          "base_uri": "https://localhost:8080/"
        },
        "outputId": "2ed27f33-c52a-4ef5-93e4-e2cdc23798dd"
      },
      "source": [
        "!ls /content/it-eng/ -lah"
      ],
      "execution_count": 4,
      "outputs": [
        {
          "output_type": "stream",
          "name": "stdout",
          "text": [
            "total 49M\n",
            "drwxr-xr-x 2 root root 4.0K Jun 11 18:18 .\n",
            "drwxr-xr-x 1 root root 4.0K Jun 11 18:18 ..\n",
            "-rw-r--r-- 1 root root 1.5K May  2 01:29 _about.txt\n",
            "-rw-r--r-- 1 root root  49M May  2 01:29 ita.txt\n"
          ]
        }
      ]
    },
    {
      "cell_type": "code",
      "metadata": {
        "id": "kRVATYOgJs1b"
      },
      "source": [
        "# Download the file\n",
        "path_to_file = \"/content/it-eng/ita.txt\""
      ],
      "execution_count": 5,
      "outputs": []
    },
    {
      "cell_type": "code",
      "metadata": {
        "id": "rd0jw-eC3jEh"
      },
      "source": [
        "def preprocess_sentence(w):\n",
        "  w = w.lower().strip()\n",
        "\n",
        "  # creating a space between a word and the punctuation following it\n",
        "  # eg: \"he is a boy.\" => \"he is a boy .\"\n",
        "  # Reference:- https://stackoverflow.com/questions/3645931/python-padding-punctuation-with-white-spaces-keeping-punctuation\n",
        "  w = re.sub(r\"([?.!,])\", r\" \\1 \", w)\n",
        "  w = re.sub(r'[\" \"]+', \" \", w)\n",
        "\n",
        "  # replacing everything with space except (a-z, A-Z, \".\", \"?\", \"!\", \",\")\n",
        "  w = re.sub(r\"[^a-zA-Zа-яА-Я?.!,']+\", \" \", w)\n",
        "\n",
        "  w = w.strip()\n",
        "\n",
        "  # adding a start and an end token to the sentence\n",
        "  # so that the model know when to start and stop predicting.\n",
        "  w = '<start> ' + w + ' <end>'\n",
        "  return w"
      ],
      "execution_count": 6,
      "outputs": []
    },
    {
      "cell_type": "code",
      "metadata": {
        "id": "yV9lZXQXNbnH",
        "colab": {
          "base_uri": "https://localhost:8080/",
          "height": 35
        },
        "outputId": "b23daadc-40ac-40c5-f279-e0f93bbc0712"
      },
      "source": [
        "preprocess_sentence(\"I can't go.\")"
      ],
      "execution_count": 12,
      "outputs": [
        {
          "output_type": "execute_result",
          "data": {
            "text/plain": [
              "\"<start> i can't go . <end>\""
            ],
            "application/vnd.google.colaboratory.intrinsic+json": {
              "type": "string"
            }
          },
          "metadata": {},
          "execution_count": 12
        }
      ]
    },
    {
      "cell_type": "code",
      "metadata": {
        "id": "OHn4Dct23jEm"
      },
      "source": [
        "# 1. Remove the accents\n",
        "# 2. Clean the sentences\n",
        "# 3. Return word pairs in the format: [ENG, RUS]\n",
        "def create_dataset(path, num_examples):\n",
        "  lines = io.open(path, encoding='UTF-8').read().strip().split('\\n')\n",
        "\n",
        "  word_pairs = [[preprocess_sentence(w) for w in l.split('\\t')[:2]]  for l in lines[:num_examples]]\n",
        "\n",
        "  return zip(*word_pairs)"
      ],
      "execution_count": 7,
      "outputs": []
    },
    {
      "cell_type": "code",
      "metadata": {
        "id": "cTbSbBz55QtF",
        "colab": {
          "base_uri": "https://localhost:8080/"
        },
        "outputId": "e3d5fbbb-98e3-4b1c-d5d6-9cd6de69da5e"
      },
      "source": [
        "en, it = create_dataset(path_to_file, None)\n",
        "print(en[0])\n",
        "print(it[0])"
      ],
      "execution_count": 8,
      "outputs": [
        {
          "output_type": "stream",
          "name": "stdout",
          "text": [
            "<start> hi . <end>\n",
            "<start> ciao ! <end>\n"
          ]
        }
      ]
    },
    {
      "cell_type": "code",
      "metadata": {
        "id": "bIOn8RCNDJXG"
      },
      "source": [
        "def tokenize(lang):\n",
        "  lang_tokenizer = tf.keras.preprocessing.text.Tokenizer(\n",
        "      filters='')\n",
        "  lang_tokenizer.fit_on_texts(lang)\n",
        "\n",
        "  tensor = lang_tokenizer.texts_to_sequences(lang)\n",
        "\n",
        "  tensor = tf.keras.preprocessing.sequence.pad_sequences(tensor,\n",
        "                                                         padding='post')\n",
        "\n",
        "  return tensor, lang_tokenizer"
      ],
      "execution_count": 9,
      "outputs": []
    },
    {
      "cell_type": "code",
      "metadata": {
        "id": "eAY9k49G3jE_"
      },
      "source": [
        "def load_dataset(path, num_examples=None):\n",
        "  # creating cleaned input, output pairs\n",
        "  targ_lang, inp_lang = create_dataset(path, num_examples)\n",
        "\n",
        "  input_tensor, inp_lang_tokenizer = tokenize(inp_lang)\n",
        "  target_tensor, targ_lang_tokenizer = tokenize(targ_lang)\n",
        "\n",
        "  return input_tensor, target_tensor, inp_lang_tokenizer, targ_lang_tokenizer"
      ],
      "execution_count": 10,
      "outputs": []
    },
    {
      "cell_type": "markdown",
      "metadata": {
        "id": "GOi42V79Ydlr"
      },
      "source": [
        "### Limit the size of the dataset to experiment faster (optional)\n"
      ]
    },
    {
      "cell_type": "code",
      "metadata": {
        "id": "C8j9g9AnIeZV",
        "colab": {
          "base_uri": "https://localhost:8080/"
        },
        "outputId": "e053d01e-45c4-4ee4-b2fd-49b4faee1637"
      },
      "source": [
        "len(en), len(it)"
      ],
      "execution_count": 11,
      "outputs": [
        {
          "output_type": "execute_result",
          "data": {
            "text/plain": [
              "(354238, 354238)"
            ]
          },
          "metadata": {},
          "execution_count": 11
        }
      ]
    },
    {
      "cell_type": "code",
      "metadata": {
        "id": "cnxC7q-j3jFD"
      },
      "source": [
        "# Try experimenting with the size of that dataset\n",
        "num_examples = 100000\n",
        "input_tensor, target_tensor, inp_lang, targ_lang = load_dataset(path_to_file, num_examples)\n",
        "\n",
        "# Calculate max_length of the target tensors\n",
        "max_length_targ, max_length_inp = target_tensor.shape[1], input_tensor.shape[1]"
      ],
      "execution_count": 28,
      "outputs": []
    },
    {
      "cell_type": "code",
      "metadata": {
        "id": "4QILQkOs3jFG",
        "colab": {
          "base_uri": "https://localhost:8080/"
        },
        "outputId": "f65673b8-b616-44bf-9314-601a34829a38"
      },
      "source": [
        "# Creating training and validation sets using an 80-20 split\n",
        "input_tensor_train, input_tensor_val, target_tensor_train, target_tensor_val = train_test_split(input_tensor, target_tensor, test_size=0.2)\n",
        "\n",
        "# Show length\n",
        "print(len(input_tensor_train), len(target_tensor_train), len(input_tensor_val), len(target_tensor_val))"
      ],
      "execution_count": 29,
      "outputs": [
        {
          "output_type": "stream",
          "name": "stdout",
          "text": [
            "80000 80000 20000 20000\n"
          ]
        }
      ]
    },
    {
      "cell_type": "code",
      "metadata": {
        "id": "lJPmLZGMeD5q"
      },
      "source": [
        "def convert(lang, tensor):\n",
        "  for t in tensor:\n",
        "    if t!=0:\n",
        "      print (\"%d ----> %s\" % (t, lang.index_word[t]))"
      ],
      "execution_count": 30,
      "outputs": []
    },
    {
      "cell_type": "code",
      "metadata": {
        "id": "VXukARTDd7MT",
        "colab": {
          "base_uri": "https://localhost:8080/"
        },
        "outputId": "906fa499-2381-461a-e86e-5d2ac5a626c5"
      },
      "source": [
        "print (\"Input Language; index to word mapping\")\n",
        "convert(inp_lang, input_tensor_train[0])\n",
        "print ()\n",
        "print (\"Target Language; index to word mapping\")\n",
        "convert(targ_lang, target_tensor_train[0])"
      ],
      "execution_count": 31,
      "outputs": [
        {
          "output_type": "stream",
          "name": "stdout",
          "text": [
            "Input Language; index to word mapping\n",
            "1 ----> <start>\n",
            "20 ----> noi\n",
            "6 ----> non\n",
            "23 ----> siamo\n",
            "3034 ----> interessate\n",
            "3 ----> .\n",
            "2 ----> <end>\n",
            "\n",
            "Target Language; index to word mapping\n",
            "1 ----> <start>\n",
            "36 ----> we're\n",
            "28 ----> not\n",
            "809 ----> interested\n",
            "3 ----> .\n",
            "2 ----> <end>\n"
          ]
        }
      ]
    },
    {
      "cell_type": "markdown",
      "metadata": {
        "id": "rgCLkfv5uO3d"
      },
      "source": [
        "### Create a tf.data dataset"
      ]
    },
    {
      "cell_type": "code",
      "metadata": {
        "id": "TqHsArVZ3jFS"
      },
      "source": [
        "BUFFER_SIZE = len(input_tensor_train)\n",
        "BATCH_SIZE = 64\n",
        "steps_per_epoch = len(input_tensor_train)//BATCH_SIZE\n",
        "embedding_dim = 300\n",
        "units = 1024\n",
        "vocab_inp_size = len(inp_lang.word_index)+1\n",
        "vocab_tar_size = len(targ_lang.word_index)+1\n",
        "\n",
        "dataset = tf.data.Dataset.from_tensor_slices((input_tensor_train, target_tensor_train)).shuffle(BUFFER_SIZE)\n",
        "dataset = dataset.batch(BATCH_SIZE, drop_remainder=True)"
      ],
      "execution_count": 33,
      "outputs": []
    },
    {
      "cell_type": "code",
      "metadata": {
        "id": "qc6-NK1GtWQt",
        "colab": {
          "base_uri": "https://localhost:8080/"
        },
        "outputId": "d1206022-ba47-417c-95e4-780aadfe2528"
      },
      "source": [
        "example_input_batch, example_target_batch = next(iter(dataset))\n",
        "example_input_batch.shape, example_target_batch.shape"
      ],
      "execution_count": 34,
      "outputs": [
        {
          "output_type": "execute_result",
          "data": {
            "text/plain": [
              "(TensorShape([64, 20]), TensorShape([64, 11]))"
            ]
          },
          "metadata": {},
          "execution_count": 34
        }
      ]
    },
    {
      "cell_type": "code",
      "metadata": {
        "id": "nZ2rI24i3jFg"
      },
      "source": [
        "class Encoder(tf.keras.Model):\n",
        "  def __init__(self, vocab_size, embedding_dim, enc_units, batch_sz):\n",
        "    super(Encoder, self).__init__()\n",
        "    self.batch_sz = batch_sz\n",
        "    self.enc_units = enc_units\n",
        "    self.embedding = tf.keras.layers.Embedding(vocab_size, embedding_dim)\n",
        "    self.gru = tf.keras.layers.GRU(self.enc_units,\n",
        "                                   return_sequences=False,\n",
        "                                   return_state=True,\n",
        "                                   recurrent_initializer='glorot_uniform')\n",
        "    \n",
        "\n",
        "  def call(self, x, hidden):\n",
        "    x = self.embedding(x)\n",
        "    output, state = self.gru(x, initial_state = hidden)\n",
        "    return state\n",
        "\n",
        "  def initialize_hidden_state(self):\n",
        "    return tf.zeros((self.batch_sz, self.enc_units))"
      ],
      "execution_count": 35,
      "outputs": []
    },
    {
      "cell_type": "code",
      "metadata": {
        "id": "60gSVh05Jl6l",
        "colab": {
          "base_uri": "https://localhost:8080/"
        },
        "outputId": "95aeebd2-c016-4b75-c561-c3cc2020cba8"
      },
      "source": [
        "encoder = Encoder(vocab_inp_size, embedding_dim, units, BATCH_SIZE)\n",
        "\n",
        "# sample input\n",
        "sample_hidden = encoder.initialize_hidden_state()\n",
        "sample_hidden = encoder(example_input_batch, sample_hidden)\n",
        "# print ('Encoder output shape: (batch size, sequence length, units) {}'.format(sample_output.shape))\n",
        "print ('Encoder Hidden state shape: (batch size, units) {}'.format(sample_hidden.shape))"
      ],
      "execution_count": 36,
      "outputs": [
        {
          "output_type": "stream",
          "name": "stdout",
          "text": [
            "Encoder Hidden state shape: (batch size, units) (64, 1024)\n"
          ]
        }
      ]
    },
    {
      "cell_type": "code",
      "metadata": {
        "id": "yJ_B3mhW3jFk"
      },
      "source": [
        "class Decoder(tf.keras.Model):\n",
        "  def __init__(self, vocab_size, embedding_dim, dec_units, batch_sz):\n",
        "    super(Decoder, self).__init__()\n",
        "    self.batch_sz = batch_sz\n",
        "    self.dec_units = dec_units\n",
        "    self.embedding = tf.keras.layers.Embedding(vocab_size, embedding_dim)\n",
        "    self.gru = tf.keras.layers.GRU(self.dec_units,\n",
        "                                   return_sequences=True,\n",
        "                                   return_state=True,\n",
        "                                   recurrent_initializer='glorot_uniform')\n",
        "    self.fc = tf.keras.layers.Dense(vocab_size)\n",
        "\n",
        "  def call(self, x, hidden):\n",
        "    # enc_output shape == (batch_size, max_length, hidden_size)\n",
        "\n",
        "    # x shape after passing through embedding == (batch_size, 1, embedding_dim)\n",
        "    x = self.embedding(x)\n",
        "\n",
        "    # x shape after concatenation == (batch_size, 1, embedding_dim + hidden_size)\n",
        "\n",
        "    # passing the concatenated vector to the GRU\n",
        "    output, state = self.gru(x, initial_state=hidden)\n",
        "\n",
        "    # output shape == (batch_size * 1, hidden_size)\n",
        "    output = tf.reshape(output, (-1, output.shape[2]))\n",
        "\n",
        "    # output shape == (batch_size, vocab)\n",
        "    x = self.fc(output)\n",
        "\n",
        "    return x, state"
      ],
      "execution_count": 37,
      "outputs": []
    },
    {
      "cell_type": "code",
      "metadata": {
        "id": "P5UY8wko3jFp"
      },
      "source": [
        "decoder = Decoder(vocab_tar_size, embedding_dim, units, BATCH_SIZE)\n",
        "\n",
        "decoder_sample_x, decoder_sample_h = decoder(tf.random.uniform((BATCH_SIZE, 1)),\n",
        "                                      sample_hidden)\n",
        "\n"
      ],
      "execution_count": 38,
      "outputs": []
    },
    {
      "cell_type": "code",
      "metadata": {
        "colab": {
          "base_uri": "https://localhost:8080/"
        },
        "id": "XKcypC0AGeLR",
        "outputId": "852b41a4-5154-4aa8-d196-6ffbeec634de"
      },
      "source": [
        "decoder_sample_x.shape"
      ],
      "execution_count": 39,
      "outputs": [
        {
          "output_type": "execute_result",
          "data": {
            "text/plain": [
              "TensorShape([64, 6453])"
            ]
          },
          "metadata": {},
          "execution_count": 39
        }
      ]
    },
    {
      "cell_type": "code",
      "metadata": {
        "id": "6y0HF-zMF_vp",
        "colab": {
          "base_uri": "https://localhost:8080/"
        },
        "outputId": "22bbd45a-91b8-4926-e609-196f03322282"
      },
      "source": [
        "decoder_sample_h.shape"
      ],
      "execution_count": 40,
      "outputs": [
        {
          "output_type": "execute_result",
          "data": {
            "text/plain": [
              "TensorShape([64, 1024])"
            ]
          },
          "metadata": {},
          "execution_count": 40
        }
      ]
    },
    {
      "cell_type": "markdown",
      "metadata": {
        "id": "_ch_71VbIRfK"
      },
      "source": [
        "## Define the optimizer and the loss function"
      ]
    },
    {
      "cell_type": "code",
      "metadata": {
        "id": "WmTHr5iV3jFr"
      },
      "source": [
        "optimizer = tf.keras.optimizers.Adam()\n",
        "\n",
        "loss_object = tf.keras.losses.SparseCategoricalCrossentropy(\n",
        "    from_logits=True, reduction='none')\n",
        "\n",
        "def loss_function(real, pred):\n",
        "  mask = tf.math.logical_not(tf.math.equal(real, 0))\n",
        "  loss_ = loss_object(real, pred)\n",
        "\n",
        "  mask = tf.cast(mask, dtype=loss_.dtype)\n",
        "  loss_ *= mask\n",
        "\n",
        "  return tf.reduce_mean(loss_)"
      ],
      "execution_count": 41,
      "outputs": []
    },
    {
      "cell_type": "markdown",
      "metadata": {
        "id": "DMVWzzsfNl4e"
      },
      "source": [
        "## Checkpoints (Object-based saving)"
      ]
    },
    {
      "cell_type": "code",
      "metadata": {
        "id": "Zj8bXQTgNwrF"
      },
      "source": [
        "checkpoint_dir = '/content/drive/MyDrive/data/training_nmt_checkpoints'\n",
        "\n",
        "checkpoint_prefix = os.path.join(checkpoint_dir, \"ckpt\")\n",
        "\n",
        "checkpoint = tf.train.Checkpoint(optimizer=optimizer,\n",
        "                                 encoder=encoder,\n",
        "                                 decoder=decoder)"
      ],
      "execution_count": 42,
      "outputs": []
    },
    {
      "cell_type": "code",
      "metadata": {
        "id": "sC9ArXSsVfqn"
      },
      "source": [
        "@tf.function\n",
        "def train_step(inp, targ, enc_hidden):\n",
        "  loss = 0\n",
        "\n",
        "  with tf.GradientTape() as tape:\n",
        "    enc_hidden = encoder(inp, enc_hidden)\n",
        "\n",
        "    dec_hidden = enc_hidden\n",
        "\n",
        "    dec_input = tf.expand_dims([targ_lang.word_index['<start>']] * BATCH_SIZE, 1)\n",
        "\n",
        "    # Teacher forcing - feeding the target as the next input\n",
        "    for t in range(1, targ.shape[1]):\n",
        "      # passing enc_output to the decoder\n",
        "      predictions, dec_hidden = decoder(dec_input, dec_hidden)\n",
        "\n",
        "      loss += loss_function(targ[:, t], predictions)\n",
        "\n",
        "      # using teacher forcing\n",
        "      dec_input = tf.expand_dims(targ[:, t], 1)\n",
        "\n",
        "  batch_loss = (loss / int(targ.shape[1]))\n",
        "\n",
        "  variables = encoder.trainable_variables + decoder.trainable_variables\n",
        "\n",
        "  gradients = tape.gradient(loss, variables)\n",
        "\n",
        "  optimizer.apply_gradients(zip(gradients, variables))\n",
        "\n",
        "  return batch_loss"
      ],
      "execution_count": 43,
      "outputs": []
    },
    {
      "cell_type": "code",
      "metadata": {
        "id": "ddefjBMa3jF0",
        "colab": {
          "base_uri": "https://localhost:8080/"
        },
        "outputId": "ffc07016-dae3-4a6a-f8cc-f017e7b79f54"
      },
      "source": [
        "EPOCHS = 50\n",
        "\n",
        "for epoch in range(EPOCHS):\n",
        "  start = time.time()\n",
        "\n",
        "  enc_hidden = encoder.initialize_hidden_state()\n",
        "  total_loss = 0\n",
        "\n",
        "  for (batch, (inp, targ)) in enumerate(dataset.take(steps_per_epoch)):\n",
        "    batch_loss = train_step(inp, targ, enc_hidden)\n",
        "    total_loss += batch_loss\n",
        "\n",
        "    if batch % 100 == 0:\n",
        "      print('Epoch {} Batch {} Loss {:.4f}'.format(epoch + 1,\n",
        "                                                   batch,\n",
        "                                                   batch_loss.numpy()))\n",
        "  # saving (checkpoint) the model every 2 epochs\n",
        "  if (epoch + 1) % 2 == 0:\n",
        "    checkpoint.save(file_prefix = checkpoint_prefix)\n",
        "\n",
        "  print('Epoch {} Loss {:.4f}'.format(epoch + 1,\n",
        "                                      total_loss / steps_per_epoch))\n",
        "  print('Time taken for 1 epoch {} sec\\n'.format(time.time() - start))"
      ],
      "execution_count": 44,
      "outputs": [
        {
          "output_type": "stream",
          "name": "stdout",
          "text": [
            "Epoch 1 Batch 0 Loss 4.4737\n",
            "Epoch 1 Batch 100 Loss 1.8782\n",
            "Epoch 1 Batch 200 Loss 1.8181\n",
            "Epoch 1 Batch 300 Loss 1.5551\n",
            "Epoch 1 Batch 400 Loss 1.4900\n",
            "Epoch 1 Batch 500 Loss 1.4890\n",
            "Epoch 1 Batch 600 Loss 1.2961\n",
            "Epoch 1 Batch 700 Loss 1.2034\n",
            "Epoch 1 Batch 800 Loss 1.0514\n",
            "Epoch 1 Batch 900 Loss 1.0554\n",
            "Epoch 1 Batch 1000 Loss 0.9393\n",
            "Epoch 1 Batch 1100 Loss 0.9596\n",
            "Epoch 1 Batch 1200 Loss 0.8357\n",
            "Epoch 1 Loss 1.3707\n",
            "Time taken for 1 epoch 53.328080892562866 sec\n",
            "\n",
            "Epoch 2 Batch 0 Loss 0.7197\n",
            "Epoch 2 Batch 100 Loss 0.7854\n",
            "Epoch 2 Batch 200 Loss 0.6963\n",
            "Epoch 2 Batch 300 Loss 0.7144\n",
            "Epoch 2 Batch 400 Loss 0.6436\n",
            "Epoch 2 Batch 500 Loss 0.7089\n",
            "Epoch 2 Batch 600 Loss 0.6127\n",
            "Epoch 2 Batch 700 Loss 0.4847\n",
            "Epoch 2 Batch 800 Loss 0.3973\n",
            "Epoch 2 Batch 900 Loss 0.4768\n",
            "Epoch 2 Batch 1000 Loss 0.4308\n",
            "Epoch 2 Batch 1100 Loss 0.4339\n",
            "Epoch 2 Batch 1200 Loss 0.4333\n",
            "Epoch 2 Loss 0.5786\n",
            "Time taken for 1 epoch 41.37068200111389 sec\n",
            "\n",
            "Epoch 3 Batch 0 Loss 0.3258\n",
            "Epoch 3 Batch 100 Loss 0.2616\n",
            "Epoch 3 Batch 200 Loss 0.2721\n",
            "Epoch 3 Batch 300 Loss 0.2713\n",
            "Epoch 3 Batch 400 Loss 0.2730\n",
            "Epoch 3 Batch 500 Loss 0.2768\n",
            "Epoch 3 Batch 600 Loss 0.2920\n",
            "Epoch 3 Batch 700 Loss 0.2844\n",
            "Epoch 3 Batch 800 Loss 0.3301\n",
            "Epoch 3 Batch 900 Loss 0.2517\n",
            "Epoch 3 Batch 1000 Loss 0.2628\n",
            "Epoch 3 Batch 1100 Loss 0.1950\n",
            "Epoch 3 Batch 1200 Loss 0.2153\n",
            "Epoch 3 Loss 0.2549\n",
            "Time taken for 1 epoch 40.68931579589844 sec\n",
            "\n",
            "Epoch 4 Batch 0 Loss 0.1425\n",
            "Epoch 4 Batch 100 Loss 0.1593\n",
            "Epoch 4 Batch 200 Loss 0.1441\n",
            "Epoch 4 Batch 300 Loss 0.1301\n",
            "Epoch 4 Batch 400 Loss 0.1433\n",
            "Epoch 4 Batch 500 Loss 0.0806\n",
            "Epoch 4 Batch 600 Loss 0.1402\n",
            "Epoch 4 Batch 700 Loss 0.1825\n",
            "Epoch 4 Batch 800 Loss 0.1081\n",
            "Epoch 4 Batch 900 Loss 0.1411\n",
            "Epoch 4 Batch 1000 Loss 0.1749\n",
            "Epoch 4 Batch 1100 Loss 0.1786\n",
            "Epoch 4 Batch 1200 Loss 0.1311\n",
            "Epoch 4 Loss 0.1400\n",
            "Time taken for 1 epoch 41.32790493965149 sec\n",
            "\n",
            "Epoch 5 Batch 0 Loss 0.1450\n",
            "Epoch 5 Batch 100 Loss 0.0740\n",
            "Epoch 5 Batch 200 Loss 0.1144\n",
            "Epoch 5 Batch 300 Loss 0.0927\n",
            "Epoch 5 Batch 400 Loss 0.1045\n",
            "Epoch 5 Batch 500 Loss 0.1075\n",
            "Epoch 5 Batch 600 Loss 0.0848\n",
            "Epoch 5 Batch 700 Loss 0.1317\n",
            "Epoch 5 Batch 800 Loss 0.1304\n",
            "Epoch 5 Batch 900 Loss 0.1175\n",
            "Epoch 5 Batch 1000 Loss 0.1079\n",
            "Epoch 5 Batch 1100 Loss 0.1188\n",
            "Epoch 5 Batch 1200 Loss 0.1002\n",
            "Epoch 5 Loss 0.0976\n",
            "Time taken for 1 epoch 40.70856523513794 sec\n",
            "\n",
            "Epoch 6 Batch 0 Loss 0.0506\n",
            "Epoch 6 Batch 100 Loss 0.0612\n",
            "Epoch 6 Batch 200 Loss 0.0438\n",
            "Epoch 6 Batch 300 Loss 0.0859\n",
            "Epoch 6 Batch 400 Loss 0.1179\n",
            "Epoch 6 Batch 500 Loss 0.0414\n",
            "Epoch 6 Batch 600 Loss 0.0724\n",
            "Epoch 6 Batch 700 Loss 0.0356\n",
            "Epoch 6 Batch 800 Loss 0.0738\n",
            "Epoch 6 Batch 900 Loss 0.0941\n",
            "Epoch 6 Batch 1000 Loss 0.0702\n",
            "Epoch 6 Batch 1100 Loss 0.1147\n",
            "Epoch 6 Batch 1200 Loss 0.0693\n",
            "Epoch 6 Loss 0.0787\n",
            "Time taken for 1 epoch 42.10002374649048 sec\n",
            "\n",
            "Epoch 7 Batch 0 Loss 0.0500\n",
            "Epoch 7 Batch 100 Loss 0.0604\n",
            "Epoch 7 Batch 200 Loss 0.0295\n",
            "Epoch 7 Batch 300 Loss 0.0355\n",
            "Epoch 7 Batch 400 Loss 0.0324\n",
            "Epoch 7 Batch 500 Loss 0.0704\n",
            "Epoch 7 Batch 600 Loss 0.0538\n",
            "Epoch 7 Batch 700 Loss 0.0606\n",
            "Epoch 7 Batch 800 Loss 0.0882\n",
            "Epoch 7 Batch 900 Loss 0.0515\n",
            "Epoch 7 Batch 1000 Loss 0.0492\n",
            "Epoch 7 Batch 1100 Loss 0.0858\n",
            "Epoch 7 Batch 1200 Loss 0.0680\n",
            "Epoch 7 Loss 0.0703\n",
            "Time taken for 1 epoch 40.64404582977295 sec\n",
            "\n",
            "Epoch 8 Batch 0 Loss 0.0517\n",
            "Epoch 8 Batch 100 Loss 0.0532\n",
            "Epoch 8 Batch 200 Loss 0.0634\n",
            "Epoch 8 Batch 300 Loss 0.0811\n",
            "Epoch 8 Batch 400 Loss 0.0664\n",
            "Epoch 8 Batch 500 Loss 0.0597\n",
            "Epoch 8 Batch 600 Loss 0.0673\n",
            "Epoch 8 Batch 700 Loss 0.0698\n",
            "Epoch 8 Batch 800 Loss 0.0893\n",
            "Epoch 8 Batch 900 Loss 0.0672\n",
            "Epoch 8 Batch 1000 Loss 0.0962\n",
            "Epoch 8 Batch 1100 Loss 0.0510\n",
            "Epoch 8 Batch 1200 Loss 0.0772\n",
            "Epoch 8 Loss 0.0644\n",
            "Time taken for 1 epoch 41.233678579330444 sec\n",
            "\n",
            "Epoch 9 Batch 0 Loss 0.0492\n",
            "Epoch 9 Batch 100 Loss 0.0701\n",
            "Epoch 9 Batch 200 Loss 0.0283\n",
            "Epoch 9 Batch 300 Loss 0.0396\n",
            "Epoch 9 Batch 400 Loss 0.0816\n",
            "Epoch 9 Batch 500 Loss 0.0588\n",
            "Epoch 9 Batch 600 Loss 0.0675\n",
            "Epoch 9 Batch 700 Loss 0.0813\n",
            "Epoch 9 Batch 800 Loss 0.0457\n",
            "Epoch 9 Batch 900 Loss 0.0774\n",
            "Epoch 9 Batch 1000 Loss 0.0717\n",
            "Epoch 9 Batch 1100 Loss 0.0636\n",
            "Epoch 9 Batch 1200 Loss 0.0939\n",
            "Epoch 9 Loss 0.0611\n",
            "Time taken for 1 epoch 40.638787508010864 sec\n",
            "\n",
            "Epoch 10 Batch 0 Loss 0.0450\n",
            "Epoch 10 Batch 100 Loss 0.0634\n",
            "Epoch 10 Batch 200 Loss 0.0576\n",
            "Epoch 10 Batch 300 Loss 0.0527\n",
            "Epoch 10 Batch 400 Loss 0.0747\n",
            "Epoch 10 Batch 500 Loss 0.0516\n",
            "Epoch 10 Batch 600 Loss 0.0770\n",
            "Epoch 10 Batch 700 Loss 0.0521\n",
            "Epoch 10 Batch 800 Loss 0.0505\n",
            "Epoch 10 Batch 900 Loss 0.0519\n",
            "Epoch 10 Batch 1000 Loss 0.0389\n",
            "Epoch 10 Batch 1100 Loss 0.0748\n",
            "Epoch 10 Batch 1200 Loss 0.0553\n",
            "Epoch 10 Loss 0.0571\n",
            "Time taken for 1 epoch 41.27272844314575 sec\n",
            "\n",
            "Epoch 11 Batch 0 Loss 0.0513\n",
            "Epoch 11 Batch 100 Loss 0.0349\n",
            "Epoch 11 Batch 200 Loss 0.0738\n",
            "Epoch 11 Batch 300 Loss 0.0596\n",
            "Epoch 11 Batch 400 Loss 0.0714\n",
            "Epoch 11 Batch 500 Loss 0.0619\n",
            "Epoch 11 Batch 600 Loss 0.0930\n",
            "Epoch 11 Batch 700 Loss 0.0253\n",
            "Epoch 11 Batch 800 Loss 0.0802\n",
            "Epoch 11 Batch 900 Loss 0.0355\n",
            "Epoch 11 Batch 1000 Loss 0.0387\n",
            "Epoch 11 Batch 1100 Loss 0.0593\n",
            "Epoch 11 Batch 1200 Loss 0.0862\n",
            "Epoch 11 Loss 0.0549\n",
            "Time taken for 1 epoch 40.594523429870605 sec\n",
            "\n",
            "Epoch 12 Batch 0 Loss 0.0326\n",
            "Epoch 12 Batch 100 Loss 0.0543\n",
            "Epoch 12 Batch 200 Loss 0.0772\n",
            "Epoch 12 Batch 300 Loss 0.0470\n",
            "Epoch 12 Batch 400 Loss 0.0359\n",
            "Epoch 12 Batch 500 Loss 0.0933\n",
            "Epoch 12 Batch 600 Loss 0.0543\n",
            "Epoch 12 Batch 700 Loss 0.0334\n",
            "Epoch 12 Batch 800 Loss 0.0539\n",
            "Epoch 12 Batch 900 Loss 0.0367\n",
            "Epoch 12 Batch 1000 Loss 0.0844\n",
            "Epoch 12 Batch 1100 Loss 0.0306\n",
            "Epoch 12 Batch 1200 Loss 0.0673\n",
            "Epoch 12 Loss 0.0525\n",
            "Time taken for 1 epoch 41.821518421173096 sec\n",
            "\n",
            "Epoch 13 Batch 0 Loss 0.0479\n",
            "Epoch 13 Batch 100 Loss 0.0201\n",
            "Epoch 13 Batch 200 Loss 0.0531\n",
            "Epoch 13 Batch 300 Loss 0.0719\n",
            "Epoch 13 Batch 400 Loss 0.0576\n",
            "Epoch 13 Batch 500 Loss 0.0672\n",
            "Epoch 13 Batch 600 Loss 0.0444\n",
            "Epoch 13 Batch 700 Loss 0.0521\n",
            "Epoch 13 Batch 800 Loss 0.0653\n",
            "Epoch 13 Batch 900 Loss 0.0480\n",
            "Epoch 13 Batch 1000 Loss 0.0475\n",
            "Epoch 13 Batch 1100 Loss 0.0934\n",
            "Epoch 13 Batch 1200 Loss 0.0543\n",
            "Epoch 13 Loss 0.0513\n",
            "Time taken for 1 epoch 40.562528133392334 sec\n",
            "\n",
            "Epoch 14 Batch 0 Loss 0.0473\n",
            "Epoch 14 Batch 100 Loss 0.0393\n",
            "Epoch 14 Batch 200 Loss 0.0352\n",
            "Epoch 14 Batch 300 Loss 0.0369\n",
            "Epoch 14 Batch 400 Loss 0.0402\n",
            "Epoch 14 Batch 500 Loss 0.0764\n",
            "Epoch 14 Batch 600 Loss 0.0371\n",
            "Epoch 14 Batch 700 Loss 0.0402\n",
            "Epoch 14 Batch 800 Loss 0.0839\n",
            "Epoch 14 Batch 900 Loss 0.0471\n",
            "Epoch 14 Batch 1000 Loss 0.0739\n",
            "Epoch 14 Batch 1100 Loss 0.0812\n",
            "Epoch 14 Batch 1200 Loss 0.0480\n",
            "Epoch 14 Loss 0.0502\n",
            "Time taken for 1 epoch 41.219162702560425 sec\n",
            "\n",
            "Epoch 15 Batch 0 Loss 0.0404\n",
            "Epoch 15 Batch 100 Loss 0.0304\n",
            "Epoch 15 Batch 200 Loss 0.0251\n",
            "Epoch 15 Batch 300 Loss 0.0406\n",
            "Epoch 15 Batch 400 Loss 0.0602\n",
            "Epoch 15 Batch 500 Loss 0.0579\n",
            "Epoch 15 Batch 600 Loss 0.0523\n",
            "Epoch 15 Batch 700 Loss 0.0466\n",
            "Epoch 15 Batch 800 Loss 0.0759\n",
            "Epoch 15 Batch 900 Loss 0.0477\n",
            "Epoch 15 Batch 1000 Loss 0.0908\n",
            "Epoch 15 Batch 1100 Loss 0.0509\n",
            "Epoch 15 Batch 1200 Loss 0.0531\n",
            "Epoch 15 Loss 0.0488\n",
            "Time taken for 1 epoch 40.581114053726196 sec\n",
            "\n",
            "Epoch 16 Batch 0 Loss 0.0244\n",
            "Epoch 16 Batch 100 Loss 0.0420\n",
            "Epoch 16 Batch 200 Loss 0.0267\n",
            "Epoch 16 Batch 300 Loss 0.0585\n",
            "Epoch 16 Batch 400 Loss 0.0797\n",
            "Epoch 16 Batch 500 Loss 0.0532\n",
            "Epoch 16 Batch 600 Loss 0.0333\n",
            "Epoch 16 Batch 700 Loss 0.0522\n",
            "Epoch 16 Batch 800 Loss 0.0380\n",
            "Epoch 16 Batch 900 Loss 0.0600\n",
            "Epoch 16 Batch 1000 Loss 0.0463\n",
            "Epoch 16 Batch 1100 Loss 0.0834\n",
            "Epoch 16 Batch 1200 Loss 0.0534\n",
            "Epoch 16 Loss 0.0473\n",
            "Time taken for 1 epoch 41.203176736831665 sec\n",
            "\n",
            "Epoch 17 Batch 0 Loss 0.0373\n",
            "Epoch 17 Batch 100 Loss 0.0209\n",
            "Epoch 17 Batch 200 Loss 0.0568\n",
            "Epoch 17 Batch 300 Loss 0.0145\n",
            "Epoch 17 Batch 400 Loss 0.0210\n",
            "Epoch 17 Batch 500 Loss 0.0460\n",
            "Epoch 17 Batch 600 Loss 0.0543\n",
            "Epoch 17 Batch 700 Loss 0.0566\n",
            "Epoch 17 Batch 800 Loss 0.0688\n",
            "Epoch 17 Batch 900 Loss 0.0440\n",
            "Epoch 17 Batch 1000 Loss 0.0482\n",
            "Epoch 17 Batch 1100 Loss 0.0534\n",
            "Epoch 17 Batch 1200 Loss 0.0577\n",
            "Epoch 17 Loss 0.0463\n",
            "Time taken for 1 epoch 40.55875110626221 sec\n",
            "\n",
            "Epoch 18 Batch 0 Loss 0.0591\n",
            "Epoch 18 Batch 100 Loss 0.0593\n",
            "Epoch 18 Batch 200 Loss 0.0310\n",
            "Epoch 18 Batch 300 Loss 0.0591\n",
            "Epoch 18 Batch 400 Loss 0.0609\n",
            "Epoch 18 Batch 500 Loss 0.0190\n",
            "Epoch 18 Batch 600 Loss 0.0327\n",
            "Epoch 18 Batch 700 Loss 0.0326\n",
            "Epoch 18 Batch 800 Loss 0.0610\n",
            "Epoch 18 Batch 900 Loss 0.0182\n",
            "Epoch 18 Batch 1000 Loss 0.0413\n",
            "Epoch 18 Batch 1100 Loss 0.0648\n",
            "Epoch 18 Batch 1200 Loss 0.0356\n",
            "Epoch 18 Loss 0.0451\n",
            "Time taken for 1 epoch 41.58419919013977 sec\n",
            "\n",
            "Epoch 19 Batch 0 Loss 0.0179\n",
            "Epoch 19 Batch 100 Loss 0.0386\n",
            "Epoch 19 Batch 200 Loss 0.0510\n",
            "Epoch 19 Batch 300 Loss 0.0738\n",
            "Epoch 19 Batch 400 Loss 0.0259\n",
            "Epoch 19 Batch 500 Loss 0.0273\n",
            "Epoch 19 Batch 600 Loss 0.0610\n",
            "Epoch 19 Batch 700 Loss 0.0578\n",
            "Epoch 19 Batch 800 Loss 0.0221\n",
            "Epoch 19 Batch 900 Loss 0.0775\n",
            "Epoch 19 Batch 1000 Loss 0.0359\n",
            "Epoch 19 Batch 1100 Loss 0.0484\n",
            "Epoch 19 Batch 1200 Loss 0.0394\n",
            "Epoch 19 Loss 0.0446\n",
            "Time taken for 1 epoch 40.56908917427063 sec\n",
            "\n",
            "Epoch 20 Batch 0 Loss 0.0312\n",
            "Epoch 20 Batch 100 Loss 0.0397\n",
            "Epoch 20 Batch 200 Loss 0.0664\n",
            "Epoch 20 Batch 300 Loss 0.0474\n",
            "Epoch 20 Batch 400 Loss 0.0290\n",
            "Epoch 20 Batch 500 Loss 0.0497\n",
            "Epoch 20 Batch 600 Loss 0.0230\n",
            "Epoch 20 Batch 700 Loss 0.0761\n",
            "Epoch 20 Batch 800 Loss 0.0466\n",
            "Epoch 20 Batch 900 Loss 0.0401\n",
            "Epoch 20 Batch 1000 Loss 0.0415\n",
            "Epoch 20 Batch 1100 Loss 0.0791\n",
            "Epoch 20 Batch 1200 Loss 0.0614\n",
            "Epoch 20 Loss 0.0429\n",
            "Time taken for 1 epoch 41.17532420158386 sec\n",
            "\n",
            "Epoch 21 Batch 0 Loss 0.0210\n",
            "Epoch 21 Batch 100 Loss 0.0423\n",
            "Epoch 21 Batch 200 Loss 0.0261\n",
            "Epoch 21 Batch 300 Loss 0.0642\n",
            "Epoch 21 Batch 400 Loss 0.0451\n",
            "Epoch 21 Batch 500 Loss 0.0509\n",
            "Epoch 21 Batch 600 Loss 0.0313\n",
            "Epoch 21 Batch 700 Loss 0.0567\n",
            "Epoch 21 Batch 800 Loss 0.0253\n",
            "Epoch 21 Batch 900 Loss 0.0397\n",
            "Epoch 21 Batch 1000 Loss 0.0292\n",
            "Epoch 21 Batch 1100 Loss 0.0289\n",
            "Epoch 21 Batch 1200 Loss 0.0428\n",
            "Epoch 21 Loss 0.0421\n",
            "Time taken for 1 epoch 40.54649114608765 sec\n",
            "\n",
            "Epoch 22 Batch 0 Loss 0.0169\n",
            "Epoch 22 Batch 100 Loss 0.0364\n",
            "Epoch 22 Batch 200 Loss 0.0458\n",
            "Epoch 22 Batch 300 Loss 0.0209\n",
            "Epoch 22 Batch 400 Loss 0.0472\n",
            "Epoch 22 Batch 500 Loss 0.0483\n",
            "Epoch 22 Batch 600 Loss 0.0372\n",
            "Epoch 22 Batch 700 Loss 0.0382\n",
            "Epoch 22 Batch 800 Loss 0.0510\n",
            "Epoch 22 Batch 900 Loss 0.0493\n",
            "Epoch 22 Batch 1000 Loss 0.0265\n",
            "Epoch 22 Batch 1100 Loss 0.0412\n",
            "Epoch 22 Batch 1200 Loss 0.0631\n",
            "Epoch 22 Loss 0.0415\n",
            "Time taken for 1 epoch 42.170342206954956 sec\n",
            "\n",
            "Epoch 23 Batch 0 Loss 0.0539\n",
            "Epoch 23 Batch 100 Loss 0.0349\n",
            "Epoch 23 Batch 200 Loss 0.0557\n",
            "Epoch 23 Batch 300 Loss 0.0489\n",
            "Epoch 23 Batch 400 Loss 0.0240\n",
            "Epoch 23 Batch 500 Loss 0.0357\n",
            "Epoch 23 Batch 600 Loss 0.0359\n",
            "Epoch 23 Batch 700 Loss 0.0469\n",
            "Epoch 23 Batch 800 Loss 0.0279\n",
            "Epoch 23 Batch 900 Loss 0.0483\n",
            "Epoch 23 Batch 1000 Loss 0.0310\n",
            "Epoch 23 Batch 1100 Loss 0.0323\n",
            "Epoch 23 Batch 1200 Loss 0.0319\n",
            "Epoch 23 Loss 0.0410\n",
            "Time taken for 1 epoch 40.54201650619507 sec\n",
            "\n",
            "Epoch 24 Batch 0 Loss 0.0358\n",
            "Epoch 24 Batch 100 Loss 0.0194\n",
            "Epoch 24 Batch 200 Loss 0.0330\n",
            "Epoch 24 Batch 300 Loss 0.0633\n",
            "Epoch 24 Batch 400 Loss 0.0592\n",
            "Epoch 24 Batch 500 Loss 0.0469\n",
            "Epoch 24 Batch 600 Loss 0.0597\n",
            "Epoch 24 Batch 700 Loss 0.0443\n",
            "Epoch 24 Batch 800 Loss 0.0403\n",
            "Epoch 24 Batch 900 Loss 0.0327\n",
            "Epoch 24 Batch 1000 Loss 0.0529\n",
            "Epoch 24 Batch 1100 Loss 0.0219\n",
            "Epoch 24 Batch 1200 Loss 0.0455\n",
            "Epoch 24 Loss 0.0402\n",
            "Time taken for 1 epoch 41.16541051864624 sec\n",
            "\n",
            "Epoch 25 Batch 0 Loss 0.0259\n",
            "Epoch 25 Batch 100 Loss 0.0483\n",
            "Epoch 25 Batch 200 Loss 0.0402\n",
            "Epoch 25 Batch 300 Loss 0.0686\n",
            "Epoch 25 Batch 400 Loss 0.0405\n",
            "Epoch 25 Batch 500 Loss 0.0285\n",
            "Epoch 25 Batch 600 Loss 0.0402\n",
            "Epoch 25 Batch 700 Loss 0.0358\n",
            "Epoch 25 Batch 800 Loss 0.0608\n",
            "Epoch 25 Batch 900 Loss 0.0247\n",
            "Epoch 25 Batch 1000 Loss 0.0301\n",
            "Epoch 25 Batch 1100 Loss 0.0418\n",
            "Epoch 25 Batch 1200 Loss 0.0473\n",
            "Epoch 25 Loss 0.0392\n",
            "Time taken for 1 epoch 40.551647663116455 sec\n",
            "\n",
            "Epoch 26 Batch 0 Loss 0.0399\n",
            "Epoch 26 Batch 100 Loss 0.0526\n",
            "Epoch 26 Batch 200 Loss 0.0180\n",
            "Epoch 26 Batch 300 Loss 0.0335\n",
            "Epoch 26 Batch 400 Loss 0.0385\n",
            "Epoch 26 Batch 500 Loss 0.0264\n",
            "Epoch 26 Batch 600 Loss 0.0331\n",
            "Epoch 26 Batch 700 Loss 0.0824\n",
            "Epoch 26 Batch 800 Loss 0.0460\n",
            "Epoch 26 Batch 900 Loss 0.0246\n",
            "Epoch 26 Batch 1000 Loss 0.0386\n",
            "Epoch 26 Batch 1100 Loss 0.0489\n",
            "Epoch 26 Batch 1200 Loss 0.0505\n",
            "Epoch 26 Loss 0.0383\n",
            "Time taken for 1 epoch 41.17713689804077 sec\n",
            "\n",
            "Epoch 27 Batch 0 Loss 0.0517\n",
            "Epoch 27 Batch 100 Loss 0.0321\n",
            "Epoch 27 Batch 200 Loss 0.0404\n",
            "Epoch 27 Batch 300 Loss 0.0736\n",
            "Epoch 27 Batch 400 Loss 0.0327\n",
            "Epoch 27 Batch 500 Loss 0.0407\n",
            "Epoch 27 Batch 600 Loss 0.0265\n",
            "Epoch 27 Batch 700 Loss 0.0206\n",
            "Epoch 27 Batch 800 Loss 0.0471\n",
            "Epoch 27 Batch 900 Loss 0.0602\n",
            "Epoch 27 Batch 1000 Loss 0.0196\n",
            "Epoch 27 Batch 1100 Loss 0.0251\n",
            "Epoch 27 Batch 1200 Loss 0.0362\n",
            "Epoch 27 Loss 0.0381\n",
            "Time taken for 1 epoch 40.569610595703125 sec\n",
            "\n",
            "Epoch 28 Batch 0 Loss 0.0345\n",
            "Epoch 28 Batch 100 Loss 0.0200\n",
            "Epoch 28 Batch 200 Loss 0.0343\n",
            "Epoch 28 Batch 300 Loss 0.0499\n",
            "Epoch 28 Batch 400 Loss 0.0360\n",
            "Epoch 28 Batch 500 Loss 0.0436\n",
            "Epoch 28 Batch 600 Loss 0.0362\n",
            "Epoch 28 Batch 700 Loss 0.0237\n",
            "Epoch 28 Batch 800 Loss 0.0257\n",
            "Epoch 28 Batch 900 Loss 0.0236\n",
            "Epoch 28 Batch 1000 Loss 0.0657\n",
            "Epoch 28 Batch 1100 Loss 0.0419\n",
            "Epoch 28 Batch 1200 Loss 0.0243\n",
            "Epoch 28 Loss 0.0380\n",
            "Time taken for 1 epoch 42.115082025527954 sec\n",
            "\n",
            "Epoch 29 Batch 0 Loss 0.0142\n",
            "Epoch 29 Batch 100 Loss 0.0341\n",
            "Epoch 29 Batch 200 Loss 0.0196\n",
            "Epoch 29 Batch 300 Loss 0.0387\n",
            "Epoch 29 Batch 400 Loss 0.0215\n",
            "Epoch 29 Batch 500 Loss 0.0459\n",
            "Epoch 29 Batch 600 Loss 0.0344\n",
            "Epoch 29 Batch 700 Loss 0.0506\n",
            "Epoch 29 Batch 800 Loss 0.0301\n",
            "Epoch 29 Batch 900 Loss 0.0580\n",
            "Epoch 29 Batch 1000 Loss 0.0696\n",
            "Epoch 29 Batch 1100 Loss 0.0383\n",
            "Epoch 29 Batch 1200 Loss 0.0185\n",
            "Epoch 29 Loss 0.0371\n",
            "Time taken for 1 epoch 40.57131028175354 sec\n",
            "\n",
            "Epoch 30 Batch 0 Loss 0.0300\n",
            "Epoch 30 Batch 100 Loss 0.0461\n",
            "Epoch 30 Batch 200 Loss 0.0387\n",
            "Epoch 30 Batch 300 Loss 0.0538\n",
            "Epoch 30 Batch 400 Loss 0.0268\n",
            "Epoch 30 Batch 500 Loss 0.0206\n",
            "Epoch 30 Batch 600 Loss 0.0447\n",
            "Epoch 30 Batch 700 Loss 0.0414\n",
            "Epoch 30 Batch 800 Loss 0.0501\n",
            "Epoch 30 Batch 900 Loss 0.0354\n",
            "Epoch 30 Batch 1000 Loss 0.0270\n",
            "Epoch 30 Batch 1100 Loss 0.0184\n",
            "Epoch 30 Batch 1200 Loss 0.0326\n",
            "Epoch 30 Loss 0.0371\n",
            "Time taken for 1 epoch 41.24232244491577 sec\n",
            "\n",
            "Epoch 31 Batch 0 Loss 0.0384\n",
            "Epoch 31 Batch 100 Loss 0.0371\n",
            "Epoch 31 Batch 200 Loss 0.0246\n",
            "Epoch 31 Batch 300 Loss 0.0233\n",
            "Epoch 31 Batch 400 Loss 0.0394\n",
            "Epoch 31 Batch 500 Loss 0.0229\n",
            "Epoch 31 Batch 600 Loss 0.0152\n",
            "Epoch 31 Batch 700 Loss 0.0313\n",
            "Epoch 31 Batch 800 Loss 0.0348\n",
            "Epoch 31 Batch 900 Loss 0.0363\n",
            "Epoch 31 Batch 1000 Loss 0.0469\n",
            "Epoch 31 Batch 1100 Loss 0.0189\n",
            "Epoch 31 Batch 1200 Loss 0.0390\n",
            "Epoch 31 Loss 0.0364\n",
            "Time taken for 1 epoch 40.509021043777466 sec\n",
            "\n",
            "Epoch 32 Batch 0 Loss 0.0133\n",
            "Epoch 32 Batch 100 Loss 0.0106\n",
            "Epoch 32 Batch 200 Loss 0.0309\n",
            "Epoch 32 Batch 300 Loss 0.0450\n",
            "Epoch 32 Batch 400 Loss 0.0400\n",
            "Epoch 32 Batch 500 Loss 0.0241\n",
            "Epoch 32 Batch 600 Loss 0.0213\n",
            "Epoch 32 Batch 700 Loss 0.0431\n",
            "Epoch 32 Batch 800 Loss 0.0214\n",
            "Epoch 32 Batch 900 Loss 0.0261\n",
            "Epoch 32 Batch 1000 Loss 0.0453\n",
            "Epoch 32 Batch 1100 Loss 0.0344\n",
            "Epoch 32 Batch 1200 Loss 0.0295\n",
            "Epoch 32 Loss 0.0360\n",
            "Time taken for 1 epoch 41.20841455459595 sec\n",
            "\n",
            "Epoch 33 Batch 0 Loss 0.0320\n",
            "Epoch 33 Batch 100 Loss 0.0389\n",
            "Epoch 33 Batch 200 Loss 0.0265\n",
            "Epoch 33 Batch 300 Loss 0.0237\n",
            "Epoch 33 Batch 400 Loss 0.0351\n",
            "Epoch 33 Batch 500 Loss 0.0542\n",
            "Epoch 33 Batch 600 Loss 0.0309\n",
            "Epoch 33 Batch 700 Loss 0.0575\n",
            "Epoch 33 Batch 800 Loss 0.0495\n",
            "Epoch 33 Batch 900 Loss 0.0390\n",
            "Epoch 33 Batch 1000 Loss 0.0424\n",
            "Epoch 33 Batch 1100 Loss 0.0898\n",
            "Epoch 33 Batch 1200 Loss 0.0471\n",
            "Epoch 33 Loss 0.0356\n",
            "Time taken for 1 epoch 40.54180121421814 sec\n",
            "\n",
            "Epoch 34 Batch 0 Loss 0.0246\n",
            "Epoch 34 Batch 100 Loss 0.0387\n",
            "Epoch 34 Batch 200 Loss 0.0737\n",
            "Epoch 34 Batch 300 Loss 0.0213\n",
            "Epoch 34 Batch 400 Loss 0.0157\n",
            "Epoch 34 Batch 500 Loss 0.0261\n",
            "Epoch 34 Batch 600 Loss 0.0317\n",
            "Epoch 34 Batch 700 Loss 0.0254\n",
            "Epoch 34 Batch 800 Loss 0.0308\n",
            "Epoch 34 Batch 900 Loss 0.0476\n",
            "Epoch 34 Batch 1000 Loss 0.0511\n",
            "Epoch 34 Batch 1100 Loss 0.0655\n",
            "Epoch 34 Batch 1200 Loss 0.0404\n",
            "Epoch 34 Loss 0.0350\n",
            "Time taken for 1 epoch 41.81855130195618 sec\n",
            "\n",
            "Epoch 35 Batch 0 Loss 0.0464\n",
            "Epoch 35 Batch 100 Loss 0.0261\n",
            "Epoch 35 Batch 200 Loss 0.0216\n",
            "Epoch 35 Batch 300 Loss 0.0400\n",
            "Epoch 35 Batch 400 Loss 0.0331\n",
            "Epoch 35 Batch 500 Loss 0.0284\n",
            "Epoch 35 Batch 600 Loss 0.0178\n",
            "Epoch 35 Batch 700 Loss 0.0170\n",
            "Epoch 35 Batch 800 Loss 0.0506\n",
            "Epoch 35 Batch 900 Loss 0.0427\n",
            "Epoch 35 Batch 1000 Loss 0.0514\n",
            "Epoch 35 Batch 1100 Loss 0.0472\n",
            "Epoch 35 Batch 1200 Loss 0.0489\n",
            "Epoch 35 Loss 0.0349\n",
            "Time taken for 1 epoch 40.52659845352173 sec\n",
            "\n",
            "Epoch 36 Batch 0 Loss 0.0247\n",
            "Epoch 36 Batch 100 Loss 0.0260\n",
            "Epoch 36 Batch 200 Loss 0.0067\n",
            "Epoch 36 Batch 300 Loss 0.0183\n",
            "Epoch 36 Batch 400 Loss 0.0497\n",
            "Epoch 36 Batch 500 Loss 0.0193\n",
            "Epoch 36 Batch 600 Loss 0.0344\n",
            "Epoch 36 Batch 700 Loss 0.0377\n",
            "Epoch 36 Batch 800 Loss 0.0551\n",
            "Epoch 36 Batch 900 Loss 0.0299\n",
            "Epoch 36 Batch 1000 Loss 0.0344\n",
            "Epoch 36 Batch 1100 Loss 0.0442\n",
            "Epoch 36 Batch 1200 Loss 0.0687\n",
            "Epoch 36 Loss 0.0350\n",
            "Time taken for 1 epoch 41.18111801147461 sec\n",
            "\n",
            "Epoch 37 Batch 0 Loss 0.0289\n",
            "Epoch 37 Batch 100 Loss 0.0166\n",
            "Epoch 37 Batch 200 Loss 0.0355\n",
            "Epoch 37 Batch 300 Loss 0.0124\n",
            "Epoch 37 Batch 400 Loss 0.0309\n",
            "Epoch 37 Batch 500 Loss 0.0169\n",
            "Epoch 37 Batch 600 Loss 0.0560\n",
            "Epoch 37 Batch 700 Loss 0.0125\n",
            "Epoch 37 Batch 800 Loss 0.0478\n",
            "Epoch 37 Batch 900 Loss 0.0213\n",
            "Epoch 37 Batch 1000 Loss 0.0350\n",
            "Epoch 37 Batch 1100 Loss 0.0205\n",
            "Epoch 37 Batch 1200 Loss 0.0424\n",
            "Epoch 37 Loss 0.0338\n",
            "Time taken for 1 epoch 40.54192614555359 sec\n",
            "\n",
            "Epoch 38 Batch 0 Loss 0.0145\n",
            "Epoch 38 Batch 100 Loss 0.0327\n",
            "Epoch 38 Batch 200 Loss 0.0423\n",
            "Epoch 38 Batch 300 Loss 0.0504\n",
            "Epoch 38 Batch 400 Loss 0.0121\n",
            "Epoch 38 Batch 500 Loss 0.0322\n",
            "Epoch 38 Batch 600 Loss 0.0423\n",
            "Epoch 38 Batch 700 Loss 0.0227\n",
            "Epoch 38 Batch 800 Loss 0.0325\n",
            "Epoch 38 Batch 900 Loss 0.0444\n",
            "Epoch 38 Batch 1000 Loss 0.0213\n",
            "Epoch 38 Batch 1100 Loss 0.0232\n",
            "Epoch 38 Batch 1200 Loss 0.0388\n",
            "Epoch 38 Loss 0.0335\n",
            "Time taken for 1 epoch 41.10597586631775 sec\n",
            "\n",
            "Epoch 39 Batch 0 Loss 0.0363\n",
            "Epoch 39 Batch 100 Loss 0.0240\n",
            "Epoch 39 Batch 200 Loss 0.0264\n",
            "Epoch 39 Batch 300 Loss 0.0482\n",
            "Epoch 39 Batch 400 Loss 0.0411\n",
            "Epoch 39 Batch 500 Loss 0.0166\n",
            "Epoch 39 Batch 600 Loss 0.0724\n",
            "Epoch 39 Batch 700 Loss 0.0590\n",
            "Epoch 39 Batch 800 Loss 0.0175\n",
            "Epoch 39 Batch 900 Loss 0.0498\n",
            "Epoch 39 Batch 1000 Loss 0.0615\n",
            "Epoch 39 Batch 1100 Loss 0.0298\n",
            "Epoch 39 Batch 1200 Loss 0.0388\n",
            "Epoch 39 Loss 0.0342\n",
            "Time taken for 1 epoch 40.52145767211914 sec\n",
            "\n",
            "Epoch 40 Batch 0 Loss 0.0366\n",
            "Epoch 40 Batch 100 Loss 0.0279\n",
            "Epoch 40 Batch 200 Loss 0.0293\n",
            "Epoch 40 Batch 300 Loss 0.0285\n",
            "Epoch 40 Batch 400 Loss 0.0191\n",
            "Epoch 40 Batch 500 Loss 0.0240\n",
            "Epoch 40 Batch 600 Loss 0.0286\n",
            "Epoch 40 Batch 700 Loss 0.0477\n",
            "Epoch 40 Batch 800 Loss 0.0468\n",
            "Epoch 40 Batch 900 Loss 0.0441\n",
            "Epoch 40 Batch 1000 Loss 0.0350\n",
            "Epoch 40 Batch 1100 Loss 0.0554\n",
            "Epoch 40 Batch 1200 Loss 0.0504\n",
            "Epoch 40 Loss 0.0330\n",
            "Time taken for 1 epoch 41.170788288116455 sec\n",
            "\n",
            "Epoch 41 Batch 0 Loss 0.0178\n",
            "Epoch 41 Batch 100 Loss 0.0144\n",
            "Epoch 41 Batch 200 Loss 0.0399\n",
            "Epoch 41 Batch 300 Loss 0.0320\n",
            "Epoch 41 Batch 400 Loss 0.0131\n",
            "Epoch 41 Batch 500 Loss 0.0244\n",
            "Epoch 41 Batch 600 Loss 0.0221\n",
            "Epoch 41 Batch 700 Loss 0.0359\n",
            "Epoch 41 Batch 800 Loss 0.0299\n",
            "Epoch 41 Batch 900 Loss 0.0541\n",
            "Epoch 41 Batch 1000 Loss 0.0407\n",
            "Epoch 41 Batch 1100 Loss 0.0537\n",
            "Epoch 41 Batch 1200 Loss 0.0491\n",
            "Epoch 41 Loss 0.0334\n",
            "Time taken for 1 epoch 40.560823917388916 sec\n",
            "\n",
            "Epoch 42 Batch 0 Loss 0.0254\n",
            "Epoch 42 Batch 100 Loss 0.0157\n",
            "Epoch 42 Batch 200 Loss 0.0285\n",
            "Epoch 42 Batch 300 Loss 0.0372\n",
            "Epoch 42 Batch 400 Loss 0.0415\n",
            "Epoch 42 Batch 500 Loss 0.0217\n",
            "Epoch 42 Batch 600 Loss 0.0485\n",
            "Epoch 42 Batch 700 Loss 0.0237\n",
            "Epoch 42 Batch 800 Loss 0.0335\n",
            "Epoch 42 Batch 900 Loss 0.0273\n",
            "Epoch 42 Batch 1000 Loss 0.0302\n",
            "Epoch 42 Batch 1100 Loss 0.0337\n",
            "Epoch 42 Batch 1200 Loss 0.0371\n",
            "Epoch 42 Loss 0.0329\n",
            "Time taken for 1 epoch 41.10948181152344 sec\n",
            "\n",
            "Epoch 43 Batch 0 Loss 0.0388\n",
            "Epoch 43 Batch 100 Loss 0.0292\n",
            "Epoch 43 Batch 200 Loss 0.0218\n",
            "Epoch 43 Batch 300 Loss 0.0173\n",
            "Epoch 43 Batch 400 Loss 0.0305\n",
            "Epoch 43 Batch 500 Loss 0.0322\n",
            "Epoch 43 Batch 600 Loss 0.0432\n",
            "Epoch 43 Batch 700 Loss 0.0296\n",
            "Epoch 43 Batch 800 Loss 0.0260\n",
            "Epoch 43 Batch 900 Loss 0.0305\n",
            "Epoch 43 Batch 1000 Loss 0.0383\n",
            "Epoch 43 Batch 1100 Loss 0.0321\n",
            "Epoch 43 Batch 1200 Loss 0.0208\n",
            "Epoch 43 Loss 0.0332\n",
            "Time taken for 1 epoch 40.56681489944458 sec\n",
            "\n",
            "Epoch 44 Batch 0 Loss 0.0193\n",
            "Epoch 44 Batch 100 Loss 0.0330\n",
            "Epoch 44 Batch 200 Loss 0.0119\n",
            "Epoch 44 Batch 300 Loss 0.0197\n",
            "Epoch 44 Batch 400 Loss 0.0276\n",
            "Epoch 44 Batch 500 Loss 0.0528\n",
            "Epoch 44 Batch 600 Loss 0.0171\n",
            "Epoch 44 Batch 700 Loss 0.0314\n",
            "Epoch 44 Batch 800 Loss 0.0266\n",
            "Epoch 44 Batch 900 Loss 0.0216\n",
            "Epoch 44 Batch 1000 Loss 0.0361\n",
            "Epoch 44 Batch 1100 Loss 0.0464\n",
            "Epoch 44 Batch 1200 Loss 0.0494\n",
            "Epoch 44 Loss 0.0326\n",
            "Time taken for 1 epoch 41.83289361000061 sec\n",
            "\n",
            "Epoch 45 Batch 0 Loss 0.0156\n",
            "Epoch 45 Batch 100 Loss 0.0193\n",
            "Epoch 45 Batch 200 Loss 0.0393\n",
            "Epoch 45 Batch 300 Loss 0.0113\n",
            "Epoch 45 Batch 400 Loss 0.0415\n",
            "Epoch 45 Batch 500 Loss 0.0425\n",
            "Epoch 45 Batch 600 Loss 0.0228\n",
            "Epoch 45 Batch 700 Loss 0.0228\n",
            "Epoch 45 Batch 800 Loss 0.0416\n",
            "Epoch 45 Batch 900 Loss 0.0284\n",
            "Epoch 45 Batch 1000 Loss 0.0302\n",
            "Epoch 45 Batch 1100 Loss 0.0302\n",
            "Epoch 45 Batch 1200 Loss 0.0260\n",
            "Epoch 45 Loss 0.0321\n",
            "Time taken for 1 epoch 40.488162994384766 sec\n",
            "\n",
            "Epoch 46 Batch 0 Loss 0.0656\n",
            "Epoch 46 Batch 100 Loss 0.0222\n",
            "Epoch 46 Batch 200 Loss 0.0140\n",
            "Epoch 46 Batch 300 Loss 0.0172\n",
            "Epoch 46 Batch 400 Loss 0.0125\n",
            "Epoch 46 Batch 500 Loss 0.0439\n",
            "Epoch 46 Batch 600 Loss 0.0254\n",
            "Epoch 46 Batch 700 Loss 0.0308\n",
            "Epoch 46 Batch 800 Loss 0.0370\n",
            "Epoch 46 Batch 900 Loss 0.0265\n",
            "Epoch 46 Batch 1000 Loss 0.0253\n",
            "Epoch 46 Batch 1100 Loss 0.0393\n",
            "Epoch 46 Batch 1200 Loss 0.0353\n",
            "Epoch 46 Loss 0.0319\n",
            "Time taken for 1 epoch 41.08847117424011 sec\n",
            "\n",
            "Epoch 47 Batch 0 Loss 0.0170\n",
            "Epoch 47 Batch 100 Loss 0.0328\n",
            "Epoch 47 Batch 200 Loss 0.0460\n",
            "Epoch 47 Batch 300 Loss 0.0156\n",
            "Epoch 47 Batch 400 Loss 0.0241\n",
            "Epoch 47 Batch 500 Loss 0.0233\n",
            "Epoch 47 Batch 600 Loss 0.0110\n",
            "Epoch 47 Batch 700 Loss 0.0464\n",
            "Epoch 47 Batch 800 Loss 0.0502\n",
            "Epoch 47 Batch 900 Loss 0.0259\n",
            "Epoch 47 Batch 1000 Loss 0.0495\n",
            "Epoch 47 Batch 1100 Loss 0.0465\n",
            "Epoch 47 Batch 1200 Loss 0.0459\n",
            "Epoch 47 Loss 0.0321\n",
            "Time taken for 1 epoch 40.5425500869751 sec\n",
            "\n",
            "Epoch 48 Batch 0 Loss 0.0220\n",
            "Epoch 48 Batch 100 Loss 0.0182\n",
            "Epoch 48 Batch 200 Loss 0.0240\n",
            "Epoch 48 Batch 300 Loss 0.0126\n",
            "Epoch 48 Batch 400 Loss 0.0134\n",
            "Epoch 48 Batch 500 Loss 0.0325\n",
            "Epoch 48 Batch 600 Loss 0.0344\n",
            "Epoch 48 Batch 700 Loss 0.0231\n",
            "Epoch 48 Batch 800 Loss 0.0502\n",
            "Epoch 48 Batch 900 Loss 0.0270\n",
            "Epoch 48 Batch 1000 Loss 0.0376\n",
            "Epoch 48 Batch 1100 Loss 0.0232\n",
            "Epoch 48 Batch 1200 Loss 0.0294\n",
            "Epoch 48 Loss 0.0316\n",
            "Time taken for 1 epoch 41.25158429145813 sec\n",
            "\n",
            "Epoch 49 Batch 0 Loss 0.0442\n",
            "Epoch 49 Batch 100 Loss 0.0198\n",
            "Epoch 49 Batch 200 Loss 0.0254\n",
            "Epoch 49 Batch 300 Loss 0.0467\n",
            "Epoch 49 Batch 400 Loss 0.0390\n",
            "Epoch 49 Batch 500 Loss 0.0316\n",
            "Epoch 49 Batch 600 Loss 0.0386\n",
            "Epoch 49 Batch 700 Loss 0.0504\n",
            "Epoch 49 Batch 800 Loss 0.0329\n",
            "Epoch 49 Batch 900 Loss 0.0481\n",
            "Epoch 49 Batch 1000 Loss 0.0281\n",
            "Epoch 49 Batch 1100 Loss 0.0234\n",
            "Epoch 49 Batch 1200 Loss 0.0221\n",
            "Epoch 49 Loss 0.0316\n",
            "Time taken for 1 epoch 40.62800073623657 sec\n",
            "\n",
            "Epoch 50 Batch 0 Loss 0.0214\n",
            "Epoch 50 Batch 100 Loss 0.0255\n",
            "Epoch 50 Batch 200 Loss 0.0164\n",
            "Epoch 50 Batch 300 Loss 0.0196\n",
            "Epoch 50 Batch 400 Loss 0.0376\n",
            "Epoch 50 Batch 500 Loss 0.0179\n",
            "Epoch 50 Batch 600 Loss 0.0158\n",
            "Epoch 50 Batch 700 Loss 0.0474\n",
            "Epoch 50 Batch 800 Loss 0.0434\n",
            "Epoch 50 Batch 900 Loss 0.0188\n",
            "Epoch 50 Batch 1000 Loss 0.0177\n",
            "Epoch 50 Batch 1100 Loss 0.0184\n",
            "Epoch 50 Batch 1200 Loss 0.0410\n",
            "Epoch 50 Loss 0.0320\n",
            "Time taken for 1 epoch 41.566832065582275 sec\n",
            "\n"
          ]
        }
      ]
    },
    {
      "cell_type": "markdown",
      "metadata": {
        "id": "mU3Ce8M6I3rz"
      },
      "source": [
        "## Translate\n",
        "\n",
        "* The evaluate function is similar to the training loop, except we don't use *teacher forcing* here. The input to the decoder at each time step is its previous predictions along with the hidden state and the encoder output.\n",
        "* Stop predicting when the model predicts the *end token*.\n",
        "* And store the *attention weights for every time step*.\n",
        "\n",
        "Note: The encoder output is calculated only once for one input."
      ]
    },
    {
      "cell_type": "code",
      "metadata": {
        "id": "EbQpyYs13jF_"
      },
      "source": [
        "def evaluate(sentence):\n",
        "  attention_plot = np.zeros((max_length_targ, max_length_inp))\n",
        "\n",
        "  sentence = preprocess_sentence(sentence)\n",
        "\n",
        "  inputs = [inp_lang.word_index[i] for i in sentence.split(' ')]\n",
        "  inputs = tf.keras.preprocessing.sequence.pad_sequences([inputs],\n",
        "                                                         maxlen=max_length_inp,\n",
        "                                                         padding='post')\n",
        "  inputs = tf.convert_to_tensor(inputs)\n",
        "\n",
        "  result = ''\n",
        "\n",
        "  hidden = [tf.zeros((1, units))]\n",
        "  enc_hidden = encoder(inputs, hidden)\n",
        "\n",
        "  dec_hidden = enc_hidden\n",
        "  dec_input = tf.expand_dims([targ_lang.word_index['<start>']], 0)\n",
        "\n",
        "  for t in range(max_length_targ):\n",
        "    predictions, dec_hidden = decoder(dec_input, dec_hidden)\n",
        "\n",
        "    # storing the attention weights to plot later on\n",
        "    predicted_id = tf.argmax(predictions[0]).numpy()\n",
        "    result += targ_lang.index_word[predicted_id] + ' '\n",
        "\n",
        "    if targ_lang.index_word[predicted_id] == '<end>':\n",
        "      return result, sentence\n",
        "\n",
        "    # the predicted ID is fed back into the model\n",
        "    dec_input = tf.expand_dims([predicted_id], 0)\n",
        "\n",
        "  return result, sentence"
      ],
      "execution_count": 45,
      "outputs": []
    },
    {
      "cell_type": "code",
      "metadata": {
        "id": "sl9zUHzg3jGI"
      },
      "source": [
        "def translate(sentence):\n",
        "  result, sentence = evaluate(sentence)\n",
        "\n",
        "  print('Input: %s' % (sentence))\n",
        "  print('Predicted translation: {}'.format(result))"
      ],
      "execution_count": 46,
      "outputs": []
    },
    {
      "cell_type": "markdown",
      "metadata": {
        "id": "n250XbnjOaqP"
      },
      "source": [
        "## Restore the latest checkpoint and test"
      ]
    },
    {
      "cell_type": "code",
      "metadata": {
        "id": "UJpT9D5_OgP6",
        "colab": {
          "base_uri": "https://localhost:8080/"
        },
        "outputId": "9b53e455-749d-43da-abb4-a551cf11ad51"
      },
      "source": [
        "# restoring the latest checkpoint in checkpoint_dir\n",
        "checkpoint.restore(tf.train.latest_checkpoint(checkpoint_dir))"
      ],
      "execution_count": 47,
      "outputs": [
        {
          "output_type": "execute_result",
          "data": {
            "text/plain": [
              "<tensorflow.python.training.tracking.util.CheckpointLoadStatus at 0x7fbf026de310>"
            ]
          },
          "metadata": {},
          "execution_count": 47
        }
      ]
    },
    {
      "cell_type": "code",
      "metadata": {
        "id": "WrAM0FDomq3E",
        "colab": {
          "base_uri": "https://localhost:8080/"
        },
        "outputId": "aea9a43c-d2ea-49ce-bea2-8023d4d84b33"
      },
      "source": [
        "translate('E bello qui.')"
      ],
      "execution_count": 48,
      "outputs": [
        {
          "output_type": "stream",
          "name": "stdout",
          "text": [
            "Input: <start> bello qui . <end>\n",
            "Predicted translation: it's deep here . <end> \n"
          ]
        }
      ]
    },
    {
      "cell_type": "code",
      "metadata": {
        "id": "5bhFfwcIMX5i",
        "colab": {
          "base_uri": "https://localhost:8080/"
        },
        "outputId": "2e061543-adc9-4323-ce3a-a01e9bca0187"
      },
      "source": [
        "translate('Non posso andare.')"
      ],
      "execution_count": 51,
      "outputs": [
        {
          "output_type": "stream",
          "name": "stdout",
          "text": [
            "Input: <start> non posso andare . <end>\n",
            "Predicted translation: i can't go . <end> \n"
          ]
        }
      ]
    },
    {
      "cell_type": "code",
      "metadata": {
        "id": "zSx2iM36EZQZ",
        "colab": {
          "base_uri": "https://localhost:8080/"
        },
        "outputId": "224592d0-c1e4-4398-cb8c-9173a6ec0845"
      },
      "source": [
        "translate(u'Sei ancora a casa?')"
      ],
      "execution_count": 52,
      "outputs": [
        {
          "output_type": "stream",
          "name": "stdout",
          "text": [
            "Input: <start> sei ancora a casa ? <end>\n",
            "Predicted translation: are you still home ? <end> \n"
          ]
        }
      ]
    },
    {
      "cell_type": "code",
      "metadata": {
        "id": "DUQVLVqUE1YW",
        "colab": {
          "base_uri": "https://localhost:8080/"
        },
        "outputId": "e0718e4e-29b8-4d57-f989-80c30012665c"
      },
      "source": [
        "translate(u'Prova a farlo.')"
      ],
      "execution_count": 54,
      "outputs": [
        {
          "output_type": "stream",
          "name": "stdout",
          "text": [
            "Input: <start> prova a farlo . <end>\n",
            "Predicted translation: try and do that . <end> \n"
          ]
        }
      ]
    },
    {
      "cell_type": "code",
      "metadata": {
        "id": "f09_hUFx9EJh",
        "colab": {
          "base_uri": "https://localhost:8080/"
        },
        "outputId": "0110f6ea-d247-4ad5-b474-ada40ca97778"
      },
      "source": [
        "translate(u'Amo quando nevica.')"
      ],
      "execution_count": 55,
      "outputs": [
        {
          "output_type": "stream",
          "name": "stdout",
          "text": [
            "Input: <start> amo quando nevica . <end>\n",
            "Predicted translation: i love both of mine . <end> \n"
          ]
        }
      ]
    },
    {
      "cell_type": "code",
      "metadata": {
        "id": "e7c5p8rmkHQG",
        "colab": {
          "base_uri": "https://localhost:8080/"
        },
        "outputId": "0e905c79-963f-4299-ac15-74142d885d51"
      },
      "source": [
        "translate(u'Non lo faccio mai.')"
      ],
      "execution_count": 56,
      "outputs": [
        {
          "output_type": "stream",
          "name": "stdout",
          "text": [
            "Input: <start> non lo faccio mai . <end>\n",
            "Predicted translation: i don't do that . <end> \n"
          ]
        }
      ]
    },
    {
      "cell_type": "markdown",
      "source": [
        "# с вниманием"
      ],
      "metadata": {
        "id": "fl2tJaTYsS2K"
      }
    },
    {
      "cell_type": "markdown",
      "metadata": {
        "id": "J0Qjg6vuaHNt"
      },
      "source": [
        "# Neural machine translation with attention"
      ]
    },
    {
      "cell_type": "markdown",
      "metadata": {
        "id": "G73NOs2QsV9N"
      },
      "source": [
        "### Create a tf.data dataset"
      ]
    },
    {
      "cell_type": "code",
      "metadata": {
        "id": "TMIZ4Y8BsV9N"
      },
      "source": [
        "BUFFER_SIZE = len(input_tensor_train)\n",
        "BATCH_SIZE = 64\n",
        "steps_per_epoch = len(input_tensor_train)//BATCH_SIZE\n",
        "embedding_dim = 256\n",
        "units = 1024\n",
        "vocab_inp_size = len(inp_lang.word_index)+1\n",
        "vocab_tar_size = len(targ_lang.word_index)+1\n",
        "\n",
        "dataset = tf.data.Dataset.from_tensor_slices((input_tensor_train, target_tensor_train)).shuffle(BUFFER_SIZE)\n",
        "dataset = dataset.batch(BATCH_SIZE, drop_remainder=True)"
      ],
      "execution_count": 58,
      "outputs": []
    },
    {
      "cell_type": "code",
      "metadata": {
        "colab": {
          "base_uri": "https://localhost:8080/"
        },
        "outputId": "d1073e3d-94f3-4645-9e7d-0c5d32d19fb2",
        "id": "sxM3sNvmsV9O"
      },
      "source": [
        "example_input_batch, example_target_batch = next(iter(dataset))\n",
        "example_input_batch.shape, example_target_batch.shape"
      ],
      "execution_count": 59,
      "outputs": [
        {
          "output_type": "execute_result",
          "data": {
            "text/plain": [
              "(TensorShape([64, 20]), TensorShape([64, 11]))"
            ]
          },
          "metadata": {},
          "execution_count": 59
        }
      ]
    },
    {
      "cell_type": "code",
      "metadata": {
        "id": "LnS2867msV9O"
      },
      "source": [
        "class Encoder(tf.keras.Model):\n",
        "  def __init__(self, vocab_size, embedding_dim, enc_units, batch_sz):\n",
        "    super(Encoder, self).__init__()\n",
        "    self.batch_sz = batch_sz\n",
        "    self.enc_units = enc_units\n",
        "    self.embedding = tf.keras.layers.Embedding(vocab_size, embedding_dim)\n",
        "    self.gru = tf.keras.layers.GRU(self.enc_units,\n",
        "                                   return_sequences=True,\n",
        "                                   return_state=True,\n",
        "                                   recurrent_initializer='glorot_uniform')\n",
        "\n",
        "  def call(self, x, hidden):\n",
        "    x = self.embedding(x)\n",
        "    output, state = self.gru(x, initial_state = hidden)\n",
        "    return output, state\n",
        "\n",
        "  def initialize_hidden_state(self):\n",
        "    return tf.zeros((self.batch_sz, self.enc_units))"
      ],
      "execution_count": 60,
      "outputs": []
    },
    {
      "cell_type": "code",
      "metadata": {
        "colab": {
          "base_uri": "https://localhost:8080/"
        },
        "outputId": "2d3f7ba3-d098-47f9-9db9-651658cf248e",
        "id": "T1Aj75AisV9O"
      },
      "source": [
        "encoder = Encoder(vocab_inp_size, embedding_dim, units, BATCH_SIZE)\n",
        "\n",
        "# sample input\n",
        "sample_hidden = encoder.initialize_hidden_state()\n",
        "sample_output, sample_hidden = encoder(example_input_batch, sample_hidden)\n",
        "print ('Encoder output shape: (batch size, sequence length, units) {}'.format(sample_output.shape))\n",
        "print ('Encoder Hidden state shape: (batch size, units) {}'.format(sample_hidden.shape))"
      ],
      "execution_count": 61,
      "outputs": [
        {
          "output_type": "stream",
          "name": "stdout",
          "text": [
            "Encoder output shape: (batch size, sequence length, units) (64, 20, 1024)\n",
            "Encoder Hidden state shape: (batch size, units) (64, 1024)\n"
          ]
        }
      ]
    },
    {
      "cell_type": "code",
      "metadata": {
        "id": "YTyhL28Niqk1"
      },
      "source": [
        "class BahdanauAttention(tf.keras.layers.Layer):\n",
        "  def __init__(self, units):\n",
        "    super(BahdanauAttention, self).__init__()\n",
        "    self.W1 = tf.keras.layers.Dense(units)\n",
        "    self.W2 = tf.keras.layers.Dense(units)\n",
        "    self.V = tf.keras.layers.Dense(1)\n",
        "\n",
        "  def call(self, query, values):\n",
        "    # query hidden state shape == (batch_size, hidden size)\n",
        "    # query_with_time_axis shape == (batch_size, 1, hidden size)\n",
        "    # values shape == (batch_size, max_len, hidden size)\n",
        "    # we are doing this to broadcast addition along the time axis to calculate the score\n",
        "    query_with_time_axis = tf.expand_dims(query, 1)\n",
        "\n",
        "    # score shape == (batch_size, max_length, 1)\n",
        "    # we get 1 at the last axis because we are applying score to self.V\n",
        "    # the shape of the tensor before applying self.V is (batch_size, max_length, units)\n",
        "    score = self.V(tf.nn.tanh(\n",
        "        self.W1(query_with_time_axis) + self.W2(values)))\n",
        "\n",
        "    # attention_weights shape == (batch_size, max_length, 1)\n",
        "    attention_weights = tf.nn.softmax(score, axis=1)\n",
        "\n",
        "    # context_vector shape after sum == (batch_size, hidden_size)\n",
        "    context_vector = attention_weights * values\n",
        "    context_vector = tf.reduce_sum(context_vector, axis=1)\n",
        "\n",
        "    return context_vector, attention_weights"
      ],
      "execution_count": 62,
      "outputs": []
    },
    {
      "cell_type": "code",
      "metadata": {
        "colab": {
          "base_uri": "https://localhost:8080/"
        },
        "id": "XUqssWcci1XJ",
        "outputId": "f0c66ad0-8951-477a-9d81-d1aebf7ff763"
      },
      "source": [
        "attention_layer = BahdanauAttention(10)\n",
        "attention_result, attention_weights = attention_layer(sample_hidden, sample_output)\n",
        "\n",
        "print(\"Attention result shape: (batch size, units) {}\".format(attention_result.shape))\n",
        "print(\"Attention weights shape: (batch_size, sequence_length, 1) {}\".format(attention_weights.shape))"
      ],
      "execution_count": 63,
      "outputs": [
        {
          "output_type": "stream",
          "name": "stdout",
          "text": [
            "Attention result shape: (batch size, units) (64, 1024)\n",
            "Attention weights shape: (batch_size, sequence_length, 1) (64, 20, 1)\n"
          ]
        }
      ]
    },
    {
      "cell_type": "code",
      "metadata": {
        "id": "pNrYYLZWsV9P"
      },
      "source": [
        "class Decoder(tf.keras.Model):\n",
        "  def __init__(self, vocab_size, embedding_dim, dec_units, batch_sz):\n",
        "    super(Decoder, self).__init__()\n",
        "    self.batch_sz = batch_sz\n",
        "    self.dec_units = dec_units\n",
        "    self.embedding = tf.keras.layers.Embedding(vocab_size, embedding_dim)\n",
        "    self.gru = tf.keras.layers.GRU(self.dec_units,\n",
        "                                   return_sequences=True,\n",
        "                                   return_state=True,\n",
        "                                   recurrent_initializer='glorot_uniform')\n",
        "    self.fc = tf.keras.layers.Dense(vocab_size)\n",
        "\n",
        "    # used for attention\n",
        "    self.attention = BahdanauAttention(self.dec_units)\n",
        "\n",
        "  def call(self, x, hidden, enc_output):\n",
        "    # enc_output shape == (batch_size, max_length, hidden_size)\n",
        "    context_vector, attention_weights = self.attention(hidden, enc_output)\n",
        "\n",
        "    # x shape after passing through embedding == (batch_size, 1, embedding_dim)\n",
        "    x = self.embedding(x)\n",
        "\n",
        "    # x shape after concatenation == (batch_size, 1, embedding_dim + hidden_size)\n",
        "    x = tf.concat([tf.expand_dims(context_vector, 1), x], axis=-1)\n",
        "\n",
        "    # passing the concatenated vector to the GRU\n",
        "    output, state = self.gru(x)\n",
        "\n",
        "    # output shape == (batch_size * 1, hidden_size)\n",
        "    output = tf.reshape(output, (-1, output.shape[2]))\n",
        "\n",
        "    # output shape == (batch_size, vocab)\n",
        "    x = self.fc(output)\n",
        "\n",
        "    return x, state, attention_weights"
      ],
      "execution_count": 64,
      "outputs": []
    },
    {
      "cell_type": "code",
      "metadata": {
        "colab": {
          "base_uri": "https://localhost:8080/"
        },
        "outputId": "581b9bd0-99b3-43bd-fe29-343f165d1e99",
        "id": "YKMN_wggsV9P"
      },
      "source": [
        "decoder = Decoder(vocab_tar_size, embedding_dim, units, BATCH_SIZE)\n",
        "\n",
        "sample_decoder_output, _, _ = decoder(tf.random.uniform((BATCH_SIZE, 1)),\n",
        "                                      sample_hidden, sample_output)\n",
        "\n",
        "print ('Decoder output shape: (batch_size, vocab size) {}'.format(sample_decoder_output.shape))"
      ],
      "execution_count": 65,
      "outputs": [
        {
          "output_type": "stream",
          "name": "stdout",
          "text": [
            "Decoder output shape: (batch_size, vocab size) (64, 6453)\n"
          ]
        }
      ]
    },
    {
      "cell_type": "markdown",
      "metadata": {
        "id": "pS92efSosV9P"
      },
      "source": [
        "## Define the optimizer and the loss function"
      ]
    },
    {
      "cell_type": "code",
      "metadata": {
        "id": "PnIBikxRsV9Q"
      },
      "source": [
        "optimizer = tf.keras.optimizers.Adam()\n",
        "loss_object = tf.keras.losses.SparseCategoricalCrossentropy(\n",
        "    from_logits=True, reduction='none')\n",
        "\n",
        "def loss_function(real, pred):\n",
        "  mask = tf.math.logical_not(tf.math.equal(real, 0))\n",
        "  loss_ = loss_object(real, pred)\n",
        "\n",
        "  mask = tf.cast(mask, dtype=loss_.dtype)\n",
        "  loss_ *= mask\n",
        "\n",
        "  return tf.reduce_mean(loss_)"
      ],
      "execution_count": 66,
      "outputs": []
    },
    {
      "cell_type": "markdown",
      "metadata": {
        "id": "xICYpOZ0sV9Q"
      },
      "source": [
        "## Checkpoints (Object-based saving)"
      ]
    },
    {
      "cell_type": "code",
      "metadata": {
        "id": "-1Eyj3f6sV9Q"
      },
      "source": [
        "checkpoint_dir = './training_attention_checkpoints'\n",
        "checkpoint_prefix = os.path.join(checkpoint_dir, \"ckpt\")\n",
        "checkpoint = tf.train.Checkpoint(optimizer=optimizer,\n",
        "                                 encoder=encoder,\n",
        "                                 decoder=decoder)"
      ],
      "execution_count": 67,
      "outputs": []
    },
    {
      "cell_type": "code",
      "metadata": {
        "id": "hPqyi6N1sV9Q"
      },
      "source": [
        "@tf.function\n",
        "def train_step(inp, targ, enc_hidden):\n",
        "  loss = 0\n",
        "\n",
        "  with tf.GradientTape() as tape:\n",
        "    enc_output, enc_hidden = encoder(inp, enc_hidden)\n",
        "\n",
        "    dec_hidden = enc_hidden\n",
        "\n",
        "    dec_input = tf.expand_dims([targ_lang.word_index['<start>']] * BATCH_SIZE, 1)\n",
        "\n",
        "    # Teacher forcing - feeding the target as the next input\n",
        "    for t in range(1, targ.shape[1]):\n",
        "      # passing enc_output to the decoder\n",
        "      predictions, dec_hidden, _ = decoder(dec_input, dec_hidden, enc_output)\n",
        "\n",
        "      loss += loss_function(targ[:, t], predictions)\n",
        "\n",
        "      # using teacher forcing\n",
        "      dec_input = tf.expand_dims(targ[:, t], 1)\n",
        "\n",
        "  batch_loss = (loss / int(targ.shape[1]))\n",
        "\n",
        "  variables = encoder.trainable_variables + decoder.trainable_variables\n",
        "\n",
        "  gradients = tape.gradient(loss, variables)\n",
        "\n",
        "  optimizer.apply_gradients(zip(gradients, variables))\n",
        "\n",
        "  return batch_loss"
      ],
      "execution_count": 68,
      "outputs": []
    },
    {
      "cell_type": "code",
      "metadata": {
        "colab": {
          "base_uri": "https://localhost:8080/"
        },
        "outputId": "212f2ddd-fa2e-492b-fd46-47dc9aee231c",
        "id": "0UsGZKSrsV9Q"
      },
      "source": [
        "EPOCHS = 50\n",
        "\n",
        "for epoch in range(EPOCHS):\n",
        "  start = time.time()\n",
        "\n",
        "  enc_hidden = encoder.initialize_hidden_state()\n",
        "  total_loss = 0\n",
        "\n",
        "  for (batch, (inp, targ)) in enumerate(dataset.take(steps_per_epoch)):\n",
        "    batch_loss = train_step(inp, targ, enc_hidden)\n",
        "    total_loss += batch_loss\n",
        "\n",
        "    if batch % 100 == 0:\n",
        "      print('Epoch {} Batch {} Loss {:.4f}'.format(epoch + 1,\n",
        "                                                   batch,\n",
        "                                                   batch_loss.numpy()))\n",
        "  # saving (checkpoint) the model every 2 epochs\n",
        "  if (epoch + 1) % 2 == 0:\n",
        "    checkpoint.save(file_prefix = checkpoint_prefix)\n",
        "\n",
        "  print('Epoch {} Loss {:.4f}'.format(epoch + 1,\n",
        "                                      total_loss / steps_per_epoch))\n",
        "  print('Time taken for 1 epoch {} sec\\n'.format(time.time() - start))"
      ],
      "execution_count": 69,
      "outputs": [
        {
          "output_type": "stream",
          "name": "stdout",
          "text": [
            "Epoch 1 Batch 0 Loss 4.6106\n",
            "Epoch 1 Batch 100 Loss 2.0432\n",
            "Epoch 1 Batch 200 Loss 1.8760\n",
            "Epoch 1 Batch 300 Loss 1.8187\n",
            "Epoch 1 Batch 400 Loss 1.5922\n",
            "Epoch 1 Batch 500 Loss 1.4215\n",
            "Epoch 1 Batch 600 Loss 1.2730\n",
            "Epoch 1 Batch 700 Loss 1.3865\n",
            "Epoch 1 Batch 800 Loss 1.3185\n",
            "Epoch 1 Batch 900 Loss 1.2768\n",
            "Epoch 1 Batch 1000 Loss 1.1273\n",
            "Epoch 1 Batch 1100 Loss 1.1719\n",
            "Epoch 1 Batch 1200 Loss 0.8988\n",
            "Epoch 1 Loss 1.4920\n",
            "Time taken for 1 epoch 90.89861822128296 sec\n",
            "\n",
            "Epoch 2 Batch 0 Loss 0.9978\n",
            "Epoch 2 Batch 100 Loss 0.8694\n",
            "Epoch 2 Batch 200 Loss 0.8234\n",
            "Epoch 2 Batch 300 Loss 0.8853\n",
            "Epoch 2 Batch 400 Loss 0.8423\n",
            "Epoch 2 Batch 500 Loss 0.7826\n",
            "Epoch 2 Batch 600 Loss 0.8133\n",
            "Epoch 2 Batch 700 Loss 0.7473\n",
            "Epoch 2 Batch 800 Loss 0.6166\n",
            "Epoch 2 Batch 900 Loss 0.6385\n",
            "Epoch 2 Batch 1000 Loss 0.5251\n",
            "Epoch 2 Batch 1100 Loss 0.5532\n",
            "Epoch 2 Batch 1200 Loss 0.5041\n",
            "Epoch 2 Loss 0.7222\n",
            "Time taken for 1 epoch 76.33919358253479 sec\n",
            "\n",
            "Epoch 3 Batch 0 Loss 0.3628\n",
            "Epoch 3 Batch 100 Loss 0.4208\n",
            "Epoch 3 Batch 200 Loss 0.4020\n",
            "Epoch 3 Batch 300 Loss 0.4594\n",
            "Epoch 3 Batch 400 Loss 0.3762\n",
            "Epoch 3 Batch 500 Loss 0.3244\n",
            "Epoch 3 Batch 600 Loss 0.3373\n",
            "Epoch 3 Batch 700 Loss 0.4302\n",
            "Epoch 3 Batch 800 Loss 0.3523\n",
            "Epoch 3 Batch 900 Loss 0.4256\n",
            "Epoch 3 Batch 1000 Loss 0.3692\n",
            "Epoch 3 Batch 1100 Loss 0.3686\n",
            "Epoch 3 Batch 1200 Loss 0.3264\n",
            "Epoch 3 Loss 0.3663\n",
            "Time taken for 1 epoch 75.92675304412842 sec\n",
            "\n",
            "Epoch 4 Batch 0 Loss 0.2108\n",
            "Epoch 4 Batch 100 Loss 0.2174\n",
            "Epoch 4 Batch 200 Loss 0.1636\n",
            "Epoch 4 Batch 300 Loss 0.2033\n",
            "Epoch 4 Batch 400 Loss 0.2450\n",
            "Epoch 4 Batch 500 Loss 0.2281\n",
            "Epoch 4 Batch 600 Loss 0.2193\n",
            "Epoch 4 Batch 700 Loss 0.1584\n",
            "Epoch 4 Batch 800 Loss 0.2045\n",
            "Epoch 4 Batch 900 Loss 0.1557\n",
            "Epoch 4 Batch 1000 Loss 0.3133\n",
            "Epoch 4 Batch 1100 Loss 0.2097\n",
            "Epoch 4 Batch 1200 Loss 0.1568\n",
            "Epoch 4 Loss 0.2023\n",
            "Time taken for 1 epoch 76.36207175254822 sec\n",
            "\n",
            "Epoch 5 Batch 0 Loss 0.1513\n",
            "Epoch 5 Batch 100 Loss 0.1000\n",
            "Epoch 5 Batch 200 Loss 0.1453\n",
            "Epoch 5 Batch 300 Loss 0.0812\n",
            "Epoch 5 Batch 400 Loss 0.1281\n",
            "Epoch 5 Batch 500 Loss 0.1172\n",
            "Epoch 5 Batch 600 Loss 0.1564\n",
            "Epoch 5 Batch 700 Loss 0.1677\n",
            "Epoch 5 Batch 800 Loss 0.1536\n",
            "Epoch 5 Batch 900 Loss 0.0919\n",
            "Epoch 5 Batch 1000 Loss 0.1648\n",
            "Epoch 5 Batch 1100 Loss 0.0843\n",
            "Epoch 5 Batch 1200 Loss 0.1707\n",
            "Epoch 5 Loss 0.1294\n",
            "Time taken for 1 epoch 75.9377977848053 sec\n",
            "\n",
            "Epoch 6 Batch 0 Loss 0.0905\n",
            "Epoch 6 Batch 100 Loss 0.1188\n",
            "Epoch 6 Batch 200 Loss 0.0838\n",
            "Epoch 6 Batch 300 Loss 0.0642\n",
            "Epoch 6 Batch 400 Loss 0.0881\n",
            "Epoch 6 Batch 500 Loss 0.1152\n",
            "Epoch 6 Batch 600 Loss 0.1314\n",
            "Epoch 6 Batch 700 Loss 0.0956\n",
            "Epoch 6 Batch 800 Loss 0.1058\n",
            "Epoch 6 Batch 900 Loss 0.0853\n",
            "Epoch 6 Batch 1000 Loss 0.1162\n",
            "Epoch 6 Batch 1100 Loss 0.1248\n",
            "Epoch 6 Batch 1200 Loss 0.0960\n",
            "Epoch 6 Loss 0.0950\n",
            "Time taken for 1 epoch 76.30967044830322 sec\n",
            "\n",
            "Epoch 7 Batch 0 Loss 0.0806\n",
            "Epoch 7 Batch 100 Loss 0.0528\n",
            "Epoch 7 Batch 200 Loss 0.0739\n",
            "Epoch 7 Batch 300 Loss 0.1141\n",
            "Epoch 7 Batch 400 Loss 0.0879\n",
            "Epoch 7 Batch 500 Loss 0.0885\n",
            "Epoch 7 Batch 600 Loss 0.0991\n",
            "Epoch 7 Batch 700 Loss 0.1102\n",
            "Epoch 7 Batch 800 Loss 0.0655\n",
            "Epoch 7 Batch 900 Loss 0.1134\n",
            "Epoch 7 Batch 1000 Loss 0.0812\n",
            "Epoch 7 Batch 1100 Loss 0.0914\n",
            "Epoch 7 Batch 1200 Loss 0.0663\n",
            "Epoch 7 Loss 0.0767\n",
            "Time taken for 1 epoch 75.8821907043457 sec\n",
            "\n",
            "Epoch 8 Batch 0 Loss 0.0420\n",
            "Epoch 8 Batch 100 Loss 0.0595\n",
            "Epoch 8 Batch 200 Loss 0.0598\n",
            "Epoch 8 Batch 300 Loss 0.0656\n",
            "Epoch 8 Batch 400 Loss 0.0655\n",
            "Epoch 8 Batch 500 Loss 0.0802\n",
            "Epoch 8 Batch 600 Loss 0.0445\n",
            "Epoch 8 Batch 700 Loss 0.0672\n",
            "Epoch 8 Batch 800 Loss 0.0626\n",
            "Epoch 8 Batch 900 Loss 0.0883\n",
            "Epoch 8 Batch 1000 Loss 0.0771\n",
            "Epoch 8 Batch 1100 Loss 0.0901\n",
            "Epoch 8 Batch 1200 Loss 0.0917\n",
            "Epoch 8 Loss 0.0663\n",
            "Time taken for 1 epoch 76.20671796798706 sec\n",
            "\n",
            "Epoch 9 Batch 0 Loss 0.0637\n",
            "Epoch 9 Batch 100 Loss 0.0323\n",
            "Epoch 9 Batch 200 Loss 0.0594\n",
            "Epoch 9 Batch 300 Loss 0.0378\n",
            "Epoch 9 Batch 400 Loss 0.0355\n",
            "Epoch 9 Batch 500 Loss 0.0586\n",
            "Epoch 9 Batch 600 Loss 0.0459\n",
            "Epoch 9 Batch 700 Loss 0.0559\n",
            "Epoch 9 Batch 800 Loss 0.0768\n",
            "Epoch 9 Batch 900 Loss 0.0692\n",
            "Epoch 9 Batch 1000 Loss 0.0586\n",
            "Epoch 9 Batch 1100 Loss 0.0725\n",
            "Epoch 9 Batch 1200 Loss 0.0783\n",
            "Epoch 9 Loss 0.0603\n",
            "Time taken for 1 epoch 81.91545152664185 sec\n",
            "\n",
            "Epoch 10 Batch 0 Loss 0.0365\n",
            "Epoch 10 Batch 100 Loss 0.0382\n",
            "Epoch 10 Batch 200 Loss 0.0448\n",
            "Epoch 10 Batch 300 Loss 0.0565\n",
            "Epoch 10 Batch 400 Loss 0.0439\n",
            "Epoch 10 Batch 500 Loss 0.0451\n",
            "Epoch 10 Batch 600 Loss 0.0571\n",
            "Epoch 10 Batch 700 Loss 0.0435\n",
            "Epoch 10 Batch 800 Loss 0.0948\n",
            "Epoch 10 Batch 900 Loss 0.0406\n",
            "Epoch 10 Batch 1000 Loss 0.0653\n",
            "Epoch 10 Batch 1100 Loss 0.0926\n",
            "Epoch 10 Batch 1200 Loss 0.0651\n",
            "Epoch 10 Loss 0.0561\n",
            "Time taken for 1 epoch 76.20145654678345 sec\n",
            "\n",
            "Epoch 11 Batch 0 Loss 0.0491\n",
            "Epoch 11 Batch 100 Loss 0.0586\n",
            "Epoch 11 Batch 200 Loss 0.0242\n",
            "Epoch 11 Batch 300 Loss 0.0684\n",
            "Epoch 11 Batch 400 Loss 0.0421\n",
            "Epoch 11 Batch 500 Loss 0.0394\n",
            "Epoch 11 Batch 600 Loss 0.0593\n",
            "Epoch 11 Batch 700 Loss 0.0527\n",
            "Epoch 11 Batch 800 Loss 0.0689\n",
            "Epoch 11 Batch 900 Loss 0.0676\n",
            "Epoch 11 Batch 1000 Loss 0.0648\n",
            "Epoch 11 Batch 1100 Loss 0.0432\n",
            "Epoch 11 Batch 1200 Loss 0.0722\n",
            "Epoch 11 Loss 0.0530\n",
            "Time taken for 1 epoch 75.72943067550659 sec\n",
            "\n",
            "Epoch 12 Batch 0 Loss 0.0291\n",
            "Epoch 12 Batch 100 Loss 0.0524\n",
            "Epoch 12 Batch 200 Loss 0.0523\n",
            "Epoch 12 Batch 300 Loss 0.0339\n",
            "Epoch 12 Batch 400 Loss 0.0236\n",
            "Epoch 12 Batch 500 Loss 0.0228\n",
            "Epoch 12 Batch 600 Loss 0.0485\n",
            "Epoch 12 Batch 700 Loss 0.0328\n",
            "Epoch 12 Batch 800 Loss 0.0565\n",
            "Epoch 12 Batch 900 Loss 0.0248\n",
            "Epoch 12 Batch 1000 Loss 0.0542\n",
            "Epoch 12 Batch 1100 Loss 0.0745\n",
            "Epoch 12 Batch 1200 Loss 0.0905\n",
            "Epoch 12 Loss 0.0502\n",
            "Time taken for 1 epoch 76.13344979286194 sec\n",
            "\n",
            "Epoch 13 Batch 0 Loss 0.0485\n",
            "Epoch 13 Batch 100 Loss 0.0426\n",
            "Epoch 13 Batch 200 Loss 0.0810\n",
            "Epoch 13 Batch 300 Loss 0.0566\n",
            "Epoch 13 Batch 400 Loss 0.0935\n",
            "Epoch 13 Batch 500 Loss 0.0368\n",
            "Epoch 13 Batch 600 Loss 0.0382\n",
            "Epoch 13 Batch 700 Loss 0.0767\n",
            "Epoch 13 Batch 800 Loss 0.0208\n",
            "Epoch 13 Batch 900 Loss 0.0564\n",
            "Epoch 13 Batch 1000 Loss 0.0750\n",
            "Epoch 13 Batch 1100 Loss 0.0626\n",
            "Epoch 13 Batch 1200 Loss 0.0592\n",
            "Epoch 13 Loss 0.0487\n",
            "Time taken for 1 epoch 75.7221896648407 sec\n",
            "\n",
            "Epoch 14 Batch 0 Loss 0.0381\n",
            "Epoch 14 Batch 100 Loss 0.0355\n",
            "Epoch 14 Batch 200 Loss 0.0505\n",
            "Epoch 14 Batch 300 Loss 0.0355\n",
            "Epoch 14 Batch 400 Loss 0.0361\n",
            "Epoch 14 Batch 500 Loss 0.0330\n",
            "Epoch 14 Batch 600 Loss 0.0559\n",
            "Epoch 14 Batch 700 Loss 0.0468\n",
            "Epoch 14 Batch 800 Loss 0.0597\n",
            "Epoch 14 Batch 900 Loss 0.0410\n",
            "Epoch 14 Batch 1000 Loss 0.0861\n",
            "Epoch 14 Batch 1100 Loss 0.0541\n",
            "Epoch 14 Batch 1200 Loss 0.0327\n",
            "Epoch 14 Loss 0.0466\n",
            "Time taken for 1 epoch 76.12157487869263 sec\n",
            "\n",
            "Epoch 15 Batch 0 Loss 0.0385\n",
            "Epoch 15 Batch 100 Loss 0.0250\n",
            "Epoch 15 Batch 200 Loss 0.0335\n",
            "Epoch 15 Batch 300 Loss 0.0384\n",
            "Epoch 15 Batch 400 Loss 0.0589\n",
            "Epoch 15 Batch 500 Loss 0.0400\n",
            "Epoch 15 Batch 600 Loss 0.0302\n",
            "Epoch 15 Batch 700 Loss 0.0496\n",
            "Epoch 15 Batch 800 Loss 0.0197\n",
            "Epoch 15 Batch 900 Loss 0.0354\n",
            "Epoch 15 Batch 1000 Loss 0.0578\n",
            "Epoch 15 Batch 1100 Loss 0.0491\n",
            "Epoch 15 Batch 1200 Loss 0.0647\n",
            "Epoch 15 Loss 0.0457\n",
            "Time taken for 1 epoch 75.71757411956787 sec\n",
            "\n",
            "Epoch 16 Batch 0 Loss 0.0275\n",
            "Epoch 16 Batch 100 Loss 0.0399\n",
            "Epoch 16 Batch 200 Loss 0.0450\n",
            "Epoch 16 Batch 300 Loss 0.0619\n",
            "Epoch 16 Batch 400 Loss 0.0266\n",
            "Epoch 16 Batch 500 Loss 0.0362\n",
            "Epoch 16 Batch 600 Loss 0.0494\n",
            "Epoch 16 Batch 700 Loss 0.0468\n",
            "Epoch 16 Batch 800 Loss 0.0669\n",
            "Epoch 16 Batch 900 Loss 0.0441\n",
            "Epoch 16 Batch 1000 Loss 0.0403\n",
            "Epoch 16 Batch 1100 Loss 0.0671\n",
            "Epoch 16 Batch 1200 Loss 0.0761\n",
            "Epoch 16 Loss 0.0446\n",
            "Time taken for 1 epoch 76.15676736831665 sec\n",
            "\n",
            "Epoch 17 Batch 0 Loss 0.0580\n",
            "Epoch 17 Batch 100 Loss 0.0301\n",
            "Epoch 17 Batch 200 Loss 0.0266\n",
            "Epoch 17 Batch 300 Loss 0.0407\n",
            "Epoch 17 Batch 400 Loss 0.0443\n",
            "Epoch 17 Batch 500 Loss 0.0691\n",
            "Epoch 17 Batch 600 Loss 0.0382\n",
            "Epoch 17 Batch 700 Loss 0.0516\n",
            "Epoch 17 Batch 800 Loss 0.0303\n",
            "Epoch 17 Batch 900 Loss 0.0130\n",
            "Epoch 17 Batch 1000 Loss 0.0689\n",
            "Epoch 17 Batch 1100 Loss 0.0426\n",
            "Epoch 17 Batch 1200 Loss 0.0442\n",
            "Epoch 17 Loss 0.0435\n",
            "Time taken for 1 epoch 75.85189890861511 sec\n",
            "\n",
            "Epoch 18 Batch 0 Loss 0.0401\n",
            "Epoch 18 Batch 100 Loss 0.0584\n",
            "Epoch 18 Batch 200 Loss 0.0230\n",
            "Epoch 18 Batch 300 Loss 0.0257\n",
            "Epoch 18 Batch 400 Loss 0.0153\n",
            "Epoch 18 Batch 500 Loss 0.0304\n",
            "Epoch 18 Batch 600 Loss 0.0460\n",
            "Epoch 18 Batch 700 Loss 0.0463\n",
            "Epoch 18 Batch 800 Loss 0.0657\n",
            "Epoch 18 Batch 900 Loss 0.0292\n",
            "Epoch 18 Batch 1000 Loss 0.0416\n",
            "Epoch 18 Batch 1100 Loss 0.0768\n",
            "Epoch 18 Batch 1200 Loss 0.0528\n",
            "Epoch 18 Loss 0.0427\n",
            "Time taken for 1 epoch 76.32562589645386 sec\n",
            "\n",
            "Epoch 19 Batch 0 Loss 0.0414\n",
            "Epoch 19 Batch 100 Loss 0.0224\n",
            "Epoch 19 Batch 200 Loss 0.0387\n",
            "Epoch 19 Batch 300 Loss 0.0426\n",
            "Epoch 19 Batch 400 Loss 0.0729\n",
            "Epoch 19 Batch 500 Loss 0.0226\n",
            "Epoch 19 Batch 600 Loss 0.0619\n",
            "Epoch 19 Batch 700 Loss 0.0430\n",
            "Epoch 19 Batch 800 Loss 0.0392\n",
            "Epoch 19 Batch 900 Loss 0.0496\n",
            "Epoch 19 Batch 1000 Loss 0.0324\n",
            "Epoch 19 Batch 1100 Loss 0.0358\n",
            "Epoch 19 Batch 1200 Loss 0.0471\n",
            "Epoch 19 Loss 0.0415\n",
            "Time taken for 1 epoch 75.88089656829834 sec\n",
            "\n",
            "Epoch 20 Batch 0 Loss 0.0182\n",
            "Epoch 20 Batch 100 Loss 0.0311\n",
            "Epoch 20 Batch 200 Loss 0.0400\n",
            "Epoch 20 Batch 300 Loss 0.0383\n",
            "Epoch 20 Batch 400 Loss 0.0410\n",
            "Epoch 20 Batch 500 Loss 0.0268\n",
            "Epoch 20 Batch 600 Loss 0.0615\n",
            "Epoch 20 Batch 700 Loss 0.0478\n",
            "Epoch 20 Batch 800 Loss 0.0378\n",
            "Epoch 20 Batch 900 Loss 0.0211\n",
            "Epoch 20 Batch 1000 Loss 0.0227\n",
            "Epoch 20 Batch 1100 Loss 0.0222\n",
            "Epoch 20 Batch 1200 Loss 0.0560\n",
            "Epoch 20 Loss 0.0401\n",
            "Time taken for 1 epoch 76.32860350608826 sec\n",
            "\n",
            "Epoch 21 Batch 0 Loss 0.0296\n",
            "Epoch 21 Batch 100 Loss 0.0234\n",
            "Epoch 21 Batch 200 Loss 0.0605\n",
            "Epoch 21 Batch 300 Loss 0.0164\n",
            "Epoch 21 Batch 400 Loss 0.0248\n",
            "Epoch 21 Batch 500 Loss 0.0574\n",
            "Epoch 21 Batch 600 Loss 0.0300\n",
            "Epoch 21 Batch 700 Loss 0.0274\n",
            "Epoch 21 Batch 800 Loss 0.0397\n",
            "Epoch 21 Batch 900 Loss 0.0297\n",
            "Epoch 21 Batch 1000 Loss 0.0291\n",
            "Epoch 21 Batch 1100 Loss 0.0861\n",
            "Epoch 21 Batch 1200 Loss 0.0259\n",
            "Epoch 21 Loss 0.0405\n",
            "Time taken for 1 epoch 75.82953953742981 sec\n",
            "\n",
            "Epoch 22 Batch 0 Loss 0.0275\n",
            "Epoch 22 Batch 100 Loss 0.0408\n",
            "Epoch 22 Batch 200 Loss 0.0410\n",
            "Epoch 22 Batch 300 Loss 0.0248\n",
            "Epoch 22 Batch 400 Loss 0.0375\n",
            "Epoch 22 Batch 500 Loss 0.0415\n",
            "Epoch 22 Batch 600 Loss 0.0394\n",
            "Epoch 22 Batch 700 Loss 0.0366\n",
            "Epoch 22 Batch 800 Loss 0.0499\n",
            "Epoch 22 Batch 900 Loss 0.0237\n",
            "Epoch 22 Batch 1000 Loss 0.0185\n",
            "Epoch 22 Batch 1100 Loss 0.0297\n",
            "Epoch 22 Batch 1200 Loss 0.0399\n",
            "Epoch 22 Loss 0.0394\n",
            "Time taken for 1 epoch 76.25151371955872 sec\n",
            "\n",
            "Epoch 23 Batch 0 Loss 0.0340\n",
            "Epoch 23 Batch 100 Loss 0.0464\n",
            "Epoch 23 Batch 200 Loss 0.0306\n",
            "Epoch 23 Batch 300 Loss 0.0173\n",
            "Epoch 23 Batch 400 Loss 0.0444\n",
            "Epoch 23 Batch 500 Loss 0.0303\n",
            "Epoch 23 Batch 600 Loss 0.0324\n",
            "Epoch 23 Batch 700 Loss 0.0580\n",
            "Epoch 23 Batch 800 Loss 0.0437\n",
            "Epoch 23 Batch 900 Loss 0.0248\n",
            "Epoch 23 Batch 1000 Loss 0.0679\n",
            "Epoch 23 Batch 1100 Loss 0.0540\n",
            "Epoch 23 Batch 1200 Loss 0.0463\n",
            "Epoch 23 Loss 0.0383\n",
            "Time taken for 1 epoch 76.01881814002991 sec\n",
            "\n",
            "Epoch 24 Batch 0 Loss 0.0150\n",
            "Epoch 24 Batch 100 Loss 0.0301\n",
            "Epoch 24 Batch 200 Loss 0.0254\n",
            "Epoch 24 Batch 300 Loss 0.0378\n",
            "Epoch 24 Batch 400 Loss 0.0333\n",
            "Epoch 24 Batch 500 Loss 0.0681\n",
            "Epoch 24 Batch 600 Loss 0.0307\n",
            "Epoch 24 Batch 700 Loss 0.0224\n",
            "Epoch 24 Batch 800 Loss 0.0324\n",
            "Epoch 24 Batch 900 Loss 0.0423\n",
            "Epoch 24 Batch 1000 Loss 0.0370\n",
            "Epoch 24 Batch 1100 Loss 0.0565\n",
            "Epoch 24 Batch 1200 Loss 0.0433\n",
            "Epoch 24 Loss 0.0382\n",
            "Time taken for 1 epoch 76.43538212776184 sec\n",
            "\n",
            "Epoch 25 Batch 0 Loss 0.0306\n",
            "Epoch 25 Batch 100 Loss 0.0150\n",
            "Epoch 25 Batch 200 Loss 0.0383\n",
            "Epoch 25 Batch 300 Loss 0.0409\n",
            "Epoch 25 Batch 400 Loss 0.0512\n",
            "Epoch 25 Batch 500 Loss 0.0325\n",
            "Epoch 25 Batch 600 Loss 0.0358\n",
            "Epoch 25 Batch 700 Loss 0.0330\n",
            "Epoch 25 Batch 800 Loss 0.0304\n",
            "Epoch 25 Batch 900 Loss 0.0527\n",
            "Epoch 25 Batch 1000 Loss 0.0348\n",
            "Epoch 25 Batch 1100 Loss 0.0352\n",
            "Epoch 25 Batch 1200 Loss 0.0481\n",
            "Epoch 25 Loss 0.0376\n",
            "Time taken for 1 epoch 75.94140362739563 sec\n",
            "\n",
            "Epoch 26 Batch 0 Loss 0.0428\n",
            "Epoch 26 Batch 100 Loss 0.0318\n",
            "Epoch 26 Batch 200 Loss 0.0287\n",
            "Epoch 26 Batch 300 Loss 0.0170\n",
            "Epoch 26 Batch 400 Loss 0.0209\n",
            "Epoch 26 Batch 500 Loss 0.0442\n",
            "Epoch 26 Batch 600 Loss 0.0221\n",
            "Epoch 26 Batch 700 Loss 0.0288\n",
            "Epoch 26 Batch 800 Loss 0.0483\n",
            "Epoch 26 Batch 900 Loss 0.0340\n",
            "Epoch 26 Batch 1000 Loss 0.0524\n",
            "Epoch 26 Batch 1100 Loss 0.0319\n",
            "Epoch 26 Batch 1200 Loss 0.0595\n",
            "Epoch 26 Loss 0.0373\n",
            "Time taken for 1 epoch 76.42133808135986 sec\n",
            "\n",
            "Epoch 27 Batch 0 Loss 0.0456\n",
            "Epoch 27 Batch 100 Loss 0.0427\n",
            "Epoch 27 Batch 200 Loss 0.0324\n",
            "Epoch 27 Batch 300 Loss 0.0247\n",
            "Epoch 27 Batch 400 Loss 0.0498\n",
            "Epoch 27 Batch 500 Loss 0.0207\n",
            "Epoch 27 Batch 600 Loss 0.0598\n",
            "Epoch 27 Batch 700 Loss 0.0401\n",
            "Epoch 27 Batch 800 Loss 0.0321\n",
            "Epoch 27 Batch 900 Loss 0.0474\n",
            "Epoch 27 Batch 1000 Loss 0.0388\n",
            "Epoch 27 Batch 1100 Loss 0.0601\n",
            "Epoch 27 Batch 1200 Loss 0.0410\n",
            "Epoch 27 Loss 0.0361\n",
            "Time taken for 1 epoch 75.93989682197571 sec\n",
            "\n",
            "Epoch 28 Batch 0 Loss 0.0228\n",
            "Epoch 28 Batch 100 Loss 0.0302\n",
            "Epoch 28 Batch 200 Loss 0.0116\n",
            "Epoch 28 Batch 300 Loss 0.0222\n",
            "Epoch 28 Batch 400 Loss 0.0213\n",
            "Epoch 28 Batch 500 Loss 0.0305\n",
            "Epoch 28 Batch 600 Loss 0.0391\n",
            "Epoch 28 Batch 700 Loss 0.0227\n",
            "Epoch 28 Batch 800 Loss 0.0432\n",
            "Epoch 28 Batch 900 Loss 0.0456\n",
            "Epoch 28 Batch 1000 Loss 0.0198\n",
            "Epoch 28 Batch 1100 Loss 0.0204\n",
            "Epoch 28 Batch 1200 Loss 0.0578\n",
            "Epoch 28 Loss 0.0359\n",
            "Time taken for 1 epoch 76.2884168624878 sec\n",
            "\n",
            "Epoch 29 Batch 0 Loss 0.0342\n",
            "Epoch 29 Batch 100 Loss 0.0460\n",
            "Epoch 29 Batch 200 Loss 0.0289\n",
            "Epoch 29 Batch 300 Loss 0.0418\n",
            "Epoch 29 Batch 400 Loss 0.0289\n",
            "Epoch 29 Batch 500 Loss 0.0389\n",
            "Epoch 29 Batch 600 Loss 0.0354\n",
            "Epoch 29 Batch 700 Loss 0.0266\n",
            "Epoch 29 Batch 800 Loss 0.0505\n",
            "Epoch 29 Batch 900 Loss 0.0389\n",
            "Epoch 29 Batch 1000 Loss 0.0531\n",
            "Epoch 29 Batch 1100 Loss 0.0418\n",
            "Epoch 29 Batch 1200 Loss 0.0347\n",
            "Epoch 29 Loss 0.0352\n",
            "Time taken for 1 epoch 75.82412552833557 sec\n",
            "\n",
            "Epoch 30 Batch 0 Loss 0.0129\n",
            "Epoch 30 Batch 100 Loss 0.0102\n",
            "Epoch 30 Batch 200 Loss 0.0414\n",
            "Epoch 30 Batch 300 Loss 0.0348\n",
            "Epoch 30 Batch 400 Loss 0.0350\n",
            "Epoch 30 Batch 500 Loss 0.0324\n",
            "Epoch 30 Batch 600 Loss 0.0207\n",
            "Epoch 30 Batch 700 Loss 0.0422\n",
            "Epoch 30 Batch 800 Loss 0.0232\n",
            "Epoch 30 Batch 900 Loss 0.0408\n",
            "Epoch 30 Batch 1000 Loss 0.0280\n",
            "Epoch 30 Batch 1100 Loss 0.0329\n",
            "Epoch 30 Batch 1200 Loss 0.0736\n",
            "Epoch 30 Loss 0.0353\n",
            "Time taken for 1 epoch 76.05279612541199 sec\n",
            "\n",
            "Epoch 31 Batch 0 Loss 0.0169\n",
            "Epoch 31 Batch 100 Loss 0.0255\n",
            "Epoch 31 Batch 200 Loss 0.0342\n",
            "Epoch 31 Batch 300 Loss 0.0262\n",
            "Epoch 31 Batch 400 Loss 0.0408\n",
            "Epoch 31 Batch 500 Loss 0.0344\n",
            "Epoch 31 Batch 600 Loss 0.0288\n",
            "Epoch 31 Batch 700 Loss 0.0269\n",
            "Epoch 31 Batch 800 Loss 0.0182\n",
            "Epoch 31 Batch 900 Loss 0.0338\n",
            "Epoch 31 Batch 1000 Loss 0.0633\n",
            "Epoch 31 Batch 1100 Loss 0.0325\n",
            "Epoch 31 Batch 1200 Loss 0.0309\n",
            "Epoch 31 Loss 0.0344\n",
            "Time taken for 1 epoch 75.98306608200073 sec\n",
            "\n",
            "Epoch 32 Batch 0 Loss 0.0177\n",
            "Epoch 32 Batch 100 Loss 0.0221\n",
            "Epoch 32 Batch 200 Loss 0.0464\n",
            "Epoch 32 Batch 300 Loss 0.0273\n",
            "Epoch 32 Batch 400 Loss 0.0410\n",
            "Epoch 32 Batch 500 Loss 0.0317\n",
            "Epoch 32 Batch 600 Loss 0.0520\n",
            "Epoch 32 Batch 700 Loss 0.0316\n",
            "Epoch 32 Batch 800 Loss 0.0620\n",
            "Epoch 32 Batch 900 Loss 0.0403\n",
            "Epoch 32 Batch 1000 Loss 0.0501\n",
            "Epoch 32 Batch 1100 Loss 0.0319\n",
            "Epoch 32 Batch 1200 Loss 0.0421\n",
            "Epoch 32 Loss 0.0345\n",
            "Time taken for 1 epoch 76.25883674621582 sec\n",
            "\n",
            "Epoch 33 Batch 0 Loss 0.0280\n",
            "Epoch 33 Batch 100 Loss 0.0327\n",
            "Epoch 33 Batch 200 Loss 0.0267\n",
            "Epoch 33 Batch 300 Loss 0.0289\n",
            "Epoch 33 Batch 400 Loss 0.0336\n",
            "Epoch 33 Batch 500 Loss 0.0337\n",
            "Epoch 33 Batch 600 Loss 0.0566\n",
            "Epoch 33 Batch 700 Loss 0.0225\n",
            "Epoch 33 Batch 800 Loss 0.0455\n",
            "Epoch 33 Batch 900 Loss 0.0537\n",
            "Epoch 33 Batch 1000 Loss 0.0459\n",
            "Epoch 33 Batch 1100 Loss 0.0477\n",
            "Epoch 33 Batch 1200 Loss 0.0298\n",
            "Epoch 33 Loss 0.0341\n",
            "Time taken for 1 epoch 75.95345282554626 sec\n",
            "\n",
            "Epoch 34 Batch 0 Loss 0.0214\n",
            "Epoch 34 Batch 100 Loss 0.0381\n",
            "Epoch 34 Batch 200 Loss 0.0495\n",
            "Epoch 34 Batch 300 Loss 0.0342\n",
            "Epoch 34 Batch 400 Loss 0.0375\n",
            "Epoch 34 Batch 500 Loss 0.0260\n",
            "Epoch 34 Batch 600 Loss 0.0347\n",
            "Epoch 34 Batch 700 Loss 0.0283\n",
            "Epoch 34 Batch 800 Loss 0.0241\n",
            "Epoch 34 Batch 900 Loss 0.0429\n",
            "Epoch 34 Batch 1000 Loss 0.0656\n",
            "Epoch 34 Batch 1100 Loss 0.0329\n",
            "Epoch 34 Batch 1200 Loss 0.0364\n",
            "Epoch 34 Loss 0.0338\n",
            "Time taken for 1 epoch 76.41781902313232 sec\n",
            "\n",
            "Epoch 35 Batch 0 Loss 0.0125\n",
            "Epoch 35 Batch 100 Loss 0.0187\n",
            "Epoch 35 Batch 200 Loss 0.0172\n",
            "Epoch 35 Batch 300 Loss 0.0533\n",
            "Epoch 35 Batch 400 Loss 0.0221\n",
            "Epoch 35 Batch 500 Loss 0.0223\n",
            "Epoch 35 Batch 600 Loss 0.0616\n",
            "Epoch 35 Batch 700 Loss 0.0297\n",
            "Epoch 35 Batch 800 Loss 0.0298\n",
            "Epoch 35 Batch 900 Loss 0.0200\n",
            "Epoch 35 Batch 1000 Loss 0.0217\n",
            "Epoch 35 Batch 1100 Loss 0.0239\n",
            "Epoch 35 Batch 1200 Loss 0.0400\n",
            "Epoch 35 Loss 0.0333\n",
            "Time taken for 1 epoch 75.83358478546143 sec\n",
            "\n",
            "Epoch 36 Batch 0 Loss 0.0191\n",
            "Epoch 36 Batch 100 Loss 0.0379\n",
            "Epoch 36 Batch 200 Loss 0.0372\n",
            "Epoch 36 Batch 300 Loss 0.0208\n",
            "Epoch 36 Batch 400 Loss 0.0302\n",
            "Epoch 36 Batch 500 Loss 0.0332\n",
            "Epoch 36 Batch 600 Loss 0.0620\n",
            "Epoch 36 Batch 700 Loss 0.0388\n",
            "Epoch 36 Batch 800 Loss 0.0205\n",
            "Epoch 36 Batch 900 Loss 0.0433\n",
            "Epoch 36 Batch 1000 Loss 0.0291\n",
            "Epoch 36 Batch 1100 Loss 0.0260\n",
            "Epoch 36 Batch 1200 Loss 0.0459\n",
            "Epoch 36 Loss 0.0330\n",
            "Time taken for 1 epoch 76.25568962097168 sec\n",
            "\n",
            "Epoch 37 Batch 0 Loss 0.0249\n",
            "Epoch 37 Batch 100 Loss 0.0215\n",
            "Epoch 37 Batch 200 Loss 0.0295\n",
            "Epoch 37 Batch 300 Loss 0.0352\n",
            "Epoch 37 Batch 400 Loss 0.0207\n",
            "Epoch 37 Batch 500 Loss 0.0332\n",
            "Epoch 37 Batch 600 Loss 0.0496\n",
            "Epoch 37 Batch 700 Loss 0.0180\n",
            "Epoch 37 Batch 800 Loss 0.0350\n",
            "Epoch 37 Batch 900 Loss 0.0402\n",
            "Epoch 37 Batch 1000 Loss 0.0474\n",
            "Epoch 37 Batch 1100 Loss 0.0530\n",
            "Epoch 37 Batch 1200 Loss 0.0177\n",
            "Epoch 37 Loss 0.0326\n",
            "Time taken for 1 epoch 75.74635696411133 sec\n",
            "\n",
            "Epoch 38 Batch 0 Loss 0.0298\n",
            "Epoch 38 Batch 100 Loss 0.0437\n",
            "Epoch 38 Batch 200 Loss 0.0256\n",
            "Epoch 38 Batch 300 Loss 0.0162\n",
            "Epoch 38 Batch 400 Loss 0.0476\n",
            "Epoch 38 Batch 500 Loss 0.0310\n",
            "Epoch 38 Batch 600 Loss 0.0365\n",
            "Epoch 38 Batch 700 Loss 0.0325\n",
            "Epoch 38 Batch 800 Loss 0.0514\n",
            "Epoch 38 Batch 900 Loss 0.0361\n",
            "Epoch 38 Batch 1000 Loss 0.0351\n",
            "Epoch 38 Batch 1100 Loss 0.0538\n",
            "Epoch 38 Batch 1200 Loss 0.0310\n",
            "Epoch 38 Loss 0.0322\n",
            "Time taken for 1 epoch 76.08517861366272 sec\n",
            "\n",
            "Epoch 39 Batch 0 Loss 0.0290\n",
            "Epoch 39 Batch 100 Loss 0.0288\n",
            "Epoch 39 Batch 200 Loss 0.0234\n",
            "Epoch 39 Batch 300 Loss 0.0288\n",
            "Epoch 39 Batch 400 Loss 0.0350\n",
            "Epoch 39 Batch 500 Loss 0.0275\n",
            "Epoch 39 Batch 600 Loss 0.0175\n",
            "Epoch 39 Batch 700 Loss 0.0129\n",
            "Epoch 39 Batch 800 Loss 0.0300\n",
            "Epoch 39 Batch 900 Loss 0.0288\n",
            "Epoch 39 Batch 1000 Loss 0.0331\n",
            "Epoch 39 Batch 1100 Loss 0.0240\n",
            "Epoch 39 Batch 1200 Loss 0.0335\n",
            "Epoch 39 Loss 0.0321\n",
            "Time taken for 1 epoch 75.7785279750824 sec\n",
            "\n",
            "Epoch 40 Batch 0 Loss 0.0243\n",
            "Epoch 40 Batch 100 Loss 0.0335\n",
            "Epoch 40 Batch 200 Loss 0.0301\n",
            "Epoch 40 Batch 300 Loss 0.0221\n",
            "Epoch 40 Batch 400 Loss 0.0918\n",
            "Epoch 40 Batch 500 Loss 0.0479\n",
            "Epoch 40 Batch 600 Loss 0.0079\n",
            "Epoch 40 Batch 700 Loss 0.0283\n",
            "Epoch 40 Batch 800 Loss 0.0292\n",
            "Epoch 40 Batch 900 Loss 0.0250\n",
            "Epoch 40 Batch 1000 Loss 0.0310\n",
            "Epoch 40 Batch 1100 Loss 0.0277\n",
            "Epoch 40 Batch 1200 Loss 0.0423\n",
            "Epoch 40 Loss 0.0319\n",
            "Time taken for 1 epoch 76.16067814826965 sec\n",
            "\n",
            "Epoch 41 Batch 0 Loss 0.0394\n",
            "Epoch 41 Batch 100 Loss 0.0167\n",
            "Epoch 41 Batch 200 Loss 0.0211\n",
            "Epoch 41 Batch 300 Loss 0.0398\n",
            "Epoch 41 Batch 400 Loss 0.0107\n",
            "Epoch 41 Batch 500 Loss 0.0628\n",
            "Epoch 41 Batch 600 Loss 0.0322\n",
            "Epoch 41 Batch 700 Loss 0.0389\n",
            "Epoch 41 Batch 800 Loss 0.0357\n",
            "Epoch 41 Batch 900 Loss 0.0362\n",
            "Epoch 41 Batch 1000 Loss 0.0553\n",
            "Epoch 41 Batch 1100 Loss 0.0444\n",
            "Epoch 41 Batch 1200 Loss 0.0373\n",
            "Epoch 41 Loss 0.0309\n",
            "Time taken for 1 epoch 75.80006861686707 sec\n",
            "\n",
            "Epoch 42 Batch 0 Loss 0.0402\n",
            "Epoch 42 Batch 100 Loss 0.0346\n",
            "Epoch 42 Batch 200 Loss 0.0465\n",
            "Epoch 42 Batch 300 Loss 0.0170\n",
            "Epoch 42 Batch 400 Loss 0.0357\n",
            "Epoch 42 Batch 500 Loss 0.0306\n",
            "Epoch 42 Batch 600 Loss 0.0102\n",
            "Epoch 42 Batch 700 Loss 0.0402\n",
            "Epoch 42 Batch 800 Loss 0.0200\n",
            "Epoch 42 Batch 900 Loss 0.0332\n",
            "Epoch 42 Batch 1000 Loss 0.0347\n",
            "Epoch 42 Batch 1100 Loss 0.0155\n",
            "Epoch 42 Batch 1200 Loss 0.0440\n",
            "Epoch 42 Loss 0.0306\n",
            "Time taken for 1 epoch 76.15908336639404 sec\n",
            "\n",
            "Epoch 43 Batch 0 Loss 0.0413\n",
            "Epoch 43 Batch 100 Loss 0.0089\n",
            "Epoch 43 Batch 200 Loss 0.0210\n",
            "Epoch 43 Batch 300 Loss 0.0176\n",
            "Epoch 43 Batch 400 Loss 0.0361\n",
            "Epoch 43 Batch 500 Loss 0.0315\n",
            "Epoch 43 Batch 600 Loss 0.0337\n",
            "Epoch 43 Batch 700 Loss 0.0253\n",
            "Epoch 43 Batch 800 Loss 0.0254\n",
            "Epoch 43 Batch 900 Loss 0.0375\n",
            "Epoch 43 Batch 1000 Loss 0.0303\n",
            "Epoch 43 Batch 1100 Loss 0.0193\n",
            "Epoch 43 Batch 1200 Loss 0.0288\n",
            "Epoch 43 Loss 0.0309\n",
            "Time taken for 1 epoch 75.84382724761963 sec\n",
            "\n",
            "Epoch 44 Batch 0 Loss 0.0143\n",
            "Epoch 44 Batch 100 Loss 0.0149\n",
            "Epoch 44 Batch 200 Loss 0.0450\n",
            "Epoch 44 Batch 300 Loss 0.0152\n",
            "Epoch 44 Batch 400 Loss 0.0272\n",
            "Epoch 44 Batch 500 Loss 0.0294\n",
            "Epoch 44 Batch 600 Loss 0.0209\n",
            "Epoch 44 Batch 700 Loss 0.0352\n",
            "Epoch 44 Batch 800 Loss 0.0189\n",
            "Epoch 44 Batch 900 Loss 0.0380\n",
            "Epoch 44 Batch 1000 Loss 0.0425\n",
            "Epoch 44 Batch 1100 Loss 0.0208\n",
            "Epoch 44 Batch 1200 Loss 0.0318\n",
            "Epoch 44 Loss 0.0305\n",
            "Time taken for 1 epoch 76.22743129730225 sec\n",
            "\n",
            "Epoch 45 Batch 0 Loss 0.0101\n",
            "Epoch 45 Batch 100 Loss 0.0192\n",
            "Epoch 45 Batch 200 Loss 0.0233\n",
            "Epoch 45 Batch 300 Loss 0.0306\n",
            "Epoch 45 Batch 400 Loss 0.0344\n",
            "Epoch 45 Batch 500 Loss 0.0437\n",
            "Epoch 45 Batch 600 Loss 0.0279\n",
            "Epoch 45 Batch 700 Loss 0.0191\n",
            "Epoch 45 Batch 800 Loss 0.0348\n",
            "Epoch 45 Batch 900 Loss 0.0171\n",
            "Epoch 45 Batch 1000 Loss 0.0263\n",
            "Epoch 45 Batch 1100 Loss 0.0356\n",
            "Epoch 45 Batch 1200 Loss 0.0239\n",
            "Epoch 45 Loss 0.0300\n",
            "Time taken for 1 epoch 81.91758942604065 sec\n",
            "\n",
            "Epoch 46 Batch 0 Loss 0.0269\n",
            "Epoch 46 Batch 100 Loss 0.0051\n",
            "Epoch 46 Batch 200 Loss 0.0210\n",
            "Epoch 46 Batch 300 Loss 0.0435\n",
            "Epoch 46 Batch 400 Loss 0.0355\n",
            "Epoch 46 Batch 500 Loss 0.0261\n",
            "Epoch 46 Batch 600 Loss 0.0322\n",
            "Epoch 46 Batch 700 Loss 0.0373\n",
            "Epoch 46 Batch 800 Loss 0.0428\n",
            "Epoch 46 Batch 900 Loss 0.0444\n",
            "Epoch 46 Batch 1000 Loss 0.0336\n",
            "Epoch 46 Batch 1100 Loss 0.0651\n",
            "Epoch 46 Batch 1200 Loss 0.0502\n",
            "Epoch 46 Loss 0.0298\n",
            "Time taken for 1 epoch 76.14402103424072 sec\n",
            "\n",
            "Epoch 47 Batch 0 Loss 0.0146\n",
            "Epoch 47 Batch 100 Loss 0.0126\n",
            "Epoch 47 Batch 200 Loss 0.0187\n",
            "Epoch 47 Batch 300 Loss 0.0273\n",
            "Epoch 47 Batch 400 Loss 0.0358\n",
            "Epoch 47 Batch 500 Loss 0.0183\n",
            "Epoch 47 Batch 600 Loss 0.0189\n",
            "Epoch 47 Batch 700 Loss 0.0479\n",
            "Epoch 47 Batch 800 Loss 0.0299\n",
            "Epoch 47 Batch 900 Loss 0.0385\n",
            "Epoch 47 Batch 1000 Loss 0.0157\n",
            "Epoch 47 Batch 1100 Loss 0.0300\n",
            "Epoch 47 Batch 1200 Loss 0.0306\n",
            "Epoch 47 Loss 0.0302\n",
            "Time taken for 1 epoch 75.7210464477539 sec\n",
            "\n",
            "Epoch 48 Batch 0 Loss 0.0448\n",
            "Epoch 48 Batch 100 Loss 0.0291\n",
            "Epoch 48 Batch 200 Loss 0.0163\n",
            "Epoch 48 Batch 300 Loss 0.0217\n",
            "Epoch 48 Batch 400 Loss 0.0240\n",
            "Epoch 48 Batch 500 Loss 0.0264\n",
            "Epoch 48 Batch 600 Loss 0.0282\n",
            "Epoch 48 Batch 700 Loss 0.0198\n",
            "Epoch 48 Batch 800 Loss 0.0481\n",
            "Epoch 48 Batch 900 Loss 0.0415\n",
            "Epoch 48 Batch 1000 Loss 0.0196\n",
            "Epoch 48 Batch 1100 Loss 0.0354\n",
            "Epoch 48 Batch 1200 Loss 0.0273\n",
            "Epoch 48 Loss 0.0298\n",
            "Time taken for 1 epoch 76.17008686065674 sec\n",
            "\n",
            "Epoch 49 Batch 0 Loss 0.0168\n",
            "Epoch 49 Batch 100 Loss 0.0281\n",
            "Epoch 49 Batch 200 Loss 0.0083\n",
            "Epoch 49 Batch 300 Loss 0.0431\n",
            "Epoch 49 Batch 400 Loss 0.0365\n",
            "Epoch 49 Batch 500 Loss 0.0458\n",
            "Epoch 49 Batch 600 Loss 0.0249\n",
            "Epoch 49 Batch 700 Loss 0.0237\n",
            "Epoch 49 Batch 800 Loss 0.0332\n",
            "Epoch 49 Batch 900 Loss 0.0212\n",
            "Epoch 49 Batch 1000 Loss 0.0267\n",
            "Epoch 49 Batch 1100 Loss 0.0425\n",
            "Epoch 49 Batch 1200 Loss 0.0373\n",
            "Epoch 49 Loss 0.0294\n",
            "Time taken for 1 epoch 75.73612356185913 sec\n",
            "\n",
            "Epoch 50 Batch 0 Loss 0.0114\n",
            "Epoch 50 Batch 100 Loss 0.0205\n",
            "Epoch 50 Batch 200 Loss 0.0240\n",
            "Epoch 50 Batch 300 Loss 0.0470\n",
            "Epoch 50 Batch 400 Loss 0.0125\n",
            "Epoch 50 Batch 500 Loss 0.0184\n",
            "Epoch 50 Batch 600 Loss 0.0272\n",
            "Epoch 50 Batch 700 Loss 0.0223\n",
            "Epoch 50 Batch 800 Loss 0.0310\n",
            "Epoch 50 Batch 900 Loss 0.0191\n",
            "Epoch 50 Batch 1000 Loss 0.0379\n",
            "Epoch 50 Batch 1100 Loss 0.0256\n",
            "Epoch 50 Batch 1200 Loss 0.0252\n",
            "Epoch 50 Loss 0.0293\n",
            "Time taken for 1 epoch 76.29453110694885 sec\n",
            "\n"
          ]
        }
      ]
    },
    {
      "cell_type": "markdown",
      "metadata": {
        "id": "Ljf2NlyhsV9R"
      },
      "source": [
        "## Translate\n",
        "\n",
        "* The evaluate function is similar to the training loop, except we don't use *teacher forcing* here. The input to the decoder at each time step is its previous predictions along with the hidden state and the encoder output.\n",
        "* Stop predicting when the model predicts the *end token*.\n",
        "* And store the *attention weights for every time step*.\n",
        "\n",
        "Note: The encoder output is calculated only once for one input."
      ]
    },
    {
      "cell_type": "code",
      "metadata": {
        "id": "6NiAN5GisV9R"
      },
      "source": [
        "def evaluate(sentence):\n",
        "  attention_plot = np.zeros((max_length_targ, max_length_inp))\n",
        "\n",
        "  sentence = preprocess_sentence(sentence)\n",
        "\n",
        "  inputs = [inp_lang.word_index[i] for i in sentence.split(' ')]\n",
        "  inputs = tf.keras.preprocessing.sequence.pad_sequences([inputs],\n",
        "                                                         maxlen=max_length_inp,\n",
        "                                                         padding='post')\n",
        "  inputs = tf.convert_to_tensor(inputs)\n",
        "\n",
        "  result = ''\n",
        "\n",
        "  hidden = [tf.zeros((1, units))]\n",
        "  enc_out, enc_hidden = encoder(inputs, hidden)\n",
        "\n",
        "  dec_hidden = enc_hidden\n",
        "  dec_input = tf.expand_dims([targ_lang.word_index['<start>']], 0)\n",
        "\n",
        "  for t in range(max_length_targ):\n",
        "    predictions, dec_hidden, attention_weights = decoder(dec_input,\n",
        "                                                         dec_hidden,\n",
        "                                                         enc_out)\n",
        "\n",
        "    # storing the attention weights to plot later on\n",
        "    attention_weights = tf.reshape(attention_weights, (-1, ))\n",
        "    attention_plot[t] = attention_weights.numpy()\n",
        "\n",
        "    predicted_id = tf.argmax(predictions[0]).numpy()\n",
        "\n",
        "    result += targ_lang.index_word[predicted_id] + ' '\n",
        "\n",
        "    if targ_lang.index_word[predicted_id] == '<end>':\n",
        "      return result, sentence, attention_plot\n",
        "\n",
        "    # the predicted ID is fed back into the model\n",
        "    dec_input = tf.expand_dims([predicted_id], 0)\n",
        "\n",
        "  return result, sentence, attention_plot"
      ],
      "execution_count": 70,
      "outputs": []
    },
    {
      "cell_type": "code",
      "metadata": {
        "id": "Qjy26Fe8Bv5d"
      },
      "source": [
        "# function for plotting the attention weights\n",
        "def plot_attention(attention, sentence, predicted_sentence):\n",
        "  fig = plt.figure(figsize=(10,10))\n",
        "  ax = fig.add_subplot(1, 1, 1)\n",
        "  ax.matshow(attention, cmap='viridis')\n",
        "\n",
        "  fontdict = {'fontsize': 14}\n",
        "\n",
        "  ax.set_xticklabels([''] + sentence, fontdict=fontdict, rotation=90)\n",
        "  ax.set_yticklabels([''] + predicted_sentence, fontdict=fontdict)\n",
        "\n",
        "  ax.xaxis.set_major_locator(ticker.MultipleLocator(1))\n",
        "  ax.yaxis.set_major_locator(ticker.MultipleLocator(1))\n",
        "\n",
        "  plt.show()"
      ],
      "execution_count": 71,
      "outputs": []
    },
    {
      "cell_type": "code",
      "metadata": {
        "id": "2AzRPQ7LsV9R"
      },
      "source": [
        "def translate(sentence):\n",
        "  result, sentence, attention_plot = evaluate(sentence)\n",
        "\n",
        "  print('Input: %s' % (sentence))\n",
        "  print('Predicted translation: {}'.format(result))\n",
        "\n",
        "  attention_plot = attention_plot[:len(result.split(' ')), :len(sentence.split(' '))]\n",
        "  plot_attention(attention_plot, sentence.split(' '), result.split(' '))"
      ],
      "execution_count": 72,
      "outputs": []
    },
    {
      "cell_type": "markdown",
      "metadata": {
        "id": "_Enuh_pZsV9S"
      },
      "source": [
        "## Restore the latest checkpoint and test"
      ]
    },
    {
      "cell_type": "code",
      "metadata": {
        "colab": {
          "base_uri": "https://localhost:8080/"
        },
        "outputId": "d41a6c8c-afca-4073-8763-18282450b86e",
        "id": "PXDQPmvvsV9S"
      },
      "source": [
        "# restoring the latest checkpoint in checkpoint_dir\n",
        "checkpoint.restore(tf.train.latest_checkpoint(checkpoint_dir))"
      ],
      "execution_count": 73,
      "outputs": [
        {
          "output_type": "execute_result",
          "data": {
            "text/plain": [
              "<tensorflow.python.training.tracking.util.CheckpointLoadStatus at 0x7fba5c622510>"
            ]
          },
          "metadata": {},
          "execution_count": 73
        }
      ]
    },
    {
      "cell_type": "code",
      "metadata": {
        "colab": {
          "base_uri": "https://localhost:8080/",
          "height": 599
        },
        "outputId": "f6dd47f6-96ae-4da0-dada-29e84faa64c2",
        "id": "jj82qY4ysV9S"
      },
      "source": [
        "translate('E bello qui.')"
      ],
      "execution_count": 74,
      "outputs": [
        {
          "output_type": "stream",
          "name": "stdout",
          "text": [
            "Input: <start> e bello qui . <end>\n",
            "Predicted translation: stay there ? <end> \n"
          ]
        },
        {
          "output_type": "display_data",
          "data": {
            "text/plain": [
              "<Figure size 720x720 with 1 Axes>"
            ],
            "image/png": "[encoded data removed]"
          },
          "metadata": {
            "needs_background": "light"
          }
        }
      ]
    },
    {
      "cell_type": "code",
      "metadata": {
        "colab": {
          "base_uri": "https://localhost:8080/",
          "height": 677
        },
        "outputId": "c85776ac-f246-45a4-a532-e8569d67b352",
        "id": "RYHT1ttwsV9S"
      },
      "source": [
        "translate('Non posso andare.')"
      ],
      "execution_count": 75,
      "outputs": [
        {
          "output_type": "stream",
          "name": "stdout",
          "text": [
            "Input: <start> non posso andare . <end>\n",
            "Predicted translation: i can't go . <end> \n"
          ]
        },
        {
          "output_type": "display_data",
          "data": {
            "text/plain": [
              "<Figure size 720x720 with 1 Axes>"
            ],
            "image/png": "[encoded data removed]"
          },
          "metadata": {
            "needs_background": "light"
          }
        }
      ]
    },
    {
      "cell_type": "code",
      "metadata": {
        "colab": {
          "base_uri": "https://localhost:8080/",
          "height": 677
        },
        "outputId": "4613e0e4-2f81-49b0-98fa-092a02933988",
        "id": "g2Ia4jHgsV9S"
      },
      "source": [
        "translate(u'Sei ancora a casa?')"
      ],
      "execution_count": 76,
      "outputs": [
        {
          "output_type": "stream",
          "name": "stdout",
          "text": [
            "Input: <start> sei ancora a casa ? <end>\n",
            "Predicted translation: are you still home ? <end> \n"
          ]
        },
        {
          "output_type": "display_data",
          "data": {
            "text/plain": [
              "<Figure size 720x720 with 1 Axes>"
            ],
            "image/png": "[encoded data removed]"
          },
          "metadata": {
            "needs_background": "light"
          }
        }
      ]
    },
    {
      "cell_type": "code",
      "metadata": {
        "colab": {
          "base_uri": "https://localhost:8080/",
          "height": 677
        },
        "outputId": "95d043e5-6bd9-48f7-e82c-43f067e051cb",
        "id": "Kk1vYztAsV9T"
      },
      "source": [
        "translate(u'Prova a farlo.')"
      ],
      "execution_count": 77,
      "outputs": [
        {
          "output_type": "stream",
          "name": "stdout",
          "text": [
            "Input: <start> prova a farlo . <end>\n",
            "Predicted translation: try and do that . <end> \n"
          ]
        },
        {
          "output_type": "display_data",
          "data": {
            "text/plain": [
              "<Figure size 720x720 with 1 Axes>"
            ],
            "image/png": "[encoded data removed]"
          },
          "metadata": {
            "needs_background": "light"
          }
        }
      ]
    },
    {
      "cell_type": "code",
      "metadata": {
        "colab": {
          "base_uri": "https://localhost:8080/",
          "height": 677
        },
        "outputId": "57a1c092-5e34-452a-bdf6-642698c28dba",
        "id": "LzTq0G3BsV9T"
      },
      "source": [
        "translate(u'Amo quando nevica.')"
      ],
      "execution_count": 78,
      "outputs": [
        {
          "output_type": "stream",
          "name": "stdout",
          "text": [
            "Input: <start> amo quando nevica . <end>\n",
            "Predicted translation: i love when you to . <end> \n"
          ]
        },
        {
          "output_type": "display_data",
          "data": {
            "text/plain": [
              "<Figure size 720x720 with 1 Axes>"
            ],
            "image/png": "[encoded data removed]"
          },
          "metadata": {
            "needs_background": "light"
          }
        }
      ]
    },
    {
      "cell_type": "code",
      "metadata": {
        "colab": {
          "base_uri": "https://localhost:8080/",
          "height": 677
        },
        "outputId": "0770444e-6a57-4d45-df0d-84e504b0b017",
        "id": "tfvOChcesV9T"
      },
      "source": [
        "translate(u'Non lo faccio mai.')"
      ],
      "execution_count": 79,
      "outputs": [
        {
          "output_type": "stream",
          "name": "stdout",
          "text": [
            "Input: <start> non lo faccio mai . <end>\n",
            "Predicted translation: i never do that . <end> \n"
          ]
        },
        {
          "output_type": "display_data",
          "data": {
            "text/plain": [
              "<Figure size 720x720 with 1 Axes>"
            ],
            "image/png": "[encoded data removed]"
          },
          "metadata": {
            "needs_background": "light"
          }
        }
      ]
    },
    {
      "cell_type": "markdown",
      "source": [
        "## обе модели неидеально работают, в общем неплохо, но некоторые фразы не смогли перевести"
      ],
      "metadata": {
        "id": "5LOnnvvhMOaq"
      }
    }
  ]
}