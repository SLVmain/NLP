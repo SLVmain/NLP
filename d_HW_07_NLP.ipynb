{
  "nbformat": 4,
  "nbformat_minor": 0,
  "metadata": {
    "colab": {
      "name": "d_HW_07_NLP.ipynb",
      "provenance": [],
      "collapsed_sections": [],
      "machine_shape": "hm",
      "mount_file_id": "1NVqOz2zeC1NuuF0r69iCVNjfb5HNuZnK",
      "authorship_tag": "ABX9TyP60xBAW75c0CFA1UQToQPq",
      "include_colab_link": true
    },
    "kernelspec": {
      "name": "python3",
      "display_name": "Python 3"
    },
    "language_info": {
      "name": "python"
    },
    "accelerator": "GPU"
  },
  "cells": [
    {
      "cell_type": "markdown",
      "metadata": {
        "id": "view-in-github",
        "colab_type": "text"
      },
      "source": [
        "<a href=\"https://colab.research.google.com/github/SLVmain/NLP/blob/Les_07/d_HW_07_NLP.ipynb\" target=\"_parent\"><img src=\"https://colab.research.google.com/assets/colab-badge.svg\" alt=\"Open In Colab\"/></a>"
      ]
    },
    {
      "cell_type": "markdown",
      "source": [
        "#Урок 7. Сверточные нейронные сети для анализа текста\n",
        "Задание\n",
        "Берем отызывы за лето (из архива с материалами или предыдущего занятия)\n",
        "1. Учим conv сеть для классификации\n",
        "2. Рассмотреть 2-а варианта сеточек\n",
        "2.1 Инициализировать tf.keras.layers.Embedding предобученными векторами взять к примеру с https://rusvectores.org/ru/\n",
        "2.2 Инициализировать слой tf.keras.layers.Embedding по умолчанию (ну то есть вам ничего не делать с весами)\n",
        "\n",
        "Сравнить две архитектуры с предобученными весами и когда tf.keras.layers.Embedding обучается сразу со всей сеточкой, что получилось лучше"
      ],
      "metadata": {
        "id": "UA-xQ483IFEm"
      }
    },
    {
      "cell_type": "code",
      "source": [
        "import os\n",
        "import pandas as pd\n",
        "import numpy as np\n",
        "import matplotlib.pyplot as plt\n",
        "%matplotlib inline"
      ],
      "metadata": {
        "id": "gampUbgnIIMd"
      },
      "execution_count": null,
      "outputs": []
    },
    {
      "cell_type": "code",
      "source": [
        "plt.rcParams.update({'font.size': 14})\n",
        "pd.set_option('precision', 3)\n",
        "pd.set_option('max_columns', 100)\n",
        "pd.set_option('display.float_format', lambda x: '%.5f' % x)\n",
        "pd.set_option('display.max_columns', 500)\n",
        "pd.set_option('display.max_rows', 500)\n",
        "pd.set_option('max_colwidth', 300)"
      ],
      "metadata": {
        "id": "vzllbKGaYtYJ"
      },
      "execution_count": null,
      "outputs": []
    },
    {
      "cell_type": "code",
      "source": [
        "my_path = '/content/drive/MyDrive/GB_NLP_04_2022/07/summer_converted.csv'\n",
        "df = pd.read_csv(my_path)"
      ],
      "metadata": {
        "id": "1D8UE1RXScN7"
      },
      "execution_count": null,
      "outputs": []
    },
    {
      "cell_type": "code",
      "source": [
        "df.head()"
      ],
      "metadata": {
        "colab": {
          "base_uri": "https://localhost:8080/",
          "height": 206
        },
        "id": "3622hyrMYCKh",
        "outputId": "551cb395-78ee-493f-cfc9-3c7ded5ddf51"
      },
      "execution_count": null,
      "outputs": [
        {
          "output_type": "execute_result",
          "data": {
            "text/plain": [
              "   Rating  \\\n",
              "0       5   \n",
              "1       4   \n",
              "2       5   \n",
              "3       5   \n",
              "4       5   \n",
              "\n",
              "                                                                                                                                                 Content  \\\n",
              "0                                                                                                                                         It just works!   \n",
              "1  В целом удобноное приложение...из минусов хотят слишком большой доступ к персональным данным в телефоне,приходится пользоваться в ограниченном режиме   \n",
              "2                                                                                                                                            Отлично все   \n",
              "3                                                         Стал зависать на 1% работы антивируса. Дальше никуда. Ранее больше года пользовался нормально.   \n",
              "4                                                                                                                         Очень удобно, работает быстро.   \n",
              "\n",
              "         Date  \n",
              "0  2017-08-14  \n",
              "1  2017-08-14  \n",
              "2  2017-08-14  \n",
              "3  2017-08-14  \n",
              "4  2017-08-14  "
            ],
            "text/html": [
              "\n",
              "  <div id=\"df-b1ab5c01-53cf-434b-8f23-7ca8b542eba5\">\n",
              "    <div class=\"colab-df-container\">\n",
              "      <div>\n",
              "<style scoped>\n",
              "    .dataframe tbody tr th:only-of-type {\n",
              "        vertical-align: middle;\n",
              "    }\n",
              "\n",
              "    .dataframe tbody tr th {\n",
              "        vertical-align: top;\n",
              "    }\n",
              "\n",
              "    .dataframe thead th {\n",
              "        text-align: right;\n",
              "    }\n",
              "</style>\n",
              "<table border=\"1\" class=\"dataframe\">\n",
              "  <thead>\n",
              "    <tr style=\"text-align: right;\">\n",
              "      <th></th>\n",
              "      <th>Rating</th>\n",
              "      <th>Content</th>\n",
              "      <th>Date</th>\n",
              "    </tr>\n",
              "  </thead>\n",
              "  <tbody>\n",
              "    <tr>\n",
              "      <th>0</th>\n",
              "      <td>5</td>\n",
              "      <td>It just works!</td>\n",
              "      <td>2017-08-14</td>\n",
              "    </tr>\n",
              "    <tr>\n",
              "      <th>1</th>\n",
              "      <td>4</td>\n",
              "      <td>В целом удобноное приложение...из минусов хотят слишком большой доступ к персональным данным в телефоне,приходится пользоваться в ограниченном режиме</td>\n",
              "      <td>2017-08-14</td>\n",
              "    </tr>\n",
              "    <tr>\n",
              "      <th>2</th>\n",
              "      <td>5</td>\n",
              "      <td>Отлично все</td>\n",
              "      <td>2017-08-14</td>\n",
              "    </tr>\n",
              "    <tr>\n",
              "      <th>3</th>\n",
              "      <td>5</td>\n",
              "      <td>Стал зависать на 1% работы антивируса. Дальше никуда. Ранее больше года пользовался нормально.</td>\n",
              "      <td>2017-08-14</td>\n",
              "    </tr>\n",
              "    <tr>\n",
              "      <th>4</th>\n",
              "      <td>5</td>\n",
              "      <td>Очень удобно, работает быстро.</td>\n",
              "      <td>2017-08-14</td>\n",
              "    </tr>\n",
              "  </tbody>\n",
              "</table>\n",
              "</div>\n",
              "      <button class=\"colab-df-convert\" onclick=\"convertToInteractive('df-b1ab5c01-53cf-434b-8f23-7ca8b542eba5')\"\n",
              "              title=\"Convert this dataframe to an interactive table.\"\n",
              "              style=\"display:none;\">\n",
              "        \n",
              "  <svg xmlns=\"http://www.w3.org/2000/svg\" height=\"24px\"viewBox=\"0 0 24 24\"\n",
              "       width=\"24px\">\n",
              "    <path d=\"M0 0h24v24H0V0z\" fill=\"none\"/>\n",
              "    <path d=\"M18.56 5.44l.94 2.06.94-2.06 2.06-.94-2.06-.94-.94-2.06-.94 2.06-2.06.94zm-11 1L8.5 8.5l.94-2.06 2.06-.94-2.06-.94L8.5 2.5l-.94 2.06-2.06.94zm10 10l.94 2.06.94-2.06 2.06-.94-2.06-.94-.94-2.06-.94 2.06-2.06.94z\"/><path d=\"M17.41 7.96l-1.37-1.37c-.4-.4-.92-.59-1.43-.59-.52 0-1.04.2-1.43.59L10.3 9.45l-7.72 7.72c-.78.78-.78 2.05 0 2.83L4 21.41c.39.39.9.59 1.41.59.51 0 1.02-.2 1.41-.59l7.78-7.78 2.81-2.81c.8-.78.8-2.07 0-2.86zM5.41 20L4 18.59l7.72-7.72 1.47 1.35L5.41 20z\"/>\n",
              "  </svg>\n",
              "      </button>\n",
              "      \n",
              "  <style>\n",
              "    .colab-df-container {\n",
              "      display:flex;\n",
              "      flex-wrap:wrap;\n",
              "      gap: 12px;\n",
              "    }\n",
              "\n",
              "    .colab-df-convert {\n",
              "      background-color: #E8F0FE;\n",
              "      border: none;\n",
              "      border-radius: 50%;\n",
              "      cursor: pointer;\n",
              "      display: none;\n",
              "      fill: #1967D2;\n",
              "      height: 32px;\n",
              "      padding: 0 0 0 0;\n",
              "      width: 32px;\n",
              "    }\n",
              "\n",
              "    .colab-df-convert:hover {\n",
              "      background-color: #E2EBFA;\n",
              "      box-shadow: 0px 1px 2px rgba(60, 64, 67, 0.3), 0px 1px 3px 1px rgba(60, 64, 67, 0.15);\n",
              "      fill: #174EA6;\n",
              "    }\n",
              "\n",
              "    [theme=dark] .colab-df-convert {\n",
              "      background-color: #3B4455;\n",
              "      fill: #D2E3FC;\n",
              "    }\n",
              "\n",
              "    [theme=dark] .colab-df-convert:hover {\n",
              "      background-color: #434B5C;\n",
              "      box-shadow: 0px 1px 3px 1px rgba(0, 0, 0, 0.15);\n",
              "      filter: drop-shadow(0px 1px 2px rgba(0, 0, 0, 0.3));\n",
              "      fill: #FFFFFF;\n",
              "    }\n",
              "  </style>\n",
              "\n",
              "      <script>\n",
              "        const buttonEl =\n",
              "          document.querySelector('#df-b1ab5c01-53cf-434b-8f23-7ca8b542eba5 button.colab-df-convert');\n",
              "        buttonEl.style.display =\n",
              "          google.colab.kernel.accessAllowed ? 'block' : 'none';\n",
              "\n",
              "        async function convertToInteractive(key) {\n",
              "          const element = document.querySelector('#df-b1ab5c01-53cf-434b-8f23-7ca8b542eba5');\n",
              "          const dataTable =\n",
              "            await google.colab.kernel.invokeFunction('convertToInteractive',\n",
              "                                                     [key], {});\n",
              "          if (!dataTable) return;\n",
              "\n",
              "          const docLinkHtml = 'Like what you see? Visit the ' +\n",
              "            '<a target=\"_blank\" href=https://colab.research.google.com/notebooks/data_table.ipynb>data table notebook</a>'\n",
              "            + ' to learn more about interactive tables.';\n",
              "          element.innerHTML = '';\n",
              "          dataTable['output_type'] = 'display_data';\n",
              "          await google.colab.output.renderOutput(dataTable, element);\n",
              "          const docLink = document.createElement('div');\n",
              "          docLink.innerHTML = docLinkHtml;\n",
              "          element.appendChild(docLink);\n",
              "        }\n",
              "      </script>\n",
              "    </div>\n",
              "  </div>\n",
              "  "
            ]
          },
          "metadata": {},
          "execution_count": 11
        }
      ]
    },
    {
      "cell_type": "code",
      "source": [
        "df.info()"
      ],
      "metadata": {
        "colab": {
          "base_uri": "https://localhost:8080/"
        },
        "id": "MpfRrdgrYjy5",
        "outputId": "2406664a-671f-4427-8a5c-c7e534123cf3"
      },
      "execution_count": null,
      "outputs": [
        {
          "output_type": "stream",
          "name": "stdout",
          "text": [
            "<class 'pandas.core.frame.DataFrame'>\n",
            "RangeIndex: 20659 entries, 0 to 20658\n",
            "Data columns (total 3 columns):\n",
            " #   Column   Non-Null Count  Dtype \n",
            "---  ------   --------------  ----- \n",
            " 0   Rating   20659 non-null  int64 \n",
            " 1   Content  20656 non-null  object\n",
            " 2   Date     20659 non-null  object\n",
            "dtypes: int64(1), object(2)\n",
            "memory usage: 484.3+ KB\n"
          ]
        }
      ]
    },
    {
      "cell_type": "code",
      "source": [
        "df.Rating.value_counts()"
      ],
      "metadata": {
        "colab": {
          "base_uri": "https://localhost:8080/"
        },
        "id": "VoQVHTNfY944",
        "outputId": "de32fded-3dd6-4a1a-8d9e-9367d567cc3c"
      },
      "execution_count": null,
      "outputs": [
        {
          "output_type": "execute_result",
          "data": {
            "text/plain": [
              "5    14586\n",
              "1     2276\n",
              "4     2138\n",
              "3      911\n",
              "2      748\n",
              "Name: Rating, dtype: int64"
            ]
          },
          "metadata": {},
          "execution_count": 13
        }
      ]
    },
    {
      "cell_type": "code",
      "source": [
        "df.Rating = df.Rating - 1"
      ],
      "metadata": {
        "id": "ArQ-QD6S6Eqa"
      },
      "execution_count": null,
      "outputs": []
    },
    {
      "cell_type": "code",
      "source": [
        "df.Rating.value_counts()"
      ],
      "metadata": {
        "colab": {
          "base_uri": "https://localhost:8080/"
        },
        "id": "7Bzef7EF6HKx",
        "outputId": "f6dd8e0f-4f01-417e-c31d-b044659fc5b5"
      },
      "execution_count": null,
      "outputs": [
        {
          "output_type": "execute_result",
          "data": {
            "text/plain": [
              "4    14586\n",
              "0     2276\n",
              "3     2138\n",
              "2      911\n",
              "1      748\n",
              "Name: Rating, dtype: int64"
            ]
          },
          "metadata": {},
          "execution_count": 15
        }
      ]
    },
    {
      "cell_type": "code",
      "source": [
        "# максимальная длина строки\n",
        "df['Content'].map(lambda x: len(str(x))).max()"
      ],
      "metadata": {
        "colab": {
          "base_uri": "https://localhost:8080/"
        },
        "id": "0O2SJTj7coL3",
        "outputId": "d587c0eb-1747-4330-c64f-78a1c348dfb4"
      },
      "execution_count": null,
      "outputs": [
        {
          "output_type": "execute_result",
          "data": {
            "text/plain": [
              "1147"
            ]
          },
          "metadata": {},
          "execution_count": 16
        }
      ]
    },
    {
      "cell_type": "code",
      "source": [
        "df['Content'].map(lambda x: len(str(x))).mean()"
      ],
      "metadata": {
        "colab": {
          "base_uri": "https://localhost:8080/"
        },
        "id": "fFHv1LXvdMZ5",
        "outputId": "cd80afce-2b42-4ce0-c94d-b4981950048b"
      },
      "execution_count": null,
      "outputs": [
        {
          "output_type": "execute_result",
          "data": {
            "text/plain": [
              "56.029769107894865"
            ]
          },
          "metadata": {},
          "execution_count": 17
        }
      ]
    },
    {
      "cell_type": "code",
      "source": [
        "df['Content'].map(lambda x: len(str(x))).median()"
      ],
      "metadata": {
        "colab": {
          "base_uri": "https://localhost:8080/"
        },
        "id": "n6CCkM_hdZxT",
        "outputId": "db6859a4-2c4c-4751-f7a1-75270a562bd5"
      },
      "execution_count": null,
      "outputs": [
        {
          "output_type": "execute_result",
          "data": {
            "text/plain": [
              "27.0"
            ]
          },
          "metadata": {},
          "execution_count": 18
        }
      ]
    },
    {
      "cell_type": "code",
      "source": [
        "df['Content'].map(lambda x: len(str(x))).quantile([.25, .5, .75, 0.9])"
      ],
      "metadata": {
        "colab": {
          "base_uri": "https://localhost:8080/"
        },
        "id": "5Ji9yAQpdghK",
        "outputId": "13fa5edd-3dde-431e-9f98-72c5c247f93c"
      },
      "execution_count": null,
      "outputs": [
        {
          "output_type": "execute_result",
          "data": {
            "text/plain": [
              "0.25000    13.00000\n",
              "0.50000    27.00000\n",
              "0.75000    65.00000\n",
              "0.90000   139.00000\n",
              "Name: Content, dtype: float64"
            ]
          },
          "metadata": {},
          "execution_count": 19
        }
      ]
    },
    {
      "cell_type": "code",
      "source": [
        "max_words = 15000 # словарь\n",
        "max_len = 140\n",
        "num_classes = 5\n",
        "\n",
        "# Training\n",
        "epochs = 20\n",
        "batch_size = 512\n",
        "print_batch_n = 100"
      ],
      "metadata": {
        "id": "Gb2Oj_mFaIri"
      },
      "execution_count": null,
      "outputs": []
    },
    {
      "cell_type": "code",
      "source": [
        "!pip install stop_words\n",
        "!pip install pymorphy2"
      ],
      "metadata": {
        "colab": {
          "base_uri": "https://localhost:8080/"
        },
        "id": "mkAMrtCceYCY",
        "outputId": "bf5dc855-1897-4534-ba11-dc00fcb8fbee"
      },
      "execution_count": null,
      "outputs": [
        {
          "output_type": "stream",
          "name": "stdout",
          "text": [
            "Looking in indexes: https://pypi.org/simple, https://us-python.pkg.dev/colab-wheels/public/simple/\n",
            "Requirement already satisfied: stop_words in /usr/local/lib/python3.7/dist-packages (2018.7.23)\n",
            "Looking in indexes: https://pypi.org/simple, https://us-python.pkg.dev/colab-wheels/public/simple/\n",
            "Requirement already satisfied: pymorphy2 in /usr/local/lib/python3.7/dist-packages (0.9.1)\n",
            "Requirement already satisfied: dawg-python>=0.7.1 in /usr/local/lib/python3.7/dist-packages (from pymorphy2) (0.7.2)\n",
            "Requirement already satisfied: pymorphy2-dicts-ru<3.0,>=2.4 in /usr/local/lib/python3.7/dist-packages (from pymorphy2) (2.4.417127.4579844)\n",
            "Requirement already satisfied: docopt>=0.6 in /usr/local/lib/python3.7/dist-packages (from pymorphy2) (0.6.2)\n"
          ]
        }
      ]
    },
    {
      "cell_type": "markdown",
      "metadata": {
        "id": "qEyvOxoOJDTP"
      },
      "source": [
        "### Предобработка"
      ]
    },
    {
      "cell_type": "code",
      "metadata": {
        "id": "SDzBpCv9MgY7"
      },
      "source": [
        "from string import punctuation\n",
        "from stop_words import get_stop_words\n",
        "from pymorphy2 import MorphAnalyzer\n",
        "import re"
      ],
      "execution_count": null,
      "outputs": []
    },
    {
      "cell_type": "code",
      "metadata": {
        "id": "VMnTsX0mMgY8"
      },
      "source": [
        "sw = set(get_stop_words(\"ru\"))\n",
        "exclude = set(punctuation)\n",
        "morpher = MorphAnalyzer()\n",
        "\n",
        "def preprocess_text(txt):\n",
        "    txt = str(txt)\n",
        "    txt = \"\".join(c for c in txt if c not in exclude)\n",
        "    txt = txt.lower()\n",
        "    txt = re.sub(\"\\sне\", \"не\", txt)\n",
        "    txt = [morpher.parse(word)[0].normal_form for word in txt.split() if word not in sw]\n",
        "    return \" \".join(txt)\n",
        "\n",
        "df['Content'] = df['Content'].apply(preprocess_text)"
      ],
      "execution_count": null,
      "outputs": []
    },
    {
      "cell_type": "code",
      "metadata": {
        "id": "C4o9QgmWI3Pw"
      },
      "source": [
        "train_corpus = \" \".join(df[\"Content\"])\n",
        "train_corpus = train_corpus.lower()"
      ],
      "execution_count": null,
      "outputs": []
    },
    {
      "cell_type": "code",
      "metadata": {
        "colab": {
          "base_uri": "https://localhost:8080/"
        },
        "id": "Hed2ySbwJH6B",
        "outputId": "cdecb9c2-41e9-4ec9-b1fe-8dd973e8e599"
      },
      "source": [
        "import nltk\n",
        "from nltk.tokenize import word_tokenize\n",
        "nltk.download(\"punkt\")\n",
        "\n",
        "tokens = word_tokenize(train_corpus)"
      ],
      "execution_count": null,
      "outputs": [
        {
          "output_type": "stream",
          "name": "stdout",
          "text": [
            "[nltk_data] Downloading package punkt to /root/nltk_data...\n",
            "[nltk_data]   Package punkt is already up-to-date!\n"
          ]
        }
      ]
    },
    {
      "cell_type": "markdown",
      "metadata": {
        "id": "yJ8T0fwYJYJX"
      },
      "source": [
        "Отфильтруем данные\n",
        "\n",
        "и соберём в корпус N наиболее частых токенов"
      ]
    },
    {
      "cell_type": "code",
      "metadata": {
        "id": "EXOLVK1tJLT8"
      },
      "source": [
        "tokens_filtered = [word for word in tokens if word.isalnum()]"
      ],
      "execution_count": null,
      "outputs": []
    },
    {
      "cell_type": "code",
      "metadata": {
        "id": "8qCQH5nIJoiB"
      },
      "source": [
        "from nltk.probability import FreqDist\n",
        "dist = FreqDist(tokens_filtered)\n",
        "tokens_filtered_top = [pair[0] for pair in dist.most_common(max_words-1)]"
      ],
      "execution_count": null,
      "outputs": []
    },
    {
      "cell_type": "code",
      "metadata": {
        "colab": {
          "base_uri": "https://localhost:8080/"
        },
        "id": "bRQ-6wwjJrGo",
        "outputId": "f96cbff3-2bb0-401a-e67e-f855d7bc33e0"
      },
      "source": [
        "tokens_filtered_top[:10]"
      ],
      "execution_count": null,
      "outputs": [
        {
          "output_type": "execute_result",
          "data": {
            "text/plain": [
              "['приложение',\n",
              " 'удобно',\n",
              " 'работать',\n",
              " 'удобный',\n",
              " 'отлично',\n",
              " 'нравиться',\n",
              " 'хороший',\n",
              " 'отличный',\n",
              " 'телефон',\n",
              " 'супер']"
            ]
          },
          "metadata": {},
          "execution_count": 28
        }
      ]
    },
    {
      "cell_type": "code",
      "metadata": {
        "id": "Tdk777qGJtz4"
      },
      "source": [
        "vocabulary = {v: k for k, v in dict(enumerate(tokens_filtered_top, 1)).items()}"
      ],
      "execution_count": null,
      "outputs": []
    },
    {
      "cell_type": "code",
      "source": [
        "len(vocabulary)"
      ],
      "metadata": {
        "colab": {
          "base_uri": "https://localhost:8080/"
        },
        "id": "GiHiMlNY-RPO",
        "outputId": "0594d459-fbb8-4c83-f4fa-41e917c75624"
      },
      "execution_count": null,
      "outputs": [
        {
          "output_type": "execute_result",
          "data": {
            "text/plain": [
              "13017"
            ]
          },
          "metadata": {},
          "execution_count": 30
        }
      ]
    },
    {
      "cell_type": "code",
      "metadata": {
        "id": "5OULZgvkJzpj"
      },
      "source": [
        "def text_to_sequence(text, maxlen):\n",
        "    result = []\n",
        "    tokens = word_tokenize(text.lower())\n",
        "    tokens_filtered = [word for word in tokens if word.isalnum()]\n",
        "    for word in tokens_filtered:\n",
        "        if word in vocabulary:\n",
        "            result.append(vocabulary[word])\n",
        "    padding = [0]*(maxlen-len(result))\n",
        "    return padding + result[-maxlen:]"
      ],
      "execution_count": null,
      "outputs": []
    },
    {
      "cell_type": "code",
      "source": [
        "from sklearn.model_selection import train_test_split\n",
        "df_train, df_test, y_train, y_test = train_test_split(df['Content'], df['Rating'], test_size=0.25)"
      ],
      "metadata": {
        "id": "e-97pYrDeuau"
      },
      "execution_count": null,
      "outputs": []
    },
    {
      "cell_type": "code",
      "metadata": {
        "id": "pqHlf5nNJ2hl"
      },
      "source": [
        "x_train = np.asarray([text_to_sequence(text, max_len) for text in df_train], dtype=np.int32)\n",
        "x_test = np.asarray([text_to_sequence(text, max_len) for text in df_test], dtype=np.int32)"
      ],
      "execution_count": null,
      "outputs": []
    },
    {
      "cell_type": "code",
      "metadata": {
        "colab": {
          "base_uri": "https://localhost:8080/"
        },
        "id": "lI4NUg_TJ6NK",
        "outputId": "70ff09a7-4654-4d42-aeac-f24b13ccd8f9"
      },
      "source": [
        "x_train.shape"
      ],
      "execution_count": null,
      "outputs": [
        {
          "output_type": "execute_result",
          "data": {
            "text/plain": [
              "(15494, 140)"
            ]
          },
          "metadata": {},
          "execution_count": 34
        }
      ]
    },
    {
      "cell_type": "code",
      "metadata": {
        "id": "Qy2tdf9zMgY_",
        "outputId": "708ec46c-4e26-4186-b40c-7580a90c4eda",
        "colab": {
          "base_uri": "https://localhost:8080/"
        }
      },
      "source": [
        "max_len"
      ],
      "execution_count": null,
      "outputs": [
        {
          "output_type": "execute_result",
          "data": {
            "text/plain": [
              "140"
            ]
          },
          "metadata": {},
          "execution_count": 35
        }
      ]
    },
    {
      "cell_type": "code",
      "source": [
        "df_train"
      ],
      "metadata": {
        "colab": {
          "base_uri": "https://localhost:8080/"
        },
        "id": "EJ66VVTcQjuk",
        "outputId": "787fe5b3-5da1-4169-8291-a124b5c50fbd"
      },
      "execution_count": null,
      "outputs": [
        {
          "output_type": "execute_result",
          "data": {
            "text/plain": [
              "16908                                                                               учиться\n",
              "8358                                                                     ахуесть приложение\n",
              "9373                                                                удобнобольшоя создатель\n",
              "8649                                                                       отлично работать\n",
              "18174                                     незнаюменить вполне устраивать прилжениеставить 5\n",
              "                                                ...                                        \n",
              "9586     писать устройство рута приложение говорить обратный сервис сказать рутанета делать\n",
              "1372                                                                                       \n",
              "8666                                                                                  super\n",
              "9162                                                                                 удобно\n",
              "5431                    вполне удобный приложение интерфейс интуитивный платёж история рука\n",
              "Name: Content, Length: 15494, dtype: object"
            ]
          },
          "metadata": {},
          "execution_count": 36
        }
      ]
    },
    {
      "cell_type": "code",
      "metadata": {
        "colab": {
          "base_uri": "https://localhost:8080/"
        },
        "id": "9QlLvXd9KDf3",
        "outputId": "c4c516e0-b70c-4b50-e57a-509c84a01f64"
      },
      "source": [
        "x_train"
      ],
      "execution_count": null,
      "outputs": [
        {
          "output_type": "execute_result",
          "data": {
            "text/plain": [
              "array([[   0,    0,    0, ...,    0,    0, 1084],\n",
              "       [   0,    0,    0, ...,    0, 7654,    1],\n",
              "       [   0,    0,    0, ...,    0, 3419,  801],\n",
              "       ...,\n",
              "       [   0,    0,    0, ...,    0,    0,  441],\n",
              "       [   0,    0,    0, ...,    0,    0,    2],\n",
              "       [   0,    0,    0, ...,   38,  152,   95]], dtype=int32)"
            ]
          },
          "metadata": {},
          "execution_count": 37
        }
      ]
    },
    {
      "cell_type": "code",
      "source": [
        "#df[df['Rating']==1] = 0\n",
        "#df['Rating'] = df['Rating'].apply(lambda x: 1 if x > 3 else 0)"
      ],
      "metadata": {
        "id": "NHxRjzwZjzgZ"
      },
      "execution_count": null,
      "outputs": []
    },
    {
      "cell_type": "markdown",
      "metadata": {
        "id": "xZkrNK8OMgZA"
      },
      "source": [
        "# Keras model"
      ]
    },
    {
      "cell_type": "code",
      "metadata": {
        "id": "p-fmNPMmMgZA"
      },
      "source": [
        "import numpy as np\n",
        "\n",
        "import tensorflow as tf\n",
        "from tensorflow.keras.models import Sequential, Model\n",
        "from tensorflow.keras.layers import Embedding, Conv1D, GlobalMaxPool1D, Dense, Flatten, Dropout, AveragePooling2D, Activation, MaxPooling2D, BatchNormalization, Concatenate\n",
        "from tensorflow.keras import layers\n",
        "from tensorflow.keras import utils\n",
        "from tensorflow.keras import models\n",
        "from tensorflow.keras import callbacks\n",
        "from tensorflow.keras.metrics import categorical_crossentropy\n",
        "from keras.callbacks import TensorBoard \n",
        "from keras.callbacks import EarlyStopping  "
      ],
      "execution_count": null,
      "outputs": []
    },
    {
      "cell_type": "code",
      "metadata": {
        "id": "EetYhxVnMgZB"
      },
      "source": [
        "num_classes = 5\n",
        "y_train = utils.to_categorical(y_train)\n",
        "y_test = utils.to_categorical(y_test)"
      ],
      "execution_count": null,
      "outputs": []
    },
    {
      "cell_type": "code",
      "source": [
        "y_train[0]"
      ],
      "metadata": {
        "colab": {
          "base_uri": "https://localhost:8080/"
        },
        "id": "F5cfPHfyhwon",
        "outputId": "8b06201d-fb8c-495c-9416-2056abc9510c"
      },
      "execution_count": null,
      "outputs": [
        {
          "output_type": "execute_result",
          "data": {
            "text/plain": [
              "array([0., 0., 0., 1., 0.], dtype=float32)"
            ]
          },
          "metadata": {},
          "execution_count": 34
        }
      ]
    },
    {
      "cell_type": "code",
      "metadata": {
        "id": "6Dt4YyrSMgZB"
      },
      "source": [
        "model = Sequential()\n",
        "model.add(Embedding(input_dim=max_words, output_dim=128, input_length=max_len))\n",
        "model.add(Conv1D( 128, 3, kernel_regularizer=tf.keras.regularizers.L1(0.01),\n",
        "    activity_regularizer=tf.keras.regularizers.L2(0.01) ))\n",
        "model.add(Activation(\"relu\"))\n",
        "model.add(GlobalMaxPool1D())\n",
        "model.add(Dense(10))\n",
        "model.add(Activation(\"relu\"))\n",
        "model.add(Dropout(0.5))\n",
        "model.add(Dense(num_classes))\n",
        "model.add(Activation('softmax'))"
      ],
      "execution_count": null,
      "outputs": []
    },
    {
      "cell_type": "markdown",
      "source": [
        "##добавила регуляризацию в слой conv, так как без нее очень сильно переобучалась модель"
      ],
      "metadata": {
        "id": "FGk559F8MpLk"
      }
    },
    {
      "cell_type": "code",
      "metadata": {
        "id": "nbMXaTTZMgZC"
      },
      "source": [
        "model.compile(loss='categorical_crossentropy',\n",
        "              optimizer='adam',\n",
        "              metrics=['accuracy'])"
      ],
      "execution_count": null,
      "outputs": []
    },
    {
      "cell_type": "code",
      "metadata": {
        "id": "yRisairjMgZC",
        "outputId": "4fbd557c-701d-4512-e17a-c79b546986c0",
        "colab": {
          "base_uri": "https://localhost:8080/"
        }
      },
      "source": [
        "tensorboard=TensorBoard(log_dir='./logs', write_graph=True, write_images=True)\n",
        "early_stopping=EarlyStopping(monitor='val_loss')  \n",
        "\n",
        "\n",
        "history = model.fit(x_train, y_train,\n",
        "                    batch_size=batch_size,\n",
        "                    epochs=epochs,\n",
        "                    verbose=1,\n",
        "                    validation_split=0.1,\n",
        "                    #callbacks=[tensorboard, early_stopping]\n",
        "                    )"
      ],
      "execution_count": null,
      "outputs": [
        {
          "output_type": "stream",
          "name": "stdout",
          "text": [
            "Epoch 1/20\n",
            "28/28 [==============================] - 0s 18ms/step - loss: 0.9863 - accuracy: 0.7548 - val_loss: 0.8682 - val_accuracy: 0.7465\n",
            "Epoch 2/20\n",
            "28/28 [==============================] - 0s 17ms/step - loss: 0.9746 - accuracy: 0.7542 - val_loss: 0.8573 - val_accuracy: 0.7477\n",
            "Epoch 3/20\n",
            "28/28 [==============================] - 0s 17ms/step - loss: 0.9612 - accuracy: 0.7604 - val_loss: 0.8445 - val_accuracy: 0.7465\n",
            "Epoch 4/20\n",
            "28/28 [==============================] - 0s 17ms/step - loss: 0.9408 - accuracy: 0.7636 - val_loss: 0.8430 - val_accuracy: 0.7516\n",
            "Epoch 5/20\n",
            "28/28 [==============================] - 0s 17ms/step - loss: 0.9223 - accuracy: 0.7636 - val_loss: 0.8291 - val_accuracy: 0.7542\n",
            "Epoch 6/20\n",
            "28/28 [==============================] - 0s 17ms/step - loss: 0.8938 - accuracy: 0.7684 - val_loss: 0.8226 - val_accuracy: 0.7535\n",
            "Epoch 7/20\n",
            "28/28 [==============================] - 0s 17ms/step - loss: 0.8803 - accuracy: 0.7698 - val_loss: 0.8142 - val_accuracy: 0.7497\n",
            "Epoch 8/20\n",
            "28/28 [==============================] - 0s 17ms/step - loss: 0.8673 - accuracy: 0.7724 - val_loss: 0.8109 - val_accuracy: 0.7606\n",
            "Epoch 9/20\n",
            "28/28 [==============================] - 0s 17ms/step - loss: 0.8502 - accuracy: 0.7750 - val_loss: 0.8042 - val_accuracy: 0.7535\n",
            "Epoch 10/20\n",
            "28/28 [==============================] - 0s 17ms/step - loss: 0.8378 - accuracy: 0.7793 - val_loss: 0.8054 - val_accuracy: 0.7600\n",
            "Epoch 11/20\n",
            "28/28 [==============================] - 0s 17ms/step - loss: 0.8239 - accuracy: 0.7831 - val_loss: 0.8004 - val_accuracy: 0.7581\n",
            "Epoch 12/20\n",
            "28/28 [==============================] - 0s 17ms/step - loss: 0.8171 - accuracy: 0.7837 - val_loss: 0.7959 - val_accuracy: 0.7555\n",
            "Epoch 13/20\n",
            "28/28 [==============================] - 0s 17ms/step - loss: 0.8075 - accuracy: 0.7855 - val_loss: 0.7943 - val_accuracy: 0.7561\n",
            "Epoch 14/20\n",
            "28/28 [==============================] - 0s 17ms/step - loss: 0.8040 - accuracy: 0.7857 - val_loss: 0.7949 - val_accuracy: 0.7587\n",
            "Epoch 15/20\n",
            "28/28 [==============================] - 0s 17ms/step - loss: 0.7930 - accuracy: 0.7877 - val_loss: 0.7929 - val_accuracy: 0.7574\n",
            "Epoch 16/20\n",
            "28/28 [==============================] - 0s 17ms/step - loss: 0.7910 - accuracy: 0.7882 - val_loss: 0.7908 - val_accuracy: 0.7561\n",
            "Epoch 17/20\n",
            "28/28 [==============================] - 0s 17ms/step - loss: 0.7853 - accuracy: 0.7899 - val_loss: 0.8002 - val_accuracy: 0.7587\n",
            "Epoch 18/20\n",
            "28/28 [==============================] - 0s 17ms/step - loss: 0.7772 - accuracy: 0.7912 - val_loss: 0.7911 - val_accuracy: 0.7581\n",
            "Epoch 19/20\n",
            "28/28 [==============================] - 0s 17ms/step - loss: 0.7633 - accuracy: 0.7922 - val_loss: 0.7903 - val_accuracy: 0.7587\n",
            "Epoch 20/20\n",
            "28/28 [==============================] - 0s 17ms/step - loss: 0.7638 - accuracy: 0.7945 - val_loss: 0.7899 - val_accuracy: 0.7587\n"
          ]
        }
      ]
    },
    {
      "cell_type": "code",
      "metadata": {
        "id": "gUQeNKRxMgZD",
        "outputId": "4498d508-5fe5-490c-8ac9-fe93208a8b20",
        "colab": {
          "base_uri": "https://localhost:8080/"
        }
      },
      "source": [
        "score = model.evaluate(x_test, y_test, batch_size=batch_size, verbose=1)\n",
        "print('\\n')\n",
        "print('Test score:', score[0])\n",
        "print('Test accuracy:', score[1])"
      ],
      "execution_count": null,
      "outputs": [
        {
          "output_type": "stream",
          "name": "stdout",
          "text": [
            "11/11 [==============================] - 0s 5ms/step - loss: 0.7790 - accuracy: 0.7675\n",
            "\n",
            "\n",
            "Test score: 0.7790473699569702\n",
            "Test accuracy: 0.7674733996391296\n"
          ]
        }
      ]
    },
    {
      "cell_type": "markdown",
      "source": [
        "##предобученные векторы"
      ],
      "metadata": {
        "id": "_X6-ot67S9d1"
      }
    },
    {
      "cell_type": "code",
      "source": [
        "!wget http://vectors.nlpl.eu/repository/20/184.zip"
      ],
      "metadata": {
        "colab": {
          "base_uri": "https://localhost:8080/"
        },
        "id": "PnlpWCngS8zk",
        "outputId": "4102b04a-dcd8-4010-dc4d-9c4d8739a0d0"
      },
      "execution_count": null,
      "outputs": [
        {
          "output_type": "stream",
          "name": "stdout",
          "text": [
            "--2022-06-08 17:30:06--  http://vectors.nlpl.eu/repository/20/184.zip\n",
            "Resolving vectors.nlpl.eu (vectors.nlpl.eu)... 129.240.189.181\n",
            "Connecting to vectors.nlpl.eu (vectors.nlpl.eu)|129.240.189.181|:80... connected.\n",
            "HTTP request sent, awaiting response... 200 OK\n",
            "Length: 640196018 (611M) [application/zip]\n",
            "Saving to: ‘184.zip’\n",
            "\n",
            "184.zip             100%[===================>] 610.54M  12.6MB/s    in 51s     \n",
            "\n",
            "2022-06-08 17:30:58 (12.1 MB/s) - ‘184.zip’ saved [640196018/640196018]\n",
            "\n"
          ]
        }
      ]
    },
    {
      "cell_type": "code",
      "source": [
        "!unzip 184.zip -d /184_model"
      ],
      "metadata": {
        "colab": {
          "base_uri": "https://localhost:8080/"
        },
        "id": "0REPjO9TXh4v",
        "outputId": "1b10ba9f-b774-437d-8e35-289c62b739c2"
      },
      "execution_count": null,
      "outputs": [
        {
          "output_type": "stream",
          "name": "stdout",
          "text": [
            "Archive:  184.zip\n",
            "  inflating: /184_model/meta.json    \n",
            "  inflating: /184_model/model.bin    \n",
            "  inflating: /184_model/model.txt    \n",
            "  inflating: /184_model/README       \n"
          ]
        }
      ]
    },
    {
      "cell_type": "code",
      "source": [
        "path_to_file = \"/184_model/model.txt\"\n",
        "\n",
        "embeddings_index = {}\n",
        "with open(path_to_file) as f:\n",
        "    for line in f:\n",
        "        word, coefs = line.split(maxsplit=1)\n",
        "        coefs = np.fromstring(coefs, \"f\", sep=\" \")\n",
        "        embeddings_index[word] = coefs\n",
        "\n",
        "print(\"Found %s word vectors.\" % len(embeddings_index))"
      ],
      "metadata": {
        "colab": {
          "base_uri": "https://localhost:8080/"
        },
        "id": "G44t-i9LS8wq",
        "outputId": "0a48c094-feb3-455c-a924-7452352146c3"
      },
      "execution_count": null,
      "outputs": [
        {
          "output_type": "stream",
          "name": "stdout",
          "text": [
            "Found 249319 word vectors.\n"
          ]
        }
      ]
    },
    {
      "cell_type": "code",
      "source": [
        "embedding_dim = 300\n",
        "\n",
        "embedding_matrix = np.zeros((max_words, embedding_dim))\n",
        "for word in tokens_filtered_top:\n",
        "    embedding_vector = embeddings_index.get(word)\n",
        "    if embedding_vector is not None:\n",
        "        # words not found in embedding index will be all-zeros.\n",
        "        embedding_matrix[tokens_filtered_top.index(word)] = embedding_vector"
      ],
      "metadata": {
        "id": "AjqvQF1xS8tT"
      },
      "execution_count": null,
      "outputs": []
    },
    {
      "cell_type": "code",
      "source": [
        "model = Sequential()\n",
        "model.add(Embedding(input_dim=max_words, weights=[embedding_matrix], output_dim=embedding_dim, input_length=max_len))\n",
        "model.add(Conv1D( 128, 3, \n",
        "                 #kernel_regularizer=tf.keras.regularizers.L1(0.01),\n",
        "    #activity_regularizer=tf.keras.regularizers.L2(0.01) \n",
        "    ))\n",
        "model.add(Activation(\"relu\"))\n",
        "model.add(GlobalMaxPool1D())\n",
        "model.add(Dense(10))\n",
        "model.add(Activation(\"relu\"))\n",
        "model.add(Dropout(0.5))\n",
        "model.add(Dense(num_classes))\n",
        "model.add(Activation('softmax'))"
      ],
      "metadata": {
        "id": "wwYP1AxMS8kD"
      },
      "execution_count": null,
      "outputs": []
    },
    {
      "cell_type": "code",
      "source": [
        "model.compile(loss='categorical_crossentropy',\n",
        "              optimizer='adam',\n",
        "              metrics=['accuracy'])"
      ],
      "metadata": {
        "id": "U9o9vyvkS8gx"
      },
      "execution_count": null,
      "outputs": []
    },
    {
      "cell_type": "code",
      "source": [
        "tensorboard=TensorBoard(log_dir='./logs', write_graph=True, write_images=True)\n",
        "early_stopping=EarlyStopping(monitor='val_loss')  \n",
        "\n",
        "\n",
        "history = model.fit(x_train, y_train,\n",
        "                    batch_size=batch_size,\n",
        "                    epochs=epochs,\n",
        "                    verbose=1,\n",
        "                    validation_split=0.1,\n",
        "                    #callbacks=[tensorboard, early_stopping]\n",
        "                    )"
      ],
      "metadata": {
        "colab": {
          "base_uri": "https://localhost:8080/"
        },
        "id": "NNmOl3JBS8dE",
        "outputId": "00f79444-fbca-4843-8e10-c4ff5b4d886f"
      },
      "execution_count": null,
      "outputs": [
        {
          "metadata": {
            "tags": null
          },
          "name": "stdout",
          "output_type": "stream",
          "text": [
            "Epoch 1/20\n",
            "28/28 [==============================] - 1s 32ms/step - loss: 1.5961 - accuracy: 0.6862 - val_loss: 1.5819 - val_accuracy: 0.6968\n",
            "Epoch 2/20\n",
            "28/28 [==============================] - 1s 24ms/step - loss: 1.5683 - accuracy: 0.7079 - val_loss: 1.5551 - val_accuracy: 0.6968\n",
            "Epoch 3/20\n",
            "28/28 [==============================] - 1s 24ms/step - loss: 1.5414 - accuracy: 0.7079 - val_loss: 1.5292 - val_accuracy: 0.6968\n",
            "Epoch 4/20\n",
            "28/28 [==============================] - 1s 24ms/step - loss: 1.5151 - accuracy: 0.7079 - val_loss: 1.5039 - val_accuracy: 0.6968\n",
            "Epoch 5/20\n",
            "28/28 [==============================] - 1s 24ms/step - loss: 1.4896 - accuracy: 0.7079 - val_loss: 1.4794 - val_accuracy: 0.6968\n",
            "Epoch 6/20\n",
            "28/28 [==============================] - 1s 24ms/step - loss: 1.4650 - accuracy: 0.7079 - val_loss: 1.4558 - val_accuracy: 0.6968\n",
            "Epoch 7/20\n",
            "28/28 [==============================] - 1s 24ms/step - loss: 1.4411 - accuracy: 0.7079 - val_loss: 1.4329 - val_accuracy: 0.6968\n",
            "Epoch 8/20\n",
            "28/28 [==============================] - 1s 24ms/step - loss: 1.4180 - accuracy: 0.7079 - val_loss: 1.4108 - val_accuracy: 0.6968\n",
            "Epoch 9/20\n",
            "28/28 [==============================] - 1s 24ms/step - loss: 1.3958 - accuracy: 0.7079 - val_loss: 1.3895 - val_accuracy: 0.6968\n",
            "Epoch 10/20\n",
            "28/28 [==============================] - 1s 24ms/step - loss: 1.3743 - accuracy: 0.7079 - val_loss: 1.3691 - val_accuracy: 0.6968\n",
            "Epoch 11/20\n",
            "28/28 [==============================] - 1s 24ms/step - loss: 1.3537 - accuracy: 0.7079 - val_loss: 1.3495 - val_accuracy: 0.6968\n",
            "Epoch 12/20\n",
            "28/28 [==============================] - 1s 24ms/step - loss: 1.3339 - accuracy: 0.7079 - val_loss: 1.3306 - val_accuracy: 0.6968\n",
            "Epoch 13/20\n",
            "28/28 [==============================] - 1s 24ms/step - loss: 1.3149 - accuracy: 0.7079 - val_loss: 1.3126 - val_accuracy: 0.6968\n",
            "Epoch 14/20\n",
            "28/28 [==============================] - 1s 24ms/step - loss: 1.2967 - accuracy: 0.7079 - val_loss: 1.2953 - val_accuracy: 0.6968\n",
            "Epoch 15/20\n",
            "28/28 [==============================] - 1s 24ms/step - loss: 1.2793 - accuracy: 0.7079 - val_loss: 1.2788 - val_accuracy: 0.6968\n",
            "Epoch 16/20\n",
            "28/28 [==============================] - 1s 24ms/step - loss: 1.2626 - accuracy: 0.7079 - val_loss: 1.2629 - val_accuracy: 0.6968\n",
            "Epoch 17/20\n",
            "28/28 [==============================] - 1s 24ms/step - loss: 1.2467 - accuracy: 0.7079 - val_loss: 1.2479 - val_accuracy: 0.6968\n",
            "Epoch 18/20\n",
            "28/28 [==============================] - 1s 24ms/step - loss: 1.2316 - accuracy: 0.7079 - val_loss: 1.2336 - val_accuracy: 0.6968\n",
            "Epoch 19/20\n",
            "28/28 [==============================] - 1s 24ms/step - loss: 1.2171 - accuracy: 0.7079 - val_loss: 1.2199 - val_accuracy: 0.6968\n",
            "Epoch 20/20\n",
            "28/28 [==============================] - 1s 24ms/step - loss: 1.2033 - accuracy: 0.7079 - val_loss: 1.2070 - val_accuracy: 0.6968\n"
          ]
        }
      ]
    },
    {
      "cell_type": "code",
      "source": [
        "score = model.evaluate(x_test, y_test, batch_size=batch_size, verbose=1)\n",
        "print('\\n')\n",
        "print('Test score:', score[0])\n",
        "print('Test accuracy:', score[1])"
      ],
      "metadata": {
        "colab": {
          "base_uri": "https://localhost:8080/"
        },
        "id": "yaKbXf7JS8ZV",
        "outputId": "0003e8e7-bba2-4dc3-9fe7-539eec77cfa3"
      },
      "execution_count": null,
      "outputs": [
        {
          "output_type": "stream",
          "name": "stdout",
          "text": [
            "11/11 [==============================] - 0s 14ms/step - loss: 1.2004 - accuracy: 0.7038\n",
            "\n",
            "\n",
            "Test score: 1.2004164457321167\n",
            "Test accuracy: 0.7037754058837891\n"
          ]
        }
      ]
    },
    {
      "cell_type": "markdown",
      "source": [
        "## в данном случае лучше результат получился на эмбеддингах по умолчанию, но с использованием регуляризации"
      ],
      "metadata": {
        "id": "8sP6cIlCdftG"
      }
    }
  ]
}