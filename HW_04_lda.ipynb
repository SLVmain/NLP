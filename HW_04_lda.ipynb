{
  "cells": [
    {
      "cell_type": "markdown",
      "metadata": {
        "id": "view-in-github",
        "colab_type": "text"
      },
      "source": [
        "<a href=\"https://colab.research.google.com/github/SLVmain/NLP/blob/Les_04/HW_04_lda.ipynb\" target=\"_parent\"><img src=\"https://colab.research.google.com/assets/colab-badge.svg\" alt=\"Open In Colab\"/></a>"
      ]
    },
    {
      "cell_type": "markdown",
      "source": [
        "## Урок 4. Тематическое моделирование. EM-алгоритм\n",
        "Задача тематическое моделирование\n",
        "\n",
        "продолжаем исследование датасета с твитами\n",
        "\n",
        "Скачиваем датасет (источник): положительные, отрицательные.\n",
        "\n",
        "или можно через ноутбук\n",
        "\n",
        "!wget https://www.dropbox.com/s/fnpq3z4bcnoktiv/positive.csv\n",
        "!wget https://www.dropbox.com/s/r6u59ljhhjdg6j0/negative.csv\n",
        "\n",
        "как альтернатива можно скачать данные из Роспотребнадзора\n",
        "https://zpp.rospotrebnadzor.ru/Forum/Appeals\n",
        "для этого берём ноутбук parse_rospotrebnadzor.ipynb\n",
        "устанавливаем количество скачанных страниц больше не 50-сят хотябы 500 и для анализа берём только вопросы так как ответы есть не всегда\n",
        "\n",
        "что надо сделать\n",
        "1. объединить в одну выборку (это только для твитов), для роспотребнадзора сформировать датасет из вопросов\n",
        "2. провести исследование и выявить тематики о которых говорят в твитах (для твитов), а для роспотребнадзора так же выявить тематики о которых люди пишут проанализировать\n",
        "3. сделать визуализацию кластеров тематик\n",
        "4. проинтерпритировать получившиеся тематики"
      ],
      "metadata": {
        "id": "zJfl8C-MbNbV"
      },
      "id": "zJfl8C-MbNbV"
    },
    {
      "cell_type": "markdown",
      "id": "529f53c6",
      "metadata": {
        "id": "529f53c6"
      },
      "source": [
        "## Закачка данных"
      ]
    },
    {
      "cell_type": "code",
      "execution_count": 1,
      "id": "83d4044a",
      "metadata": {
        "id": "83d4044a"
      },
      "outputs": [],
      "source": [
        "import requests\n",
        "from bs4 import BeautifulSoup \n",
        "import time\n",
        "from urllib.parse import urlparse, urljoin\n",
        "from tqdm.notebook import tqdm"
      ]
    },
    {
      "cell_type": "code",
      "execution_count": 68,
      "id": "a920bc9b",
      "metadata": {
        "id": "a920bc9b",
        "outputId": "2037603e-adf5-4fff-cc25-a74bc8b5be38",
        "colab": {
          "referenced_widgets": [
            "ac5ed62c15004a2c91986544032e581e",
            "bbd7d534f06c44c5b65717e65cc6bc36",
            "900af86adcf8476491b070d13f847256",
            "ce2657a65f4a4450a978441655f45478",
            "d1d50101fdfd4989857681e448ca57c1",
            "e250755e8e6444c0a9dead964f1caeab",
            "8da7957700a64d0d98904359bdde7e4c",
            "875115dd978247adbe105102f372a82d",
            "bb320aa6e2f446e8af1724d80cd5de68",
            "3c7448da21fa4e09ae35872d39b81efd",
            "08e36e0298cb4ea49dcd0aa7160dc47c"
          ],
          "base_uri": "https://localhost:8080/",
          "height": 49
        }
      },
      "outputs": [
        {
          "data": {
            "application/vnd.jupyter.widget-view+json": {
              "model_id": "ac5ed62c15004a2c91986544032e581e",
              "version_major": 2,
              "version_minor": 0
            },
            "text/plain": [
              "Pages:   0%|          | 0/999 [00:00<?, ?it/s]"
            ]
          },
          "metadata": {},
          "output_type": "display_data"
        }
      ],
      "source": [
        "## найти id каждого вопроса на страницах\n",
        "page = 1\n",
        "main_url = 'https://zpp.rospotrebnadzor.ru/Forum/Appeals/AjaxindexList?page={page}&searchtext=&categories=[]'\n",
        "\n",
        "def ids_from_page(soup):\n",
        "    return [i.get('href') for i  in soup.findAll('a', {'class':'appeal-title-link'})]\n",
        "    \n",
        "urls = []\n",
        "for page in tqdm(range(1, 1000), desc='Pages'):\n",
        "    time.sleep(0.5)\n",
        "    res = requests.get(main_url.format(page=page))  \n",
        "    soup = BeautifulSoup(res.text)\n",
        "    urls.extend(ids_from_page(soup))"
      ]
    },
    {
      "cell_type": "code",
      "execution_count": 69,
      "id": "29cf2c0d",
      "metadata": {
        "id": "29cf2c0d",
        "outputId": "629aba17-650d-46c1-d3ff-7df39f2a7607",
        "colab": {
          "referenced_widgets": [
            "0bb39d9b7de24bcfbac5fcfa25ec6b0b",
            "f5e2367a04704394b6eea601a2c47082",
            "245c4a85a7634d98bab9e9f9dcc30879",
            "dec48a4297d24ea9a95f2071d0854c56",
            "87bea960bf9e464ca04e90752df85458",
            "205138dd0aef420582723621a5c59fc8",
            "5dfd722d2c6f4a8b9c931181beb99e89",
            "07897d1a6ba1415cbea2245cee60649b",
            "d3412528b4f54bfdb81d54e56cada38e",
            "cb3b4e2f775848948be7031f086b9593",
            "9073025e780c41c5bc1657e18e5af5b4"
          ],
          "base_uri": "https://localhost:8080/",
          "height": 49
        }
      },
      "outputs": [
        {
          "data": {
            "application/vnd.jupyter.widget-view+json": {
              "model_id": "0bb39d9b7de24bcfbac5fcfa25ec6b0b",
              "version_major": 2,
              "version_minor": 0
            },
            "text/plain": [
              "Pages:   0%|          | 0/4995 [00:00<?, ?it/s]"
            ]
          },
          "metadata": {},
          "output_type": "display_data"
        }
      ],
      "source": [
        "## имея id запросов достанем тексты на страницах\n",
        "domain = 'https://zpp.rospotrebnadzor.ru'\n",
        "\n",
        "def get_text_page_question(soup):\n",
        "    return soup.findAll('p', {'class':'appeal-details-message'})[0].text\n",
        "def get_text_page_answer(soup):\n",
        "    return soup.findAll('p', {'class':'appeal-comments-message'})[0].text\n",
        "\n",
        "questions = []\n",
        "answers = []\n",
        "\n",
        "for url in tqdm(urls, desc='Pages'):\n",
        "    time.sleep(0.5)\n",
        "    res = requests.get(urljoin(domain, url))  \n",
        "    soup = BeautifulSoup(res.text)\n",
        "    \n",
        "    questions.append(get_text_page_question(soup))\n",
        "    try:\n",
        "        answers.append(get_text_page_answer(soup))\n",
        "    except:\n",
        "        answers.append('No answer')"
      ]
    },
    {
      "cell_type": "code",
      "execution_count": 70,
      "id": "0191a57f",
      "metadata": {
        "id": "0191a57f",
        "outputId": "d8df5e5d-52f8-4248-c640-8bbaa8950953",
        "colab": {
          "base_uri": "https://localhost:8080/"
        }
      },
      "outputs": [
        {
          "output_type": "stream",
          "name": "stdout",
          "text": [
            "Q: Добрый день. По адресу Всеволожск,Всеволожский проспект 72 в торговом центре и во всех расположенных в этом здании магазинах есть мыши. Они бегают по торговому залу,вылезают из ламп из потолка. Прошу зарегестрировать моё обращение и провести проверку.\n",
            "\n",
            "A: Раздел «Виртуальная приёмная» ГИР ЗПП представляет собой площадку для общения между потребителем и Роспотребнадзором. Ваше обращение может быть рассмотрено в рамках полномочий Роспотребнадзора в соответствии с требованиями Федерального закона от 02.05.2006 № 59-ФЗ «О порядке рассмотрения обращений граждан Российской Федерации» Вы можете направить официальное обращение на почту: Адрес: 192029, Санкт-Петербург, ул. Ольминского, д. 27. сайт:http://47.rospotrebnadzor.ru/ в разделе «Прием обращений граждан». e-mail: lenobl@47.rospotrebnadzor.ru\n"
          ]
        }
      ],
      "source": [
        "## посмотрим, что скачалось\n",
        "N = 2\n",
        "print('Q:', questions[N])\n",
        "print()\n",
        "print('A:', answers[N])"
      ]
    },
    {
      "cell_type": "code",
      "source": [
        "from google.colab import drive\n",
        "drive.mount('/content/drive')"
      ],
      "metadata": {
        "colab": {
          "base_uri": "https://localhost:8080/"
        },
        "id": "Kq3mqKQ9d91T",
        "outputId": "fd3d07ed-61df-47a4-c8d3-a5b38fc5fd14"
      },
      "id": "Kq3mqKQ9d91T",
      "execution_count": 2,
      "outputs": [
        {
          "output_type": "stream",
          "name": "stdout",
          "text": [
            "Drive already mounted at /content/drive; to attempt to forcibly remount, call drive.mount(\"/content/drive\", force_remount=True).\n"
          ]
        }
      ]
    },
    {
      "cell_type": "code",
      "source": [
        "len(questions)"
      ],
      "metadata": {
        "colab": {
          "base_uri": "https://localhost:8080/"
        },
        "id": "FXlqY85wsR2I",
        "outputId": "dc1d2bb2-7562-4e6a-f339-210cfb577eb9"
      },
      "id": "FXlqY85wsR2I",
      "execution_count": 72,
      "outputs": [
        {
          "output_type": "execute_result",
          "data": {
            "text/plain": [
              "4995"
            ]
          },
          "metadata": {},
          "execution_count": 72
        }
      ]
    },
    {
      "cell_type": "code",
      "source": [
        "import pickle\n",
        "path = '/content/drive/MyDrive/data/'\n",
        "\n",
        "with open(path + \"questions_file1k.pkl\", 'wb') as f:\n",
        "  pickle.dump(questions, f)"
      ],
      "metadata": {
        "id": "EOcpjfsqc-XV"
      },
      "id": "EOcpjfsqc-XV",
      "execution_count": 73,
      "outputs": []
    },
    {
      "cell_type": "code",
      "source": [
        "import pickle\n",
        "path = '/content/drive/MyDrive/data/'"
      ],
      "metadata": {
        "id": "ukojzvCLCPc5"
      },
      "id": "ukojzvCLCPc5",
      "execution_count": 3,
      "outputs": []
    },
    {
      "cell_type": "code",
      "source": [
        "with open(path + \"questions_file1k.pkl\", 'rb') as f:\n",
        "     questions1 = pickle.load(f)"
      ],
      "metadata": {
        "id": "OEdm43JWsTBl"
      },
      "id": "OEdm43JWsTBl",
      "execution_count": 4,
      "outputs": []
    },
    {
      "cell_type": "code",
      "source": [
        "len(questions1)"
      ],
      "metadata": {
        "colab": {
          "base_uri": "https://localhost:8080/"
        },
        "id": "w0-gkwRasNwl",
        "outputId": "7748a5f9-4b0a-4672-cc5f-d2bbc3b92bec"
      },
      "id": "w0-gkwRasNwl",
      "execution_count": 5,
      "outputs": [
        {
          "output_type": "execute_result",
          "data": {
            "text/plain": [
              "4995"
            ]
          },
          "metadata": {},
          "execution_count": 5
        }
      ]
    },
    {
      "cell_type": "code",
      "source": [
        "questions1[2]"
      ],
      "metadata": {
        "colab": {
          "base_uri": "https://localhost:8080/",
          "height": 53
        },
        "id": "3yEpNA-MsbGD",
        "outputId": "d8ffe1fc-3a92-4223-d30b-319082737e71"
      },
      "id": "3yEpNA-MsbGD",
      "execution_count": 6,
      "outputs": [
        {
          "output_type": "execute_result",
          "data": {
            "text/plain": [
              "'Добрый день. По адресу Всеволожск,Всеволожский проспект 72 в торговом центре и во всех расположенных в этом здании магазинах есть мыши. Они бегают по торговому залу,вылезают из ламп из потолка. Прошу зарегестрировать моё обращение и провести проверку.'"
            ],
            "application/vnd.google.colaboratory.intrinsic+json": {
              "type": "string"
            }
          },
          "metadata": {},
          "execution_count": 6
        }
      ]
    },
    {
      "cell_type": "markdown",
      "metadata": {
        "id": "bsWr6XDzf6Mp"
      },
      "source": [
        "### Предобработка\n",
        "\n",
        "\n",
        "Все модели, с которыми мы будем работать далее, работают с предобработанными текстами, поэтому сперва проведем стандартную предобработку текста:"
      ],
      "id": "bsWr6XDzf6Mp"
    },
    {
      "cell_type": "code",
      "execution_count": 7,
      "metadata": {
        "id": "JVrWuN09f6Mp"
      },
      "outputs": [],
      "source": [
        "import re\n",
        "import numpy as np\n",
        "from nltk.corpus import stopwords\n",
        "from tqdm.notebook import tqdm\n",
        "from multiprocessing import Pool\n",
        "from pymystem3 import Mystem"
      ],
      "id": "JVrWuN09f6Mp"
    },
    {
      "cell_type": "code",
      "execution_count": 8,
      "metadata": {
        "colab": {
          "base_uri": "https://localhost:8080/"
        },
        "id": "KabTrpuCJIPw",
        "outputId": "22481fe8-a3a2-4b85-92d4-2448992f67d3"
      },
      "outputs": [
        {
          "output_type": "stream",
          "name": "stdout",
          "text": [
            "[nltk_data] Downloading package stopwords to /root/nltk_data...\n",
            "[nltk_data]   Package stopwords is already up-to-date!\n"
          ]
        },
        {
          "output_type": "execute_result",
          "data": {
            "text/plain": [
              "True"
            ]
          },
          "metadata": {},
          "execution_count": 8
        }
      ],
      "source": [
        "import nltk\n",
        "nltk.download('stopwords')"
      ],
      "id": "KabTrpuCJIPw"
    },
    {
      "cell_type": "code",
      "execution_count": null,
      "metadata": {
        "id": "nTW_QQmfKd0A"
      },
      "outputs": [],
      "source": [
        "! pip install pymorphy2"
      ],
      "id": "nTW_QQmfKd0A"
    },
    {
      "cell_type": "code",
      "execution_count": 10,
      "metadata": {
        "id": "XDBV03ENKhgu"
      },
      "outputs": [],
      "source": [
        "import pymorphy2\n",
        "morph = pymorphy2.MorphAnalyzer()"
      ],
      "id": "XDBV03ENKhgu"
    },
    {
      "cell_type": "code",
      "execution_count": 11,
      "metadata": {
        "id": "V3a8Btmff6Mp"
      },
      "outputs": [],
      "source": [
        "words_regex = re.compile('\\w+')\n",
        "\n",
        "def find_words(text, regex = words_regex):\n",
        "    tokens =  regex.findall(text.lower())\n",
        "    return [w for w in tokens if w.isalpha() and len(w) >= 3]\n",
        "\n",
        "\n",
        "stopwords_list = stopwords.words('russian')\n",
        "morestopwords = ['это', 'который', \"каждый\"]\n",
        "stopwords_list += morestopwords\n",
        "\n",
        "# mystem = Mystem()\n",
        "# def lemmatize(words, lemmer = mystem, stopwords = stopwords_list):\n",
        "#     lemmas = lemmer.lemmatize(' '.join(words))\n",
        "#     return [w for w in lemmas if not w in stopwords \n",
        "#             and w.isalpha()]\n",
        "\n",
        "def lemmatize(words, lemmer = morph, stopwords = stopwords_list):\n",
        "    lemmas = [lemmer.parse(w)[0].normal_form for w in words]\n",
        "    return [w for w in lemmas if not w in stopwords \n",
        "            and w.isalpha()]\n",
        "\n",
        "def preprocess(text):\n",
        "    return (lemmatize(find_words(text)))"
      ],
      "id": "V3a8Btmff6Mp"
    },
    {
      "cell_type": "code",
      "source": [
        "morestopwords = ['это', 'который', 'каждый']\n",
        "stopwords_list += morestopwords"
      ],
      "metadata": {
        "id": "zaOIqdLFFAcC"
      },
      "id": "zaOIqdLFFAcC",
      "execution_count": 77,
      "outputs": []
    },
    {
      "cell_type": "code",
      "execution_count": 12,
      "metadata": {
        "colab": {
          "base_uri": "https://localhost:8080/",
          "height": 35
        },
        "id": "zkxfy_uXf6Mp",
        "outputId": "31e7bc39-3fbc-4364-a8f7-1560adf861e8"
      },
      "outputs": [
        {
          "output_type": "execute_result",
          "data": {
            "text/plain": [
              "'Добрый день!\\r\\nПо всей стране вспышки простуды, больничных, коронавируса, а по телевизору ни слова, почему?'"
            ],
            "application/vnd.google.colaboratory.intrinsic+json": {
              "type": "string"
            }
          },
          "metadata": {},
          "execution_count": 12
        }
      ],
      "source": [
        "questions1[1]"
      ],
      "id": "zkxfy_uXf6Mp"
    },
    {
      "cell_type": "code",
      "execution_count": 13,
      "metadata": {
        "colab": {
          "base_uri": "https://localhost:8080/"
        },
        "id": "TLz9uO5Yf6Mp",
        "outputId": "33e3a1bb-073a-4bde-8927-c53858776542",
        "scrolled": true
      },
      "outputs": [
        {
          "output_type": "stream",
          "name": "stdout",
          "text": [
            "['добрый', 'день', 'весь', 'страна', 'вспышка', 'простуда', 'больничный', 'коронавирус', 'телевизор', 'слово', 'почему']\n"
          ]
        }
      ],
      "source": [
        "print(preprocess(questions1[1]))"
      ],
      "id": "TLz9uO5Yf6Mp"
    },
    {
      "cell_type": "code",
      "execution_count": 15,
      "metadata": {
        "colab": {
          "base_uri": "https://localhost:8080/",
          "height": 49,
          "referenced_widgets": [
            "2f720ea88af3486ba3e2dd7a97e25bb6",
            "6ddbb02820694f0486ae258c289d4ce1",
            "96906400af5c4d88b5439edbe6cf6519",
            "b2567410f8b44904a6efe8fa08246954",
            "7e6e856ca13f4da090a71c70b6786c25",
            "cf370f80ca084513a1d862346ad22c00",
            "d334365b00ec4925942e5afabc09644a",
            "5e1868747bcb43bd8395eadd705b9526",
            "1e3cbc59a7594a1a952a1aa7ee633c41",
            "c59cf60246624f93b209f4a510e84be6",
            "7c169a4add70479c842afa8db4a2a16a"
          ]
        },
        "id": "S8PnTSmRf6Mp",
        "outputId": "ba711478-dbfb-4847-a4b9-fd557f31b2a2"
      },
      "outputs": [
        {
          "output_type": "display_data",
          "data": {
            "text/plain": [
              "  0%|          | 0/4995 [00:00<?, ?it/s]"
            ],
            "application/vnd.jupyter.widget-view+json": {
              "version_major": 2,
              "version_minor": 0,
              "model_id": "2f720ea88af3486ba3e2dd7a97e25bb6"
            }
          },
          "metadata": {}
        }
      ],
      "source": [
        "preprocessed_q = list(tqdm(map(preprocess, questions1), total=len(questions1)))"
      ],
      "id": "S8PnTSmRf6Mp"
    },
    {
      "cell_type": "markdown",
      "metadata": {
        "id": "FFmXozKkf6Mq"
      },
      "source": [
        "## Модель LDA\n",
        "\n",
        "\n",
        "Первая модель, которую мы рассмотрим, LDA - латентное размещение Дирихле. Воспользуемся реализацией из библиотеки gensim."
      ],
      "id": "FFmXozKkf6Mq"
    },
    {
      "cell_type": "code",
      "execution_count": null,
      "metadata": {
        "id": "8Q0q12sDPl3m"
      },
      "outputs": [],
      "source": [
        "!pip install -U gensim"
      ],
      "id": "8Q0q12sDPl3m"
    },
    {
      "cell_type": "code",
      "execution_count": 16,
      "metadata": {
        "id": "jITId1Axf6Mq"
      },
      "outputs": [],
      "source": [
        "from gensim.models import *\n",
        "from gensim import corpora"
      ],
      "id": "jITId1Axf6Mq"
    },
    {
      "cell_type": "markdown",
      "metadata": {
        "id": "b1usmvtHf6Mq"
      },
      "source": [
        "Модель использует векторное представление документов, например, мешок слов (bow), поэтому сперва создадим словарь:"
      ],
      "id": "b1usmvtHf6Mq"
    },
    {
      "cell_type": "code",
      "execution_count": 17,
      "metadata": {
        "id": "l9-iZNVuf6Mq"
      },
      "outputs": [],
      "source": [
        "dictionary = corpora.Dictionary(preprocessed_q)\n",
        "\n",
        "dictionary.filter_extremes(no_below = 10, no_above = 0.9, keep_n=None) # игнорируем слова, которые встречаются реже 10 раз или составляют более 0.9 словаря \n",
        "dictionary.save(path+'question.dict')"
      ],
      "id": "l9-iZNVuf6Mq"
    },
    {
      "cell_type": "markdown",
      "metadata": {
        "id": "gUZtBF3gf6Mq"
      },
      "source": [
        "Векторизуем документы:"
      ],
      "id": "gUZtBF3gf6Mq"
    },
    {
      "cell_type": "code",
      "execution_count": 18,
      "metadata": {
        "id": "Sn17WY1vf6Mq"
      },
      "outputs": [],
      "source": [
        "corpus = [dictionary.doc2bow(text) for text in preprocessed_q]\n",
        "corpora.MmCorpus.serialize(path+'rosnadzor.model', corpus) "
      ],
      "id": "Sn17WY1vf6Mq"
    },
    {
      "cell_type": "code",
      "source": [
        "print(corpus[:1])"
      ],
      "metadata": {
        "colab": {
          "base_uri": "https://localhost:8080/"
        },
        "id": "ARiPPZJvGmxx",
        "outputId": "1edfffc2-a8ac-4e0d-9a35-dfced9848a04"
      },
      "id": "ARiPPZJvGmxx",
      "execution_count": 19,
      "outputs": [
        {
          "output_type": "stream",
          "name": "stdout",
          "text": [
            "[[(0, 1), (1, 3), (2, 2), (3, 1), (4, 2), (5, 1), (6, 1), (7, 1), (8, 1), (9, 2), (10, 1), (11, 1), (12, 2), (13, 1), (14, 1), (15, 1), (16, 2), (17, 1)]]\n"
          ]
        }
      ]
    },
    {
      "cell_type": "code",
      "execution_count": 20,
      "metadata": {
        "colab": {
          "base_uri": "https://localhost:8080/"
        },
        "id": "oOzLXIDQf6Mq",
        "outputId": "c8f0e724-c493-4683-9ff1-bf3c5bdfff62"
      },
      "outputs": [
        {
          "output_type": "stream",
          "name": "stdout",
          "text": [
            "CPU times: user 3 µs, sys: 0 ns, total: 3 µs\n",
            "Wall time: 5.25 µs\n"
          ]
        }
      ],
      "source": [
        "%time \n",
        "lda = ldamodel.LdaModel(corpus, id2word=dictionary, num_topics=20, chunksize=50, update_every=1, passes=2)"
      ],
      "id": "oOzLXIDQf6Mq"
    },
    {
      "cell_type": "code",
      "execution_count": 21,
      "metadata": {
        "colab": {
          "base_uri": "https://localhost:8080/"
        },
        "id": "EqQzwFm2c1_B",
        "outputId": "b1f056d2-603b-4720-87de-0d390002429e"
      },
      "outputs": [
        {
          "output_type": "execute_result",
          "data": {
            "text/plain": [
              "[(15,\n",
              "  '0.098*\"гражданин\" + 0.065*\"территория\" + 0.056*\"просить\" + 0.051*\"место\" + 0.047*\"область\" + 0.046*\"проживать\" + 0.045*\"год\" + 0.042*\"санитарный\" + 0.035*\"граница\" + 0.032*\"норма\"'),\n",
              " (16,\n",
              "  '0.083*\"детский\" + 0.075*\"сад\" + 0.072*\"родитель\" + 0.058*\"июнь\" + 0.051*\"год\" + 0.051*\"билет\" + 0.032*\"место\" + 0.032*\"проведение\" + 0.030*\"мероприятие\" + 0.029*\"тысяча\"'),\n",
              " (8,\n",
              "  '0.053*\"право\" + 0.043*\"находиться\" + 0.041*\"закон\" + 0.037*\"потребитель\" + 0.033*\"правило\" + 0.032*\"согласно\" + 0.032*\"требование\" + 0.027*\"лицо\" + 0.026*\"защита\" + 0.025*\"соответствие\"'),\n",
              " (3,\n",
              "  '0.053*\"день\" + 0.024*\"добрый\" + 0.024*\"сказать\" + 0.023*\"мочь\" + 0.019*\"всё\" + 0.017*\"вопрос\" + 0.017*\"россия\" + 0.016*\"время\" + 0.016*\"здравствуйте\" + 0.015*\"сотрудник\"'),\n",
              " (7,\n",
              "  '0.119*\"заказ\" + 0.070*\"товар\" + 0.052*\"доставка\" + 0.038*\"сайт\" + 0.031*\"поддержка\" + 0.029*\"оплатить\" + 0.028*\"забрать\" + 0.026*\"интернет\" + 0.025*\"служба\" + 0.025*\"сутки\"'),\n",
              " (17,\n",
              "  '0.129*\"магазин\" + 0.091*\"товар\" + 0.051*\"продавец\" + 0.036*\"карта\" + 0.027*\"адрес\" + 0.026*\"чек\" + 0.022*\"центр\" + 0.020*\"приобрести\" + 0.020*\"данный\" + 0.019*\"покупка\"'),\n",
              " (14,\n",
              "  '0.194*\"дом\" + 0.061*\"мусор\" + 0.049*\"адрес\" + 0.043*\"площадка\" + 0.043*\"район\" + 0.035*\"квартира\" + 0.031*\"метр\" + 0.031*\"контейнер\" + 0.031*\"установить\" + 0.027*\"собственник\"'),\n",
              " (1,\n",
              "  '0.060*\"предоставить\" + 0.058*\"документ\" + 0.039*\"группа\" + 0.037*\"просить\" + 0.037*\"дать\" + 0.031*\"поездка\" + 0.031*\"заявление\" + 0.030*\"нужный\" + 0.022*\"ответ\" + 0.019*\"связь\"'),\n",
              " (18,\n",
              "  '0.208*\"телефон\" + 0.153*\"номер\" + 0.069*\"стать\" + 0.058*\"жалоба\" + 0.058*\"проверить\" + 0.052*\"упаковка\" + 0.051*\"наличие\" + 0.034*\"заменить\" + 0.026*\"маршрут\" + 0.026*\"купить\"'),\n",
              " (10,\n",
              "  '0.141*\"день\" + 0.139*\"деньга\" + 0.108*\"вернуть\" + 0.072*\"возврат\" + 0.063*\"сайт\" + 0.060*\"добрый\" + 0.053*\"пройти\" + 0.029*\"написать\" + 0.026*\"получить\" + 0.025*\"обратно\"')]"
            ]
          },
          "metadata": {},
          "execution_count": 21
        }
      ],
      "source": [
        "lda.show_topics(num_topics=10, num_words=10, formatted=True)"
      ],
      "id": "EqQzwFm2c1_B"
    },
    {
      "cell_type": "markdown",
      "metadata": {
        "id": "j5PIsI6ef6Mq"
      },
      "source": [
        "На полученные темы можно посмотреть, изобразив их на плоскости с помощью библиотеки __pyLDAvis__. Чтобы спроецировать темы на плоскость, внутри применяется PCA-разложение."
      ],
      "id": "j5PIsI6ef6Mq"
    },
    {
      "cell_type": "code",
      "execution_count": null,
      "metadata": {
        "id": "y9I-oR4kf6Mq"
      },
      "outputs": [],
      "source": [
        "!pip install pyLDAvis"
      ],
      "id": "y9I-oR4kf6Mq"
    },
    {
      "cell_type": "code",
      "execution_count": 22,
      "metadata": {
        "colab": {
          "base_uri": "https://localhost:8080/",
          "height": 988
        },
        "id": "BlW0h05wf6Mq",
        "outputId": "ded05e45-2f8f-430a-b0de-8b88d9f3be03"
      },
      "outputs": [
        {
          "output_type": "stream",
          "name": "stderr",
          "text": [
            "/usr/local/lib/python3.7/dist-packages/past/types/oldstr.py:5: DeprecationWarning: Using or importing the ABCs from 'collections' instead of from 'collections.abc' is deprecated since Python 3.3,and in 3.9 it will stop working\n",
            "  from collections import Iterable\n"
          ]
        },
        {
          "output_type": "stream",
          "name": "stdout",
          "text": [
            "CPU times: user 3 µs, sys: 0 ns, total: 3 µs\n",
            "Wall time: 4.77 µs\n"
          ]
        },
        {
          "output_type": "stream",
          "name": "stderr",
          "text": [
            "/usr/local/lib/python3.7/dist-packages/pyLDAvis/_prepare.py:247: FutureWarning: In a future version of pandas all arguments of DataFrame.drop except for the argument 'labels' will be keyword-only\n",
            "  by='saliency', ascending=False).head(R).drop('saliency', 1)\n"
          ]
        },
        {
          "output_type": "execute_result",
          "data": {
            "text/plain": [
              "<IPython.core.display.HTML object>"
            ],
            "text/html": [
              "\n",
              "<link rel=\"stylesheet\" type=\"text/css\" href=\"https://cdn.jsdelivr.net/gh/bmabey/pyLDAvis@3.3.1/pyLDAvis/js/ldavis.v1.0.0.css\">\n",
              "\n",
              "\n",
              "<div id=\"ldavis_el16541400897916675362093040101\"></div>\n",
              "<script type=\"text/javascript\">\n",
              "\n",
              "var ldavis_el16541400897916675362093040101_data = {\"mdsDat\": {\"x\": [-0.213180086756137, -0.23162420885265345, -0.07688618958999596, -0.10604764325418359, -0.22051241016471815, -0.0018596516706740332, 0.048262559880303306, -0.2208039202376725, -0.09097740993926136, -0.022442260395947922, 0.06884174670184398, 0.04919786423359498, 0.07915149946095143, 0.08205957831987923, 0.09879361287797535, 0.12632091412198673, 0.1329336035074105, 0.1547861408113751, 0.1724599192489999, 0.17152634169692743], \"y\": [0.05684473382979322, 0.005113057131285478, 0.02711970544094655, 0.053473574155674, -0.15529935270854578, 0.08505139138570658, 0.2777374217068578, -0.12191375704186033, -0.16117896621660674, 0.1718078348419474, 0.14293974065154305, 0.052796208410976576, 0.10758755193799344, -0.05968365630538479, 0.061473725002999545, 0.01200473546627022, -0.1467229811464708, -0.12040924418691115, -0.1464219111114021, -0.1423198112448117], \"topics\": [1, 2, 3, 4, 5, 6, 7, 8, 9, 10, 11, 12, 13, 14, 15, 16, 17, 18, 19, 20], \"cluster\": [1, 1, 1, 1, 1, 1, 1, 1, 1, 1, 1, 1, 1, 1, 1, 1, 1, 1, 1, 1], \"Freq\": [28.373895632678607, 11.101378385523358, 6.636614340067751, 5.778938791263256, 5.688329819639379, 4.554143783398194, 4.550749358257643, 4.529648045846935, 4.367996209440044, 3.5805112149347997, 3.2664115184216893, 2.9004916243235543, 2.8086850443947835, 2.443595301928569, 2.3915203367078792, 1.963224730747664, 1.6155011037491562, 1.456371229277778, 1.231936630534949, 0.7600568988640231]}, \"tinfo\": {\"Term\": [\"\\u0434\\u0435\\u043d\\u044c\", \"\\u043c\\u0430\\u0433\\u0430\\u0437\\u0438\\u043d\", \"\\u0442\\u043e\\u0432\\u0430\\u0440\", \"\\u0440\\u0435\\u0431\\u0451\\u043d\\u043e\\u043a\", \"\\u0434\\u043e\\u043c\", \"\\u0442\\u0435\\u043b\\u0435\\u0444\\u043e\\u043d\", \"\\u0432\\u043e\\u0437\\u0432\\u0440\\u0430\\u0442\", \"\\u0443\\u0441\\u043b\\u0443\\u0433\\u0430\", \"\\u0437\\u0430\\u043a\\u0430\\u0437\", \"\\u0434\\u0435\\u043d\\u044c\\u0433\\u0430\", \"\\u0441\\u0440\\u0435\\u0434\\u0441\\u0442\\u0432\\u043e\", \"\\u0434\\u043e\\u0433\\u043e\\u0432\\u043e\\u0440\", \"\\u0434\\u043e\\u0431\\u0440\\u044b\\u0439\", \"\\u043d\\u0443\\u0436\\u043d\\u043e\", \"\\u0433\\u043e\\u0434\", \"\\u0432\\u0435\\u0440\\u043d\\u0443\\u0442\\u044c\", \"\\u043a\\u043e\\u043c\\u043f\\u0430\\u043d\\u0438\\u044f\", \"\\u0437\\u0434\\u0440\\u0430\\u0432\\u0441\\u0442\\u0432\\u0443\\u0439\\u0442\\u0435\", \"\\u0431\\u0430\\u043d\\u043a\", \"\\u043d\\u043e\\u043c\\u0435\\u0440\", \"\\u0433\\u0440\\u0430\\u0436\\u0434\\u0430\\u043d\\u0438\\u043d\", \"\\u043f\\u0440\\u043e\\u0441\\u0438\\u0442\\u044c\", \"\\u043f\\u0440\\u043e\\u0434\\u0430\\u0432\\u0435\\u0446\", \"\\u0441\\u0430\\u0439\\u0442\", \"\\u0441\\u0440\\u043e\\u043a\", \"\\u043f\\u043e\\u0447\\u0435\\u043c\\u0443\", \"\\u0430\\u0434\\u0440\\u0435\\u0441\", \"\\u043f\\u0440\\u0430\\u0432\\u043e\", \"\\u0434\\u0435\\u043d\\u0435\\u0436\\u043d\\u044b\\u0439\", \"\\u043c\\u0435\\u0441\\u044f\\u0446\", \"\\u0440\\u043e\\u0441\\u0441\\u0438\\u044f\", \"\\u0440\\u0430\\u0431\\u043e\\u0442\\u0430\\u0442\\u044c\", \"\\u0440\\u0435\\u043c\\u043e\\u043d\\u0442\", \"\\u0432\\u043e\\u0434\\u0430\", \"\\u0441\\u0434\\u0430\\u0442\\u044c\", \"\\u043d\\u0435\\u043e\\u0431\\u0445\\u043e\\u0434\\u0438\\u043c\\u043e\", \"\\u0441\\u043f\\u0430\\u0441\\u0438\\u0431\\u043e\", \"\\u043c\\u043e\\u0441\\u043a\\u0432\\u0430\", \"\\u043c\\u0435\\u043d\\u0435\\u0434\\u0436\\u0435\\u0440\", \"\\u0437\\u0432\\u043e\\u043d\\u0438\\u0442\\u044c\", \"\\u0437\\u0430\\u043c\\u0435\\u043d\\u0430\", \"\\u0447\\u0438\\u0441\\u043b\\u043e\", \"\\u0432\\u0442\\u043e\\u0440\\u043e\\u0439\", \"\\u0434\\u0435\\u0444\\u0435\\u043a\\u0442\", \"\\u043f\\u043b\\u0430\\u043d\\u0438\\u0440\\u043e\\u0432\\u0430\\u0442\\u044c\", \"\\u0433\\u0430\\u0440\\u0430\\u043d\\u0442\\u0438\\u044f\", \"\\u0441\\u043e\\u0441\\u0442\\u0430\\u0432\\u0438\\u0442\\u044c\", \"\\u043f\\u0440\\u0438\\u0441\\u0443\\u0442\\u0441\\u0442\\u0432\\u043e\\u0432\\u0430\\u0442\\u044c\", \"\\u043c\\u0430\\u043b\\u0435\\u043d\\u044c\\u043a\\u0438\\u0439\", \"\\u0441\\u043f\\u0438\\u0441\\u0430\\u0442\\u044c\", \"\\u043e\\u0442\\u0434\\u0435\\u043b\", \"\\u0432\\u044b\\u044f\\u0432\\u0438\\u0442\\u044c\", \"\\u043f\\u043e\\u0434\\u0442\\u0432\\u0435\\u0440\\u0434\\u0438\\u0442\\u044c\", \"\\u043f\\u0440\\u0438\\u0435\\u0437\\u0436\\u0430\\u0442\\u044c\", \"\\u0440\\u0430\\u0437\\u043d\\u044b\\u0439\", \"\\u043e\\u0431\\u043c\\u0435\\u043d\\u044f\\u0442\\u044c\", \"\\u043f\\u0440\\u0435\\u0434\\u0441\\u0442\\u0430\\u0432\\u0438\\u0442\\u0435\\u043b\\u044c\", \"\\u043d\\u0430\\u0441\\u0442\\u043e\\u044f\\u0449\\u0438\\u0439\", \"\\u0437\\u043d\\u0430\\u0442\\u044c\", \"\\u043d\\u0435\\u0434\\u043e\\u0441\\u0442\\u0430\\u0442\\u043e\\u043a\", \"\\u0432\\u0440\\u0435\\u043c\\u044f\", \"\\u0440\\u0435\\u0448\\u0438\\u0442\\u044c\", \"\\u0433\\u043e\\u0440\\u044f\\u0447\\u0438\\u0439\", \"\\u0441\\u043a\\u0430\\u0437\\u0430\\u0442\\u044c\", \"\\u0433\\u043e\\u0432\\u043e\\u0440\\u0438\\u0442\\u044c\", \"\\u043f\\u0440\\u043e\\u0441\\u0442\\u043e\", \"\\u043c\\u043e\\u0447\\u044c\", \"\\u0434\\u0435\\u043b\\u0430\\u0442\\u044c\", \"\\u0432\\u043e\\u043f\\u0440\\u043e\\u0441\", \"\\u043f\\u043e\\u0436\\u0430\\u043b\\u0443\\u0439\\u0441\\u0442\\u0430\", \"\\u0432\\u043e\\u0437\\u043c\\u043e\\u0436\\u043d\\u043e\\u0441\\u0442\\u044c\", \"\\u0441\\u043e\\u0442\\u0440\\u0443\\u0434\\u043d\\u0438\\u043a\", \"\\u0438\\u043d\\u0444\\u043e\\u0440\\u043c\\u0430\\u0446\\u0438\\u044f\", \"\\u0435\\u0449\\u0451\", \"\\u0434\\u0435\\u043d\\u044c\", \"\\u0432\\u0441\\u0451\", \"\\u0434\\u043e\\u0431\\u0440\\u044b\\u0439\", \"\\u0441\\u0432\\u043e\\u0439\", \"\\u0445\\u043e\\u0442\\u0435\\u0442\\u044c\", \"\\u043f\\u043e\\u0434\\u0441\\u043a\\u0430\\u0437\\u0430\\u0442\\u044c\", \"\\u0441\\u0434\\u0435\\u043b\\u0430\\u0442\\u044c\", \"\\u0441\\u0438\\u0442\\u0443\\u0430\\u0446\\u0438\\u044f\", \"\\u0440\\u0430\\u0431\\u043e\\u0442\\u0430\", \"\\u0437\\u0434\\u0440\\u0430\\u0432\\u0441\\u0442\\u0432\\u0443\\u0439\\u0442\\u0435\", \"\\u0434\\u0430\\u0442\\u044c\", \"\\u0434\\u043e\\u043b\\u0436\\u043d\\u044b\\u0439\", \"\\u0441\\u0440\\u043e\\u043a\", \"\\u043e\\u0442\\u0432\\u0435\\u0442\", \"\\u043d\\u0435\\u0434\\u0435\\u043b\\u044f\", \"\\u043f\\u043e\\u043b\\u0443\\u0447\\u0438\\u0442\\u044c\", \"\\u0434\\u0430\\u043d\\u043d\\u044b\\u0439\", \"\\u043a\\u0430\\u0440\\u0442\\u0430\", \"\\u0446\\u0435\\u043d\\u0442\\u0440\", \"\\u043f\\u043e\\u043a\\u0443\\u043f\\u043a\\u0430\", \"\\u0431\\u0440\\u0430\\u043a\", \"\\u0438\\u043d\\u043d\\u0430\", \"\\u043e\\u0444\\u043e\\u0440\\u043c\\u043b\\u0435\\u043d\\u0438\\u0435\", \"\\u043f\\u0440\\u043e\\u0441\\u043f\\u0435\\u043a\\u0442\", \"\\u0441\\u0438\\u0441\\u0442\\u0435\\u043c\\u0430\", \"\\u0442\\u043e\\u0440\\u0433\\u043e\\u0432\\u044b\\u0439\", \"\\u0444\\u0438\\u0440\\u043c\\u0430\", \"\\u043c\\u0435\\u0431\\u0435\\u043b\\u044c\", \"\\u043f\\u0440\\u0438\\u043b\\u0430\\u0433\\u0430\\u0442\\u044c\", \"wildberries\", \"\\u0432\\u0438\\u0434\\u0435\\u043e\", \"\\u0441\\u0441\\u044b\\u043b\\u043a\\u0430\", \"\\u043f\\u0440\\u0438\\u0432\\u043b\\u0435\\u0447\\u044c\", \"\\u043e\\u0442\\u043b\\u0438\\u0447\\u0430\\u0442\\u044c\\u0441\\u044f\", \"\\u0442\\u0440\\u0435\\u0449\\u0438\\u043d\\u0430\", \"\\u043f\\u043e\\u0434\\u0445\\u043e\\u0434\\u0438\\u0442\\u044c\", \"\\u0437\\u0430\\u0440\\u0435\\u0433\\u0438\\u0441\\u0442\\u0440\\u0438\\u0440\\u043e\\u0432\\u0430\\u0442\\u044c\", \"\\u0432\\u043d\\u0443\\u0442\\u0440\\u0435\\u043d\\u043d\\u0438\\u0439\", \"\\u043a\\u043b\\u0443\\u0431\", \"\\u043e\\u0431\\u043e\\u0437\\u043d\\u0430\\u0447\\u0438\\u0442\\u044c\", \"\\u043f\\u043e\\u043f\\u0440\\u043e\\u0431\\u043e\\u0432\\u0430\\u0442\\u044c\", \"\\u043f\\u043e\\u0441\\u043c\\u043e\\u0442\\u0440\\u0435\\u0442\\u044c\", \"\\u043e\\u0433\\u0440\\u043d\", \"\\u043e\\u0433\\u0440\\u0430\\u043d\\u0438\\u0447\\u0435\\u043d\\u043d\\u044b\\u0439\", \"\\u043d\\u0435\\u043d\\u0430\\u0434\\u043b\\u0435\\u0436\\u0430\\u0449\\u0438\\u0439\", \"\\u0430\\u043a\\u0446\\u0438\\u044f\", \"\\u043e\\u043f\\u0438\\u0441\\u0430\\u043d\\u0438\\u0435\", \"\\u043c\\u0430\\u0433\\u0430\\u0437\\u0438\\u043d\", \"\\u043f\\u0440\\u043e\\u0434\\u0430\\u0432\\u0435\\u0446\", \"\\u043e\\u0431\\u043d\\u0430\\u0440\\u0443\\u0436\\u0438\\u0442\\u044c\", \"\\u0442\\u043e\\u0432\\u0430\\u0440\", \"\\u0447\\u0435\\u043a\", \"\\u043f\\u0440\\u0438\\u043e\\u0431\\u0440\\u0435\\u0441\\u0442\\u0438\", \"\\u043a\\u0430\\u0447\\u0435\\u0441\\u0442\\u0432\\u043e\", \"\\u043f\\u0440\\u043e\\u0432\\u0435\\u0440\\u043a\\u0430\", \"\\u0443\\u043a\\u0430\\u0437\\u0430\\u043d\\u043d\\u044b\\u0439\", \"\\u043e\\u0442\\u043a\\u0430\\u0437\\u0430\\u0442\\u044c\", \"\\u0430\\u0434\\u0440\\u0435\\u0441\", \"\\u043f\\u0440\\u0435\\u0442\\u0435\\u043d\\u0437\\u0438\\u044f\", \"\\u043f\\u0440\\u043e\\u0432\\u0435\\u0441\\u0442\\u0438\", \"\\u0434\\u0430\\u043d\\u043d\\u044b\\u0439\", \"\\u043f\\u0440\\u0438\\u0439\\u0442\\u0438\", \"\\u0441\\u043e\\u043e\\u0442\\u0432\\u0435\\u0442\\u0441\\u0442\\u0432\\u043e\\u0432\\u0430\\u0442\\u044c\", \"\\u043e\\u0442\\u043a\\u0430\\u0437\", \"\\u043f\\u0440\\u043e\\u0441\\u0438\\u0442\\u044c\", \"\\u043f\\u0440\\u043e\\u0441\\u044c\\u0431\\u0430\", \"\\u0432\\u043e\\u0437\\u0432\\u0440\\u0430\\u0442\", \"\\u0438\\u043d\\u0442\\u0435\\u0440\\u043d\\u0435\\u0442\", \"\\u043f\\u0440\\u0438\\u043d\\u044f\\u0442\\u044c\", \"\\u043d\\u0430\\u0445\\u043e\\u0434\\u0438\\u0442\\u044c\\u0441\\u044f\", \"\\u0432\\u0435\\u0440\\u043d\\u0443\\u0442\\u044c\", \"\\u043d\\u0430\\u043f\\u0438\\u0441\\u0430\\u0442\\u044c\", \"\\u0437\\u0430\\u043a\\u043e\\u043d\", \"\\u043f\\u043e\\u0442\\u0440\\u0435\\u0431\\u0438\\u0442\\u0435\\u043b\\u044c\", \"\\u043f\\u0440\\u0430\\u0432\\u0438\\u043b\\u043e\", \"\\u0437\\u0430\\u0449\\u0438\\u0442\\u0430\", \"\\u0441\\u0435\\u0440\\u0442\\u0438\\u0444\\u0438\\u043a\\u0430\\u0442\", \"\\u0441\\u0442\\u0430\\u0442\\u044c\\u044f\", \"\\u0441\\u043e\\u043e\\u0442\\u0432\\u0435\\u0442\\u0441\\u0442\\u0432\\u0438\\u0435\", \"\\u0437\\u0430\\u043f\\u0430\\u0445\", \"\\u0441\\u043e\\u0434\\u0435\\u0440\\u0436\\u0430\\u043d\\u0438\\u0435\", \"\\u0437\\u0430\\u043a\\u043e\\u043d\\u043e\\u0434\\u0430\\u0442\\u0435\\u043b\\u044c\\u0441\\u0442\\u0432\\u043e\", \"\\u0444\\u0435\\u0434\\u0435\\u0440\\u0430\\u043b\\u044c\\u043d\\u044b\\u0439\", \"\\u0438\\u043d\\u043e\\u0439\", \"\\u0434\\u043e\\u0437\\u0432\\u043e\\u043d\\u0438\\u0442\\u044c\\u0441\\u044f\", \"\\u0430\\u0434\\u043c\\u0438\\u043d\\u0438\\u0441\\u0442\\u0440\\u0430\\u0446\\u0438\\u044f\", \"\\u043f\\u0440\\u0430\\u0432\\u043e\\u0432\\u043e\\u0439\", \"\\u0437\\u0430\\u043a\\u043b\\u044e\\u0447\\u0435\\u043d\\u0438\\u0435\", \"\\u043f\\u0440\\u043e\\u043f\\u0438\\u0441\\u0430\\u0442\\u044c\", \"\\u043d\\u0430\\u0441\\u0435\\u043b\\u0435\\u043d\\u0438\\u0435\", \"\\u043f\\u0435\\u0440\\u0435\\u0447\\u0435\\u043d\\u044c\", \"\\u0443\\u0442\\u0432\\u0435\\u0440\\u0434\\u0438\\u0442\\u044c\", \"\\u043f\\u0440\\u0435\\u0434\\u0443\\u0441\\u043c\\u043e\\u0442\\u0440\\u0435\\u0442\\u044c\", \"\\u0441\\u0443\\u0442\\u044c\", \"\\u0441\\u0438\\u043b\\u044c\\u043d\\u044b\\u0439\", \"\\u043f\\u043e\\u043a\\u0430\\u0437\\u0430\\u0442\\u044c\", \"\\u0441\\u043e\\u0433\\u043b\\u0430\\u0448\\u0435\\u043d\\u0438\\u0435\", \"\\u043f\\u043e\\u043b\\u0435\", \"\\u043a\\u0443\\u043f\\u043b\\u044f\", \"\\u0432\\u043f\\u0440\\u0430\\u0432\\u0435\", \"\\u0441\\u043e\\u043e\\u0442\\u0432\\u0435\\u0442\\u0441\\u0442\\u0432\\u0443\\u044e\\u0449\\u0438\\u0439\", \"\\u043f\\u043e\\u0434\\u0440\\u043e\\u0431\\u043d\\u044b\\u0439\", \"\\u043f\\u0440\\u0430\\u0432\\u0438\\u0442\\u0435\\u043b\\u044c\\u0441\\u0442\\u0432\\u043e\", \"\\u043b\\u0438\\u0446\\u043e\", \"\\u0441\\u043e\\u0433\\u043b\\u0430\\u0441\\u043d\\u043e\", \"\\u043f\\u0440\\u0435\\u0434\\u043e\\u0441\\u0442\\u0430\\u0432\\u043b\\u0435\\u043d\\u0438\\u0435\", \"\\u043f\\u0440\\u0430\\u0432\\u043e\", \"\\u0443\\u0441\\u0442\\u0430\\u043d\\u043e\\u0432\\u043b\\u0435\\u043d\\u043d\\u044b\\u0439\", \"\\u043d\\u0430\\u0445\\u043e\\u0434\\u0438\\u0442\\u044c\\u0441\\u044f\", \"\\u043f\\u043e\\u0441\\u0442\\u0430\\u043d\\u043e\\u0432\\u043b\\u0435\\u043d\\u0438\\u0435\", \"\\u0442\\u0440\\u0435\\u0431\\u043e\\u0432\\u0430\\u043d\\u0438\\u0435\", \"\\u043e\\u0441\\u043d\\u043e\\u0432\\u0430\\u043d\\u0438\\u0435\", \"\\u043d\\u0430\\u0440\\u0443\\u0448\\u0435\\u043d\\u0438\\u0435\", \"\\u0444\\u0435\\u0434\\u0435\\u0440\\u0430\\u0446\\u0438\\u044f\", \"\\u043f\\u0443\\u043d\\u043a\\u0442\", \"\\u0447\\u0430\\u0441\\u0442\\u044c\", \"\\u043f\\u0440\\u043e\\u0434\\u0430\\u0436\\u0430\", \"\\u0438\\u0441\\u043f\\u043e\\u043b\\u044c\\u0437\\u043e\\u0432\\u0430\\u043d\\u0438\\u0435\", \"\\u0438\\u043c\\u0435\\u0442\\u044c\", \"\\u0440\\u043e\\u0441\\u0441\\u0438\\u0439\\u0441\\u043a\\u0438\\u0439\", \"\\u0442\\u0430\\u043a\\u0436\\u0435\", \"\\u044f\\u0432\\u043b\\u044f\\u0442\\u044c\\u0441\\u044f\", \"\\u0434\\u043e\\u043b\\u0436\\u043d\\u044b\\u0439\", \"\\u043f\\u0440\\u0435\\u0434\\u043e\\u0441\\u0442\\u0430\\u0432\\u0438\\u0442\\u044c\", \"\\u0434\\u043e\\u043a\\u0443\\u043c\\u0435\\u043d\\u0442\", \"\\u0433\\u0440\\u0443\\u043f\\u043f\\u0430\", \"\\u043f\\u043e\\u0435\\u0437\\u0434\\u043a\\u0430\", \"\\u043d\\u0443\\u0436\\u043d\\u044b\\u0439\", \"\\u043e\\u0431\\u044a\\u0451\\u043c\", \"\\u043f\\u043e\\u0434\\u0430\\u0442\\u044c\", \"\\u0442\\u0435\\u043b\\u043e\", \"\\u043e\\u043a\\u0430\\u0437\\u0430\\u0442\\u044c\", \"\\u044f\\u043a\\u043e\\u0431\\u044b\", \"\\u0440\\u0435\\u0439\\u0441\", \"\\u043c\\u0438\\u043d\\u0443\\u0442\\u0430\", \"\\u0441\\u043e\\u0431\\u0438\\u0440\\u0430\\u0442\\u044c\\u0441\\u044f\", \"\\u043e\\u0440\\u0433\\u0430\\u043d\", \"\\u043a\\u0440\\u0430\\u0439\", \"\\u043e\\u0442\\u0437\\u044b\\u0432\", \"\\u043e\\u0431\\u044a\\u044f\\u0441\\u043d\\u0435\\u043d\\u0438\\u0435\", \"\\u043f\\u043e\\u0434\\u043e\\u0431\\u043d\\u044b\\u0439\", \"\\u043f\\u043e\\u043d\\u044f\\u0442\\u043d\\u043e\", \"\\u0430\\u0432\\u0438\\u0430\\u043a\\u043e\\u043c\\u043f\\u0430\\u043d\\u0438\\u044f\", \"\\u0438\\u043c\\u044f\", \"\\u0438\\u0441\\u043f\\u0440\\u0430\\u0432\\u0438\\u0442\\u044c\", \"\\u0442\\u0430\\u0440\\u0438\\u0444\", \"\\u043d\\u0435\\u043f\\u0440\\u0438\\u044f\\u0442\\u043d\\u044b\\u0439\", \"\\u043c\\u0430\\u0440\\u043a\\u0435\\u0442\", \"\\u0440\\u0430\\u0437\\u0440\\u0435\\u0448\\u0435\\u043d\\u0438\\u0435\", \"\\u043e\\u0441\\u0442\\u0430\\u0442\\u043e\\u043a\", \"\\u0443\\u0435\\u0445\\u0430\\u0442\\u044c\", \"\\u0438\\u0437\\u043d\\u0430\\u0447\\u0430\\u043b\\u044c\\u043d\\u043e\", \"\\u043d\\u0430\\u043f\\u0440\\u0430\\u0432\\u043b\\u0435\\u043d\\u0438\\u0435\", \"\\u043f\\u043b\\u0430\\u0442\\u0430\", \"\\u0446\\u0435\\u043b\\u044c\", \"\\u043d\\u0430\\u043f\\u0440\\u0430\\u0432\\u0438\\u0442\\u044c\", \"\\u0437\\u0430\\u044f\\u0432\\u043b\\u0435\\u043d\\u0438\\u0435\", \"\\u043f\\u043e\\u043d\\u0438\\u043c\\u0430\\u0442\\u044c\", \"\\u043f\\u043e\\u043b\\u043d\\u044b\\u0439\", \"\\u0434\\u0430\\u0442\\u044c\", \"\\u043f\\u0440\\u043e\\u0441\\u0438\\u0442\\u044c\", \"\\u0441\\u0432\\u044f\\u0437\\u044c\", \"\\u043e\\u0442\\u0432\\u0435\\u0442\", \"\\u043f\\u0440\\u0438\\u0447\\u0438\\u043d\\u0430\", \"\\u0442\\u0430\\u043a\\u0436\\u0435\", \"\\u043e\\u0431\\u0440\\u0430\\u0449\\u0435\\u043d\\u0438\\u0435\", \"\\u043e\\u0431\\u0440\\u0430\\u0442\\u0438\\u0442\\u044c\\u0441\\u044f\", \"\\u0441\\u0438\\u0442\\u0443\\u0430\\u0446\\u0438\\u044f\", \"\\u043e\\u0442\\u043a\\u0430\\u0437\", \"\\u0437\\u0430\\u043a\\u0430\\u0437\", \"\\u0434\\u043e\\u0441\\u0442\\u0430\\u0432\\u043a\\u0430\", \"\\u043f\\u043e\\u0434\\u0434\\u0435\\u0440\\u0436\\u043a\\u0430\", \"\\u0437\\u0430\\u0431\\u0440\\u0430\\u0442\\u044c\", \"\\u0441\\u0443\\u0442\\u043a\\u0438\", \"\\u0432\\u044b\\u0434\\u0430\\u0447\\u0430\", \"\\u0442\\u0435\\u043b\\u0435\\u0432\\u0438\\u0437\\u043e\\u0440\", \"\\u0434\\u043e\\u0441\\u0442\\u0430\\u0432\\u0438\\u0442\\u044c\", \"\\u043a\\u043e\\u0440\\u043e\\u043d\\u0430\\u0432\\u0438\\u0440\\u0443\\u0441\", \"\\u043b\\u0435\\u0436\\u0430\\u0442\\u044c\", \"\\u0441\\u043b\\u043e\\u0432\\u043e\", \"\\u043e\\u043d\\u043e\", \"\\u043f\\u043e\\u0437\\u0438\\u0446\\u0438\\u044f\", \"\\u0441\\u0430\\u043c\\u043e\\u043b\\u0451\\u0442\", \"\\u0446\\u0435\\u043d\\u043d\\u0438\\u043a\", \"\\u0434\\u043e\\u043b\\u0433\\u043e\", \"\\u043f\\u0440\\u0438\\u043e\\u0431\\u0440\\u0435\\u0442\\u0435\\u043d\\u0438\\u0435\", \"\\u0443\\u0442\\u0440\\u043e\\u043c\", \"\\u0440\\u043e\\u0436\\u0434\\u0435\\u043d\\u0438\\u0435\", \"\\u043b\\u044e\\u0431\\u0435\\u0440\\u0446\\u044b\", \"\\u043f\\u0443\\u0431\\u043b\\u0438\\u0447\\u043d\\u044b\\u0439\", \"\\u043f\\u043e\\u043b\\u043a\\u0430\", \"\\u043f\\u043e\\u0441\\u0451\\u043b\\u043e\\u043a\", \"\\u0434\\u0435\\u0432\\u0443\\u0448\\u043a\\u0430\", \"\\u0431\\u0443\\u043a\\u0435\\u0442\", \"\\u043e\\u0442\\u0440\\u0435\\u0430\\u0433\\u0438\\u0440\\u043e\\u0432\\u0430\\u0442\\u044c\", \"\\u0441\\u0432\\u0435\\u0436\\u0438\\u0439\", \"\\u0434\\u043e\\u043f\\u043e\\u043b\\u043d\\u0438\\u0442\\u0435\\u043b\\u044c\\u043d\\u043e\", \"\\u043f\\u043e\\u0434\\u0430\\u0440\\u043e\\u043a\", \"\\u0441\\u043e\\u0441\\u0442\\u043e\\u044f\\u0442\\u044c\", \"\\u0441\\u043b\\u0443\\u0436\\u0431\\u0430\", \"\\u043e\\u043f\\u043b\\u0430\\u0442\\u0438\\u0442\\u044c\", \"\\u043e\\u0444\\u043e\\u0440\\u043c\\u0438\\u0442\\u044c\", \"\\u043f\\u043e\\u043a\\u0443\\u043f\\u0430\\u0442\\u0435\\u043b\\u044c\", \"\\u0441\\u0430\\u0439\\u0442\", \"\\u0438\\u043d\\u0442\\u0435\\u0440\\u043d\\u0435\\u0442\", \"\\u0442\\u043e\\u0432\\u0430\\u0440\", \"\\u043f\\u0443\\u043d\\u043a\\u0442\", \"\\u0441\\u0434\\u0435\\u043b\\u0430\\u0442\\u044c\", \"\\u043f\\u0440\\u0438\\u043b\\u043e\\u0436\\u0435\\u043d\\u0438\\u0435\", \"\\u043f\\u043e\\u0434\\u0442\\u0432\\u0435\\u0440\\u0436\\u0434\\u0435\\u043d\\u0438\\u0435\", \"\\u0441\\u0442\\u043e\\u0438\\u043c\\u043e\\u0441\\u0442\\u044c\", \"\\u043e\\u0442\\u043a\\u0430\\u0437\\u0430\\u0442\\u044c\\u0441\\u044f\", \"\\u043f\\u043e\\u0437\\u0432\\u043e\\u043d\\u0438\\u0442\\u044c\", \"\\u0441\\u0443\\u043c\\u043c\\u0430\", \"\\u043e\\u0442\\u043f\\u0440\\u0430\\u0432\\u0438\\u0442\\u044c\", \"\\u043f\\u0440\\u0438\\u0447\\u0438\\u043d\\u0430\", \"\\u043f\\u043e\\u043b\\u0443\\u0447\\u0438\\u0442\\u044c\", \"\\u0443\\u0441\\u043b\\u0443\\u0433\\u0430\", \"\\u0430\\u043f\\u0440\\u0435\\u043b\\u044c\", \"\\u043f\\u043b\\u0430\\u0442\\u0451\\u0436\", \"\\u043f\\u043e\\u043c\\u043e\\u0449\\u044c\", \"\\u0437\\u0430\\u043a\\u043b\\u044e\\u0447\\u0438\\u0442\\u044c\", \"\\u043f\\u0430\\u043e\", \"\\u043f\\u043e\\u043b\\u0443\\u0447\\u0430\\u0442\\u044c\\u0441\\u044f\", \"\\u0438\\u0441\\u043f\\u043e\\u043b\\u043d\\u0438\\u0442\\u0435\\u043b\\u044c\", \"\\u043f\\u0440\\u0435\\u0434\\u043e\\u043f\\u043b\\u0430\\u0442\\u0430\", \"\\u0440\\u0430\\u0441\\u0442\\u043e\\u0440\\u0436\\u0435\\u043d\\u0438\\u0435\", \"\\u043e\\u0431\\u044f\\u0437\\u0430\\u0442\\u0435\\u043b\\u044c\\u0441\\u0442\\u0432\\u043e\", \"\\u043e\\u043a\\u0430\\u0437\\u0430\\u043d\\u0438\\u0435\", \"\\u0440\\u043e\\u0441\\u0442\\u0435\\u043b\\u0435\\u043a\\u043e\\u043c\", \"\\u043f\\u043e\\u0434\\u043a\\u043b\\u044e\\u0447\\u0435\\u043d\\u0438\\u0435\", \"\\u043f\\u0440\\u0435\\u043a\\u0440\\u0430\\u0442\\u0438\\u0442\\u044c\", \"\\u043e\\u0431\\u043e\\u0440\\u0443\\u0434\\u043e\\u0432\\u0430\\u043d\\u0438\\u0435\", \"\\u0437\\u0430\\u043a\\u0430\\u0437\\u044b\\u0432\\u0430\\u0442\\u044c\", \"\\u0434\\u043e\\u0433\\u043e\\u0432\\u043e\\u0440\", \"\\u044f\\u0449\\u0438\\u043a\", \"\\u0432\\u043d\\u0435\\u0441\\u0435\\u043d\\u0438\\u0435\", \"\\u043f\\u0440\\u0435\\u0434\\u043d\\u0430\\u0437\\u043d\\u0430\\u0447\\u0438\\u0442\\u044c\", \"\\u043f\\u0440\\u0435\\u0434\\u043b\\u0430\\u0433\\u0430\\u0442\\u044c\", \"\\u0438\\u0441\\u043f\\u043e\\u043b\\u043d\\u0435\\u043d\\u0438\\u0435\", \"\\u0432\\u044b\\u043f\\u043e\\u043b\\u043d\\u0438\\u0442\\u044c\", \"\\u0441\\u0447\\u0451\\u0442\", \"\\u043e\\u043f\\u043b\\u0430\\u0442\\u0430\", \"\\u043f\\u043e\\u0441\\u0442\\u0430\\u0432\\u043a\\u0430\", \"\\u043d\\u0435\\u043e\\u0434\\u043d\\u043e\\u043a\\u0440\\u0430\\u0442\\u043d\\u043e\", \"\\u043f\\u0440\\u0435\\u0434\\u0443\\u043f\\u0440\\u0435\\u0434\\u0438\\u0442\\u044c\", \"\\u043a\\u043e\\u043c\\u043f\\u0430\\u043d\\u0438\\u044f\", \"\\u043e\\u0440\\u0433\\u0430\\u043d\\u0438\\u0437\\u0430\\u0446\\u0438\\u044f\", \"\\u0433\\u043e\\u0434\", \"\\u0437\\u0432\\u043e\\u043d\\u043e\\u043a\", \"\\u0441\\u0432\\u044f\\u0437\\u044c\", \"\\u0443\\u0441\\u043b\\u043e\\u0432\\u0438\\u0435\", \"\\u043e\\u043f\\u043b\\u0430\\u0442\\u0438\\u0442\\u044c\", \"\\u0438\\u043d\\u0442\\u0435\\u0440\\u043d\\u0435\\u0442\", \"\\u043f\\u0440\\u0435\\u0434\\u043e\\u0441\\u0442\\u0430\\u0432\\u043b\\u044f\\u0442\\u044c\", \"\\u043c\\u043e\\u043c\\u0435\\u043d\\u0442\", \"\\u043f\\u0440\\u043e\\u0441\\u0438\\u0442\\u044c\", \"\\u0441\\u0440\\u043e\\u043a\", \"\\u0433\\u0440\\u0430\\u0436\\u0434\\u0430\\u043d\\u0438\\u043d\", \"\\u043e\\u0431\\u043b\\u0430\\u0441\\u0442\\u044c\", \"\\u043f\\u0440\\u043e\\u0436\\u0438\\u0432\\u0430\\u0442\\u044c\", \"\\u0441\\u0430\\u043d\\u0438\\u0442\\u0430\\u0440\\u043d\\u044b\\u0439\", \"\\u043d\\u043e\\u0440\\u043c\\u0430\", \"\\u0442\\u0435\\u0440\\u0440\\u0438\\u0442\\u043e\\u0440\\u0438\\u044f\", \"\\u0445\\u043e\\u0434\\u0438\\u0442\\u044c\", \"\\u0437\\u0434\\u043e\\u0440\\u043e\\u0432\\u044c\\u0435\", \"\\u044d\\u0442\\u0430\\u0436\", \"\\u0443\\u043f\\u0440\\u0430\\u0432\\u043b\\u0435\\u043d\\u0438\\u0435\", \"\\u0441\\u0442\\u0435\\u043d\\u0430\", \"\\u0440\\u0430\\u0441\\u0441\\u0442\\u043e\\u044f\\u043d\\u0438\\u0435\", \"\\u043f\\u043e\\u0434\\u044a\\u0435\\u0437\\u0434\", \"\\u044d\\u043f\\u0438\\u0434\\u0435\\u043c\\u0438\\u043e\\u043b\\u043e\\u0433\\u0438\\u0447\\u0435\\u0441\\u043a\\u0438\\u0439\", \"\\u043a\\u043e\\u043d\\u0442\\u0440\\u043e\\u043b\\u044c\", \"\\u0438\\u0437\\u043b\\u043e\\u0436\\u0438\\u0442\\u044c\", \"\\u043f\\u043e\\u043b\", \"\\u043a\\u043e\\u043c\\u0438\\u0441\\u0441\\u0438\\u044f\", \"\\u044d\\u043a\\u043e\\u043b\\u043e\\u0433\\u0438\\u0447\\u0435\\u0441\\u043a\\u0438\\u0439\", \"\\u043e\\u043a\\u0442\\u044f\\u0431\\u0440\\u044c\", \"\\u0432\\u043b\\u0430\\u0434\\u0438\\u043c\\u0438\\u0440\\u043e\\u0432\\u0438\\u0447\", \"\\u043d\\u0435\\u0441\\u043e\\u0432\\u0435\\u0440\\u0448\\u0435\\u043d\\u043d\\u043e\\u043b\\u0435\\u0442\\u043d\\u0438\\u0439\", \"\\u0431\\u043b\\u0430\\u0433\\u043e\\u043f\\u043e\\u043b\\u0443\\u0447\\u0438\\u0435\", \"\\u043b\\u0435\\u043d\\u0438\\u043d\\u0433\\u0440\\u0430\\u0434\\u0441\\u043a\\u0438\\u0439\", \"\\u043e\\u043a\\u0440\\u0443\\u0436\\u0430\\u044e\\u0449\\u0438\\u0439\", \"\\u0442\\u0430\\u0442\\u044c\\u044f\\u043d\\u0430\", \"\\u043d\\u0430\\u0447\\u0430\\u043b\\u044c\\u043d\\u0438\\u043a\", \"\\u0441\\u0440\\u0435\\u0434\\u0430\", \"\\u043c\\u0438\\u043c\\u043e\", \"\\u044e\\u043b\\u0438\\u044f\", \"\\u043c\\u0435\\u0441\\u0442\\u043e\", \"\\u0433\\u0440\\u0430\\u043d\\u0438\\u0446\\u0430\", \"\\u043c\\u0435\\u0440\\u0430\", \"\\u043e\\u0442\\u0441\\u0443\\u0442\\u0441\\u0442\\u0432\\u0438\\u0435\", \"\\u0440\\u043e\\u0441\\u0441\\u0438\\u0439\\u0441\\u043a\\u0438\\u0439\", \"\\u043f\\u0440\\u043e\\u0441\\u0438\\u0442\\u044c\", \"\\u0433\\u043e\\u0434\", \"\\u0447\\u0435\\u043b\\u043e\\u0432\\u0435\\u043a\", \"\\u0440\\u0435\\u0437\\u0443\\u043b\\u044c\\u0442\\u0430\\u0442\", \"\\u0430\\u0434\\u0440\\u0435\\u0441\", \"\\u043f\\u0440\\u0438\\u043d\\u044f\\u0442\\u044c\", \"\\u0437\\u0434\\u0440\\u0430\\u0432\\u0441\\u0442\\u0432\\u0443\\u0439\\u0442\\u0435\", \"\\u043d\\u0430\\u0448\", \"\\u0444\\u0435\\u0434\\u0435\\u0440\\u0430\\u0446\\u0438\\u044f\", \"\\u0432\\u0435\\u0441\\u044c\", \"\\u043e\\u0440\\u0433\\u0430\\u043d\\u0438\\u0437\\u0430\\u0446\\u0438\\u044f\", \"\\u0440\\u043e\\u0441\\u043f\\u043e\\u0442\\u0440\\u0435\\u0431\\u043d\\u0430\\u0434\\u0437\\u043e\\u0440\", \"\\u043d\\u0430\\u0440\\u0443\\u0448\\u0435\\u043d\\u0438\\u0435\", \"\\u043f\\u0440\\u043e\\u0439\\u0442\\u0438\", \"\\u043e\\u0431\\u0440\\u0430\\u0442\\u043d\\u043e\", \"\\u0432\\u0438\\u0434\\u0435\\u0442\\u044c\", \"\\u0437\\u0430\\u043f\\u043b\\u0430\\u0442\\u0438\\u0442\\u044c\", \"\\u0434\\u0430\\u043b\\u0451\\u043a\\u0438\\u0439\", \"\\u043f\\u043e\\u0432\\u043e\\u0434\", \"\\u0438\\u0441\\u043f\\u043e\\u043b\\u044c\\u0437\\u043e\\u0432\\u0430\\u0442\\u044c\", \"\\u0443\\u0441\\u0442\\u0440\\u043e\\u0438\\u0442\\u044c\", \"\\u0434\\u0435\\u043d\\u044c\\u0433\\u0430\", \"\\u0432\\u0435\\u0440\\u043d\\u0443\\u0442\\u044c\", \"\\u043f\\u0438\\u0441\\u044c\\u043c\\u043e\", \"mail\", \"\\u043e\\u043d\\u043b\\u0430\\u0439\\u043d\", \"\\u0441\\u0430\\u0439\\u0442\", \"https\", \"\\u043e\\u0442\\u0432\\u0435\\u0447\\u0430\\u0442\\u044c\", \"\\u043d\\u0430\\u043f\\u0438\\u0441\\u0430\\u0442\\u044c\", \"\\u0432\\u043e\\u0437\\u0432\\u0440\\u0430\\u0442\", \"\\u043f\\u043e\\u0447\\u0442\\u0430\", \"\\u0434\\u0435\\u043d\\u044c\", \"\\u0434\\u043e\\u0431\\u0440\\u044b\\u0439\", \"\\u043f\\u0438\\u0441\\u0430\\u0442\\u044c\", \"\\u043f\\u043e\\u043b\\u0443\\u0447\\u0438\\u0442\\u044c\", \"\\u043f\\u043e\\u0434\\u0441\\u043a\\u0430\\u0437\\u0430\\u0442\\u044c\", \"\\u043e\\u0431\\u0440\\u0430\\u0449\\u0435\\u043d\\u0438\\u0435\", \"\\u0447\\u0435\\u043a\", \"\\u043f\\u043e\\u0442\\u0440\\u0435\\u0431\\u043e\\u0432\\u0430\\u0442\\u044c\", \"\\u043e\\u0442\\u0432\\u0435\\u0442\\u0438\\u0442\\u044c\", \"\\u043f\\u0440\\u043e\\u0441\\u044c\\u0431\\u0430\", \"\\u043e\\u0442\\u0432\\u0435\\u0442\", \"\\u0435\\u0449\\u0451\", \"\\u0438\\u043d\\u0442\\u0435\\u0440\\u043d\\u0435\\u0442\", \"\\u043e\\u0431\\u0440\\u0430\\u0442\\u0438\\u0442\\u044c\\u0441\\u044f\", \"\\u0431\\u0430\\u043d\\u043a\", \"\\u043a\\u0440\\u0435\\u0434\\u0438\\u0442\", \"\\u0440\\u0443\\u0431\", \"\\u043c\\u0430\\u0440\\u0442\", \"\\u0434\\u0440\\u0443\\u0433\", \"\\u043f\\u043e\\u043b\\u044c\\u0437\\u043e\\u0432\\u0430\\u0442\\u044c\\u0441\\u044f\", \"\\u0438\\u043d\\u0444\\u0435\\u043a\\u0446\\u0438\\u044f\", \"\\u043d\\u0430\\u0437\\u0430\\u0434\", \"\\u043f\\u043b\\u0430\\u0442\\u0438\\u0442\\u044c\", \"\\u0443\\u0432\\u0438\\u0434\\u0435\\u0442\\u044c\", \"\\u0434\\u0432\\u0435\\u0440\\u044c\", \"\\u043f\\u0440\\u0430\\u0432\\u043e\\u043c\\u0435\\u0440\\u043d\\u044b\\u0439\", \"\\u0438\\u0437\\u0433\\u043e\\u0442\\u043e\\u0432\\u043b\\u0435\\u043d\\u0438\\u0435\", \"\\u043f\\u0435\\u0440\\u0435\\u0432\\u0435\\u0441\\u0442\\u0438\", \"\\u0441\\u043c\\u0441\", \"\\u0444\\u0435\\u0432\\u0440\\u0430\\u043b\\u044c\", \"\\u0440\\u0430\\u0437\\u043d\\u0438\\u0446\\u0430\", \"\\u0434\\u043e\\u043f\", \"\\u043e\\u0437\\u043d\\u0430\\u043a\\u043e\\u043c\\u0438\\u0442\\u044c\\u0441\\u044f\", \"\\u0441\\u043d\\u0438\\u0436\\u0435\\u043d\\u0438\\u0435\", \"\\u043e\\u0434\\u043e\\u0431\\u0440\\u0438\\u0442\\u044c\", \"\\u0432\\u0441\\u044f\\u043a\\u0438\\u0439\", \"\\u043e\\u0442\\u043a\\u0440\\u044b\\u0432\\u0430\\u0442\\u044c\\u0441\\u044f\", \"\\u043f\\u0435\\u0440\\u0435\\u0441\\u0447\\u0438\\u0442\\u0430\\u0442\\u044c\", \"\\u043c\\u0435\\u0441\\u044f\\u0446\", \"\\u043e\\u0444\\u0435\\u0440\\u0442\\u0430\", \"\\u0441\\u0443\\u043c\\u043c\\u0430\", \"\\u0440\\u0430\\u0437\\u043c\\u0435\\u0440\", \"\\u0440\\u0443\\u0431\\u043b\\u044c\", \"\\u043f\\u043e\\u043b\\u0443\\u0447\\u0430\\u0442\\u044c\", \"\\u043e\\u043e\\u043e\", \"\\u0441\\u0442\\u043e\\u0438\\u043c\\u043e\\u0441\\u0442\\u044c\", \"\\u0441\\u043e\\u0441\\u0442\\u0430\\u0432\\u043b\\u044f\\u0442\\u044c\", \"\\u0434\\u0435\\u0439\\u0441\\u0442\\u0432\\u0438\\u0435\", \"\\u043a\\u043e\\u043f\\u0438\\u044f\", \"\\u043e\\u0431\\u0435\\u0449\\u0430\\u0442\\u044c\", \"\\u043e\\u0444\\u043e\\u0440\\u043c\\u0438\\u0442\\u044c\", \"\\u0437\\u0430\\u044f\\u0432\\u043b\\u0435\\u043d\\u0438\\u0435\", \"\\u0434\\u0435\\u043d\\u044c\\u0433\\u0430\", \"\\u043a\\u0430\\u0431\\u0438\\u043d\\u0435\\u0442\", \"\\u043f\\u043e\\u043b\\u043d\\u044b\\u0439\", \"\\u043f\\u0440\\u0438\\u043b\\u043e\\u0436\\u0435\\u043d\\u0438\\u0435\", \"\\u043b\\u0438\\u0447\\u043d\\u044b\\u0439\", \"\\u0442\\u0435\\u0447\\u0435\\u043d\\u0438\\u0435\", \"\\u043d\\u0438\\u043a\\u0430\\u043a\\u043e\\u0439\", \"\\u0434\\u0430\\u0432\\u0430\\u0442\\u044c\", \"\\u0440\\u0443\\u043a\\u0430\", \"\\u0441\\u0447\\u0451\\u0442\\u0447\\u0438\\u043a\", \"\\u0434\\u043e\\u043b\\u0433\", \"\\u043e\\u0441\\u043c\\u043e\\u0442\\u0440\", \"\\u043a\\u0432\\u0438\\u0442\\u0430\\u043d\\u0446\\u0438\\u044f\", \"\\u043f\\u043e\\u043a\\u0430\", \"\\u0432\\u044b\\u0437\\u0432\\u0430\\u0442\\u044c\", \"\\u0441\\u043a\\u043e\\u043b\\u044c\\u043a\\u043e\", \"\\u043f\\u043e\\u0435\\u0445\\u0430\\u0442\\u044c\", \"\\u043e\\u0442\\u043f\\u0443\\u0441\\u043a\", \"\\u043b\\u0435\\u043d\\u0438\\u043d\", \"\\u043e\\u0442\\u043a\\u043b\\u044e\\u0447\\u0438\\u0442\\u044c\", \"\\u044d\\u043b\\u0435\\u043a\\u0442\\u0440\\u043e\\u044d\\u043d\\u0435\\u0440\\u0433\\u0438\\u044f\", \"\\u043f\\u0440\\u0435\\u0434\\u0443\\u043f\\u0440\\u0435\\u0436\\u0434\\u0435\\u043d\\u0438\\u0435\", \"\\u0442\\u0430\\u0440\\u0430\\u043a\\u0430\\u043d\", \"\\u044d\\u043b\\u0435\\u043a\\u0442\\u0440\\u0438\\u0447\\u0435\\u0441\\u0442\\u0432\\u043e\", \"\\u043e\\u0431\\u0441\\u043b\\u0443\\u0436\\u0438\\u0432\\u0430\\u0442\\u044c\", \"\\u0441\\u0432\\u0435\\u0442\", \"\\u0438\\u0437\\u0432\\u0435\\u0441\\u0442\\u043d\\u043e\", \"\\u0441\\u0435\\u0440\\u0433\\u0435\\u0435\\u0432\\u0438\\u0447\", \"\\u0433\\u043b\\u0430\\u0432\\u043d\\u044b\\u0439\", \"\\u043d\\u0435\\u0438\\u0437\\u0432\\u0435\\u0441\\u0442\\u043d\\u043e\", \"\\u0441\\u043d\\u043e\\u0432\\u0430\", \"\\u0442\\u0440\\u0430\\u0432\\u0438\\u0442\\u044c\", \"\\u0432\\u043a\\u043b\\u044e\\u0447\\u0430\\u044f\", \"\\u043e\\u0447\\u0435\\u043d\\u044c\", \"\\u0434\\u043e\\u043c\\u043e\\u0439\", \"\\u0440\\u0430\\u0437\\u043e\\u0431\\u0440\\u0430\\u0442\\u044c\\u0441\\u044f\", \"\\u043f\\u0440\\u0438\\u0439\\u0442\\u0438\", \"\\u043f\\u0440\\u043e\\u0432\\u0435\\u0440\\u043a\\u0430\", \"\\u043f\\u0440\\u043e\\u0431\\u043b\\u0435\\u043c\\u0430\", \"\\u043f\\u0440\\u043e\\u0432\\u0435\\u0441\\u0442\\u0438\", \"\\u043f\\u0440\\u043e\\u0441\\u0438\\u0442\\u044c\", \"\\u043d\\u0435\\u0434\\u0435\\u043b\\u044f\", \"\\u0430\\u0434\\u0440\\u0435\\u0441\", \"\\u0432\\u0441\\u0451\", \"\\u0440\\u0435\\u0437\\u0443\\u043b\\u044c\\u0442\\u0430\\u0442\", \"\\u043a\\u0432\\u0430\\u0440\\u0442\\u0438\\u0440\\u0430\", \"\\u0441\\u0438\\u0442\\u0443\\u0430\\u0446\\u0438\\u044f\", \"\\u0434\\u0435\\u043d\\u044c\", \"\\u043c\\u0443\\u0441\\u043e\\u0440\", \"\\u043f\\u043b\\u043e\\u0449\\u0430\\u0434\\u043a\\u0430\", \"\\u043c\\u0435\\u0442\\u0440\", \"\\u043a\\u043e\\u043d\\u0442\\u0435\\u0439\\u043d\\u0435\\u0440\", \"\\u0441\\u043e\\u0431\\u0441\\u0442\\u0432\\u0435\\u043d\\u043d\\u0438\\u043a\", \"\\u0443\\u0447\\u0430\\u0441\\u0442\\u043e\\u043a\", \"\\u0443\\u0441\\u0442\\u0430\\u043d\\u043e\\u0432\\u043a\\u0430\", \"\\u043e\\u0431\\u044f\\u0437\\u0430\\u043d\\u043d\\u043e\\u0441\\u0442\\u044c\", \"\\u0438\\u043c\\u0443\\u0449\\u0435\\u0441\\u0442\\u0432\\u043e\", \"\\u043c\\u0443\\u0441\\u043e\\u0440\\u043d\\u044b\\u0439\", \"\\u0443\\u043f\\u0440\\u0430\\u0432\\u043b\\u044f\\u0442\\u044c\", \"\\u0440\\u044f\\u0434\\u043e\\u043c\", \"\\u0437\\u0434\\u0430\\u043d\\u0438\\u0435\", \"\\u0435\\u0436\\u0435\\u0434\\u043d\\u0435\\u0432\\u043d\\u043e\", \"\\u0434\\u0432\\u043e\\u0440\", \"\\u0430\\u043b\\u0435\\u043a\\u0441\\u0430\\u043d\\u0434\\u0440\\u043e\\u0432\\u0438\\u0447\", \"\\u0443\\u0431\\u043e\\u0440\\u043a\\u0430\", \"\\u0441\\u043e\\u0432\\u0435\\u0440\\u0448\\u0435\\u043d\\u043d\\u043e\", \"\\u0432\\u044b\\u043f\\u043e\\u043b\\u043d\\u044f\\u0442\\u044c\", \"\\u043f\\u043e\\u0432\\u043b\\u0438\\u044f\\u0442\\u044c\", \"\\u0441\\u043e\\u0432\\u0435\\u0440\\u0448\\u0430\\u0442\\u044c\", \"\\u043f\\u0440\\u0430\\u0432\\u043e\\u043c\\u0435\\u0440\\u043d\\u043e\\u0441\\u0442\\u044c\", \"\\u0441\\u043d\\u0442\", \"\\u043a\\u0440\\u044b\\u0441\\u0430\", \"\\u043f\\u0440\\u0435\\u0432\\u044b\\u0448\\u0435\\u043d\\u0438\\u0435\", \"\\u0434\\u043e\\u043b\\u0436\\u043d\\u043e\\u0441\\u0442\\u043d\\u043e\\u0439\", \"\\u0434\\u043e\\u043c\", \"\\u0440\\u0430\\u0441\\u043f\\u043e\\u043b\\u0430\\u0433\\u0430\\u0442\\u044c\\u0441\\u044f\", \"\\u043e\\u043a\\u0441\\u0430\\u043d\\u0430\", \"\\u043a\\u0440\\u0430\\u0442\\u043a\\u0438\\u0439\", \"\\u0440\\u0430\\u0439\\u043e\\u043d\", \"\\u0436\\u0438\\u0442\\u0435\\u043b\\u044c\", \"\\u0443\\u0441\\u0442\\u0430\\u043d\\u043e\\u0432\\u0438\\u0442\\u044c\", \"\\u043a\\u0432\\u0430\\u0440\\u0442\\u0438\\u0440\\u0430\", \"\\u0440\\u0430\\u0441\\u043f\\u043e\\u043b\\u043e\\u0436\\u0438\\u0442\\u044c\", \"\\u0430\\u0434\\u0440\\u0435\\u0441\", \"\\u043e\\u043e\\u043e\", \"\\u043d\\u0430\\u0448\", \"\\u043e\\u0431\\u0440\\u0430\\u0449\\u0430\\u0442\\u044c\\u0441\\u044f\", \"\\u0440\\u0430\\u0431\\u043e\\u0442\\u0430\", \"\\u043a\\u043e\\u043c\\u043f\\u0430\\u043d\\u0438\\u044f\", \"\\u0434\\u043e\\u043b\\u0436\\u043d\\u044b\\u0439\", \"\\u0432\\u0435\\u0441\\u044c\", \"\\u043f\\u0440\\u043e\\u0432\\u0435\\u0441\\u0442\\u0438\", \"\\u0441\\u0440\\u0435\\u0434\\u0441\\u0442\\u0432\\u043e\", \"\\u043d\\u0443\\u0436\\u043d\\u043e\", \"\\u0434\\u0435\\u043d\\u0435\\u0436\\u043d\\u044b\\u0439\", \"\\u0432\\u043e\\u0437\\u0432\\u0440\\u0430\\u0442\\u0438\\u0442\\u044c\", \"\\u043f\\u0440\\u043e\\u0441\\u0440\\u043e\\u0447\\u0438\\u0442\\u044c\", \"\\u0441\\u043a\\u0438\\u0434\\u043a\\u0430\", \"\\u043d\\u0438\\u043a\\u0430\\u043a\", \"\\u0433\\u043e\\u0434\\u043d\\u043e\\u0441\\u0442\\u044c\", \"\\u043e\\u0441\\u0443\\u0449\\u0435\\u0441\\u0442\\u0432\\u0438\\u0442\\u044c\", \"\\u0441\\u043c\\u043e\\u0442\\u0440\\u0435\\u0442\\u044c\", \"\\u0434\\u0430\\u0432\\u043d\\u043e\", \"\\u0438\\u0441\\u043f\\u043e\\u0440\\u0442\\u0438\\u0442\\u044c\", \"\\u043a\\u0440\\u0430\\u0441\\u043d\\u043e\\u044f\\u0440\\u0441\\u043a\", \"\\u043c\\u044f\\u0441\\u043e\", \"\\u043f\\u043e\\u0441\\u0442\\u043e\\u044f\\u043d\\u043d\\u043e\", \"\\u0442\\u0440\\u0430\\u0442\\u0438\\u0442\\u044c\", \"\\u0432\\u043e\\u0437\\u0432\\u0440\\u0430\\u0442\", \"\\u0441\\u0440\\u043e\\u043a\", \"\\u0433\\u043e\\u0434\", \"\\u043f\\u043e\\u043d\\u0438\\u043c\\u0430\\u0442\\u044c\", \"\\u0438\\u043d\\u0444\\u043e\\u0440\\u043c\\u0430\\u0446\\u0438\\u044f\", \"\\u0437\\u0434\\u0440\\u0430\\u0432\\u0441\\u0442\\u0432\\u0443\\u0439\\u0442\\u0435\", \"\\u043d\\u0435\\u043e\\u0434\\u043d\\u043e\\u043a\\u0440\\u0430\\u0442\\u043d\\u043e\", \"\\u043a\\u0443\\u043f\\u0438\\u0442\\u044c\", \"\\u0434\\u0435\\u043b\\u0430\\u0442\\u044c\", \"\\u0442\\u0435\\u0441\\u0442\", \"\\u0441\\u0434\\u0430\\u0432\\u0430\\u0442\\u044c\", \"\\u043f\\u0446\\u0440\", \"\\u0432\\u043e\\u0437\\u0432\\u0440\\u0430\\u0449\\u0435\\u043d\\u0438\\u0435\", \"\\u0430\\u0431\\u0445\\u0430\\u0437\\u0438\\u044f\", \"\\u043f\\u043e\\u043c\\u043e\\u0447\\u044c\", \"\\u0441\\u0432\\u044f\\u0437\\u044c\", \"\\u0432\\u0440\\u0435\\u043c\\u044f\", \"\\u0434\\u0435\\u0439\\u0441\\u0442\\u0432\\u0438\\u0435\", \"\\u043c\\u043e\\u0447\\u044c\", \"\\u0441\\u0438\\u0442\\u0443\\u0430\\u0446\\u0438\\u044f\", \"\\u0441\\u0430\\u0434\", \"\\u0440\\u043e\\u0434\\u0438\\u0442\\u0435\\u043b\\u044c\", \"\\u0438\\u044e\\u043d\\u044c\", \"\\u0431\\u0438\\u043b\\u0435\\u0442\", \"\\u0434\\u0435\\u0442\\u0441\\u043a\\u0438\\u0439\", \"\\u043f\\u0440\\u043e\\u0432\\u0435\\u0434\\u0435\\u043d\\u0438\\u0435\", \"\\u043c\\u0435\\u0440\\u043e\\u043f\\u0440\\u0438\\u044f\\u0442\\u0438\\u0435\", \"\\u0442\\u044b\\u0441\\u044f\\u0447\\u0430\", \"\\u043f\\u0440\\u0438\\u0445\\u043e\\u0434\\u0438\\u0442\\u044c\", \"\\u043c\\u0430\\u043c\\u0430\", \"\\u043e\\u0441\\u0443\\u0449\\u0435\\u0441\\u0442\\u0432\\u043b\\u044f\\u0442\\u044c\\u0441\\u044f\", \"\\u044f\\u043d\\u0434\\u0435\\u043a\\u0441\", \"\\u043e\\u0433\\u0440\\u0430\\u043d\\u0438\\u0447\\u0435\\u043d\\u0438\\u0435\", \"\\u043f\\u0435\\u0440\\u0435\\u043d\\u0435\\u0441\\u0442\\u0438\", \"\\u0443\\u0432\\u0435\\u0434\\u043e\\u043c\\u0438\\u0442\\u044c\", \"\\u0448\\u043a\\u043e\\u043b\\u0430\", \"\\u0438\\u0433\\u043d\\u043e\\u0440\\u0438\\u0440\\u043e\\u0432\\u0430\\u0442\\u044c\", \"\\u043e\\u0441\\u0442\\u0430\\u043b\\u044c\\u043d\\u043e\\u0439\", \"\\u0441\\u043d\\u044f\\u0442\\u044c\", \"\\u043e\\u0442\\u043c\\u0435\\u043d\\u043d\\u044b\\u0439\", \"\\u043e\\u0442\\u043c\\u0435\\u0442\\u0438\\u0442\\u044c\", \"\\u043e\\u0440\\u0433\\u0430\\u043d\\u0438\\u0437\\u0430\\u0442\\u043e\\u0440\", \"\\u043a\\u043e\\u043d\\u0446\\u0435\\u0440\\u0442\", \"\\u0438\\u043d\\u0442\\u0435\\u0440\\u0435\\u0441\\u043e\\u0432\\u0430\\u0442\\u044c\", \"\\u0441\\u043e\\u0431\\u0438\\u0440\\u0430\\u0442\\u044c\", \"\\u043d\\u0435\\u0432\\u043e\\u0437\\u043c\\u043e\\u0436\\u043d\\u044b\\u0439\", \"\\u043f\\u0435\\u0440\\u0435\\u043d\\u043e\\u0441\", \"\\u043d\\u0430\\u0437\\u044b\\u0432\\u0430\\u0442\\u044c\", \"\\u0431\\u043e\\u043b\\u044c\\u0448\\u0438\\u043d\\u0441\\u0442\\u0432\\u043e\", \"\\u043f\\u043e\\u043a\\u0443\\u043f\\u0430\\u0442\\u044c\", \"\\u043c\\u0435\\u0441\\u0442\\u043e\", \"\\u0433\\u043e\\u0434\", \"\\u0443\\u043a\\u0430\\u0437\\u0430\\u043d\\u043d\\u044b\\u0439\", \"\\u043f\\u043e\\u0441\\u0442\\u0430\\u043d\\u043e\\u0432\\u043b\\u0435\\u043d\\u0438\\u0435\", \"\\u0434\\u043e\\u043b\\u0436\\u043d\\u044b\\u0439\", \"\\u043f\\u043e\\u0436\\u0430\\u043b\\u0443\\u0439\\u0441\\u0442\\u0430\", \"\\u0437\\u0434\\u0440\\u0430\\u0432\\u0441\\u0442\\u0432\\u0443\\u0439\\u0442\\u0435\", \"\\u043d\\u043e\\u0432\\u044b\\u0439\", \"\\u043f\\u0440\\u0438\\u043e\\u0431\\u0440\\u0435\\u0441\\u0442\\u0438\", \"\\u043d\\u043e\\u043c\\u0435\\u0440\", \"\\u0441\\u0442\\u0430\\u0442\\u044c\", \"\\u0443\\u043f\\u0430\\u043a\\u043e\\u0432\\u043a\\u0430\", \"\\u043d\\u0430\\u043b\\u0438\\u0447\\u0438\\u0435\", \"\\u0437\\u0430\\u043c\\u0435\\u043d\\u0438\\u0442\\u044c\", \"\\u043c\\u0430\\u0440\\u0448\\u0440\\u0443\\u0442\", \"\\u043f\\u043e\\u0434\\u043f\\u0438\\u0441\\u044c\", \"\\u043a\\u0438\\u0440\\u043e\\u0432\", \"\\u0448\\u043a\\u0430\\u0444\", \"\\u0441\\u043e\\u0432\\u0435\\u0442\", \"\\u043e\\u0431\\u044a\\u044f\\u0441\\u043d\\u044f\\u0442\\u044c\", \"\\u0434\\u043e\\u043a\\u0430\\u0437\\u0430\\u0442\\u0435\\u043b\\u044c\\u0441\\u0442\\u0432\\u043e\", \"\\u043c\\u0435\\u043b\\u043a\\u0438\\u0439\", \"\\u0432\\u0441\\u043a\\u0440\\u044b\\u0442\\u0438\\u0435\", \"\\u0442\\u0438\\u0448\\u0438\\u043d\\u0430\", \"\\u043f\\u0440\\u043e\\u0432\\u0435\\u0440\\u0438\\u0442\\u044c\", \"\\u0448\\u0442\\u0443\\u043a\\u0430\", \"\\u0442\\u0435\\u043b\\u0435\\u0444\\u043e\\u043d\", \"\\u0446\\u0438\\u0444\\u0440\\u0430\", \"\\u0436\\u0430\\u043b\\u043e\\u0431\\u0430\", \"\\u043e\\u0442\\u0441\\u0443\\u0442\\u0441\\u0442\\u0432\\u043e\\u0432\\u0430\\u0442\\u044c\", \"\\u0437\\u0430\\u043a\\u0430\\u0437\\u0430\\u0442\\u044c\", \"\\u043a\\u0443\\u043f\\u0438\\u0442\\u044c\", \"\\u0437\\u0430\\u044f\\u0432\\u043b\\u0435\\u043d\\u0438\\u0435\", \"\\u043f\\u0440\\u0438\\u043d\\u044f\\u0442\\u044c\", \"\\u0442\\u0440\\u0435\\u0431\\u043e\\u0432\\u0430\\u0442\\u044c\", \"\\u043f\\u0435\\u0440\\u0435\\u043f\\u0438\\u0441\\u043a\\u0430\", \"\\u043d\\u0430\\u043f\\u0438\\u0441\\u0430\\u0442\\u044c\", \"\\u0441\\u043e\\u043e\\u0431\\u0449\\u0435\\u043d\\u0438\\u0435\", \"\\u043b\\u0438\\u0446\\u043e\", \"\\u0434\\u0430\\u0442\\u044c\", \"\\u043f\\u0440\\u043e\\u0441\\u0438\\u0442\\u044c\", \"\\u043e\\u0441\\u0442\\u0430\\u0432\\u0438\\u0442\\u044c\", \"\\u043d\\u0438\\u043a\\u0442\\u043e\", \"\\u0432\\u043c\\u0435\\u0441\\u0442\\u043e\", \"\\u043f\\u0440\\u043e\\u0434\\u0430\\u0442\\u044c\", \"\\u043f\\u043e\\u043f\\u044b\\u0442\\u043a\\u0430\", \"\\u0441\\u0435\\u0442\\u044c\", \"\\u043a\\u043e\\u0434\", \"\\u043f\\u0440\\u0435\\u0434\\u043f\\u0440\\u0438\\u043d\\u0438\\u043c\\u0430\\u0442\\u0435\\u043b\\u044c\", \"\\u043c\\u0438\\u0440\", \"\\u043d\\u0430\\u043a\\u0430\\u0437\\u0430\\u0442\\u044c\", \"\\u0444\\u0430\\u0439\\u043b\", \"\\u043f\\u0440\\u043e\\u0441\\u0440\\u043e\\u0447\\u043a\\u0430\", \"\\u043f\\u0440\\u0438\\u0447\\u0451\\u043c\", \"\\u0437\\u0430\\u0432\\u0438\\u0441\\u0435\\u0442\\u044c\", \"\\u0431\\u0443\\u043b\\u044c\\u0432\\u0430\\u0440\", \"\\u043f\\u044f\\u0442\\u0451\\u0440\\u043e\\u0447\\u043a\\u0430\", \"\\u043f\\u043e\\u0432\\u044b\\u0448\\u0435\\u043d\\u043d\\u044b\\u0439\", \"\\u043c\\u0430\\u0433\\u043d\\u0438\\u0442\", \"\\u043a\\u0430\\u0441\\u0430\\u0442\\u044c\\u0441\\u044f\", \"\\u0446\\u0435\\u043d\\u0430\", \"\\u0433\\u043e\\u0442\\u043e\\u0432\\u043d\\u043e\\u0441\\u0442\\u044c\", \"\\u043a\\u043e\\u043f\\u0435\\u0439\\u043a\\u0430\", \"\\u0443\\u0433\\u043e\\u043b\\u043e\\u043a\", \"\\u043f\\u043e\\u043c\\u043e\\u0433\\u0430\\u0442\\u044c\", \"\\u043f\\u0440\\u0435\\u0434\\u0441\\u0435\\u0434\\u0430\\u0442\\u0435\\u043b\\u044c\", \"\\u043a\\u043e\\u043f\\u0430\", \"\\u043f\\u043e\\u0434\\u043d\\u044f\\u0442\\u044c\", \"\\u0432\\u044b\\u0441\\u044b\\u043b\\u0430\\u0442\\u044c\", \"\\u0441\\u0435\\u0433\\u043e\\u0434\\u043d\\u044f\", \"\\u043f\\u0440\\u0435\\u043f\\u044f\\u0442\\u0441\\u0442\\u0432\\u043e\\u0432\\u0430\\u0442\\u044c\", \"\\u043e\\u0442\\u043c\\u0435\\u043d\\u0438\\u0442\\u044c\", \"\\u043f\\u043e\\u043a\\u0443\\u043f\\u0430\\u0442\\u0435\\u043b\\u044c\", \"\\u0441\\u0442\\u043e\\u0438\\u0442\\u044c\", \"\\u043c\\u0435\\u0440\\u0430\", \"\\u0436\\u0430\\u043b\\u043e\\u0431\\u0430\", \"\\u0440\\u0430\\u0437\\u043e\\u0431\\u0440\\u0430\\u0442\\u044c\\u0441\\u044f\", \"\\u043f\\u0440\\u043e\\u0441\\u0438\\u0442\\u044c\", \"\\u043e\\u0447\\u0435\\u043d\\u044c\", \"\\u043f\\u043e\\u043a\\u0443\\u043f\\u0430\\u0442\\u044c\", \"\\u043f\\u0440\\u0438\\u043d\\u044f\\u0442\\u044c\", \"\\u0441\\u0438\\u0442\\u0443\\u0430\\u0446\\u0438\\u044f\", \"\\u0445\\u043e\\u0442\\u0435\\u0442\\u044c\\u0441\\u044f\", \"\\u0432\\u044b\\u0434\\u0430\\u0432\\u0430\\u0442\\u044c\", \"\\u043c\\u0430\\u0441\\u043b\\u043e\", \"\\u043f\\u043e\\u0441\\u0442\\u0430\\u0432\\u0438\\u0442\\u044c\", \"\\u043f\\u0440\\u043e\\u0438\\u0437\\u0432\\u043e\\u0434\\u0438\\u0442\\u0435\\u043b\\u044c\", \"\\u0432\\u044b\\u0441\\u043e\\u043a\\u0438\\u0439\", \"\\u043f\\u043b\\u043e\\u0445\\u043e\\u0439\", \"\\u043c\\u043e\\u0442\\u0438\\u0432\\u0438\\u0440\\u043e\\u0432\\u0430\\u0442\\u044c\", \"\\u0437\\u0430\\u0432\\u0435\\u0440\\u0438\\u0442\\u044c\", \"\\u0442\\u0440\\u0430\\u043d\\u0441\\u043f\\u043e\\u0440\\u0442\\u043d\\u044b\\u0439\", \"\\u043e\\u0442\\u043a\\u0430\\u0437\\u044b\\u0432\\u0430\\u0442\\u044c\\u0441\\u044f\", \"\\u0432\\u043e\\u0432\\u0440\\u0435\\u043c\\u044f\", \"\\u0434\\u0443\\u043c\\u0430\\u0442\\u044c\", \"\\u043a\\u043e\\u043d\\u043a\\u0440\\u0435\\u0442\\u043d\\u044b\\u0439\", \"\\u0441\\u0438\\u043b\\u044c\\u043d\\u043e\", \"\\u043d\\u0438\\u0437\\u043a\\u0438\\u0439\", \"\\u0430\\u0440\\u0433\\u0443\\u043c\\u0435\\u043d\\u0442\\u0438\\u0440\\u043e\\u0432\\u0430\\u0442\\u044c\", \"\\u0432\\u043e\\u0437\\u0432\\u0440\\u0430\\u0449\\u0430\\u0442\\u044c\", \"\\u0434\\u0435\\u0448\\u0451\\u0432\\u044b\\u0439\", \"\\u043f\\u043e\\u0434\\u043d\\u044f\\u0442\\u044c\\u0441\\u044f\", \"\\u0432\\u043e\\u043b\\u0433\\u043e\\u0433\\u0440\\u0430\\u0434\\u0441\\u043a\\u0438\\u0439\", \"\\u043e\\u0431\\u0435\\u0449\\u0430\\u0442\\u044c\", \"\\u043f\\u043e\\u043b\\u043d\\u043e\\u0441\\u0442\\u044c\\u044e\", \"\\u043a\\u043e\\u043c\\u043f\\u0430\\u043d\\u0438\\u044f\", \"\\u0441\\u0435\\u0433\\u043e\\u0434\\u043d\\u044f\", \"\\u043a\\u0443\\u043f\\u0438\\u0442\\u044c\", \"\\u0437\\u0430\\u043a\\u0430\\u0437\\u0430\\u0442\\u044c\", \"\\u043a\\u0430\\u0447\\u0435\\u0441\\u0442\\u0432\\u043e\", \"\\u0434\\u0430\\u0442\\u0430\", \"\\u043e\\u043a\\u0430\\u0437\\u0430\\u0442\\u044c\\u0441\\u044f\", \"\\u0445\\u043e\\u0442\\u0435\\u0442\\u044c\", \"\\u0437\\u0434\\u0440\\u0430\\u0432\\u0441\\u0442\\u0432\\u0443\\u0439\\u0442\\u0435\", \"\\u043e\\u0447\\u0435\\u043d\\u044c\", \"\\u0440\\u0435\\u0431\\u0451\\u043d\\u043e\\u043a\", \"\\u0441\\u0442\\u0440\\u0430\\u043d\\u0430\", \"\\u0440\\u0435\\u0441\\u043f\\u0443\\u0431\\u043b\\u0438\\u043a\\u0430\", \"\\u0432\\u043d\\u0438\\u043c\\u0430\\u043d\\u0438\\u0435\", \"\\u043a\\u0440\\u043e\\u043c\\u0435\", \"\\u043f\\u0440\\u043e\\u0434\\u0443\\u043a\\u0446\\u0438\\u044f\", \"\\u0445\\u043e\\u043b\\u043e\\u0434\\u0438\\u043b\\u044c\\u043d\\u0438\\u043a\", \"\\u043e\\u0431\\u0440\\u0430\\u0442\\u0438\\u0442\\u044c\", \"\\u0438\\u0437\\u0434\\u0435\\u043b\\u0438\\u0435\", \"\\u043f\\u0435\\u0440\\u0441\\u043e\\u043d\\u0430\\u043b\", \"\\u043f\\u0440\\u0438\\u043b\\u0430\\u0433\\u0430\\u0442\\u044c\\u0441\\u044f\", \"\\u043e\\u0433\\u0440\\u043e\\u043c\\u043d\\u044b\\u0439\", \"\\u0440\\u0430\\u0437\\u043b\\u0438\\u0447\\u043d\\u044b\\u0439\", \"\\u043f\\u0435\\u043d\\u0441\\u0438\\u043e\\u043d\\u0435\\u0440\", \"\\u0435\\u0434\\u0438\\u043d\\u044b\\u0439\", \"\\u0441\\u043b\\u0435\\u0434\\u043e\\u0432\\u0430\\u0442\\u0435\\u043b\\u044c\\u043d\\u043e\", \"\\u0430\\u043b\\u043a\\u043e\\u0433\\u043e\\u043b\\u044c\\u043d\\u044b\\u0439\", \"\\u043f\\u0440\\u0435\\u0434\\u043e\\u0441\\u0442\\u0430\\u0432\\u043b\\u044f\\u0442\\u044c\\u0441\\u044f\", \"\\u043a\\u043e\\u043b\\u0431\\u0430\\u0441\\u0430\", \"\\u0432\\u043b\\u0435\\u0447\\u044c\", \"\\u0442\\u0435\\u043a\\u0441\\u0442\", \"\\u043e\\u0431\\u0440\\u0430\\u0449\\u0430\\u0442\\u044c\", \"\\u0441\\u043e\\u0434\\u0435\\u0440\\u0436\\u0430\\u0442\\u044c\\u0441\\u044f\", \"\\u043a\\u043e\\u043b\\u0438\\u0447\\u0435\\u0441\\u0442\\u0432\\u043e\", \"\\u043d\\u0435\\u043e\\u0434\\u043d\\u043e\\u043a\\u0440\\u0430\\u0442\\u043d\\u043e\", \"\\u0446\\u0435\\u043b\\u044c\", \"\\u0432\\u0430\\u0448\", \"\\u0438\\u043c\\u0435\\u043d\\u043d\\u043e\", \"\\u0442\\u0435\\u0441\\u0442\", \"\\u0432\\u044b\\u043f\\u0443\\u0441\\u043a\\u043d\\u043e\\u0439\", \"\\u043f\\u0440\\u043e\\u0434\\u0430\\u0436\\u0430\", \"\\u0432\\u0438\\u0434\", \"\\u043e\\u0442\\u043d\\u043e\\u0448\\u0435\\u043d\\u0438\\u0435\", \"\\u043f\\u043e\\u0447\\u0435\\u043c\\u0443\", \"\\u043f\\u043e\\u043c\\u0435\\u0449\\u0435\\u043d\\u0438\\u0435\", \"\\u0443\\u043b\\u0438\\u0446\\u0430\", \"\\u0436\\u0438\\u043b\\u043e\\u0439\", \"\\u043e\\u043a\\u043d\\u043e\", \"\\u043e\\u043f\\u043b\\u0430\\u0447\\u0438\\u0432\\u0430\\u0442\\u044c\", \"\\u043f\\u0440\\u043e\\u0436\\u0438\\u0432\\u0430\\u043d\\u0438\\u0435\", \"\\u0442\\u0435\\u043c\\u043f\\u0435\\u0440\\u0430\\u0442\\u0443\\u0440\\u0430\", \"\\u043c\\u0443\\u0436\", \"\\u043e\\u0442\\u043a\\u0440\\u044b\\u0442\\u044c\", \"\\u043a\\u043e\\u043c\\u043d\\u0430\\u0442\\u0430\", \"\\u043d\\u043e\\u0440\\u043c\\u0430\\u043b\\u044c\\u043d\\u044b\\u0439\", \"\\u0432\\u043e\\u0437\\u0434\\u0443\\u0445\", \"\\u0436\\u0438\\u043b\\u0438\\u0449\\u043d\\u044b\\u0439\", \"\\u0433\\u0440\\u0430\\u0434\\u0443\\u0441\", \"\\u043a\\u0440\\u0430\\u0439\\u043d\\u0435\", \"\\u0431\\u0430\\u0442\\u0430\\u0440\\u0435\\u044f\", \"\\u043e\\u0442\\u043a\\u043b\\u044e\\u0447\\u0430\\u0442\\u044c\", \"\\u043e\\u0442\\u043e\\u043f\\u043b\\u0435\\u043d\\u0438\\u0435\", \"\\u0434\\u0435\\u0440\\u0436\\u0430\\u0442\\u044c\\u0441\\u044f\", \"\\u043c\\u043d\\u043e\\u0433\\u043e\\u043a\\u0432\\u0430\\u0440\\u0442\\u0438\\u0440\\u043d\\u044b\\u0439\", \"\\u0447\\u0430\\u0441\", \"\\u043e\\u0442\\u0435\\u043b\\u044c\", \"\\u0436\\u0438\\u0442\\u044c\", \"\\u0442\\u0440\\u0443\\u0431\\u0430\", \"\\u0433\\u0440\\u0430\\u0436\\u0434\\u0430\\u043d\\u043a\\u0430\", \"\\u043b\\u0438\\u0446\\u0435\\u043d\\u0437\\u0438\\u044f\", \"\\u0432\\u0445\\u043e\\u0434\", \"\\u0441\\u043e\\u0441\\u0435\\u0434\\u043d\\u0438\\u0439\", \"\\u0432\\u0440\\u0430\\u0447\", \"\\u0434\\u043e\\u043b\\u0436\\u043d\\u044b\\u0439\", \"\\u0432\\u0441\\u0451\", \"\\u0442\\u0435\\u0441\\u0442\", \"\\u043f\\u0446\\u0440\", \"\\u0432\\u044b\\u0432\\u043e\\u0437\", \"\\u043e\\u043f\\u0435\\u0440\\u0430\\u0442\\u043e\\u0440\", \"\\u043a\\u0432\\u0430\\u0440\\u0442\\u0438\\u0440\\u0430\", \"\\u0433\\u043e\\u0440\\u043e\\u0434\", \"\\u0441\\u0430\\u043d\\u043f\\u0438\\u043d\", \"\\u0442\\u0440\\u0435\\u0431\\u043e\\u0432\\u0430\\u0442\\u044c\\u0441\\u044f\", \"\\u043a\\u0443\\u0440\\u044c\\u0435\\u0440\", \"\\u043f\\u0440\\u0438\\u0432\\u0435\\u0437\\u0442\\u0438\", \"\\u0440\\u0430\\u0437\\u044a\\u044f\\u0441\\u043d\\u0435\\u043d\\u0438\\u0435\", \"\\u043f\\u0438\\u0442\\u0430\\u043d\\u0438\\u0435\", \"\\u0441\\u043e\\u0431\\u043b\\u044e\\u0434\\u0435\\u043d\\u0438\\u0435\", \"\\u0443\\u0447\\u0440\\u0435\\u0436\\u0434\\u0435\\u043d\\u0438\\u0435\", \"\\u0438\\u0437\\u043c\\u0435\\u043d\\u0435\\u043d\\u0438\\u0435\", \"\\u043e\\u0431\\u0435\\u0441\\u043f\\u0435\\u0447\\u0438\\u0442\\u044c\", \"\\u0436\\u0430\\u043b\\u043e\\u0432\\u0430\\u0442\\u044c\\u0441\\u044f\", \"\\u0434\\u043e\\u0441\\u0442\\u0430\\u0442\\u043e\\u0447\\u043d\\u043e\", \"\\u043e\\u0431\\u0435\\u0441\\u043f\\u0435\\u0447\\u0438\\u0432\\u0430\\u0442\\u044c\", \"\\u043a\\u043e\\u0440\\u043c\\u0438\\u0442\\u044c\", \"\\u0441\\u043a\\u043b\\u0430\\u0434\", \"\\u0434\\u043e\\u0448\\u043a\\u043e\\u043b\\u044c\\u043d\\u044b\\u0439\", \"\\u0441\\u0442\\u0430\\u0442\\u0443\\u0441\", \"\\u043e\\u0434\\u043d\\u043e\\u0441\\u0442\\u043e\\u0440\\u043e\\u043d\\u043d\\u0438\\u0439\", \"\\u0437\\u0430\\u0432\\u0442\\u0440\\u0430\\u043a\", \"covid\", \"\\u043e\\u0442\\u0445\\u043e\\u0434\", \"\\u043f\\u043e\\u0441\\u044b\\u043b\\u043a\\u0430\", \"\\u043e\\u0431\\u0449\\u0435\\u0441\\u0442\\u0432\\u0435\\u043d\\u043d\\u044b\\u0439\", \"\\u043f\\u0435\\u0440\\u0435\\u0441\\u0435\\u0447\\u0435\\u043d\\u0438\\u0435\", \"\\u043b\\u0430\\u0431\\u043e\\u0440\\u0430\\u0442\\u043e\\u0440\\u043d\\u044b\\u0439\", \"\\u0438\\u0441\\u0441\\u043b\\u0435\\u0434\\u043e\\u0432\\u0430\\u043d\\u0438\\u0435\", \"\\u0441\\u0434\\u0430\\u0432\\u0430\\u0442\\u044c\", \"\\u043f\\u0440\\u0438\\u0431\\u044b\\u0432\\u0430\\u0442\\u044c\", \"\\u0437\\u0430\\u043f\\u0440\\u0435\\u0442\", \"\\u043f\\u0446\\u0440\", \"\\u0442\\u0435\\u0441\\u0442\", \"\\u043c\\u0430\\u0441\\u043a\\u0430\", \"\\u0440\\u0430\\u0431\\u043e\\u0442\\u0430\", \"\\u0434\\u0435\\u0442\\u0441\\u043a\\u0438\\u0439\", \"\\u043f\\u0440\\u043e\\u0441\\u0438\\u0442\\u044c\", \"\\u0441\\u0432\\u044f\\u0437\\u044c\", \"\\u0434\\u0430\\u0442\\u044c\", \"\\u043f\\u0435\\u0440\\u0432\\u044b\\u0439\", \"\\u043f\\u0440\\u0438\\u0451\\u043c\", \"\\u043c\\u043e\\u0441\\u043a\\u043e\\u0432\\u0441\\u043a\\u0438\\u0439\", \"\\u043f\\u0440\\u043e\\u0434\\u0430\\u0432\\u0430\\u0442\\u044c\", \"\\u0441\\u0438\\u0433\\u0430\\u0440\\u0435\\u0442\\u0430\", \"\\u043a\\u0430\\u043c\\u0435\\u0440\\u0430\", \"\\u0441\\u043e\\u0446\\u0438\\u0430\\u043b\\u044c\\u043d\\u044b\\u0439\", \"\\u043f\\u0440\\u0438\\u043b\\u0430\\u0432\\u043e\\u043a\", \"\\u0441\\u043e\\u0432\\u0435\\u0442\\u0441\\u043a\\u0438\\u0439\", \"\\u0430\\u043b\\u043a\\u043e\\u0433\\u043e\\u043b\\u044c\", \"\\u043e\\u0442\\u0445\\u043e\\u0434\", \"\\u0441\\u0430\\u043d\\u0430\\u0442\\u043e\\u0440\\u0438\\u0439\", \"\\u043d\\u0438\\u0436\\u0435\", \"\\u0434\\u0438\\u0441\\u0442\\u0430\\u043d\\u0446\\u0438\\u044f\", \"\\u0440\\u0430\\u0441\\u0447\\u0451\\u0442\", \"\\u0438\\u0434\\u0442\\u0438\", \"\\u0441\\u0431\\u043e\\u0440\", \"\\u043e\\u0442\\u0432\\u0435\\u0442\\u0441\\u0442\\u0432\\u0435\\u043d\\u043d\\u044b\\u0439\", \"\\u043e\\u043f\\u0430\\u0441\\u043d\\u044b\\u0439\", \"\\u0447\\u0435\\u043b\\u044f\\u0431\\u0438\\u043d\\u0441\\u043a\\u0438\\u0439\", \"\\u043f\\u0440\\u0438\\u0432\\u0438\\u0432\\u043a\\u0430\", \"\\u0441\\u0442\\u0438\\u0440\\u043a\\u0430\", \"\\u043e\\u0442\\u0440\\u0438\\u0446\\u0430\\u0442\\u0435\\u043b\\u044c\\u043d\\u044b\\u0439\", \"\\u043f\\u0440\\u043e\\u0434\\u0443\\u043a\\u0442\", \"\\u0447\\u0435\\u043b\\u043d\\u044b\", \"\\u043e\\u0434\\u0435\\u0436\\u0434\\u0430\", \"\\u043d\\u0430\\u0431\\u0435\\u0440\\u0435\\u0436\\u043d\\u044b\\u0439\", \"\\u043f\\u0440\\u0438\\u043b\\u0435\\u0442\\u0435\\u0442\\u044c\", \"\\u0441\\u0435\\u0440\\u0432\\u0438\\u0441\\u043d\\u044b\\u0439\", \"\\u0430\\u0432\\u0442\\u043e\\u043c\\u043e\\u0431\\u0438\\u043b\\u044c\", \"\\u0442\\u0435\\u0441\\u0442\", \"\\u0440\\u0430\\u0437\\u044a\\u044f\\u0441\\u043d\\u0438\\u0442\\u044c\", \"\\u043f\\u0446\\u0440\", \"\\u0441\\u0434\\u0430\\u0432\\u0430\\u0442\\u044c\", \"\\u0432\\u0440\\u0430\\u0447\", \"\\u0447\\u0430\\u0441\", \"\\u043c\\u0430\\u0439\", \"\\u043c\\u043e\\u0447\\u044c\", \"\\u0434\\u0430\\u0442\\u044c\"], \"Freq\": [5703.0, 3728.0, 3553.0, 1470.0, 1689.0, 1542.0, 2080.0, 1617.0, 1711.0, 1887.0, 1364.0, 1580.0, 2436.0, 1265.0, 2118.0, 1549.0, 1488.0, 2162.0, 1224.0, 950.0, 1128.0, 2658.0, 1543.0, 1391.0, 1299.0, 661.0, 1687.0, 1179.0, 779.0, 991.0, 1198.1375823763963, 798.0134129268343, 772.3947264431833, 711.1769241234812, 702.4803172104953, 476.06356187486455, 469.69879845110006, 463.6461388819307, 433.66254980905256, 388.85968339579347, 366.55901629533867, 352.02446762693876, 346.8225136103973, 314.9788176914859, 296.4789503952427, 264.1188741979266, 234.94849203205402, 227.5519552982858, 225.51121575279114, 212.52962304285487, 209.56229380466212, 202.91398975168283, 192.06550272906864, 191.34246994132175, 168.20406536068765, 150.60307791459428, 149.43749082991775, 145.47841360984648, 329.96037163393976, 144.31153808442343, 1136.8881212269227, 463.4742240737541, 478.12198819787943, 1693.5163435450916, 461.6228518520024, 458.5916694983724, 1666.208896101696, 879.3764715750577, 1256.2755093220487, 975.0339269229297, 348.9394719558963, 1053.922041494086, 580.8379904790174, 647.8017700042273, 3833.408265012011, 1391.456972213769, 1732.4817367268445, 922.1540429987836, 735.4145359908517, 724.7962448039476, 915.3386934396697, 893.9906023758002, 701.4822274228645, 1135.6971334532436, 954.3097758403032, 773.1030676598208, 723.681760291217, 695.2437646582509, 574.9744807046337, 699.6682367157581, 657.8615806930095, 1017.8539320299035, 627.1126519399957, 540.4856108534744, 467.45897321301766, 234.99072205614655, 231.8054229839177, 191.48077015397783, 190.3580134439623, 186.77367143785239, 178.7315081593507, 175.21283094892965, 171.28848540350717, 145.3266939892744, 187.32141927395446, 121.82695924354769, 117.04373388292872, 114.69189979669756, 114.1631116064893, 105.36431704510105, 100.56115655956955, 95.90330316679122, 90.3502611894355, 76.49688788241217, 73.8317613601995, 67.15273508117573, 66.75126327000648, 62.758981175744196, 84.89735966221504, 61.33183573085751, 54.091696243807576, 3616.7889784456866, 1440.6971922249152, 369.5798536609314, 2549.9349414721896, 735.8027501296975, 573.2434271074244, 415.21674263422625, 537.8397975064644, 312.9509528565624, 356.50217603211325, 766.2781811660772, 351.2611433102849, 355.02523532939915, 552.6806960160507, 367.56141080657056, 208.67122444980532, 286.8982782226135, 459.93513627591955, 246.17712263234463, 375.12101967224726, 287.7064462225153, 277.7648616236132, 286.7279294704875, 301.4347225289382, 235.11636899122738, 690.7219426747167, 621.0105300770861, 562.3624658936435, 442.4144866459129, 406.28343717360934, 340.91874929862155, 420.2277987166727, 249.40747552312217, 239.8480376291392, 198.02041669885347, 196.7369953917415, 172.35596700223462, 158.44351095592526, 147.8868462524555, 146.02508693695938, 142.22971048943086, 140.05312313677905, 118.16495042446994, 99.99913002347289, 86.63379532189334, 81.82804944244182, 76.27631297131924, 68.44120436179455, 67.94814076009301, 61.70285111701359, 53.6675269049437, 52.17077476962131, 45.63543551185305, 39.02894683977037, 31.544387742974695, 138.2981955729264, 450.20490720809494, 538.8610460618506, 195.9248142013089, 895.7379604704914, 156.73021082871094, 730.7765228616873, 351.67340655236023, 534.7865982771597, 317.1571697293124, 298.24713561293555, 264.4346983542025, 384.2223986638724, 305.3263046890879, 299.1391118558486, 228.4499476390953, 367.98287654322354, 224.6436281384603, 288.33213459712863, 217.95543446757523, 210.35331582637323, 878.3744947384691, 850.9864010856089, 565.7840579156219, 458.3675066036858, 438.36883046039674, 258.46052023493235, 239.2996458503107, 233.03779407126132, 214.3096162537564, 209.7404353844374, 197.0169124671251, 185.04014249553248, 163.24673189070305, 159.1188358131088, 158.9411549884404, 135.61893134656083, 127.39766930713766, 125.50087129378718, 124.12665993178419, 122.12297260232009, 116.48424423094238, 108.95318235980012, 100.60662766581756, 84.55464287694457, 79.35894420641834, 78.67663020946402, 77.59242138111017, 75.48393726327426, 69.6282539797746, 69.11608907082845, 154.94606285391197, 166.01460762505135, 253.9823745464585, 452.40640627114817, 134.14194756341504, 234.3253188931334, 535.4308729007873, 537.6968009870526, 278.98525921571974, 322.8591997693379, 213.11826591539173, 223.5246722013544, 186.69002223535077, 181.73454847600348, 186.34320791431435, 164.7566508336155, 1709.807465609155, 751.6291986270589, 453.76495318570977, 405.6053499377281, 358.56862209883366, 345.2132990853381, 284.0034795499409, 233.30447803926305, 223.28695927441163, 184.66363863928328, 178.7946615841435, 148.3250223286101, 146.75196085830447, 128.20455008499437, 120.36107440922198, 106.12957929002313, 96.83319016159491, 79.25020406402187, 69.71127803375991, 53.42982277792915, 53.275444517591815, 50.610088086291874, 49.43878245242217, 48.183669081090315, 36.861700980657126, 35.728684644125316, 32.185408365409, 31.04395523346762, 26.432674584437166, 25.263957017230865, 362.7375194644281, 423.122109707279, 280.4523367562204, 255.70675624103814, 545.6418765989024, 378.5382316930819, 1001.6600412123257, 306.401598059347, 337.9604863075917, 173.5623724103376, 112.15367932461791, 152.79661111503805, 166.65391506892644, 153.5883213381083, 184.96510898913107, 152.90081811806104, 140.8687871756604, 142.59233558118402, 1615.3897664301865, 632.576779250336, 371.0089780136012, 298.5286374195994, 216.94721369188414, 205.12115128454155, 167.78996440553541, 152.24855636220659, 120.81810006764908, 112.81103078472962, 110.01226928156227, 109.31652692111047, 102.8133023385268, 95.16276838378354, 69.3898825288752, 61.747147918722035, 55.31402612280867, 1530.7544588365965, 46.963259275879906, 59.962881328806176, 38.19667509900599, 101.00448822466004, 50.854659538784034, 178.42641190491153, 433.12020814696575, 419.29310893601746, 66.61937484977388, 82.49320578473281, 51.7488715846761, 714.7549280394854, 269.98299324827343, 628.9630829235942, 186.8607585051611, 260.05442758508855, 181.8835949378062, 195.63096035323434, 157.59380387403843, 88.10200883489615, 128.64873872218968, 169.66591089453092, 92.1932485028483, 1126.5423766146882, 537.1505345998747, 532.7260416455722, 488.4439264377722, 367.35409066437603, 748.1105647709376, 186.98425076056898, 182.078190565559, 140.27470817191775, 105.47183509807226, 104.94786503523379, 98.25591605587638, 92.19205485374938, 91.98959479668866, 90.16420161096357, 79.10048409778372, 73.63148618314148, 72.46501138354807, 72.18058506107447, 66.11865613944964, 65.21803629972565, 60.49281608993542, 47.49340974647743, 38.225247787601674, 33.019619705405226, 30.231314787267426, 29.628633814917634, 22.913671911523966, 21.246837101477983, 21.181758162537186, 588.6683103156677, 398.67154837308203, 339.2920103270261, 135.74181428144354, 188.1870953731699, 649.6201664761228, 519.6935396310687, 238.36558600312546, 223.61414872367476, 285.70950701553085, 210.35997119600563, 306.13684651183945, 177.7490019795802, 126.83513906495709, 148.1567272427784, 134.58655744365439, 107.12458975582014, 102.67862701816021, 611.738744344416, 288.40440179496, 207.0525720429833, 188.18186791072878, 149.42719017231224, 143.74956873271995, 114.03325897560431, 76.39426754023587, 1598.298849502174, 1239.440623385013, 231.54101822927936, 59.65644062221337, 109.22857939206835, 726.2797599940695, 155.92099413604691, 199.4438938449553, 337.2538848539713, 827.0162051787021, 167.04876159785283, 1621.230132480925, 683.5717819657106, 63.16842428438687, 303.9357937265864, 191.55017951399518, 122.41968533841958, 130.81228769781734, 17.467574874076682, 54.513261931868875, 59.63333406060496, 135.69637905747987, 69.54819135620679, 77.7173145313087, 70.58816827554327, 1222.5173278783777, 566.4928999237569, 424.6286280773405, 261.9611894977983, 259.0373860205054, 191.4545382827637, 188.73833556830027, 183.61761978974033, 177.0846047180502, 174.76157402602314, 170.4992154813083, 157.5074653607212, 155.8406418446699, 144.86814607653574, 99.88371502771251, 98.39518829546115, 85.47341636530273, 73.79091733310803, 53.90643137293709, 38.70053843809699, 34.5789992166599, 32.327502587365814, 27.128686655835015, 20.897443836545534, 847.3822960787153, 8.32888325488841, 788.6333821711474, 404.5532180386085, 596.5492617060129, 117.62669731785105, 422.06834231459123, 278.85412971269824, 91.60003449996987, 339.7006067774393, 89.82976093136703, 144.43562387972744, 162.62170005531152, 178.04514463826516, 168.76863211215053, 112.28498584933841, 109.05387183246889, 102.21868781245941, 100.35654565137158, 748.8737326807984, 748.5547377543184, 337.79751855518924, 266.4924393920613, 214.1944002809009, 202.59137369248896, 179.42111538164747, 178.03264959145307, 177.47155366485052, 146.92360015435182, 146.8258948665547, 98.64030408991242, 93.69200593770937, 91.51019990049768, 91.41454703186851, 82.08983241240837, 80.53134523188237, 80.0985804033771, 74.6067628031249, 68.16173163807638, 56.67909674851127, 55.2067351575139, 42.279699720801034, 39.78093850702308, 31.326327145311915, 212.41080579311617, 11.069677384110083, 10.533781659729492, 346.4781536335407, 125.66247174731585, 394.31310168690345, 351.62133025266485, 325.168941184023, 259.7350308742697, 210.5663988855407, 412.2003654901186, 203.6723313466082, 205.79005629646537, 207.31766428160876, 161.60807651525468, 110.19351517111245, 97.35190006878204, 99.72563685978882, 503.40571641021796, 358.60942108589046, 259.591319328306, 258.3169666272928, 223.5013746801422, 205.31065021145264, 173.36228249450514, 151.49754990613872, 144.16261714857515, 136.8314445436109, 134.5339758949719, 118.40455475285414, 104.2969245140925, 91.3114070274565, 78.63919963301943, 67.47360370967951, 59.59761350242917, 55.74086813061048, 50.110918009449804, 41.99163514170117, 41.80494895880702, 40.222283007727334, 39.58908255628065, 39.46886169371772, 33.127549260521455, 33.016046866536634, 1606.007159981732, 26.77772832628465, 26.751099048860038, 25.354836113444957, 352.80479338393815, 131.62671528586304, 254.8935788425444, 287.9888547441269, 154.77634133088992, 404.89354010277816, 158.6268608762737, 154.91848742751296, 112.29922271618744, 127.09234880740296, 141.07252682455567, 91.02986560158325, 77.48457080718666, 69.04792104325642, 1362.4310882487723, 1263.6562709079583, 778.1101108600787, 131.85638470706215, 121.1192484115082, 117.35958193160005, 95.96259715902525, 86.76288361489046, 85.42249143272576, 77.03646207159677, 71.90049632102696, 43.63330458081836, 40.793161985127874, 13.746342573259708, 371.5547560692021, 4.20200043288189, 876.983891639921, 408.07962711849797, 602.78493871071, 34.20820358323021, 65.97074991649815, 211.6980401731218, 15.688476117007458, 55.40355992765764, 58.20716938710011, 0.08465239208263917, 0.084546387049657, 0.08452284745109438, 0.08445170080179125, 0.08445523541650587, 20.448739664893317, 18.140106478299348, 13.614846887845973, 7.756333085897586, 13.566400028685345, 7.341937369070621, 532.656910726599, 514.600445103718, 412.2064356344572, 363.09323924888247, 588.3455582157927, 226.38148742781453, 212.04417255389512, 208.4722533721538, 183.34224580052359, 180.5616350068385, 178.2083946123963, 132.33798972729053, 123.19404941472796, 119.96778187828775, 114.24741609846723, 100.79059529014665, 94.48524540607903, 94.41090081892312, 79.26727082939128, 73.48585781438187, 58.36048766641511, 56.901012187591654, 53.43863880426721, 37.227119481057244, 32.920655769245464, 31.89099880703005, 20.78405430223923, 17.925234606233907, 11.926426119006361, 114.88665631395394, 230.26765344752081, 365.7646355184897, 134.72372150890078, 110.32838766433323, 154.97058631215054, 124.1776956840012, 127.47163594241007, 86.59896161954103, 71.65837629786233, 949.1667665187103, 424.560665838969, 324.1990033525073, 315.5462402490655, 211.39383488656705, 161.44054228872335, 109.49873923902521, 102.92363672903888, 91.24163066915712, 87.01269980241659, 78.91019355383266, 66.04133660455719, 55.74789040245424, 48.080176991761284, 44.83272197270349, 360.7449354850722, 19.051693936591104, 1285.0508367564705, 5.363637483233008, 361.9610112042808, 75.04085490767245, 78.67061335627915, 158.2896560219119, 107.84108614056623, 94.12180393647618, 37.368518863594275, 13.373433435282136, 71.05956268268291, 33.3578000594716, 29.68545809404883, 44.28247088211186, 19.684636308466654, 362.60819612922984, 509.84180978636795, 262.4966167320997, 259.1413678568392, 231.86843967239463, 179.74813660120563, 129.31386369108142, 128.58806050034727, 105.75833002629781, 91.95543825149682, 90.52324401387969, 81.26118045266716, 79.3821458552652, 71.85496155526485, 65.598604168639, 58.616838491037676, 58.34138462651541, 51.525380943328194, 50.20212262485264, 689.7479852709931, 33.17022860692525, 30.608386940370576, 28.11160500905671, 23.36354891603756, 15.072249096930726, 14.134915029752676, 12.842853792212015, 12.467381691312724, 318.774300351209, 2.5759067971556444, 166.21162727932776, 239.80294614918725, 129.94235229842914, 215.4486656668181, 125.70505532220434, 138.81748743467213, 201.0281901594338, 83.76463054847741, 48.97972170474129, 68.38700264745496, 58.162980198398756, 207.22604676442097, 161.76504938066012, 155.48921470135988, 147.94445684752205, 142.1442738522014, 110.88101705080484, 105.35582915805368, 104.32109177581542, 79.63512689869484, 78.29798752575967, 355.66764362997316, 58.98010025417788, 57.987362376574225, 57.313448393232854, 72.7416971219129, 30.942763393249518, 27.75477684592964, 279.1873283473544, 12.746306659367853, 8.982454757248636, 8.827497355659494, 155.35016109829905, 80.04614686068959, 631.0029287568013, 182.68340537053248, 304.20184244233775, 131.6624960576603, 154.08204373628834, 81.80433717224743, 93.0659191997131, 181.4770762311301, 314.1339542091932, 59.513256387275106, 1468.7883286998142, 209.98729956703755, 199.9082379575878, 196.08854542801177, 193.14775716801148, 183.32786393747406, 144.23235513574352, 129.84364745978087, 119.55700877705512, 110.84243011676308, 84.62763700153221, 80.28431825245154, 78.61737565299512, 58.29049269271587, 44.1252304750691, 41.860460569385886, 41.1378355030041, 39.52121138483162, 23.979907905869137, 16.932938744020543, 14.539367778834501, 9.488116700769064, 8.063764324120354, 153.19178861726064, 63.645401933830975, 28.854472671737607, 31.504378647853958, 19.728939423086146, 0.08183003898030357, 0.08170352913563304, 17.95124967241853, 13.818656712545474, 10.109665603964372, 660.3502578557433, 439.21821690717945, 424.90992916547265, 278.9842920630448, 257.39892539941224, 221.56831883828477, 194.91087128815698, 187.37516977946837, 135.93766578220823, 123.67466769636981, 99.67088439562127, 57.612970254119176, 48.742524720936004, 48.435637140530275, 47.40308440159416, 46.395346101342795, 14.13813723472091, 13.70636840643892, 11.360848262586408, 10.256239862986567, 0.0878230299064635, 0.08784116680091225, 0.08780724819142707, 0.08781074405602486, 0.08779931707443173, 0.08779793483238348, 0.08779698873467083, 0.0877989748688761, 0.08779025198216378, 0.0878109050939334, 63.56732931538763, 37.871983210535674, 0.08787926568610648, 0.08782276150994928, 0.08780134346811413, 0.08780190710079401, 0.08825014269937533, 496.11754991942166, 244.36623127742445, 209.67801142295485, 207.5615001575033, 193.3285495007009, 182.21792897146952, 178.99918772099699, 167.30710141050474, 146.771497359887, 110.07542927069689, 98.74427440053391, 96.15336786901867, 92.53481222594951, 86.57084736389436, 78.04935486342882, 73.2150821612023, 72.34051215231173, 71.96740436145927, 35.24754734497016, 21.551522890360935, 0.08196692936370124, 0.08195779687377368, 0.08195295534865982, 0.08193991785371661, 0.08194004839894242, 0.08193534309493376, 0.08193596176578652, 0.08197557372800186, 0.08193385033865598, 0.08193329977835581, 0.0819809998686922, 0.08202842751681819, 0.08195498163759962, 6.435114069996059, 2.720354360105324, 0.8482570861404318, 0.09413167838942721, 0.08233261492060187, 536.496558027462, 277.1339320054293, 242.7444973460385, 201.39704228153644, 103.14995165143762, 99.38793264950442, 89.25119458776872, 70.72509806919169, 22.726794578655436, 0.09297670800635527, 0.0929901408974219, 0.09296617460272429, 0.09296136313444338, 0.09296005346258235, 0.09296041064581717, 0.09297245682550154, 0.09295786834161635, 0.09295023442542102, 0.09295050756554177, 0.09295053557991313, 0.09296688896919394, 0.09294759407092043, 0.09295269268650777, 0.09296597850212478, 0.09294740497391377, 0.09294872865296047, 0.09294745399906364, 0.0929493659799089, 0.09296115302665818, 0.09295944415000529, 0.09305128226291291, 0.09295903093802774, 0.09298655505788796, 0.09297721226503973, 0.09295781231287363, 0.09296279887097553, 0.0929608378649804, 0.09355074348627955, 0.09296091490450163], \"Total\": [5703.0, 3728.0, 3553.0, 1470.0, 1689.0, 1542.0, 2080.0, 1617.0, 1711.0, 1887.0, 1364.0, 1580.0, 2436.0, 1265.0, 2118.0, 1549.0, 1488.0, 2162.0, 1224.0, 950.0, 1128.0, 2658.0, 1543.0, 1391.0, 1299.0, 661.0, 1687.0, 1179.0, 779.0, 991.0, 1199.7922923264139, 799.6686548310416, 774.049423084063, 712.8316207785955, 704.1350138580567, 477.7182585157443, 471.3535105400645, 465.3008355369914, 435.3172464854491, 390.51438005317715, 368.2137129474768, 353.6791643372206, 348.477231485456, 316.63351435001744, 298.13365250132557, 265.77357084519974, 236.6031887232934, 229.20665205123453, 227.1659132799781, 214.18431974180146, 211.21699059301386, 204.56868646023864, 193.72019937650032, 192.99716659496775, 169.8718591028665, 152.25777460075156, 151.09219084131368, 147.13311107427853, 333.7410546603511, 145.96624303946047, 1155.4939640694108, 473.17993739099427, 488.70890756867976, 1820.0419011454153, 484.7412392549343, 483.7733295345804, 1893.8808020720162, 967.2378018231436, 1445.198636557995, 1100.7880165340325, 366.91854937161406, 1260.9108042108096, 649.3460343556651, 737.6610240132152, 5703.491397062166, 1868.04381323279, 2436.859472643586, 1208.527965088935, 918.6230555825332, 917.9144986159158, 1254.8610928790026, 1264.8358494421077, 925.1581087354502, 2162.505726593275, 1618.8846986677963, 1356.7265064682724, 1299.6878619458726, 1306.0276187655393, 799.1114330599746, 1446.6636944167863, 1375.209482935319, 1019.5004330932987, 628.7591452808479, 542.1321137431332, 469.1054665538699, 236.63721983678542, 233.45191639459435, 193.12726353519707, 192.00450683730242, 188.4201647787046, 180.37800211923707, 176.85932430319784, 172.93497876718794, 146.9731873301266, 189.79448641056578, 123.47345258964549, 118.69022727658687, 116.33839315578251, 115.80960505519205, 107.01081044531934, 102.20764993750498, 97.54979673209291, 91.9967546336272, 78.14338144210816, 75.47825479447627, 68.7992284498487, 68.39775661085872, 64.40547454193575, 87.16515669825714, 62.97832907170974, 55.73819895611841, 3728.1431688685398, 1543.5071933802287, 428.53008776600365, 3553.148099745142, 920.5154345458052, 707.8753851987146, 571.8106740929657, 865.1581145547653, 449.2428650533836, 562.5666570847416, 1687.2200737952035, 571.560106784387, 636.4786964354504, 1375.209482935319, 749.0200083042057, 314.1778619694613, 599.6351355947536, 2658.3284240914536, 524.8158798444317, 2080.6208056463197, 902.9411755902892, 855.368847367083, 1019.0621685155637, 1549.391979606287, 795.5866044204115, 692.3672906016257, 622.6558838233713, 564.007816722204, 444.05983814428447, 407.9287847714144, 342.56409691207415, 422.5600265637795, 251.05282312848013, 241.49338529930174, 199.66576923477834, 198.3823430201618, 174.0013149789916, 160.08885864586136, 149.53219385757376, 147.6704345280828, 143.87505810717948, 141.69847078441194, 119.81029813035089, 101.64857020243029, 88.2791430274025, 83.47339957310649, 77.92166069264063, 70.08655197727961, 69.59348843068548, 63.3481988830705, 55.31287455043075, 53.81613468047403, 47.280783110419556, 40.67431303015028, 33.18973548155916, 148.22097230708687, 520.0543096972906, 637.702773237571, 223.81823657965523, 1179.4607614151446, 177.8118266005765, 1019.0621685155637, 463.56884439067704, 794.3791771830814, 453.43313869341966, 442.9612782994829, 392.83892587263205, 703.9386748726522, 524.7940239909368, 523.9921402531534, 352.3541276168735, 908.2596706467399, 414.3998119245812, 947.5458855575189, 486.82290743475, 1356.7265064682724, 880.0171078815689, 852.6290142733671, 567.4266716665442, 460.01011974678573, 440.0114436034967, 260.1031333780323, 240.94225899341058, 234.68040724621932, 215.95222940210184, 211.38304853978644, 198.659525610225, 186.6827556451843, 164.88934503380293, 160.76144897661914, 160.5837681367819, 137.2615444896607, 129.04028258036638, 127.14348444356878, 125.76927529954168, 123.76558574541998, 118.12685737404227, 110.59579555811263, 102.24924081708785, 86.19726504297135, 81.00155738540944, 80.31924554242602, 79.23503461041832, 77.12659559348623, 71.27086716400447, 70.75870873462362, 158.9408328291891, 196.53059743598152, 324.595708547333, 868.7773614907273, 169.90838697686877, 424.10460992066976, 1618.8846986677963, 2658.3284240914536, 918.8407266186342, 1306.0276187655393, 567.8634776156626, 947.5458855575189, 810.9246805114667, 920.404158384542, 1264.8358494421077, 599.6351355947536, 1711.4481699636144, 753.2699041931627, 455.47131019332454, 407.24605425052147, 360.209326433165, 346.8913194266303, 285.64418385147593, 234.94518236233185, 224.9276635811883, 186.30434306976161, 180.43536595912616, 149.96572664353286, 148.3931753447057, 129.8452543996559, 122.00177872415401, 107.77028362438388, 98.47389447077413, 80.8909083655569, 71.35198239564349, 55.07052712545563, 54.916148860958685, 52.250792436149375, 51.079486766723484, 49.88393716808304, 38.5024055079522, 37.369389049656384, 33.826112680019115, 32.684659535002645, 28.073378908821294, 26.90466141924859, 483.918562865432, 701.2342132273659, 444.63438667906576, 497.0420802306784, 1391.64531657817, 902.9411755902892, 3553.148099745142, 703.9386748726522, 1254.8610928790026, 478.56237035400574, 220.9382587993401, 490.7168535169493, 624.7790824011689, 553.4007958201763, 976.052370040536, 655.8689830143206, 567.8634776156626, 1446.6636944167863, 1617.0442661674438, 634.2297240153526, 372.66192323971205, 300.18158214351433, 218.6003540766087, 206.77552336101647, 169.4429091228984, 153.91093816807606, 122.47104478501207, 114.46397553311171, 111.66522674904826, 110.969471661406, 104.46624705588978, 96.81571310114653, 71.0428272913007, 63.40009306094626, 56.96697085194092, 1580.257957010613, 48.61620402418457, 62.19884097513568, 39.849619837578885, 108.92562811205134, 55.81981015751659, 224.7664926381824, 719.5017453699741, 716.8075507383079, 121.70863510123621, 163.31402213070376, 107.25054832293932, 1488.309142966777, 622.8244105684837, 2118.6202112736823, 480.28585147705286, 918.8407266186342, 560.3675678735772, 701.2342132273659, 902.9411755902892, 198.02062175073047, 658.3184631589723, 2658.3284240914536, 1299.6878619458726, 1128.2002422494356, 538.8086749041815, 534.383910202988, 490.1017920571117, 369.01195628186684, 752.3354696802819, 188.64211640843908, 183.7360562021677, 141.9325738351963, 107.12970070988713, 106.60573064476957, 99.91379009528737, 93.84992046556425, 93.64746041602817, 91.82206727641768, 80.75834978136882, 75.2893517874317, 74.1228785033752, 73.83845070842797, 67.77652175380217, 66.87590198928146, 62.15068170122924, 49.15127539307913, 39.883113391891904, 34.677485317220096, 31.889180413765654, 31.286499419207868, 24.57153754586335, 22.90470277670814, 22.8396239230049, 820.5155266831499, 542.2600675753722, 568.2462034355601, 235.58216654119403, 414.3998119245812, 2658.3284240914536, 2118.6202112736823, 714.2630821785357, 857.8117049528392, 1687.2200737952035, 855.368847367083, 2162.505726593275, 829.3418756357788, 392.83892587263205, 889.807374296584, 622.8244105684837, 536.8349018211072, 442.9612782994829, 613.3862469480645, 290.05190557304184, 208.70007485790114, 189.8293703408693, 151.0746926325185, 145.3970711504184, 115.68076142395694, 78.04176997185192, 1887.7098162226973, 1549.391979606287, 298.3174787912867, 89.53988501785253, 195.11394362069962, 1391.64531657817, 314.4216253537734, 427.5656659735478, 795.5866044204115, 2080.6208056463197, 538.3860964949707, 5703.491397062166, 2436.859472643586, 259.45255912356544, 1446.6636944167863, 917.9144986159158, 810.9246805114667, 920.5154345458052, 129.9000529863804, 466.53483748439027, 524.8158798444317, 1306.0276187655393, 737.6610240132152, 902.9411755902892, 920.404158384542, 1224.171004445887, 568.146576480775, 426.28267778974106, 263.6149384290019, 260.69106352626153, 193.10821512677532, 190.39201216029878, 185.27129635428312, 178.73828127506837, 176.41525063588452, 172.15289203832648, 159.16114192420957, 157.494318589396, 146.52182277659185, 101.5373916425831, 100.04886781380661, 87.12709295382157, 75.44459389537175, 55.560107950989256, 40.354215029301805, 36.23267578035975, 33.9811792319633, 28.782363269125575, 22.551120404822033, 991.1316540253754, 9.987618947333587, 976.052370040536, 509.9230821654105, 780.1092466302687, 159.0013145611418, 582.2708574091578, 490.7168535169493, 134.12791354602237, 734.024582843763, 135.38279899505878, 301.4464896294885, 444.63438667906576, 868.7773614907273, 1887.7098162226973, 358.3401407731712, 424.10460992066976, 478.56237035400574, 381.5821728897953, 750.516891421495, 750.1978964950149, 339.4406772958858, 268.135598146078, 215.8375590215975, 204.23453246817235, 181.06427415471813, 179.67580834862534, 179.1147124107927, 148.56675893309023, 148.4690536889554, 100.28346285292047, 95.33516468508766, 93.15335869472341, 93.0577057725651, 83.73299116062961, 82.174503994218, 81.74173915107728, 76.24992154382149, 69.80489038641716, 58.322255489207855, 56.84989391351443, 43.922858491051215, 41.424097255363854, 32.96948595962546, 223.9121407575826, 12.712836124806676, 12.176940400426085, 491.1940039299664, 197.55293653678288, 635.2914460495322, 749.0200083042057, 865.1581145547653, 662.0812136101092, 636.4786964354504, 2658.3284240914536, 799.1114330599746, 1687.2200737952035, 1868.04381323279, 857.8117049528392, 399.74799086685755, 1264.8358494421077, 5703.491397062166, 505.0618188733659, 360.2655235490384, 261.2474217914539, 259.97306909044073, 225.15747714329012, 206.96675615444752, 175.01838495765307, 153.1536524312049, 145.8187196665751, 138.48754700675883, 136.19007936451592, 120.0606572374304, 105.95302699822025, 92.96750951357852, 80.29530209616738, 69.12970882589275, 61.253716006845174, 57.39697059375842, 51.76702047259774, 43.647737604849105, 43.46105148333969, 41.87838553266689, 41.24518501942859, 41.12496415686566, 34.7836517644031, 34.67214934618846, 1689.1161022803356, 28.433830796142505, 28.40720151724963, 27.01093860769598, 416.9373839859481, 163.37618260561655, 338.884591320283, 399.74799086685755, 284.30736223355416, 1687.2200737952035, 582.2708574091578, 829.3418756357788, 442.09679525291455, 925.1581087354502, 1488.309142966777, 1356.7265064682724, 889.807374296584, 636.4786964354504, 1364.1960998917295, 1265.306028229697, 779.7598885614857, 133.5061323029378, 122.76899588414092, 119.00932941137704, 97.61234464510612, 88.41263111486515, 87.07223897577441, 78.68620953321108, 73.55024384389704, 45.28305206460508, 42.442909487857406, 15.396090034874012, 453.6332890003115, 5.851747914819857, 2080.6208056463197, 1299.6878619458726, 2118.6202112736823, 169.90838697686877, 649.3460343556651, 2162.505726593275, 163.31402213070376, 851.8673016579689, 967.2378018231436, 1.7364949324116836, 1.7351270047055694, 1.7353633539027566, 1.7345118352285427, 1.7345860331247334, 485.7533555408143, 918.8407266186342, 1155.4939640694108, 734.024582843763, 1893.8808020720162, 1264.8358494421077, 534.3127328146942, 516.2562671918132, 413.8622577225524, 364.74906133697766, 592.6398264516018, 228.03730952115532, 213.69999465016076, 210.12807547795552, 184.9980678886188, 182.21745710619203, 179.86421677068407, 133.99381182063132, 124.84987150282318, 121.6236039827238, 115.90323824090066, 102.44641737824188, 96.14106750578499, 96.06672290701835, 80.92309293276614, 75.1416799308606, 60.01630980555695, 58.5568342876141, 55.09446089236241, 38.88294163392036, 34.57647788842137, 33.54682094352149, 22.43987642708948, 19.581056714652785, 13.58224821365351, 165.41387203700498, 820.5155266831499, 2118.6202112736823, 449.2428650533836, 463.56884439067704, 1356.7265064682724, 1100.7880165340325, 2162.505726593275, 555.6821314419021, 707.8753851987146, 950.8138001229388, 426.20703439528245, 325.84539812869116, 317.19260879785435, 213.04020350771697, 163.08691084416853, 111.14510780977824, 104.5700053063874, 92.887999217946, 88.65906838109095, 80.55656217263025, 67.68770515334607, 57.39425899136993, 49.72654554055015, 46.47909055608377, 385.16373844847067, 20.69806249238357, 1542.3856367074882, 7.010006053771624, 489.2567683913773, 301.26203322469115, 373.0878580113279, 851.8673016579689, 868.7773614907273, 855.368847367083, 360.9982916462996, 131.4324682437833, 795.5866044204115, 377.8501672023506, 520.0543096972906, 1618.8846986677963, 2658.3284240914536, 364.233992831445, 512.7461647307467, 264.1224134509291, 260.7671645656063, 233.4942364133542, 181.37394991531576, 130.9396605076823, 130.2138572102066, 107.38412673551657, 93.58123497545752, 92.14904071609486, 82.88697715488233, 81.00794453983764, 73.48075838405775, 67.22440093205815, 60.24263519325284, 59.967181334406455, 53.15117765193675, 51.8279193553683, 723.4001778966273, 34.796025317310814, 32.23418364258574, 29.73740171127188, 24.989345631514574, 16.698045799145895, 15.760711772834513, 14.468650501951819, 14.093178401776102, 502.98671246265934, 4.201703572676674, 273.9418451787129, 497.0420802306784, 276.64066740831305, 568.2462034355601, 489.2567683913773, 635.2914460495322, 2658.3284240914536, 491.1940039299664, 165.41387203700498, 855.368847367083, 1264.8358494421077, 208.86330404176115, 163.4023066580003, 157.12647202458902, 149.58171412486223, 143.78153112954158, 112.51827432814503, 106.9930864975202, 105.9583490531556, 81.27238421206215, 79.93524480309985, 363.5019512654055, 60.6173575390427, 59.62461966517274, 58.950705670573036, 75.08294777716446, 32.58002070295565, 29.39203412326983, 308.58245360018924, 14.383563936708038, 10.61971203458882, 10.464754669904833, 301.4464896294885, 157.91370310874794, 1488.309142966777, 502.98671246265934, 851.8673016579689, 373.0878580113279, 571.8106740929657, 331.711040918268, 393.6105596704716, 918.6230555825332, 2162.505726593275, 491.1940039299664, 1470.4408625182975, 211.64047563664747, 201.5607334600531, 197.74104093047706, 194.80025273371288, 184.98036114273256, 145.88485066272003, 131.49614296224615, 121.2095042795204, 112.49492561922837, 86.28013434658581, 81.93681377068968, 80.2698712138407, 59.94298832317452, 45.77772600074428, 43.5129561522555, 42.790331019703935, 41.173708443101205, 25.63240340833442, 18.585434317011504, 16.19186341443626, 11.140612203234346, 9.716259826585636, 207.1530645941331, 163.31402213070376, 196.53059743598152, 355.173086702132, 296.31515422164154, 1.7364949324116836, 1.7345496859885674, 523.9921402531534, 496.0907492030583, 357.66699069087844, 661.996617877004, 440.86457611600025, 426.57154970824956, 280.63065127939024, 259.04528460823303, 223.21467804710562, 196.55723049697784, 189.02152898828922, 137.5840250161848, 125.32102690519065, 101.31724360444211, 59.25932946294002, 50.38888392975685, 50.081996356875756, 49.049443610415004, 48.041705315409196, 15.784496505840396, 15.35272763826739, 13.007207471407252, 11.902599092217885, 1.734450992638303, 1.734941726083498, 1.7343090158271657, 1.7344436135384793, 1.7342889019073917, 1.734305937504296, 1.734297628242972, 1.7343407038752738, 1.7342104560443783, 1.7346206189801787, 1356.7265064682724, 1868.04381323279, 1.7364949324116836, 1.7353633539027566, 1.7345380678700626, 1.7348961487277434, 399.74799086685755, 497.8616376927215, 246.01844787443088, 211.33022801243663, 209.21371676987783, 194.99489036326804, 183.8701455609513, 180.6514133060986, 168.95931800751117, 148.4237139493688, 111.72764587548652, 100.39649100518452, 97.80558446602508, 94.18702881543129, 88.22306398802117, 79.7015714529106, 74.86729875723601, 73.99272880678426, 73.61962095094106, 36.8997640397053, 23.203739499318914, 1.7345995681364976, 1.7345769021963453, 1.7344955122011165, 1.7342783223291578, 1.73429920872561, 1.7342322339199272, 1.7342601424716022, 1.7351270047055694, 1.7342560579846777, 1.7342560603957022, 1.7353633539027566, 1.7364949324116836, 1.7348346365252776, 925.1581087354502, 592.6398264516018, 2658.3284240914536, 918.8407266186342, 1618.8846986677963, 538.1377603851662, 278.7751344951049, 244.38569970374272, 203.03824463924067, 104.79115400914185, 101.02915998414758, 90.89239694547295, 72.36630042689592, 24.367996969155932, 1.7342216665795815, 1.7345769021963453, 1.7342585919377396, 1.7342790065562896, 1.7342681180866633, 1.7343293488195313, 1.7345673409239364, 1.7343024063501213, 1.7341867467781753, 1.7341918677483104, 1.7342175944297655, 1.7345251536247521, 1.7341790835257564, 1.7342783465404263, 1.7345407006081903, 1.7341991089841617, 1.73423323232603, 1.73421135902008, 1.734251932853839, 1.7344798613157086, 1.734455137670052, 1.7364949324116836, 1.7345089173522668, 1.7353633539027566, 1.7351270047055694, 1.7346206189801787, 1.734941726083498, 1.7354182288051112, 1893.8808020720162, 1618.8846986677963], \"Category\": [\"Default\", \"Default\", \"Default\", \"Default\", \"Default\", \"Default\", \"Default\", \"Default\", \"Default\", \"Default\", \"Default\", \"Default\", \"Default\", \"Default\", \"Default\", \"Default\", \"Default\", \"Default\", \"Default\", \"Default\", \"Default\", \"Default\", \"Default\", \"Default\", \"Default\", \"Default\", \"Default\", \"Default\", \"Default\", \"Default\", \"Topic1\", \"Topic1\", \"Topic1\", \"Topic1\", \"Topic1\", \"Topic1\", \"Topic1\", \"Topic1\", \"Topic1\", \"Topic1\", \"Topic1\", \"Topic1\", \"Topic1\", \"Topic1\", \"Topic1\", \"Topic1\", \"Topic1\", \"Topic1\", \"Topic1\", \"Topic1\", \"Topic1\", \"Topic1\", \"Topic1\", \"Topic1\", \"Topic1\", \"Topic1\", \"Topic1\", \"Topic1\", \"Topic1\", \"Topic1\", \"Topic1\", \"Topic1\", \"Topic1\", \"Topic1\", \"Topic1\", \"Topic1\", \"Topic1\", \"Topic1\", \"Topic1\", \"Topic1\", \"Topic1\", \"Topic1\", \"Topic1\", \"Topic1\", \"Topic1\", \"Topic1\", \"Topic1\", \"Topic1\", \"Topic1\", \"Topic1\", \"Topic1\", \"Topic1\", \"Topic1\", \"Topic1\", \"Topic1\", \"Topic1\", \"Topic1\", \"Topic1\", \"Topic1\", \"Topic1\", \"Topic1\", \"Topic2\", \"Topic2\", \"Topic2\", \"Topic2\", \"Topic2\", \"Topic2\", \"Topic2\", \"Topic2\", \"Topic2\", \"Topic2\", \"Topic2\", \"Topic2\", \"Topic2\", \"Topic2\", \"Topic2\", \"Topic2\", \"Topic2\", \"Topic2\", \"Topic2\", \"Topic2\", \"Topic2\", \"Topic2\", \"Topic2\", \"Topic2\", \"Topic2\", \"Topic2\", \"Topic2\", \"Topic2\", \"Topic2\", \"Topic2\", \"Topic2\", \"Topic2\", \"Topic2\", \"Topic2\", \"Topic2\", \"Topic2\", \"Topic2\", \"Topic2\", \"Topic2\", \"Topic2\", \"Topic2\", \"Topic2\", \"Topic2\", \"Topic2\", \"Topic2\", \"Topic2\", \"Topic2\", \"Topic2\", \"Topic2\", \"Topic2\", \"Topic2\", \"Topic2\", \"Topic2\", \"Topic2\", \"Topic2\", \"Topic3\", \"Topic3\", \"Topic3\", \"Topic3\", \"Topic3\", \"Topic3\", \"Topic3\", \"Topic3\", \"Topic3\", \"Topic3\", \"Topic3\", \"Topic3\", \"Topic3\", \"Topic3\", \"Topic3\", \"Topic3\", \"Topic3\", \"Topic3\", \"Topic3\", \"Topic3\", \"Topic3\", \"Topic3\", \"Topic3\", \"Topic3\", \"Topic3\", \"Topic3\", \"Topic3\", \"Topic3\", \"Topic3\", \"Topic3\", \"Topic3\", \"Topic3\", \"Topic3\", \"Topic3\", \"Topic3\", \"Topic3\", \"Topic3\", \"Topic3\", \"Topic3\", \"Topic3\", \"Topic3\", \"Topic3\", \"Topic3\", \"Topic3\", \"Topic3\", \"Topic3\", \"Topic3\", \"Topic3\", \"Topic3\", \"Topic3\", \"Topic3\", \"Topic4\", \"Topic4\", \"Topic4\", \"Topic4\", \"Topic4\", \"Topic4\", \"Topic4\", \"Topic4\", \"Topic4\", \"Topic4\", \"Topic4\", \"Topic4\", \"Topic4\", \"Topic4\", \"Topic4\", \"Topic4\", \"Topic4\", \"Topic4\", \"Topic4\", \"Topic4\", \"Topic4\", \"Topic4\", \"Topic4\", \"Topic4\", \"Topic4\", \"Topic4\", \"Topic4\", \"Topic4\", \"Topic4\", \"Topic4\", \"Topic4\", \"Topic4\", \"Topic4\", \"Topic4\", \"Topic4\", \"Topic4\", \"Topic4\", \"Topic4\", \"Topic4\", \"Topic4\", \"Topic4\", \"Topic4\", \"Topic4\", \"Topic4\", \"Topic4\", \"Topic4\", \"Topic5\", \"Topic5\", \"Topic5\", \"Topic5\", \"Topic5\", \"Topic5\", \"Topic5\", \"Topic5\", \"Topic5\", \"Topic5\", \"Topic5\", \"Topic5\", \"Topic5\", \"Topic5\", \"Topic5\", \"Topic5\", \"Topic5\", \"Topic5\", \"Topic5\", \"Topic5\", \"Topic5\", \"Topic5\", \"Topic5\", \"Topic5\", \"Topic5\", \"Topic5\", \"Topic5\", \"Topic5\", \"Topic5\", \"Topic5\", \"Topic5\", \"Topic5\", \"Topic5\", \"Topic5\", \"Topic5\", \"Topic5\", \"Topic5\", \"Topic5\", \"Topic5\", \"Topic5\", \"Topic5\", \"Topic5\", \"Topic5\", \"Topic5\", \"Topic5\", \"Topic5\", \"Topic5\", \"Topic5\", \"Topic6\", \"Topic6\", \"Topic6\", \"Topic6\", \"Topic6\", \"Topic6\", \"Topic6\", \"Topic6\", \"Topic6\", \"Topic6\", \"Topic6\", \"Topic6\", \"Topic6\", \"Topic6\", \"Topic6\", \"Topic6\", \"Topic6\", \"Topic6\", \"Topic6\", \"Topic6\", \"Topic6\", \"Topic6\", \"Topic6\", \"Topic6\", \"Topic6\", \"Topic6\", \"Topic6\", \"Topic6\", \"Topic6\", \"Topic6\", \"Topic6\", \"Topic6\", \"Topic6\", \"Topic6\", \"Topic6\", \"Topic6\", \"Topic6\", \"Topic6\", \"Topic6\", \"Topic6\", \"Topic6\", \"Topic7\", \"Topic7\", \"Topic7\", \"Topic7\", \"Topic7\", \"Topic7\", \"Topic7\", \"Topic7\", \"Topic7\", \"Topic7\", \"Topic7\", \"Topic7\", \"Topic7\", \"Topic7\", \"Topic7\", \"Topic7\", \"Topic7\", \"Topic7\", \"Topic7\", \"Topic7\", \"Topic7\", \"Topic7\", \"Topic7\", \"Topic7\", \"Topic7\", \"Topic7\", \"Topic7\", \"Topic7\", \"Topic7\", \"Topic7\", \"Topic7\", \"Topic7\", \"Topic7\", \"Topic7\", \"Topic7\", \"Topic7\", \"Topic7\", \"Topic7\", \"Topic7\", \"Topic7\", \"Topic7\", \"Topic7\", \"Topic7\", \"Topic7\", \"Topic7\", \"Topic7\", \"Topic7\", \"Topic7\", \"Topic8\", \"Topic8\", \"Topic8\", \"Topic8\", \"Topic8\", \"Topic8\", \"Topic8\", \"Topic8\", \"Topic8\", \"Topic8\", \"Topic8\", \"Topic8\", \"Topic8\", \"Topic8\", \"Topic8\", \"Topic8\", \"Topic8\", \"Topic8\", \"Topic8\", \"Topic8\", \"Topic8\", \"Topic8\", \"Topic8\", \"Topic8\", \"Topic8\", \"Topic8\", \"Topic8\", \"Topic8\", \"Topic8\", \"Topic8\", \"Topic8\", \"Topic8\", \"Topic8\", \"Topic9\", \"Topic9\", \"Topic9\", \"Topic9\", \"Topic9\", \"Topic9\", \"Topic9\", \"Topic9\", \"Topic9\", \"Topic9\", \"Topic9\", \"Topic9\", \"Topic9\", \"Topic9\", \"Topic9\", \"Topic9\", \"Topic9\", \"Topic9\", \"Topic9\", \"Topic9\", \"Topic9\", \"Topic9\", \"Topic9\", \"Topic9\", \"Topic9\", \"Topic9\", \"Topic9\", \"Topic9\", \"Topic9\", \"Topic9\", \"Topic9\", \"Topic9\", \"Topic9\", \"Topic9\", \"Topic9\", \"Topic9\", \"Topic9\", \"Topic9\", \"Topic9\", \"Topic9\", \"Topic9\", \"Topic9\", \"Topic9\", \"Topic10\", \"Topic10\", \"Topic10\", \"Topic10\", \"Topic10\", \"Topic10\", \"Topic10\", \"Topic10\", \"Topic10\", \"Topic10\", \"Topic10\", \"Topic10\", \"Topic10\", \"Topic10\", \"Topic10\", \"Topic10\", \"Topic10\", \"Topic10\", \"Topic10\", \"Topic10\", \"Topic10\", \"Topic10\", \"Topic10\", \"Topic10\", \"Topic10\", \"Topic10\", \"Topic10\", \"Topic10\", \"Topic10\", \"Topic10\", \"Topic10\", \"Topic10\", \"Topic10\", \"Topic10\", \"Topic10\", \"Topic10\", \"Topic10\", \"Topic10\", \"Topic10\", \"Topic10\", \"Topic10\", \"Topic10\", \"Topic10\", \"Topic11\", \"Topic11\", \"Topic11\", \"Topic11\", \"Topic11\", \"Topic11\", \"Topic11\", \"Topic11\", \"Topic11\", \"Topic11\", \"Topic11\", \"Topic11\", \"Topic11\", \"Topic11\", \"Topic11\", \"Topic11\", \"Topic11\", \"Topic11\", \"Topic11\", \"Topic11\", \"Topic11\", \"Topic11\", \"Topic11\", \"Topic11\", \"Topic11\", \"Topic11\", \"Topic11\", \"Topic11\", \"Topic11\", \"Topic11\", \"Topic11\", \"Topic11\", \"Topic11\", \"Topic11\", \"Topic11\", \"Topic11\", \"Topic11\", \"Topic11\", \"Topic11\", \"Topic11\", \"Topic11\", \"Topic11\", \"Topic11\", \"Topic11\", \"Topic12\", \"Topic12\", \"Topic12\", \"Topic12\", \"Topic12\", \"Topic12\", \"Topic12\", \"Topic12\", \"Topic12\", \"Topic12\", \"Topic12\", \"Topic12\", \"Topic12\", \"Topic12\", \"Topic12\", \"Topic12\", \"Topic12\", \"Topic12\", \"Topic12\", \"Topic12\", \"Topic12\", \"Topic12\", \"Topic12\", \"Topic12\", \"Topic12\", \"Topic12\", \"Topic12\", \"Topic12\", \"Topic12\", \"Topic12\", \"Topic12\", \"Topic12\", \"Topic12\", \"Topic12\", \"Topic12\", \"Topic12\", \"Topic13\", \"Topic13\", \"Topic13\", \"Topic13\", \"Topic13\", \"Topic13\", \"Topic13\", \"Topic13\", \"Topic13\", \"Topic13\", \"Topic13\", \"Topic13\", \"Topic13\", \"Topic13\", \"Topic13\", \"Topic13\", \"Topic13\", \"Topic13\", \"Topic13\", \"Topic13\", \"Topic13\", \"Topic13\", \"Topic13\", \"Topic13\", \"Topic13\", \"Topic13\", \"Topic13\", \"Topic13\", \"Topic13\", \"Topic13\", \"Topic13\", \"Topic13\", \"Topic13\", \"Topic13\", \"Topic13\", \"Topic13\", \"Topic13\", \"Topic13\", \"Topic13\", \"Topic14\", \"Topic14\", \"Topic14\", \"Topic14\", \"Topic14\", \"Topic14\", \"Topic14\", \"Topic14\", \"Topic14\", \"Topic14\", \"Topic14\", \"Topic14\", \"Topic14\", \"Topic14\", \"Topic14\", \"Topic14\", \"Topic14\", \"Topic14\", \"Topic14\", \"Topic14\", \"Topic14\", \"Topic14\", \"Topic14\", \"Topic14\", \"Topic14\", \"Topic14\", \"Topic14\", \"Topic14\", \"Topic14\", \"Topic14\", \"Topic14\", \"Topic14\", \"Topic15\", \"Topic15\", \"Topic15\", \"Topic15\", \"Topic15\", \"Topic15\", \"Topic15\", \"Topic15\", \"Topic15\", \"Topic15\", \"Topic15\", \"Topic15\", \"Topic15\", \"Topic15\", \"Topic15\", \"Topic15\", \"Topic15\", \"Topic15\", \"Topic15\", \"Topic15\", \"Topic15\", \"Topic15\", \"Topic15\", \"Topic15\", \"Topic15\", \"Topic15\", \"Topic15\", \"Topic15\", \"Topic15\", \"Topic15\", \"Topic15\", \"Topic15\", \"Topic15\", \"Topic15\", \"Topic15\", \"Topic15\", \"Topic15\", \"Topic15\", \"Topic15\", \"Topic15\", \"Topic15\", \"Topic16\", \"Topic16\", \"Topic16\", \"Topic16\", \"Topic16\", \"Topic16\", \"Topic16\", \"Topic16\", \"Topic16\", \"Topic16\", \"Topic16\", \"Topic16\", \"Topic16\", \"Topic16\", \"Topic16\", \"Topic16\", \"Topic16\", \"Topic16\", \"Topic16\", \"Topic16\", \"Topic16\", \"Topic16\", \"Topic16\", \"Topic16\", \"Topic16\", \"Topic16\", \"Topic16\", \"Topic16\", \"Topic16\", \"Topic16\", \"Topic16\", \"Topic16\", \"Topic16\", \"Topic17\", \"Topic17\", \"Topic17\", \"Topic17\", \"Topic17\", \"Topic17\", \"Topic17\", \"Topic17\", \"Topic17\", \"Topic17\", \"Topic17\", \"Topic17\", \"Topic17\", \"Topic17\", \"Topic17\", \"Topic17\", \"Topic17\", \"Topic17\", \"Topic17\", \"Topic17\", \"Topic17\", \"Topic17\", \"Topic17\", \"Topic17\", \"Topic17\", \"Topic17\", \"Topic17\", \"Topic17\", \"Topic17\", \"Topic17\", \"Topic17\", \"Topic17\", \"Topic17\", \"Topic18\", \"Topic18\", \"Topic18\", \"Topic18\", \"Topic18\", \"Topic18\", \"Topic18\", \"Topic18\", \"Topic18\", \"Topic18\", \"Topic18\", \"Topic18\", \"Topic18\", \"Topic18\", \"Topic18\", \"Topic18\", \"Topic18\", \"Topic18\", \"Topic18\", \"Topic18\", \"Topic18\", \"Topic18\", \"Topic18\", \"Topic18\", \"Topic18\", \"Topic18\", \"Topic18\", \"Topic18\", \"Topic18\", \"Topic18\", \"Topic18\", \"Topic18\", \"Topic18\", \"Topic18\", \"Topic18\", \"Topic18\", \"Topic18\", \"Topic19\", \"Topic19\", \"Topic19\", \"Topic19\", \"Topic19\", \"Topic19\", \"Topic19\", \"Topic19\", \"Topic19\", \"Topic19\", \"Topic19\", \"Topic19\", \"Topic19\", \"Topic19\", \"Topic19\", \"Topic19\", \"Topic19\", \"Topic19\", \"Topic19\", \"Topic19\", \"Topic19\", \"Topic19\", \"Topic19\", \"Topic19\", \"Topic19\", \"Topic19\", \"Topic19\", \"Topic19\", \"Topic19\", \"Topic19\", \"Topic19\", \"Topic19\", \"Topic19\", \"Topic19\", \"Topic19\", \"Topic19\", \"Topic19\", \"Topic19\", \"Topic20\", \"Topic20\", \"Topic20\", \"Topic20\", \"Topic20\", \"Topic20\", \"Topic20\", \"Topic20\", \"Topic20\", \"Topic20\", \"Topic20\", \"Topic20\", \"Topic20\", \"Topic20\", \"Topic20\", \"Topic20\", \"Topic20\", \"Topic20\", \"Topic20\", \"Topic20\", \"Topic20\", \"Topic20\", \"Topic20\", \"Topic20\", \"Topic20\", \"Topic20\", \"Topic20\", \"Topic20\", \"Topic20\", \"Topic20\", \"Topic20\", \"Topic20\", \"Topic20\", \"Topic20\", \"Topic20\", \"Topic20\", \"Topic20\", \"Topic20\", \"Topic20\"], \"logprob\": [30.0, 29.0, 28.0, 27.0, 26.0, 25.0, 24.0, 23.0, 22.0, 21.0, 20.0, 19.0, 18.0, 17.0, 16.0, 15.0, 14.0, 13.0, 12.0, 11.0, 10.0, 9.0, 8.0, 7.0, 6.0, 5.0, 4.0, 3.0, 2.0, 1.0, -4.0941, -4.5005, -4.5331, -4.6157, -4.628, -5.017, -5.0305, -5.0435, -5.1103, -5.2194, -5.2784, -5.3189, -5.3338, -5.4301, -5.4906, -5.6062, -5.7232, -5.7552, -5.7642, -5.8235, -5.8376, -5.8698, -5.9247, -5.9285, -6.0574, -6.1679, -6.1757, -6.2026, -5.3836, -6.2106, -4.1465, -5.0438, -5.0127, -3.748, -5.0478, -5.0544, -3.7643, -4.4034, -4.0467, -4.3001, -5.3277, -4.2223, -4.8181, -4.709, -2.9311, -3.9445, -3.7253, -4.3559, -4.5821, -4.5967, -4.3633, -4.3869, -4.6294, -4.1476, -4.3216, -4.5322, -4.5982, -4.6383, -4.8283, -4.632, -4.6936, -3.3187, -3.8031, -3.9517, -4.0969, -4.7846, -4.7983, -4.9894, -4.9953, -5.0143, -5.0583, -5.0782, -5.1008, -5.2652, -5.0114, -5.4416, -5.4816, -5.5019, -5.5066, -5.5868, -5.6334, -5.6808, -5.7405, -5.9069, -5.9424, -6.0372, -6.0432, -6.1049, -5.8027, -6.1279, -6.2535, -2.0508, -2.9713, -4.3318, -2.4004, -3.6432, -3.8929, -4.2154, -3.9566, -4.4981, -4.3678, -3.6026, -4.3827, -4.372, -3.9294, -4.3373, -4.9034, -4.5851, -4.1131, -4.7381, -4.3169, -4.5822, -4.6174, -4.5856, -4.5356, -4.7841, -3.192, -3.2984, -3.3976, -3.6375, -3.7227, -3.8981, -3.6889, -4.2106, -4.2497, -4.4413, -4.4478, -4.5802, -4.6643, -4.7333, -4.7459, -4.7723, -4.7877, -4.9576, -5.1246, -5.268, -5.3251, -5.3954, -5.5037, -5.511, -5.6074, -5.7469, -5.7752, -5.909, -6.0654, -6.2783, -4.8003, -3.62, -3.4403, -4.452, -2.9321, -4.6752, -3.1356, -3.867, -3.4478, -3.9703, -4.0318, -4.1521, -3.7785, -4.0083, -4.0288, -4.2984, -3.8217, -4.3152, -4.0656, -4.3454, -4.3809, -2.8133, -2.8449, -3.2531, -3.4637, -3.5083, -4.0366, -4.1136, -4.1401, -4.2239, -4.2455, -4.308, -4.3708, -4.4961, -4.5217, -4.5228, -4.6815, -4.744, -4.759, -4.77, -4.7863, -4.8336, -4.9004, -4.9801, -5.1539, -5.2174, -5.226, -5.2399, -5.2674, -5.3482, -5.3555, -4.5483, -4.4793, -4.0541, -3.4768, -4.6924, -4.1346, -3.3083, -3.304, -3.9602, -3.8141, -4.2295, -4.1818, -4.3619, -4.3888, -4.3637, -4.4869, -2.1314, -2.9533, -3.4579, -3.5701, -3.6934, -3.7314, -3.9265, -4.1232, -4.1671, -4.357, -4.3893, -4.5761, -4.5868, -4.7219, -4.785, -4.9109, -5.0025, -5.2029, -5.3312, -5.5972, -5.6001, -5.6514, -5.6748, -5.7005, -5.9684, -5.9996, -6.104, -6.1401, -6.3009, -6.3462, -3.6818, -3.5279, -3.9391, -4.0315, -3.2736, -3.6392, -2.6661, -3.8506, -3.7526, -4.419, -4.8557, -4.5464, -4.4596, -4.5413, -4.3554, -4.5457, -4.6277, -4.6155, -1.9658, -2.9033, -3.4369, -3.6543, -3.9735, -4.0295, -4.2304, -4.3276, -4.5589, -4.6274, -4.6526, -4.6589, -4.7202, -4.7976, -5.1134, -5.2301, -5.3401, -2.0196, -5.5038, -5.2594, -5.7104, -4.738, -5.4242, -4.169, -3.2821, -3.3146, -5.1542, -4.9404, -5.4067, -2.7812, -3.7548, -2.9091, -4.1228, -3.7923, -4.1498, -4.0769, -4.2931, -4.8747, -4.4961, -4.2193, -4.8293, -2.3255, -3.0661, -3.0744, -3.1612, -3.4461, -2.7349, -4.1214, -4.148, -4.4088, -4.694, -4.6989, -4.7648, -4.8285, -4.8307, -4.8508, -4.9817, -5.0533, -5.0693, -5.0732, -5.161, -5.1747, -5.2499, -5.4918, -5.7089, -5.8553, -5.9435, -5.9637, -6.2207, -6.2962, -6.2993, -2.9745, -3.3643, -3.5255, -4.4416, -4.115, -2.876, -3.0992, -3.8786, -3.9425, -3.6974, -4.0036, -3.6284, -4.172, -4.5095, -4.3541, -4.4502, -4.6784, -4.7208, -2.9315, -3.6834, -4.0148, -4.1103, -4.3409, -4.3797, -4.6113, -5.0118, -1.9711, -2.2253, -3.903, -5.2592, -4.6543, -2.7598, -4.2984, -4.0522, -3.5269, -2.6299, -4.2295, -1.9568, -2.8204, -5.202, -3.6309, -4.0926, -4.5403, -4.474, -6.4874, -5.3493, -5.2595, -4.4373, -5.1057, -4.9947, -5.0909, -2.2027, -2.972, -3.2602, -3.7432, -3.7544, -4.0568, -4.0711, -4.0986, -4.1348, -4.148, -4.1727, -4.2519, -4.2626, -4.3356, -4.7074, -4.7224, -4.8632, -5.0102, -5.3242, -5.6556, -5.7682, -5.8355, -6.0108, -6.2718, -2.5693, -7.1917, -2.6411, -3.3086, -2.9203, -4.5439, -3.2662, -3.6807, -4.794, -3.4834, -4.8135, -4.3386, -4.22, -4.1294, -4.1829, -4.5904, -4.6196, -4.6843, -4.7027, -2.494, -2.4945, -3.2902, -3.5273, -3.7457, -3.8014, -3.9229, -3.9307, -3.9338, -4.1227, -4.1234, -4.5211, -4.5726, -4.5962, -4.5972, -4.7048, -4.724, -4.7294, -4.8004, -4.8907, -5.0752, -5.1015, -5.3683, -5.4292, -5.6682, -3.7541, -6.7084, -6.758, -3.2648, -4.279, -3.1355, -3.2501, -3.3283, -3.553, -3.7628, -3.0911, -3.7961, -3.7858, -3.7784, -4.0274, -4.4104, -4.5343, -4.5102, -2.7994, -3.1386, -3.4617, -3.4666, -3.6114, -3.6963, -3.8654, -4.0002, -4.0499, -4.1021, -4.119, -4.2467, -4.3736, -4.5065, -4.6559, -4.8091, -4.9332, -5.0001, -5.1066, -5.2833, -5.2878, -5.3264, -5.3423, -5.3453, -5.5204, -5.5238, -1.6393, -5.7332, -5.7342, -5.7878, -3.1549, -4.1408, -3.48, -3.3579, -3.9788, -3.0172, -3.9542, -3.9779, -4.2996, -4.1759, -4.0715, -4.5096, -4.6707, -4.786, -1.685, -1.7602, -2.2451, -4.0203, -4.1052, -4.1367, -4.338, -4.4388, -4.4544, -4.5577, -4.6267, -5.1262, -5.1935, -6.2812, -2.9843, -7.4664, -2.1255, -2.8905, -2.5004, -5.3695, -4.7128, -3.5468, -6.1491, -4.8873, -4.838, -11.3712, -11.3724, -11.3727, -11.3736, -11.3735, -5.8841, -6.0039, -6.2908, -6.8535, -6.2944, -6.9084, -2.592, -2.6264, -2.8483, -2.9752, -2.4925, -3.4476, -3.513, -3.53, -3.6585, -3.6738, -3.6869, -3.9845, -4.0561, -4.0826, -4.1315, -4.2568, -4.3214, -4.3222, -4.497, -4.5727, -4.8032, -4.8285, -4.8913, -5.2528, -5.3757, -5.4075, -5.8356, -5.9836, -6.3911, -4.1259, -3.4306, -2.9678, -3.9666, -4.1664, -3.8266, -4.0481, -4.0219, -4.4085, -4.5979, -1.875, -2.6795, -2.9492, -2.9763, -3.3769, -3.6464, -4.0347, -4.0966, -4.2171, -4.2645, -4.3623, -4.5403, -4.7097, -4.8577, -4.9276, -2.8424, -5.7834, -1.572, -7.0509, -2.839, -4.4126, -4.3653, -3.6662, -4.0499, -4.186, -5.1098, -6.1373, -4.4671, -5.2233, -5.3399, -4.94, -5.7507, -2.8157, -2.4749, -3.1388, -3.1517, -3.2629, -3.5175, -3.8468, -3.8524, -4.0479, -4.1877, -4.2034, -4.3114, -4.3348, -4.4344, -4.5255, -4.638, -4.6427, -4.767, -4.793, -2.1727, -5.2074, -5.2878, -5.3729, -5.5579, -5.9962, -6.0604, -6.1563, -6.1859, -2.9446, -7.7628, -3.5958, -3.2292, -3.842, -3.3363, -3.8751, -3.7759, -3.4056, -4.281, -4.8176, -4.4839, -4.6458, -3.1779, -3.4256, -3.4651, -3.5149, -3.5549, -3.8032, -3.8544, -3.8642, -4.1342, -4.1512, -2.6377, -4.4345, -4.4515, -4.4632, -4.2248, -5.0796, -5.1883, -2.8798, -5.9665, -6.3164, -6.3338, -3.466, -4.1291, -2.0644, -3.3039, -2.794, -3.6315, -3.4742, -4.1074, -3.9784, -3.3106, -2.7619, -4.4255, -1.0246, -2.9697, -3.0189, -3.0382, -3.0533, -3.1055, -3.3453, -3.4504, -3.533, -3.6086, -3.8785, -3.9312, -3.9522, -4.2513, -4.5297, -4.5824, -4.5998, -4.6399, -5.1395, -5.4875, -5.6399, -6.0667, -6.2294, -3.2851, -4.1634, -4.9545, -4.8666, -5.3347, -10.8199, -10.8214, -5.4291, -5.6907, -6.0033, -1.7203, -2.1281, -2.1612, -2.5819, -2.6624, -2.8123, -2.9405, -2.9799, -3.3009, -3.3954, -3.6112, -4.1593, -4.3265, -4.3328, -4.3544, -4.3759, -5.5642, -5.5952, -5.7829, -5.8852, -10.6455, -10.6453, -10.6457, -10.6456, -10.6458, -10.6458, -10.6458, -10.6458, -10.6459, -10.6456, -4.061, -4.5788, -10.6449, -10.6455, -10.6457, -10.6457, -10.6406, -1.8389, -2.547, -2.7001, -2.7103, -2.7813, -2.8405, -2.8583, -2.9259, -3.0568, -3.3445, -3.4532, -3.4798, -3.5181, -3.5847, -3.6884, -3.7523, -3.7643, -3.7695, -4.4833, -4.9753, -10.5471, -10.5473, -10.5473, -10.5475, -10.5475, -10.5475, -10.5475, -10.547, -10.5475, -10.5475, -10.547, -10.5464, -10.5473, -6.1839, -7.0449, -8.2103, -10.4088, -10.5427, -1.2777, -1.9382, -2.0707, -2.2575, -2.9266, -2.9637, -3.0713, -3.3039, -4.4392, -9.9382, -9.938, -9.9383, -9.9383, -9.9383, -9.9383, -9.9382, -9.9384, -9.9384, -9.9384, -9.9384, -9.9383, -9.9385, -9.9384, -9.9383, -9.9385, -9.9385, -9.9385, -9.9385, -9.9383, -9.9383, -9.9374, -9.9383, -9.9381, -9.9382, -9.9384, -9.9383, -9.9383, -9.932, -9.9383], \"loglift\": [30.0, 29.0, 28.0, 27.0, 26.0, 25.0, 24.0, 23.0, 22.0, 21.0, 20.0, 19.0, 18.0, 17.0, 16.0, 15.0, 14.0, 13.0, 12.0, 11.0, 10.0, 9.0, 8.0, 7.0, 6.0, 5.0, 4.0, 3.0, 2.0, 1.0, 1.2583, 1.2576, 1.2576, 1.2574, 1.2573, 1.2562, 1.2562, 1.2561, 1.2559, 1.2555, 1.2552, 1.255, 1.2549, 1.2545, 1.2541, 1.2535, 1.2527, 1.2525, 1.2524, 1.2519, 1.2518, 1.2516, 1.2511, 1.2511, 1.2498, 1.2488, 1.2487, 1.2484, 1.2483, 1.2483, 1.2435, 1.239, 1.2378, 1.1876, 1.2108, 1.2062, 1.1316, 1.1645, 1.1196, 1.1384, 1.2095, 1.0804, 1.1482, 1.1298, 0.8624, 0.9652, 0.9185, 0.9893, 1.0373, 1.0235, 0.9442, 0.9127, 0.9829, 0.6157, 0.7312, 0.6973, 0.6742, 0.6292, 0.9305, 0.5333, 0.5223, 2.1965, 2.1955, 2.1951, 2.1946, 2.1911, 2.191, 2.1895, 2.1895, 2.1893, 2.1889, 2.1887, 2.1885, 2.1868, 2.185, 2.1847, 2.1841, 2.1838, 2.1838, 2.1826, 2.1819, 2.1811, 2.18, 2.1768, 2.176, 2.1739, 2.1737, 2.1722, 2.1717, 2.1716, 2.1681, 2.1678, 2.1292, 2.0501, 1.8663, 1.9741, 1.9871, 1.8781, 1.7227, 1.8366, 1.7419, 1.4088, 1.7113, 1.6143, 1.2865, 1.4862, 1.7889, 1.4609, 0.4437, 1.4411, 0.4849, 1.0544, 1.0733, 0.93, 0.561, 0.9791, 2.7102, 2.7099, 2.7096, 2.7089, 2.7085, 2.7078, 2.707, 2.706, 2.7057, 2.7043, 2.7042, 2.7031, 2.7022, 2.7015, 2.7014, 2.7011, 2.7009, 2.6987, 2.6962, 2.6938, 2.6927, 2.6912, 2.6888, 2.6886, 2.6863, 2.6824, 2.6815, 2.6771, 2.6713, 2.6617, 2.6433, 2.5683, 2.5442, 2.5795, 2.4374, 2.5864, 2.38, 2.4363, 2.3169, 2.3551, 2.317, 2.3168, 2.1071, 2.1709, 2.152, 2.2792, 1.8091, 2.1003, 1.5228, 1.909, 0.8485, 2.8491, 2.849, 2.8481, 2.8474, 2.8472, 2.8446, 2.8441, 2.8439, 2.8433, 2.8431, 2.8426, 2.8421, 2.8409, 2.8407, 2.8407, 2.8389, 2.8381, 2.8379, 2.8378, 2.8376, 2.8369, 2.836, 2.8348, 2.8317, 2.8305, 2.8303, 2.83, 2.8294, 2.8276, 2.8275, 2.8255, 2.6822, 2.6056, 2.1984, 2.6146, 2.2577, 1.7445, 1.2528, 1.659, 1.4534, 1.8709, 1.4066, 1.3822, 1.2287, 0.9358, 1.5591, 2.8658, 2.8646, 2.863, 2.8627, 2.8622, 2.8619, 2.861, 2.8597, 2.8594, 2.8579, 2.8576, 2.8558, 2.8556, 2.854, 2.8532, 2.8514, 2.85, 2.8463, 2.8435, 2.8365, 2.8364, 2.8348, 2.8341, 2.8321, 2.8232, 2.8219, 2.817, 2.8153, 2.8065, 2.8038, 2.5785, 2.3616, 2.4059, 2.2021, 1.9305, 1.9974, 1.6006, 2.035, 1.5549, 1.8525, 2.1887, 1.7, 1.5453, 1.5849, 1.2034, 1.4106, 1.4727, 0.5497, 3.0881, 3.0865, 3.0847, 3.0836, 3.0815, 3.0811, 3.0793, 3.0783, 3.0755, 3.0746, 3.0742, 3.0741, 3.0732, 3.0719, 3.0656, 3.0627, 3.0597, 3.0573, 3.0545, 3.0525, 3.0468, 3.0136, 2.996, 2.8582, 2.5816, 2.5529, 2.4865, 2.4062, 2.3604, 2.3557, 2.2532, 1.8747, 2.1451, 1.8269, 1.9639, 1.8125, 1.3435, 2.2793, 1.4565, 0.3375, 0.4431, 3.0884, 3.0868, 3.0868, 3.0865, 3.0854, 3.0842, 3.0811, 3.0808, 3.0781, 3.0743, 3.0742, 3.0731, 3.0721, 3.072, 3.0717, 3.0691, 3.0676, 3.0673, 3.0672, 3.0651, 3.0648, 3.0628, 3.0556, 3.0474, 3.0409, 3.0365, 3.0354, 3.02, 3.0147, 3.0145, 2.7578, 2.7823, 2.5742, 2.5386, 2.3005, 1.6808, 1.6846, 1.9924, 1.7454, 1.314, 1.6872, 1.1349, 1.5496, 1.9594, 1.2971, 1.5578, 1.4782, 1.628, 3.0918, 3.0888, 3.0866, 3.0858, 3.0836, 3.0831, 3.0802, 3.0732, 2.9281, 2.8713, 2.8411, 2.6884, 2.5144, 2.4442, 2.3931, 2.332, 2.2363, 2.1719, 1.9242, 1.8366, 1.8234, 1.6818, 1.5343, 1.5276, 1.2038, 1.1434, 1.0881, 0.9476, 0.9197, 0.8302, 0.7331, 0.6419, 0.5266, 3.1295, 3.128, 3.127, 3.1246, 3.1245, 3.1223, 3.1221, 3.1219, 3.1216, 3.1214, 3.1212, 3.1204, 3.1203, 3.1195, 3.1144, 3.1142, 3.1117, 3.1087, 3.1007, 3.089, 3.0842, 3.081, 3.0717, 3.0547, 2.9742, 2.9492, 2.9177, 2.8994, 2.8626, 2.8295, 2.8091, 2.5657, 2.7495, 2.3604, 2.7207, 2.3951, 2.125, 1.5458, 0.7163, 1.9704, 1.7727, 1.5872, 1.7953, 3.3275, 3.3275, 3.3248, 3.3235, 3.322, 3.3216, 3.3205, 3.3205, 3.3204, 3.3185, 3.3185, 3.3131, 3.3123, 3.3119, 3.3118, 3.3098, 3.3095, 3.3094, 3.3079, 3.3058, 3.3011, 3.3003, 3.2915, 3.2892, 3.2785, 3.2769, 3.1913, 3.1847, 2.9806, 2.8773, 2.8527, 2.5735, 2.3511, 2.3939, 2.2235, 1.4657, 1.9627, 1.2257, 1.1313, 1.6605, 2.0411, 0.7653, -0.7167, 3.4182, 3.4169, 3.4151, 3.4151, 3.4141, 3.4134, 3.412, 3.4106, 3.4101, 3.4094, 3.4092, 3.4076, 3.4057, 3.4035, 3.4006, 3.3972, 3.3941, 3.3922, 3.389, 3.3828, 3.3826, 3.3811, 3.3805, 3.3804, 3.3727, 3.3725, 3.371, 3.3615, 3.3614, 3.3582, 3.2545, 3.2054, 3.1367, 3.0936, 2.8134, 1.9943, 2.1211, 1.7437, 2.0511, 1.4364, 1.0654, 0.7198, 0.9806, 1.2003, 3.539, 3.539, 3.5382, 3.5279, 3.5268, 3.5263, 3.5232, 3.5215, 3.5212, 3.5191, 3.5176, 3.5032, 3.5006, 3.4269, 3.3407, 3.2091, 2.6764, 2.3819, 2.2833, 1.9375, 1.2535, 1.2164, 1.1975, 0.8075, 0.7299, 0.5192, 0.5188, 0.5183, 0.518, 0.518, 0.3725, -0.3847, -0.9008, -1.0097, -1.3985, -1.6088, 3.5693, 3.5692, 3.5684, 3.5679, 3.5652, 3.5652, 3.5647, 3.5645, 3.5635, 3.5633, 3.5632, 3.56, 3.5591, 3.5587, 3.5581, 3.5562, 3.5551, 3.5551, 3.5518, 3.5502, 3.5445, 3.5438, 3.5419, 3.5289, 3.5234, 3.5218, 3.4958, 3.4841, 3.4424, 3.2079, 2.3018, 1.8159, 2.3681, 2.137, 1.4029, 1.3904, 0.7413, 1.7135, 1.2821, 3.71, 3.7078, 3.7066, 3.7065, 3.7039, 3.7016, 3.6968, 3.6958, 3.6938, 3.693, 3.6911, 3.6871, 3.6826, 3.678, 3.6756, 3.6462, 3.6288, 3.5292, 3.444, 3.4103, 2.3218, 2.1552, 2.0287, 1.6253, 1.5048, 1.4437, 1.4265, 1.2961, 1.2845, 0.8484, 0.1128, -1.1939, 3.7288, 3.7276, 3.7271, 3.727, 3.7263, 3.7242, 3.7207, 3.7207, 3.718, 3.7157, 3.7154, 3.7134, 3.713, 3.7109, 3.7088, 3.7059, 3.7058, 3.7022, 3.7014, 3.6856, 3.6854, 3.6815, 3.677, 3.666, 3.6308, 3.6244, 3.614, 3.6107, 3.2772, 3.244, 3.2336, 3.0044, 2.9776, 2.7634, 2.3743, 2.2123, 1.1512, 1.9644, 2.5162, 1.2069, 0.6538, 3.9227, 3.9205, 3.9201, 3.9196, 3.9191, 3.9159, 3.9152, 3.915, 3.9102, 3.9099, 3.9088, 3.9032, 3.9027, 3.9024, 3.8989, 3.879, 3.8733, 3.8305, 3.8097, 3.7631, 3.7604, 3.2677, 3.2511, 3.0725, 2.9178, 2.9008, 2.889, 2.6193, 2.5306, 2.4885, 2.3088, 2.0014, 1.8199, 4.1244, 4.1177, 4.1173, 4.1171, 4.117, 4.1166, 4.1141, 4.1129, 4.1118, 4.1107, 4.1062, 4.1052, 4.1047, 4.0976, 4.0888, 4.0868, 4.0861, 4.0846, 4.0589, 4.0324, 4.0179, 3.965, 3.9391, 3.8238, 3.1832, 2.207, 1.703, 1.4162, 1.0705, 1.0701, 0.7517, 0.5448, 0.5594, 4.2267, 4.2255, 4.2253, 4.2233, 4.2228, 4.2218, 4.2208, 4.2205, 4.2172, 4.216, 4.2128, 4.201, 4.196, 4.1958, 4.1951, 4.1944, 4.1191, 4.1158, 4.0939, 4.0804, 1.2461, 1.246, 1.246, 1.246, 1.2459, 1.2459, 1.2459, 1.2459, 1.2459, 1.2459, 1.1685, 0.3308, 1.2456, 1.2456, 1.2458, 1.2456, -4.1892, 4.3931, 4.3898, 4.3887, 4.3887, 4.388, 4.3876, 4.3874, 4.3868, 4.3854, 4.3817, 4.38, 4.3795, 4.3789, 4.3777, 4.3756, 4.3743, 4.374, 4.3739, 4.3508, 4.3227, 1.3444, 1.3443, 1.3443, 1.3442, 1.3442, 1.3442, 1.3442, 1.3442, 1.3442, 1.3442, 1.3441, 1.344, 1.3441, -0.5716, -0.9872, -3.6534, -4.7896, -5.4899, 4.8765, 4.8736, 4.8728, 4.8714, 4.8637, 4.8632, 4.8613, 4.8566, 4.8098, 1.9536, 1.9535, 1.9534, 1.9534, 1.9534, 1.9533, 1.9533, 1.9533, 1.9533, 1.9533, 1.9533, 1.9533, 1.9533, 1.9533, 1.9533, 1.9533, 1.9533, 1.9533, 1.9533, 1.9533, 1.9532, 1.9531, 1.9532, 1.953, 1.9531, 1.9531, 1.953, 1.9527, -5.0361, -4.8855]}, \"token.table\": {\"Topic\": [2, 8, 2, 8, 2, 4, 3, 2, 7, 10, 11, 15, 2, 11, 17, 6, 16, 9, 18, 13, 7, 13, 2, 5, 15, 1, 5, 6, 17, 2, 5, 8, 1, 2, 4, 5, 6, 7, 11, 1, 2, 4, 17, 2, 8, 8, 10, 7, 17, 15, 1, 6, 17, 2, 16, 1, 2, 8, 12, 12, 9, 13, 16, 18, 1, 2, 16, 1, 2, 3, 4, 12, 15, 3, 1, 4, 12, 14, 9, 1, 2, 4, 5, 7, 9, 10, 12, 13, 14, 15, 16, 18, 1, 16, 5, 10, 1, 6, 11, 16, 15, 1, 1, 10, 1, 15, 6, 7, 12, 13, 12, 19, 1, 5, 15, 18, 7, 1, 7, 4, 10, 12, 8, 1, 2, 3, 4, 5, 8, 17, 1, 5, 9, 13, 16, 1, 3, 4, 5, 7, 9, 12, 14, 17, 9, 11, 5, 1, 3, 9, 11, 12, 1, 2, 10, 12, 12, 1, 2, 3, 5, 8, 9, 10, 1, 5, 8, 9, 18, 13, 19, 1, 16, 1, 2, 3, 5, 8, 3, 6, 9, 3, 14, 4, 10, 5, 11, 1, 2, 3, 5, 9, 11, 13, 18, 7, 10, 11, 2, 10, 9, 5, 5, 5, 19, 19, 9, 16, 17, 11, 1, 8, 9, 13, 14, 15, 19, 18, 18, 7, 11, 5, 16, 15, 19, 5, 2, 14, 16, 6, 3, 6, 3, 3, 1, 14, 3, 8, 2, 3, 1, 4, 9, 14, 1, 1, 4, 5, 6, 10, 11, 7, 1, 7, 10, 12, 13, 14, 16, 1, 13, 13, 10, 9, 17, 7, 19, 4, 1, 3, 4, 17, 1, 3, 7, 11, 4, 2, 3, 13, 2, 5, 6, 8, 9, 1, 10, 12, 3, 6, 6, 1, 3, 8, 12, 4, 13, 1, 5, 9, 20, 2, 15, 2, 3, 16, 10, 11, 10, 14, 2, 15, 17, 5, 17, 7, 18, 6, 11, 16, 16, 11, 7, 13, 15, 15, 1, 3, 9, 19, 5, 4, 18, 12, 11, 9, 17, 11, 1, 12, 14, 16, 3, 19, 5, 10, 7, 1, 3, 14, 1, 9, 5, 2, 5, 15, 1, 13, 4, 9, 14, 16, 2, 14, 1, 7, 14, 15, 13, 7, 13, 4, 9, 11, 7, 4, 15, 1, 5, 6, 1, 20, 16, 1, 2, 5, 6, 12, 13, 15, 16, 18, 11, 11, 12, 9, 13, 15, 14, 1, 2, 8, 9, 14, 1, 4, 6, 7, 4, 2, 3, 7, 11, 3, 1, 2, 3, 7, 1, 6, 7, 10, 11, 13, 13, 1, 4, 9, 10, 12, 1, 10, 2, 16, 1, 6, 12, 17, 4, 7, 16, 12, 10, 8, 15, 1, 13, 14, 7, 18, 12, 4, 19, 19, 9, 16, 7, 1, 1, 2, 2, 6, 17, 1, 2, 4, 6, 8, 10, 8, 17, 1, 10, 11, 1, 2, 4, 5, 7, 8, 10, 10, 4, 14, 4, 11, 6, 13, 2, 2, 17, 19, 9, 9, 6, 4, 1, 2, 16, 18, 7, 11, 7, 2, 8, 5, 9, 11, 2, 2, 5, 6, 9, 5, 6, 9, 16, 18, 4, 13, 1, 6, 7, 13, 10, 1, 3, 15, 13, 4, 12, 13, 1, 2, 3, 4, 8, 9, 10, 14, 1, 2, 4, 8, 15, 1, 8, 10, 15, 1, 4, 1, 2, 3, 4, 6, 1, 2, 1, 2, 3, 4, 5, 6, 16, 3, 16, 18, 10, 9, 18, 2, 4, 15, 13, 13, 1, 2, 17, 18, 1, 2, 4, 5, 10, 16, 10, 5, 5, 7, 17, 1, 10, 14, 9, 5, 9, 2, 10, 15, 16, 6, 17, 20, 9, 13, 13, 1, 14, 9, 3, 17, 1, 8, 14, 8, 13, 19, 1, 1, 4, 9, 6, 16, 11, 11, 8, 15, 5, 4, 5, 6, 15, 16, 4, 14, 3, 1, 8, 1, 1, 2, 5, 2, 7, 4, 10, 1, 13, 1, 5, 8, 9, 14, 5, 10, 3, 5, 15, 13, 15, 2, 7, 3, 5, 1, 16, 1, 4, 9, 6, 9, 6, 1, 2, 5, 8, 9, 9, 18, 15, 1, 2, 5, 9, 12, 6, 4, 12, 4, 2, 15, 2, 16, 5, 6, 3, 13, 4, 12, 5, 3, 1, 3, 8, 18, 1, 2, 3, 5, 6, 8, 3, 3, 13, 1, 3, 3, 11, 9, 11, 6, 13, 6, 6, 4, 3, 4, 4, 6, 17, 15, 15, 1, 1, 6, 10, 3, 6, 15, 1, 2, 4, 6, 16, 19, 2, 1, 2, 4, 10, 20, 2, 17, 1, 5, 9, 11, 15, 1, 2, 4, 7, 14, 15, 1, 2, 8, 13, 5, 1, 13, 1, 3, 4, 5, 10, 15, 20, 1, 10, 13, 7, 14, 2, 10, 17, 2, 10, 11, 20, 2, 5, 2, 3, 17, 15, 17, 18, 7, 16, 8, 3, 1, 2, 4, 6, 7, 9, 10, 11, 12, 14, 15, 19, 2, 12, 15, 1, 4, 15, 1, 2, 5, 7, 8, 9, 11, 5, 1, 3, 5, 9, 15, 1, 3, 6, 11, 19, 1, 17, 2, 9, 9, 1, 2, 4, 10, 15, 4, 19, 7, 11, 11, 2, 7, 11, 7, 6, 17, 1, 7, 10, 4, 1, 17, 1, 2, 13, 5, 1, 3, 4, 7, 3, 7, 1, 6, 9, 2, 5, 9, 10, 11, 13, 2, 5, 8, 13, 5, 7, 19, 5, 10, 1, 3, 6, 7, 8, 9, 11, 13, 1, 2, 3, 4, 6, 10, 12, 1, 1, 5, 15, 16, 10, 3, 15, 20, 1, 16, 3, 2, 1, 4, 5, 9, 10, 12, 15, 1, 2, 5, 9, 12, 19, 10, 17, 5, 1, 3, 5, 6, 10, 12, 9, 9, 1, 10, 11, 13, 13, 4, 19, 11, 11, 11, 14, 20, 3, 4, 3, 3, 17, 1, 2, 4, 6, 14, 3, 7, 1, 2, 3, 7, 3, 1, 1, 9, 5, 1, 2, 20, 1, 1, 7, 12, 1, 2, 6, 9, 12, 2, 19, 14, 3, 7, 1, 2, 5, 9, 1, 15, 17, 5, 6, 9, 5, 3, 1, 6, 10, 1, 2, 3, 4, 10, 4, 7, 17, 5, 1, 2, 14, 4, 18, 7, 11, 10, 14, 2, 5, 2, 10, 16, 12, 1, 2, 3, 13, 1, 14, 19, 2, 13, 11, 13, 9, 15, 4, 2, 13, 18, 14, 7, 11, 1, 2, 3, 4, 5, 6, 6, 1, 11, 11, 3, 11, 8, 3, 5, 11, 19, 15, 9, 3, 3, 7, 2, 7, 17, 1, 16, 16, 4, 17, 5, 15, 5, 2, 14, 1, 3, 6, 9, 2, 5, 8, 1, 7, 13, 1, 14, 13, 14, 7, 10, 10, 7, 7, 7, 1, 3, 4, 7, 4, 13, 6], \"Freq\": [0.4993295223359733, 0.4961490795185467, 0.3127098051825434, 0.6700924396768787, 0.9865745081400835, 0.9857344371233235, 0.9897534181901113, 0.45400123664779124, 0.1695096001060944, 0.12209432734914491, 0.24003981833205673, 0.013631890917622975, 0.9685871457552148, 0.9691925676809005, 0.9581603839689968, 0.9980610747670936, 0.9526390682103982, 0.9990434306631718, 0.886946251014081, 0.9952047543849283, 0.9562315448404001, 0.8835061626938197, 0.9955117415933414, 0.9609789183784402, 0.9817863615728519, 0.757377205851181, 0.04223292969430377, 0.1098056172051898, 0.09009691668118139, 0.19426975482116962, 0.004517901274910922, 0.7996685256592331, 0.6327212116499553, 0.021352936094758707, 0.022476774836588113, 0.06518264702610553, 0.003371516225488217, 0.16632813379075204, 0.08653558312086423, 0.657137833196246, 0.1995602622283078, 0.1108668123490599, 0.028220643143397065, 0.9852762508362823, 0.0052688569563437565, 0.9918539806032236, 0.9033467881320251, 0.9719495074685928, 0.914694793246756, 0.9919642811709979, 0.01607747000301429, 0.9646482001808574, 0.9911953486120811, 0.9841127630808989, 0.9733185740074369, 0.9974305000995959, 0.18023466793292534, 0.39747752101474465, 0.42150881007246804, 0.9887186282985095, 0.03240624955609552, 0.05833124920097194, 0.9041343626150651, 0.972436699894108, 0.9511647764815886, 0.04360640809084647, 0.8600297172644418, 0.8690846837438165, 0.022142284936148192, 0.002767785617018524, 0.09756444299990297, 0.0020758392127638928, 0.005535571234037048, 0.9729111273933764, 0.9839947549320994, 0.002596292229372294, 0.012116030403737372, 0.9652791980262893, 0.941697749261751, 0.7446292159458349, 0.0032119161004133786, 0.014453622451860203, 0.022483412702893647, 0.03693703515475385, 0.018200857902342476, 0.11081110546426155, 0.0005353193500688964, 0.00588851285075786, 0.008565109601102343, 0.008029790251033446, 0.005353193500688964, 0.020342135302618063, 0.9957608952551678, 0.9914180730573448, 0.9945478041083403, 0.9894541757231451, 0.20020777773330609, 0.7919329874784108, 0.965865903494811, 0.9865064200707774, 0.8514757748676262, 0.9923317371422652, 0.993326759919884, 0.9656215258817873, 0.9530858168991595, 0.04538503889995998, 0.29689134307930287, 0.24544276375395468, 0.28461920489160514, 0.1727539452575912, 0.9840222930021179, 0.9962607327984758, 0.9780873493344813, 0.01841587059416387, 0.9483841817870703, 0.958216781688838, 0.9989361443079975, 0.26186696843625223, 0.735809298634258, 0.9974857162382692, 0.9957557317309087, 0.9789226552778361, 0.986267106711479, 0.4784725586646846, 0.40212055462244767, 0.0770791659854963, 0.01599756275170678, 0.001454323886518798, 0.02254202024104137, 0.002908647773037596, 0.36477531668839996, 0.13566024174361982, 0.13566024174361982, 0.11455753747239006, 0.24720310717726277, 0.5892945932375916, 0.003088546086150899, 0.3304744312181462, 0.011736475127373417, 0.019766694951365755, 0.014825021213524315, 0.0012354184344603597, 0.027179205558127913, 0.0012354184344603597, 0.987494302228468, 0.9838682704672307, 0.9622335911109995, 0.3664727398608891, 0.12806110612239247, 0.46319974554907917, 0.031334100434202414, 0.010898817542331274, 0.9087734147106074, 0.0031016157498655545, 0.025846797915546286, 0.059964571164067386, 0.9977430378411329, 0.672044495758222, 0.0024546368224928534, 0.003506624032132648, 0.019637094579942827, 0.2842118778043511, 0.0005259936048198972, 0.01753312016066324, 0.0005297424378504306, 0.06250960766635082, 0.846528415684988, 0.08952647199672277, 0.8401526357834034, 0.992170916896722, 0.0050620965147791935, 0.9948409935272623, 0.9038093797339706, 0.710750874001392, 0.004103642459592333, 0.0036932782136331, 0.0004103642459592333, 0.2806891442361156, 0.027843555417518772, 0.9688291669141191, 0.002531232310683525, 0.9869518799526068, 0.9750662967591738, 0.9980894219571504, 0.9939553196354552, 0.983573545834268, 0.9517725500806807, 0.5697537391026692, 0.011793091624376077, 0.15478432756993601, 0.011793091624376077, 0.02284911502222865, 0.06707320861363894, 0.11424557511114325, 0.04717236649750431, 0.03611356254176309, 0.012432537924213524, 0.9507931383946151, 0.35433540613032866, 0.6378037310345915, 0.9808522543394541, 0.9484571796380957, 0.9917206969609959, 0.9983141445236381, 0.9873971094495677, 0.9730685860770478, 0.9935131511476182, 0.9727525362124584, 0.9611661356722836, 0.9788365900746093, 0.8784522685970069, 0.09489453518794827, 0.02440145190547241, 0.0013556362169706896, 0.7398977865757819, 0.2575334837252721, 0.9815390452816906, 0.9584282475075513, 0.9941893329472168, 0.1836252966714174, 0.8079513053542365, 0.996940291409785, 0.984344199762343, 0.9798483519138663, 0.9481230385578908, 0.9991538335843116, 0.4315337434409662, 0.21174637100519458, 0.3538040629453884, 0.9654717317328818, 0.9869674554307901, 0.9926790874453576, 0.998025194690469, 0.9916572117435932, 0.996703781242254, 0.990423387350721, 0.991823142624333, 0.9903630806045219, 0.9881843488403911, 0.9953613500538745, 0.14848453207695242, 0.5202713837114923, 0.204885633408508, 0.12431263150628576, 0.9961220888896052, 0.4164186793863021, 0.012492560381589064, 0.03539558774783568, 0.3893514652261925, 0.14366444438827425, 0.9815670485917023, 0.9905513580836987, 0.5253165279657358, 0.1415025154555591, 0.0295952973501823, 0.09803442247247886, 0.058728168179268, 0.0009248530421931969, 0.1452019276243319, 0.9887905470180816, 0.0059926699819277665, 0.9777299382945155, 0.9674600287499452, 0.9905119206662188, 0.9900213742584808, 0.9782270218976852, 0.984536988478108, 0.9821684902320604, 0.4420968625250026, 0.25985846117881833, 0.22611060907767308, 0.06749570420229047, 0.5064630907507433, 0.4051704726005946, 0.08587852408382168, 0.9875275295878764, 0.9819951413139885, 0.99308130885786, 0.988498276698465, 0.951574095096814, 0.3189576550340865, 0.4197394140899958, 0.17498371352564468, 0.0863843649050651, 0.9926887050328205, 0.8947463590449372, 0.0015400109449998918, 0.10164072236999286, 0.053744360497364134, 0.9136541284551903, 0.9875841302065923, 0.34624257370032774, 0.6470762852760223, 0.9854706919001238, 0.9716659543448053, 0.9855709202139233, 0.9955002958404562, 0.6474295609178088, 0.03627838056867032, 0.3125522018223904, 0.9799151058519543, 0.998528266350269, 0.9647309909773762, 0.725764695907948, 0.0017488305925492723, 0.269319911252588, 0.27517336550326094, 0.7204539024085377, 0.9906731553678403, 0.9849860837073946, 0.9782953796405189, 0.9851866080898499, 0.9363148518564732, 0.25102211305385014, 0.7385842941776745, 0.9713600099424291, 0.9869988211524503, 0.4804109437739043, 0.09473838191904965, 0.42397105667319385, 0.9669095450447375, 0.9924104866040785, 0.980156542643147, 0.9619841839190633, 0.8882847552691553, 0.9617119621743665, 0.1551157174757959, 0.1698886429496812, 0.6647816463248395, 0.9786507163925128, 0.9914298510441224, 0.9901374332215639, 0.957501397962359, 0.9660035208408554, 0.9255509541188983, 0.9962217910489378, 0.9907584681824115, 0.9483290940081973, 0.39090595372294495, 0.06456404641069662, 0.18547489696163755, 0.356863092888214, 0.9662529705773727, 0.9941986749787881, 0.9929988584899859, 0.9876187105770053, 0.9527841928139258, 0.0749921676886032, 0.8652942425608062, 0.05768628283738708, 0.7337869006811981, 0.2620667502432851, 0.96240226426853, 0.9701880631096389, 0.029505304656361704, 0.9783414459887362, 0.9948675694203244, 0.9933186582365567, 0.9752898900957431, 0.9938738736179898, 0.9872036889204272, 0.9864664941738382, 0.9894869874092117, 0.9757073439770417, 0.9969740539891677, 0.5965723975812591, 0.02111760699402687, 0.3783571253096481, 0.9920449476241506, 0.7178413824549698, 0.2803115754917539, 0.14327057300943036, 0.8545786995703345, 0.9952251326237023, 0.9168422836446916, 0.9909860145391115, 0.9871105089961235, 0.6592553973306937, 0.1427880353665558, 0.19595379321580528, 0.9972043129140523, 0.9943298658414853, 0.981517746636717, 0.8796752140775168, 0.019536604394278585, 0.05755378051287475, 0.00950429402964904, 0.007392228689727031, 0.02164866973420059, 0.0026400816749025113, 0.0010560326699610046, 0.9884868536445386, 0.9959176900800675, 0.9892586226060728, 0.9093217802889111, 0.9931381904304696, 0.919255802294385, 0.9831030764247531, 0.9962401116395042, 0.0817007220066919, 0.2953795334088092, 0.42358682025007954, 0.10809633988577698, 0.08924232711500192, 0.101664930037693, 0.7825118857446673, 0.04004982092393967, 0.07085737548081635, 0.9751449854572735, 0.06772601008189529, 0.6727450334801598, 0.23252596794784047, 0.0248328703633616, 0.9848902960880598, 0.9855021683514756, 0.2816314930207487, 0.7173262069622554, 0.9588800459274763, 0.48713324609382713, 0.0036173260848551517, 0.21462801436807233, 0.05667144199606405, 0.1868951810508495, 0.049436789826353744, 0.9538906847201506, 0.7195492095491585, 0.006256949648253552, 0.011262509366856393, 0.25528354564874495, 0.006256949648253552, 0.9865294673719258, 0.9402633707411363, 0.9751602959224597, 0.011472474069675997, 0.996403196894582, 0.5021001805611867, 0.09797076693876813, 0.39188306775507253, 0.9861101736537176, 0.9653956860591169, 0.9515033855453532, 0.9834821645667031, 0.9984032260012837, 0.0019502827496040269, 0.9946442022980537, 0.842208114170629, 0.15656432891633487, 0.9980923708483151, 0.9945477206155076, 0.9787488404888619, 0.9989678163222503, 0.9954286561571585, 0.9861366865677298, 0.9860902408918615, 0.47769672215122533, 0.5141874439822217, 0.9966431963915519, 0.9917391765113494, 0.1330128306676205, 0.8634166201231507, 0.9725711710633348, 0.9779165456492255, 0.9886221532545201, 0.5160776335840352, 0.19773921960483035, 0.19773921960483035, 0.001086479228597969, 0.0771400252304558, 0.01086479228597969, 0.9929257297276224, 0.8078550653964167, 0.5609631254126696, 0.18095584690731276, 0.25333818567023786, 0.2971915959543818, 0.16524345999123305, 0.2306009478982133, 0.027129523282142742, 0.07398960895129839, 0.1504455382009734, 0.05302588641509717, 0.9741437831013576, 0.984188793301071, 0.9806774006902804, 0.9919142328248095, 0.9859379623207334, 0.9850873293546377, 0.9851832326252626, 0.9781777162278246, 0.979564291577411, 0.9763621053643836, 0.9485155504609434, 0.9659788918756055, 0.9719203578156209, 0.9822521308615821, 0.9909599016064483, 0.3658438435202448, 0.3937902482335968, 0.2362741489401581, 0.9921045287069161, 0.9516260968211817, 0.950463212069829, 0.9737885375668085, 0.43051766799043084, 0.5586479263209162, 0.9868921607121247, 0.7247486193585393, 0.2730687926019141, 0.968814942199929, 0.18135969670813415, 0.1450877573665073, 0.5845362532362169, 0.08509954999381679, 0.6032221360865744, 0.27950718362403915, 0.11123245062589314, 0.004278171177918967, 0.994558251913661, 0.9890430884529081, 0.9734132777744202, 0.3435960382552624, 0.43350902022860216, 0.21675451011430108, 0.0048167668914289126, 0.9885992188997249, 0.29772857005777364, 0.6991107904319575, 0.9966120876806355, 0.9784865888574268, 0.9844130236518388, 0.9762009223588364, 0.9896354216299686, 0.5321480112778287, 0.08422486509433261, 0.010719528284733241, 0.24731483114063119, 0.10413256048026577, 0.00076568059176666, 0.01378225065179988, 0.00689112532589994, 0.7909377185842983, 0.06216041690770908, 0.01071731325994984, 0.11789044585944826, 0.017147701215919745, 0.39993856758970736, 0.4654255845049811, 0.12863521179785908, 0.002338822032688347, 0.9942381974594136, 0.99080919208398, 0.025015211934040712, 0.47862438833797893, 0.151758952399847, 0.2751673312744478, 0.06670723182410856, 0.3626236952206549, 0.6345914666361461, 0.1552548776556456, 0.33931993879378214, 0.0496175382198455, 0.07682715595330916, 0.2672944800875548, 0.06882432720817279, 0.041614709474709126, 0.016506101216549426, 0.9793620055152659, 0.9118900777673112, 0.9778878518927366, 0.9380744641272216, 0.9894588566834036, 0.9884956881432053, 0.38694344024312244, 0.6059680290599841, 0.9714981095334678, 0.9664039689862728, 0.8779115998193454, 0.08946869807076131, 0.02795896814711291, 0.8456849807447492, 0.5168715227879561, 0.13417313865882047, 0.10825332778154832, 0.2332782978954492, 0.004574084272459788, 0.001524694757486596, 0.9859950450655013, 0.9633553267933618, 0.41174593741177146, 0.5772932730721745, 0.008489606956943741, 0.7302612866451603, 0.013277477939002915, 0.24895271135630465, 0.8009917120572341, 0.629730871899708, 0.36659332899875857, 0.9937806619152347, 0.7044059928087641, 0.17101185952582715, 0.12215132823273367, 0.9914132807783225, 0.9675860617308707, 0.9960274848885606, 0.9896136783739564, 0.9866505848407977, 0.9358340304694701, 0.882582527361817, 0.0989101108250312, 0.9312175902138166, 0.983781668555227, 0.9867111728729137, 0.7284568733430296, 0.24281895778100987, 0.023125615026762844, 0.7776949608853301, 0.2178886743859761, 0.990858564149175, 0.992843302044488, 0.012583298856558556, 0.9752056613832881, 0.9902747119270255, 0.9955403996596587, 0.9813718197804642, 0.9964872476928364, 0.9622491864351281, 0.9903913391145748, 0.9671957012046892, 0.9261443050530055, 0.991938902700071, 0.9967696973214404, 0.9812456775559811, 0.8984942996754467, 0.8474806068833736, 0.9910063465023542, 0.9806999349584551, 0.9641535111896207, 0.7898339127371848, 0.2091698086145372, 0.9911201858038714, 0.4299843789675224, 0.05431381629063441, 0.5069289520459211, 0.9812092774837283, 0.9802885238859309, 0.9956302705951507, 0.9872016500387223, 0.8857291189178351, 0.1126465751239093, 0.6667861752043883, 0.2782793251530509, 0.009035043024449706, 0.023491111863569236, 0.021684103258679293, 0.9906115942227838, 0.9881935303787738, 0.9771029090994255, 0.5150469350224629, 0.482856501583559, 0.695225851277293, 0.296226667065977, 0.996067169442496, 0.9828747126011658, 0.9762645756326811, 0.9760617518350971, 0.4812755226673538, 0.5066058133340566, 0.1862747967176712, 0.5517506636953805, 0.25701206129400206, 0.25157024714168974, 0.7421322290679848, 0.99148439359093, 0.4838719618813692, 0.15276529082254658, 0.09884812935576542, 0.21013868058848037, 0.05391716146678115, 0.9890827268773041, 0.9957706374768708, 0.9203922479264215, 0.6340666440833697, 0.1049915547021164, 0.024703895224027387, 0.18939653005087664, 0.041173158706712315, 0.9960637753486508, 0.788660303262385, 0.20010783814120217, 0.9859323726297394, 0.9804148254553382, 0.9936005426244914, 0.9738481304167496, 0.9894257521107032, 0.44368256989393773, 0.5504950404239598, 0.7593262667655651, 0.23728945836423912, 0.1785583244530019, 0.8200456382286013, 0.959289200061458, 0.9973406116180844, 0.5619705174997413, 0.29253259815055027, 0.13086984654103564, 0.9969839455020071, 0.15602185967814025, 0.15787926276954667, 0.009287015457032158, 0.2117439524203332, 0.1541644565867338, 0.3101863162648741, 0.9964400906110262, 0.9310423339693733, 0.0539734686359057, 0.23909231169475262, 0.7596691889308452, 0.988688090927469, 0.9551466583829582, 0.9927046142659464, 0.9487215495232029, 0.927238169295675, 0.055083455601723265, 0.9535850067047651, 0.9879886320264977, 0.9977078765134184, 0.8757105899645719, 0.11616569050550443, 0.5453977421399627, 0.44439816026219187, 0.9714937398771554, 0.990677972097493, 0.8983087111167973, 0.986152885667592, 0.503493929349452, 0.48484600604021305, 0.9857071970364355, 0.9823488730464838, 0.9712451296043669, 0.7139961085091172, 0.21695006094394417, 0.6141086402526161, 0.14171737851983449, 0.01574637539109272, 0.006998389062707876, 0.9897695249370297, 0.9857593391185604, 0.9896518346346551, 0.4913086378468826, 0.037382178966610634, 0.4699473927231051, 0.9811196590286365, 0.9888109462817647, 0.9851630464384359, 0.280005299833492, 0.3635889714255791, 0.21313836255982224, 0.08776285517169151, 0.05432938653485665, 0.23732451868554222, 0.325005991106309, 0.0011690862989435576, 0.2455081227781471, 0.10989411210069443, 0.07949786832816193, 0.004238034070301569, 0.8094645074275998, 0.08193532535916367, 0.10171281768723767, 0.9850326375462731, 0.994735527784923, 0.989199520235953, 0.29760674292630135, 0.05635157262509848, 0.3750901552858118, 0.2482991168793402, 0.02113183973441193, 0.9752129923645924, 0.9936323786613183, 0.6056658786819823, 0.39270106847210823, 0.9910658938862532, 0.05971486332708619, 0.9372637243947007, 0.6218516487900826, 0.37565387705720604, 0.0011558580832529417, 0.5577562956751734, 0.33151148841538475, 0.10840897014531539, 0.9899612772812224, 0.933588133686801, 0.06543539313141353, 0.39122724226542693, 0.5706192460359154, 0.03435166029647651, 0.9932232090318959, 0.9892942086905945, 0.9920774702968671, 0.9974102697020532, 0.9876094577965199, 0.9977400097329182, 0.9880134854313559, 0.04175556300494995, 0.1730410719124052, 0.2023828188888565, 0.06394996135893236, 0.2445145581370943, 0.012413816028498633, 0.154984612234589, 0.02144204586740673, 0.0022570574597270245, 0.007523524865756748, 0.07561142490085532, 0.0003761762432878374, 0.9889851722835115, 0.9855908580875716, 0.9772343349986533, 0.9487914524795862, 0.004134167548930658, 0.04340875926377191, 0.32011226499053214, 0.4687358165932792, 0.00762172059501267, 0.06097376476010136, 0.11432580892519005, 0.009527150743765837, 0.01714887133877851, 0.9651077342329639, 0.012785204622587568, 0.5455020638970696, 0.4346969571679773, 0.004261734874195856, 0.9793728280765511, 0.7577083239946519, 0.0032426889757260426, 0.09295708397081323, 0.1372738333057358, 0.006485377951452085, 0.9979133171958651, 0.9841799769373276, 0.2039523285715161, 0.7942374333794617, 0.9755863201478677, 0.9889807581270246, 0.1337968589512108, 0.025185291096698502, 0.6201877932562007, 0.21879721640256825, 0.9835749759162121, 0.9898289874343339, 0.15110182588501891, 0.8466499132922488, 0.9495730699664631, 0.43263037240293967, 0.01758660050418454, 0.5451846156297208, 0.9808455860451075, 0.9872101634921092, 0.9990201152898934, 0.5490715471478611, 0.26112956807032034, 0.1888526340508567, 0.991646382899952, 0.9973523356223205, 0.9922567583811536, 0.9784861178875754, 0.016906887566092016, 0.9975665821963834, 0.9810519294594114, 0.7208920259975242, 0.0018627700930168585, 0.0763735738136912, 0.19931639995280387, 0.5429539143732742, 0.4536681595652247, 0.9985061644937403, 0.9859643942688462, 0.9969910159230685, 0.1422877635144969, 0.09101289377954305, 0.765277430794186, 0.9920353800060724, 0.9828365320926465, 0.9975431376905827, 0.06251592914056499, 0.3923413483994078, 0.5216846500695423, 0.022275790843189824, 0.9857888190971054, 0.9957115193390952, 0.9917955426031259, 0.9460147047550697, 0.9773284575824999, 0.7629115971115741, 0.01737651143095776, 0.07033349864911474, 0.031443211160780714, 0.027305946534362194, 0.000827452925283703, 0.04468245796531996, 0.04468245796531996, 0.2786119428359351, 0.07835960892260675, 0.02067823013235456, 0.30364348457510115, 0.2829652544427466, 0.015236590623840201, 0.019589902230651688, 0.9969678913616884, 0.7291643714132007, 0.269352521899084, 0.6342115847119557, 0.363826708471122, 0.9562219182195764, 0.995271761044038, 0.9924247670850347, 0.9829073930325685, 0.013318603352759379, 0.9722580447514347, 0.9702289252586427, 0.9895601052791904, 0.7068110857186127, 0.14705465541796642, 0.014231095685609653, 0.0015812328539566282, 0.07668979341689647, 0.005534314988848199, 0.045855752764742214, 0.9307478025280117, 0.0027471894997875197, 0.06098760689528294, 0.004944941099617536, 0.9831162025589487, 0.9750585530901696, 0.9901053205873254, 0.9652297548582648, 0.9920449854633747, 0.17771585262356399, 0.047528658259790364, 0.750126215143648, 0.012398780415597487, 0.010332317012997905, 0.9785704567139, 0.9848588621618841, 0.9664417947835563, 0.04466037422609635, 0.9467999335932427, 0.9698101725366962, 0.9762355483080224, 0.9544060591275756, 0.9885417397138936, 0.988403610818173, 0.9948592551401102, 0.9663825095465128, 0.975661248680774, 0.9812870988677703, 0.9438609184461287, 0.8452213517334037, 0.15210848073866448, 0.9787176445922474, 0.9938160405617286, 0.8233620902263642, 0.6272327514230769, 0.12438792960710808, 0.06351724065043816, 0.09262930928188899, 0.08733620589435248, 0.9939416262711894, 0.00236652768159807, 0.0636582089986469, 0.66522828403586, 0.15596261204668488, 0.10821895529769972, 0.9588361079655069, 0.9932241457440021, 0.3056783552062931, 0.685912406804365, 0.9292070102809052, 0.8359036947579231, 0.16258088939788828, 0.9791798103134169, 0.9971284598294098, 0.9944705581471643, 0.9360423602743606, 0.9983901875310274, 0.5570568297191284, 0.03924019104375076, 0.07078622698088372, 0.01769655674522093, 0.3139215283500061, 0.9880666446208287, 0.9780001454772452, 0.9971679622862278, 0.9954341481603789, 0.9849376704698909, 0.07132422648449165, 0.04483237093310903, 0.3117887614893492, 0.5685559768335191, 0.524145641197375, 0.4699236783148879, 0.9922487622856041, 0.18953901007618768, 0.0010245351896010144, 0.8083582645952004, 0.9966427120442996, 0.9753385557294453, 0.3961074477358641, 0.6018053504197515, 0.9914863797110788, 0.38626097751947097, 0.07176433462110389, 0.30394306427761647, 0.23640016110481282, 0.9786921691516968, 0.9877823951835242, 0.940757950212162, 0.9263912136651533, 0.9942439442340235, 0.11605398529391724, 0.04992266406498116, 0.8331249782272829, 0.9928395929343335, 0.9893052976604878, 0.994237318516799, 0.003987582828275932, 0.9979788710436325, 0.9681772913715032, 0.7176734344912065, 0.2820034436706623, 0.9924627771110776, 0.8652671907361094, 0.975789843292945, 0.683556444711125, 0.19889745922127258, 0.10448410832509888, 0.6734819030593723, 0.021400359536466036, 0.8919709800607325, 0.10249355982064318, 0.9937054531907363, 0.9843743094164803, 0.9898724838500756, 0.9795324089936834, 0.9835790762209348, 0.9919777307756371, 0.941575201218292, 0.9724272077987864, 0.6967278155053307, 0.3005056073265803, 0.9963158590643835, 0.9943365837317661, 0.9801203522853623, 0.9912616295543036, 0.14633252297445554, 0.13919435112204306, 0.2926650459489111, 0.08565806222894957, 0.00892271481551558, 0.32478681928476716, 0.9987358007382885, 0.24197028162458126, 0.752468558710588, 0.9884675832305193, 0.8829558922009915, 0.11247845760522183, 0.9738374722589154, 0.9855102464349315, 0.9766239691979768, 0.9904972364113401, 0.9904077730472742, 0.9875306274795093, 0.9795213293405818, 0.9930319251243982, 0.6720311624250679, 0.32328771828781677, 0.9923604757617498, 0.991295070052736, 0.9870798739268841, 0.8001105519106627, 0.19703402706915638, 0.9910788347895301, 0.8446521924102599, 0.14755972036082854, 0.044235543448501544, 0.9538289056083145, 0.9835922168915255, 0.9972021953174739, 0.7132661457988083, 0.379196391160576, 0.5811803985124406, 0.011433057019916865, 0.02477162354315321, 0.7995520470149992, 0.05649009027823364, 0.14231157358555013, 0.5810184095392844, 0.3332105577598788, 0.08260261725980188, 0.9952522949991491, 0.9796744548936173, 0.9858812302542356, 0.9179603166717455, 0.9751017161006315, 0.9836075694438171, 0.9793033649388553, 0.9824078473809185, 0.9863838597231366, 0.9194547191667213, 0.2239007210534963, 0.4478014421069926, 0.14378945388756642, 0.18281801994276303, 0.9934571454554165, 0.9851201201492774, 0.9667558572985137], \"Term\": [\"https\", \"https\", \"mail\", \"mail\", \"wildberries\", \"\\u0430\\u0432\\u0438\\u0430\\u043a\\u043e\\u043c\\u043f\\u0430\\u043d\\u0438\\u044f\", \"\\u0430\\u0434\\u043c\\u0438\\u043d\\u0438\\u0441\\u0442\\u0440\\u0430\\u0446\\u0438\\u044f\", \"\\u0430\\u0434\\u0440\\u0435\\u0441\", \"\\u0430\\u0434\\u0440\\u0435\\u0441\", \"\\u0430\\u0434\\u0440\\u0435\\u0441\", \"\\u0430\\u0434\\u0440\\u0435\\u0441\", \"\\u0430\\u0434\\u0440\\u0435\\u0441\", \"\\u0430\\u043a\\u0446\\u0438\\u044f\", \"\\u0430\\u043b\\u0435\\u043a\\u0441\\u0430\\u043d\\u0434\\u0440\\u043e\\u0432\\u0438\\u0447\", \"\\u0430\\u043b\\u043a\\u043e\\u0433\\u043e\\u043b\\u044c\\u043d\\u044b\\u0439\", \"\\u0430\\u043f\\u0440\\u0435\\u043b\\u044c\", \"\\u0430\\u0440\\u0433\\u0443\\u043c\\u0435\\u043d\\u0442\\u0438\\u0440\\u043e\\u0432\\u0430\\u0442\\u044c\", \"\\u0431\\u0430\\u043d\\u043a\", \"\\u0431\\u0430\\u0442\\u0430\\u0440\\u0435\\u044f\", \"\\u0431\\u0438\\u043b\\u0435\\u0442\", \"\\u0431\\u043b\\u0430\\u0433\\u043e\\u043f\\u043e\\u043b\\u0443\\u0447\\u0438\\u0435\", \"\\u0431\\u043e\\u043b\\u044c\\u0448\\u0438\\u043d\\u0441\\u0442\\u0432\\u043e\", \"\\u0431\\u0440\\u0430\\u043a\", \"\\u0431\\u0443\\u043a\\u0435\\u0442\", \"\\u0431\\u0443\\u043b\\u044c\\u0432\\u0430\\u0440\", \"\\u0432\\u0430\\u0448\", \"\\u0432\\u0430\\u0448\", \"\\u0432\\u0430\\u0448\", \"\\u0432\\u0430\\u0448\", \"\\u0432\\u0435\\u0440\\u043d\\u0443\\u0442\\u044c\", \"\\u0432\\u0435\\u0440\\u043d\\u0443\\u0442\\u044c\", \"\\u0432\\u0435\\u0440\\u043d\\u0443\\u0442\\u044c\", \"\\u0432\\u0435\\u0441\\u044c\", \"\\u0432\\u0435\\u0441\\u044c\", \"\\u0432\\u0435\\u0441\\u044c\", \"\\u0432\\u0435\\u0441\\u044c\", \"\\u0432\\u0435\\u0441\\u044c\", \"\\u0432\\u0435\\u0441\\u044c\", \"\\u0432\\u0435\\u0441\\u044c\", \"\\u0432\\u0438\\u0434\", \"\\u0432\\u0438\\u0434\", \"\\u0432\\u0438\\u0434\", \"\\u0432\\u0438\\u0434\", \"\\u0432\\u0438\\u0434\\u0435\\u043e\", \"\\u0432\\u0438\\u0434\\u0435\\u043e\", \"\\u0432\\u0438\\u0434\\u0435\\u0442\\u044c\", \"\\u0432\\u043a\\u043b\\u044e\\u0447\\u0430\\u044f\", \"\\u0432\\u043b\\u0430\\u0434\\u0438\\u043c\\u0438\\u0440\\u043e\\u0432\\u0438\\u0447\", \"\\u0432\\u043b\\u0435\\u0447\\u044c\", \"\\u0432\\u043c\\u0435\\u0441\\u0442\\u043e\", \"\\u0432\\u043d\\u0435\\u0441\\u0435\\u043d\\u0438\\u0435\", \"\\u0432\\u043d\\u0435\\u0441\\u0435\\u043d\\u0438\\u0435\", \"\\u0432\\u043d\\u0438\\u043c\\u0430\\u043d\\u0438\\u0435\", \"\\u0432\\u043d\\u0443\\u0442\\u0440\\u0435\\u043d\\u043d\\u0438\\u0439\", \"\\u0432\\u043e\\u0432\\u0440\\u0435\\u043c\\u044f\", \"\\u0432\\u043e\\u0434\\u0430\", \"\\u0432\\u043e\\u0437\\u0432\\u0440\\u0430\\u0442\", \"\\u0432\\u043e\\u0437\\u0432\\u0440\\u0430\\u0442\", \"\\u0432\\u043e\\u0437\\u0432\\u0440\\u0430\\u0442\", \"\\u0432\\u043e\\u0437\\u0432\\u0440\\u0430\\u0442\\u0438\\u0442\\u044c\", \"\\u0432\\u043e\\u0437\\u0432\\u0440\\u0430\\u0449\\u0430\\u0442\\u044c\", \"\\u0432\\u043e\\u0437\\u0432\\u0440\\u0430\\u0449\\u0430\\u0442\\u044c\", \"\\u0432\\u043e\\u0437\\u0432\\u0440\\u0430\\u0449\\u0430\\u0442\\u044c\", \"\\u0432\\u043e\\u0437\\u0434\\u0443\\u0445\", \"\\u0432\\u043e\\u0437\\u043c\\u043e\\u0436\\u043d\\u043e\\u0441\\u0442\\u044c\", \"\\u0432\\u043e\\u0437\\u043c\\u043e\\u0436\\u043d\\u043e\\u0441\\u0442\\u044c\", \"\\u0432\\u043e\\u043b\\u0433\\u043e\\u0433\\u0440\\u0430\\u0434\\u0441\\u043a\\u0438\\u0439\", \"\\u0432\\u043e\\u043f\\u0440\\u043e\\u0441\", \"\\u0432\\u043e\\u043f\\u0440\\u043e\\u0441\", \"\\u0432\\u043e\\u043f\\u0440\\u043e\\u0441\", \"\\u0432\\u043e\\u043f\\u0440\\u043e\\u0441\", \"\\u0432\\u043e\\u043f\\u0440\\u043e\\u0441\", \"\\u0432\\u043e\\u043f\\u0440\\u043e\\u0441\", \"\\u0432\\u043f\\u0440\\u0430\\u0432\\u0435\", \"\\u0432\\u0440\\u0435\\u043c\\u044f\", \"\\u0432\\u0440\\u0435\\u043c\\u044f\", \"\\u0432\\u0440\\u0435\\u043c\\u044f\", \"\\u0432\\u0441\\u043a\\u0440\\u044b\\u0442\\u0438\\u0435\", \"\\u0432\\u0441\\u044f\\u043a\\u0438\\u0439\", \"\\u0432\\u0441\\u0451\", \"\\u0432\\u0441\\u0451\", \"\\u0432\\u0441\\u0451\", \"\\u0432\\u0441\\u0451\", \"\\u0432\\u0441\\u0451\", \"\\u0432\\u0441\\u0451\", \"\\u0432\\u0441\\u0451\", \"\\u0432\\u0441\\u0451\", \"\\u0432\\u0441\\u0451\", \"\\u0432\\u0441\\u0451\", \"\\u0432\\u0441\\u0451\", \"\\u0432\\u0441\\u0451\", \"\\u0432\\u0441\\u0451\", \"\\u0432\\u0442\\u043e\\u0440\\u043e\\u0439\", \"\\u0432\\u044b\\u0434\\u0430\\u0432\\u0430\\u0442\\u044c\", \"\\u0432\\u044b\\u0434\\u0430\\u0447\\u0430\", \"\\u0432\\u044b\\u0437\\u0432\\u0430\\u0442\\u044c\", \"\\u0432\\u044b\\u043f\\u043e\\u043b\\u043d\\u0438\\u0442\\u044c\", \"\\u0432\\u044b\\u043f\\u043e\\u043b\\u043d\\u0438\\u0442\\u044c\", \"\\u0432\\u044b\\u043f\\u043e\\u043b\\u043d\\u044f\\u0442\\u044c\", \"\\u0432\\u044b\\u0441\\u043e\\u043a\\u0438\\u0439\", \"\\u0432\\u044b\\u0441\\u044b\\u043b\\u0430\\u0442\\u044c\", \"\\u0432\\u044b\\u044f\\u0432\\u0438\\u0442\\u044c\", \"\\u0433\\u0430\\u0440\\u0430\\u043d\\u0442\\u0438\\u044f\", \"\\u0433\\u043b\\u0430\\u0432\\u043d\\u044b\\u0439\", \"\\u0433\\u043e\\u0432\\u043e\\u0440\\u0438\\u0442\\u044c\", \"\\u0433\\u043e\\u0432\\u043e\\u0440\\u0438\\u0442\\u044c\", \"\\u0433\\u043e\\u0434\", \"\\u0433\\u043e\\u0434\", \"\\u0433\\u043e\\u0434\", \"\\u0433\\u043e\\u0434\", \"\\u0433\\u043e\\u0434\\u043d\\u043e\\u0441\\u0442\\u044c\", \"\\u0433\\u043e\\u0440\\u043e\\u0434\", \"\\u0433\\u043e\\u0440\\u044f\\u0447\\u0438\\u0439\", \"\\u0433\\u043e\\u0440\\u044f\\u0447\\u0438\\u0439\", \"\\u0433\\u043e\\u0442\\u043e\\u0432\\u043d\\u043e\\u0441\\u0442\\u044c\", \"\\u0433\\u0440\\u0430\\u0434\\u0443\\u0441\", \"\\u0433\\u0440\\u0430\\u0436\\u0434\\u0430\\u043d\\u0438\\u043d\", \"\\u0433\\u0440\\u0430\\u043d\\u0438\\u0446\\u0430\", \"\\u0433\\u0440\\u0430\\u043d\\u0438\\u0446\\u0430\", \"\\u0433\\u0440\\u0443\\u043f\\u043f\\u0430\", \"\\u0434\\u0430\\u0432\\u0430\\u0442\\u044c\", \"\\u0434\\u0430\\u0432\\u043d\\u043e\", \"\\u0434\\u0430\\u043b\\u0451\\u043a\\u0438\\u0439\", \"\\u0434\\u0430\\u043d\\u043d\\u044b\\u0439\", \"\\u0434\\u0430\\u043d\\u043d\\u044b\\u0439\", \"\\u0434\\u0430\\u043d\\u043d\\u044b\\u0439\", \"\\u0434\\u0430\\u043d\\u043d\\u044b\\u0439\", \"\\u0434\\u0430\\u043d\\u043d\\u044b\\u0439\", \"\\u0434\\u0430\\u043d\\u043d\\u044b\\u0439\", \"\\u0434\\u0430\\u043d\\u043d\\u044b\\u0439\", \"\\u0434\\u0430\\u0442\\u0430\", \"\\u0434\\u0430\\u0442\\u0430\", \"\\u0434\\u0430\\u0442\\u0430\", \"\\u0434\\u0430\\u0442\\u0430\", \"\\u0434\\u0430\\u0442\\u0430\", \"\\u0434\\u0430\\u0442\\u044c\", \"\\u0434\\u0430\\u0442\\u044c\", \"\\u0434\\u0430\\u0442\\u044c\", \"\\u0434\\u0430\\u0442\\u044c\", \"\\u0434\\u0430\\u0442\\u044c\", \"\\u0434\\u0430\\u0442\\u044c\", \"\\u0434\\u0430\\u0442\\u044c\", \"\\u0434\\u0430\\u0442\\u044c\", \"\\u0434\\u0430\\u0442\\u044c\", \"\\u0434\\u0432\\u0435\\u0440\\u044c\", \"\\u0434\\u0432\\u043e\\u0440\", \"\\u0434\\u0435\\u0432\\u0443\\u0448\\u043a\\u0430\", \"\\u0434\\u0435\\u0439\\u0441\\u0442\\u0432\\u0438\\u0435\", \"\\u0434\\u0435\\u0439\\u0441\\u0442\\u0432\\u0438\\u0435\", \"\\u0434\\u0435\\u0439\\u0441\\u0442\\u0432\\u0438\\u0435\", \"\\u0434\\u0435\\u0439\\u0441\\u0442\\u0432\\u0438\\u0435\", \"\\u0434\\u0435\\u0439\\u0441\\u0442\\u0432\\u0438\\u0435\", \"\\u0434\\u0435\\u043b\\u0430\\u0442\\u044c\", \"\\u0434\\u0435\\u043b\\u0430\\u0442\\u044c\", \"\\u0434\\u0435\\u043b\\u0430\\u0442\\u044c\", \"\\u0434\\u0435\\u043b\\u0430\\u0442\\u044c\", \"\\u0434\\u0435\\u043d\\u0435\\u0436\\u043d\\u044b\\u0439\", \"\\u0434\\u0435\\u043d\\u044c\", \"\\u0434\\u0435\\u043d\\u044c\", \"\\u0434\\u0435\\u043d\\u044c\", \"\\u0434\\u0435\\u043d\\u044c\", \"\\u0434\\u0435\\u043d\\u044c\", \"\\u0434\\u0435\\u043d\\u044c\", \"\\u0434\\u0435\\u043d\\u044c\", \"\\u0434\\u0435\\u043d\\u044c\\u0433\\u0430\", \"\\u0434\\u0435\\u043d\\u044c\\u0433\\u0430\", \"\\u0434\\u0435\\u043d\\u044c\\u0433\\u0430\", \"\\u0434\\u0435\\u043d\\u044c\\u0433\\u0430\", \"\\u0434\\u0435\\u0440\\u0436\\u0430\\u0442\\u044c\\u0441\\u044f\", \"\\u0434\\u0435\\u0442\\u0441\\u043a\\u0438\\u0439\", \"\\u0434\\u0435\\u0442\\u0441\\u043a\\u0438\\u0439\", \"\\u0434\\u0435\\u0444\\u0435\\u043a\\u0442\", \"\\u0434\\u0435\\u0448\\u0451\\u0432\\u044b\\u0439\", \"\\u0434\\u043e\\u0431\\u0440\\u044b\\u0439\", \"\\u0434\\u043e\\u0431\\u0440\\u044b\\u0439\", \"\\u0434\\u043e\\u0431\\u0440\\u044b\\u0439\", \"\\u0434\\u043e\\u0431\\u0440\\u044b\\u0439\", \"\\u0434\\u043e\\u0431\\u0440\\u044b\\u0439\", \"\\u0434\\u043e\\u0433\\u043e\\u0432\\u043e\\u0440\", \"\\u0434\\u043e\\u0433\\u043e\\u0432\\u043e\\u0440\", \"\\u0434\\u043e\\u0433\\u043e\\u0432\\u043e\\u0440\", \"\\u0434\\u043e\\u0437\\u0432\\u043e\\u043d\\u0438\\u0442\\u044c\\u0441\\u044f\", \"\\u0434\\u043e\\u043a\\u0430\\u0437\\u0430\\u0442\\u0435\\u043b\\u044c\\u0441\\u0442\\u0432\\u043e\", \"\\u0434\\u043e\\u043a\\u0443\\u043c\\u0435\\u043d\\u0442\", \"\\u0434\\u043e\\u043b\\u0433\", \"\\u0434\\u043e\\u043b\\u0433\\u043e\", \"\\u0434\\u043e\\u043b\\u0436\\u043d\\u043e\\u0441\\u0442\\u043d\\u043e\\u0439\", \"\\u0434\\u043e\\u043b\\u0436\\u043d\\u044b\\u0439\", \"\\u0434\\u043e\\u043b\\u0436\\u043d\\u044b\\u0439\", \"\\u0434\\u043e\\u043b\\u0436\\u043d\\u044b\\u0439\", \"\\u0434\\u043e\\u043b\\u0436\\u043d\\u044b\\u0439\", \"\\u0434\\u043e\\u043b\\u0436\\u043d\\u044b\\u0439\", \"\\u0434\\u043e\\u043b\\u0436\\u043d\\u044b\\u0439\", \"\\u0434\\u043e\\u043b\\u0436\\u043d\\u044b\\u0439\", \"\\u0434\\u043e\\u043b\\u0436\\u043d\\u044b\\u0439\", \"\\u0434\\u043e\\u043c\", \"\\u0434\\u043e\\u043c\", \"\\u0434\\u043e\\u043c\", \"\\u0434\\u043e\\u043c\\u043e\\u0439\", \"\\u0434\\u043e\\u043c\\u043e\\u0439\", \"\\u0434\\u043e\\u043f\", \"\\u0434\\u043e\\u043f\\u043e\\u043b\\u043d\\u0438\\u0442\\u0435\\u043b\\u044c\\u043d\\u043e\", \"\\u0434\\u043e\\u0441\\u0442\\u0430\\u0432\\u0438\\u0442\\u044c\", \"\\u0434\\u043e\\u0441\\u0442\\u0430\\u0432\\u043a\\u0430\", \"\\u0434\\u043e\\u0441\\u0442\\u0430\\u0442\\u043e\\u0447\\u043d\\u043e\", \"\\u0434\\u043e\\u0448\\u043a\\u043e\\u043b\\u044c\\u043d\\u044b\\u0439\", \"\\u0434\\u0440\\u0443\\u0433\", \"\\u0434\\u0443\\u043c\\u0430\\u0442\\u044c\", \"\\u0435\\u0434\\u0438\\u043d\\u044b\\u0439\", \"\\u0435\\u0436\\u0435\\u0434\\u043d\\u0435\\u0432\\u043d\\u043e\", \"\\u0435\\u0449\\u0451\", \"\\u0435\\u0449\\u0451\", \"\\u0435\\u0449\\u0451\", \"\\u0435\\u0449\\u0451\", \"\\u0436\\u0430\\u043b\\u043e\\u0431\\u0430\", \"\\u0436\\u0430\\u043b\\u043e\\u0431\\u0430\", \"\\u0436\\u0430\\u043b\\u043e\\u0432\\u0430\\u0442\\u044c\\u0441\\u044f\", \"\\u0436\\u0438\\u043b\\u0438\\u0449\\u043d\\u044b\\u0439\", \"\\u0436\\u0438\\u043b\\u043e\\u0439\", \"\\u0436\\u0438\\u0442\\u0435\\u043b\\u044c\", \"\\u0436\\u0438\\u0442\\u0435\\u043b\\u044c\", \"\\u0437\\u0430\\u0431\\u0440\\u0430\\u0442\\u044c\", \"\\u0437\\u0430\\u0432\\u0435\\u0440\\u0438\\u0442\\u044c\", \"\\u0437\\u0430\\u0432\\u0438\\u0441\\u0435\\u0442\\u044c\", \"\\u0437\\u0430\\u0432\\u0442\\u0440\\u0430\\u043a\", \"\\u0437\\u0430\\u043a\\u0430\\u0437\", \"\\u0437\\u0430\\u043a\\u0430\\u0437\\u0430\\u0442\\u044c\", \"\\u0437\\u0430\\u043a\\u0430\\u0437\\u0430\\u0442\\u044c\", \"\\u0437\\u0430\\u043a\\u0430\\u0437\\u0430\\u0442\\u044c\", \"\\u0437\\u0430\\u043a\\u0430\\u0437\\u044b\\u0432\\u0430\\u0442\\u044c\", \"\\u0437\\u0430\\u043a\\u043b\\u044e\\u0447\\u0435\\u043d\\u0438\\u0435\", \"\\u0437\\u0430\\u043a\\u043b\\u044e\\u0447\\u0438\\u0442\\u044c\", \"\\u0437\\u0430\\u043a\\u043e\\u043d\", \"\\u0437\\u0430\\u043a\\u043e\\u043d\\u043e\\u0434\\u0430\\u0442\\u0435\\u043b\\u044c\\u0441\\u0442\\u0432\\u043e\", \"\\u0437\\u0430\\u043c\\u0435\\u043d\\u0430\", \"\\u0437\\u0430\\u043c\\u0435\\u043d\\u0438\\u0442\\u044c\", \"\\u0437\\u0430\\u043f\\u0430\\u0445\", \"\\u0437\\u0430\\u043f\\u043b\\u0430\\u0442\\u0438\\u0442\\u044c\", \"\\u0437\\u0430\\u0440\\u0435\\u0433\\u0438\\u0441\\u0442\\u0440\\u0438\\u0440\\u043e\\u0432\\u0430\\u0442\\u044c\", \"\\u0437\\u0430\\u0449\\u0438\\u0442\\u0430\", \"\\u0437\\u0430\\u044f\\u0432\\u043b\\u0435\\u043d\\u0438\\u0435\", \"\\u0437\\u0430\\u044f\\u0432\\u043b\\u0435\\u043d\\u0438\\u0435\", \"\\u0437\\u0430\\u044f\\u0432\\u043b\\u0435\\u043d\\u0438\\u0435\", \"\\u0437\\u0430\\u044f\\u0432\\u043b\\u0435\\u043d\\u0438\\u0435\", \"\\u0437\\u0432\\u043e\\u043d\\u0438\\u0442\\u044c\", \"\\u0437\\u0432\\u043e\\u043d\\u043e\\u043a\", \"\\u0437\\u0432\\u043e\\u043d\\u043e\\u043a\", \"\\u0437\\u0432\\u043e\\u043d\\u043e\\u043a\", \"\\u0437\\u0432\\u043e\\u043d\\u043e\\u043a\", \"\\u0437\\u0432\\u043e\\u043d\\u043e\\u043a\", \"\\u0437\\u0434\\u0430\\u043d\\u0438\\u0435\", \"\\u0437\\u0434\\u043e\\u0440\\u043e\\u0432\\u044c\\u0435\", \"\\u0437\\u0434\\u0440\\u0430\\u0432\\u0441\\u0442\\u0432\\u0443\\u0439\\u0442\\u0435\", \"\\u0437\\u0434\\u0440\\u0430\\u0432\\u0441\\u0442\\u0432\\u0443\\u0439\\u0442\\u0435\", \"\\u0437\\u0434\\u0440\\u0430\\u0432\\u0441\\u0442\\u0432\\u0443\\u0439\\u0442\\u0435\", \"\\u0437\\u0434\\u0440\\u0430\\u0432\\u0441\\u0442\\u0432\\u0443\\u0439\\u0442\\u0435\", \"\\u0437\\u0434\\u0440\\u0430\\u0432\\u0441\\u0442\\u0432\\u0443\\u0439\\u0442\\u0435\", \"\\u0437\\u0434\\u0440\\u0430\\u0432\\u0441\\u0442\\u0432\\u0443\\u0439\\u0442\\u0435\", \"\\u0437\\u0434\\u0440\\u0430\\u0432\\u0441\\u0442\\u0432\\u0443\\u0439\\u0442\\u0435\", \"\\u0437\\u043d\\u0430\\u0442\\u044c\", \"\\u0437\\u043d\\u0430\\u0442\\u044c\", \"\\u0438\\u0433\\u043d\\u043e\\u0440\\u0438\\u0440\\u043e\\u0432\\u0430\\u0442\\u044c\", \"\\u0438\\u0437\\u0432\\u0435\\u0441\\u0442\\u043d\\u043e\", \"\\u0438\\u0437\\u0433\\u043e\\u0442\\u043e\\u0432\\u043b\\u0435\\u043d\\u0438\\u0435\", \"\\u0438\\u0437\\u0434\\u0435\\u043b\\u0438\\u0435\", \"\\u0438\\u0437\\u043b\\u043e\\u0436\\u0438\\u0442\\u044c\", \"\\u0438\\u0437\\u043c\\u0435\\u043d\\u0435\\u043d\\u0438\\u0435\", \"\\u0438\\u0437\\u043d\\u0430\\u0447\\u0430\\u043b\\u044c\\u043d\\u043e\", \"\\u0438\\u043c\\u0435\\u043d\\u043d\\u043e\", \"\\u0438\\u043c\\u0435\\u043d\\u043d\\u043e\", \"\\u0438\\u043c\\u0435\\u043d\\u043d\\u043e\", \"\\u0438\\u043c\\u0435\\u043d\\u043d\\u043e\", \"\\u0438\\u043c\\u0435\\u0442\\u044c\", \"\\u0438\\u043c\\u0435\\u0442\\u044c\", \"\\u0438\\u043c\\u0435\\u0442\\u044c\", \"\\u0438\\u043c\\u0443\\u0449\\u0435\\u0441\\u0442\\u0432\\u043e\", \"\\u0438\\u043c\\u044f\", \"\\u0438\\u043d\\u043d\\u0430\", \"\\u0438\\u043d\\u043e\\u0439\", \"\\u0438\\u043d\\u0442\\u0435\\u0440\\u0435\\u0441\\u043e\\u0432\\u0430\\u0442\\u044c\", \"\\u0438\\u043d\\u0442\\u0435\\u0440\\u043d\\u0435\\u0442\", \"\\u0438\\u043d\\u0442\\u0435\\u0440\\u043d\\u0435\\u0442\", \"\\u0438\\u043d\\u0442\\u0435\\u0440\\u043d\\u0435\\u0442\", \"\\u0438\\u043d\\u0442\\u0435\\u0440\\u043d\\u0435\\u0442\", \"\\u0438\\u043d\\u0444\\u0435\\u043a\\u0446\\u0438\\u044f\", \"\\u0438\\u043d\\u0444\\u043e\\u0440\\u043c\\u0430\\u0446\\u0438\\u044f\", \"\\u0438\\u043d\\u0444\\u043e\\u0440\\u043c\\u0430\\u0446\\u0438\\u044f\", \"\\u0438\\u043d\\u0444\\u043e\\u0440\\u043c\\u0430\\u0446\\u0438\\u044f\", \"\\u0438\\u0441\\u043f\\u043e\\u043b\\u043d\\u0435\\u043d\\u0438\\u0435\", \"\\u0438\\u0441\\u043f\\u043e\\u043b\\u043d\\u0435\\u043d\\u0438\\u0435\", \"\\u0438\\u0441\\u043f\\u043e\\u043b\\u043d\\u0438\\u0442\\u0435\\u043b\\u044c\", \"\\u0438\\u0441\\u043f\\u043e\\u043b\\u044c\\u0437\\u043e\\u0432\\u0430\\u043d\\u0438\\u0435\", \"\\u0438\\u0441\\u043f\\u043e\\u043b\\u044c\\u0437\\u043e\\u0432\\u0430\\u043d\\u0438\\u0435\", \"\\u0438\\u0441\\u043f\\u043e\\u043b\\u044c\\u0437\\u043e\\u0432\\u0430\\u0442\\u044c\", \"\\u0438\\u0441\\u043f\\u043e\\u0440\\u0442\\u0438\\u0442\\u044c\", \"\\u0438\\u0441\\u043f\\u0440\\u0430\\u0432\\u0438\\u0442\\u044c\", \"\\u0438\\u044e\\u043d\\u044c\", \"\\u043a\\u0430\\u0431\\u0438\\u043d\\u0435\\u0442\", \"\\u043a\\u0430\\u0431\\u0438\\u043d\\u0435\\u0442\", \"\\u043a\\u0430\\u0431\\u0438\\u043d\\u0435\\u0442\", \"\\u043a\\u0430\\u043c\\u0435\\u0440\\u0430\", \"\\u043a\\u0430\\u0440\\u0442\\u0430\", \"\\u043a\\u0430\\u0441\\u0430\\u0442\\u044c\\u0441\\u044f\", \"\\u043a\\u0430\\u0447\\u0435\\u0441\\u0442\\u0432\\u043e\", \"\\u043a\\u0430\\u0447\\u0435\\u0441\\u0442\\u0432\\u043e\", \"\\u043a\\u0430\\u0447\\u0435\\u0441\\u0442\\u0432\\u043e\", \"\\u043a\\u0432\\u0430\\u0440\\u0442\\u0438\\u0440\\u0430\", \"\\u043a\\u0432\\u0430\\u0440\\u0442\\u0438\\u0440\\u0430\", \"\\u043a\\u0432\\u0438\\u0442\\u0430\\u043d\\u0446\\u0438\\u044f\", \"\\u043a\\u0438\\u0440\\u043e\\u0432\", \"\\u043a\\u043b\\u0443\\u0431\", \"\\u043a\\u043e\\u0434\", \"\\u043a\\u043e\\u043b\\u0431\\u0430\\u0441\\u0430\", \"\\u043a\\u043e\\u043b\\u0438\\u0447\\u0435\\u0441\\u0442\\u0432\\u043e\", \"\\u043a\\u043e\\u043b\\u0438\\u0447\\u0435\\u0441\\u0442\\u0432\\u043e\", \"\\u043a\\u043e\\u043c\\u0438\\u0441\\u0441\\u0438\\u044f\", \"\\u043a\\u043e\\u043c\\u043d\\u0430\\u0442\\u0430\", \"\\u043a\\u043e\\u043c\\u043f\\u0430\\u043d\\u0438\\u044f\", \"\\u043a\\u043e\\u043c\\u043f\\u0430\\u043d\\u0438\\u044f\", \"\\u043a\\u043e\\u043c\\u043f\\u0430\\u043d\\u0438\\u044f\", \"\\u043a\\u043e\\u043d\\u043a\\u0440\\u0435\\u0442\\u043d\\u044b\\u0439\", \"\\u043a\\u043e\\u043d\\u0442\\u0435\\u0439\\u043d\\u0435\\u0440\", \"\\u043a\\u043e\\u043d\\u0442\\u0440\\u043e\\u043b\\u044c\", \"\\u043a\\u043e\\u043d\\u0446\\u0435\\u0440\\u0442\", \"\\u043a\\u043e\\u043f\\u0430\", \"\\u043a\\u043e\\u043f\\u0435\\u0439\\u043a\\u0430\", \"\\u043a\\u043e\\u043f\\u0438\\u044f\", \"\\u043a\\u043e\\u043f\\u0438\\u044f\", \"\\u043a\\u043e\\u043f\\u0438\\u044f\", \"\\u043a\\u043e\\u0440\\u043c\\u0438\\u0442\\u044c\", \"\\u043a\\u043e\\u0440\\u043e\\u043d\\u0430\\u0432\\u0438\\u0440\\u0443\\u0441\", \"\\u043a\\u0440\\u0430\\u0439\", \"\\u043a\\u0440\\u0430\\u0439\\u043d\\u0435\", \"\\u043a\\u0440\\u0430\\u0441\\u043d\\u043e\\u044f\\u0440\\u0441\\u043a\", \"\\u043a\\u0440\\u0430\\u0442\\u043a\\u0438\\u0439\", \"\\u043a\\u0440\\u0435\\u0434\\u0438\\u0442\", \"\\u043a\\u0440\\u043e\\u043c\\u0435\", \"\\u043a\\u0440\\u044b\\u0441\\u0430\", \"\\u043a\\u0443\\u043f\\u0438\\u0442\\u044c\", \"\\u043a\\u0443\\u043f\\u0438\\u0442\\u044c\", \"\\u043a\\u0443\\u043f\\u0438\\u0442\\u044c\", \"\\u043a\\u0443\\u043f\\u0438\\u0442\\u044c\", \"\\u043a\\u0443\\u043f\\u043b\\u044f\", \"\\u043a\\u0443\\u0440\\u044c\\u0435\\u0440\", \"\\u043b\\u0435\\u0436\\u0430\\u0442\\u044c\", \"\\u043b\\u0435\\u043d\\u0438\\u043d\", \"\\u043b\\u0435\\u043d\\u0438\\u043d\\u0433\\u0440\\u0430\\u0434\\u0441\\u043a\\u0438\\u0439\", \"\\u043b\\u0438\\u0446\\u043e\", \"\\u043b\\u0438\\u0446\\u043e\", \"\\u043b\\u0438\\u0446\\u043e\", \"\\u043b\\u0438\\u0447\\u043d\\u044b\\u0439\", \"\\u043b\\u0438\\u0447\\u043d\\u044b\\u0439\", \"\\u043b\\u044e\\u0431\\u0435\\u0440\\u0446\\u044b\", \"\\u043c\\u0430\\u0433\\u0430\\u0437\\u0438\\u043d\", \"\\u043c\\u0430\\u0433\\u0430\\u0437\\u0438\\u043d\", \"\\u043c\\u0430\\u0433\\u043d\\u0438\\u0442\", \"\\u043c\\u0430\\u043b\\u0435\\u043d\\u044c\\u043a\\u0438\\u0439\", \"\\u043c\\u0430\\u043c\\u0430\", \"\\u043c\\u0430\\u0440\\u043a\\u0435\\u0442\", \"\\u043c\\u0430\\u0440\\u0442\", \"\\u043c\\u0430\\u0440\\u0448\\u0440\\u0443\\u0442\", \"\\u043c\\u0430\\u0441\\u043b\\u043e\", \"\\u043c\\u0435\\u0431\\u0435\\u043b\\u044c\", \"\\u043c\\u0435\\u043b\\u043a\\u0438\\u0439\", \"\\u043c\\u0435\\u043d\\u0435\\u0434\\u0436\\u0435\\u0440\", \"\\u043c\\u0435\\u0440\\u0430\", \"\\u043c\\u0435\\u0440\\u0430\", \"\\u043c\\u0435\\u0440\\u0430\", \"\\u043c\\u0435\\u0440\\u043e\\u043f\\u0440\\u0438\\u044f\\u0442\\u0438\\u0435\", \"\\u043c\\u0435\\u0441\\u0442\\u043e\", \"\\u043c\\u0435\\u0441\\u0442\\u043e\", \"\\u043c\\u0435\\u0441\\u044f\\u0446\", \"\\u043c\\u0435\\u0441\\u044f\\u0446\", \"\\u043c\\u0435\\u0442\\u0440\", \"\\u043c\\u0438\\u043c\\u043e\", \"\\u043c\\u0438\\u043d\\u0443\\u0442\\u0430\", \"\\u043c\\u0438\\u0440\", \"\\u043c\\u043e\\u043c\\u0435\\u043d\\u0442\", \"\\u043c\\u043e\\u043c\\u0435\\u043d\\u0442\", \"\\u043c\\u043e\\u043c\\u0435\\u043d\\u0442\", \"\\u043c\\u043e\\u0441\\u043a\\u0432\\u0430\", \"\\u043c\\u043e\\u0441\\u043a\\u043e\\u0432\\u0441\\u043a\\u0438\\u0439\", \"\\u043c\\u043e\\u0442\\u0438\\u0432\\u0438\\u0440\\u043e\\u0432\\u0430\\u0442\\u044c\", \"\\u043c\\u043e\\u0447\\u044c\", \"\\u043c\\u043e\\u0447\\u044c\", \"\\u043c\\u043e\\u0447\\u044c\", \"\\u043c\\u043e\\u0447\\u044c\", \"\\u043c\\u043e\\u0447\\u044c\", \"\\u043c\\u043e\\u0447\\u044c\", \"\\u043c\\u043e\\u0447\\u044c\", \"\\u043c\\u043e\\u0447\\u044c\", \"\\u043c\\u0443\\u0436\", \"\\u043c\\u0443\\u0441\\u043e\\u0440\", \"\\u043c\\u0443\\u0441\\u043e\\u0440\\u043d\\u044b\\u0439\", \"\\u043c\\u044f\\u0441\\u043e\", \"\\u043d\\u0430\\u0437\\u0430\\u0434\", \"\\u043d\\u0430\\u0437\\u044b\\u0432\\u0430\\u0442\\u044c\", \"\\u043d\\u0430\\u043a\\u0430\\u0437\\u0430\\u0442\\u044c\", \"\\u043d\\u0430\\u043b\\u0438\\u0447\\u0438\\u0435\", \"\\u043d\\u0430\\u043f\\u0438\\u0441\\u0430\\u0442\\u044c\", \"\\u043d\\u0430\\u043f\\u0438\\u0441\\u0430\\u0442\\u044c\", \"\\u043d\\u0430\\u043f\\u0438\\u0441\\u0430\\u0442\\u044c\", \"\\u043d\\u0430\\u043f\\u0438\\u0441\\u0430\\u0442\\u044c\", \"\\u043d\\u0430\\u043f\\u0438\\u0441\\u0430\\u0442\\u044c\", \"\\u043d\\u0430\\u043f\\u0440\\u0430\\u0432\\u0438\\u0442\\u044c\", \"\\u043d\\u0430\\u043f\\u0440\\u0430\\u0432\\u0438\\u0442\\u044c\", \"\\u043d\\u0430\\u043f\\u0440\\u0430\\u0432\\u0438\\u0442\\u044c\", \"\\u043d\\u0430\\u043f\\u0440\\u0430\\u0432\\u0438\\u0442\\u044c\", \"\\u043d\\u0430\\u043f\\u0440\\u0430\\u0432\\u043b\\u0435\\u043d\\u0438\\u0435\", \"\\u043d\\u0430\\u0440\\u0443\\u0448\\u0435\\u043d\\u0438\\u0435\", \"\\u043d\\u0430\\u0440\\u0443\\u0448\\u0435\\u043d\\u0438\\u0435\", \"\\u043d\\u0430\\u0440\\u0443\\u0448\\u0435\\u043d\\u0438\\u0435\", \"\\u043d\\u0430\\u0440\\u0443\\u0448\\u0435\\u043d\\u0438\\u0435\", \"\\u043d\\u0430\\u0441\\u0435\\u043b\\u0435\\u043d\\u0438\\u0435\", \"\\u043d\\u0430\\u0441\\u0442\\u043e\\u044f\\u0449\\u0438\\u0439\", \"\\u043d\\u0430\\u0445\\u043e\\u0434\\u0438\\u0442\\u044c\\u0441\\u044f\", \"\\u043d\\u0430\\u0445\\u043e\\u0434\\u0438\\u0442\\u044c\\u0441\\u044f\", \"\\u043d\\u0430\\u0447\\u0430\\u043b\\u044c\\u043d\\u0438\\u043a\", \"\\u043d\\u0430\\u0448\", \"\\u043d\\u0430\\u0448\", \"\\u043d\\u0430\\u0448\", \"\\u043d\\u0430\\u0448\", \"\\u043d\\u0430\\u0448\", \"\\u043d\\u0430\\u0448\", \"\\u043d\\u0435\\u0432\\u043e\\u0437\\u043c\\u043e\\u0436\\u043d\\u044b\\u0439\", \"\\u043d\\u0435\\u0434\\u0435\\u043b\\u044f\", \"\\u043d\\u0435\\u0434\\u0435\\u043b\\u044f\", \"\\u043d\\u0435\\u0434\\u0435\\u043b\\u044f\", \"\\u043d\\u0435\\u0434\\u0435\\u043b\\u044f\", \"\\u043d\\u0435\\u0434\\u0435\\u043b\\u044f\", \"\\u043d\\u0435\\u0434\\u043e\\u0441\\u0442\\u0430\\u0442\\u043e\\u043a\", \"\\u043d\\u0435\\u0438\\u0437\\u0432\\u0435\\u0441\\u0442\\u043d\\u043e\", \"\\u043d\\u0435\\u043d\\u0430\\u0434\\u043b\\u0435\\u0436\\u0430\\u0449\\u0438\\u0439\", \"\\u043d\\u0435\\u043d\\u0430\\u0434\\u043b\\u0435\\u0436\\u0430\\u0449\\u0438\\u0439\", \"\\u043d\\u0435\\u043e\\u0431\\u0445\\u043e\\u0434\\u0438\\u043c\\u043e\", \"\\u043d\\u0435\\u043e\\u0434\\u043d\\u043e\\u043a\\u0440\\u0430\\u0442\\u043d\\u043e\", \"\\u043d\\u0435\\u043e\\u0434\\u043d\\u043e\\u043a\\u0440\\u0430\\u0442\\u043d\\u043e\", \"\\u043d\\u0435\\u043e\\u0434\\u043d\\u043e\\u043a\\u0440\\u0430\\u0442\\u043d\\u043e\", \"\\u043d\\u0435\\u043f\\u0440\\u0438\\u044f\\u0442\\u043d\\u044b\\u0439\", \"\\u043d\\u0435\\u0441\\u043e\\u0432\\u0435\\u0440\\u0448\\u0435\\u043d\\u043d\\u043e\\u043b\\u0435\\u0442\\u043d\\u0438\\u0439\", \"\\u043d\\u0438\\u0437\\u043a\\u0438\\u0439\", \"\\u043d\\u0438\\u043a\\u0430\\u043a\", \"\\u043d\\u0438\\u043a\\u0430\\u043a\\u043e\\u0439\", \"\\u043d\\u0438\\u043a\\u0442\\u043e\", \"\\u043d\\u0438\\u043a\\u0442\\u043e\", \"\\u043d\\u043e\\u0432\\u044b\\u0439\", \"\\u043d\\u043e\\u0432\\u044b\\u0439\", \"\\u043d\\u043e\\u043c\\u0435\\u0440\", \"\\u043d\\u043e\\u0440\\u043c\\u0430\", \"\\u043d\\u043e\\u0440\\u043c\\u0430\\u043b\\u044c\\u043d\\u044b\\u0439\", \"\\u043d\\u0443\\u0436\\u043d\\u043e\", \"\\u043d\\u0443\\u0436\\u043d\\u044b\\u0439\", \"\\u043e\\u0431\\u0435\\u0441\\u043f\\u0435\\u0447\\u0438\\u0432\\u0430\\u0442\\u044c\", \"\\u043e\\u0431\\u0435\\u0441\\u043f\\u0435\\u0447\\u0438\\u0442\\u044c\", \"\\u043e\\u0431\\u0435\\u0449\\u0430\\u0442\\u044c\", \"\\u043e\\u0431\\u0435\\u0449\\u0430\\u0442\\u044c\", \"\\u043e\\u0431\\u043b\\u0430\\u0441\\u0442\\u044c\", \"\\u043e\\u0431\\u043c\\u0435\\u043d\\u044f\\u0442\\u044c\", \"\\u043e\\u0431\\u043d\\u0430\\u0440\\u0443\\u0436\\u0438\\u0442\\u044c\", \"\\u043e\\u0431\\u043d\\u0430\\u0440\\u0443\\u0436\\u0438\\u0442\\u044c\", \"\\u043e\\u0431\\u043e\\u0437\\u043d\\u0430\\u0447\\u0438\\u0442\\u044c\", \"\\u043e\\u0431\\u043e\\u0440\\u0443\\u0434\\u043e\\u0432\\u0430\\u043d\\u0438\\u0435\", \"\\u043e\\u0431\\u0440\\u0430\\u0442\\u0438\\u0442\\u044c\", \"\\u043e\\u0431\\u0440\\u0430\\u0442\\u0438\\u0442\\u044c\\u0441\\u044f\", \"\\u043e\\u0431\\u0440\\u0430\\u0442\\u0438\\u0442\\u044c\\u0441\\u044f\", \"\\u043e\\u0431\\u0440\\u0430\\u0442\\u0438\\u0442\\u044c\\u0441\\u044f\", \"\\u043e\\u0431\\u0440\\u0430\\u0442\\u0438\\u0442\\u044c\\u0441\\u044f\", \"\\u043e\\u0431\\u0440\\u0430\\u0442\\u0438\\u0442\\u044c\\u0441\\u044f\", \"\\u043e\\u0431\\u0440\\u0430\\u0442\\u0438\\u0442\\u044c\\u0441\\u044f\", \"\\u043e\\u0431\\u0440\\u0430\\u0442\\u043d\\u043e\", \"\\u043e\\u0431\\u0440\\u0430\\u0449\\u0430\\u0442\\u044c\", \"\\u043e\\u0431\\u0440\\u0430\\u0449\\u0430\\u0442\\u044c\\u0441\\u044f\", \"\\u043e\\u0431\\u0440\\u0430\\u0449\\u0430\\u0442\\u044c\\u0441\\u044f\", \"\\u043e\\u0431\\u0440\\u0430\\u0449\\u0430\\u0442\\u044c\\u0441\\u044f\", \"\\u043e\\u0431\\u0440\\u0430\\u0449\\u0435\\u043d\\u0438\\u0435\", \"\\u043e\\u0431\\u0440\\u0430\\u0449\\u0435\\u043d\\u0438\\u0435\", \"\\u043e\\u0431\\u0440\\u0430\\u0449\\u0435\\u043d\\u0438\\u0435\", \"\\u043e\\u0431\\u0440\\u0430\\u0449\\u0435\\u043d\\u0438\\u0435\", \"\\u043e\\u0431\\u0440\\u0430\\u0449\\u0435\\u043d\\u0438\\u0435\", \"\\u043e\\u0431\\u0440\\u0430\\u0449\\u0435\\u043d\\u0438\\u0435\", \"\\u043e\\u0431\\u0440\\u0430\\u0449\\u0435\\u043d\\u0438\\u0435\", \"\\u043e\\u0431\\u0441\\u043b\\u0443\\u0436\\u0438\\u0432\\u0430\\u0442\\u044c\", \"\\u043e\\u0431\\u044a\\u044f\\u0441\\u043d\\u0435\\u043d\\u0438\\u0435\", \"\\u043e\\u0431\\u044a\\u044f\\u0441\\u043d\\u044f\\u0442\\u044c\", \"\\u043e\\u0431\\u044a\\u0451\\u043c\", \"\\u043e\\u0431\\u044f\\u0437\\u0430\\u043d\\u043d\\u043e\\u0441\\u0442\\u044c\", \"\\u043e\\u0431\\u044f\\u0437\\u0430\\u0442\\u0435\\u043b\\u044c\\u0441\\u0442\\u0432\\u043e\", \"\\u043e\\u0433\\u0440\\u0430\\u043d\\u0438\\u0447\\u0435\\u043d\\u0438\\u0435\", \"\\u043e\\u0433\\u0440\\u0430\\u043d\\u0438\\u0447\\u0435\\u043d\\u043d\\u044b\\u0439\", \"\\u043e\\u0433\\u0440\\u043d\", \"\\u043e\\u0433\\u0440\\u043e\\u043c\\u043d\\u044b\\u0439\", \"\\u043e\\u0434\\u043d\\u043e\\u0441\\u0442\\u043e\\u0440\\u043e\\u043d\\u043d\\u0438\\u0439\", \"\\u043e\\u0434\\u043e\\u0431\\u0440\\u0438\\u0442\\u044c\", \"\\u043e\\u0437\\u043d\\u0430\\u043a\\u043e\\u043c\\u0438\\u0442\\u044c\\u0441\\u044f\", \"\\u043e\\u043a\\u0430\\u0437\\u0430\\u043d\\u0438\\u0435\", \"\\u043e\\u043a\\u0430\\u0437\\u0430\\u0442\\u044c\", \"\\u043e\\u043a\\u0430\\u0437\\u0430\\u0442\\u044c\\u0441\\u044f\", \"\\u043e\\u043a\\u0430\\u0437\\u0430\\u0442\\u044c\\u0441\\u044f\", \"\\u043e\\u043a\\u0430\\u0437\\u0430\\u0442\\u044c\\u0441\\u044f\", \"\\u043e\\u043a\\u043d\\u043e\", \"\\u043e\\u043a\\u0440\\u0443\\u0436\\u0430\\u044e\\u0449\\u0438\\u0439\", \"\\u043e\\u043a\\u0441\\u0430\\u043d\\u0430\", \"\\u043e\\u043a\\u0442\\u044f\\u0431\\u0440\\u044c\", \"\\u043e\\u043d\\u043b\\u0430\\u0439\\u043d\", \"\\u043e\\u043d\\u043b\\u0430\\u0439\\u043d\", \"\\u043e\\u043d\\u043e\", \"\\u043e\\u043e\\u043e\", \"\\u043e\\u043e\\u043e\", \"\\u043e\\u043f\\u0438\\u0441\\u0430\\u043d\\u0438\\u0435\", \"\\u043e\\u043f\\u043b\\u0430\\u0442\\u0430\", \"\\u043e\\u043f\\u043b\\u0430\\u0442\\u0430\", \"\\u043e\\u043f\\u043b\\u0430\\u0442\\u0430\", \"\\u043e\\u043f\\u043b\\u0430\\u0442\\u0430\", \"\\u043e\\u043f\\u043b\\u0430\\u0442\\u0438\\u0442\\u044c\", \"\\u043e\\u043f\\u043b\\u0430\\u0442\\u0438\\u0442\\u044c\", \"\\u043e\\u043f\\u043b\\u0430\\u0442\\u0438\\u0442\\u044c\", \"\\u043e\\u043f\\u043b\\u0430\\u0442\\u0438\\u0442\\u044c\", \"\\u043e\\u043f\\u043b\\u0430\\u0447\\u0438\\u0432\\u0430\\u0442\\u044c\", \"\\u043e\\u0440\\u0433\\u0430\\u043d\", \"\\u043e\\u0440\\u0433\\u0430\\u043d\\u0438\\u0437\\u0430\\u0442\\u043e\\u0440\", \"\\u043e\\u0440\\u0433\\u0430\\u043d\\u0438\\u0437\\u0430\\u0446\\u0438\\u044f\", \"\\u043e\\u0440\\u0433\\u0430\\u043d\\u0438\\u0437\\u0430\\u0446\\u0438\\u044f\", \"\\u043e\\u0440\\u0433\\u0430\\u043d\\u0438\\u0437\\u0430\\u0446\\u0438\\u044f\", \"\\u043e\\u0440\\u0433\\u0430\\u043d\\u0438\\u0437\\u0430\\u0446\\u0438\\u044f\", \"\\u043e\\u0441\\u043c\\u043e\\u0442\\u0440\", \"\\u043e\\u0441\\u043d\\u043e\\u0432\\u0430\\u043d\\u0438\\u0435\", \"\\u043e\\u0441\\u043d\\u043e\\u0432\\u0430\\u043d\\u0438\\u0435\", \"\\u043e\\u0441\\u0442\\u0430\\u0432\\u0438\\u0442\\u044c\", \"\\u043e\\u0441\\u0442\\u0430\\u043b\\u044c\\u043d\\u043e\\u0439\", \"\\u043e\\u0441\\u0442\\u0430\\u0442\\u043e\\u043a\", \"\\u043e\\u0441\\u0443\\u0449\\u0435\\u0441\\u0442\\u0432\\u0438\\u0442\\u044c\", \"\\u043e\\u0441\\u0443\\u0449\\u0435\\u0441\\u0442\\u0432\\u043b\\u044f\\u0442\\u044c\\u0441\\u044f\", \"\\u043e\\u0442\\u0432\\u0435\\u0442\", \"\\u043e\\u0442\\u0432\\u0435\\u0442\", \"\\u043e\\u0442\\u0432\\u0435\\u0442\", \"\\u043e\\u0442\\u0432\\u0435\\u0442\", \"\\u043e\\u0442\\u0432\\u0435\\u0442\", \"\\u043e\\u0442\\u0432\\u0435\\u0442\", \"\\u043e\\u0442\\u0432\\u0435\\u0442\", \"\\u043e\\u0442\\u0432\\u0435\\u0442\", \"\\u043e\\u0442\\u0432\\u0435\\u0442\\u0438\\u0442\\u044c\", \"\\u043e\\u0442\\u0432\\u0435\\u0442\\u0438\\u0442\\u044c\", \"\\u043e\\u0442\\u0432\\u0435\\u0442\\u0438\\u0442\\u044c\", \"\\u043e\\u0442\\u0432\\u0435\\u0442\\u0438\\u0442\\u044c\", \"\\u043e\\u0442\\u0432\\u0435\\u0442\\u0438\\u0442\\u044c\", \"\\u043e\\u0442\\u0432\\u0435\\u0447\\u0430\\u0442\\u044c\", \"\\u043e\\u0442\\u0432\\u0435\\u0447\\u0430\\u0442\\u044c\", \"\\u043e\\u0442\\u0432\\u0435\\u0447\\u0430\\u0442\\u044c\", \"\\u043e\\u0442\\u0432\\u0435\\u0447\\u0430\\u0442\\u044c\", \"\\u043e\\u0442\\u0434\\u0435\\u043b\", \"\\u043e\\u0442\\u0437\\u044b\\u0432\", \"\\u043e\\u0442\\u043a\\u0430\\u0437\", \"\\u043e\\u0442\\u043a\\u0430\\u0437\", \"\\u043e\\u0442\\u043a\\u0430\\u0437\", \"\\u043e\\u0442\\u043a\\u0430\\u0437\", \"\\u043e\\u0442\\u043a\\u0430\\u0437\", \"\\u043e\\u0442\\u043a\\u0430\\u0437\\u0430\\u0442\\u044c\", \"\\u043e\\u0442\\u043a\\u0430\\u0437\\u0430\\u0442\\u044c\", \"\\u043e\\u0442\\u043a\\u0430\\u0437\\u0430\\u0442\\u044c\\u0441\\u044f\", \"\\u043e\\u0442\\u043a\\u0430\\u0437\\u0430\\u0442\\u044c\\u0441\\u044f\", \"\\u043e\\u0442\\u043a\\u0430\\u0437\\u0430\\u0442\\u044c\\u0441\\u044f\", \"\\u043e\\u0442\\u043a\\u0430\\u0437\\u0430\\u0442\\u044c\\u0441\\u044f\", \"\\u043e\\u0442\\u043a\\u0430\\u0437\\u0430\\u0442\\u044c\\u0441\\u044f\", \"\\u043e\\u0442\\u043a\\u0430\\u0437\\u0430\\u0442\\u044c\\u0441\\u044f\", \"\\u043e\\u0442\\u043a\\u0430\\u0437\\u0430\\u0442\\u044c\\u0441\\u044f\", \"\\u043e\\u0442\\u043a\\u0430\\u0437\\u044b\\u0432\\u0430\\u0442\\u044c\\u0441\\u044f\", \"\\u043e\\u0442\\u043a\\u0430\\u0437\\u044b\\u0432\\u0430\\u0442\\u044c\\u0441\\u044f\", \"\\u043e\\u0442\\u043a\\u043b\\u044e\\u0447\\u0430\\u0442\\u044c\", \"\\u043e\\u0442\\u043a\\u043b\\u044e\\u0447\\u0438\\u0442\\u044c\", \"\\u043e\\u0442\\u043a\\u0440\\u044b\\u0432\\u0430\\u0442\\u044c\\u0441\\u044f\", \"\\u043e\\u0442\\u043a\\u0440\\u044b\\u0442\\u044c\", \"\\u043e\\u0442\\u043b\\u0438\\u0447\\u0430\\u0442\\u044c\\u0441\\u044f\", \"\\u043e\\u0442\\u043c\\u0435\\u043d\\u0438\\u0442\\u044c\", \"\\u043e\\u0442\\u043c\\u0435\\u043d\\u0438\\u0442\\u044c\", \"\\u043e\\u0442\\u043c\\u0435\\u043d\\u043d\\u044b\\u0439\", \"\\u043e\\u0442\\u043c\\u0435\\u0442\\u0438\\u0442\\u044c\", \"\\u043e\\u0442\\u043d\\u043e\\u0448\\u0435\\u043d\\u0438\\u0435\", \"\\u043e\\u0442\\u043d\\u043e\\u0448\\u0435\\u043d\\u0438\\u0435\", \"\\u043e\\u0442\\u043d\\u043e\\u0448\\u0435\\u043d\\u0438\\u0435\", \"\\u043e\\u0442\\u043e\\u043f\\u043b\\u0435\\u043d\\u0438\\u0435\", \"\\u043e\\u0442\\u043f\\u0440\\u0430\\u0432\\u0438\\u0442\\u044c\", \"\\u043e\\u0442\\u043f\\u0440\\u0430\\u0432\\u0438\\u0442\\u044c\", \"\\u043e\\u0442\\u043f\\u0440\\u0430\\u0432\\u0438\\u0442\\u044c\", \"\\u043e\\u0442\\u043f\\u0440\\u0430\\u0432\\u0438\\u0442\\u044c\", \"\\u043e\\u0442\\u043f\\u0440\\u0430\\u0432\\u0438\\u0442\\u044c\", \"\\u043e\\u0442\\u043f\\u0440\\u0430\\u0432\\u0438\\u0442\\u044c\", \"\\u043e\\u0442\\u043f\\u0443\\u0441\\u043a\", \"\\u043e\\u0442\\u0440\\u0435\\u0430\\u0433\\u0438\\u0440\\u043e\\u0432\\u0430\\u0442\\u044c\", \"\\u043e\\u0442\\u0441\\u0443\\u0442\\u0441\\u0442\\u0432\\u0438\\u0435\", \"\\u043e\\u0442\\u0441\\u0443\\u0442\\u0441\\u0442\\u0432\\u0438\\u0435\", \"\\u043e\\u0442\\u0441\\u0443\\u0442\\u0441\\u0442\\u0432\\u0438\\u0435\", \"\\u043e\\u0442\\u0441\\u0443\\u0442\\u0441\\u0442\\u0432\\u043e\\u0432\\u0430\\u0442\\u044c\", \"\\u043e\\u0442\\u0441\\u0443\\u0442\\u0441\\u0442\\u0432\\u043e\\u0432\\u0430\\u0442\\u044c\", \"\\u043e\\u0442\\u0441\\u0443\\u0442\\u0441\\u0442\\u0432\\u043e\\u0432\\u0430\\u0442\\u044c\", \"\\u043e\\u0444\\u0435\\u0440\\u0442\\u0430\", \"\\u043e\\u0444\\u043e\\u0440\\u043c\\u0438\\u0442\\u044c\", \"\\u043e\\u0444\\u043e\\u0440\\u043c\\u0438\\u0442\\u044c\", \"\\u043e\\u0444\\u043e\\u0440\\u043c\\u043b\\u0435\\u043d\\u0438\\u0435\", \"\\u043e\\u0447\\u0435\\u043d\\u044c\", \"\\u043e\\u0447\\u0435\\u043d\\u044c\", \"\\u043e\\u0447\\u0435\\u043d\\u044c\", \"\\u043f\\u0430\\u043e\", \"\\u043f\\u0435\\u043d\\u0441\\u0438\\u043e\\u043d\\u0435\\u0440\", \"\\u043f\\u0435\\u0440\\u0432\\u044b\\u0439\", \"\\u043f\\u0435\\u0440\\u0435\\u0432\\u0435\\u0441\\u0442\\u0438\", \"\\u043f\\u0435\\u0440\\u0435\\u043d\\u0435\\u0441\\u0442\\u0438\", \"\\u043f\\u0435\\u0440\\u0435\\u043d\\u043e\\u0441\", \"\\u043f\\u0435\\u0440\\u0435\\u043f\\u0438\\u0441\\u043a\\u0430\", \"\\u043f\\u0435\\u0440\\u0435\\u043f\\u0438\\u0441\\u043a\\u0430\", \"\\u043f\\u0435\\u0440\\u0435\\u0441\\u0447\\u0438\\u0442\\u0430\\u0442\\u044c\", \"\\u043f\\u0435\\u0440\\u0435\\u0447\\u0435\\u043d\\u044c\", \"\\u043f\\u0435\\u0440\\u0441\\u043e\\u043d\\u0430\\u043b\", \"\\u043f\\u0438\\u0441\\u0430\\u0442\\u044c\", \"\\u043f\\u0438\\u0441\\u0430\\u0442\\u044c\", \"\\u043f\\u0438\\u0441\\u0430\\u0442\\u044c\", \"\\u043f\\u0438\\u0441\\u044c\\u043c\\u043e\", \"\\u043f\\u0438\\u0441\\u044c\\u043c\\u043e\", \"\\u043f\\u0438\\u0442\\u0430\\u043d\\u0438\\u0435\", \"\\u043f\\u043b\\u0430\\u043d\\u0438\\u0440\\u043e\\u0432\\u0430\\u0442\\u044c\", \"\\u043f\\u043b\\u0430\\u0442\\u0430\", \"\\u043f\\u043b\\u0430\\u0442\\u0430\", \"\\u043f\\u043b\\u0430\\u0442\\u0438\\u0442\\u044c\", \"\\u043f\\u043b\\u0430\\u0442\\u0451\\u0436\", \"\\u043f\\u043b\\u043e\\u0445\\u043e\\u0439\", \"\\u043f\\u043b\\u043e\\u0449\\u0430\\u0434\\u043a\\u0430\", \"\\u043f\\u043e\\u0432\\u043b\\u0438\\u044f\\u0442\\u044c\", \"\\u043f\\u043e\\u0432\\u043e\\u0434\", \"\\u043f\\u043e\\u0432\\u044b\\u0448\\u0435\\u043d\\u043d\\u044b\\u0439\", \"\\u043f\\u043e\\u0434\\u0430\\u0440\\u043e\\u043a\", \"\\u043f\\u043e\\u0434\\u0430\\u0442\\u044c\", \"\\u043f\\u043e\\u0434\\u0434\\u0435\\u0440\\u0436\\u043a\\u0430\", \"\\u043f\\u043e\\u0434\\u043a\\u043b\\u044e\\u0447\\u0435\\u043d\\u0438\\u0435\", \"\\u043f\\u043e\\u0434\\u043d\\u044f\\u0442\\u044c\", \"\\u043f\\u043e\\u0434\\u043d\\u044f\\u0442\\u044c\\u0441\\u044f\", \"\\u043f\\u043e\\u0434\\u043e\\u0431\\u043d\\u044b\\u0439\", \"\\u043f\\u043e\\u0434\\u043f\\u0438\\u0441\\u044c\", \"\\u043f\\u043e\\u0434\\u0440\\u043e\\u0431\\u043d\\u044b\\u0439\", \"\\u043f\\u043e\\u0434\\u0441\\u043a\\u0430\\u0437\\u0430\\u0442\\u044c\", \"\\u043f\\u043e\\u0434\\u0441\\u043a\\u0430\\u0437\\u0430\\u0442\\u044c\", \"\\u043f\\u043e\\u0434\\u0442\\u0432\\u0435\\u0440\\u0434\\u0438\\u0442\\u044c\", \"\\u043f\\u043e\\u0434\\u0442\\u0432\\u0435\\u0440\\u0436\\u0434\\u0435\\u043d\\u0438\\u0435\", \"\\u043f\\u043e\\u0434\\u0442\\u0432\\u0435\\u0440\\u0436\\u0434\\u0435\\u043d\\u0438\\u0435\", \"\\u043f\\u043e\\u0434\\u0442\\u0432\\u0435\\u0440\\u0436\\u0434\\u0435\\u043d\\u0438\\u0435\", \"\\u043f\\u043e\\u0434\\u0445\\u043e\\u0434\\u0438\\u0442\\u044c\", \"\\u043f\\u043e\\u0434\\u044a\\u0435\\u0437\\u0434\", \"\\u043f\\u043e\\u0435\\u0437\\u0434\\u043a\\u0430\", \"\\u043f\\u043e\\u0435\\u0445\\u0430\\u0442\\u044c\", \"\\u043f\\u043e\\u0436\\u0430\\u043b\\u0443\\u0439\\u0441\\u0442\\u0430\", \"\\u043f\\u043e\\u0436\\u0430\\u043b\\u0443\\u0439\\u0441\\u0442\\u0430\", \"\\u043f\\u043e\\u0437\\u0432\\u043e\\u043d\\u0438\\u0442\\u044c\", \"\\u043f\\u043e\\u0437\\u0432\\u043e\\u043d\\u0438\\u0442\\u044c\", \"\\u043f\\u043e\\u0437\\u0432\\u043e\\u043d\\u0438\\u0442\\u044c\", \"\\u043f\\u043e\\u0437\\u0432\\u043e\\u043d\\u0438\\u0442\\u044c\", \"\\u043f\\u043e\\u0437\\u0432\\u043e\\u043d\\u0438\\u0442\\u044c\", \"\\u043f\\u043e\\u0437\\u0438\\u0446\\u0438\\u044f\", \"\\u043f\\u043e\\u043a\\u0430\", \"\\u043f\\u043e\\u043a\\u0430\\u0437\\u0430\\u0442\\u044c\", \"\\u043f\\u043e\\u043a\\u0443\\u043f\\u0430\\u0442\\u0435\\u043b\\u044c\", \"\\u043f\\u043e\\u043a\\u0443\\u043f\\u0430\\u0442\\u0435\\u043b\\u044c\", \"\\u043f\\u043e\\u043a\\u0443\\u043f\\u0430\\u0442\\u044c\", \"\\u043f\\u043e\\u043a\\u0443\\u043f\\u0430\\u0442\\u044c\", \"\\u043f\\u043e\\u043a\\u0443\\u043f\\u043a\\u0430\", \"\\u043f\\u043e\\u043b\", \"\\u043f\\u043e\\u043b\\u0435\", \"\\u043f\\u043e\\u043b\\u043a\\u0430\", \"\\u043f\\u043e\\u043b\\u043d\\u043e\\u0441\\u0442\\u044c\\u044e\", \"\\u043f\\u043e\\u043b\\u043d\\u043e\\u0441\\u0442\\u044c\\u044e\", \"\\u043f\\u043e\\u043b\\u043d\\u044b\\u0439\", \"\\u043f\\u043e\\u043b\\u043d\\u044b\\u0439\", \"\\u043f\\u043e\\u043b\\u043d\\u044b\\u0439\", \"\\u043f\\u043e\\u043b\\u0443\\u0447\\u0430\\u0442\\u044c\", \"\\u043f\\u043e\\u043b\\u0443\\u0447\\u0430\\u0442\\u044c\", \"\\u043f\\u043e\\u043b\\u0443\\u0447\\u0430\\u0442\\u044c\\u0441\\u044f\", \"\\u043f\\u043e\\u043b\\u0443\\u0447\\u0438\\u0442\\u044c\", \"\\u043f\\u043e\\u043b\\u0443\\u0447\\u0438\\u0442\\u044c\", \"\\u043f\\u043e\\u043b\\u0443\\u0447\\u0438\\u0442\\u044c\", \"\\u043f\\u043e\\u043b\\u0443\\u0447\\u0438\\u0442\\u044c\", \"\\u043f\\u043e\\u043b\\u0443\\u0447\\u0438\\u0442\\u044c\", \"\\u043f\\u043e\\u043b\\u044c\\u0437\\u043e\\u0432\\u0430\\u0442\\u044c\\u0441\\u044f\", \"\\u043f\\u043e\\u043c\\u0435\\u0449\\u0435\\u043d\\u0438\\u0435\", \"\\u043f\\u043e\\u043c\\u043e\\u0433\\u0430\\u0442\\u044c\", \"\\u043f\\u043e\\u043c\\u043e\\u0447\\u044c\", \"\\u043f\\u043e\\u043c\\u043e\\u0447\\u044c\", \"\\u043f\\u043e\\u043c\\u043e\\u0447\\u044c\", \"\\u043f\\u043e\\u043c\\u043e\\u0447\\u044c\", \"\\u043f\\u043e\\u043c\\u043e\\u0447\\u044c\", \"\\u043f\\u043e\\u043c\\u043e\\u0449\\u044c\", \"\\u043f\\u043e\\u043d\\u0438\\u043c\\u0430\\u0442\\u044c\", \"\\u043f\\u043e\\u043d\\u0438\\u043c\\u0430\\u0442\\u044c\", \"\\u043f\\u043e\\u043d\\u044f\\u0442\\u043d\\u043e\", \"\\u043f\\u043e\\u043f\\u0440\\u043e\\u0431\\u043e\\u0432\\u0430\\u0442\\u044c\", \"\\u043f\\u043e\\u043f\\u044b\\u0442\\u043a\\u0430\", \"\\u043f\\u043e\\u0441\\u043c\\u043e\\u0442\\u0440\\u0435\\u0442\\u044c\", \"\\u043f\\u043e\\u0441\\u0442\\u0430\\u0432\\u0438\\u0442\\u044c\", \"\\u043f\\u043e\\u0441\\u0442\\u0430\\u0432\\u043a\\u0430\", \"\\u043f\\u043e\\u0441\\u0442\\u0430\\u0432\\u043a\\u0430\", \"\\u043f\\u043e\\u0441\\u0442\\u0430\\u043d\\u043e\\u0432\\u043b\\u0435\\u043d\\u0438\\u0435\", \"\\u043f\\u043e\\u0441\\u0442\\u0430\\u043d\\u043e\\u0432\\u043b\\u0435\\u043d\\u0438\\u0435\", \"\\u043f\\u043e\\u0441\\u0442\\u043e\\u044f\\u043d\\u043d\\u043e\", \"\\u043f\\u043e\\u0441\\u0442\\u043e\\u044f\\u043d\\u043d\\u043e\", \"\\u043f\\u043e\\u0441\\u0451\\u043b\\u043e\\u043a\", \"\\u043f\\u043e\\u0442\\u0440\\u0435\\u0431\\u0438\\u0442\\u0435\\u043b\\u044c\", \"\\u043f\\u043e\\u0442\\u0440\\u0435\\u0431\\u043e\\u0432\\u0430\\u0442\\u044c\", \"\\u043f\\u043e\\u0442\\u0440\\u0435\\u0431\\u043e\\u0432\\u0430\\u0442\\u044c\", \"\\u043f\\u043e\\u0442\\u0440\\u0435\\u0431\\u043e\\u0432\\u0430\\u0442\\u044c\", \"\\u043f\\u043e\\u0447\\u0435\\u043c\\u0443\", \"\\u043f\\u043e\\u0447\\u0442\\u0430\", \"\\u043f\\u043e\\u0447\\u0442\\u0430\", \"\\u043f\\u043e\\u0447\\u0442\\u0430\", \"\\u043f\\u043e\\u0447\\u0442\\u0430\", \"\\u043f\\u043e\\u0447\\u0442\\u0430\", \"\\u043f\\u043e\\u0447\\u0442\\u0430\", \"\\u043f\\u0440\\u0430\\u0432\\u0438\\u043b\\u043e\", \"\\u043f\\u0440\\u0430\\u0432\\u0438\\u0442\\u0435\\u043b\\u044c\\u0441\\u0442\\u0432\\u043e\", \"\\u043f\\u0440\\u0430\\u0432\\u0438\\u0442\\u0435\\u043b\\u044c\\u0441\\u0442\\u0432\\u043e\", \"\\u043f\\u0440\\u0430\\u0432\\u043e\", \"\\u043f\\u0440\\u0430\\u0432\\u043e\", \"\\u043f\\u0440\\u0430\\u0432\\u043e\\u0432\\u043e\\u0439\", \"\\u043f\\u0440\\u0430\\u0432\\u043e\\u043c\\u0435\\u0440\\u043d\\u043e\\u0441\\u0442\\u044c\", \"\\u043f\\u0440\\u0430\\u0432\\u043e\\u043c\\u0435\\u0440\\u043d\\u044b\\u0439\", \"\\u043f\\u0440\\u0435\\u0432\\u044b\\u0448\\u0435\\u043d\\u0438\\u0435\", \"\\u043f\\u0440\\u0435\\u0434\\u043b\\u0430\\u0433\\u0430\\u0442\\u044c\", \"\\u043f\\u0440\\u0435\\u0434\\u043b\\u0430\\u0433\\u0430\\u0442\\u044c\", \"\\u043f\\u0440\\u0435\\u0434\\u043d\\u0430\\u0437\\u043d\\u0430\\u0447\\u0438\\u0442\\u044c\", \"\\u043f\\u0440\\u0435\\u0434\\u043e\\u043f\\u043b\\u0430\\u0442\\u0430\", \"\\u043f\\u0440\\u0435\\u0434\\u043e\\u0441\\u0442\\u0430\\u0432\\u0438\\u0442\\u044c\", \"\\u043f\\u0440\\u0435\\u0434\\u043e\\u0441\\u0442\\u0430\\u0432\\u043b\\u0435\\u043d\\u0438\\u0435\", \"\\u043f\\u0440\\u0435\\u0434\\u043e\\u0441\\u0442\\u0430\\u0432\\u043b\\u0435\\u043d\\u0438\\u0435\", \"\\u043f\\u0440\\u0435\\u0434\\u043e\\u0441\\u0442\\u0430\\u0432\\u043b\\u044f\\u0442\\u044c\", \"\\u043f\\u0440\\u0435\\u0434\\u043e\\u0441\\u0442\\u0430\\u0432\\u043b\\u044f\\u0442\\u044c\", \"\\u043f\\u0440\\u0435\\u0434\\u043e\\u0441\\u0442\\u0430\\u0432\\u043b\\u044f\\u0442\\u044c\\u0441\\u044f\", \"\\u043f\\u0440\\u0435\\u0434\\u043f\\u0440\\u0438\\u043d\\u0438\\u043c\\u0430\\u0442\\u0435\\u043b\\u044c\", \"\\u043f\\u0440\\u0435\\u0434\\u0441\\u0435\\u0434\\u0430\\u0442\\u0435\\u043b\\u044c\", \"\\u043f\\u0440\\u0435\\u0434\\u0441\\u0442\\u0430\\u0432\\u0438\\u0442\\u0435\\u043b\\u044c\", \"\\u043f\\u0440\\u0435\\u0434\\u0443\\u043f\\u0440\\u0435\\u0434\\u0438\\u0442\\u044c\", \"\\u043f\\u0440\\u0435\\u0434\\u0443\\u043f\\u0440\\u0435\\u0434\\u0438\\u0442\\u044c\", \"\\u043f\\u0440\\u0435\\u0434\\u0443\\u043f\\u0440\\u0435\\u0436\\u0434\\u0435\\u043d\\u0438\\u0435\", \"\\u043f\\u0440\\u0435\\u0434\\u0443\\u0441\\u043c\\u043e\\u0442\\u0440\\u0435\\u0442\\u044c\", \"\\u043f\\u0440\\u0435\\u043a\\u0440\\u0430\\u0442\\u0438\\u0442\\u044c\", \"\\u043f\\u0440\\u0435\\u043f\\u044f\\u0442\\u0441\\u0442\\u0432\\u043e\\u0432\\u0430\\u0442\\u044c\", \"\\u043f\\u0440\\u0435\\u0442\\u0435\\u043d\\u0437\\u0438\\u044f\", \"\\u043f\\u0440\\u0435\\u0442\\u0435\\u043d\\u0437\\u0438\\u044f\", \"\\u043f\\u0440\\u0435\\u0442\\u0435\\u043d\\u0437\\u0438\\u044f\", \"\\u043f\\u0440\\u0435\\u0442\\u0435\\u043d\\u0437\\u0438\\u044f\", \"\\u043f\\u0440\\u0435\\u0442\\u0435\\u043d\\u0437\\u0438\\u044f\", \"\\u043f\\u0440\\u0438\\u0432\\u0435\\u0437\\u0442\\u0438\", \"\\u043f\\u0440\\u0438\\u0432\\u043b\\u0435\\u0447\\u044c\", \"\\u043f\\u0440\\u0438\\u0435\\u0437\\u0436\\u0430\\u0442\\u044c\", \"\\u043f\\u0440\\u0438\\u0439\\u0442\\u0438\", \"\\u043f\\u0440\\u0438\\u0439\\u0442\\u0438\", \"\\u043f\\u0440\\u0438\\u0439\\u0442\\u0438\", \"\\u043f\\u0440\\u0438\\u043b\\u0430\\u0432\\u043e\\u043a\", \"\\u043f\\u0440\\u0438\\u043b\\u0430\\u0433\\u0430\\u0442\\u044c\", \"\\u043f\\u0440\\u0438\\u043b\\u0430\\u0433\\u0430\\u0442\\u044c\\u0441\\u044f\", \"\\u043f\\u0440\\u0438\\u043b\\u043e\\u0436\\u0435\\u043d\\u0438\\u0435\", \"\\u043f\\u0440\\u0438\\u043b\\u043e\\u0436\\u0435\\u043d\\u0438\\u0435\", \"\\u043f\\u0440\\u0438\\u043b\\u043e\\u0436\\u0435\\u043d\\u0438\\u0435\", \"\\u043f\\u0440\\u0438\\u043b\\u043e\\u0436\\u0435\\u043d\\u0438\\u0435\", \"\\u043f\\u0440\\u0438\\u043b\\u043e\\u0436\\u0435\\u043d\\u0438\\u0435\", \"\\u043f\\u0440\\u0438\\u043d\\u044f\\u0442\\u044c\", \"\\u043f\\u0440\\u0438\\u043d\\u044f\\u0442\\u044c\", \"\\u043f\\u0440\\u0438\\u043d\\u044f\\u0442\\u044c\", \"\\u043f\\u0440\\u0438\\u043d\\u044f\\u0442\\u044c\", \"\\u043f\\u0440\\u0438\\u043d\\u044f\\u0442\\u044c\", \"\\u043f\\u0440\\u0438\\u043d\\u044f\\u0442\\u044c\", \"\\u043f\\u0440\\u0438\\u043e\\u0431\\u0440\\u0435\\u0441\\u0442\\u0438\", \"\\u043f\\u0440\\u0438\\u043e\\u0431\\u0440\\u0435\\u0441\\u0442\\u0438\", \"\\u043f\\u0440\\u0438\\u043e\\u0431\\u0440\\u0435\\u0441\\u0442\\u0438\", \"\\u043f\\u0440\\u0438\\u043e\\u0431\\u0440\\u0435\\u0441\\u0442\\u0438\", \"\\u043f\\u0440\\u0438\\u043e\\u0431\\u0440\\u0435\\u0442\\u0435\\u043d\\u0438\\u0435\", \"\\u043f\\u0440\\u0438\\u0441\\u0443\\u0442\\u0441\\u0442\\u0432\\u043e\\u0432\\u0430\\u0442\\u044c\", \"\\u043f\\u0440\\u0438\\u0445\\u043e\\u0434\\u0438\\u0442\\u044c\", \"\\u043f\\u0440\\u0438\\u0447\\u0438\\u043d\\u0430\", \"\\u043f\\u0440\\u0438\\u0447\\u0438\\u043d\\u0430\", \"\\u043f\\u0440\\u0438\\u0447\\u0438\\u043d\\u0430\", \"\\u043f\\u0440\\u0438\\u0447\\u0438\\u043d\\u0430\", \"\\u043f\\u0440\\u0438\\u0447\\u0438\\u043d\\u0430\", \"\\u043f\\u0440\\u0438\\u0447\\u0451\\u043c\", \"\\u043f\\u0440\\u0438\\u0451\\u043c\", \"\\u043f\\u0440\\u043e\\u0431\\u043b\\u0435\\u043c\\u0430\", \"\\u043f\\u0440\\u043e\\u0431\\u043b\\u0435\\u043c\\u0430\", \"\\u043f\\u0440\\u043e\\u0432\\u0435\\u0434\\u0435\\u043d\\u0438\\u0435\", \"\\u043f\\u0440\\u043e\\u0432\\u0435\\u0440\\u0438\\u0442\\u044c\", \"\\u043f\\u0440\\u043e\\u0432\\u0435\\u0440\\u0438\\u0442\\u044c\", \"\\u043f\\u0440\\u043e\\u0432\\u0435\\u0440\\u043a\\u0430\", \"\\u043f\\u0440\\u043e\\u0432\\u0435\\u0440\\u043a\\u0430\", \"\\u043f\\u0440\\u043e\\u0432\\u0435\\u0440\\u043a\\u0430\", \"\\u043f\\u0440\\u043e\\u0432\\u0435\\u0441\\u0442\\u0438\", \"\\u043f\\u0440\\u043e\\u0432\\u0435\\u0441\\u0442\\u0438\", \"\\u043f\\u0440\\u043e\\u0432\\u0435\\u0441\\u0442\\u0438\", \"\\u043f\\u0440\\u043e\\u0434\\u0430\\u0432\\u0430\\u0442\\u044c\", \"\\u043f\\u0440\\u043e\\u0434\\u0430\\u0432\\u0435\\u0446\", \"\\u043f\\u0440\\u043e\\u0434\\u0430\\u0432\\u0435\\u0446\", \"\\u043f\\u0440\\u043e\\u0434\\u0430\\u0436\\u0430\", \"\\u043f\\u0440\\u043e\\u0434\\u0430\\u0436\\u0430\", \"\\u043f\\u0440\\u043e\\u0434\\u0430\\u0436\\u0430\", \"\\u043f\\u0440\\u043e\\u0434\\u0430\\u0442\\u044c\", \"\\u043f\\u0440\\u043e\\u0434\\u0443\\u043a\\u0446\\u0438\\u044f\", \"\\u043f\\u0440\\u043e\\u0436\\u0438\\u0432\\u0430\\u043d\\u0438\\u0435\", \"\\u043f\\u0440\\u043e\\u0436\\u0438\\u0432\\u0430\\u0442\\u044c\", \"\\u043f\\u0440\\u043e\\u0438\\u0437\\u0432\\u043e\\u0434\\u0438\\u0442\\u0435\\u043b\\u044c\", \"\\u043f\\u0440\\u043e\\u0439\\u0442\\u0438\", \"\\u043f\\u0440\\u043e\\u043f\\u0438\\u0441\\u0430\\u0442\\u044c\", \"\\u043f\\u0440\\u043e\\u0441\\u0438\\u0442\\u044c\", \"\\u043f\\u0440\\u043e\\u0441\\u0438\\u0442\\u044c\", \"\\u043f\\u0440\\u043e\\u0441\\u0438\\u0442\\u044c\", \"\\u043f\\u0440\\u043e\\u0441\\u0438\\u0442\\u044c\", \"\\u043f\\u0440\\u043e\\u0441\\u0438\\u0442\\u044c\", \"\\u043f\\u0440\\u043e\\u0441\\u0438\\u0442\\u044c\", \"\\u043f\\u0440\\u043e\\u0441\\u0438\\u0442\\u044c\", \"\\u043f\\u0440\\u043e\\u0441\\u0438\\u0442\\u044c\", \"\\u043f\\u0440\\u043e\\u0441\\u0438\\u0442\\u044c\", \"\\u043f\\u0440\\u043e\\u0441\\u0438\\u0442\\u044c\", \"\\u043f\\u0440\\u043e\\u0441\\u0438\\u0442\\u044c\", \"\\u043f\\u0440\\u043e\\u0441\\u0438\\u0442\\u044c\", \"\\u043f\\u0440\\u043e\\u0441\\u043f\\u0435\\u043a\\u0442\", \"\\u043f\\u0440\\u043e\\u0441\\u0440\\u043e\\u0447\\u0438\\u0442\\u044c\", \"\\u043f\\u0440\\u043e\\u0441\\u0440\\u043e\\u0447\\u043a\\u0430\", \"\\u043f\\u0440\\u043e\\u0441\\u0442\\u043e\", \"\\u043f\\u0440\\u043e\\u0441\\u0442\\u043e\", \"\\u043f\\u0440\\u043e\\u0441\\u0442\\u043e\", \"\\u043f\\u0440\\u043e\\u0441\\u044c\\u0431\\u0430\", \"\\u043f\\u0440\\u043e\\u0441\\u044c\\u0431\\u0430\", \"\\u043f\\u0440\\u043e\\u0441\\u044c\\u0431\\u0430\", \"\\u043f\\u0440\\u043e\\u0441\\u044c\\u0431\\u0430\", \"\\u043f\\u0440\\u043e\\u0441\\u044c\\u0431\\u0430\", \"\\u043f\\u0440\\u043e\\u0441\\u044c\\u0431\\u0430\", \"\\u043f\\u0440\\u043e\\u0441\\u044c\\u0431\\u0430\", \"\\u043f\\u0443\\u0431\\u043b\\u0438\\u0447\\u043d\\u044b\\u0439\", \"\\u043f\\u0443\\u043d\\u043a\\u0442\", \"\\u043f\\u0443\\u043d\\u043a\\u0442\", \"\\u043f\\u0443\\u043d\\u043a\\u0442\", \"\\u043f\\u0443\\u043d\\u043a\\u0442\", \"\\u043f\\u044f\\u0442\\u0451\\u0440\\u043e\\u0447\\u043a\\u0430\", \"\\u0440\\u0430\\u0431\\u043e\\u0442\\u0430\", \"\\u0440\\u0430\\u0431\\u043e\\u0442\\u0430\", \"\\u0440\\u0430\\u0431\\u043e\\u0442\\u0430\", \"\\u0440\\u0430\\u0431\\u043e\\u0442\\u0430\", \"\\u0440\\u0430\\u0431\\u043e\\u0442\\u0430\", \"\\u0440\\u0430\\u0431\\u043e\\u0442\\u0430\\u0442\\u044c\", \"\\u0440\\u0430\\u0437\\u043b\\u0438\\u0447\\u043d\\u044b\\u0439\", \"\\u0440\\u0430\\u0437\\u043c\\u0435\\u0440\", \"\\u0440\\u0430\\u0437\\u043c\\u0435\\u0440\", \"\\u0440\\u0430\\u0437\\u043d\\u0438\\u0446\\u0430\", \"\\u0440\\u0430\\u0437\\u043d\\u044b\\u0439\", \"\\u0440\\u0430\\u0437\\u043e\\u0431\\u0440\\u0430\\u0442\\u044c\\u0441\\u044f\", \"\\u0440\\u0430\\u0437\\u043e\\u0431\\u0440\\u0430\\u0442\\u044c\\u0441\\u044f\", \"\\u0440\\u0430\\u0437\\u043e\\u0431\\u0440\\u0430\\u0442\\u044c\\u0441\\u044f\", \"\\u0440\\u0430\\u0437\\u043e\\u0431\\u0440\\u0430\\u0442\\u044c\\u0441\\u044f\", \"\\u0440\\u0430\\u0437\\u0440\\u0435\\u0448\\u0435\\u043d\\u0438\\u0435\", \"\\u0440\\u0430\\u0437\\u044a\\u044f\\u0441\\u043d\\u0435\\u043d\\u0438\\u0435\", \"\\u0440\\u0430\\u0439\\u043e\\u043d\", \"\\u0440\\u0430\\u0439\\u043e\\u043d\", \"\\u0440\\u0430\\u0441\\u043f\\u043e\\u043b\\u0430\\u0433\\u0430\\u0442\\u044c\\u0441\\u044f\", \"\\u0440\\u0430\\u0441\\u043f\\u043e\\u043b\\u043e\\u0436\\u0438\\u0442\\u044c\", \"\\u0440\\u0430\\u0441\\u043f\\u043e\\u043b\\u043e\\u0436\\u0438\\u0442\\u044c\", \"\\u0440\\u0430\\u0441\\u043f\\u043e\\u043b\\u043e\\u0436\\u0438\\u0442\\u044c\", \"\\u0440\\u0430\\u0441\\u0441\\u0442\\u043e\\u044f\\u043d\\u0438\\u0435\", \"\\u0440\\u0430\\u0441\\u0442\\u043e\\u0440\\u0436\\u0435\\u043d\\u0438\\u0435\", \"\\u0440\\u0435\\u0431\\u0451\\u043d\\u043e\\u043a\", \"\\u0440\\u0435\\u0437\\u0443\\u043b\\u044c\\u0442\\u0430\\u0442\", \"\\u0440\\u0435\\u0437\\u0443\\u043b\\u044c\\u0442\\u0430\\u0442\", \"\\u0440\\u0435\\u0437\\u0443\\u043b\\u044c\\u0442\\u0430\\u0442\", \"\\u0440\\u0435\\u0439\\u0441\", \"\\u0440\\u0435\\u043c\\u043e\\u043d\\u0442\", \"\\u0440\\u0435\\u0441\\u043f\\u0443\\u0431\\u043b\\u0438\\u043a\\u0430\", \"\\u0440\\u0435\\u0448\\u0438\\u0442\\u044c\", \"\\u0440\\u0435\\u0448\\u0438\\u0442\\u044c\", \"\\u0440\\u043e\\u0434\\u0438\\u0442\\u0435\\u043b\\u044c\", \"\\u0440\\u043e\\u0436\\u0434\\u0435\\u043d\\u0438\\u0435\", \"\\u0440\\u043e\\u0441\\u043f\\u043e\\u0442\\u0440\\u0435\\u0431\\u043d\\u0430\\u0434\\u0437\\u043e\\u0440\", \"\\u0440\\u043e\\u0441\\u043f\\u043e\\u0442\\u0440\\u0435\\u0431\\u043d\\u0430\\u0434\\u0437\\u043e\\u0440\", \"\\u0440\\u043e\\u0441\\u043f\\u043e\\u0442\\u0440\\u0435\\u0431\\u043d\\u0430\\u0434\\u0437\\u043e\\u0440\", \"\\u0440\\u043e\\u0441\\u043f\\u043e\\u0442\\u0440\\u0435\\u0431\\u043d\\u0430\\u0434\\u0437\\u043e\\u0440\", \"\\u0440\\u043e\\u0441\\u0441\\u0438\\u0439\\u0441\\u043a\\u0438\\u0439\", \"\\u0440\\u043e\\u0441\\u0441\\u0438\\u0439\\u0441\\u043a\\u0438\\u0439\", \"\\u0440\\u043e\\u0441\\u0441\\u0438\\u044f\", \"\\u0440\\u043e\\u0441\\u0442\\u0435\\u043b\\u0435\\u043a\\u043e\\u043c\", \"\\u0440\\u0443\\u0431\", \"\\u0440\\u0443\\u0431\\u043b\\u044c\", \"\\u0440\\u0443\\u0431\\u043b\\u044c\", \"\\u0440\\u0443\\u0431\\u043b\\u044c\", \"\\u0440\\u0443\\u043a\\u0430\", \"\\u0440\\u044f\\u0434\\u043e\\u043c\", \"\\u0441\\u0430\\u0434\", \"\\u0441\\u0430\\u0439\\u0442\", \"\\u0441\\u0430\\u0439\\u0442\", \"\\u0441\\u0430\\u0439\\u0442\", \"\\u0441\\u0430\\u0439\\u0442\", \"\\u0441\\u0430\\u043c\\u043e\\u043b\\u0451\\u0442\", \"\\u0441\\u0430\\u043d\\u0438\\u0442\\u0430\\u0440\\u043d\\u044b\\u0439\", \"\\u0441\\u0430\\u043d\\u043f\\u0438\\u043d\", \"\\u0441\\u0432\\u0435\\u0436\\u0438\\u0439\", \"\\u0441\\u0432\\u0435\\u0442\", \"\\u0441\\u0432\\u043e\\u0439\", \"\\u0441\\u0432\\u043e\\u0439\", \"\\u0441\\u0432\\u043e\\u0439\", \"\\u0441\\u0432\\u043e\\u0439\", \"\\u0441\\u0432\\u043e\\u0439\", \"\\u0441\\u0432\\u043e\\u0439\", \"\\u0441\\u0432\\u043e\\u0439\", \"\\u0441\\u0432\\u043e\\u0439\", \"\\u0441\\u0432\\u044f\\u0437\\u044c\", \"\\u0441\\u0432\\u044f\\u0437\\u044c\", \"\\u0441\\u0432\\u044f\\u0437\\u044c\", \"\\u0441\\u0432\\u044f\\u0437\\u044c\", \"\\u0441\\u0432\\u044f\\u0437\\u044c\", \"\\u0441\\u0432\\u044f\\u0437\\u044c\", \"\\u0441\\u0432\\u044f\\u0437\\u044c\", \"\\u0441\\u0434\\u0430\\u0442\\u044c\", \"\\u0441\\u0434\\u0435\\u043b\\u0430\\u0442\\u044c\", \"\\u0441\\u0434\\u0435\\u043b\\u0430\\u0442\\u044c\", \"\\u0441\\u0435\\u0433\\u043e\\u0434\\u043d\\u044f\", \"\\u0441\\u0435\\u0433\\u043e\\u0434\\u043d\\u044f\", \"\\u0441\\u0435\\u0440\\u0433\\u0435\\u0435\\u0432\\u0438\\u0447\", \"\\u0441\\u0435\\u0440\\u0442\\u0438\\u0444\\u0438\\u043a\\u0430\\u0442\", \"\\u0441\\u0435\\u0442\\u044c\", \"\\u0441\\u0438\\u0433\\u0430\\u0440\\u0435\\u0442\\u0430\", \"\\u0441\\u0438\\u043b\\u044c\\u043d\\u043e\", \"\\u0441\\u0438\\u043b\\u044c\\u043d\\u043e\", \"\\u0441\\u0438\\u043b\\u044c\\u043d\\u044b\\u0439\", \"\\u0441\\u0438\\u0441\\u0442\\u0435\\u043c\\u0430\", \"\\u0441\\u0438\\u0442\\u0443\\u0430\\u0446\\u0438\\u044f\", \"\\u0441\\u0438\\u0442\\u0443\\u0430\\u0446\\u0438\\u044f\", \"\\u0441\\u0438\\u0442\\u0443\\u0430\\u0446\\u0438\\u044f\", \"\\u0441\\u0438\\u0442\\u0443\\u0430\\u0446\\u0438\\u044f\", \"\\u0441\\u0438\\u0442\\u0443\\u0430\\u0446\\u0438\\u044f\", \"\\u0441\\u0438\\u0442\\u0443\\u0430\\u0446\\u0438\\u044f\", \"\\u0441\\u0438\\u0442\\u0443\\u0430\\u0446\\u0438\\u044f\", \"\\u0441\\u043a\\u0430\\u0437\\u0430\\u0442\\u044c\", \"\\u0441\\u043a\\u0430\\u0437\\u0430\\u0442\\u044c\", \"\\u0441\\u043a\\u0430\\u0437\\u0430\\u0442\\u044c\", \"\\u0441\\u043a\\u0430\\u0437\\u0430\\u0442\\u044c\", \"\\u0441\\u043a\\u0438\\u0434\\u043a\\u0430\", \"\\u0441\\u043a\\u043b\\u0430\\u0434\", \"\\u0441\\u043a\\u043e\\u043b\\u044c\\u043a\\u043e\", \"\\u0441\\u043b\\u0435\\u0434\\u043e\\u0432\\u0430\\u0442\\u0435\\u043b\\u044c\\u043d\\u043e\", \"\\u0441\\u043b\\u043e\\u0432\\u043e\", \"\\u0441\\u043b\\u0443\\u0436\\u0431\\u0430\", \"\\u0441\\u043b\\u0443\\u0436\\u0431\\u0430\", \"\\u0441\\u043b\\u0443\\u0436\\u0431\\u0430\", \"\\u0441\\u043b\\u0443\\u0436\\u0431\\u0430\", \"\\u0441\\u043b\\u0443\\u0436\\u0431\\u0430\", \"\\u0441\\u043c\\u043e\\u0442\\u0440\\u0435\\u0442\\u044c\", \"\\u0441\\u043c\\u0441\", \"\\u0441\\u043d\\u0438\\u0436\\u0435\\u043d\\u0438\\u0435\", \"\\u0441\\u043d\\u043e\\u0432\\u0430\", \"\\u0441\\u043d\\u043e\\u0432\\u0430\", \"\\u0441\\u043d\\u0442\", \"\\u0441\\u043d\\u044f\\u0442\\u044c\", \"\\u0441\\u043e\\u0431\\u0438\\u0440\\u0430\\u0442\\u044c\", \"\\u0441\\u043e\\u0431\\u0438\\u0440\\u0430\\u0442\\u044c\\u0441\\u044f\", \"\\u0441\\u043e\\u0431\\u043b\\u044e\\u0434\\u0435\\u043d\\u0438\\u0435\", \"\\u0441\\u043e\\u0431\\u0441\\u0442\\u0432\\u0435\\u043d\\u043d\\u0438\\u043a\", \"\\u0441\\u043e\\u0432\\u0435\\u0440\\u0448\\u0430\\u0442\\u044c\", \"\\u0441\\u043e\\u0432\\u0435\\u0440\\u0448\\u0435\\u043d\\u043d\\u043e\", \"\\u0441\\u043e\\u0432\\u0435\\u0442\", \"\\u0441\\u043e\\u0432\\u0435\\u0442\\u0441\\u043a\\u0438\\u0439\", \"\\u0441\\u043e\\u0433\\u043b\\u0430\\u0441\\u043d\\u043e\", \"\\u0441\\u043e\\u0433\\u043b\\u0430\\u0441\\u043d\\u043e\", \"\\u0441\\u043e\\u0433\\u043b\\u0430\\u0448\\u0435\\u043d\\u0438\\u0435\", \"\\u0441\\u043e\\u0434\\u0435\\u0440\\u0436\\u0430\\u043d\\u0438\\u0435\", \"\\u0441\\u043e\\u0434\\u0435\\u0440\\u0436\\u0430\\u0442\\u044c\\u0441\\u044f\", \"\\u0441\\u043e\\u043e\\u0431\\u0449\\u0435\\u043d\\u0438\\u0435\", \"\\u0441\\u043e\\u043e\\u0431\\u0449\\u0435\\u043d\\u0438\\u0435\", \"\\u0441\\u043e\\u043e\\u0431\\u0449\\u0435\\u043d\\u0438\\u0435\", \"\\u0441\\u043e\\u043e\\u0431\\u0449\\u0435\\u043d\\u0438\\u0435\", \"\\u0441\\u043e\\u043e\\u0431\\u0449\\u0435\\u043d\\u0438\\u0435\", \"\\u0441\\u043e\\u043e\\u0442\\u0432\\u0435\\u0442\\u0441\\u0442\\u0432\\u0438\\u0435\", \"\\u0441\\u043e\\u043e\\u0442\\u0432\\u0435\\u0442\\u0441\\u0442\\u0432\\u0438\\u0435\", \"\\u0441\\u043e\\u043e\\u0442\\u0432\\u0435\\u0442\\u0441\\u0442\\u0432\\u043e\\u0432\\u0430\\u0442\\u044c\", \"\\u0441\\u043e\\u043e\\u0442\\u0432\\u0435\\u0442\\u0441\\u0442\\u0432\\u043e\\u0432\\u0430\\u0442\\u044c\", \"\\u0441\\u043e\\u043e\\u0442\\u0432\\u0435\\u0442\\u0441\\u0442\\u0432\\u043e\\u0432\\u0430\\u0442\\u044c\", \"\\u0441\\u043e\\u043e\\u0442\\u0432\\u0435\\u0442\\u0441\\u0442\\u0432\\u043e\\u0432\\u0430\\u0442\\u044c\", \"\\u0441\\u043e\\u043e\\u0442\\u0432\\u0435\\u0442\\u0441\\u0442\\u0432\\u0443\\u044e\\u0449\\u0438\\u0439\", \"\\u0441\\u043e\\u0441\\u0442\\u0430\\u0432\\u0438\\u0442\\u044c\", \"\\u0441\\u043e\\u0441\\u0442\\u0430\\u0432\\u043b\\u044f\\u0442\\u044c\", \"\\u0441\\u043e\\u0441\\u0442\\u0430\\u0432\\u043b\\u044f\\u0442\\u044c\", \"\\u0441\\u043e\\u0441\\u0442\\u043e\\u044f\\u0442\\u044c\", \"\\u0441\\u043e\\u0442\\u0440\\u0443\\u0434\\u043d\\u0438\\u043a\", \"\\u0441\\u043e\\u0442\\u0440\\u0443\\u0434\\u043d\\u0438\\u043a\", \"\\u0441\\u043e\\u0446\\u0438\\u0430\\u043b\\u044c\\u043d\\u044b\\u0439\", \"\\u0441\\u043f\\u0430\\u0441\\u0438\\u0431\\u043e\", \"\\u0441\\u043f\\u0438\\u0441\\u0430\\u0442\\u044c\", \"\\u0441\\u0440\\u0435\\u0434\\u0430\", \"\\u0441\\u0440\\u0435\\u0434\\u0441\\u0442\\u0432\\u043e\", \"\\u0441\\u0440\\u043e\\u043a\", \"\\u0441\\u0440\\u043e\\u043a\", \"\\u0441\\u0440\\u043e\\u043a\", \"\\u0441\\u0440\\u043e\\u043a\", \"\\u0441\\u0440\\u043e\\u043a\", \"\\u0441\\u0441\\u044b\\u043b\\u043a\\u0430\", \"\\u0441\\u0442\\u0430\\u0442\\u0443\\u0441\", \"\\u0441\\u0442\\u0430\\u0442\\u044c\", \"\\u0441\\u0442\\u0430\\u0442\\u044c\\u044f\", \"\\u0441\\u0442\\u0435\\u043d\\u0430\", \"\\u0441\\u0442\\u043e\\u0438\\u043c\\u043e\\u0441\\u0442\\u044c\", \"\\u0441\\u0442\\u043e\\u0438\\u043c\\u043e\\u0441\\u0442\\u044c\", \"\\u0441\\u0442\\u043e\\u0438\\u043c\\u043e\\u0441\\u0442\\u044c\", \"\\u0441\\u0442\\u043e\\u0438\\u043c\\u043e\\u0441\\u0442\\u044c\", \"\\u0441\\u0442\\u043e\\u0438\\u0442\\u044c\", \"\\u0441\\u0442\\u043e\\u0438\\u0442\\u044c\", \"\\u0441\\u0442\\u0440\\u0430\\u043d\\u0430\", \"\\u0441\\u0443\\u043c\\u043c\\u0430\", \"\\u0441\\u0443\\u043c\\u043c\\u0430\", \"\\u0441\\u0443\\u043c\\u043c\\u0430\", \"\\u0441\\u0443\\u0442\\u043a\\u0438\", \"\\u0441\\u0443\\u0442\\u044c\", \"\\u0441\\u0447\\u0451\\u0442\", \"\\u0441\\u0447\\u0451\\u0442\", \"\\u0441\\u0447\\u0451\\u0442\\u0447\\u0438\\u043a\", \"\\u0442\\u0430\\u043a\\u0436\\u0435\", \"\\u0442\\u0430\\u043a\\u0436\\u0435\", \"\\u0442\\u0430\\u043a\\u0436\\u0435\", \"\\u0442\\u0430\\u043a\\u0436\\u0435\", \"\\u0442\\u0430\\u0440\\u0430\\u043a\\u0430\\u043d\", \"\\u0442\\u0430\\u0440\\u0438\\u0444\", \"\\u0442\\u0430\\u0442\\u044c\\u044f\\u043d\\u0430\", \"\\u0442\\u0435\\u043a\\u0441\\u0442\", \"\\u0442\\u0435\\u043b\\u0435\\u0432\\u0438\\u0437\\u043e\\u0440\", \"\\u0442\\u0435\\u043b\\u0435\\u0444\\u043e\\u043d\", \"\\u0442\\u0435\\u043b\\u0435\\u0444\\u043e\\u043d\", \"\\u0442\\u0435\\u043b\\u0435\\u0444\\u043e\\u043d\", \"\\u0442\\u0435\\u043b\\u043e\", \"\\u0442\\u0435\\u043c\\u043f\\u0435\\u0440\\u0430\\u0442\\u0443\\u0440\\u0430\", \"\\u0442\\u0435\\u0440\\u0440\\u0438\\u0442\\u043e\\u0440\\u0438\\u044f\", \"\\u0442\\u0435\\u0440\\u0440\\u0438\\u0442\\u043e\\u0440\\u0438\\u044f\", \"\\u0442\\u0435\\u0447\\u0435\\u043d\\u0438\\u0435\", \"\\u0442\\u0438\\u0448\\u0438\\u043d\\u0430\", \"\\u0442\\u043e\\u0432\\u0430\\u0440\", \"\\u0442\\u043e\\u0432\\u0430\\u0440\", \"\\u0442\\u043e\\u0440\\u0433\\u043e\\u0432\\u044b\\u0439\", \"\\u0442\\u0440\\u0430\\u0432\\u0438\\u0442\\u044c\", \"\\u0442\\u0440\\u0430\\u043d\\u0441\\u043f\\u043e\\u0440\\u0442\\u043d\\u044b\\u0439\", \"\\u0442\\u0440\\u0430\\u0442\\u0438\\u0442\\u044c\", \"\\u0442\\u0440\\u0435\\u0431\\u043e\\u0432\\u0430\\u043d\\u0438\\u0435\", \"\\u0442\\u0440\\u0435\\u0431\\u043e\\u0432\\u0430\\u043d\\u0438\\u0435\", \"\\u0442\\u0440\\u0435\\u0431\\u043e\\u0432\\u0430\\u043d\\u0438\\u0435\", \"\\u0442\\u0440\\u0435\\u0431\\u043e\\u0432\\u0430\\u043d\\u0438\\u0435\", \"\\u0442\\u0440\\u0435\\u0431\\u043e\\u0432\\u0430\\u0442\\u044c\", \"\\u0442\\u0440\\u0435\\u0431\\u043e\\u0432\\u0430\\u0442\\u044c\", \"\\u0442\\u0440\\u0435\\u0431\\u043e\\u0432\\u0430\\u0442\\u044c\\u0441\\u044f\", \"\\u0442\\u0440\\u0435\\u0449\\u0438\\u043d\\u0430\", \"\\u0442\\u044b\\u0441\\u044f\\u0447\\u0430\", \"\\u0443\\u0431\\u043e\\u0440\\u043a\\u0430\", \"\\u0443\\u0432\\u0435\\u0434\\u043e\\u043c\\u0438\\u0442\\u044c\", \"\\u0443\\u0432\\u0438\\u0434\\u0435\\u0442\\u044c\", \"\\u0443\\u0433\\u043e\\u043b\\u043e\\u043a\", \"\\u0443\\u0435\\u0445\\u0430\\u0442\\u044c\", \"\\u0443\\u043a\\u0430\\u0437\\u0430\\u043d\\u043d\\u044b\\u0439\", \"\\u0443\\u043a\\u0430\\u0437\\u0430\\u043d\\u043d\\u044b\\u0439\", \"\\u0443\\u043b\\u0438\\u0446\\u0430\", \"\\u0443\\u043f\\u0430\\u043a\\u043e\\u0432\\u043a\\u0430\", \"\\u0443\\u043f\\u0440\\u0430\\u0432\\u043b\\u0435\\u043d\\u0438\\u0435\", \"\\u0443\\u043f\\u0440\\u0430\\u0432\\u043b\\u044f\\u0442\\u044c\", \"\\u0443\\u0441\\u043b\\u043e\\u0432\\u0438\\u0435\", \"\\u0443\\u0441\\u043b\\u043e\\u0432\\u0438\\u0435\", \"\\u0443\\u0441\\u043b\\u043e\\u0432\\u0438\\u0435\", \"\\u0443\\u0441\\u043b\\u043e\\u0432\\u0438\\u0435\", \"\\u0443\\u0441\\u043b\\u043e\\u0432\\u0438\\u0435\", \"\\u0443\\u0441\\u043b\\u043e\\u0432\\u0438\\u0435\", \"\\u0443\\u0441\\u043b\\u0443\\u0433\\u0430\", \"\\u0443\\u0441\\u0442\\u0430\\u043d\\u043e\\u0432\\u0438\\u0442\\u044c\", \"\\u0443\\u0441\\u0442\\u0430\\u043d\\u043e\\u0432\\u0438\\u0442\\u044c\", \"\\u0443\\u0441\\u0442\\u0430\\u043d\\u043e\\u0432\\u043a\\u0430\", \"\\u0443\\u0441\\u0442\\u0430\\u043d\\u043e\\u0432\\u043b\\u0435\\u043d\\u043d\\u044b\\u0439\", \"\\u0443\\u0441\\u0442\\u0430\\u043d\\u043e\\u0432\\u043b\\u0435\\u043d\\u043d\\u044b\\u0439\", \"\\u0443\\u0441\\u0442\\u0440\\u043e\\u0438\\u0442\\u044c\", \"\\u0443\\u0442\\u0432\\u0435\\u0440\\u0434\\u0438\\u0442\\u044c\", \"\\u0443\\u0442\\u0440\\u043e\\u043c\", \"\\u0443\\u0447\\u0430\\u0441\\u0442\\u043e\\u043a\", \"\\u0443\\u0447\\u0440\\u0435\\u0436\\u0434\\u0435\\u043d\\u0438\\u0435\", \"\\u0444\\u0430\\u0439\\u043b\", \"\\u0444\\u0435\\u0432\\u0440\\u0430\\u043b\\u044c\", \"\\u0444\\u0435\\u0434\\u0435\\u0440\\u0430\\u043b\\u044c\\u043d\\u044b\\u0439\", \"\\u0444\\u0435\\u0434\\u0435\\u0440\\u0430\\u0446\\u0438\\u044f\", \"\\u0444\\u0435\\u0434\\u0435\\u0440\\u0430\\u0446\\u0438\\u044f\", \"\\u0444\\u0438\\u0440\\u043c\\u0430\", \"\\u0445\\u043e\\u0434\\u0438\\u0442\\u044c\", \"\\u0445\\u043e\\u043b\\u043e\\u0434\\u0438\\u043b\\u044c\\u043d\\u0438\\u043a\", \"\\u0445\\u043e\\u0442\\u0435\\u0442\\u044c\", \"\\u0445\\u043e\\u0442\\u0435\\u0442\\u044c\", \"\\u0445\\u043e\\u0442\\u0435\\u0442\\u044c\\u0441\\u044f\", \"\\u0446\\u0435\\u043b\\u044c\", \"\\u0446\\u0435\\u043b\\u044c\", \"\\u0446\\u0435\\u043d\\u0430\", \"\\u0446\\u0435\\u043d\\u0430\", \"\\u0446\\u0435\\u043d\\u043d\\u0438\\u043a\", \"\\u0446\\u0435\\u043d\\u0442\\u0440\", \"\\u0446\\u0438\\u0444\\u0440\\u0430\", \"\\u0447\\u0430\\u0441\\u0442\\u044c\", \"\\u0447\\u0430\\u0441\\u0442\\u044c\", \"\\u0447\\u0430\\u0441\\u0442\\u044c\", \"\\u0447\\u0430\\u0441\\u0442\\u044c\", \"\\u0447\\u0435\\u043a\", \"\\u0447\\u0435\\u043a\", \"\\u0447\\u0435\\u043a\", \"\\u0447\\u0435\\u043b\\u043e\\u0432\\u0435\\u043a\", \"\\u0447\\u0435\\u043b\\u043e\\u0432\\u0435\\u043a\", \"\\u0447\\u0435\\u043b\\u043e\\u0432\\u0435\\u043a\", \"\\u0447\\u0438\\u0441\\u043b\\u043e\", \"\\u0448\\u043a\\u0430\\u0444\", \"\\u0448\\u043a\\u043e\\u043b\\u0430\", \"\\u0448\\u0442\\u0443\\u043a\\u0430\", \"\\u044d\\u043a\\u043e\\u043b\\u043e\\u0433\\u0438\\u0447\\u0435\\u0441\\u043a\\u0438\\u0439\", \"\\u044d\\u043b\\u0435\\u043a\\u0442\\u0440\\u0438\\u0447\\u0435\\u0441\\u0442\\u0432\\u043e\", \"\\u044d\\u043b\\u0435\\u043a\\u0442\\u0440\\u043e\\u044d\\u043d\\u0435\\u0440\\u0433\\u0438\\u044f\", \"\\u044d\\u043f\\u0438\\u0434\\u0435\\u043c\\u0438\\u043e\\u043b\\u043e\\u0433\\u0438\\u0447\\u0435\\u0441\\u043a\\u0438\\u0439\", \"\\u044d\\u0442\\u0430\\u0436\", \"\\u044e\\u043b\\u0438\\u044f\", \"\\u044f\\u0432\\u043b\\u044f\\u0442\\u044c\\u0441\\u044f\", \"\\u044f\\u0432\\u043b\\u044f\\u0442\\u044c\\u0441\\u044f\", \"\\u044f\\u0432\\u043b\\u044f\\u0442\\u044c\\u0441\\u044f\", \"\\u044f\\u0432\\u043b\\u044f\\u0442\\u044c\\u0441\\u044f\", \"\\u044f\\u043a\\u043e\\u0431\\u044b\", \"\\u044f\\u043d\\u0434\\u0435\\u043a\\u0441\", \"\\u044f\\u0449\\u0438\\u043a\"]}, \"R\": 30, \"lambda.step\": 0.01, \"plot.opts\": {\"xlab\": \"PC1\", \"ylab\": \"PC2\"}, \"topic.order\": [4, 18, 9, 2, 8, 10, 16, 11, 3, 7, 15, 1, 17, 19, 14, 20, 12, 6, 13, 5]};\n",
              "\n",
              "function LDAvis_load_lib(url, callback){\n",
              "  var s = document.createElement('script');\n",
              "  s.src = url;\n",
              "  s.async = true;\n",
              "  s.onreadystatechange = s.onload = callback;\n",
              "  s.onerror = function(){console.warn(\"failed to load library \" + url);};\n",
              "  document.getElementsByTagName(\"head\")[0].appendChild(s);\n",
              "}\n",
              "\n",
              "if(typeof(LDAvis) !== \"undefined\"){\n",
              "   // already loaded: just create the visualization\n",
              "   !function(LDAvis){\n",
              "       new LDAvis(\"#\" + \"ldavis_el16541400897916675362093040101\", ldavis_el16541400897916675362093040101_data);\n",
              "   }(LDAvis);\n",
              "}else if(typeof define === \"function\" && define.amd){\n",
              "   // require.js is available: use it to load d3/LDAvis\n",
              "   require.config({paths: {d3: \"https://d3js.org/d3.v5\"}});\n",
              "   require([\"d3\"], function(d3){\n",
              "      window.d3 = d3;\n",
              "      LDAvis_load_lib(\"https://cdn.jsdelivr.net/gh/bmabey/pyLDAvis@3.3.1/pyLDAvis/js/ldavis.v3.0.0.js\", function(){\n",
              "        new LDAvis(\"#\" + \"ldavis_el16541400897916675362093040101\", ldavis_el16541400897916675362093040101_data);\n",
              "      });\n",
              "    });\n",
              "}else{\n",
              "    // require.js not available: dynamically load d3 & LDAvis\n",
              "    LDAvis_load_lib(\"https://d3js.org/d3.v5.js\", function(){\n",
              "         LDAvis_load_lib(\"https://cdn.jsdelivr.net/gh/bmabey/pyLDAvis@3.3.1/pyLDAvis/js/ldavis.v3.0.0.js\", function(){\n",
              "                 new LDAvis(\"#\" + \"ldavis_el16541400897916675362093040101\", ldavis_el16541400897916675362093040101_data);\n",
              "            })\n",
              "         });\n",
              "}\n",
              "</script>"
            ]
          },
          "metadata": {},
          "execution_count": 22
        }
      ],
      "source": [
        "import pyLDAvis\n",
        "import pyLDAvis.gensim_models as gensimvis\n",
        "\n",
        "%time \n",
        "vis_data = gensimvis.prepare(lda, corpus, dictionary)\n",
        "pyLDAvis.display(vis_data)"
      ],
      "id": "BlW0h05wf6Mq"
    },
    {
      "cell_type": "markdown",
      "metadata": {
        "id": "N1_QuVBaf6Mr"
      },
      "source": [
        "Посмотрим на метрики качества получившейся модели: перплексию и среднюю когерентность:"
      ],
      "id": "N1_QuVBaf6Mr"
    },
    {
      "cell_type": "code",
      "execution_count": 23,
      "metadata": {
        "colab": {
          "base_uri": "https://localhost:8080/"
        },
        "id": "ZotOH4d6f6Mr",
        "outputId": "f5915950-c541-44b5-8bc0-91b4f79c06f5"
      },
      "outputs": [
        {
          "output_type": "stream",
          "name": "stdout",
          "text": [
            "-14.20214497217321\n"
          ]
        }
      ],
      "source": [
        "print(lda.log_perplexity(corpus))\n"
      ],
      "id": "ZotOH4d6f6Mr"
    },
    {
      "cell_type": "code",
      "execution_count": 24,
      "metadata": {
        "colab": {
          "base_uri": "https://localhost:8080/"
        },
        "id": "VqyxqodWf6Mr",
        "outputId": "03bb044f-5f58-4256-bda6-08a441d4feb5"
      },
      "outputs": [
        {
          "output_type": "stream",
          "name": "stdout",
          "text": [
            "Персплексия:  6.792783929776821e-07\n"
          ]
        }
      ],
      "source": [
        "print('Персплексия: ', np.exp(lda.log_perplexity(corpus)))"
      ],
      "id": "VqyxqodWf6Mr"
    },
    {
      "cell_type": "code",
      "execution_count": 25,
      "metadata": {
        "colab": {
          "base_uri": "https://localhost:8080/"
        },
        "id": "agpzf-CVf6Mr",
        "outputId": "37f75b99-3045-44ca-a37f-3484474732a8"
      },
      "outputs": [
        {
          "output_type": "stream",
          "name": "stdout",
          "text": [
            "Средняя когерентность:  0.3502587212745508\n"
          ]
        }
      ],
      "source": [
        "coherence_model_lda = CoherenceModel(model=lda, texts=preprocessed_q, dictionary=dictionary, coherence='c_v')\n",
        "coherence_lda = coherence_model_lda.get_coherence()\n",
        "print('Средняя когерентность: ', coherence_lda)"
      ],
      "id": "agpzf-CVf6Mr"
    },
    {
      "cell_type": "markdown",
      "metadata": {
        "id": "QscCr17Zf6Mr"
      },
      "source": [
        "Теперь можно подобрать оптимальное количество тем, опираясь на значение метрик:"
      ],
      "id": "QscCr17Zf6Mr"
    },
    {
      "cell_type": "code",
      "execution_count": 26,
      "metadata": {
        "id": "UZBPpBxYf6Mr"
      },
      "outputs": [],
      "source": [
        "import matplotlib.pyplot as plt\n",
        "%matplotlib inline"
      ],
      "id": "UZBPpBxYf6Mr"
    },
    {
      "cell_type": "code",
      "execution_count": 31,
      "metadata": {
        "colab": {
          "base_uri": "https://localhost:8080/",
          "height": 312,
          "referenced_widgets": [
            "4dcff9c84ad24719bf67f61bc3eee854",
            "21a32862934646f2b1109129c20d373f",
            "6761a84e4edf486595224899759fd2b2",
            "35eb686b13b84240b0a790a50150366d",
            "1f1ceeb0ee7d49dc80fb90ee54b0ac03",
            "6fe44199207d4b0a8eb3fa553fa43ea2",
            "0aa8214d4433406c98cbae8789b7ec61",
            "ce325b14ccce4e90b75d0a1f07a54210",
            "52f997bf9d184733b8354a817c156da8",
            "265ec28168e84f9c91f6fbe64896cf3d",
            "aacefbd331da46e780f17350a68be2a9"
          ]
        },
        "id": "q7dUj8ClSOvg",
        "outputId": "66781bff-2b19-4024-9dff-ff47d5c5cf29"
      },
      "outputs": [
        {
          "output_type": "display_data",
          "data": {
            "text/plain": [
              "  0%|          | 0/13 [00:00<?, ?it/s]"
            ],
            "application/vnd.jupyter.widget-view+json": {
              "version_major": 2,
              "version_minor": 0,
              "model_id": "4dcff9c84ad24719bf67f61bc3eee854"
            }
          },
          "metadata": {}
        },
        {
          "output_type": "display_data",
          "data": {
            "text/plain": [
              "<Figure size 432x288 with 1 Axes>"
            ],
            "image/png": "[encoded data removed]"
          },
          "metadata": {
            "needs_background": "light"
          }
        }
      ],
      "source": [
        "topics_list = [1, 2, 3, 4, 5, 6, 7 , 8, 9, 10, 15, 20, 25]\n",
        "coherences = []\n",
        "\n",
        "for num in tqdm(topics_list):\n",
        "    lda = ldamodel.LdaModel(corpus, id2word=dictionary, num_topics=num, chunksize=50, update_every=1, passes=2)\n",
        "    coherences.append(CoherenceModel(model=lda, texts=preprocessed_q, dictionary=dictionary, coherence='c_v').get_coherence())\n",
        "\n",
        "plt.plot(topics_list, coherences)\n",
        "plt.xlabel(\"Число тем\")\n",
        "plt.ylabel(\"Средняя когерентность\")\n",
        "plt.show()"
      ],
      "id": "q7dUj8ClSOvg"
    },
    {
      "cell_type": "code",
      "execution_count": 33,
      "metadata": {
        "colab": {
          "base_uri": "https://localhost:8080/",
          "height": 916
        },
        "id": "-l9FrKjff6Ms",
        "outputId": "b17725fc-bd93-47ac-9997-7cf47fc55e2a"
      },
      "outputs": [
        {
          "output_type": "stream",
          "name": "stderr",
          "text": [
            "/usr/local/lib/python3.7/dist-packages/pyLDAvis/_prepare.py:247: FutureWarning: In a future version of pandas all arguments of DataFrame.drop except for the argument 'labels' will be keyword-only\n",
            "  by='saliency', ascending=False).head(R).drop('saliency', 1)\n"
          ]
        },
        {
          "output_type": "execute_result",
          "data": {
            "text/plain": [
              "<IPython.core.display.HTML object>"
            ],
            "text/html": [
              "\n",
              "<link rel=\"stylesheet\" type=\"text/css\" href=\"https://cdn.jsdelivr.net/gh/bmabey/pyLDAvis@3.3.1/pyLDAvis/js/ldavis.v1.0.0.css\">\n",
              "\n",
              "\n",
              "<div id=\"ldavis_el1654140089726739664756461508\"></div>\n",
              "<script type=\"text/javascript\">\n",
              "\n",
              "var ldavis_el1654140089726739664756461508_data = {\"mdsDat\": {\"x\": [0.13873563678699272, 0.1317788703518171, 0.09809207125283724, 0.020675294585342566, 0.13127100233037756, -0.17350799851659318, 0.019546547878001565, -0.36659142466877503], \"y\": [-0.1484661782153404, -0.0639005535675817, -0.04367313312806991, 0.10394060282531054, -0.04945637286039763, -0.17747854565879026, 0.3775909365982529, 0.0014432440066162028], \"topics\": [1, 2, 3, 4, 5, 6, 7, 8], \"cluster\": [1, 1, 1, 1, 1, 1, 1, 1], \"Freq\": [19.78828895360305, 17.421307691511117, 14.092871644271533, 13.26190537186257, 10.027475016523242, 8.900121276999649, 8.260213028873595, 8.247817016355242]}, \"tinfo\": {\"Term\": [\"\\u0442\\u043e\\u0432\\u0430\\u0440\", \"\\u043c\\u0430\\u0433\\u0430\\u0437\\u0438\\u043d\", \"\\u0442\\u0435\\u0441\\u0442\", \"\\u0443\\u0441\\u043b\\u0443\\u0433\\u0430\", \"\\u0434\\u043e\\u0433\\u043e\\u0432\\u043e\\u0440\", \"\\u0434\\u043e\\u043c\", \"\\u0434\\u0435\\u043d\\u044c\\u0433\\u0430\", \"\\u0433\\u0440\\u0430\\u0436\\u0434\\u0430\\u043d\\u0438\\u043d\", \"\\u0432\\u0435\\u0440\\u043d\\u0443\\u0442\\u044c\", \"\\u0432\\u043e\\u0437\\u0432\\u0440\\u0430\\u0442\", \"\\u0437\\u0430\\u043a\\u0430\\u0437\", \"\\u043a\\u043e\\u043c\\u043f\\u0430\\u043d\\u0438\\u044f\", \"\\u0440\\u0435\\u0431\\u0451\\u043d\\u043e\\u043a\", \"\\u043f\\u0440\\u043e\\u0434\\u0430\\u0432\\u0435\\u0446\", \"\\u043f\\u0446\\u0440\", \"\\u0431\\u0430\\u043d\\u043a\", \"\\u0434\\u0435\\u043d\\u044c\", \"\\u0440\\u043e\\u0441\\u0441\\u0438\\u044f\", \"\\u0441\\u0430\\u0439\\u0442\", \"\\u0440\\u0435\\u043c\\u043e\\u043d\\u0442\", \"\\u0441\\u0440\\u0435\\u0434\\u0441\\u0442\\u0432\\u043e\", \"\\u0432\\u043e\\u0434\\u0430\", \"\\u0441\\u0434\\u0430\\u0442\\u044c\", \"\\u0442\\u0435\\u0440\\u0440\\u0438\\u0442\\u043e\\u0440\\u0438\\u044f\", \"\\u0441\\u043a\\u0430\\u0437\\u0430\\u0442\\u044c\", \"\\u0441\\u0434\\u0430\\u0432\\u0430\\u0442\\u044c\", \"\\u043c\\u0430\\u0439\", \"\\u043d\\u0430\\u0445\\u043e\\u0434\\u0438\\u0442\\u044c\\u0441\\u044f\", \"\\u043a\\u0430\\u0440\\u0442\\u0430\", \"\\u043c\\u0430\\u0441\\u043a\\u0430\", \"\\u0431\\u0430\\u043d\\u043a\", \"\\u0432\\u0435\\u0440\\u043d\\u0443\\u0442\\u044c\", \"\\u043a\\u0440\\u0435\\u0434\\u0438\\u0442\", \"\\u0440\\u0443\\u0431\", \"\\u0441\\u0435\\u0440\\u0442\\u0438\\u0444\\u0438\\u043a\\u0430\\u0442\", \"\\u0434\\u0435\\u0444\\u0435\\u043a\\u0442\", \"\\u043e\\u0442\\u043a\\u0430\\u0437\\u044b\\u0432\\u0430\\u0442\\u044c\\u0441\\u044f\", \"\\u0441\\u0440\\u0430\\u0437\\u0443\", \"\\u043f\\u043e\\u0441\\u044b\\u043b\\u043a\\u0430\", \"\\u0441\\u0435\\u0440\\u0432\\u0438\\u0441\", \"\\u043e\\u0431\\u0443\\u0432\\u044c\", \"\\u0434\\u0440\\u0443\\u0433\", \"\\u0441\\u0435\\u0439\", \"\\u0441\\u043f\\u0443\\u0441\\u0442\\u044f\", \"\\u043e\\u0431\\u043c\\u0435\\u043d\", \"\\u0441\\u0447\\u0451\\u0442\\u0447\\u0438\\u043a\", \"\\u043d\\u0430\\u0447\\u0430\\u0442\\u044c\", \"\\u0440\\u0430\\u0431\\u043e\\u0442\\u043d\\u0438\\u043a\", \"\\u0434\\u043e\\u043b\\u0433\", \"\\u0443\\u0432\\u0438\\u0434\\u0435\\u0442\\u044c\", \"\\u0434\\u0432\\u0435\\u0440\\u044c\", \"\\u043f\\u043e\\u043b\\u0443\\u0447\\u0430\\u0442\\u044c\\u0441\\u044f\", \"\\u043f\\u0435\\u0440\\u0435\\u0432\\u043e\\u0434\", \"\\u043e\\u0441\\u043c\\u043e\\u0442\\u0440\", \"\\u043a\\u0432\\u0438\\u0442\\u0430\\u043d\\u0446\\u0438\\u044f\", \"\\u043f\\u043e\\u043b\\u0443\\u0447\\u0430\\u0442\\u044c\", \"\\u043e\\u0431\\u043c\\u0435\\u043d\\u044f\\u0442\\u044c\", \"\\u043f\\u0435\\u0440\\u0435\\u0432\\u0435\\u0441\\u0442\\u0438\", \"\\u0432\\u044b\\u044f\\u0441\\u043d\\u0438\\u0442\\u044c\\u0441\\u044f\", \"\\u0432\\u0435\\u0449\\u044c\", \"\\u0434\\u0435\\u043d\\u044c\\u0433\\u0430\", \"\\u043a\\u0430\\u0440\\u0442\\u0430\", \"\\u0432\\u043e\\u0437\\u0432\\u0440\\u0430\\u0449\\u0430\\u0442\\u044c\", \"\\u043d\\u0430\\u0437\\u0430\\u0434\", \"\\u0432\\u043e\\u0437\\u0432\\u0440\\u0430\\u0442\", \"\\u0437\\u0430\\u043f\\u043b\\u0430\\u0442\\u0438\\u0442\\u044c\", \"\\u043f\\u043e\\u0437\\u0432\\u043e\\u043d\\u0438\\u0442\\u044c\", \"\\u0441\\u0431\\u0435\\u0440\\u0431\\u0430\\u043d\\u043a\", \"\\u0447\\u0435\\u043a\", \"\\u0441\\u0443\\u043c\\u043c\\u0430\", \"\\u0438\\u0442\\u043e\\u0433\", \"\\u0441\\u043a\\u0430\\u0437\\u0430\\u0442\\u044c\", \"\\u043f\\u043e\\u043f\\u0440\\u043e\\u0441\\u0438\\u0442\\u044c\", \"\\u0440\\u0443\\u0431\\u043b\\u044c\", \"\\u0442\\u0435\\u043b\\u0435\\u0444\\u043e\\u043d\", \"\\u0440\\u0430\\u0437\\u043c\\u0435\\u0440\", \"\\u043c\\u0435\\u0441\\u044f\\u0446\", \"\\u043c\\u0435\\u043d\\u0435\\u0434\\u0436\\u0435\\u0440\", \"\\u043e\\u043f\\u043b\\u0430\\u0442\\u0430\", \"\\u043e\\u043f\\u043b\\u0430\\u0442\\u0438\\u0442\\u044c\", \"\\u043d\\u0430\\u043f\\u0438\\u0441\\u0430\\u0442\\u044c\", \"\\u043a\\u0443\\u043f\\u0438\\u0442\\u044c\", \"\\u043e\\u0442\\u043a\\u0430\\u0437\\u0430\\u0442\\u044c\", \"\\u0441\\u0440\\u0435\\u0434\\u0441\\u0442\\u0432\\u043e\", \"\\u043f\\u0440\\u0438\\u0439\\u0442\\u0438\", \"\\u043f\\u043e\\u043c\\u043e\\u0447\\u044c\", \"\\u043e\\u0431\\u0440\\u0430\\u0442\\u0438\\u0442\\u044c\\u0441\\u044f\", \"\\u0441\\u0447\\u0451\\u0442\", \"\\u0434\\u0435\\u043d\\u044c\", \"\\u043d\\u0438\\u043a\\u0430\\u043a\\u043e\\u0439\", \"\\u0435\\u0449\\u0451\", \"\\u0432\\u0441\\u0451\", \"\\u043f\\u043e\\u043b\\u0443\\u0447\\u0438\\u0442\\u044c\", \"\\u043c\\u0430\\u0433\\u0430\\u0437\\u0438\\u043d\", \"\\u0434\\u0435\\u043d\\u0435\\u0436\\u043d\\u044b\\u0439\", \"\\u043c\\u043e\\u0447\\u044c\", \"\\u0434\\u0430\\u0442\\u044c\", \"\\u0442\\u0435\\u0441\\u0442\", \"\\u043f\\u0446\\u0440\", \"\\u0440\\u043e\\u0441\\u0441\\u0438\\u044f\", \"\\u0441\\u0434\\u0430\\u0432\\u0430\\u0442\\u044c\", \"\\u0434\\u043e\\u0441\\u0442\\u0430\\u0432\\u043a\\u0430\", \"\\u0446\\u0435\\u043d\\u0430\", \"\\u0431\\u0440\\u0430\\u043a\", \"\\u043f\\u043e\\u043a\\u0443\\u043f\\u0430\\u0442\\u0435\\u043b\\u044c\", \"\\u0441\\u0442\\u0430\\u0442\\u044c\", \"\\u043f\\u0440\\u043e\\u0434\\u0430\\u0432\\u0435\\u0446\", \"\\u0437\\u0430\\u043a\\u0430\\u0437\", \"\\u043c\\u0430\\u0448\\u0438\\u043d\\u0430\", \"\\u043f\\u043b\\u0430\\u043d\\u0438\\u0440\\u043e\\u0432\\u0430\\u0442\\u044c\", \"\\u043f\\u0440\\u0438\\u0431\\u044b\\u0442\\u0438\\u0435\", \"\\u0443\\u043f\\u0430\\u043a\\u043e\\u0432\\u043a\\u0430\", \"\\u043d\\u0430\\u043b\\u0438\\u0447\\u0438\\u0435\", \"\\u043f\\u0430\\u0440\\u0430\", \"\\u0433\\u0430\\u0440\\u0430\\u043d\\u0442\\u0438\\u044f\", \"\\u043a\\u0443\\u0440\\u044c\\u0435\\u0440\", \"\\u0434\\u043e\\u0441\\u0442\\u0430\\u0432\\u0438\\u0442\\u044c\", \"\\u0437\\u0430\\u043c\\u0435\\u043d\\u0438\\u0442\\u044c\", \"\\u043f\\u0440\\u043e\\u0434\\u0430\\u0442\\u044c\", \"\\u043f\\u0440\\u0438\\u0432\\u0435\\u0437\\u0442\\u0438\", \"\\u0440\\u0435\\u0441\\u0442\\u043e\\u0440\\u0430\\u043d\", \"\\u0433\\u0440\\u0430\\u0436\\u0434\\u0430\\u043d\\u043a\\u0430\", \"\\u043f\\u0440\\u043e\\u0434\\u0443\\u043a\\u0446\\u0438\\u044f\", \"\\u043f\\u0435\\u0440\\u0435\\u0441\\u0435\\u0447\\u0435\\u043d\\u0438\\u0435\", \"\\u0444\\u0438\\u0440\\u043c\\u0430\", \"\\u043c\\u0435\\u0431\\u0435\\u043b\\u044c\", \"\\u0437\\u0430\\u0433\\u0440\\u0443\\u0437\\u0438\\u0442\\u044c\", \"\\u0442\\u043e\\u0432\\u0430\\u0440\", \"\\u043f\\u0438\\u0442\\u0430\\u043d\\u0438\\u0435\", \"\\u0432\\u043e\\u0437\\u0432\\u0440\\u0430\\u0449\\u0435\\u043d\\u0438\\u0435\", \"\\u043c\\u0430\\u0433\\u0430\\u0437\\u0438\\u043d\", \"\\u0433\\u0440\\u0430\\u043d\\u0438\\u0446\\u0430\", \"\\u043d\\u0443\\u0436\\u043d\\u043e\", \"\\u043f\\u0440\\u0438\\u0441\\u0443\\u0442\\u0441\\u0442\\u0432\\u043e\\u0432\\u0430\\u0442\\u044c\", \"\\u043f\\u043e\\u043b\\u0443\\u0447\\u0435\\u043d\\u0438\\u0435\", \"\\u043f\\u043e\\u0434\\u0441\\u043a\\u0430\\u0437\\u0430\\u0442\\u044c\", \"\\u0440\\u0435\\u0437\\u0443\\u043b\\u044c\\u0442\\u0430\\u0442\", \"\\u0434\\u0435\\u043d\\u044c\", \"\\u0437\\u0434\\u0440\\u0430\\u0432\\u0441\\u0442\\u0432\\u0443\\u0439\\u0442\\u0435\", \"\\u043f\\u043e\\u0436\\u0430\\u043b\\u0443\\u0439\\u0441\\u0442\\u0430\", \"\\u0446\\u0435\\u043d\\u0442\\u0440\", \"\\u0434\\u043e\\u0431\\u0440\\u044b\\u0439\", \"\\u0441\\u0434\\u0435\\u043b\\u0430\\u0442\\u044c\", \"\\u0434\\u0435\\u043b\\u0430\\u0442\\u044c\", \"\\u0441\\u0440\\u043e\\u043a\", \"\\u0438\\u043d\\u0442\\u0435\\u0440\\u043d\\u0435\\u0442\", \"\\u043c\\u043e\\u0447\\u044c\", \"\\u0445\\u043e\\u0442\\u0435\\u0442\\u044c\", \"\\u043a\\u043e\\u0432\\u0438\\u0434\", \"\\u0430\\u0431\\u0445\\u0430\\u0437\\u0438\\u044f\", \"\\u0433\\u043e\\u0441\\u0443\\u0441\\u043b\\u0443\\u0433\\u0430\", \"\\u0438\\u044e\\u043d\\u044c\", \"\\u043e\\u0442\\u0434\\u0435\\u043b\\u0435\\u043d\\u0438\\u0435\", \"\\u043e\\u0441\\u0442\\u0430\\u0432\\u0438\\u0442\\u044c\", \"\\u0440\\u0430\\u0431\\u043e\\u0447\\u0438\\u0439\", \"\\u0442\\u0443\\u0440\", \"\\u0430\\u043d\\u043a\\u0435\\u0442\\u0430\", \"\\u0441\\u043f\\u0438\\u0441\\u0430\\u0442\\u044c\", \"https\", \"\\u0432\\u043c\\u0435\\u0441\\u0442\\u043e\", \"\\u043f\\u043e\\u043f\\u044b\\u0442\\u043a\\u0430\", \"\\u0442\\u0443\\u0440\\u0446\\u0438\\u044f\", \"\\u043b\\u0435\\u0436\\u0430\\u0442\\u044c\", \"\\u043f\\u044b\\u0442\\u0430\\u0442\\u044c\\u0441\\u044f\", \"\\u0440\\u0430\\u0441\\u0441\\u043c\\u043e\\u0442\\u0440\\u0435\\u0442\\u044c\", \"com\", \"\\u043d\\u0430\\u043b\\u0438\\u0447\\u043d\\u044b\\u0439\", \"wildberries\", \"\\u043f\\u0435\\u0440\\u0435\\u043f\\u0438\\u0441\\u043a\\u0430\", \"\\u043f\\u0440\\u0438\\u0431\\u044b\\u0432\\u0430\\u0442\\u044c\", \"\\u043f\\u0435\\u0440\\u0435\\u043d\\u0435\\u0441\\u0442\\u0438\", \"\\u043a\\u0430\\u0441\\u0441\\u0438\\u0440\", \"\\u043e\\u0442\\u0437\\u044b\\u0432\", \"\\u043f\\u043e\\u0441\\u0435\\u0442\\u0438\\u0442\\u0435\\u043b\\u044c\", \"\\u0441\\u0438\\u0442\\u0438\\u043c\\u043e\\u0431\\u0438\\u043b\\u0430\", \"\\u0441\\u0441\\u044b\\u043b\\u043a\\u0430\", \"\\u0432\\u043d\\u0435\\u0441\\u0442\\u0438\", \"\\u043a\\u0440\\u044b\\u043c\", \"\\u043f\\u0438\\u0441\\u044c\\u043c\\u043e\", \"\\u043e\\u0442\\u0432\\u0435\\u0447\\u0430\\u0442\\u044c\", \"\\u043f\\u043e\\u0434\\u0434\\u0435\\u0440\\u0436\\u043a\\u0430\", \"\\u0432\\u043d\\u0438\\u043c\\u0430\\u043d\\u0438\\u0435\", \"\\u044d\\u043b\\u0435\\u043a\\u0442\\u0440\\u043e\\u043d\\u043d\\u044b\\u0439\", \"\\u0441\\u043e\\u043e\\u0431\\u0449\\u0435\\u043d\\u0438\\u0435\", \"\\u0441\\u0430\\u0439\\u0442\", \"\\u043e\\u0431\\u0440\\u0430\\u0449\\u0435\\u043d\\u0438\\u0435\", \"\\u0435\\u0445\\u0430\\u0442\\u044c\", \"\\u043f\\u043e\\u0447\\u0442\\u0430\", \"\\u043d\\u0435\\u0441\\u043a\\u043e\\u043b\\u044c\\u043a\\u043e\", \"\\u043f\\u0440\\u0438\\u043b\\u043e\\u0436\\u0435\\u043d\\u0438\\u0435\", \"\\u043e\\u043f\\u0435\\u0440\\u0430\\u0442\\u043e\\u0440\", \"\\u0441\\u043b\\u0443\\u0436\\u0431\\u0430\", \"\\u043e\\u0442\\u0432\\u0435\\u0442\", \"\\u043d\\u043e\\u043c\\u0435\\u0440\", \"\\u0441\\u043e\\u0442\\u0440\\u0443\\u0434\\u043d\\u0438\\u043a\", \"\\u0436\\u0430\\u043b\\u043e\\u0431\\u0430\", \"\\u043f\\u043e\\u043b\\u0443\\u0447\\u0438\\u0442\\u044c\", \"\\u0432\\u043e\\u043f\\u0440\\u043e\\u0441\", \"\\u043c\\u0430\\u0439\", \"\\u0437\\u0430\\u044f\\u0432\\u043b\\u0435\\u043d\\u0438\\u0435\", \"\\u0434\\u0430\\u0442\\u044c\", \"\\u043f\\u0440\\u043e\\u0441\\u0438\\u0442\\u044c\", \"\\u0434\\u0435\\u043d\\u044c\", \"\\u0434\\u043e\\u0431\\u0440\\u044b\\u0439\", \"\\u0431\\u0438\\u043b\\u0435\\u0442\", \"\\u043c\\u043e\\u0447\\u044c\", \"\\u0434\\u043e\\u043c\", \"covid\", \"\\u043f\\u043e\\u043c\\u0435\\u0449\\u0435\\u043d\\u0438\\u0435\", \"\\u043a\\u0432\\u0430\\u0440\\u0442\\u0438\\u0440\\u0430\", \"\\u0443\\u043b\\u0438\\u0446\\u0430\", \"\\u043f\\u0440\\u0438\\u0432\\u0438\\u0432\\u043a\\u0430\", \"\\u043f\\u0440\\u043e\\u0434\\u0443\\u043a\\u0442\", \"\\u0436\\u0438\\u0442\\u044c\", \"\\u0436\\u0438\\u043b\\u043e\\u0439\", \"\\u0442\\u0435\\u043b\\u0435\\u0432\\u0438\\u0437\\u043e\\u0440\", \"\\u043e\\u043a\\u043d\\u043e\", \"\\u0441\\u0435\\u043c\\u044c\\u044f\", \"\\u0442\\u044b\\u0441\\u044f\\u0447\\u0430\", \"\\u043c\\u043e\\u0441\\u043a\\u043e\\u0432\\u0441\\u043a\\u0438\\u0439\", \"\\u043a\\u043e\\u0440\\u043e\\u043d\\u0430\\u0432\\u0438\\u0440\\u0443\\u0441\", \"\\u043c\\u0435\\u043d\\u0435\\u0435\", \"\\u0438\\u043d\\u0444\\u0435\\u043a\\u0446\\u0438\\u044f\", \"\\u043f\\u0440\\u043e\\u0436\\u0438\\u0432\\u0430\\u043d\\u0438\\u0435\", \"\\u043f\\u0440\\u043e\\u0441\\u043f\\u0435\\u043a\\u0442\", \"\\u043c\\u0435\\u0441\\u0442\\u043d\\u044b\\u0439\", \"\\u0442\\u0435\\u043c\\u043f\\u0435\\u0440\\u0430\\u0442\\u0443\\u0440\\u0430\", \"\\u0436\\u0438\\u0442\\u0435\\u043b\\u044c\", \"\\u0432\\u044b\\u0445\\u043e\\u0434\\u0438\\u0442\\u044c\", \"\\u0432\\u0435\\u0440\\u043d\\u0443\\u0442\\u044c\\u0441\\u044f\", \"\\u0441\\u043b\\u043e\\u0432\\u043e\", \"\\u044d\\u0442\\u0430\\u0436\", \"\\u0443\\u0440\\u043e\\u0432\\u0435\\u043d\\u044c\", \"\\u0443\\u043f\\u0440\\u0430\\u0432\\u043b\\u044f\\u0442\\u044c\", \"\\u0443\\u0441\\u0442\\u0440\\u0430\\u043d\\u0438\\u0442\\u044c\", \"\\u0440\\u044f\\u0434\\u043e\\u043c\", \"\\u0440\\u0430\\u0439\\u043e\\u043d\", \"\\u0440\\u0435\\u0431\\u0451\\u043d\\u043e\\u043a\", \"\\u0440\\u0430\\u0441\\u043f\\u043e\\u043b\\u043e\\u0436\\u0438\\u0442\\u044c\", \"\\u043c\\u0435\\u0442\\u0440\", \"\\u043c\\u043d\\u043e\\u0433\\u043e\\u043a\\u0432\\u0430\\u0440\\u0442\\u0438\\u0440\\u043d\\u044b\\u0439\", \"\\u043c\\u0435\\u0440\\u0430\", \"\\u043d\\u0430\\u0448\", \"\\u0430\\u0434\\u0440\\u0435\\u0441\", \"\\u0433\\u043e\\u0440\\u043e\\u0434\", \"\\u043c\\u0435\\u0434\\u0438\\u0446\\u0438\\u043d\\u0441\\u043a\\u0438\\u0439\", \"\\u043f\\u0440\\u043e\\u0432\\u0435\\u0441\\u0442\\u0438\", \"\\u043f\\u0440\\u043e\\u0441\\u0438\\u0442\\u044c\", \"\\u043f\\u0440\\u043e\\u0432\\u0435\\u0440\\u043a\\u0430\", \"\\u043e\\u0431\\u043b\\u0430\\u0441\\u0442\\u044c\", \"\\u0440\\u0430\\u0431\\u043e\\u0442\\u0430\\u0442\\u044c\", \"\\u0433\\u043e\\u0434\", \"\\u0440\\u0430\\u0431\\u043e\\u0442\\u0430\", \"\\u0432\\u0441\\u0451\", \"\\u0441\\u0432\\u043e\\u0439\", \"\\u043f\\u0440\\u0438\\u043d\\u044f\\u0442\\u044c\", \"\\u0432\\u0435\\u0441\\u044c\", \"\\u0447\\u0435\\u043b\\u043e\\u0432\\u0435\\u043a\", \"\\u0434\\u0430\\u043d\\u043d\\u044b\\u0439\", \"\\u0437\\u0434\\u0440\\u0430\\u0432\\u0441\\u0442\\u0432\\u0443\\u0439\\u0442\\u0435\", \"\\u0434\\u0435\\u043d\\u044c\", \"\\u0434\\u043e\\u0431\\u0440\\u044b\\u0439\", \"\\u043f\\u043e\\u0436\\u0430\\u043b\\u0443\\u0439\\u0441\\u0442\\u0430\", \"\\u0430\\u043f\\u0440\\u0435\\u043b\\u044c\", \"\\u0441\\u0430\\u0434\", \"\\u0440\\u043e\\u0434\\u0438\\u0442\\u0435\\u043b\\u044c\", \"\\u0437\\u0430\\u0431\\u0440\\u0430\\u0442\\u044c\", \"\\u0441\\u0432\\u044f\\u0437\\u0430\\u0442\\u044c\\u0441\\u044f\", \"\\u0443\\u043a\\u0440\\u0430\\u0438\\u043d\\u0430\", \"\\u043c\\u0430\\u0440\\u0442\", \"\\u044d\\u043a\\u0441\\u043f\\u0435\\u0440\\u0442\\u0438\\u0437\\u0430\", \"\\u043e\\u0431\\u044a\\u0451\\u043c\", \"\\u043e\\u0442\\u043c\\u0435\\u043d\\u0438\\u0442\\u044c\", \"\\u043d\\u0430\\u0434\\u043b\\u0435\\u0436\\u0430\\u0449\\u0438\\u0439\", \"\\u043f\\u0440\\u0438\\u0445\\u043e\\u0434\\u0438\\u0442\\u044c\", \"\\u043c\\u0430\\u043c\\u0430\", \"\\u0441\\u044b\\u043d\", \"\\u0440\\u0435\\u0439\\u0441\", \"\\u0437\\u0430\\u043f\\u0440\\u0435\\u0442\\u0438\\u0442\\u044c\", \"\\u0441\\u043f\\u0435\\u0446\\u0438\\u0430\\u043b\\u0438\\u0441\\u0442\", \"\\u0437\\u0430\\u043a\\u043e\\u043d\\u043d\\u043e\", \"\\u0432\\u044a\\u0435\\u0437\\u0434\", \"\\u043f\\u0440\\u0435\\u0434\\u0441\\u0442\\u0430\\u0432\\u0438\\u0442\\u0435\\u043b\\u044c\", \"\\u043f\\u0440\\u0430\\u0437\\u0434\\u043d\\u0438\\u043a\", \"\\u0442\\u0443\\u0440\\u043e\\u043f\\u0435\\u0440\\u0430\\u0442\\u043e\\u0440\", \"\\u043a\\u0430\\u0437\\u0430\\u0445\\u0441\\u0442\\u0430\\u043d\", \"\\u0430\\u0434\\u043c\\u0438\\u043d\\u0438\\u0441\\u0442\\u0440\\u0430\\u0446\\u0438\\u044f\", \"\\u0441\\u043b\\u043e\\u0436\\u0438\\u0442\\u044c\\u0441\\u044f\", \"\\u043e\\u0433\\u0440\\u0430\\u043d\\u0438\\u0447\\u0435\\u043d\\u0438\\u0435\", \"\\u0443\\u0442\\u0432\\u0435\\u0440\\u0436\\u0434\\u0430\\u0442\\u044c\", \"\\u043f\\u0440\\u0438\\u043b\\u0435\\u0442\\u0435\\u0442\\u044c\", \"\\u043e\\u0442\\u0434\\u0435\\u043b\\u044c\\u043d\\u044b\\u0439\", \"\\u0441\\u0430\\u043c\\u043e\\u043b\\u0451\\u0442\", \"\\u0441\\u0443\\u0434\", \"\\u043f\\u0430\\u0441\\u043f\\u043e\\u0440\\u0442\", \"\\u0442\\u0440\\u0435\\u0431\\u043e\\u0432\\u0430\\u043d\\u0438\\u0435\", \"\\u043c\\u043e\\u0441\\u043a\\u0432\\u0430\", \"\\u0434\\u043e\\u043a\\u0443\\u043c\\u0435\\u043d\\u0442\", \"\\u043f\\u0440\\u0435\\u0434\\u043e\\u0441\\u0442\\u0430\\u0432\\u0438\\u0442\\u044c\", \"\\u0441\\u0443\\u0442\\u043a\\u0438\", \"\\u0442\\u0435\\u0447\\u0435\\u043d\\u0438\\u0435\", \"\\u0441\\u0440\\u0435\\u0434\\u0441\\u0442\\u0432\\u043e\", \"\\u043f\\u043e\\u043b\\u043d\\u044b\\u0439\", \"\\u043c\\u0430\\u0439\", \"\\u0433\\u043e\\u0434\", \"\\u0434\\u0435\\u043d\\u044c\", \"\\u0441\\u0440\\u043e\\u043a\", \"\\u0437\\u0430\\u044f\\u0432\\u043b\\u0435\\u043d\\u0438\\u0435\", \"\\u0447\\u0430\\u0441\", \"\\u0441\\u0438\\u0442\\u0443\\u0430\\u0446\\u0438\\u044f\", \"\\u0434\\u0435\\u043d\\u0435\\u0436\\u043d\\u044b\\u0439\", \"\\u043c\\u043e\\u0447\\u044c\", \"\\u0441\\u0441\\u044b\\u043b\\u0430\\u0442\\u044c\\u0441\\u044f\", \"\\u043b\\u0438\\u0446\\u043e\", \"\\u0432\\u0440\\u0435\\u043c\\u044f\", \"\\u0441\\u0432\\u044f\\u0437\\u044c\", \"\\u0432\\u043e\\u0437\\u0432\\u0440\\u0430\\u0442\", \"\\u0434\\u043e\\u0431\\u0440\\u044b\\u0439\", \"\\u0434\\u043e\\u043b\\u0436\\u043d\\u044b\\u0439\", \"\\u0443\\u0441\\u043b\\u0443\\u0433\\u0430\", \"\\u0434\\u043e\\u0433\\u043e\\u0432\\u043e\\u0440\", \"\\u0440\\u0435\\u043c\\u043e\\u043d\\u0442\", \"\\u0432\\u043e\\u0434\\u0430\", \"\\u0441\\u0434\\u0430\\u0442\\u044c\", \"\\u043f\\u043e\\u0435\\u0437\\u0434\\u043a\\u0430\", \"\\u0437\\u0430\\u043c\\u0435\\u043d\\u0430\", \"\\u0437\\u0430\\u043a\\u043b\\u044e\\u0447\\u0438\\u0442\\u044c\", \"\\u043f\\u0430\\u043e\", \"\\u0437\\u0430\\u0434\\u043e\\u043b\\u0436\\u0435\\u043d\\u043d\\u043e\\u0441\\u0442\\u044c\", \"\\u043f\\u043e\\u0434\\u043f\\u0438\\u0441\\u0430\\u0442\\u044c\", \"\\u043f\\u043e\\u0433\\u0430\\u0448\\u0435\\u043d\\u0438\\u0435\", \"\\u0441\\u0442\\u0440\\u0430\\u0445\\u043e\\u0432\\u0430\\u043d\\u0438\\u0435\", \"\\u0438\\u0441\\u043f\\u043e\\u043b\\u043d\\u0438\\u0442\\u0435\\u043b\\u044c\", \"\\u043d\\u0435\\u0434\\u043e\\u0441\\u0442\\u0430\\u0442\\u043e\\u043a\", \"\\u0433\\u0440\\u0430\\u0444\\u0438\\u043a\", \"\\u043f\\u043b\\u0430\\u0442\\u0430\", \"\\u043c\\u0442\\u0441\", \"\\u043f\\u043e\\u0434\\u043a\\u043b\\u044e\\u0447\\u0438\\u0442\\u044c\", \"\\u043f\\u0440\\u0435\\u0434\\u043e\\u043f\\u043b\\u0430\\u0442\\u0430\", \"\\u0441\\u0442\\u0440\\u0430\\u0445\\u043e\\u0432\\u043e\\u0439\", \"\\u0430\\u0432\\u0430\\u043d\\u0441\", \"\\u0430\\u0432\\u0442\\u043e\", \"\\u0440\\u0430\\u0441\\u0442\\u043e\\u0440\\u0436\\u0435\\u043d\\u0438\\u0435\", \"\\u043e\\u0431\\u044a\\u044f\\u0441\\u043d\\u0435\\u043d\\u0438\\u0435\", \"\\u0437\\u0430\\u0451\\u043c\", \"\\u043e\\u0431\\u044f\\u0437\\u0430\\u0442\\u0435\\u043b\\u044c\\u0441\\u0442\\u0432\\u043e\", \"\\u043e\\u043a\\u0430\\u0437\\u0430\\u043d\\u0438\\u0435\", \"\\u0434\\u0435\\u0439\\u0441\\u0442\\u0432\\u0438\\u0442\\u0435\\u043b\\u044c\\u043d\\u043e\", \"\\u043f\\u043e\\u043f\\u0430\\u0441\\u0442\\u044c\", \"\\u043c\\u0430\\u0441\\u0442\\u0435\\u0440\", \"\\u043a\\u043e\\u043c\\u043f\\u0430\\u043d\\u0438\\u044f\", \"\\u0430\\u043a\\u0442\", \"\\u043a\\u0440\\u0435\\u0434\\u0438\\u0442\\u043d\\u044b\\u0439\", \"\\u0441\\u0430\\u043b\\u043e\\u043d\", \"\\u0440\\u0430\\u0437\\u0433\\u043e\\u0432\\u043e\\u0440\", \"\\u0443\\u0441\\u043b\\u043e\\u0432\\u0438\\u0435\", \"\\u0437\\u0432\\u043e\\u043d\\u043e\\u043a\", \"\\u0440\\u0430\\u0441\\u0447\\u0451\\u0442\", \"\\u0441\\u0432\\u044f\\u0437\\u044c\", \"\\u043f\\u043b\\u0430\\u0442\\u0451\\u0436\", \"\\u0433\\u0430\\u0440\\u0430\\u043d\\u0442\\u0438\\u0439\\u043d\\u044b\\u0439\", \"\\u0441\\u0447\\u0451\\u0442\", \"\\u0437\\u0432\\u043e\\u043d\\u0438\\u0442\\u044c\", \"\\u0440\\u0430\\u0431\\u043e\\u0442\\u0430\", \"\\u043f\\u0440\\u0438\\u0451\\u043c\", \"\\u043f\\u043e\\u0442\\u0440\\u0435\\u0431\\u0438\\u0442\\u0435\\u043b\\u044c\", \"\\u0442\\u0435\\u043b\\u0435\\u0444\\u043e\\u043d\", \"\\u0433\\u043e\\u0434\", \"\\u0447\\u0430\\u0441\\u0442\\u044c\", \"\\u043c\\u0430\\u0441\\u043a\\u0430\", \"\\u0433\\u0440\\u0443\\u043f\\u043f\\u0430\", \"\\u043f\\u0435\\u0440\\u0432\\u044b\\u0439\", \"\\u0432\\u043e\\u0434\\u0438\\u0442\\u0435\\u043b\\u044c\", \"\\u0432\\u0440\\u0430\\u0447\", \"\\u0432\\u044b\\u043f\\u0443\\u0441\\u043a\\u043d\\u043e\\u0439\", \"\\u0430\\u043d\\u0430\\u043b\\u0438\\u0437\", \"\\u043f\\u0435\\u0442\\u0435\\u0440\\u0431\\u0443\\u0440\\u0433\", \"\\u0441\\u0430\\u043d\\u043a\\u0442\", \"\\u0441\\u0430\\u043d\\u043f\\u0438\\u043d\", \"\\u0437\\u0430\\u043f\\u0430\\u0445\", \"\\u043e\\u0442\\u0434\\u044b\\u0445\", \"\\u0441\\u0430\\u043c\\u043e\\u0438\\u0437\\u043e\\u043b\\u044f\\u0446\\u0438\\u044f\", \"\\u043f\\u0440\\u0438\\u0435\\u0437\\u0434\", \"\\u0442\\u0440\\u0435\\u0431\\u043e\\u0432\\u0430\\u0442\\u044c\\u0441\\u044f\", \"\\u0440\\u0435\\u0433\\u0438\\u0441\\u0442\\u0440\\u0430\\u0446\\u0438\\u044f\", \"\\u0430\\u0432\\u0442\\u043e\\u0431\\u0443\\u0441\", \"\\u0433\\u043b\\u0430\\u0432\\u043d\\u043e\\u0435\", \"\\u043a\\u0430\\u0441\\u0441\\u0430\", \"\\u0440\\u0430\\u0437\\u044a\\u044f\\u0441\\u043d\\u0435\\u043d\\u0438\\u0435\", \"\\u0441\\u043e\\u0431\\u043b\\u044e\\u0434\\u0435\\u043d\\u0438\\u0435\", \"\\u043f\\u043e\\u043b\\u0438\\u043a\\u043b\\u0438\\u043d\\u0438\\u043a\\u0430\", \"\\u043a\\u043e\\u043b\\u044f\\u0441\\u043a\\u0430\", \"\\u0442\\u0435\\u0441\\u0442\\u0438\\u0440\\u043e\\u0432\\u0430\\u043d\\u0438\\u0435\", \"\\u043f\\u043e\\u0441\\u0442\\u043e\\u044f\\u043d\\u043d\\u044b\\u0439\", \"\\u0443\\u0447\\u0440\\u0435\\u0436\\u0434\\u0435\\u043d\\u0438\\u0435\", \"\\u0441\\u0430\\u043c\\u043e\\u0441\\u0442\\u043e\\u044f\\u0442\\u0435\\u043b\\u044c\\u043d\\u043e\", \"\\u043e\\u0440\\u0433\\u0430\\u043d\", \"\\u0437\\u0430\\u043f\\u0438\\u0441\\u044c\", \"\\u043f\\u0430\\u0441\\u0441\\u0430\\u0436\\u0438\\u0440\", \"\\u0442\\u0430\\u043a\\u0441\\u0438\", \"\\u0437\\u0430\\u0432\\u0435\\u0434\\u043e\\u0432\\u0430\\u0442\\u044c\", \"\\u0434\\u0435\\u0442\\u0441\\u043a\\u0438\\u0439\", \"\\u043e\\u0447\\u0435\\u043d\\u044c\", \"\\u043d\\u0430\\u0445\\u043e\\u0434\\u0438\\u0442\\u044c\\u0441\\u044f\", \"\\u043f\\u0440\\u043e\\u0445\\u043e\\u0434\\u0438\\u0442\\u044c\", \"\\u043f\\u043e\\u0441\\u0442\\u043e\\u044f\\u043d\\u043d\\u043e\", \"\\u0447\\u0435\\u043b\\u043e\\u0432\\u0435\\u043a\", \"\\u043c\\u0435\\u0441\\u0442\\u043e\", \"\\u0432\\u0441\\u0451\", \"\\u0440\\u0443\\u043a\\u0430\", \"\\u0434\\u043e\\u043a\\u0443\\u043c\\u0435\\u043d\\u0442\", \"\\u043f\\u0440\\u043e\\u0441\\u0438\\u0442\\u044c\", \"\\u0432\\u0435\\u0441\\u044c\", \"\\u0437\\u0434\\u0440\\u0430\\u0432\\u0441\\u0442\\u0432\\u0443\\u0439\\u0442\\u0435\", \"\\u0433\\u0440\\u0430\\u0436\\u0434\\u0430\\u043d\\u0438\\u043d\", \"\\u0442\\u0435\\u0440\\u0440\\u0438\\u0442\\u043e\\u0440\\u0438\\u044f\", \"\\u043c\\u0443\\u0441\\u043e\\u0440\", \"\\u043f\\u0440\\u0430\\u0432\\u0438\\u043b\\u043e\", \"\\u0440\\u043e\\u0441\\u0441\\u0438\\u0439\\u0441\\u043a\\u0438\\u0439\", \"\\u0441\\u043e\\u043e\\u0442\\u0432\\u0435\\u0442\\u0441\\u0442\\u0432\\u0438\\u0435\", \"\\u0444\\u0435\\u0434\\u0435\\u0440\\u0430\\u0446\\u0438\\u044f\", \"\\u043f\\u043b\\u043e\\u0449\\u0430\\u0434\\u043a\\u0430\", \"\\u0440\\u0430\\u0437\\u044a\\u044f\\u0441\\u043d\\u0438\\u0442\\u044c\", \"\\u043f\\u0435\\u0440\\u0438\\u043e\\u0434\", \"\\u0442\\u043a\\u043e\", \"\\u043e\\u0442\\u0445\\u043e\\u0434\", \"\\u043a\\u043e\\u043d\\u0442\\u0435\\u0439\\u043d\\u0435\\u0440\", \"\\u0432\\u044b\\u0432\\u043e\\u0437\", \"\\u043e\\u0441\\u0443\\u0449\\u0435\\u0441\\u0442\\u0432\\u043b\\u044f\\u0442\\u044c\", \"\\u0438\\u044e\\u043b\\u044c\", \"\\u0441\\u043e\\u0431\\u0441\\u0442\\u0432\\u0435\\u043d\\u043d\\u0438\\u043a\", \"\\u043f\\u043e\\u0441\\u0442\\u0430\\u043d\\u043e\\u0432\\u043b\\u0435\\u043d\\u0438\\u0435\", \"\\u0441\\u043e\\u0434\\u0435\\u0440\\u0436\\u0430\\u043d\\u0438\\u0435\", \"\\u0434\\u0435\\u044f\\u0442\\u0435\\u043b\\u044c\\u043d\\u043e\\u0441\\u0442\\u044c\", \"\\u0443\\u0447\\u0430\\u0441\\u0442\\u043e\\u043a\", \"\\u0442\\u0435\\u043b\\u043e\", \"\\u0437\\u0430\\u043a\\u043e\\u043d\\u043e\\u0434\\u0430\\u0442\\u0435\\u043b\\u044c\\u0441\\u0442\\u0432\\u043e\", \"\\u0444\\u0435\\u0434\\u0435\\u0440\\u0430\\u043b\\u044c\\u043d\\u044b\\u0439\", \"\\u0432\\u0430\\u043a\\u0446\\u0438\\u043d\\u0430\", \"\\u0443\\u0441\\u0442\\u0430\\u043d\\u043e\\u0432\\u043b\\u0435\\u043d\\u043d\\u044b\\u0439\", \"\\u043c\\u0438\\u043d\\u0443\\u0442\\u0430\", \"\\u0438\\u043d\\u043e\\u0439\", \"\\u043e\\u0431\\u044f\\u0437\\u0430\\u043d\\u043d\\u043e\\u0441\\u0442\\u044c\", \"\\u0438\\u043c\\u0443\\u0449\\u0435\\u0441\\u0442\\u0432\\u043e\", \"\\u0441\\u0430\\u043d\\u0438\\u0442\\u0430\\u0440\\u043d\\u044b\\u0439\", \"\\u0441\\u0442\\u0430\\u0442\\u044c\\u044f\", \"\\u0437\\u0430\\u043a\\u043e\\u043d\", \"\\u0430\\u0432\\u0442\\u043e\\u043c\\u043e\\u0431\\u0438\\u043b\\u044c\", \"\\u0441\\u043e\\u0433\\u043b\\u0430\\u0441\\u043d\\u043e\", \"\\u043f\\u0440\\u0430\\u0432\\u043e\", \"\\u0438\\u043c\\u0435\\u0442\\u044c\", \"\\u0437\\u0430\\u0449\\u0438\\u0442\\u0430\", \"\\u043e\\u0441\\u043d\\u043e\\u0432\\u0430\\u043d\\u0438\\u0435\", \"\\u043e\\u0440\\u0433\\u0430\\u043d\\u0438\\u0437\\u0430\\u0446\\u0438\\u044f\", \"\\u043f\\u0443\\u043d\\u043a\\u0442\", \"\\u043f\\u043e\\u0442\\u0440\\u0435\\u0431\\u0438\\u0442\\u0435\\u043b\\u044c\", \"\\u0434\\u043e\\u043b\\u0436\\u043d\\u044b\\u0439\", \"\\u0442\\u0430\\u043a\\u0436\\u0435\", \"\\u043c\\u0435\\u0441\\u0442\\u043e\"], \"Freq\": [2103.0, 2278.0, 1641.0, 1127.0, 1099.0, 1180.0, 1289.0, 725.0, 1052.0, 1407.0, 964.0, 968.0, 978.0, 923.0, 861.0, 897.0, 3844.0, 794.0, 909.0, 551.0, 910.0, 507.0, 501.0, 483.0, 1306.0, 604.0, 826.0, 606.0, 686.0, 388.0, 897.0040125734785, 1051.1474523590955, 415.68730698892415, 311.6112989917917, 270.11661076901, 234.1462138574092, 220.9043411053192, 241.16125067172396, 213.94786329130756, 225.94856064398698, 190.01085081087348, 190.1013616929682, 175.5532427990024, 173.53442768193517, 145.67420724675532, 139.04118096949188, 146.78955898309923, 135.81160192268126, 131.53916386768202, 128.30357487962866, 125.15384052793047, 122.00723367963627, 119.51476517390739, 116.47683906890201, 115.59582836187008, 115.24874550275962, 112.00494098337636, 106.36356668095557, 118.37691408471683, 101.90549729518266, 1264.4331951722843, 660.661007649695, 186.41566895009367, 133.40127706046252, 1177.369008545403, 127.36013080240504, 353.1042367462503, 192.48692326330902, 528.9879796344487, 593.7329949540778, 222.7651822911182, 1012.8941646791999, 250.81435994688567, 444.09680104432493, 757.8335186740625, 303.42991346398577, 505.67617609009295, 270.9005638424187, 377.53407607837875, 346.0031935883257, 383.61452618518496, 384.3714753672622, 297.2103828140124, 489.6125250615378, 322.2978847649301, 272.17107709092494, 361.45840516733807, 324.8108337500396, 777.8922985658664, 298.88812501321195, 309.6654550642214, 395.83956355815684, 359.4641549557388, 405.2213735828109, 304.8812384204827, 354.12781726330684, 334.58920653840454, 1640.954034760594, 860.7360911615664, 793.9678792307798, 603.9281886299722, 423.5098447762937, 353.21201256617525, 280.81156425169155, 260.5848773244937, 254.65895112002715, 919.9416412359318, 960.2137012319026, 198.26906718573267, 196.51239397806322, 194.8011930696565, 194.4997772730521, 189.2803258057083, 166.80143473138276, 174.92098328216434, 133.4330992086845, 131.50400934348505, 126.82517070650879, 125.950830651344, 124.298252639366, 112.86035637184634, 112.6074744979074, 118.18891670005112, 107.39176273163262, 107.40044418054293, 105.30423899229599, 103.00839130082399, 2042.3278491880471, 114.61486178576423, 226.66287083939824, 1872.8276653445216, 332.74551217097206, 671.1112197101111, 143.62715446238926, 227.6401656869065, 400.6273947514391, 362.5350462357188, 1342.204603922816, 645.936209643076, 414.0660721865205, 265.6517613169048, 661.3187097217443, 417.8631016400979, 318.55525756005045, 326.2572746508142, 249.29352802414166, 294.49562361076573, 229.0018689278209, 367.7788590969865, 337.64769362645245, 318.24967666904143, 313.01775753453757, 203.3418836772089, 199.0623906430359, 198.74369632687606, 174.13596727644605, 160.7176948999495, 159.1583483611925, 213.03700259924716, 144.12579361352314, 127.29578164650484, 124.1092457248138, 117.55866714788607, 103.70948508317548, 101.06798575601225, 101.0194161637826, 100.38607499748203, 98.63661391008485, 96.26797363194483, 91.72014274282338, 91.15924872495982, 90.45402555948161, 88.17998129413382, 86.259953173655, 83.31935691200158, 82.72567592607746, 80.42248491878078, 76.75761663720178, 206.0162530826179, 293.7040475489913, 281.1624214059621, 140.03331511808247, 272.736079193192, 251.10274731673536, 754.2801823220215, 478.7669264243306, 186.6638636168805, 308.224394225286, 247.6796216308415, 269.2254052382106, 328.88189617326003, 253.72796535861832, 591.6557569312248, 417.55474579867297, 521.4296450834478, 231.68854049524776, 516.6932621171679, 474.46501026219124, 410.6724246065093, 326.9798697188951, 434.8888376609535, 525.3439353418242, 633.0115845501421, 385.0030460503614, 209.83270603097935, 231.29519661074318, 1179.0538068631938, 293.412926434737, 273.26957751888415, 267.6592508613805, 264.382920952641, 242.51872377646876, 197.66002704591278, 188.6276501470501, 173.60572334636993, 166.00104907089852, 160.16444607895153, 158.1698794737944, 145.395605901477, 142.66564903035018, 130.51586435450136, 129.67007326117783, 128.1588817718187, 121.28169858155562, 119.36846225435629, 117.14417808749346, 116.62066574826247, 113.71775592331704, 112.83088909003443, 108.3395869704869, 104.54209101383168, 100.50787772638026, 92.91942414486832, 94.14043414532762, 86.36387056810054, 82.92190813444608, 288.4622517595466, 864.2905054083836, 176.66783685802653, 170.72533791805097, 141.02660812722274, 293.2631079132869, 435.7892308200898, 705.794084751274, 253.75717762158786, 162.0062534775434, 267.71787686037766, 702.172724883655, 294.9625736387532, 238.04982091801088, 302.6008155219749, 490.6690472516995, 292.28298382119385, 332.3724367629971, 278.71319235746785, 228.12453939621432, 220.92439702737727, 208.87312530288503, 237.32877431294847, 238.60134015457498, 255.384487068139, 226.47858475467794, 197.87332056841166, 416.4837977059686, 363.5980197971169, 351.27265156723576, 232.081418130611, 203.62899555004964, 193.56420185471646, 174.0862729495215, 154.21552049151347, 150.99559500596808, 144.02935763561646, 136.07526612999928, 125.18421124821988, 123.30160549493287, 122.03271705901268, 115.13204883952501, 111.61016700644937, 110.42161970361339, 106.24556022396717, 104.86284828373336, 100.61996598619729, 95.60189760647293, 93.3781288434778, 89.97429277064263, 89.08347364588636, 87.00656133063254, 84.14161284617497, 83.72080649918009, 81.76353068204394, 75.69043053774175, 73.42542086041354, 122.25543218886824, 146.0562415403085, 375.4053870043537, 254.34205023254566, 361.7121024705539, 295.4973130882576, 157.96384297438013, 270.61668248085954, 418.0520641930828, 177.22868396631463, 346.4399544151568, 477.1348837896131, 784.2987276045001, 333.49134809474054, 241.09736560716397, 201.44361738296078, 272.034911044478, 216.96600210754607, 291.1160070277865, 156.8709173498874, 166.22310778442417, 208.06375986483263, 192.04172969518982, 221.1602279320204, 184.53170833883115, 174.32753288972242, 1126.6899623938443, 1098.4598361627288, 550.6580648303132, 507.0177094695472, 500.77622277806387, 283.63312714503394, 261.356586623861, 151.38152939536505, 143.13313373236053, 124.84241465755633, 122.56490437697954, 112.1484335581909, 109.68436394544962, 106.25490332536484, 102.95478085132994, 100.01159009079143, 97.62702758933834, 91.00000383998838, 85.78759572439694, 84.32962068699756, 84.16633403317024, 80.3664998120786, 79.39173989836796, 78.75695319032612, 78.80970249508228, 78.26903524304916, 76.7976340642004, 76.31853915983837, 74.8590210084491, 73.81512014035509, 183.8554605382597, 759.4025473772418, 215.2880626697102, 92.93330522445477, 130.42335408500347, 88.88015362073158, 205.51406263679056, 189.3168453723003, 87.37985841972532, 240.4653425706388, 151.22122399577668, 134.0836414637516, 193.67632084907618, 139.07674893742046, 188.9674927628903, 113.6334235877873, 122.49275592492201, 134.13139401844532, 135.59172571632584, 113.2425643612617, 387.47850778575406, 324.22348072663635, 302.7580416767385, 278.77773877482656, 276.7965954184582, 196.92735263390787, 180.91349696073115, 164.23414204297464, 164.19008589166017, 156.4642522783636, 147.36538074801672, 144.37259241507996, 141.94560704268915, 140.34217552407205, 134.26464796122687, 128.98867540437382, 124.67539113228128, 119.78713608929628, 117.96034514453237, 116.67551695636335, 107.13695100651756, 99.68616144624161, 99.31793892546962, 96.05323392221284, 95.62161613903409, 94.0175026366505, 92.76302272608976, 91.23711327647075, 90.21748908983459, 92.83249738664341, 115.93998772159149, 107.25736985442713, 336.46818748974295, 222.8160799374312, 399.53399328153864, 117.17261492374922, 161.6358326058193, 212.84000191613922, 197.5652023080696, 245.5991116241647, 118.11176502594097, 132.88547219027822, 132.49410119194692, 126.17246241120351, 124.96635463493654, 724.4631790564783, 482.7366237064726, 316.45640559543153, 310.6900725108971, 245.07326131064755, 232.6061035653373, 227.64338148338607, 225.4443660474242, 196.99285158784213, 192.08696050866413, 170.36490995534993, 165.12536777498804, 162.4139491536317, 159.39242120218208, 152.95589669791872, 144.58395649787604, 140.52703810665128, 262.5570731953166, 132.55223396570042, 129.65000053445073, 129.0963797936386, 124.9054775952937, 109.43941923719359, 108.7394795794502, 101.57882187004583, 98.84468835798846, 99.12777329135051, 95.26720494462677, 95.28513365707303, 90.66888418634596, 255.98823810072136, 163.56750566507517, 259.2964017072058, 154.05325452688683, 233.37313727068886, 350.2125231300259, 290.39856394351494, 178.0359668812047, 180.9011171589844, 209.60573484180406, 182.75687022523448, 174.91514518697753, 181.33407173095043, 171.19883342021342, 159.08746771451771], \"Total\": [2103.0, 2278.0, 1641.0, 1127.0, 1099.0, 1180.0, 1289.0, 725.0, 1052.0, 1407.0, 964.0, 968.0, 978.0, 923.0, 861.0, 897.0, 3844.0, 794.0, 909.0, 551.0, 910.0, 507.0, 501.0, 483.0, 1306.0, 604.0, 826.0, 606.0, 686.0, 388.0, 897.9506313612204, 1052.9271527121475, 416.6343138771013, 312.5604838783565, 271.0677035844147, 235.0928186694217, 221.85128428324248, 242.19892876199714, 214.8940728110961, 226.97323801812206, 190.9572890550241, 191.04940261186454, 176.50029601347467, 174.4814368543448, 146.62062754637137, 139.9882696297324, 147.81445568123215, 136.76324724346694, 132.48587117862945, 129.25091895138195, 126.10146133515745, 122.95796341963282, 120.46119767851202, 117.4272342008985, 116.54255147863232, 116.1961064810854, 112.95154178766292, 107.31030848632759, 119.43878131785156, 102.85176222562491, 1289.3543527483466, 686.7762725506688, 191.8161229187687, 135.49761119057644, 1407.51654005334, 129.2654312784622, 388.4968663668605, 201.64699912033996, 609.1356841985762, 692.9009881719531, 238.6646991181473, 1306.330717019449, 274.06878877928744, 551.7800515293211, 1040.315675259207, 357.1277213577197, 699.4558512357071, 321.18664710458114, 498.61671558596163, 458.3953144640534, 547.0885221300841, 557.6553494784382, 383.86432452599996, 910.5013474307233, 476.1701808067222, 347.93664605176, 633.5136457968775, 519.2922359540541, 3844.9508100292296, 470.88930038236145, 527.0804816929502, 1281.976939772245, 1012.7390012288333, 2278.88890448363, 522.67343438358, 1315.0047418869954, 1108.9538550149502, 1641.9164374291433, 861.6982895945619, 794.9309221614229, 604.8905675099631, 424.4724224637182, 354.17475407002615, 281.77412608153054, 261.54732592825536, 255.62399329822998, 923.5762631392782, 964.6503828358364, 199.2332663347885, 197.47586917101995, 195.76411734078033, 195.46216172004523, 190.24503506067467, 167.7666677153871, 176.05475278111385, 134.40196463156914, 132.46637204044058, 127.78920800077026, 126.92449967631691, 125.26238525760256, 113.82311896378397, 113.5697333766008, 119.23220488783821, 108.35466755278203, 108.36430873068836, 106.26747849468406, 103.97137567470511, 2103.2193051109725, 116.05843209539557, 237.03312800686138, 2278.88890448363, 370.77496597965234, 803.3857771850429, 152.70083804445719, 282.6909532786219, 607.2539359111769, 570.0302103245189, 3844.9508100292296, 1435.5746442063346, 740.7605521351165, 381.79719620217617, 1637.1631452509466, 845.0497546156131, 664.4504524082832, 868.1175726307831, 569.8490673589594, 1315.0047418869954, 612.5867162471656, 368.72494408973665, 338.5936776794293, 319.19496763156565, 313.96345403989926, 204.28809278963337, 200.00832922761953, 199.69033280149563, 175.08200076616518, 161.66333504327338, 160.10409363909272, 214.43283456510378, 145.07179201388885, 128.2429317300221, 125.05586920604577, 118.50825037164776, 104.65825279803171, 102.01382769419546, 101.96523836640827, 101.33318687756703, 99.58299772926127, 97.21398940193589, 92.66732360647273, 92.10501917627184, 91.40049304206282, 89.12549604904468, 87.20623182509105, 84.26908982855524, 83.67149043443229, 81.36829340688313, 77.70534118687166, 209.27046577510802, 301.13660211725494, 288.9338991209638, 143.68362963757247, 285.69505953584496, 271.6071957725642, 909.360401943945, 558.8233210216606, 205.21483287135734, 371.364793865839, 292.6716113195125, 323.9841489480152, 427.1170755394765, 313.9410314819957, 900.6768679822759, 639.2746833486465, 905.961322456342, 305.5777440699215, 1012.7390012288333, 1009.9002071779529, 826.4626665557241, 568.889465764498, 1108.9538550149502, 1719.6718563412269, 3844.9508100292296, 1637.1631452509466, 270.02362258913433, 1315.0047418869954, 1180.5736650446781, 294.3717601362854, 274.22735170702356, 268.61654275410086, 265.3404644417518, 243.47668892014352, 198.61794946325014, 189.58620389607438, 174.56328201020264, 166.96046902429316, 161.12288612734076, 159.1541456700763, 146.3548885268732, 143.62431998767389, 131.4758526374057, 130.62853130836467, 129.11697518407755, 122.24081295465544, 120.32653613423273, 118.10295416013325, 117.57825433380228, 114.67504720096134, 113.78934265013459, 109.30058142967053, 105.50206118280984, 101.46487558030537, 93.87781299050877, 95.15687331643836, 87.32588689252704, 83.88032737537002, 292.2859364472907, 978.6483476479983, 188.2052802208639, 181.68136343493688, 149.16229786919516, 357.34284580217235, 573.8071105466712, 1107.7928719831496, 334.92518103945383, 185.87946724752393, 399.2490792565953, 1719.6718563412269, 523.7749758481776, 370.6437990495252, 560.6971061181285, 1440.9817988051782, 636.9771692863727, 1281.976939772245, 851.2690344982627, 568.9933948982093, 609.1139690032435, 495.3896739618558, 916.2942532281995, 1435.5746442063346, 3844.9508100292296, 1637.1631452509466, 740.7605521351165, 417.4463371713445, 364.5589319234462, 352.23352847304886, 233.043164239739, 204.59037793185638, 194.52469438905604, 175.04798371492845, 155.17707823697094, 151.95715990751845, 144.99008876220725, 137.03686477424927, 126.14599549039072, 124.26244362719602, 122.9947808881563, 116.09201949480799, 112.57261371170513, 111.38289776548025, 107.20744234690338, 105.8245659330302, 101.58071797861169, 96.5710185939879, 94.33822051168362, 90.93536105939761, 90.04529228248605, 87.96766323594868, 85.1024068740845, 84.68333068933057, 82.7247120840746, 76.6526291814677, 74.38570368783414, 125.57984629401511, 158.38645157089272, 493.92582574184064, 313.1874415982531, 495.42754452494097, 510.3349562455475, 207.1696292899842, 458.6794398222574, 910.5013474307233, 267.7457004495375, 826.4626665557241, 1440.9817988051782, 3844.9508100292296, 868.1175726307831, 568.889465764498, 408.37186366586445, 851.9216743990728, 522.67343438358, 1315.0047418869954, 264.88342188801164, 326.6568114588675, 800.2249301323195, 612.4674855392102, 1407.51654005334, 1637.1631452509466, 898.5630355497655, 1127.650823951726, 1099.4121863888374, 551.6105820144134, 507.9705438082032, 501.73111120754106, 284.58753343626677, 262.30993058129644, 152.33383304024844, 144.08548137464606, 125.79535069340604, 123.51804022152216, 113.10138792037498, 110.63671217599224, 107.20780268228056, 103.90729776026603, 100.96575499446277, 98.57973961223912, 91.95233655730861, 86.73976798398846, 85.28246852482738, 85.1184973645525, 81.31986064786, 80.34459455730587, 79.7093104565789, 79.76765126941423, 79.22193225899777, 77.7502815253052, 77.27061253654357, 75.81393554279524, 74.76807869370113, 189.28089645203846, 968.5729385677286, 256.52960359072534, 98.76520931699899, 157.19015569559815, 94.66575243014135, 362.17154234645045, 336.4441902265523, 94.33098950686382, 612.4674855392102, 264.3484742916723, 224.19495824991682, 519.2922359540541, 268.4738495511027, 636.9771692863727, 171.26246346875453, 365.7661922379193, 1040.315675259207, 1440.9817988051782, 333.0167391286931, 388.44116138274285, 325.1869680281442, 303.7222320476781, 279.7418416022556, 277.75928680133865, 197.90095032126808, 181.8771404631972, 165.1972492469189, 165.15325443893548, 157.42895683360746, 148.3296807235839, 145.3367925492256, 142.9104031488249, 141.30754707493912, 135.228825675869, 129.95265064723932, 125.63831299382524, 120.75052753299774, 118.92403125030694, 117.640671858177, 108.10170052127364, 100.64878866596307, 100.28338288781754, 97.01784431653488, 96.58552377583767, 94.98034801443919, 93.72857413833594, 92.2004848072668, 91.18173222241899, 93.8316718361547, 117.49837473328364, 109.57591451146752, 397.8049998978838, 273.7087801155488, 606.689630813759, 132.93105920761707, 278.4488060618477, 495.3896739618558, 572.1478655366693, 1281.976939772245, 159.10472761449185, 495.42754452494097, 1719.6718563412269, 609.1139690032435, 1435.5746442063346, 725.4353366968082, 483.7080887644125, 317.4277080382323, 311.66219733353, 246.08964786607157, 233.57967100540463, 228.6145031268185, 226.41606976705208, 197.96580991401262, 193.05899974583798, 171.33646423397977, 166.09670081707463, 163.38524424248007, 160.36369350118403, 153.92790004940358, 145.55565599210294, 141.49889139383055, 264.4112269987062, 133.5239208909232, 130.62162871430712, 130.06813454223536, 125.88037208104754, 110.41131328387051, 109.7104535089758, 102.55025103944465, 99.81744568443543, 100.10591105509174, 96.23883348556285, 96.25835241578737, 91.64112416691663, 321.710208907493, 193.1830791819206, 398.40515446446676, 193.72669480334838, 364.4722854697776, 723.7123261246666, 574.3232631460342, 254.5854871778913, 270.0237994631667, 411.9360134349798, 415.28197564536674, 365.7661922379193, 898.5630355497655, 602.9699997452212, 572.1478655366693], \"Category\": [\"Default\", \"Default\", \"Default\", \"Default\", \"Default\", \"Default\", \"Default\", \"Default\", \"Default\", \"Default\", \"Default\", \"Default\", \"Default\", \"Default\", \"Default\", \"Default\", \"Default\", \"Default\", \"Default\", \"Default\", \"Default\", \"Default\", \"Default\", \"Default\", \"Default\", \"Default\", \"Default\", \"Default\", \"Default\", \"Default\", \"Topic1\", \"Topic1\", \"Topic1\", \"Topic1\", \"Topic1\", \"Topic1\", \"Topic1\", \"Topic1\", \"Topic1\", \"Topic1\", \"Topic1\", \"Topic1\", \"Topic1\", \"Topic1\", \"Topic1\", \"Topic1\", \"Topic1\", \"Topic1\", \"Topic1\", \"Topic1\", \"Topic1\", \"Topic1\", \"Topic1\", \"Topic1\", \"Topic1\", \"Topic1\", \"Topic1\", \"Topic1\", \"Topic1\", \"Topic1\", \"Topic1\", \"Topic1\", \"Topic1\", \"Topic1\", \"Topic1\", \"Topic1\", \"Topic1\", \"Topic1\", \"Topic1\", \"Topic1\", \"Topic1\", \"Topic1\", \"Topic1\", \"Topic1\", \"Topic1\", \"Topic1\", \"Topic1\", \"Topic1\", \"Topic1\", \"Topic1\", \"Topic1\", \"Topic1\", \"Topic1\", \"Topic1\", \"Topic1\", \"Topic1\", \"Topic1\", \"Topic1\", \"Topic1\", \"Topic1\", \"Topic1\", \"Topic1\", \"Topic1\", \"Topic1\", \"Topic1\", \"Topic1\", \"Topic1\", \"Topic2\", \"Topic2\", \"Topic2\", \"Topic2\", \"Topic2\", \"Topic2\", \"Topic2\", \"Topic2\", \"Topic2\", \"Topic2\", \"Topic2\", \"Topic2\", \"Topic2\", \"Topic2\", \"Topic2\", \"Topic2\", \"Topic2\", \"Topic2\", \"Topic2\", \"Topic2\", \"Topic2\", \"Topic2\", \"Topic2\", \"Topic2\", \"Topic2\", \"Topic2\", \"Topic2\", \"Topic2\", \"Topic2\", \"Topic2\", \"Topic2\", \"Topic2\", \"Topic2\", \"Topic2\", \"Topic2\", \"Topic2\", \"Topic2\", \"Topic2\", \"Topic2\", \"Topic2\", \"Topic2\", \"Topic2\", \"Topic2\", \"Topic2\", \"Topic2\", \"Topic2\", \"Topic2\", \"Topic2\", \"Topic2\", \"Topic2\", \"Topic2\", \"Topic3\", \"Topic3\", \"Topic3\", \"Topic3\", \"Topic3\", \"Topic3\", \"Topic3\", \"Topic3\", \"Topic3\", \"Topic3\", \"Topic3\", \"Topic3\", \"Topic3\", \"Topic3\", \"Topic3\", \"Topic3\", \"Topic3\", \"Topic3\", \"Topic3\", \"Topic3\", \"Topic3\", \"Topic3\", \"Topic3\", \"Topic3\", \"Topic3\", \"Topic3\", \"Topic3\", \"Topic3\", \"Topic3\", \"Topic3\", \"Topic3\", \"Topic3\", \"Topic3\", \"Topic3\", \"Topic3\", \"Topic3\", \"Topic3\", \"Topic3\", \"Topic3\", \"Topic3\", \"Topic3\", \"Topic3\", \"Topic3\", \"Topic3\", \"Topic3\", \"Topic3\", \"Topic3\", \"Topic3\", \"Topic3\", \"Topic3\", \"Topic3\", \"Topic3\", \"Topic3\", \"Topic3\", \"Topic3\", \"Topic3\", \"Topic3\", \"Topic3\", \"Topic4\", \"Topic4\", \"Topic4\", \"Topic4\", \"Topic4\", \"Topic4\", \"Topic4\", \"Topic4\", \"Topic4\", \"Topic4\", \"Topic4\", \"Topic4\", \"Topic4\", \"Topic4\", \"Topic4\", \"Topic4\", \"Topic4\", \"Topic4\", \"Topic4\", \"Topic4\", \"Topic4\", \"Topic4\", \"Topic4\", \"Topic4\", \"Topic4\", \"Topic4\", \"Topic4\", \"Topic4\", \"Topic4\", \"Topic4\", \"Topic4\", \"Topic4\", \"Topic4\", \"Topic4\", \"Topic4\", \"Topic4\", \"Topic4\", \"Topic4\", \"Topic4\", \"Topic4\", \"Topic4\", \"Topic4\", \"Topic4\", \"Topic4\", \"Topic4\", \"Topic4\", \"Topic4\", \"Topic4\", \"Topic4\", \"Topic4\", \"Topic4\", \"Topic4\", \"Topic4\", \"Topic4\", \"Topic4\", \"Topic4\", \"Topic4\", \"Topic5\", \"Topic5\", \"Topic5\", \"Topic5\", \"Topic5\", \"Topic5\", \"Topic5\", \"Topic5\", \"Topic5\", \"Topic5\", \"Topic5\", \"Topic5\", \"Topic5\", \"Topic5\", \"Topic5\", \"Topic5\", \"Topic5\", \"Topic5\", \"Topic5\", \"Topic5\", \"Topic5\", \"Topic5\", \"Topic5\", \"Topic5\", \"Topic5\", \"Topic5\", \"Topic5\", \"Topic5\", \"Topic5\", \"Topic5\", \"Topic5\", \"Topic5\", \"Topic5\", \"Topic5\", \"Topic5\", \"Topic5\", \"Topic5\", \"Topic5\", \"Topic5\", \"Topic5\", \"Topic5\", \"Topic5\", \"Topic5\", \"Topic5\", \"Topic5\", \"Topic5\", \"Topic5\", \"Topic5\", \"Topic5\", \"Topic5\", \"Topic5\", \"Topic5\", \"Topic5\", \"Topic5\", \"Topic5\", \"Topic5\", \"Topic6\", \"Topic6\", \"Topic6\", \"Topic6\", \"Topic6\", \"Topic6\", \"Topic6\", \"Topic6\", \"Topic6\", \"Topic6\", \"Topic6\", \"Topic6\", \"Topic6\", \"Topic6\", \"Topic6\", \"Topic6\", \"Topic6\", \"Topic6\", \"Topic6\", \"Topic6\", \"Topic6\", \"Topic6\", \"Topic6\", \"Topic6\", \"Topic6\", \"Topic6\", \"Topic6\", \"Topic6\", \"Topic6\", \"Topic6\", \"Topic6\", \"Topic6\", \"Topic6\", \"Topic6\", \"Topic6\", \"Topic6\", \"Topic6\", \"Topic6\", \"Topic6\", \"Topic6\", \"Topic6\", \"Topic6\", \"Topic6\", \"Topic6\", \"Topic6\", \"Topic6\", \"Topic6\", \"Topic6\", \"Topic6\", \"Topic6\", \"Topic7\", \"Topic7\", \"Topic7\", \"Topic7\", \"Topic7\", \"Topic7\", \"Topic7\", \"Topic7\", \"Topic7\", \"Topic7\", \"Topic7\", \"Topic7\", \"Topic7\", \"Topic7\", \"Topic7\", \"Topic7\", \"Topic7\", \"Topic7\", \"Topic7\", \"Topic7\", \"Topic7\", \"Topic7\", \"Topic7\", \"Topic7\", \"Topic7\", \"Topic7\", \"Topic7\", \"Topic7\", \"Topic7\", \"Topic7\", \"Topic7\", \"Topic7\", \"Topic7\", \"Topic7\", \"Topic7\", \"Topic7\", \"Topic7\", \"Topic7\", \"Topic7\", \"Topic7\", \"Topic7\", \"Topic7\", \"Topic7\", \"Topic7\", \"Topic7\", \"Topic8\", \"Topic8\", \"Topic8\", \"Topic8\", \"Topic8\", \"Topic8\", \"Topic8\", \"Topic8\", \"Topic8\", \"Topic8\", \"Topic8\", \"Topic8\", \"Topic8\", \"Topic8\", \"Topic8\", \"Topic8\", \"Topic8\", \"Topic8\", \"Topic8\", \"Topic8\", \"Topic8\", \"Topic8\", \"Topic8\", \"Topic8\", \"Topic8\", \"Topic8\", \"Topic8\", \"Topic8\", \"Topic8\", \"Topic8\", \"Topic8\", \"Topic8\", \"Topic8\", \"Topic8\", \"Topic8\", \"Topic8\", \"Topic8\", \"Topic8\", \"Topic8\", \"Topic8\", \"Topic8\", \"Topic8\", \"Topic8\", \"Topic8\", \"Topic8\"], \"logprob\": [30.0, 29.0, 28.0, 27.0, 26.0, 25.0, 24.0, 23.0, 22.0, 21.0, 20.0, 19.0, 18.0, 17.0, 16.0, 15.0, 14.0, 13.0, 12.0, 11.0, 10.0, 9.0, 8.0, 7.0, 6.0, 5.0, 4.0, 3.0, 2.0, 1.0, -4.0231, -3.8646, -4.7923, -5.0804, -5.2233, -5.3663, -5.4245, -5.3367, -5.4565, -5.4019, -5.5751, -5.5746, -5.6543, -5.6658, -5.8408, -5.8874, -5.8332, -5.9109, -5.9429, -5.9678, -5.9927, -6.0181, -6.0388, -6.0645, -6.0721, -6.0751, -6.1037, -6.1553, -6.0483, -6.1982, -3.6798, -4.329, -5.5942, -5.9288, -3.7512, -5.9752, -4.9554, -5.5622, -4.5512, -4.4358, -5.4161, -3.9016, -5.2975, -4.7262, -4.1917, -5.1071, -4.5963, -5.2205, -4.8885, -4.9758, -4.8726, -4.8706, -5.1278, -4.6286, -5.0467, -5.2158, -4.9321, -5.039, -4.1656, -5.1221, -5.0867, -4.8412, -4.9376, -4.8178, -5.1023, -4.9525, -5.0093, -3.2918, -3.937, -4.0178, -4.2914, -4.6462, -4.8277, -5.0571, -5.1319, -5.1549, -3.8705, -3.8277, -5.4052, -5.4141, -5.4228, -5.4244, -5.4516, -5.578, -5.5305, -5.8012, -5.8158, -5.852, -5.8589, -5.8721, -5.9687, -5.9709, -5.9225, -6.0183, -6.0182, -6.038, -6.06, -3.073, -5.9532, -5.2713, -3.1596, -4.8874, -4.1859, -5.7276, -5.267, -4.7018, -4.8017, -3.4927, -4.2241, -4.6688, -5.1126, -4.2006, -4.6597, -4.931, -4.9071, -5.1762, -5.0095, -5.2611, -4.5753, -4.6608, -4.7199, -4.7365, -5.1679, -5.1892, -5.1908, -5.3229, -5.4031, -5.4129, -5.1213, -5.5121, -5.6363, -5.6616, -5.7158, -5.8412, -5.867, -5.8675, -5.8738, -5.8913, -5.9156, -5.964, -5.9702, -5.9779, -6.0034, -6.0254, -6.0601, -6.0673, -6.0955, -6.1421, -5.1548, -4.8002, -4.8438, -5.5409, -4.8743, -4.9569, -3.857, -4.3116, -5.2535, -4.752, -4.9706, -4.8872, -4.6871, -4.9465, -4.0999, -4.4484, -4.2262, -5.0374, -4.2353, -4.3206, -4.465, -4.6929, -4.4077, -4.2187, -4.0323, -4.5295, -5.1365, -5.0391, -3.3495, -4.7404, -4.8115, -4.8323, -4.8446, -4.9309, -5.1355, -5.1822, -5.2652, -5.31, -5.3458, -5.3583, -5.4425, -5.4615, -5.5505, -5.557, -5.5687, -5.6239, -5.6398, -5.6586, -5.6631, -5.6883, -5.6961, -5.7367, -5.7724, -5.8118, -5.8903, -5.8772, -5.9634, -6.0041, -4.7574, -3.6601, -5.2477, -5.282, -5.4731, -4.7409, -4.3448, -3.8627, -4.8856, -5.3344, -4.8321, -3.8678, -4.7352, -4.9495, -4.7096, -4.2262, -4.7443, -4.6158, -4.7918, -4.9921, -5.0242, -5.0803, -4.9526, -4.9472, -4.8792, -4.9994, -5.1344, -4.1106, -4.2464, -4.2809, -4.6954, -4.8261, -4.8768, -4.9829, -5.1041, -5.1252, -5.1724, -5.2292, -5.3127, -5.3278, -5.3382, -5.3964, -5.4274, -5.4381, -5.4767, -5.4898, -5.5311, -5.5822, -5.6058, -5.6429, -5.6529, -5.6765, -5.7099, -5.715, -5.7386, -5.8158, -5.8462, -5.3363, -5.1584, -4.2144, -4.6038, -4.2516, -4.4538, -5.0801, -4.5417, -4.1068, -4.965, -4.2947, -3.9746, -3.4777, -4.3328, -4.6572, -4.8369, -4.5365, -4.7627, -4.4687, -5.087, -5.0291, -4.8046, -4.8847, -4.7436, -4.9246, -4.9815, -2.9961, -3.0215, -3.7121, -3.7946, -3.807, -4.3755, -4.4573, -5.0034, -5.0594, -5.1961, -5.2145, -5.3034, -5.3256, -5.3573, -5.3889, -5.4179, -5.442, -5.5123, -5.5713, -5.5884, -5.5904, -5.6366, -5.6488, -5.6568, -5.6561, -5.663, -5.682, -5.6883, -5.7076, -5.7216, -4.809, -3.3906, -4.6512, -5.4913, -5.1524, -5.5359, -4.6977, -4.7798, -5.5529, -4.5406, -5.0044, -5.1247, -4.757, -5.0882, -4.7816, -5.2902, -5.2151, -5.1244, -5.1135, -5.2936, -3.9889, -4.1671, -4.2356, -4.3181, -4.3253, -4.6657, -4.7505, -4.8473, -4.8475, -4.8957, -4.9556, -4.9762, -4.9931, -5.0045, -5.0487, -5.0888, -5.1228, -5.1628, -5.1782, -5.1892, -5.2745, -5.3465, -5.3502, -5.3837, -5.3882, -5.4051, -5.4185, -5.4351, -5.4463, -5.4178, -5.1955, -5.2733, -4.1301, -4.5422, -3.9583, -5.1849, -4.8632, -4.588, -4.6625, -4.4449, -5.1769, -5.0591, -5.062, -5.1109, -5.1205, -3.3616, -3.7676, -4.1899, -4.2083, -4.4455, -4.4977, -4.5193, -4.529, -4.6639, -4.6891, -4.8091, -4.8404, -4.8569, -4.8757, -4.9169, -4.9732, -5.0017, -4.3766, -5.0601, -5.0822, -5.0865, -5.1195, -5.2517, -5.2581, -5.3262, -5.3535, -5.3507, -5.3904, -5.3902, -5.4398, -4.4019, -4.8498, -4.3891, -4.9098, -4.4944, -4.0885, -4.2758, -4.7651, -4.7491, -4.6018, -4.7389, -4.7828, -4.7467, -4.8042, -4.8776], \"loglift\": [30.0, 29.0, 28.0, 27.0, 26.0, 25.0, 24.0, 23.0, 22.0, 21.0, 20.0, 19.0, 18.0, 17.0, 16.0, 15.0, 14.0, 13.0, 12.0, 11.0, 10.0, 9.0, 8.0, 7.0, 6.0, 5.0, 4.0, 3.0, 2.0, 1.0, 1.619, 1.6184, 1.6178, 1.617, 1.6166, 1.616, 1.6158, 1.6158, 1.6157, 1.6156, 1.6151, 1.6151, 1.6147, 1.6146, 1.6136, 1.6133, 1.6131, 1.6131, 1.6129, 1.6127, 1.6125, 1.6123, 1.6122, 1.612, 1.6119, 1.6119, 1.6117, 1.6112, 1.6111, 1.6108, 1.6006, 1.5813, 1.5915, 1.6045, 1.4415, 1.6052, 1.5246, 1.5736, 1.479, 1.4656, 1.5511, 1.3657, 1.5314, 1.403, 1.3033, 1.4571, 1.2957, 1.4498, 1.3419, 1.3388, 1.2651, 1.2479, 1.3642, 0.9997, 1.2298, 1.3745, 1.0589, 1.1509, 0.0222, 1.1655, 1.0882, 0.4449, 0.5843, -0.1069, 1.081, 0.3081, 0.4218, 1.7469, 1.7464, 1.7463, 1.7459, 1.7452, 1.7448, 1.7441, 1.7438, 1.7437, 1.7435, 1.7429, 1.7426, 1.7426, 1.7425, 1.7425, 1.7424, 1.7417, 1.741, 1.7402, 1.7402, 1.7399, 1.7398, 1.7397, 1.739, 1.739, 1.7387, 1.7385, 1.7385, 1.7384, 1.7382, 1.7181, 1.735, 1.7027, 1.5512, 1.6393, 1.5676, 1.6862, 1.5309, 1.3316, 1.2949, 0.695, 0.9489, 1.1658, 1.3848, 0.841, 1.0432, 1.0123, 0.7688, 0.9207, 0.2511, 0.7635, 1.9569, 1.9567, 1.9565, 1.9565, 1.9549, 1.9548, 1.9547, 1.9541, 1.9536, 1.9536, 1.953, 1.953, 1.9521, 1.9519, 1.9515, 1.9504, 1.9502, 1.9502, 1.9501, 1.95, 1.9497, 1.9492, 1.9492, 1.9491, 1.9488, 1.9486, 1.9482, 1.9481, 1.9478, 1.9472, 1.9438, 1.9345, 1.9322, 1.9338, 1.9131, 1.881, 1.7725, 1.8049, 1.8648, 1.7731, 1.7926, 1.7744, 1.6981, 1.7466, 1.5393, 1.5336, 1.4071, 1.6827, 1.2865, 1.2041, 1.2601, 1.4057, 1.0234, 0.7737, 0.1555, 0.512, 1.7073, 0.2216, 2.019, 2.017, 2.0168, 2.0167, 2.0167, 2.0163, 2.0154, 2.0152, 2.0148, 2.0145, 2.0143, 2.0141, 2.0137, 2.0136, 2.0129, 2.0129, 2.0128, 2.0124, 2.0123, 2.0121, 2.0121, 2.0119, 2.0118, 2.0114, 2.0111, 2.0108, 2.01, 2.0095, 2.0092, 2.0088, 2.0071, 1.896, 1.957, 1.9581, 1.9642, 1.8226, 1.7451, 1.5695, 1.7427, 1.8828, 1.6206, 1.1246, 1.4461, 1.5775, 1.4035, 0.943, 1.2413, 0.6704, 0.9037, 1.1063, 1.0061, 1.1567, 0.6694, 0.2257, -0.6915, 0.0422, 0.7002, 2.2975, 2.2972, 2.2971, 2.2957, 2.2951, 2.2949, 2.2943, 2.2936, 2.2935, 2.2932, 2.2928, 2.2922, 2.2921, 2.292, 2.2915, 2.2913, 2.2912, 2.2908, 2.2907, 2.2903, 2.2898, 2.2896, 2.2892, 2.2891, 2.2889, 2.2885, 2.2884, 2.2882, 2.2872, 2.2868, 2.273, 2.2188, 2.0255, 2.0917, 1.9853, 1.7534, 2.0287, 1.7722, 1.5215, 1.8872, 1.4304, 1.1946, 0.7101, 1.3431, 1.4414, 1.5932, 1.1583, 1.4206, 0.792, 1.776, 1.6243, 0.9528, 1.1401, 0.4491, 0.1169, 0.66, 2.4183, 2.4182, 2.4174, 2.4172, 2.4172, 2.4157, 2.4155, 2.4128, 2.4125, 2.4115, 2.4114, 2.4106, 2.4105, 2.4102, 2.4099, 2.4096, 2.4094, 2.4087, 2.4081, 2.4079, 2.4079, 2.4073, 2.4072, 2.4071, 2.407, 2.407, 2.4068, 2.4067, 2.4064, 2.4063, 2.39, 2.1758, 2.2438, 2.3582, 2.2324, 2.356, 1.8525, 1.8441, 2.3426, 1.4842, 1.8606, 1.9051, 1.4328, 1.7614, 1.2039, 2.0089, 1.3252, 0.3706, 0.0557, 1.3404, 2.4912, 2.4908, 2.4905, 2.4903, 2.4902, 2.4888, 2.4884, 2.4879, 2.4879, 2.4876, 2.4872, 2.4871, 2.4869, 2.4869, 2.4866, 2.4863, 2.486, 2.4857, 2.4856, 2.4855, 2.4848, 2.4841, 2.484, 2.4837, 2.4837, 2.4835, 2.4834, 2.4832, 2.4831, 2.483, 2.4804, 2.4723, 2.3263, 2.288, 2.076, 2.3675, 1.9498, 1.6489, 1.4304, 0.8413, 2.1958, 1.1778, -0.0696, 0.9194, 0.0524, 2.4939, 2.4932, 2.4922, 2.4921, 2.4911, 2.491, 2.491, 2.4909, 2.4903, 2.4902, 2.4895, 2.4894, 2.4893, 2.4891, 2.4889, 2.4885, 2.4883, 2.4882, 2.4879, 2.4878, 2.4877, 2.4874, 2.4864, 2.4863, 2.4857, 2.4854, 2.4854, 2.4851, 2.4851, 2.4846, 2.2667, 2.3288, 2.0657, 2.2661, 2.0494, 1.7694, 1.8133, 2.1376, 2.0947, 1.8196, 1.6744, 1.7575, 0.8948, 1.2362, 1.2153]}, \"token.table\": {\"Topic\": [3, 4, 1, 3, 3, 3, 6, 6, 7, 4, 8, 5, 1, 2, 3, 4, 5, 6, 7, 8, 6, 8, 7, 3, 5, 1, 3, 5, 2, 8, 1, 3, 4, 1, 2, 3, 4, 5, 6, 7, 8, 1, 3, 3, 3, 6, 6, 7, 1, 3, 5, 1, 3, 5, 2, 3, 1, 2, 3, 4, 5, 6, 7, 7, 1, 2, 3, 4, 5, 6, 7, 8, 1, 2, 3, 4, 5, 6, 7, 5, 8, 7, 4, 1, 1, 6, 2, 7, 2, 3, 4, 5, 6, 7, 8, 2, 3, 4, 6, 7, 3, 8, 2, 2, 5, 6, 7, 1, 2, 3, 4, 5, 6, 7, 8, 1, 2, 3, 4, 5, 7, 8, 1, 6, 1, 2, 3, 4, 5, 1, 5, 1, 2, 3, 4, 5, 6, 7, 8, 1, 3, 5, 7, 1, 8, 1, 2, 3, 4, 5, 7, 8, 6, 5, 7, 1, 1, 2, 4, 5, 8, 4, 8, 2, 2, 1, 3, 5, 1, 2, 3, 4, 5, 6, 2, 3, 7, 4, 4, 4, 5, 4, 7, 2, 6, 1, 2, 6, 1, 2, 5, 6, 8, 5, 8, 6, 2, 7, 7, 1, 3, 5, 5, 6, 8, 3, 5, 6, 2, 6, 2, 3, 6, 1, 2, 3, 4, 5, 7, 1, 2, 4, 6, 8, 8, 8, 1, 2, 3, 6, 4, 6, 1, 3, 6, 8, 3, 5, 1, 3, 7, 3, 4, 1, 3, 7, 1, 2, 3, 5, 6, 7, 8, 8, 4, 1, 1, 6, 3, 1, 2, 5, 2, 3, 3, 4, 5, 1, 2, 3, 4, 5, 5, 5, 7, 1, 6, 2, 2, 4, 5, 1, 6, 4, 2, 4, 7, 4, 3, 4, 7, 8, 1, 3, 4, 5, 8, 2, 4, 8, 8, 4, 8, 1, 2, 5, 4, 1, 2, 3, 4, 5, 6, 7, 8, 6, 8, 5, 1, 8, 2, 3, 1, 2, 3, 5, 2, 5, 7, 1, 3, 4, 5, 7, 6, 3, 6, 1, 4, 5, 7, 1, 3, 6, 7, 1, 2, 3, 4, 4, 8, 1, 1, 1, 2, 3, 4, 5, 6, 1, 2, 3, 4, 5, 6, 8, 1, 6, 5, 8, 6, 5, 6, 4, 2, 3, 6, 1, 5, 6, 1, 2, 3, 6, 7, 3, 4, 5, 6, 8, 1, 2, 3, 8, 3, 8, 1, 2, 3, 4, 5, 6, 8, 2, 3, 3, 5, 7, 3, 1, 2, 3, 4, 5, 1, 5, 8, 2, 5, 7, 6, 2, 1, 5, 7, 7, 1, 1, 3, 3, 2, 8, 7, 3, 6, 2, 6, 2, 6, 1, 6, 8, 6, 2, 3, 6, 6, 1, 2, 3, 4, 5, 6, 1, 2, 4, 5, 1, 2, 2, 7, 1, 2, 4, 5, 7, 1, 1, 2, 6, 7, 1, 2, 3, 5, 6, 4, 1, 4, 5, 6, 1, 3, 3, 3, 5, 8, 2, 7, 7, 1, 1, 2, 6, 8, 1, 2, 3, 8, 1, 2, 5, 6, 8, 5, 6, 2, 5, 7, 5, 3, 2, 2, 4, 7, 1, 2, 5, 7, 5, 2, 3, 8, 1, 2, 3, 4, 5, 6, 7, 2, 3, 5, 1, 2, 3, 6, 2, 4, 5, 1, 2, 4, 5, 6, 8, 1, 2, 2, 4, 2, 4, 1, 2, 3, 4, 5, 6, 7, 8, 4, 3, 7, 1, 2, 5, 8, 2, 3, 1, 2, 4, 6, 8, 2, 3, 4, 6, 1, 3, 2, 6, 1, 5, 8, 7, 8, 4, 8, 4, 8, 3, 6, 6, 7, 4, 7, 7, 2, 3, 4, 6, 7, 5, 6, 2, 5, 8, 2, 1, 1, 2, 3, 4, 5, 6, 1, 7, 4, 5, 2, 3, 1, 6, 7, 7, 5, 7, 4, 8, 7, 7, 1, 3, 1, 2, 3, 4, 5, 6, 8, 5, 1, 3, 5, 6, 7, 2, 6, 1, 2, 3, 6, 1, 4, 1, 1, 3, 1, 2, 3, 4, 5, 6, 7, 1, 2, 4, 5, 6, 4, 5, 1, 2, 3, 5, 6, 7, 8, 2, 5, 6, 8, 8, 2, 3, 6, 8, 1, 2, 3, 4, 6, 8, 5, 3, 1, 1, 1, 3, 5, 1, 2, 5, 1, 3, 5, 6, 3, 2, 6, 8, 6, 6, 3, 5, 1, 6, 4, 5, 1, 6, 1, 5, 1, 2, 3, 4, 5, 6, 8, 3, 7, 4, 1, 2, 3, 6, 8, 4, 8, 2, 7, 1, 5, 8, 1, 2, 2, 4, 5, 7, 3, 5, 3, 4, 1, 5, 4, 2, 4, 4, 1, 2, 3, 4, 5, 6, 8, 6, 8, 4, 5, 8, 7, 8, 8, 2, 2, 3, 4, 6, 7, 2, 2, 4, 1, 2, 5, 7, 1, 2, 3, 4, 6, 8, 1, 2, 3, 4, 7, 5, 1, 3, 6, 4], \"Freq\": [0.9905336526264007, 0.9953400416682283, 0.0046634649121162965, 0.9933180262807711, 0.9941456097671786, 0.9982466368436113, 0.9837695166058461, 0.9832646543962975, 0.9949194399493679, 0.20131453767684845, 0.7949343282624273, 0.9883914832637024, 0.10651810729632036, 0.13811246115539844, 0.06770218684088158, 0.637303252128832, 0.0009026958245450877, 0.014443133192721403, 0.013540437368176316, 0.021664699789082104, 0.8381098983921448, 0.1559274229566781, 0.9951772913244439, 0.9958968120811326, 0.9965352740159489, 0.9989413322648046, 0.7777097351202277, 0.2184994017718735, 0.9972526715199302, 0.9946343277186811, 0.9981697188573934, 0.0009497333195598415, 0.9881008736398407, 0.11984620894421037, 0.151039057847498, 0.07716125781339572, 0.36282208461192456, 0.01313383111717374, 0.06402742669622198, 0.2068578400954864, 0.00656691555858687, 0.9917185451450369, 0.9926119888710947, 0.9831839485677676, 0.9743629135283953, 0.020879205289894186, 0.9980893699053351, 0.99734812068868, 0.8362246314742389, 0.005683769797615898, 0.15701414065913916, 0.969678654587176, 0.02085330439972421, 0.005213326099931053, 0.9576720431813609, 0.04218819573486172, 0.04950984230384416, 0.1544707079879938, 0.4693533050404427, 0.1069412593763034, 0.118823621529226, 0.04455885807345975, 0.05644122022638235, 0.9972663855452591, 0.15745572932745988, 0.09872224299102644, 0.10746978350921865, 0.22618640482754157, 0.2599269182548544, 0.0524852431091533, 0.09247399976374628, 0.0062482432272801544, 0.3088979120563222, 0.08658502080366606, 0.12246710149707724, 0.2589750171785328, 0.007020407092189141, 0.023401356973963804, 0.19189112718650317, 0.9922081803430026, 0.9914962453694423, 0.9954474684441611, 0.9930631232086333, 0.9879538178305531, 0.3969759208447009, 0.5976940830695496, 0.9940089502586437, 0.9937844782268745, 0.06384535882152281, 0.1297726315176605, 0.34073990414530114, 0.33102430606376504, 0.09438009564920764, 0.0034698564576914575, 0.03747444974306774, 0.017914448777421745, 0.15525855607098846, 0.7583783315775205, 0.002985741462903624, 0.06270057072097611, 0.9962563080476101, 0.9980214133166659, 0.9949834048239636, 0.8981188876119394, 0.0997909875124377, 0.9904348261990837, 0.9963498905403815, 0.21281373239327303, 0.22481860960520125, 0.19753479775990984, 0.2586505362933626, 0.019644344528609817, 0.01637028710717485, 0.05893303358582945, 0.012004877211928222, 0.3020865101690672, 0.03697178184158732, 0.39226158783147524, 0.08205932067279138, 0.08296107144941546, 0.06763130824680608, 0.036070031064963246, 0.9912652769960377, 0.9892640378451824, 0.21822545153585388, 0.48009599337887854, 0.10234021175474527, 0.19565040482524831, 0.004515009342121115, 0.5835383624570564, 0.4151731955842008, 0.20234329083499655, 0.34902917262283467, 0.1646314949852864, 0.06632074442535234, 0.20390377893912248, 0.0028608948575642185, 0.0039012202603148434, 0.006762115117879062, 0.9803356209297296, 0.018613967486007525, 0.15334146130807466, 0.8446349344182473, 0.9953515438046691, 0.9952409970659091, 0.05619476609088834, 0.4037471781095347, 0.2351628798368697, 0.13804366452761702, 0.11300034485667765, 0.024432506996038408, 0.02870819572034513, 0.9987155077901438, 0.7306820220242641, 0.2684549970420639, 0.9963326566500487, 0.23259358746281844, 0.16915897270023159, 0.20254561204896152, 0.1936425082226335, 0.2014327240706705, 0.9986670335860671, 0.0008470458300136278, 0.9964793174806795, 0.9988870361448309, 0.9945071662223592, 0.9112401739362785, 0.08771295791900008, 0.5881454744905351, 0.18592985967765302, 0.11004012103371301, 0.11193736449981151, 0.0018972434660985004, 0.0018972434660985004, 0.12435460611066276, 0.7592175952019411, 0.11453713720718939, 0.9967731930580355, 0.994113390685784, 0.9969079823108029, 0.995523729506754, 0.009126093124190594, 0.9764919642883936, 0.9906572778478544, 0.9936774237758238, 0.0041465800161100625, 0.9951792038664149, 0.9912440131412171, 0.020080061491055606, 0.10291031514165999, 0.012550038431909754, 0.21335065334246583, 0.6500919907729253, 0.9887373271811082, 0.9872176750561603, 0.9950061723610938, 0.9938241420138898, 0.9910356395490274, 0.9870398138572714, 0.9824745776495959, 0.007736020296453511, 0.9949133835235311, 0.07070316615268223, 0.22389335948349373, 0.6991757541765242, 0.5748041046261305, 0.4236323829201757, 0.9845758336845036, 0.4804937248662852, 0.517741300437315, 0.029722611626214365, 0.40422751811651536, 0.5617573597354515, 0.09403899723698136, 0.4499940164080738, 0.12050923349627982, 0.16648385436769292, 0.0821970494367689, 0.08707314558979756, 0.24202397659914437, 0.17585914846412648, 0.034823593755272574, 0.04004713281856346, 0.5049421094514522, 0.9930039687668074, 0.9871275093359408, 0.46854512061842396, 0.4369578091160583, 0.0368518634194266, 0.05615522044865006, 0.9913491221236781, 0.9887340039431646, 0.9343652447302534, 0.05446972278696545, 0.008379957351840838, 0.9961825187189354, 0.9969313178731407, 0.9897140007088481, 0.9624677299130671, 0.036401956502007074, 0.9922300712430268, 0.9846774016698323, 0.9977047476384756, 0.9953446061395713, 0.9980339163342303, 0.9872024372247873, 0.050589891632176365, 0.009292020912032392, 0.05884946577620515, 0.08362818820829154, 0.7836270969147318, 0.01135691444803959, 0.0020648935360071986, 0.9915216074199196, 0.9963806841495219, 0.9984775284800752, 0.05062511419331771, 0.9416271239957094, 0.9909228738192475, 0.688597357416451, 0.30664101072451333, 0.0017932222849386743, 0.9895688680190629, 0.9957112659240698, 0.2785798330473776, 0.21123086242053904, 0.5081785965479635, 0.17771818503446016, 0.821891754492701, 0.4973001402626435, 0.08348834471562629, 0.41865169958850285, 0.9898405053824346, 0.9940131631756746, 0.9962898849915578, 0.026415766692371626, 0.9721002142792757, 0.9938099376802058, 0.9880727527119461, 0.871532517275159, 0.12373609813165837, 0.8437461595710736, 0.15255926870473285, 0.9951884071414617, 0.055968659328000506, 0.8199408591552074, 0.12313105052160112, 0.990661078988441, 0.32858638705862825, 0.04719059814139873, 0.3460643863702574, 0.27790018905490366, 0.7234194968932856, 0.04289048400553076, 0.12581208641622357, 0.10579652721364255, 0.0028593656003687174, 0.011008283745714146, 0.9412082602585594, 0.04403313498285658, 0.9889525898777034, 0.9452790820080225, 0.046928748752171325, 0.031929760494125055, 0.15326285037180026, 0.8110159165507764, 0.9956531039608928, 0.2692005501759787, 0.22357333828174503, 0.17566476579279966, 0.06920127137292108, 0.22129197768703332, 0.027376327136540205, 0.01216725650512898, 0.0007604535315705612, 0.9896431499952687, 0.9955022576729176, 0.9924336799739445, 0.9815671201238849, 0.007380203910705902, 0.9934556238995799, 0.9868435315354503, 0.7018973794312108, 0.029245724142967115, 0.2668672328045749, 0.0018278577589354447, 0.14504945449943607, 0.19449813216969836, 0.6593157022701639, 0.99449001332462, 0.06273885307155304, 0.7598372205332535, 0.17253184594677087, 0.0052282377559627535, 0.9912681998298201, 0.8473660936292722, 0.15033914564390313, 0.6349687702761826, 0.24421875779853175, 0.05521467567618979, 0.06370924116483437, 0.29877610513137237, 0.6538660311252025, 0.012514182413879473, 0.034414001638168545, 0.01867098027619808, 0.8352151843552607, 0.13194159395179975, 0.012447320184132051, 0.6421259457471689, 0.356137079153892, 0.9957671198332917, 0.9915756635756976, 0.5698377649717539, 0.0031569959278213507, 0.12470133914894335, 0.04261944502558824, 0.14522181267978213, 0.11365185340156862, 0.005368423054562744, 0.017894743515209147, 0.8571582143785181, 0.02326316656977189, 0.02326316656977189, 0.05368423054562744, 0.021473692218250975, 0.9949868944005157, 0.9903764087672395, 0.9937011200518555, 0.9869273430906865, 0.9903501117862704, 0.9870461140339357, 0.983556328922038, 0.9930308713161127, 0.0023412784392591547, 0.7702806065162618, 0.22476273016887885, 0.7580973284375034, 0.02406658185515884, 0.21659923669642955, 0.7548070171802176, 0.18324794636745168, 0.013089139026246548, 0.04799350976290401, 0.9869796258688198, 0.17235686534895953, 0.1359434430921371, 0.026703176321669787, 0.15536393496244238, 0.5097879115955141, 0.9878457990549557, 0.166651976934864, 0.16294859966964478, 0.6703112850046752, 0.9949585638182498, 0.9939718527368608, 0.10769678166299795, 0.08660153577024578, 0.6572834509741731, 0.007771932697329749, 0.10214540116490528, 0.026646626390844856, 0.012213037095803892, 0.019924512522937192, 0.9763011136239224, 0.9936947240926088, 0.991485886545096, 0.9908021050569639, 0.9873717836204206, 0.7737108687209706, 0.10941365820296553, 0.010420348400282432, 0.002605087100070608, 0.10159839690275371, 0.9961628156177107, 0.9931713348777167, 0.9933972149255244, 0.1497942447541926, 0.032881663482627645, 0.8147345507362183, 0.9924664069947225, 0.9954301547153114, 0.07576405608549719, 0.9217960157068824, 0.9911365552816012, 0.9976220639404337, 0.987789537605378, 0.9961714005223253, 0.988002617162947, 0.9875121943929634, 0.9874978385022303, 0.994514631551846, 0.9927526078528743, 0.9843720624265125, 0.009557010314820511, 0.9908801792658583, 0.008616349384920506, 0.9975902414152291, 0.9941190794932152, 0.4236831716169595, 0.5712157045907222, 0.993745718806492, 0.9902619416027824, 0.0242269945523748, 0.9725407813167598, 0.991471409237283, 0.9958059549795878, 0.01482081789473396, 0.660349775087591, 0.07904436210524779, 0.07575084701752913, 0.1712627845613702, 0.9979354913085174, 0.017549530631092203, 0.5588850524055516, 0.26729285115048124, 0.15524584789043103, 0.9086302376160209, 0.09009081676079528, 0.9979073541420741, 0.993553934681556, 0.19047924920688714, 0.014939548957402913, 0.011204661718052183, 0.6610750413650789, 0.1195163916592233, 0.989706139755379, 0.9922090168624258, 0.8065344764509738, 0.1804090276271915, 0.01061229574277597, 0.3544842250218447, 0.0938050177634408, 0.510496780881041, 0.02863521594883982, 0.011849054875381996, 0.9955243279002496, 0.7817515144970861, 0.20693422442569928, 0.008622259351070803, 0.9897271842861219, 0.9158284718152815, 0.08027181824675775, 0.9903079903644224, 0.9861680547382166, 0.003781987668794764, 0.994662756893023, 0.4165936339990434, 0.5817945578262503, 0.9939377687985976, 0.9958394719807743, 0.01913790872024258, 0.16677320456211392, 0.33354640912422784, 0.4784477180060645, 0.16425897394581015, 0.002692770064685412, 0.829373179923107, 0.9978752722043432, 0.29155230936836796, 0.07185175396755988, 0.004145293498128455, 0.14784880143324822, 0.483617574781653, 0.9940870604628431, 0.9849621083088839, 0.24297767276662396, 0.5780517215012425, 0.1763547624919045, 0.9942831869062595, 0.9927987171691002, 0.9960967446375774, 0.9899220723363485, 0.9980421578662922, 0.9907467994314154, 0.6762288210792016, 0.21420912965862907, 0.0042001790129142956, 0.10290438581640024, 0.9912394728755531, 0.08951055196423571, 0.830287533737221, 0.07716426893468596, 0.21968620571133696, 0.1652040266949254, 0.14587164059232774, 0.4007076392174786, 0.026362344685360434, 0.010544937874144174, 0.03163481362243252, 0.9430203648134267, 0.052390020267412594, 0.9909153240581623, 0.08174587540342247, 0.05838991100244462, 0.19268670630806725, 0.6656449854278687, 0.35129589706350267, 0.5632189654007244, 0.0859147574340088, 0.16030093323989242, 0.07514106245619957, 0.6712601579420495, 0.050094041637466384, 0.017532914573113234, 0.02755172290060651, 0.0032482428573931315, 0.9961278096005604, 0.9927161448051828, 0.9968887531820759, 0.9896655027976934, 0.9898494379686782, 0.0505910471693717, 0.05000954088006858, 0.30529080188413954, 0.40821741509079235, 0.04477598427634047, 0.008722594339546844, 0.07675883018801223, 0.05524309748379668, 0.9889755312763855, 0.11284044593801361, 0.8801554783165062, 0.4334404345872993, 0.12040012071869424, 0.00481600482874777, 0.4406644418304209, 0.9991896356265365, 0.9937104549289391, 0.09733472876188125, 0.009419489880182055, 0.4584151741688601, 0.29671393122573475, 0.13815251824267016, 0.11236013047430828, 0.2568231553698475, 0.5403987227573874, 0.09095820086015433, 0.9944192079462094, 0.9965429833692457, 0.052817411488803756, 0.9401499245007069, 0.8484359568841696, 0.0056002373391694366, 0.14280605214882064, 0.9945539935461319, 0.9951213297163175, 0.9853364944636548, 0.010263921817329737, 0.9404624556350692, 0.05844681927675572, 0.9900618600721994, 0.9911012847493481, 0.9222843993772546, 0.06360582064670721, 0.8828503129612035, 0.11546537657941666, 0.9926692480492351, 0.6368083540578379, 0.05262878959155685, 0.24560101809393198, 0.017542929863852284, 0.045611617646015935, 0.990593500745701, 0.9988930922750184, 0.992768437807034, 0.9964979811024911, 0.9955721507364479, 0.9988289269728094, 0.9982067986605286, 0.8046684521656837, 0.04168327567524938, 0.019935479670771444, 0.0036246326674129895, 0.018123163337064947, 0.11055129635609619, 0.2514067344178442, 0.7416498665326405, 0.9895049601865465, 0.9984668269667754, 0.16934979758387686, 0.8291542037548257, 0.11451098779275565, 0.8270238007254574, 0.050893772352335845, 0.9936295530012826, 0.9813713708530692, 0.9922267660098977, 0.20204518911829308, 0.7957472063735851, 0.9930170650112021, 0.9909231639315391, 0.9521589750285212, 0.03967329062618838, 0.27488372126435845, 0.023494335150799867, 0.1961776985091789, 0.3277459753536582, 0.05051282057421972, 0.045813953544059746, 0.08105545627025955, 0.9971143416526997, 0.003265479469884381, 0.2759330152052302, 0.3134860291089006, 0.39185753638612575, 0.013061917879537524, 0.998527721280844, 0.9985428226569777, 0.30530746691637844, 0.4946454308955278, 0.19762149990323719, 0.0023667245497393675, 0.997165466433912, 0.9927482525496456, 0.995712102331446, 0.9960611184206156, 0.9849400316161336, 0.2171561137125605, 0.039909772249875984, 0.22302519786695404, 0.151422371183353, 0.3192781779990079, 0.004695267323514822, 0.0434312227425121, 0.7754544747376696, 0.14774206675653526, 0.02066857928718369, 0.05511621143248984, 0.0007655029365623589, 0.9952412192029131, 0.9889997846895945, 0.04459436198547016, 0.07007685454859597, 0.8090691388792444, 0.04459436198547016, 0.028667804133516533, 0.9898086661360445, 0.9964742381447923, 0.019205849879580066, 0.17559634175616062, 0.16462157039640057, 0.6392804317060222, 0.9960762020211256, 0.06627217643774308, 0.9241286825485285, 0.007363575159749231, 0.9975183156868509, 0.1423901846606884, 0.015453198335268507, 0.5750797380482066, 0.14790918406614142, 0.09603058965488287, 0.020972197740721545, 0.9875842899293931, 0.9931039012557569, 0.9972407560195261, 0.9950498180643264, 0.5381650465237585, 0.002196592026627586, 0.4590877335651654, 0.23959888217637076, 0.3755251711033503, 0.38358859502274745, 0.36619883308895795, 0.01510098280779208, 0.5927135752058391, 0.02265147421168812, 0.9919746806116895, 0.9975589408091987, 0.15011666716778382, 0.8489356350178119, 0.9942450190043661, 0.9868595264345175, 0.015926122375699358, 0.9714934649176608, 0.8572653382514596, 0.14143434873508928, 0.2316941926502767, 0.7626600508071608, 0.6258518373626432, 0.37358540445647004, 0.992940339698845, 0.9919120073146771, 0.009950743822304988, 0.10448281013420237, 0.3200822596174771, 0.0796059505784399, 0.043119889896654946, 0.1592119011568798, 0.28359619893569216, 0.008510756019136076, 0.9872476982197849, 0.9942473267480255, 0.7286249914586121, 0.037488620932567114, 0.10381464258249355, 0.1288070565375383, 0.9930062799585568, 0.9950819619063179, 0.9985361237885825, 0.9994418489222398, 0.989508689626065, 0.407692134778189, 0.590826569651814, 0.9921997676329152, 0.0285276955447279, 0.9708925717055729, 0.0020245954916369734, 0.23687767252152592, 0.7592233093638651, 0.9909129901134069, 0.9938200342614871, 0.985814651745335, 0.9915568200617111, 0.9907424443384792, 0.9903217790517026, 0.9973026849331189, 0.9949481341092397, 0.9925194640887097, 0.9878424618619902, 0.9906494094552722, 0.060744695338196875, 0.008283367546117755, 0.011044490061490341, 0.15738398337623735, 0.008283367546117755, 0.5687912381667526, 0.1849952085299632, 0.9994228497528649, 0.9918105930398208, 0.9848167944270773, 0.9919307532690531, 0.9917878845114941, 0.989678412061723, 0.9935242860980638, 0.9973120553665066, 0.9874099807707074, 0.3738246258470995, 0.28404141876591843, 0.09141562902811168, 0.0946804729219728, 0.1567125069053343, 0.996683123072646, 0.696704959192898, 0.3012070312300123, 0.01224374263965225, 0.2497723498489059, 0.49219845411402047, 0.244874852793045, 0.07807415347356578, 0.21019964396729246, 0.06606274524686334, 0.02702566851008046, 0.33932228240434353, 0.2762623892141558, 0.8684436222054391, 0.1296919587036478, 0.14735874370611302, 0.42189010184352904, 0.42996455355345303, 0.9924146127099169, 0.01400094214614214, 0.9555643014742011, 0.03150211982881982, 0.9954183595293777], \"Term\": [\"com\", \"covid\", \"https\", \"https\", \"wildberries\", \"\\u0430\\u0431\\u0445\\u0430\\u0437\\u0438\\u044f\", \"\\u0430\\u0432\\u0430\\u043d\\u0441\", \"\\u0430\\u0432\\u0442\\u043e\", \"\\u0430\\u0432\\u0442\\u043e\\u0431\\u0443\\u0441\", \"\\u0430\\u0432\\u0442\\u043e\\u043c\\u043e\\u0431\\u0438\\u043b\\u044c\", \"\\u0430\\u0432\\u0442\\u043e\\u043c\\u043e\\u0431\\u0438\\u043b\\u044c\", \"\\u0430\\u0434\\u043c\\u0438\\u043d\\u0438\\u0441\\u0442\\u0440\\u0430\\u0446\\u0438\\u044f\", \"\\u0430\\u0434\\u0440\\u0435\\u0441\", \"\\u0430\\u0434\\u0440\\u0435\\u0441\", \"\\u0430\\u0434\\u0440\\u0435\\u0441\", \"\\u0430\\u0434\\u0440\\u0435\\u0441\", \"\\u0430\\u0434\\u0440\\u0435\\u0441\", \"\\u0430\\u0434\\u0440\\u0435\\u0441\", \"\\u0430\\u0434\\u0440\\u0435\\u0441\", \"\\u0430\\u0434\\u0440\\u0435\\u0441\", \"\\u0430\\u043a\\u0442\", \"\\u0430\\u043a\\u0442\", \"\\u0430\\u043d\\u0430\\u043b\\u0438\\u0437\", \"\\u0430\\u043d\\u043a\\u0435\\u0442\\u0430\", \"\\u0430\\u043f\\u0440\\u0435\\u043b\\u044c\", \"\\u0431\\u0430\\u043d\\u043a\", \"\\u0431\\u0438\\u043b\\u0435\\u0442\", \"\\u0431\\u0438\\u043b\\u0435\\u0442\", \"\\u0431\\u0440\\u0430\\u043a\", \"\\u0432\\u0430\\u043a\\u0446\\u0438\\u043d\\u0430\", \"\\u0432\\u0435\\u0440\\u043d\\u0443\\u0442\\u044c\", \"\\u0432\\u0435\\u0440\\u043d\\u0443\\u0442\\u044c\", \"\\u0432\\u0435\\u0440\\u043d\\u0443\\u0442\\u044c\\u0441\\u044f\", \"\\u0432\\u0435\\u0441\\u044c\", \"\\u0432\\u0435\\u0441\\u044c\", \"\\u0432\\u0435\\u0441\\u044c\", \"\\u0432\\u0435\\u0441\\u044c\", \"\\u0432\\u0435\\u0441\\u044c\", \"\\u0432\\u0435\\u0441\\u044c\", \"\\u0432\\u0435\\u0441\\u044c\", \"\\u0432\\u0435\\u0441\\u044c\", \"\\u0432\\u0435\\u0449\\u044c\", \"\\u0432\\u043c\\u0435\\u0441\\u0442\\u043e\", \"\\u0432\\u043d\\u0435\\u0441\\u0442\\u0438\", \"\\u0432\\u043d\\u0438\\u043c\\u0430\\u043d\\u0438\\u0435\", \"\\u0432\\u043d\\u0438\\u043c\\u0430\\u043d\\u0438\\u0435\", \"\\u0432\\u043e\\u0434\\u0430\", \"\\u0432\\u043e\\u0434\\u0438\\u0442\\u0435\\u043b\\u044c\", \"\\u0432\\u043e\\u0437\\u0432\\u0440\\u0430\\u0442\", \"\\u0432\\u043e\\u0437\\u0432\\u0440\\u0430\\u0442\", \"\\u0432\\u043e\\u0437\\u0432\\u0440\\u0430\\u0442\", \"\\u0432\\u043e\\u0437\\u0432\\u0440\\u0430\\u0449\\u0430\\u0442\\u044c\", \"\\u0432\\u043e\\u0437\\u0432\\u0440\\u0430\\u0449\\u0430\\u0442\\u044c\", \"\\u0432\\u043e\\u0437\\u0432\\u0440\\u0430\\u0449\\u0430\\u0442\\u044c\", \"\\u0432\\u043e\\u0437\\u0432\\u0440\\u0430\\u0449\\u0435\\u043d\\u0438\\u0435\", \"\\u0432\\u043e\\u0437\\u0432\\u0440\\u0430\\u0449\\u0435\\u043d\\u0438\\u0435\", \"\\u0432\\u043e\\u043f\\u0440\\u043e\\u0441\", \"\\u0432\\u043e\\u043f\\u0440\\u043e\\u0441\", \"\\u0432\\u043e\\u043f\\u0440\\u043e\\u0441\", \"\\u0432\\u043e\\u043f\\u0440\\u043e\\u0441\", \"\\u0432\\u043e\\u043f\\u0440\\u043e\\u0441\", \"\\u0432\\u043e\\u043f\\u0440\\u043e\\u0441\", \"\\u0432\\u043e\\u043f\\u0440\\u043e\\u0441\", \"\\u0432\\u0440\\u0430\\u0447\", \"\\u0432\\u0440\\u0435\\u043c\\u044f\", \"\\u0432\\u0440\\u0435\\u043c\\u044f\", \"\\u0432\\u0440\\u0435\\u043c\\u044f\", \"\\u0432\\u0440\\u0435\\u043c\\u044f\", \"\\u0432\\u0440\\u0435\\u043c\\u044f\", \"\\u0432\\u0440\\u0435\\u043c\\u044f\", \"\\u0432\\u0440\\u0435\\u043c\\u044f\", \"\\u0432\\u0440\\u0435\\u043c\\u044f\", \"\\u0432\\u0441\\u0451\", \"\\u0432\\u0441\\u0451\", \"\\u0432\\u0441\\u0451\", \"\\u0432\\u0441\\u0451\", \"\\u0432\\u0441\\u0451\", \"\\u0432\\u0441\\u0451\", \"\\u0432\\u0441\\u0451\", \"\\u0432\\u044a\\u0435\\u0437\\u0434\", \"\\u0432\\u044b\\u0432\\u043e\\u0437\", \"\\u0432\\u044b\\u043f\\u0443\\u0441\\u043a\\u043d\\u043e\\u0439\", \"\\u0432\\u044b\\u0445\\u043e\\u0434\\u0438\\u0442\\u044c\", \"\\u0432\\u044b\\u044f\\u0441\\u043d\\u0438\\u0442\\u044c\\u0441\\u044f\", \"\\u0433\\u0430\\u0440\\u0430\\u043d\\u0442\\u0438\\u0439\\u043d\\u044b\\u0439\", \"\\u0433\\u0430\\u0440\\u0430\\u043d\\u0442\\u0438\\u0439\\u043d\\u044b\\u0439\", \"\\u0433\\u0430\\u0440\\u0430\\u043d\\u0442\\u0438\\u044f\", \"\\u0433\\u043b\\u0430\\u0432\\u043d\\u043e\\u0435\", \"\\u0433\\u043e\\u0434\", \"\\u0433\\u043e\\u0434\", \"\\u0433\\u043e\\u0434\", \"\\u0433\\u043e\\u0434\", \"\\u0433\\u043e\\u0434\", \"\\u0433\\u043e\\u0434\", \"\\u0433\\u043e\\u0434\", \"\\u0433\\u043e\\u0440\\u043e\\u0434\", \"\\u0433\\u043e\\u0440\\u043e\\u0434\", \"\\u0433\\u043e\\u0440\\u043e\\u0434\", \"\\u0433\\u043e\\u0440\\u043e\\u0434\", \"\\u0433\\u043e\\u0440\\u043e\\u0434\", \"\\u0433\\u043e\\u0441\\u0443\\u0441\\u043b\\u0443\\u0433\\u0430\", \"\\u0433\\u0440\\u0430\\u0436\\u0434\\u0430\\u043d\\u0438\\u043d\", \"\\u0433\\u0440\\u0430\\u0436\\u0434\\u0430\\u043d\\u043a\\u0430\", \"\\u0433\\u0440\\u0430\\u043d\\u0438\\u0446\\u0430\", \"\\u0433\\u0440\\u0430\\u043d\\u0438\\u0446\\u0430\", \"\\u0433\\u0440\\u0430\\u0444\\u0438\\u043a\", \"\\u0433\\u0440\\u0443\\u043f\\u043f\\u0430\", \"\\u0434\\u0430\\u043d\\u043d\\u044b\\u0439\", \"\\u0434\\u0430\\u043d\\u043d\\u044b\\u0439\", \"\\u0434\\u0430\\u043d\\u043d\\u044b\\u0439\", \"\\u0434\\u0430\\u043d\\u043d\\u044b\\u0439\", \"\\u0434\\u0430\\u043d\\u043d\\u044b\\u0439\", \"\\u0434\\u0430\\u043d\\u043d\\u044b\\u0439\", \"\\u0434\\u0430\\u043d\\u043d\\u044b\\u0439\", \"\\u0434\\u0430\\u043d\\u043d\\u044b\\u0439\", \"\\u0434\\u0430\\u0442\\u044c\", \"\\u0434\\u0430\\u0442\\u044c\", \"\\u0434\\u0430\\u0442\\u044c\", \"\\u0434\\u0430\\u0442\\u044c\", \"\\u0434\\u0430\\u0442\\u044c\", \"\\u0434\\u0430\\u0442\\u044c\", \"\\u0434\\u0430\\u0442\\u044c\", \"\\u0434\\u0432\\u0435\\u0440\\u044c\", \"\\u0434\\u0435\\u0439\\u0441\\u0442\\u0432\\u0438\\u0442\\u0435\\u043b\\u044c\\u043d\\u043e\", \"\\u0434\\u0435\\u043b\\u0430\\u0442\\u044c\", \"\\u0434\\u0435\\u043b\\u0430\\u0442\\u044c\", \"\\u0434\\u0435\\u043b\\u0430\\u0442\\u044c\", \"\\u0434\\u0435\\u043b\\u0430\\u0442\\u044c\", \"\\u0434\\u0435\\u043b\\u0430\\u0442\\u044c\", \"\\u0434\\u0435\\u043d\\u0435\\u0436\\u043d\\u044b\\u0439\", \"\\u0434\\u0435\\u043d\\u0435\\u0436\\u043d\\u044b\\u0439\", \"\\u0434\\u0435\\u043d\\u044c\", \"\\u0434\\u0435\\u043d\\u044c\", \"\\u0434\\u0435\\u043d\\u044c\", \"\\u0434\\u0435\\u043d\\u044c\", \"\\u0434\\u0435\\u043d\\u044c\", \"\\u0434\\u0435\\u043d\\u044c\", \"\\u0434\\u0435\\u043d\\u044c\", \"\\u0434\\u0435\\u043d\\u044c\", \"\\u0434\\u0435\\u043d\\u044c\\u0433\\u0430\", \"\\u0434\\u0435\\u043d\\u044c\\u0433\\u0430\", \"\\u0434\\u0435\\u0442\\u0441\\u043a\\u0438\\u0439\", \"\\u0434\\u0435\\u0442\\u0441\\u043a\\u0438\\u0439\", \"\\u0434\\u0435\\u0444\\u0435\\u043a\\u0442\", \"\\u0434\\u0435\\u044f\\u0442\\u0435\\u043b\\u044c\\u043d\\u043e\\u0441\\u0442\\u044c\", \"\\u0434\\u043e\\u0431\\u0440\\u044b\\u0439\", \"\\u0434\\u043e\\u0431\\u0440\\u044b\\u0439\", \"\\u0434\\u043e\\u0431\\u0440\\u044b\\u0439\", \"\\u0434\\u043e\\u0431\\u0440\\u044b\\u0439\", \"\\u0434\\u043e\\u0431\\u0440\\u044b\\u0439\", \"\\u0434\\u043e\\u0431\\u0440\\u044b\\u0439\", \"\\u0434\\u043e\\u0431\\u0440\\u044b\\u0439\", \"\\u0434\\u043e\\u0433\\u043e\\u0432\\u043e\\u0440\", \"\\u0434\\u043e\\u043a\\u0443\\u043c\\u0435\\u043d\\u0442\", \"\\u0434\\u043e\\u043a\\u0443\\u043c\\u0435\\u043d\\u0442\", \"\\u0434\\u043e\\u043b\\u0433\", \"\\u0434\\u043e\\u043b\\u0436\\u043d\\u044b\\u0439\", \"\\u0434\\u043e\\u043b\\u0436\\u043d\\u044b\\u0439\", \"\\u0434\\u043e\\u043b\\u0436\\u043d\\u044b\\u0439\", \"\\u0434\\u043e\\u043b\\u0436\\u043d\\u044b\\u0439\", \"\\u0434\\u043e\\u043b\\u0436\\u043d\\u044b\\u0439\", \"\\u0434\\u043e\\u043c\", \"\\u0434\\u043e\\u043c\", \"\\u0434\\u043e\\u0441\\u0442\\u0430\\u0432\\u0438\\u0442\\u044c\", \"\\u0434\\u043e\\u0441\\u0442\\u0430\\u0432\\u043a\\u0430\", \"\\u0434\\u0440\\u0443\\u0433\", \"\\u0435\\u0445\\u0430\\u0442\\u044c\", \"\\u0435\\u0445\\u0430\\u0442\\u044c\", \"\\u0435\\u0449\\u0451\", \"\\u0435\\u0449\\u0451\", \"\\u0435\\u0449\\u0451\", \"\\u0435\\u0449\\u0451\", \"\\u0435\\u0449\\u0451\", \"\\u0435\\u0449\\u0451\", \"\\u0436\\u0430\\u043b\\u043e\\u0431\\u0430\", \"\\u0436\\u0430\\u043b\\u043e\\u0431\\u0430\", \"\\u0436\\u0430\\u043b\\u043e\\u0431\\u0430\", \"\\u0436\\u0438\\u043b\\u043e\\u0439\", \"\\u0436\\u0438\\u0442\\u0435\\u043b\\u044c\", \"\\u0436\\u0438\\u0442\\u044c\", \"\\u0437\\u0430\\u0431\\u0440\\u0430\\u0442\\u044c\", \"\\u0437\\u0430\\u0432\\u0435\\u0434\\u043e\\u0432\\u0430\\u0442\\u044c\", \"\\u0437\\u0430\\u0432\\u0435\\u0434\\u043e\\u0432\\u0430\\u0442\\u044c\", \"\\u0437\\u0430\\u0433\\u0440\\u0443\\u0437\\u0438\\u0442\\u044c\", \"\\u0437\\u0430\\u0434\\u043e\\u043b\\u0436\\u0435\\u043d\\u043d\\u043e\\u0441\\u0442\\u044c\", \"\\u0437\\u0430\\u043a\\u0430\\u0437\", \"\\u0437\\u0430\\u043a\\u0430\\u0437\", \"\\u0437\\u0430\\u043a\\u043b\\u044e\\u0447\\u0438\\u0442\\u044c\", \"\\u0437\\u0430\\u043a\\u043e\\u043d\", \"\\u0437\\u0430\\u043a\\u043e\\u043d\", \"\\u0437\\u0430\\u043a\\u043e\\u043d\", \"\\u0437\\u0430\\u043a\\u043e\\u043d\", \"\\u0437\\u0430\\u043a\\u043e\\u043d\", \"\\u0437\\u0430\\u043a\\u043e\\u043d\\u043d\\u043e\", \"\\u0437\\u0430\\u043a\\u043e\\u043d\\u043e\\u0434\\u0430\\u0442\\u0435\\u043b\\u044c\\u0441\\u0442\\u0432\\u043e\", \"\\u0437\\u0430\\u043c\\u0435\\u043d\\u0430\", \"\\u0437\\u0430\\u043c\\u0435\\u043d\\u0438\\u0442\\u044c\", \"\\u0437\\u0430\\u043f\\u0430\\u0445\", \"\\u0437\\u0430\\u043f\\u0438\\u0441\\u044c\", \"\\u0437\\u0430\\u043f\\u043b\\u0430\\u0442\\u0438\\u0442\\u044c\", \"\\u0437\\u0430\\u043f\\u043b\\u0430\\u0442\\u0438\\u0442\\u044c\", \"\\u0437\\u0430\\u043f\\u0440\\u0435\\u0442\\u0438\\u0442\\u044c\", \"\\u0437\\u0430\\u0449\\u0438\\u0442\\u0430\", \"\\u0437\\u0430\\u0449\\u0438\\u0442\\u0430\", \"\\u0437\\u0430\\u0449\\u0438\\u0442\\u0430\", \"\\u0437\\u0430\\u044f\\u0432\\u043b\\u0435\\u043d\\u0438\\u0435\", \"\\u0437\\u0430\\u044f\\u0432\\u043b\\u0435\\u043d\\u0438\\u0435\", \"\\u0437\\u0430\\u0451\\u043c\", \"\\u0437\\u0432\\u043e\\u043d\\u0438\\u0442\\u044c\", \"\\u0437\\u0432\\u043e\\u043d\\u0438\\u0442\\u044c\", \"\\u0437\\u0432\\u043e\\u043d\\u043e\\u043a\", \"\\u0437\\u0432\\u043e\\u043d\\u043e\\u043a\", \"\\u0437\\u0432\\u043e\\u043d\\u043e\\u043a\", \"\\u0437\\u0434\\u0440\\u0430\\u0432\\u0441\\u0442\\u0432\\u0443\\u0439\\u0442\\u0435\", \"\\u0437\\u0434\\u0440\\u0430\\u0432\\u0441\\u0442\\u0432\\u0443\\u0439\\u0442\\u0435\", \"\\u0437\\u0434\\u0440\\u0430\\u0432\\u0441\\u0442\\u0432\\u0443\\u0439\\u0442\\u0435\", \"\\u0437\\u0434\\u0440\\u0430\\u0432\\u0441\\u0442\\u0432\\u0443\\u0439\\u0442\\u0435\", \"\\u0437\\u0434\\u0440\\u0430\\u0432\\u0441\\u0442\\u0432\\u0443\\u0439\\u0442\\u0435\", \"\\u0437\\u0434\\u0440\\u0430\\u0432\\u0441\\u0442\\u0432\\u0443\\u0439\\u0442\\u0435\", \"\\u0438\\u043c\\u0435\\u0442\\u044c\", \"\\u0438\\u043c\\u0435\\u0442\\u044c\", \"\\u0438\\u043c\\u0435\\u0442\\u044c\", \"\\u0438\\u043c\\u0435\\u0442\\u044c\", \"\\u0438\\u043c\\u0435\\u0442\\u044c\", \"\\u0438\\u043c\\u0443\\u0449\\u0435\\u0441\\u0442\\u0432\\u043e\", \"\\u0438\\u043d\\u043e\\u0439\", \"\\u0438\\u043d\\u0442\\u0435\\u0440\\u043d\\u0435\\u0442\", \"\\u0438\\u043d\\u0442\\u0435\\u0440\\u043d\\u0435\\u0442\", \"\\u0438\\u043d\\u0442\\u0435\\u0440\\u043d\\u0435\\u0442\", \"\\u0438\\u043d\\u0442\\u0435\\u0440\\u043d\\u0435\\u0442\", \"\\u0438\\u043d\\u0444\\u0435\\u043a\\u0446\\u0438\\u044f\", \"\\u0438\\u0441\\u043f\\u043e\\u043b\\u043d\\u0438\\u0442\\u0435\\u043b\\u044c\", \"\\u0438\\u0442\\u043e\\u0433\", \"\\u0438\\u0442\\u043e\\u0433\", \"\\u0438\\u0442\\u043e\\u0433\", \"\\u0438\\u044e\\u043b\\u044c\", \"\\u0438\\u044e\\u043d\\u044c\", \"\\u043a\\u0430\\u0437\\u0430\\u0445\\u0441\\u0442\\u0430\\u043d\", \"\\u043a\\u0430\\u0440\\u0442\\u0430\", \"\\u043a\\u0430\\u0440\\u0442\\u0430\", \"\\u043a\\u0430\\u0441\\u0441\\u0430\", \"\\u043a\\u0430\\u0441\\u0441\\u0438\\u0440\", \"\\u043a\\u0432\\u0430\\u0440\\u0442\\u0438\\u0440\\u0430\", \"\\u043a\\u0432\\u0438\\u0442\\u0430\\u043d\\u0446\\u0438\\u044f\", \"\\u043a\\u043e\\u0432\\u0438\\u0434\", \"\\u043a\\u043e\\u043b\\u044f\\u0441\\u043a\\u0430\", \"\\u043a\\u043e\\u043c\\u043f\\u0430\\u043d\\u0438\\u044f\", \"\\u043a\\u043e\\u043c\\u043f\\u0430\\u043d\\u0438\\u044f\", \"\\u043a\\u043e\\u043c\\u043f\\u0430\\u043d\\u0438\\u044f\", \"\\u043a\\u043e\\u043c\\u043f\\u0430\\u043d\\u0438\\u044f\", \"\\u043a\\u043e\\u043c\\u043f\\u0430\\u043d\\u0438\\u044f\", \"\\u043a\\u043e\\u043c\\u043f\\u0430\\u043d\\u0438\\u044f\", \"\\u043a\\u043e\\u043c\\u043f\\u0430\\u043d\\u0438\\u044f\", \"\\u043a\\u043e\\u043d\\u0442\\u0435\\u0439\\u043d\\u0435\\u0440\", \"\\u043a\\u043e\\u0440\\u043e\\u043d\\u0430\\u0432\\u0438\\u0440\\u0443\\u0441\", \"\\u043a\\u0440\\u0435\\u0434\\u0438\\u0442\", \"\\u043a\\u0440\\u0435\\u0434\\u0438\\u0442\\u043d\\u044b\\u0439\", \"\\u043a\\u0440\\u0435\\u0434\\u0438\\u0442\\u043d\\u044b\\u0439\", \"\\u043a\\u0440\\u044b\\u043c\", \"\\u043a\\u0443\\u043f\\u0438\\u0442\\u044c\", \"\\u043a\\u0443\\u043f\\u0438\\u0442\\u044c\", \"\\u043a\\u0443\\u043f\\u0438\\u0442\\u044c\", \"\\u043a\\u0443\\u0440\\u044c\\u0435\\u0440\", \"\\u043b\\u0435\\u0436\\u0430\\u0442\\u044c\", \"\\u043b\\u0438\\u0446\\u043e\", \"\\u043b\\u0438\\u0446\\u043e\", \"\\u043b\\u0438\\u0446\\u043e\", \"\\u043c\\u0430\\u0433\\u0430\\u0437\\u0438\\u043d\", \"\\u043c\\u0430\\u0433\\u0430\\u0437\\u0438\\u043d\", \"\\u043c\\u0430\\u0439\", \"\\u043c\\u0430\\u0439\", \"\\u043c\\u0430\\u0439\", \"\\u043c\\u0430\\u043c\\u0430\", \"\\u043c\\u0430\\u0440\\u0442\", \"\\u043c\\u0430\\u0441\\u043a\\u0430\", \"\\u043c\\u0430\\u0441\\u0442\\u0435\\u0440\", \"\\u043c\\u0430\\u0441\\u0442\\u0435\\u0440\", \"\\u043c\\u0430\\u0448\\u0438\\u043d\\u0430\", \"\\u043c\\u0435\\u0431\\u0435\\u043b\\u044c\", \"\\u043c\\u0435\\u0434\\u0438\\u0446\\u0438\\u043d\\u0441\\u043a\\u0438\\u0439\", \"\\u043c\\u0435\\u0434\\u0438\\u0446\\u0438\\u043d\\u0441\\u043a\\u0438\\u0439\", \"\\u043c\\u0435\\u043d\\u0435\\u0434\\u0436\\u0435\\u0440\", \"\\u043c\\u0435\\u043d\\u0435\\u0434\\u0436\\u0435\\u0440\", \"\\u043c\\u0435\\u043d\\u0435\\u0435\", \"\\u043c\\u0435\\u0440\\u0430\", \"\\u043c\\u0435\\u0440\\u0430\", \"\\u043c\\u0435\\u0440\\u0430\", \"\\u043c\\u0435\\u0441\\u0442\\u043d\\u044b\\u0439\", \"\\u043c\\u0435\\u0441\\u0442\\u043e\", \"\\u043c\\u0435\\u0441\\u0442\\u043e\", \"\\u043c\\u0435\\u0441\\u0442\\u043e\", \"\\u043c\\u0435\\u0441\\u0442\\u043e\", \"\\u043c\\u0435\\u0441\\u044f\\u0446\", \"\\u043c\\u0435\\u0441\\u044f\\u0446\", \"\\u043c\\u0435\\u0441\\u044f\\u0446\", \"\\u043c\\u0435\\u0441\\u044f\\u0446\", \"\\u043c\\u0435\\u0441\\u044f\\u0446\", \"\\u043c\\u0435\\u0442\\u0440\", \"\\u043c\\u0435\\u0442\\u0440\", \"\\u043c\\u0435\\u0442\\u0440\", \"\\u043c\\u0438\\u043d\\u0443\\u0442\\u0430\", \"\\u043c\\u043d\\u043e\\u0433\\u043e\\u043a\\u0432\\u0430\\u0440\\u0442\\u0438\\u0440\\u043d\\u044b\\u0439\", \"\\u043c\\u043d\\u043e\\u0433\\u043e\\u043a\\u0432\\u0430\\u0440\\u0442\\u0438\\u0440\\u043d\\u044b\\u0439\", \"\\u043c\\u043e\\u0441\\u043a\\u0432\\u0430\", \"\\u043c\\u043e\\u0441\\u043a\\u0432\\u0430\", \"\\u043c\\u043e\\u0441\\u043a\\u0432\\u0430\", \"\\u043c\\u043e\\u0441\\u043a\\u043e\\u0432\\u0441\\u043a\\u0438\\u0439\", \"\\u043c\\u043e\\u0447\\u044c\", \"\\u043c\\u043e\\u0447\\u044c\", \"\\u043c\\u043e\\u0447\\u044c\", \"\\u043c\\u043e\\u0447\\u044c\", \"\\u043c\\u043e\\u0447\\u044c\", \"\\u043c\\u043e\\u0447\\u044c\", \"\\u043c\\u043e\\u0447\\u044c\", \"\\u043c\\u043e\\u0447\\u044c\", \"\\u043c\\u0442\\u0441\", \"\\u043c\\u0443\\u0441\\u043e\\u0440\", \"\\u043d\\u0430\\u0434\\u043b\\u0435\\u0436\\u0430\\u0449\\u0438\\u0439\", \"\\u043d\\u0430\\u0437\\u0430\\u0434\", \"\\u043d\\u0430\\u0437\\u0430\\u0434\", \"\\u043d\\u0430\\u043b\\u0438\\u0447\\u0438\\u0435\", \"\\u043d\\u0430\\u043b\\u0438\\u0447\\u043d\\u044b\\u0439\", \"\\u043d\\u0430\\u043f\\u0438\\u0441\\u0430\\u0442\\u044c\", \"\\u043d\\u0430\\u043f\\u0438\\u0441\\u0430\\u0442\\u044c\", \"\\u043d\\u0430\\u043f\\u0438\\u0441\\u0430\\u0442\\u044c\", \"\\u043d\\u0430\\u043f\\u0438\\u0441\\u0430\\u0442\\u044c\", \"\\u043d\\u0430\\u0445\\u043e\\u0434\\u0438\\u0442\\u044c\\u0441\\u044f\", \"\\u043d\\u0430\\u0445\\u043e\\u0434\\u0438\\u0442\\u044c\\u0441\\u044f\", \"\\u043d\\u0430\\u0445\\u043e\\u0434\\u0438\\u0442\\u044c\\u0441\\u044f\", \"\\u043d\\u0430\\u0447\\u0430\\u0442\\u044c\", \"\\u043d\\u0430\\u0448\", \"\\u043d\\u0430\\u0448\", \"\\u043d\\u0430\\u0448\", \"\\u043d\\u0430\\u0448\", \"\\u043d\\u0435\\u0434\\u043e\\u0441\\u0442\\u0430\\u0442\\u043e\\u043a\", \"\\u043d\\u0435\\u0441\\u043a\\u043e\\u043b\\u044c\\u043a\\u043e\", \"\\u043d\\u0435\\u0441\\u043a\\u043e\\u043b\\u044c\\u043a\\u043e\", \"\\u043d\\u0438\\u043a\\u0430\\u043a\\u043e\\u0439\", \"\\u043d\\u0438\\u043a\\u0430\\u043a\\u043e\\u0439\", \"\\u043d\\u0438\\u043a\\u0430\\u043a\\u043e\\u0439\", \"\\u043d\\u0438\\u043a\\u0430\\u043a\\u043e\\u0439\", \"\\u043d\\u043e\\u043c\\u0435\\u0440\", \"\\u043d\\u043e\\u043c\\u0435\\u0440\", \"\\u043d\\u043e\\u043c\\u0435\\u0440\", \"\\u043d\\u043e\\u043c\\u0435\\u0440\", \"\\u043d\\u0443\\u0436\\u043d\\u043e\", \"\\u043d\\u0443\\u0436\\u043d\\u043e\", \"\\u043d\\u0443\\u0436\\u043d\\u043e\", \"\\u043d\\u0443\\u0436\\u043d\\u043e\", \"\\u043e\\u0431\\u043b\\u0430\\u0441\\u0442\\u044c\", \"\\u043e\\u0431\\u043b\\u0430\\u0441\\u0442\\u044c\", \"\\u043e\\u0431\\u043c\\u0435\\u043d\", \"\\u043e\\u0431\\u043c\\u0435\\u043d\\u044f\\u0442\\u044c\", \"\\u043e\\u0431\\u0440\\u0430\\u0442\\u0438\\u0442\\u044c\\u0441\\u044f\", \"\\u043e\\u0431\\u0440\\u0430\\u0442\\u0438\\u0442\\u044c\\u0441\\u044f\", \"\\u043e\\u0431\\u0440\\u0430\\u0442\\u0438\\u0442\\u044c\\u0441\\u044f\", \"\\u043e\\u0431\\u0440\\u0430\\u0442\\u0438\\u0442\\u044c\\u0441\\u044f\", \"\\u043e\\u0431\\u0440\\u0430\\u0442\\u0438\\u0442\\u044c\\u0441\\u044f\", \"\\u043e\\u0431\\u0440\\u0430\\u0442\\u0438\\u0442\\u044c\\u0441\\u044f\", \"\\u043e\\u0431\\u0440\\u0430\\u0449\\u0435\\u043d\\u0438\\u0435\", \"\\u043e\\u0431\\u0440\\u0430\\u0449\\u0435\\u043d\\u0438\\u0435\", \"\\u043e\\u0431\\u0440\\u0430\\u0449\\u0435\\u043d\\u0438\\u0435\", \"\\u043e\\u0431\\u0440\\u0430\\u0449\\u0435\\u043d\\u0438\\u0435\", \"\\u043e\\u0431\\u0440\\u0430\\u0449\\u0435\\u043d\\u0438\\u0435\", \"\\u043e\\u0431\\u0440\\u0430\\u0449\\u0435\\u043d\\u0438\\u0435\", \"\\u043e\\u0431\\u0440\\u0430\\u0449\\u0435\\u043d\\u0438\\u0435\", \"\\u043e\\u0431\\u0443\\u0432\\u044c\", \"\\u043e\\u0431\\u044a\\u044f\\u0441\\u043d\\u0435\\u043d\\u0438\\u0435\", \"\\u043e\\u0431\\u044a\\u0451\\u043c\", \"\\u043e\\u0431\\u044f\\u0437\\u0430\\u043d\\u043d\\u043e\\u0441\\u0442\\u044c\", \"\\u043e\\u0431\\u044f\\u0437\\u0430\\u0442\\u0435\\u043b\\u044c\\u0441\\u0442\\u0432\\u043e\", \"\\u043e\\u0433\\u0440\\u0430\\u043d\\u0438\\u0447\\u0435\\u043d\\u0438\\u0435\", \"\\u043e\\u043a\\u0430\\u0437\\u0430\\u043d\\u0438\\u0435\", \"\\u043e\\u043a\\u043d\\u043e\", \"\\u043e\\u043f\\u0435\\u0440\\u0430\\u0442\\u043e\\u0440\", \"\\u043e\\u043f\\u0435\\u0440\\u0430\\u0442\\u043e\\u0440\", \"\\u043e\\u043f\\u0435\\u0440\\u0430\\u0442\\u043e\\u0440\", \"\\u043e\\u043f\\u043b\\u0430\\u0442\\u0430\", \"\\u043e\\u043f\\u043b\\u0430\\u0442\\u0430\", \"\\u043e\\u043f\\u043b\\u0430\\u0442\\u0430\", \"\\u043e\\u043f\\u043b\\u0430\\u0442\\u0438\\u0442\\u044c\", \"\\u043e\\u043f\\u043b\\u0430\\u0442\\u0438\\u0442\\u044c\", \"\\u043e\\u043f\\u043b\\u0430\\u0442\\u0438\\u0442\\u044c\", \"\\u043e\\u043f\\u043b\\u0430\\u0442\\u0438\\u0442\\u044c\", \"\\u043e\\u0440\\u0433\\u0430\\u043d\", \"\\u043e\\u0440\\u0433\\u0430\\u043d\\u0438\\u0437\\u0430\\u0446\\u0438\\u044f\", \"\\u043e\\u0440\\u0433\\u0430\\u043d\\u0438\\u0437\\u0430\\u0446\\u0438\\u044f\", \"\\u043e\\u0440\\u0433\\u0430\\u043d\\u0438\\u0437\\u0430\\u0446\\u0438\\u044f\", \"\\u043e\\u0440\\u0433\\u0430\\u043d\\u0438\\u0437\\u0430\\u0446\\u0438\\u044f\", \"\\u043e\\u0440\\u0433\\u0430\\u043d\\u0438\\u0437\\u0430\\u0446\\u0438\\u044f\", \"\\u043e\\u0441\\u043c\\u043e\\u0442\\u0440\", \"\\u043e\\u0441\\u043d\\u043e\\u0432\\u0430\\u043d\\u0438\\u0435\", \"\\u043e\\u0441\\u043d\\u043e\\u0432\\u0430\\u043d\\u0438\\u0435\", \"\\u043e\\u0441\\u043d\\u043e\\u0432\\u0430\\u043d\\u0438\\u0435\", \"\\u043e\\u0441\\u0442\\u0430\\u0432\\u0438\\u0442\\u044c\", \"\\u043e\\u0441\\u0443\\u0449\\u0435\\u0441\\u0442\\u0432\\u043b\\u044f\\u0442\\u044c\", \"\\u043e\\u0442\\u0432\\u0435\\u0442\", \"\\u043e\\u0442\\u0432\\u0435\\u0442\", \"\\u043e\\u0442\\u0432\\u0435\\u0442\", \"\\u043e\\u0442\\u0432\\u0435\\u0442\", \"\\u043e\\u0442\\u0432\\u0435\\u0442\", \"\\u043e\\u0442\\u0432\\u0435\\u0442\", \"\\u043e\\u0442\\u0432\\u0435\\u0442\", \"\\u043e\\u0442\\u0432\\u0435\\u0447\\u0430\\u0442\\u044c\", \"\\u043e\\u0442\\u0432\\u0435\\u0447\\u0430\\u0442\\u044c\", \"\\u043e\\u0442\\u0434\\u0435\\u043b\\u0435\\u043d\\u0438\\u0435\", \"\\u043e\\u0442\\u0434\\u0435\\u043b\\u044c\\u043d\\u044b\\u0439\", \"\\u043e\\u0442\\u0434\\u044b\\u0445\", \"\\u043e\\u0442\\u0437\\u044b\\u0432\", \"\\u043e\\u0442\\u043a\\u0430\\u0437\\u0430\\u0442\\u044c\", \"\\u043e\\u0442\\u043a\\u0430\\u0437\\u0430\\u0442\\u044c\", \"\\u043e\\u0442\\u043a\\u0430\\u0437\\u0430\\u0442\\u044c\", \"\\u043e\\u0442\\u043a\\u0430\\u0437\\u0430\\u0442\\u044c\", \"\\u043e\\u0442\\u043a\\u0430\\u0437\\u0430\\u0442\\u044c\", \"\\u043e\\u0442\\u043a\\u0430\\u0437\\u044b\\u0432\\u0430\\u0442\\u044c\\u0441\\u044f\", \"\\u043e\\u0442\\u043c\\u0435\\u043d\\u0438\\u0442\\u044c\", \"\\u043e\\u0442\\u0445\\u043e\\u0434\", \"\\u043e\\u0447\\u0435\\u043d\\u044c\", \"\\u043e\\u0447\\u0435\\u043d\\u044c\", \"\\u043e\\u0447\\u0435\\u043d\\u044c\", \"\\u043f\\u0430\\u043e\", \"\\u043f\\u0430\\u0440\\u0430\", \"\\u043f\\u0430\\u0441\\u043f\\u043e\\u0440\\u0442\", \"\\u043f\\u0430\\u0441\\u043f\\u043e\\u0440\\u0442\", \"\\u043f\\u0430\\u0441\\u0441\\u0430\\u0436\\u0438\\u0440\", \"\\u043f\\u0435\\u0440\\u0432\\u044b\\u0439\", \"\\u043f\\u0435\\u0440\\u0435\\u0432\\u0435\\u0441\\u0442\\u0438\", \"\\u043f\\u0435\\u0440\\u0435\\u0432\\u043e\\u0434\", \"\\u043f\\u0435\\u0440\\u0435\\u043d\\u0435\\u0441\\u0442\\u0438\", \"\\u043f\\u0435\\u0440\\u0435\\u043f\\u0438\\u0441\\u043a\\u0430\", \"\\u043f\\u0435\\u0440\\u0435\\u0441\\u0435\\u0447\\u0435\\u043d\\u0438\\u0435\", \"\\u043f\\u0435\\u0440\\u0438\\u043e\\u0434\", \"\\u043f\\u0435\\u0442\\u0435\\u0440\\u0431\\u0443\\u0440\\u0433\", \"\\u043f\\u0438\\u0441\\u044c\\u043c\\u043e\", \"\\u043f\\u0438\\u0441\\u044c\\u043c\\u043e\", \"\\u043f\\u0438\\u0442\\u0430\\u043d\\u0438\\u0435\", \"\\u043f\\u0438\\u0442\\u0430\\u043d\\u0438\\u0435\", \"\\u043f\\u043b\\u0430\\u043d\\u0438\\u0440\\u043e\\u0432\\u0430\\u0442\\u044c\", \"\\u043f\\u043b\\u0430\\u0442\\u0430\", \"\\u043f\\u043b\\u0430\\u0442\\u0451\\u0436\", \"\\u043f\\u043b\\u0430\\u0442\\u0451\\u0436\", \"\\u043f\\u043b\\u043e\\u0449\\u0430\\u0434\\u043a\\u0430\", \"\\u043f\\u043e\\u0433\\u0430\\u0448\\u0435\\u043d\\u0438\\u0435\", \"\\u043f\\u043e\\u0434\\u0434\\u0435\\u0440\\u0436\\u043a\\u0430\", \"\\u043f\\u043e\\u0434\\u0434\\u0435\\u0440\\u0436\\u043a\\u0430\", \"\\u043f\\u043e\\u0434\\u043a\\u043b\\u044e\\u0447\\u0438\\u0442\\u044c\", \"\\u043f\\u043e\\u0434\\u043f\\u0438\\u0441\\u0430\\u0442\\u044c\", \"\\u043f\\u043e\\u0434\\u0441\\u043a\\u0430\\u0437\\u0430\\u0442\\u044c\", \"\\u043f\\u043e\\u0434\\u0441\\u043a\\u0430\\u0437\\u0430\\u0442\\u044c\", \"\\u043f\\u043e\\u0434\\u0441\\u043a\\u0430\\u0437\\u0430\\u0442\\u044c\", \"\\u043f\\u043e\\u0434\\u0441\\u043a\\u0430\\u0437\\u0430\\u0442\\u044c\", \"\\u043f\\u043e\\u0434\\u0441\\u043a\\u0430\\u0437\\u0430\\u0442\\u044c\", \"\\u043f\\u043e\\u0435\\u0437\\u0434\\u043a\\u0430\", \"\\u043f\\u043e\\u0436\\u0430\\u043b\\u0443\\u0439\\u0441\\u0442\\u0430\", \"\\u043f\\u043e\\u0436\\u0430\\u043b\\u0443\\u0439\\u0441\\u0442\\u0430\", \"\\u043f\\u043e\\u0436\\u0430\\u043b\\u0443\\u0439\\u0441\\u0442\\u0430\", \"\\u043f\\u043e\\u0436\\u0430\\u043b\\u0443\\u0439\\u0441\\u0442\\u0430\", \"\\u043f\\u043e\\u0437\\u0432\\u043e\\u043d\\u0438\\u0442\\u044c\", \"\\u043f\\u043e\\u0437\\u0432\\u043e\\u043d\\u0438\\u0442\\u044c\", \"\\u043f\\u043e\\u043a\\u0443\\u043f\\u0430\\u0442\\u0435\\u043b\\u044c\", \"\\u043f\\u043e\\u043b\\u0438\\u043a\\u043b\\u0438\\u043d\\u0438\\u043a\\u0430\", \"\\u043f\\u043e\\u043b\\u043d\\u044b\\u0439\", \"\\u043f\\u043e\\u043b\\u043d\\u044b\\u0439\", \"\\u043f\\u043e\\u043b\\u043d\\u044b\\u0439\", \"\\u043f\\u043e\\u043b\\u043d\\u044b\\u0439\", \"\\u043f\\u043e\\u043b\\u043d\\u044b\\u0439\", \"\\u043f\\u043e\\u043b\\u0443\\u0447\\u0430\\u0442\\u044c\", \"\\u043f\\u043e\\u043b\\u0443\\u0447\\u0430\\u0442\\u044c\\u0441\\u044f\", \"\\u043f\\u043e\\u043b\\u0443\\u0447\\u0435\\u043d\\u0438\\u0435\", \"\\u043f\\u043e\\u043b\\u0443\\u0447\\u0435\\u043d\\u0438\\u0435\", \"\\u043f\\u043e\\u043b\\u0443\\u0447\\u0435\\u043d\\u0438\\u0435\", \"\\u043f\\u043e\\u043b\\u0443\\u0447\\u0438\\u0442\\u044c\", \"\\u043f\\u043e\\u043b\\u0443\\u0447\\u0438\\u0442\\u044c\", \"\\u043f\\u043e\\u043b\\u0443\\u0447\\u0438\\u0442\\u044c\", \"\\u043f\\u043e\\u043b\\u0443\\u0447\\u0438\\u0442\\u044c\", \"\\u043f\\u043e\\u043b\\u0443\\u0447\\u0438\\u0442\\u044c\", \"\\u043f\\u043e\\u043c\\u0435\\u0449\\u0435\\u043d\\u0438\\u0435\", \"\\u043f\\u043e\\u043c\\u043e\\u0447\\u044c\", \"\\u043f\\u043e\\u043c\\u043e\\u0447\\u044c\", \"\\u043f\\u043e\\u043c\\u043e\\u0447\\u044c\", \"\\u043f\\u043e\\u043f\\u0430\\u0441\\u0442\\u044c\", \"\\u043f\\u043e\\u043f\\u0440\\u043e\\u0441\\u0438\\u0442\\u044c\", \"\\u043f\\u043e\\u043f\\u0440\\u043e\\u0441\\u0438\\u0442\\u044c\", \"\\u043f\\u043e\\u043f\\u044b\\u0442\\u043a\\u0430\", \"\\u043f\\u043e\\u0441\\u0435\\u0442\\u0438\\u0442\\u0435\\u043b\\u044c\", \"\\u043f\\u043e\\u0441\\u0442\\u0430\\u043d\\u043e\\u0432\\u043b\\u0435\\u043d\\u0438\\u0435\", \"\\u043f\\u043e\\u0441\\u0442\\u0430\\u043d\\u043e\\u0432\\u043b\\u0435\\u043d\\u0438\\u0435\", \"\\u043f\\u043e\\u0441\\u0442\\u043e\\u044f\\u043d\\u043d\\u043e\", \"\\u043f\\u043e\\u0441\\u0442\\u043e\\u044f\\u043d\\u043d\\u043e\", \"\\u043f\\u043e\\u0441\\u0442\\u043e\\u044f\\u043d\\u043d\\u044b\\u0439\", \"\\u043f\\u043e\\u0441\\u044b\\u043b\\u043a\\u0430\", \"\\u043f\\u043e\\u0442\\u0440\\u0435\\u0431\\u0438\\u0442\\u0435\\u043b\\u044c\", \"\\u043f\\u043e\\u0442\\u0440\\u0435\\u0431\\u0438\\u0442\\u0435\\u043b\\u044c\", \"\\u043f\\u043e\\u0442\\u0440\\u0435\\u0431\\u0438\\u0442\\u0435\\u043b\\u044c\", \"\\u043f\\u043e\\u0442\\u0440\\u0435\\u0431\\u0438\\u0442\\u0435\\u043b\\u044c\", \"\\u043f\\u043e\\u0447\\u0442\\u0430\", \"\\u043f\\u043e\\u0447\\u0442\\u0430\", \"\\u043f\\u043e\\u0447\\u0442\\u0430\", \"\\u043f\\u0440\\u0430\\u0432\\u0438\\u043b\\u043e\", \"\\u043f\\u0440\\u0430\\u0432\\u043e\", \"\\u043f\\u0440\\u0430\\u0432\\u043e\", \"\\u043f\\u0440\\u0430\\u0432\\u043e\", \"\\u043f\\u0440\\u0430\\u0432\\u043e\", \"\\u043f\\u0440\\u0430\\u0432\\u043e\", \"\\u043f\\u0440\\u0430\\u0437\\u0434\\u043d\\u0438\\u043a\", \"\\u043f\\u0440\\u0435\\u0434\\u043e\\u043f\\u043b\\u0430\\u0442\\u0430\", \"\\u043f\\u0440\\u0435\\u0434\\u043e\\u0441\\u0442\\u0430\\u0432\\u0438\\u0442\\u044c\", \"\\u043f\\u0440\\u0435\\u0434\\u043e\\u0441\\u0442\\u0430\\u0432\\u0438\\u0442\\u044c\", \"\\u043f\\u0440\\u0435\\u0434\\u043e\\u0441\\u0442\\u0430\\u0432\\u0438\\u0442\\u044c\", \"\\u043f\\u0440\\u0435\\u0434\\u0441\\u0442\\u0430\\u0432\\u0438\\u0442\\u0435\\u043b\\u044c\", \"\\u043f\\u0440\\u0438\\u0431\\u044b\\u0432\\u0430\\u0442\\u044c\", \"\\u043f\\u0440\\u0438\\u0431\\u044b\\u0442\\u0438\\u0435\", \"\\u043f\\u0440\\u0438\\u0432\\u0435\\u0437\\u0442\\u0438\", \"\\u043f\\u0440\\u0438\\u0432\\u0438\\u0432\\u043a\\u0430\", \"\\u043f\\u0440\\u0438\\u0435\\u0437\\u0434\", \"\\u043f\\u0440\\u0438\\u0439\\u0442\\u0438\", \"\\u043f\\u0440\\u0438\\u0439\\u0442\\u0438\", \"\\u043f\\u0440\\u0438\\u0439\\u0442\\u0438\", \"\\u043f\\u0440\\u0438\\u0439\\u0442\\u0438\", \"\\u043f\\u0440\\u0438\\u043b\\u0435\\u0442\\u0435\\u0442\\u044c\", \"\\u043f\\u0440\\u0438\\u043b\\u043e\\u0436\\u0435\\u043d\\u0438\\u0435\", \"\\u043f\\u0440\\u0438\\u043b\\u043e\\u0436\\u0435\\u043d\\u0438\\u0435\", \"\\u043f\\u0440\\u0438\\u043b\\u043e\\u0436\\u0435\\u043d\\u0438\\u0435\", \"\\u043f\\u0440\\u0438\\u043d\\u044f\\u0442\\u044c\", \"\\u043f\\u0440\\u0438\\u043d\\u044f\\u0442\\u044c\", \"\\u043f\\u0440\\u0438\\u043d\\u044f\\u0442\\u044c\", \"\\u043f\\u0440\\u0438\\u043d\\u044f\\u0442\\u044c\", \"\\u043f\\u0440\\u0438\\u043d\\u044f\\u0442\\u044c\", \"\\u043f\\u0440\\u0438\\u043d\\u044f\\u0442\\u044c\", \"\\u043f\\u0440\\u0438\\u043d\\u044f\\u0442\\u044c\", \"\\u043f\\u0440\\u0438\\u0441\\u0443\\u0442\\u0441\\u0442\\u0432\\u043e\\u0432\\u0430\\u0442\\u044c\", \"\\u043f\\u0440\\u0438\\u0441\\u0443\\u0442\\u0441\\u0442\\u0432\\u043e\\u0432\\u0430\\u0442\\u044c\", \"\\u043f\\u0440\\u0438\\u0445\\u043e\\u0434\\u0438\\u0442\\u044c\", \"\\u043f\\u0440\\u0438\\u0451\\u043c\", \"\\u043f\\u0440\\u0438\\u0451\\u043c\", \"\\u043f\\u0440\\u0438\\u0451\\u043c\", \"\\u043f\\u0440\\u0438\\u0451\\u043c\", \"\\u043f\\u0440\\u043e\\u0432\\u0435\\u0440\\u043a\\u0430\", \"\\u043f\\u0440\\u043e\\u0432\\u0435\\u0440\\u043a\\u0430\", \"\\u043f\\u0440\\u043e\\u0432\\u0435\\u0440\\u043a\\u0430\", \"\\u043f\\u0440\\u043e\\u0432\\u0435\\u0441\\u0442\\u0438\", \"\\u043f\\u0440\\u043e\\u0432\\u0435\\u0441\\u0442\\u0438\", \"\\u043f\\u0440\\u043e\\u0432\\u0435\\u0441\\u0442\\u0438\", \"\\u043f\\u0440\\u043e\\u0432\\u0435\\u0441\\u0442\\u0438\", \"\\u043f\\u0440\\u043e\\u0432\\u0435\\u0441\\u0442\\u0438\", \"\\u043f\\u0440\\u043e\\u0432\\u0435\\u0441\\u0442\\u0438\", \"\\u043f\\u0440\\u043e\\u0434\\u0430\\u0432\\u0435\\u0446\", \"\\u043f\\u0440\\u043e\\u0434\\u0430\\u0432\\u0435\\u0446\", \"\\u043f\\u0440\\u043e\\u0434\\u0430\\u0442\\u044c\", \"\\u043f\\u0440\\u043e\\u0434\\u0443\\u043a\\u0442\", \"\\u043f\\u0440\\u043e\\u0434\\u0443\\u043a\\u0446\\u0438\\u044f\", \"\\u043f\\u0440\\u043e\\u0436\\u0438\\u0432\\u0430\\u043d\\u0438\\u0435\", \"\\u043f\\u0440\\u043e\\u0441\\u0438\\u0442\\u044c\", \"\\u043f\\u0440\\u043e\\u0441\\u0438\\u0442\\u044c\", \"\\u043f\\u0440\\u043e\\u0441\\u0438\\u0442\\u044c\", \"\\u043f\\u0440\\u043e\\u0441\\u0438\\u0442\\u044c\", \"\\u043f\\u0440\\u043e\\u0441\\u0438\\u0442\\u044c\", \"\\u043f\\u0440\\u043e\\u0441\\u0438\\u0442\\u044c\", \"\\u043f\\u0440\\u043e\\u0441\\u0438\\u0442\\u044c\", \"\\u043f\\u0440\\u043e\\u0441\\u0438\\u0442\\u044c\", \"\\u043f\\u0440\\u043e\\u0441\\u043f\\u0435\\u043a\\u0442\", \"\\u043f\\u0440\\u043e\\u0445\\u043e\\u0434\\u0438\\u0442\\u044c\", \"\\u043f\\u0440\\u043e\\u0445\\u043e\\u0434\\u0438\\u0442\\u044c\", \"\\u043f\\u0443\\u043d\\u043a\\u0442\", \"\\u043f\\u0443\\u043d\\u043a\\u0442\", \"\\u043f\\u0443\\u043d\\u043a\\u0442\", \"\\u043f\\u0443\\u043d\\u043a\\u0442\", \"\\u043f\\u0446\\u0440\", \"\\u043f\\u044b\\u0442\\u0430\\u0442\\u044c\\u0441\\u044f\", \"\\u0440\\u0430\\u0431\\u043e\\u0442\\u0430\", \"\\u0440\\u0430\\u0431\\u043e\\u0442\\u0430\", \"\\u0440\\u0430\\u0431\\u043e\\u0442\\u0430\", \"\\u0440\\u0430\\u0431\\u043e\\u0442\\u0430\", \"\\u0440\\u0430\\u0431\\u043e\\u0442\\u0430\", \"\\u0440\\u0430\\u0431\\u043e\\u0442\\u0430\\u0442\\u044c\", \"\\u0440\\u0430\\u0431\\u043e\\u0442\\u0430\\u0442\\u044c\", \"\\u0440\\u0430\\u0431\\u043e\\u0442\\u0430\\u0442\\u044c\", \"\\u0440\\u0430\\u0431\\u043e\\u0442\\u0430\\u0442\\u044c\", \"\\u0440\\u0430\\u0431\\u043e\\u0442\\u043d\\u0438\\u043a\", \"\\u0440\\u0430\\u0431\\u043e\\u0447\\u0438\\u0439\", \"\\u0440\\u0430\\u0437\\u0433\\u043e\\u0432\\u043e\\u0440\", \"\\u0440\\u0430\\u0437\\u0433\\u043e\\u0432\\u043e\\u0440\", \"\\u0440\\u0430\\u0437\\u043c\\u0435\\u0440\", \"\\u0440\\u0430\\u0437\\u043c\\u0435\\u0440\", \"\\u0440\\u0430\\u0437\\u043c\\u0435\\u0440\", \"\\u0440\\u0430\\u0437\\u044a\\u044f\\u0441\\u043d\\u0435\\u043d\\u0438\\u0435\", \"\\u0440\\u0430\\u0437\\u044a\\u044f\\u0441\\u043d\\u0438\\u0442\\u044c\", \"\\u0440\\u0430\\u0439\\u043e\\u043d\", \"\\u0440\\u0430\\u0439\\u043e\\u043d\", \"\\u0440\\u0430\\u0441\\u043f\\u043e\\u043b\\u043e\\u0436\\u0438\\u0442\\u044c\", \"\\u0440\\u0430\\u0441\\u043f\\u043e\\u043b\\u043e\\u0436\\u0438\\u0442\\u044c\", \"\\u0440\\u0430\\u0441\\u0441\\u043c\\u043e\\u0442\\u0440\\u0435\\u0442\\u044c\", \"\\u0440\\u0430\\u0441\\u0442\\u043e\\u0440\\u0436\\u0435\\u043d\\u0438\\u0435\", \"\\u0440\\u0430\\u0441\\u0447\\u0451\\u0442\", \"\\u0440\\u0430\\u0441\\u0447\\u0451\\u0442\", \"\\u0440\\u0435\\u0431\\u0451\\u043d\\u043e\\u043a\", \"\\u0440\\u0435\\u0431\\u0451\\u043d\\u043e\\u043a\", \"\\u0440\\u0435\\u0433\\u0438\\u0441\\u0442\\u0440\\u0430\\u0446\\u0438\\u044f\", \"\\u0440\\u0435\\u0437\\u0443\\u043b\\u044c\\u0442\\u0430\\u0442\", \"\\u0440\\u0435\\u0437\\u0443\\u043b\\u044c\\u0442\\u0430\\u0442\", \"\\u0440\\u0435\\u0437\\u0443\\u043b\\u044c\\u0442\\u0430\\u0442\", \"\\u0440\\u0435\\u0437\\u0443\\u043b\\u044c\\u0442\\u0430\\u0442\", \"\\u0440\\u0435\\u0437\\u0443\\u043b\\u044c\\u0442\\u0430\\u0442\", \"\\u0440\\u0435\\u0439\\u0441\", \"\\u0440\\u0435\\u043c\\u043e\\u043d\\u0442\", \"\\u0440\\u0435\\u0441\\u0442\\u043e\\u0440\\u0430\\u043d\", \"\\u0440\\u043e\\u0434\\u0438\\u0442\\u0435\\u043b\\u044c\", \"\\u0440\\u043e\\u0441\\u0441\\u0438\\u0439\\u0441\\u043a\\u0438\\u0439\", \"\\u0440\\u043e\\u0441\\u0441\\u0438\\u044f\", \"\\u0440\\u0443\\u0431\", \"\\u0440\\u0443\\u0431\\u043b\\u044c\", \"\\u0440\\u0443\\u0431\\u043b\\u044c\", \"\\u0440\\u0443\\u0431\\u043b\\u044c\", \"\\u0440\\u0443\\u0431\\u043b\\u044c\", \"\\u0440\\u0443\\u0431\\u043b\\u044c\", \"\\u0440\\u0443\\u0431\\u043b\\u044c\", \"\\u0440\\u0443\\u043a\\u0430\", \"\\u0440\\u0443\\u043a\\u0430\", \"\\u0440\\u044f\\u0434\\u043e\\u043c\", \"\\u0441\\u0430\\u0434\", \"\\u0441\\u0430\\u0439\\u0442\", \"\\u0441\\u0430\\u0439\\u0442\", \"\\u0441\\u0430\\u043b\\u043e\\u043d\", \"\\u0441\\u0430\\u043b\\u043e\\u043d\", \"\\u0441\\u0430\\u043b\\u043e\\u043d\", \"\\u0441\\u0430\\u043c\\u043e\\u0438\\u0437\\u043e\\u043b\\u044f\\u0446\\u0438\\u044f\", \"\\u0441\\u0430\\u043c\\u043e\\u043b\\u0451\\u0442\", \"\\u0441\\u0430\\u043c\\u043e\\u0441\\u0442\\u043e\\u044f\\u0442\\u0435\\u043b\\u044c\\u043d\\u043e\", \"\\u0441\\u0430\\u043d\\u0438\\u0442\\u0430\\u0440\\u043d\\u044b\\u0439\", \"\\u0441\\u0430\\u043d\\u0438\\u0442\\u0430\\u0440\\u043d\\u044b\\u0439\", \"\\u0441\\u0430\\u043d\\u043a\\u0442\", \"\\u0441\\u0430\\u043d\\u043f\\u0438\\u043d\", \"\\u0441\\u0431\\u0435\\u0440\\u0431\\u0430\\u043d\\u043a\", \"\\u0441\\u0431\\u0435\\u0440\\u0431\\u0430\\u043d\\u043a\", \"\\u0441\\u0432\\u043e\\u0439\", \"\\u0441\\u0432\\u043e\\u0439\", \"\\u0441\\u0432\\u043e\\u0439\", \"\\u0441\\u0432\\u043e\\u0439\", \"\\u0441\\u0432\\u043e\\u0439\", \"\\u0441\\u0432\\u043e\\u0439\", \"\\u0441\\u0432\\u043e\\u0439\", \"\\u0441\\u0432\\u044f\\u0437\\u0430\\u0442\\u044c\\u0441\\u044f\", \"\\u0441\\u0432\\u044f\\u0437\\u044c\", \"\\u0441\\u0432\\u044f\\u0437\\u044c\", \"\\u0441\\u0432\\u044f\\u0437\\u044c\", \"\\u0441\\u0432\\u044f\\u0437\\u044c\", \"\\u0441\\u0432\\u044f\\u0437\\u044c\", \"\\u0441\\u0434\\u0430\\u0432\\u0430\\u0442\\u044c\", \"\\u0441\\u0434\\u0430\\u0442\\u044c\", \"\\u0441\\u0434\\u0435\\u043b\\u0430\\u0442\\u044c\", \"\\u0441\\u0434\\u0435\\u043b\\u0430\\u0442\\u044c\", \"\\u0441\\u0434\\u0435\\u043b\\u0430\\u0442\\u044c\", \"\\u0441\\u0434\\u0435\\u043b\\u0430\\u0442\\u044c\", \"\\u0441\\u0435\\u0439\", \"\\u0441\\u0435\\u043c\\u044c\\u044f\", \"\\u0441\\u0435\\u0440\\u0432\\u0438\\u0441\", \"\\u0441\\u0435\\u0440\\u0442\\u0438\\u0444\\u0438\\u043a\\u0430\\u0442\", \"\\u0441\\u0438\\u0442\\u0438\\u043c\\u043e\\u0431\\u0438\\u043b\\u0430\", \"\\u0441\\u0438\\u0442\\u0443\\u0430\\u0446\\u0438\\u044f\", \"\\u0441\\u0438\\u0442\\u0443\\u0430\\u0446\\u0438\\u044f\", \"\\u0441\\u0438\\u0442\\u0443\\u0430\\u0446\\u0438\\u044f\", \"\\u0441\\u0438\\u0442\\u0443\\u0430\\u0446\\u0438\\u044f\", \"\\u0441\\u0438\\u0442\\u0443\\u0430\\u0446\\u0438\\u044f\", \"\\u0441\\u0438\\u0442\\u0443\\u0430\\u0446\\u0438\\u044f\", \"\\u0441\\u0438\\u0442\\u0443\\u0430\\u0446\\u0438\\u044f\", \"\\u0441\\u043a\\u0430\\u0437\\u0430\\u0442\\u044c\", \"\\u0441\\u043a\\u0430\\u0437\\u0430\\u0442\\u044c\", \"\\u0441\\u043a\\u0430\\u0437\\u0430\\u0442\\u044c\", \"\\u0441\\u043a\\u0430\\u0437\\u0430\\u0442\\u044c\", \"\\u0441\\u043a\\u0430\\u0437\\u0430\\u0442\\u044c\", \"\\u0441\\u043b\\u043e\\u0432\\u043e\", \"\\u0441\\u043b\\u043e\\u0436\\u0438\\u0442\\u044c\\u0441\\u044f\", \"\\u0441\\u043b\\u0443\\u0436\\u0431\\u0430\", \"\\u0441\\u043b\\u0443\\u0436\\u0431\\u0430\", \"\\u0441\\u043b\\u0443\\u0436\\u0431\\u0430\", \"\\u0441\\u043b\\u0443\\u0436\\u0431\\u0430\", \"\\u0441\\u043b\\u0443\\u0436\\u0431\\u0430\", \"\\u0441\\u043e\\u0431\\u043b\\u044e\\u0434\\u0435\\u043d\\u0438\\u0435\", \"\\u0441\\u043e\\u0431\\u0441\\u0442\\u0432\\u0435\\u043d\\u043d\\u0438\\u043a\", \"\\u0441\\u043e\\u0433\\u043b\\u0430\\u0441\\u043d\\u043e\", \"\\u0441\\u043e\\u0433\\u043b\\u0430\\u0441\\u043d\\u043e\", \"\\u0441\\u043e\\u0433\\u043b\\u0430\\u0441\\u043d\\u043e\", \"\\u0441\\u043e\\u0433\\u043b\\u0430\\u0441\\u043d\\u043e\", \"\\u0441\\u043e\\u0434\\u0435\\u0440\\u0436\\u0430\\u043d\\u0438\\u0435\", \"\\u0441\\u043e\\u043e\\u0431\\u0449\\u0435\\u043d\\u0438\\u0435\", \"\\u0441\\u043e\\u043e\\u0431\\u0449\\u0435\\u043d\\u0438\\u0435\", \"\\u0441\\u043e\\u043e\\u0431\\u0449\\u0435\\u043d\\u0438\\u0435\", \"\\u0441\\u043e\\u043e\\u0442\\u0432\\u0435\\u0442\\u0441\\u0442\\u0432\\u0438\\u0435\", \"\\u0441\\u043e\\u0442\\u0440\\u0443\\u0434\\u043d\\u0438\\u043a\", \"\\u0441\\u043e\\u0442\\u0440\\u0443\\u0434\\u043d\\u0438\\u043a\", \"\\u0441\\u043e\\u0442\\u0440\\u0443\\u0434\\u043d\\u0438\\u043a\", \"\\u0441\\u043e\\u0442\\u0440\\u0443\\u0434\\u043d\\u0438\\u043a\", \"\\u0441\\u043e\\u0442\\u0440\\u0443\\u0434\\u043d\\u0438\\u043a\", \"\\u0441\\u043e\\u0442\\u0440\\u0443\\u0434\\u043d\\u0438\\u043a\", \"\\u0441\\u043f\\u0435\\u0446\\u0438\\u0430\\u043b\\u0438\\u0441\\u0442\", \"\\u0441\\u043f\\u0438\\u0441\\u0430\\u0442\\u044c\", \"\\u0441\\u043f\\u0443\\u0441\\u0442\\u044f\", \"\\u0441\\u0440\\u0430\\u0437\\u0443\", \"\\u0441\\u0440\\u0435\\u0434\\u0441\\u0442\\u0432\\u043e\", \"\\u0441\\u0440\\u0435\\u0434\\u0441\\u0442\\u0432\\u043e\", \"\\u0441\\u0440\\u0435\\u0434\\u0441\\u0442\\u0432\\u043e\", \"\\u0441\\u0440\\u043e\\u043a\", \"\\u0441\\u0440\\u043e\\u043a\", \"\\u0441\\u0440\\u043e\\u043a\", \"\\u0441\\u0441\\u044b\\u043b\\u0430\\u0442\\u044c\\u0441\\u044f\", \"\\u0441\\u0441\\u044b\\u043b\\u0430\\u0442\\u044c\\u0441\\u044f\", \"\\u0441\\u0441\\u044b\\u043b\\u0430\\u0442\\u044c\\u0441\\u044f\", \"\\u0441\\u0441\\u044b\\u043b\\u0430\\u0442\\u044c\\u0441\\u044f\", \"\\u0441\\u0441\\u044b\\u043b\\u043a\\u0430\", \"\\u0441\\u0442\\u0430\\u0442\\u044c\", \"\\u0441\\u0442\\u0430\\u0442\\u044c\\u044f\", \"\\u0441\\u0442\\u0430\\u0442\\u044c\\u044f\", \"\\u0441\\u0442\\u0440\\u0430\\u0445\\u043e\\u0432\\u0430\\u043d\\u0438\\u0435\", \"\\u0441\\u0442\\u0440\\u0430\\u0445\\u043e\\u0432\\u043e\\u0439\", \"\\u0441\\u0443\\u0434\", \"\\u0441\\u0443\\u0434\", \"\\u0441\\u0443\\u043c\\u043c\\u0430\", \"\\u0441\\u0443\\u043c\\u043c\\u0430\", \"\\u0441\\u0443\\u0442\\u043a\\u0438\", \"\\u0441\\u0443\\u0442\\u043a\\u0438\", \"\\u0441\\u0447\\u0451\\u0442\", \"\\u0441\\u0447\\u0451\\u0442\", \"\\u0441\\u0447\\u0451\\u0442\\u0447\\u0438\\u043a\", \"\\u0441\\u044b\\u043d\", \"\\u0442\\u0430\\u043a\\u0436\\u0435\", \"\\u0442\\u0430\\u043a\\u0436\\u0435\", \"\\u0442\\u0430\\u043a\\u0436\\u0435\", \"\\u0442\\u0430\\u043a\\u0436\\u0435\", \"\\u0442\\u0430\\u043a\\u0436\\u0435\", \"\\u0442\\u0430\\u043a\\u0436\\u0435\", \"\\u0442\\u0430\\u043a\\u0436\\u0435\", \"\\u0442\\u0430\\u043a\\u0441\\u0438\", \"\\u0442\\u0430\\u043a\\u0441\\u0438\", \"\\u0442\\u0435\\u043b\\u0435\\u0432\\u0438\\u0437\\u043e\\u0440\", \"\\u0442\\u0435\\u043b\\u0435\\u0444\\u043e\\u043d\", \"\\u0442\\u0435\\u043b\\u0435\\u0444\\u043e\\u043d\", \"\\u0442\\u0435\\u043b\\u0435\\u0444\\u043e\\u043d\", \"\\u0442\\u0435\\u043b\\u0435\\u0444\\u043e\\u043d\", \"\\u0442\\u0435\\u043b\\u043e\", \"\\u0442\\u0435\\u043c\\u043f\\u0435\\u0440\\u0430\\u0442\\u0443\\u0440\\u0430\", \"\\u0442\\u0435\\u0440\\u0440\\u0438\\u0442\\u043e\\u0440\\u0438\\u044f\", \"\\u0442\\u0435\\u0441\\u0442\", \"\\u0442\\u0435\\u0441\\u0442\\u0438\\u0440\\u043e\\u0432\\u0430\\u043d\\u0438\\u0435\", \"\\u0442\\u0435\\u0447\\u0435\\u043d\\u0438\\u0435\", \"\\u0442\\u0435\\u0447\\u0435\\u043d\\u0438\\u0435\", \"\\u0442\\u043a\\u043e\", \"\\u0442\\u043e\\u0432\\u0430\\u0440\", \"\\u0442\\u043e\\u0432\\u0430\\u0440\", \"\\u0442\\u0440\\u0435\\u0431\\u043e\\u0432\\u0430\\u043d\\u0438\\u0435\", \"\\u0442\\u0440\\u0435\\u0431\\u043e\\u0432\\u0430\\u043d\\u0438\\u0435\", \"\\u0442\\u0440\\u0435\\u0431\\u043e\\u0432\\u0430\\u043d\\u0438\\u0435\", \"\\u0442\\u0440\\u0435\\u0431\\u043e\\u0432\\u0430\\u0442\\u044c\\u0441\\u044f\", \"\\u0442\\u0443\\u0440\", \"\\u0442\\u0443\\u0440\\u043e\\u043f\\u0435\\u0440\\u0430\\u0442\\u043e\\u0440\", \"\\u0442\\u0443\\u0440\\u0446\\u0438\\u044f\", \"\\u0442\\u044b\\u0441\\u044f\\u0447\\u0430\", \"\\u0443\\u0432\\u0438\\u0434\\u0435\\u0442\\u044c\", \"\\u0443\\u043a\\u0440\\u0430\\u0438\\u043d\\u0430\", \"\\u0443\\u043b\\u0438\\u0446\\u0430\", \"\\u0443\\u043f\\u0430\\u043a\\u043e\\u0432\\u043a\\u0430\", \"\\u0443\\u043f\\u0440\\u0430\\u0432\\u043b\\u044f\\u0442\\u044c\", \"\\u0443\\u0440\\u043e\\u0432\\u0435\\u043d\\u044c\", \"\\u0443\\u0441\\u043b\\u043e\\u0432\\u0438\\u0435\", \"\\u0443\\u0441\\u043b\\u043e\\u0432\\u0438\\u0435\", \"\\u0443\\u0441\\u043b\\u043e\\u0432\\u0438\\u0435\", \"\\u0443\\u0441\\u043b\\u043e\\u0432\\u0438\\u0435\", \"\\u0443\\u0441\\u043b\\u043e\\u0432\\u0438\\u0435\", \"\\u0443\\u0441\\u043b\\u043e\\u0432\\u0438\\u0435\", \"\\u0443\\u0441\\u043b\\u043e\\u0432\\u0438\\u0435\", \"\\u0443\\u0441\\u043b\\u0443\\u0433\\u0430\", \"\\u0443\\u0441\\u0442\\u0430\\u043d\\u043e\\u0432\\u043b\\u0435\\u043d\\u043d\\u044b\\u0439\", \"\\u0443\\u0441\\u0442\\u0440\\u0430\\u043d\\u0438\\u0442\\u044c\", \"\\u0443\\u0442\\u0432\\u0435\\u0440\\u0436\\u0434\\u0430\\u0442\\u044c\", \"\\u0443\\u0447\\u0430\\u0441\\u0442\\u043e\\u043a\", \"\\u0443\\u0447\\u0440\\u0435\\u0436\\u0434\\u0435\\u043d\\u0438\\u0435\", \"\\u0444\\u0435\\u0434\\u0435\\u0440\\u0430\\u043b\\u044c\\u043d\\u044b\\u0439\", \"\\u0444\\u0435\\u0434\\u0435\\u0440\\u0430\\u0446\\u0438\\u044f\", \"\\u0444\\u0438\\u0440\\u043c\\u0430\", \"\\u0445\\u043e\\u0442\\u0435\\u0442\\u044c\", \"\\u0445\\u043e\\u0442\\u0435\\u0442\\u044c\", \"\\u0445\\u043e\\u0442\\u0435\\u0442\\u044c\", \"\\u0445\\u043e\\u0442\\u0435\\u0442\\u044c\", \"\\u0445\\u043e\\u0442\\u0435\\u0442\\u044c\", \"\\u0446\\u0435\\u043d\\u0430\", \"\\u0446\\u0435\\u043d\\u0442\\u0440\", \"\\u0446\\u0435\\u043d\\u0442\\u0440\", \"\\u0447\\u0430\\u0441\", \"\\u0447\\u0430\\u0441\", \"\\u0447\\u0430\\u0441\", \"\\u0447\\u0430\\u0441\", \"\\u0447\\u0430\\u0441\\u0442\\u044c\", \"\\u0447\\u0430\\u0441\\u0442\\u044c\", \"\\u0447\\u0430\\u0441\\u0442\\u044c\", \"\\u0447\\u0430\\u0441\\u0442\\u044c\", \"\\u0447\\u0430\\u0441\\u0442\\u044c\", \"\\u0447\\u0430\\u0441\\u0442\\u044c\", \"\\u0447\\u0435\\u043a\", \"\\u0447\\u0435\\u043a\", \"\\u0447\\u0435\\u043b\\u043e\\u0432\\u0435\\u043a\", \"\\u0447\\u0435\\u043b\\u043e\\u0432\\u0435\\u043a\", \"\\u0447\\u0435\\u043b\\u043e\\u0432\\u0435\\u043a\", \"\\u044d\\u043a\\u0441\\u043f\\u0435\\u0440\\u0442\\u0438\\u0437\\u0430\", \"\\u044d\\u043b\\u0435\\u043a\\u0442\\u0440\\u043e\\u043d\\u043d\\u044b\\u0439\", \"\\u044d\\u043b\\u0435\\u043a\\u0442\\u0440\\u043e\\u043d\\u043d\\u044b\\u0439\", \"\\u044d\\u043b\\u0435\\u043a\\u0442\\u0440\\u043e\\u043d\\u043d\\u044b\\u0439\", \"\\u044d\\u0442\\u0430\\u0436\"]}, \"R\": 30, \"lambda.step\": 0.01, \"plot.opts\": {\"xlab\": \"PC1\", \"ylab\": \"PC2\"}, \"topic.order\": [7, 5, 6, 4, 2, 3, 8, 1]};\n",
              "\n",
              "function LDAvis_load_lib(url, callback){\n",
              "  var s = document.createElement('script');\n",
              "  s.src = url;\n",
              "  s.async = true;\n",
              "  s.onreadystatechange = s.onload = callback;\n",
              "  s.onerror = function(){console.warn(\"failed to load library \" + url);};\n",
              "  document.getElementsByTagName(\"head\")[0].appendChild(s);\n",
              "}\n",
              "\n",
              "if(typeof(LDAvis) !== \"undefined\"){\n",
              "   // already loaded: just create the visualization\n",
              "   !function(LDAvis){\n",
              "       new LDAvis(\"#\" + \"ldavis_el1654140089726739664756461508\", ldavis_el1654140089726739664756461508_data);\n",
              "   }(LDAvis);\n",
              "}else if(typeof define === \"function\" && define.amd){\n",
              "   // require.js is available: use it to load d3/LDAvis\n",
              "   require.config({paths: {d3: \"https://d3js.org/d3.v5\"}});\n",
              "   require([\"d3\"], function(d3){\n",
              "      window.d3 = d3;\n",
              "      LDAvis_load_lib(\"https://cdn.jsdelivr.net/gh/bmabey/pyLDAvis@3.3.1/pyLDAvis/js/ldavis.v3.0.0.js\", function(){\n",
              "        new LDAvis(\"#\" + \"ldavis_el1654140089726739664756461508\", ldavis_el1654140089726739664756461508_data);\n",
              "      });\n",
              "    });\n",
              "}else{\n",
              "    // require.js not available: dynamically load d3 & LDAvis\n",
              "    LDAvis_load_lib(\"https://d3js.org/d3.v5.js\", function(){\n",
              "         LDAvis_load_lib(\"https://cdn.jsdelivr.net/gh/bmabey/pyLDAvis@3.3.1/pyLDAvis/js/ldavis.v3.0.0.js\", function(){\n",
              "                 new LDAvis(\"#\" + \"ldavis_el1654140089726739664756461508\", ldavis_el1654140089726739664756461508_data);\n",
              "            })\n",
              "         });\n",
              "}\n",
              "</script>"
            ]
          },
          "metadata": {},
          "execution_count": 33
        }
      ],
      "source": [
        "lda_8 = ldamodel.LdaModel(corpus, id2word=dictionary, num_topics=8, chunksize=50, update_every=1, passes=2)\n",
        "vis_data = gensimvis.prepare(lda_8, corpus, dictionary)\n",
        "pyLDAvis.display(vis_data)"
      ],
      "id": "-l9FrKjff6Ms"
    },
    {
      "cell_type": "code",
      "source": [
        "lda_8.show_topics(num_topics=8, num_words=10, formatted=True)"
      ],
      "metadata": {
        "colab": {
          "base_uri": "https://localhost:8080/"
        },
        "id": "QA_EtA9nOVWB",
        "outputId": "5820c5d6-c1c7-49aa-9a62-a01fbcc9cc14"
      },
      "id": "QA_EtA9nOVWB",
      "execution_count": 34,
      "outputs": [
        {
          "output_type": "execute_result",
          "data": {
            "text/plain": [
              "[(0,\n",
              "  '0.035*\"гражданин\" + 0.023*\"территория\" + 0.017*\"право\" + 0.015*\"мусор\" + 0.015*\"правило\" + 0.014*\"иметь\" + 0.013*\"постановление\" + 0.012*\"закон\" + 0.012*\"санитарный\" + 0.012*\"российский\"'),\n",
              " (1,\n",
              "  '0.031*\"день\" + 0.019*\"год\" + 0.016*\"средство\" + 0.016*\"апрель\" + 0.015*\"требование\" + 0.014*\"сад\" + 0.014*\"документ\" + 0.014*\"родитель\" + 0.014*\"май\" + 0.013*\"срок\"'),\n",
              " (2,\n",
              "  '0.050*\"услуга\" + 0.049*\"договор\" + 0.034*\"компания\" + 0.024*\"ремонт\" + 0.022*\"вода\" + 0.022*\"сдать\" + 0.013*\"поездка\" + 0.012*\"замена\" + 0.011*\"связь\" + 0.010*\"акт\"'),\n",
              " (3,\n",
              "  '0.035*\"дом\" + 0.026*\"ребёнок\" + 0.021*\"адрес\" + 0.021*\"просить\" + 0.015*\"год\" + 0.013*\"наш\" + 0.010*\"всё\" + 0.009*\"работать\" + 0.009*\"проверка\" + 0.009*\"covid\"'),\n",
              " (4,\n",
              "  '0.046*\"товар\" + 0.042*\"магазин\" + 0.037*\"тест\" + 0.030*\"день\" + 0.022*\"заказ\" + 0.021*\"продавец\" + 0.020*\"пцр\" + 0.018*\"россия\" + 0.015*\"нужно\" + 0.015*\"добрый\"'),\n",
              " (5,\n",
              "  '0.021*\"сайт\" + 0.018*\"день\" + 0.017*\"ответ\" + 0.015*\"просить\" + 0.015*\"сотрудник\" + 0.014*\"получить\" + 0.013*\"обращение\" + 0.013*\"вопрос\" + 0.012*\"дать\" + 0.012*\"номер\"'),\n",
              " (6,\n",
              "  '0.025*\"деньга\" + 0.023*\"возврат\" + 0.021*\"вернуть\" + 0.020*\"сказать\" + 0.018*\"банк\" + 0.016*\"день\" + 0.015*\"телефон\" + 0.013*\"карта\" + 0.012*\"сумма\" + 0.011*\"чек\"'),\n",
              " (7,\n",
              "  '0.019*\"находиться\" + 0.019*\"маска\" + 0.016*\"детский\" + 0.015*\"группа\" + 0.014*\"первый\" + 0.013*\"водитель\" + 0.013*\"врач\" + 0.012*\"всё\" + 0.011*\"очень\" + 0.010*\"человек\"')]"
            ]
          },
          "metadata": {},
          "execution_count": 34
        }
      ]
    },
    {
      "cell_type": "markdown",
      "source": [
        "Можно попробовать определить темы: номер 7 - нахождение в масках в детских садах, номер 6 - возврат денег, номер 5 - проблемы с коммуникацией на сайтах, номер 4 - проблема с покупкой товаров в магазине, 3 - выплаты по детям?,  2 - обращения по услугам по ремноту, 1 - ??, 0 - уборка мусора. "
      ],
      "metadata": {
        "id": "eWYQlOb4OinM"
      },
      "id": "eWYQlOb4OinM"
    }
  ],
  "metadata": {
    "kernelspec": {
      "display_name": "Python 3",
      "language": "python",
      "name": "python3"
    },
    "language_info": {
      "codemirror_mode": {
        "name": "ipython",
        "version": 3
      },
      "file_extension": ".py",
      "mimetype": "text/x-python",
      "name": "python",
      "nbconvert_exporter": "python",
      "pygments_lexer": "ipython3",
      "version": "3.7.5"
    },
    "colab": {
      "name": "HW_04_lda.ipynb",
      "provenance": [],
      "collapsed_sections": [],
      "machine_shape": "hm",
      "include_colab_link": true
    },
    "accelerator": "GPU",
    "widgets": {
      "application/vnd.jupyter.widget-state+json": {
        "ac5ed62c15004a2c91986544032e581e": {
          "model_module": "@jupyter-widgets/controls",
          "model_name": "HBoxModel",
          "model_module_version": "1.5.0",
          "state": {
            "_dom_classes": [],
            "_model_module": "@jupyter-widgets/controls",
            "_model_module_version": "1.5.0",
            "_model_name": "HBoxModel",
            "_view_count": null,
            "_view_module": "@jupyter-widgets/controls",
            "_view_module_version": "1.5.0",
            "_view_name": "HBoxView",
            "box_style": "",
            "children": [
              "IPY_MODEL_bbd7d534f06c44c5b65717e65cc6bc36",
              "IPY_MODEL_900af86adcf8476491b070d13f847256",
              "IPY_MODEL_ce2657a65f4a4450a978441655f45478"
            ],
            "layout": "IPY_MODEL_d1d50101fdfd4989857681e448ca57c1"
          }
        },
        "bbd7d534f06c44c5b65717e65cc6bc36": {
          "model_module": "@jupyter-widgets/controls",
          "model_name": "HTMLModel",
          "model_module_version": "1.5.0",
          "state": {
            "_dom_classes": [],
            "_model_module": "@jupyter-widgets/controls",
            "_model_module_version": "1.5.0",
            "_model_name": "HTMLModel",
            "_view_count": null,
            "_view_module": "@jupyter-widgets/controls",
            "_view_module_version": "1.5.0",
            "_view_name": "HTMLView",
            "description": "",
            "description_tooltip": null,
            "layout": "IPY_MODEL_e250755e8e6444c0a9dead964f1caeab",
            "placeholder": "​",
            "style": "IPY_MODEL_8da7957700a64d0d98904359bdde7e4c",
            "value": "Pages: 100%"
          }
        },
        "900af86adcf8476491b070d13f847256": {
          "model_module": "@jupyter-widgets/controls",
          "model_name": "FloatProgressModel",
          "model_module_version": "1.5.0",
          "state": {
            "_dom_classes": [],
            "_model_module": "@jupyter-widgets/controls",
            "_model_module_version": "1.5.0",
            "_model_name": "FloatProgressModel",
            "_view_count": null,
            "_view_module": "@jupyter-widgets/controls",
            "_view_module_version": "1.5.0",
            "_view_name": "ProgressView",
            "bar_style": "success",
            "description": "",
            "description_tooltip": null,
            "layout": "IPY_MODEL_875115dd978247adbe105102f372a82d",
            "max": 999,
            "min": 0,
            "orientation": "horizontal",
            "style": "IPY_MODEL_bb320aa6e2f446e8af1724d80cd5de68",
            "value": 999
          }
        },
        "ce2657a65f4a4450a978441655f45478": {
          "model_module": "@jupyter-widgets/controls",
          "model_name": "HTMLModel",
          "model_module_version": "1.5.0",
          "state": {
            "_dom_classes": [],
            "_model_module": "@jupyter-widgets/controls",
            "_model_module_version": "1.5.0",
            "_model_name": "HTMLModel",
            "_view_count": null,
            "_view_module": "@jupyter-widgets/controls",
            "_view_module_version": "1.5.0",
            "_view_name": "HTMLView",
            "description": "",
            "description_tooltip": null,
            "layout": "IPY_MODEL_3c7448da21fa4e09ae35872d39b81efd",
            "placeholder": "​",
            "style": "IPY_MODEL_08e36e0298cb4ea49dcd0aa7160dc47c",
            "value": " 999/999 [29:03&lt;00:00,  1.82s/it]"
          }
        },
        "d1d50101fdfd4989857681e448ca57c1": {
          "model_module": "@jupyter-widgets/base",
          "model_name": "LayoutModel",
          "model_module_version": "1.2.0",
          "state": {
            "_model_module": "@jupyter-widgets/base",
            "_model_module_version": "1.2.0",
            "_model_name": "LayoutModel",
            "_view_count": null,
            "_view_module": "@jupyter-widgets/base",
            "_view_module_version": "1.2.0",
            "_view_name": "LayoutView",
            "align_content": null,
            "align_items": null,
            "align_self": null,
            "border": null,
            "bottom": null,
            "display": null,
            "flex": null,
            "flex_flow": null,
            "grid_area": null,
            "grid_auto_columns": null,
            "grid_auto_flow": null,
            "grid_auto_rows": null,
            "grid_column": null,
            "grid_gap": null,
            "grid_row": null,
            "grid_template_areas": null,
            "grid_template_columns": null,
            "grid_template_rows": null,
            "height": null,
            "justify_content": null,
            "justify_items": null,
            "left": null,
            "margin": null,
            "max_height": null,
            "max_width": null,
            "min_height": null,
            "min_width": null,
            "object_fit": null,
            "object_position": null,
            "order": null,
            "overflow": null,
            "overflow_x": null,
            "overflow_y": null,
            "padding": null,
            "right": null,
            "top": null,
            "visibility": null,
            "width": null
          }
        },
        "e250755e8e6444c0a9dead964f1caeab": {
          "model_module": "@jupyter-widgets/base",
          "model_name": "LayoutModel",
          "model_module_version": "1.2.0",
          "state": {
            "_model_module": "@jupyter-widgets/base",
            "_model_module_version": "1.2.0",
            "_model_name": "LayoutModel",
            "_view_count": null,
            "_view_module": "@jupyter-widgets/base",
            "_view_module_version": "1.2.0",
            "_view_name": "LayoutView",
            "align_content": null,
            "align_items": null,
            "align_self": null,
            "border": null,
            "bottom": null,
            "display": null,
            "flex": null,
            "flex_flow": null,
            "grid_area": null,
            "grid_auto_columns": null,
            "grid_auto_flow": null,
            "grid_auto_rows": null,
            "grid_column": null,
            "grid_gap": null,
            "grid_row": null,
            "grid_template_areas": null,
            "grid_template_columns": null,
            "grid_template_rows": null,
            "height": null,
            "justify_content": null,
            "justify_items": null,
            "left": null,
            "margin": null,
            "max_height": null,
            "max_width": null,
            "min_height": null,
            "min_width": null,
            "object_fit": null,
            "object_position": null,
            "order": null,
            "overflow": null,
            "overflow_x": null,
            "overflow_y": null,
            "padding": null,
            "right": null,
            "top": null,
            "visibility": null,
            "width": null
          }
        },
        "8da7957700a64d0d98904359bdde7e4c": {
          "model_module": "@jupyter-widgets/controls",
          "model_name": "DescriptionStyleModel",
          "model_module_version": "1.5.0",
          "state": {
            "_model_module": "@jupyter-widgets/controls",
            "_model_module_version": "1.5.0",
            "_model_name": "DescriptionStyleModel",
            "_view_count": null,
            "_view_module": "@jupyter-widgets/base",
            "_view_module_version": "1.2.0",
            "_view_name": "StyleView",
            "description_width": ""
          }
        },
        "875115dd978247adbe105102f372a82d": {
          "model_module": "@jupyter-widgets/base",
          "model_name": "LayoutModel",
          "model_module_version": "1.2.0",
          "state": {
            "_model_module": "@jupyter-widgets/base",
            "_model_module_version": "1.2.0",
            "_model_name": "LayoutModel",
            "_view_count": null,
            "_view_module": "@jupyter-widgets/base",
            "_view_module_version": "1.2.0",
            "_view_name": "LayoutView",
            "align_content": null,
            "align_items": null,
            "align_self": null,
            "border": null,
            "bottom": null,
            "display": null,
            "flex": null,
            "flex_flow": null,
            "grid_area": null,
            "grid_auto_columns": null,
            "grid_auto_flow": null,
            "grid_auto_rows": null,
            "grid_column": null,
            "grid_gap": null,
            "grid_row": null,
            "grid_template_areas": null,
            "grid_template_columns": null,
            "grid_template_rows": null,
            "height": null,
            "justify_content": null,
            "justify_items": null,
            "left": null,
            "margin": null,
            "max_height": null,
            "max_width": null,
            "min_height": null,
            "min_width": null,
            "object_fit": null,
            "object_position": null,
            "order": null,
            "overflow": null,
            "overflow_x": null,
            "overflow_y": null,
            "padding": null,
            "right": null,
            "top": null,
            "visibility": null,
            "width": null
          }
        },
        "bb320aa6e2f446e8af1724d80cd5de68": {
          "model_module": "@jupyter-widgets/controls",
          "model_name": "ProgressStyleModel",
          "model_module_version": "1.5.0",
          "state": {
            "_model_module": "@jupyter-widgets/controls",
            "_model_module_version": "1.5.0",
            "_model_name": "ProgressStyleModel",
            "_view_count": null,
            "_view_module": "@jupyter-widgets/base",
            "_view_module_version": "1.2.0",
            "_view_name": "StyleView",
            "bar_color": null,
            "description_width": ""
          }
        },
        "3c7448da21fa4e09ae35872d39b81efd": {
          "model_module": "@jupyter-widgets/base",
          "model_name": "LayoutModel",
          "model_module_version": "1.2.0",
          "state": {
            "_model_module": "@jupyter-widgets/base",
            "_model_module_version": "1.2.0",
            "_model_name": "LayoutModel",
            "_view_count": null,
            "_view_module": "@jupyter-widgets/base",
            "_view_module_version": "1.2.0",
            "_view_name": "LayoutView",
            "align_content": null,
            "align_items": null,
            "align_self": null,
            "border": null,
            "bottom": null,
            "display": null,
            "flex": null,
            "flex_flow": null,
            "grid_area": null,
            "grid_auto_columns": null,
            "grid_auto_flow": null,
            "grid_auto_rows": null,
            "grid_column": null,
            "grid_gap": null,
            "grid_row": null,
            "grid_template_areas": null,
            "grid_template_columns": null,
            "grid_template_rows": null,
            "height": null,
            "justify_content": null,
            "justify_items": null,
            "left": null,
            "margin": null,
            "max_height": null,
            "max_width": null,
            "min_height": null,
            "min_width": null,
            "object_fit": null,
            "object_position": null,
            "order": null,
            "overflow": null,
            "overflow_x": null,
            "overflow_y": null,
            "padding": null,
            "right": null,
            "top": null,
            "visibility": null,
            "width": null
          }
        },
        "08e36e0298cb4ea49dcd0aa7160dc47c": {
          "model_module": "@jupyter-widgets/controls",
          "model_name": "DescriptionStyleModel",
          "model_module_version": "1.5.0",
          "state": {
            "_model_module": "@jupyter-widgets/controls",
            "_model_module_version": "1.5.0",
            "_model_name": "DescriptionStyleModel",
            "_view_count": null,
            "_view_module": "@jupyter-widgets/base",
            "_view_module_version": "1.2.0",
            "_view_name": "StyleView",
            "description_width": ""
          }
        },
        "0bb39d9b7de24bcfbac5fcfa25ec6b0b": {
          "model_module": "@jupyter-widgets/controls",
          "model_name": "HBoxModel",
          "model_module_version": "1.5.0",
          "state": {
            "_dom_classes": [],
            "_model_module": "@jupyter-widgets/controls",
            "_model_module_version": "1.5.0",
            "_model_name": "HBoxModel",
            "_view_count": null,
            "_view_module": "@jupyter-widgets/controls",
            "_view_module_version": "1.5.0",
            "_view_name": "HBoxView",
            "box_style": "",
            "children": [
              "IPY_MODEL_f5e2367a04704394b6eea601a2c47082",
              "IPY_MODEL_245c4a85a7634d98bab9e9f9dcc30879",
              "IPY_MODEL_dec48a4297d24ea9a95f2071d0854c56"
            ],
            "layout": "IPY_MODEL_87bea960bf9e464ca04e90752df85458"
          }
        },
        "f5e2367a04704394b6eea601a2c47082": {
          "model_module": "@jupyter-widgets/controls",
          "model_name": "HTMLModel",
          "model_module_version": "1.5.0",
          "state": {
            "_dom_classes": [],
            "_model_module": "@jupyter-widgets/controls",
            "_model_module_version": "1.5.0",
            "_model_name": "HTMLModel",
            "_view_count": null,
            "_view_module": "@jupyter-widgets/controls",
            "_view_module_version": "1.5.0",
            "_view_name": "HTMLView",
            "description": "",
            "description_tooltip": null,
            "layout": "IPY_MODEL_205138dd0aef420582723621a5c59fc8",
            "placeholder": "​",
            "style": "IPY_MODEL_5dfd722d2c6f4a8b9c931181beb99e89",
            "value": "Pages: 100%"
          }
        },
        "245c4a85a7634d98bab9e9f9dcc30879": {
          "model_module": "@jupyter-widgets/controls",
          "model_name": "FloatProgressModel",
          "model_module_version": "1.5.0",
          "state": {
            "_dom_classes": [],
            "_model_module": "@jupyter-widgets/controls",
            "_model_module_version": "1.5.0",
            "_model_name": "FloatProgressModel",
            "_view_count": null,
            "_view_module": "@jupyter-widgets/controls",
            "_view_module_version": "1.5.0",
            "_view_name": "ProgressView",
            "bar_style": "success",
            "description": "",
            "description_tooltip": null,
            "layout": "IPY_MODEL_07897d1a6ba1415cbea2245cee60649b",
            "max": 4995,
            "min": 0,
            "orientation": "horizontal",
            "style": "IPY_MODEL_d3412528b4f54bfdb81d54e56cada38e",
            "value": 4995
          }
        },
        "dec48a4297d24ea9a95f2071d0854c56": {
          "model_module": "@jupyter-widgets/controls",
          "model_name": "HTMLModel",
          "model_module_version": "1.5.0",
          "state": {
            "_dom_classes": [],
            "_model_module": "@jupyter-widgets/controls",
            "_model_module_version": "1.5.0",
            "_model_name": "HTMLModel",
            "_view_count": null,
            "_view_module": "@jupyter-widgets/controls",
            "_view_module_version": "1.5.0",
            "_view_name": "HTMLView",
            "description": "",
            "description_tooltip": null,
            "layout": "IPY_MODEL_cb3b4e2f775848948be7031f086b9593",
            "placeholder": "​",
            "style": "IPY_MODEL_9073025e780c41c5bc1657e18e5af5b4",
            "value": " 4995/4995 [2:34:40&lt;00:00,  1.84s/it]"
          }
        },
        "87bea960bf9e464ca04e90752df85458": {
          "model_module": "@jupyter-widgets/base",
          "model_name": "LayoutModel",
          "model_module_version": "1.2.0",
          "state": {
            "_model_module": "@jupyter-widgets/base",
            "_model_module_version": "1.2.0",
            "_model_name": "LayoutModel",
            "_view_count": null,
            "_view_module": "@jupyter-widgets/base",
            "_view_module_version": "1.2.0",
            "_view_name": "LayoutView",
            "align_content": null,
            "align_items": null,
            "align_self": null,
            "border": null,
            "bottom": null,
            "display": null,
            "flex": null,
            "flex_flow": null,
            "grid_area": null,
            "grid_auto_columns": null,
            "grid_auto_flow": null,
            "grid_auto_rows": null,
            "grid_column": null,
            "grid_gap": null,
            "grid_row": null,
            "grid_template_areas": null,
            "grid_template_columns": null,
            "grid_template_rows": null,
            "height": null,
            "justify_content": null,
            "justify_items": null,
            "left": null,
            "margin": null,
            "max_height": null,
            "max_width": null,
            "min_height": null,
            "min_width": null,
            "object_fit": null,
            "object_position": null,
            "order": null,
            "overflow": null,
            "overflow_x": null,
            "overflow_y": null,
            "padding": null,
            "right": null,
            "top": null,
            "visibility": null,
            "width": null
          }
        },
        "205138dd0aef420582723621a5c59fc8": {
          "model_module": "@jupyter-widgets/base",
          "model_name": "LayoutModel",
          "model_module_version": "1.2.0",
          "state": {
            "_model_module": "@jupyter-widgets/base",
            "_model_module_version": "1.2.0",
            "_model_name": "LayoutModel",
            "_view_count": null,
            "_view_module": "@jupyter-widgets/base",
            "_view_module_version": "1.2.0",
            "_view_name": "LayoutView",
            "align_content": null,
            "align_items": null,
            "align_self": null,
            "border": null,
            "bottom": null,
            "display": null,
            "flex": null,
            "flex_flow": null,
            "grid_area": null,
            "grid_auto_columns": null,
            "grid_auto_flow": null,
            "grid_auto_rows": null,
            "grid_column": null,
            "grid_gap": null,
            "grid_row": null,
            "grid_template_areas": null,
            "grid_template_columns": null,
            "grid_template_rows": null,
            "height": null,
            "justify_content": null,
            "justify_items": null,
            "left": null,
            "margin": null,
            "max_height": null,
            "max_width": null,
            "min_height": null,
            "min_width": null,
            "object_fit": null,
            "object_position": null,
            "order": null,
            "overflow": null,
            "overflow_x": null,
            "overflow_y": null,
            "padding": null,
            "right": null,
            "top": null,
            "visibility": null,
            "width": null
          }
        },
        "5dfd722d2c6f4a8b9c931181beb99e89": {
          "model_module": "@jupyter-widgets/controls",
          "model_name": "DescriptionStyleModel",
          "model_module_version": "1.5.0",
          "state": {
            "_model_module": "@jupyter-widgets/controls",
            "_model_module_version": "1.5.0",
            "_model_name": "DescriptionStyleModel",
            "_view_count": null,
            "_view_module": "@jupyter-widgets/base",
            "_view_module_version": "1.2.0",
            "_view_name": "StyleView",
            "description_width": ""
          }
        },
        "07897d1a6ba1415cbea2245cee60649b": {
          "model_module": "@jupyter-widgets/base",
          "model_name": "LayoutModel",
          "model_module_version": "1.2.0",
          "state": {
            "_model_module": "@jupyter-widgets/base",
            "_model_module_version": "1.2.0",
            "_model_name": "LayoutModel",
            "_view_count": null,
            "_view_module": "@jupyter-widgets/base",
            "_view_module_version": "1.2.0",
            "_view_name": "LayoutView",
            "align_content": null,
            "align_items": null,
            "align_self": null,
            "border": null,
            "bottom": null,
            "display": null,
            "flex": null,
            "flex_flow": null,
            "grid_area": null,
            "grid_auto_columns": null,
            "grid_auto_flow": null,
            "grid_auto_rows": null,
            "grid_column": null,
            "grid_gap": null,
            "grid_row": null,
            "grid_template_areas": null,
            "grid_template_columns": null,
            "grid_template_rows": null,
            "height": null,
            "justify_content": null,
            "justify_items": null,
            "left": null,
            "margin": null,
            "max_height": null,
            "max_width": null,
            "min_height": null,
            "min_width": null,
            "object_fit": null,
            "object_position": null,
            "order": null,
            "overflow": null,
            "overflow_x": null,
            "overflow_y": null,
            "padding": null,
            "right": null,
            "top": null,
            "visibility": null,
            "width": null
          }
        },
        "d3412528b4f54bfdb81d54e56cada38e": {
          "model_module": "@jupyter-widgets/controls",
          "model_name": "ProgressStyleModel",
          "model_module_version": "1.5.0",
          "state": {
            "_model_module": "@jupyter-widgets/controls",
            "_model_module_version": "1.5.0",
            "_model_name": "ProgressStyleModel",
            "_view_count": null,
            "_view_module": "@jupyter-widgets/base",
            "_view_module_version": "1.2.0",
            "_view_name": "StyleView",
            "bar_color": null,
            "description_width": ""
          }
        },
        "cb3b4e2f775848948be7031f086b9593": {
          "model_module": "@jupyter-widgets/base",
          "model_name": "LayoutModel",
          "model_module_version": "1.2.0",
          "state": {
            "_model_module": "@jupyter-widgets/base",
            "_model_module_version": "1.2.0",
            "_model_name": "LayoutModel",
            "_view_count": null,
            "_view_module": "@jupyter-widgets/base",
            "_view_module_version": "1.2.0",
            "_view_name": "LayoutView",
            "align_content": null,
            "align_items": null,
            "align_self": null,
            "border": null,
            "bottom": null,
            "display": null,
            "flex": null,
            "flex_flow": null,
            "grid_area": null,
            "grid_auto_columns": null,
            "grid_auto_flow": null,
            "grid_auto_rows": null,
            "grid_column": null,
            "grid_gap": null,
            "grid_row": null,
            "grid_template_areas": null,
            "grid_template_columns": null,
            "grid_template_rows": null,
            "height": null,
            "justify_content": null,
            "justify_items": null,
            "left": null,
            "margin": null,
            "max_height": null,
            "max_width": null,
            "min_height": null,
            "min_width": null,
            "object_fit": null,
            "object_position": null,
            "order": null,
            "overflow": null,
            "overflow_x": null,
            "overflow_y": null,
            "padding": null,
            "right": null,
            "top": null,
            "visibility": null,
            "width": null
          }
        },
        "9073025e780c41c5bc1657e18e5af5b4": {
          "model_module": "@jupyter-widgets/controls",
          "model_name": "DescriptionStyleModel",
          "model_module_version": "1.5.0",
          "state": {
            "_model_module": "@jupyter-widgets/controls",
            "_model_module_version": "1.5.0",
            "_model_name": "DescriptionStyleModel",
            "_view_count": null,
            "_view_module": "@jupyter-widgets/base",
            "_view_module_version": "1.2.0",
            "_view_name": "StyleView",
            "description_width": ""
          }
        },
        "2f720ea88af3486ba3e2dd7a97e25bb6": {
          "model_module": "@jupyter-widgets/controls",
          "model_name": "HBoxModel",
          "model_module_version": "1.5.0",
          "state": {
            "_dom_classes": [],
            "_model_module": "@jupyter-widgets/controls",
            "_model_module_version": "1.5.0",
            "_model_name": "HBoxModel",
            "_view_count": null,
            "_view_module": "@jupyter-widgets/controls",
            "_view_module_version": "1.5.0",
            "_view_name": "HBoxView",
            "box_style": "",
            "children": [
              "IPY_MODEL_6ddbb02820694f0486ae258c289d4ce1",
              "IPY_MODEL_96906400af5c4d88b5439edbe6cf6519",
              "IPY_MODEL_b2567410f8b44904a6efe8fa08246954"
            ],
            "layout": "IPY_MODEL_7e6e856ca13f4da090a71c70b6786c25"
          }
        },
        "6ddbb02820694f0486ae258c289d4ce1": {
          "model_module": "@jupyter-widgets/controls",
          "model_name": "HTMLModel",
          "model_module_version": "1.5.0",
          "state": {
            "_dom_classes": [],
            "_model_module": "@jupyter-widgets/controls",
            "_model_module_version": "1.5.0",
            "_model_name": "HTMLModel",
            "_view_count": null,
            "_view_module": "@jupyter-widgets/controls",
            "_view_module_version": "1.5.0",
            "_view_name": "HTMLView",
            "description": "",
            "description_tooltip": null,
            "layout": "IPY_MODEL_cf370f80ca084513a1d862346ad22c00",
            "placeholder": "​",
            "style": "IPY_MODEL_d334365b00ec4925942e5afabc09644a",
            "value": "100%"
          }
        },
        "96906400af5c4d88b5439edbe6cf6519": {
          "model_module": "@jupyter-widgets/controls",
          "model_name": "FloatProgressModel",
          "model_module_version": "1.5.0",
          "state": {
            "_dom_classes": [],
            "_model_module": "@jupyter-widgets/controls",
            "_model_module_version": "1.5.0",
            "_model_name": "FloatProgressModel",
            "_view_count": null,
            "_view_module": "@jupyter-widgets/controls",
            "_view_module_version": "1.5.0",
            "_view_name": "ProgressView",
            "bar_style": "success",
            "description": "",
            "description_tooltip": null,
            "layout": "IPY_MODEL_5e1868747bcb43bd8395eadd705b9526",
            "max": 4995,
            "min": 0,
            "orientation": "horizontal",
            "style": "IPY_MODEL_1e3cbc59a7594a1a952a1aa7ee633c41",
            "value": 4995
          }
        },
        "b2567410f8b44904a6efe8fa08246954": {
          "model_module": "@jupyter-widgets/controls",
          "model_name": "HTMLModel",
          "model_module_version": "1.5.0",
          "state": {
            "_dom_classes": [],
            "_model_module": "@jupyter-widgets/controls",
            "_model_module_version": "1.5.0",
            "_model_name": "HTMLModel",
            "_view_count": null,
            "_view_module": "@jupyter-widgets/controls",
            "_view_module_version": "1.5.0",
            "_view_name": "HTMLView",
            "description": "",
            "description_tooltip": null,
            "layout": "IPY_MODEL_c59cf60246624f93b209f4a510e84be6",
            "placeholder": "​",
            "style": "IPY_MODEL_7c169a4add70479c842afa8db4a2a16a",
            "value": " 4995/4995 [00:57&lt;00:00, 110.62it/s]"
          }
        },
        "7e6e856ca13f4da090a71c70b6786c25": {
          "model_module": "@jupyter-widgets/base",
          "model_name": "LayoutModel",
          "model_module_version": "1.2.0",
          "state": {
            "_model_module": "@jupyter-widgets/base",
            "_model_module_version": "1.2.0",
            "_model_name": "LayoutModel",
            "_view_count": null,
            "_view_module": "@jupyter-widgets/base",
            "_view_module_version": "1.2.0",
            "_view_name": "LayoutView",
            "align_content": null,
            "align_items": null,
            "align_self": null,
            "border": null,
            "bottom": null,
            "display": null,
            "flex": null,
            "flex_flow": null,
            "grid_area": null,
            "grid_auto_columns": null,
            "grid_auto_flow": null,
            "grid_auto_rows": null,
            "grid_column": null,
            "grid_gap": null,
            "grid_row": null,
            "grid_template_areas": null,
            "grid_template_columns": null,
            "grid_template_rows": null,
            "height": null,
            "justify_content": null,
            "justify_items": null,
            "left": null,
            "margin": null,
            "max_height": null,
            "max_width": null,
            "min_height": null,
            "min_width": null,
            "object_fit": null,
            "object_position": null,
            "order": null,
            "overflow": null,
            "overflow_x": null,
            "overflow_y": null,
            "padding": null,
            "right": null,
            "top": null,
            "visibility": null,
            "width": null
          }
        },
        "cf370f80ca084513a1d862346ad22c00": {
          "model_module": "@jupyter-widgets/base",
          "model_name": "LayoutModel",
          "model_module_version": "1.2.0",
          "state": {
            "_model_module": "@jupyter-widgets/base",
            "_model_module_version": "1.2.0",
            "_model_name": "LayoutModel",
            "_view_count": null,
            "_view_module": "@jupyter-widgets/base",
            "_view_module_version": "1.2.0",
            "_view_name": "LayoutView",
            "align_content": null,
            "align_items": null,
            "align_self": null,
            "border": null,
            "bottom": null,
            "display": null,
            "flex": null,
            "flex_flow": null,
            "grid_area": null,
            "grid_auto_columns": null,
            "grid_auto_flow": null,
            "grid_auto_rows": null,
            "grid_column": null,
            "grid_gap": null,
            "grid_row": null,
            "grid_template_areas": null,
            "grid_template_columns": null,
            "grid_template_rows": null,
            "height": null,
            "justify_content": null,
            "justify_items": null,
            "left": null,
            "margin": null,
            "max_height": null,
            "max_width": null,
            "min_height": null,
            "min_width": null,
            "object_fit": null,
            "object_position": null,
            "order": null,
            "overflow": null,
            "overflow_x": null,
            "overflow_y": null,
            "padding": null,
            "right": null,
            "top": null,
            "visibility": null,
            "width": null
          }
        },
        "d334365b00ec4925942e5afabc09644a": {
          "model_module": "@jupyter-widgets/controls",
          "model_name": "DescriptionStyleModel",
          "model_module_version": "1.5.0",
          "state": {
            "_model_module": "@jupyter-widgets/controls",
            "_model_module_version": "1.5.0",
            "_model_name": "DescriptionStyleModel",
            "_view_count": null,
            "_view_module": "@jupyter-widgets/base",
            "_view_module_version": "1.2.0",
            "_view_name": "StyleView",
            "description_width": ""
          }
        },
        "5e1868747bcb43bd8395eadd705b9526": {
          "model_module": "@jupyter-widgets/base",
          "model_name": "LayoutModel",
          "model_module_version": "1.2.0",
          "state": {
            "_model_module": "@jupyter-widgets/base",
            "_model_module_version": "1.2.0",
            "_model_name": "LayoutModel",
            "_view_count": null,
            "_view_module": "@jupyter-widgets/base",
            "_view_module_version": "1.2.0",
            "_view_name": "LayoutView",
            "align_content": null,
            "align_items": null,
            "align_self": null,
            "border": null,
            "bottom": null,
            "display": null,
            "flex": null,
            "flex_flow": null,
            "grid_area": null,
            "grid_auto_columns": null,
            "grid_auto_flow": null,
            "grid_auto_rows": null,
            "grid_column": null,
            "grid_gap": null,
            "grid_row": null,
            "grid_template_areas": null,
            "grid_template_columns": null,
            "grid_template_rows": null,
            "height": null,
            "justify_content": null,
            "justify_items": null,
            "left": null,
            "margin": null,
            "max_height": null,
            "max_width": null,
            "min_height": null,
            "min_width": null,
            "object_fit": null,
            "object_position": null,
            "order": null,
            "overflow": null,
            "overflow_x": null,
            "overflow_y": null,
            "padding": null,
            "right": null,
            "top": null,
            "visibility": null,
            "width": null
          }
        },
        "1e3cbc59a7594a1a952a1aa7ee633c41": {
          "model_module": "@jupyter-widgets/controls",
          "model_name": "ProgressStyleModel",
          "model_module_version": "1.5.0",
          "state": {
            "_model_module": "@jupyter-widgets/controls",
            "_model_module_version": "1.5.0",
            "_model_name": "ProgressStyleModel",
            "_view_count": null,
            "_view_module": "@jupyter-widgets/base",
            "_view_module_version": "1.2.0",
            "_view_name": "StyleView",
            "bar_color": null,
            "description_width": ""
          }
        },
        "c59cf60246624f93b209f4a510e84be6": {
          "model_module": "@jupyter-widgets/base",
          "model_name": "LayoutModel",
          "model_module_version": "1.2.0",
          "state": {
            "_model_module": "@jupyter-widgets/base",
            "_model_module_version": "1.2.0",
            "_model_name": "LayoutModel",
            "_view_count": null,
            "_view_module": "@jupyter-widgets/base",
            "_view_module_version": "1.2.0",
            "_view_name": "LayoutView",
            "align_content": null,
            "align_items": null,
            "align_self": null,
            "border": null,
            "bottom": null,
            "display": null,
            "flex": null,
            "flex_flow": null,
            "grid_area": null,
            "grid_auto_columns": null,
            "grid_auto_flow": null,
            "grid_auto_rows": null,
            "grid_column": null,
            "grid_gap": null,
            "grid_row": null,
            "grid_template_areas": null,
            "grid_template_columns": null,
            "grid_template_rows": null,
            "height": null,
            "justify_content": null,
            "justify_items": null,
            "left": null,
            "margin": null,
            "max_height": null,
            "max_width": null,
            "min_height": null,
            "min_width": null,
            "object_fit": null,
            "object_position": null,
            "order": null,
            "overflow": null,
            "overflow_x": null,
            "overflow_y": null,
            "padding": null,
            "right": null,
            "top": null,
            "visibility": null,
            "width": null
          }
        },
        "7c169a4add70479c842afa8db4a2a16a": {
          "model_module": "@jupyter-widgets/controls",
          "model_name": "DescriptionStyleModel",
          "model_module_version": "1.5.0",
          "state": {
            "_model_module": "@jupyter-widgets/controls",
            "_model_module_version": "1.5.0",
            "_model_name": "DescriptionStyleModel",
            "_view_count": null,
            "_view_module": "@jupyter-widgets/base",
            "_view_module_version": "1.2.0",
            "_view_name": "StyleView",
            "description_width": ""
          }
        },
        "4dcff9c84ad24719bf67f61bc3eee854": {
          "model_module": "@jupyter-widgets/controls",
          "model_name": "HBoxModel",
          "model_module_version": "1.5.0",
          "state": {
            "_dom_classes": [],
            "_model_module": "@jupyter-widgets/controls",
            "_model_module_version": "1.5.0",
            "_model_name": "HBoxModel",
            "_view_count": null,
            "_view_module": "@jupyter-widgets/controls",
            "_view_module_version": "1.5.0",
            "_view_name": "HBoxView",
            "box_style": "",
            "children": [
              "IPY_MODEL_21a32862934646f2b1109129c20d373f",
              "IPY_MODEL_6761a84e4edf486595224899759fd2b2",
              "IPY_MODEL_35eb686b13b84240b0a790a50150366d"
            ],
            "layout": "IPY_MODEL_1f1ceeb0ee7d49dc80fb90ee54b0ac03"
          }
        },
        "21a32862934646f2b1109129c20d373f": {
          "model_module": "@jupyter-widgets/controls",
          "model_name": "HTMLModel",
          "model_module_version": "1.5.0",
          "state": {
            "_dom_classes": [],
            "_model_module": "@jupyter-widgets/controls",
            "_model_module_version": "1.5.0",
            "_model_name": "HTMLModel",
            "_view_count": null,
            "_view_module": "@jupyter-widgets/controls",
            "_view_module_version": "1.5.0",
            "_view_name": "HTMLView",
            "description": "",
            "description_tooltip": null,
            "layout": "IPY_MODEL_6fe44199207d4b0a8eb3fa553fa43ea2",
            "placeholder": "​",
            "style": "IPY_MODEL_0aa8214d4433406c98cbae8789b7ec61",
            "value": "100%"
          }
        },
        "6761a84e4edf486595224899759fd2b2": {
          "model_module": "@jupyter-widgets/controls",
          "model_name": "FloatProgressModel",
          "model_module_version": "1.5.0",
          "state": {
            "_dom_classes": [],
            "_model_module": "@jupyter-widgets/controls",
            "_model_module_version": "1.5.0",
            "_model_name": "FloatProgressModel",
            "_view_count": null,
            "_view_module": "@jupyter-widgets/controls",
            "_view_module_version": "1.5.0",
            "_view_name": "ProgressView",
            "bar_style": "success",
            "description": "",
            "description_tooltip": null,
            "layout": "IPY_MODEL_ce325b14ccce4e90b75d0a1f07a54210",
            "max": 13,
            "min": 0,
            "orientation": "horizontal",
            "style": "IPY_MODEL_52f997bf9d184733b8354a817c156da8",
            "value": 13
          }
        },
        "35eb686b13b84240b0a790a50150366d": {
          "model_module": "@jupyter-widgets/controls",
          "model_name": "HTMLModel",
          "model_module_version": "1.5.0",
          "state": {
            "_dom_classes": [],
            "_model_module": "@jupyter-widgets/controls",
            "_model_module_version": "1.5.0",
            "_model_name": "HTMLModel",
            "_view_count": null,
            "_view_module": "@jupyter-widgets/controls",
            "_view_module_version": "1.5.0",
            "_view_name": "HTMLView",
            "description": "",
            "description_tooltip": null,
            "layout": "IPY_MODEL_265ec28168e84f9c91f6fbe64896cf3d",
            "placeholder": "​",
            "style": "IPY_MODEL_aacefbd331da46e780f17350a68be2a9",
            "value": " 13/13 [01:18&lt;00:00,  8.93s/it]"
          }
        },
        "1f1ceeb0ee7d49dc80fb90ee54b0ac03": {
          "model_module": "@jupyter-widgets/base",
          "model_name": "LayoutModel",
          "model_module_version": "1.2.0",
          "state": {
            "_model_module": "@jupyter-widgets/base",
            "_model_module_version": "1.2.0",
            "_model_name": "LayoutModel",
            "_view_count": null,
            "_view_module": "@jupyter-widgets/base",
            "_view_module_version": "1.2.0",
            "_view_name": "LayoutView",
            "align_content": null,
            "align_items": null,
            "align_self": null,
            "border": null,
            "bottom": null,
            "display": null,
            "flex": null,
            "flex_flow": null,
            "grid_area": null,
            "grid_auto_columns": null,
            "grid_auto_flow": null,
            "grid_auto_rows": null,
            "grid_column": null,
            "grid_gap": null,
            "grid_row": null,
            "grid_template_areas": null,
            "grid_template_columns": null,
            "grid_template_rows": null,
            "height": null,
            "justify_content": null,
            "justify_items": null,
            "left": null,
            "margin": null,
            "max_height": null,
            "max_width": null,
            "min_height": null,
            "min_width": null,
            "object_fit": null,
            "object_position": null,
            "order": null,
            "overflow": null,
            "overflow_x": null,
            "overflow_y": null,
            "padding": null,
            "right": null,
            "top": null,
            "visibility": null,
            "width": null
          }
        },
        "6fe44199207d4b0a8eb3fa553fa43ea2": {
          "model_module": "@jupyter-widgets/base",
          "model_name": "LayoutModel",
          "model_module_version": "1.2.0",
          "state": {
            "_model_module": "@jupyter-widgets/base",
            "_model_module_version": "1.2.0",
            "_model_name": "LayoutModel",
            "_view_count": null,
            "_view_module": "@jupyter-widgets/base",
            "_view_module_version": "1.2.0",
            "_view_name": "LayoutView",
            "align_content": null,
            "align_items": null,
            "align_self": null,
            "border": null,
            "bottom": null,
            "display": null,
            "flex": null,
            "flex_flow": null,
            "grid_area": null,
            "grid_auto_columns": null,
            "grid_auto_flow": null,
            "grid_auto_rows": null,
            "grid_column": null,
            "grid_gap": null,
            "grid_row": null,
            "grid_template_areas": null,
            "grid_template_columns": null,
            "grid_template_rows": null,
            "height": null,
            "justify_content": null,
            "justify_items": null,
            "left": null,
            "margin": null,
            "max_height": null,
            "max_width": null,
            "min_height": null,
            "min_width": null,
            "object_fit": null,
            "object_position": null,
            "order": null,
            "overflow": null,
            "overflow_x": null,
            "overflow_y": null,
            "padding": null,
            "right": null,
            "top": null,
            "visibility": null,
            "width": null
          }
        },
        "0aa8214d4433406c98cbae8789b7ec61": {
          "model_module": "@jupyter-widgets/controls",
          "model_name": "DescriptionStyleModel",
          "model_module_version": "1.5.0",
          "state": {
            "_model_module": "@jupyter-widgets/controls",
            "_model_module_version": "1.5.0",
            "_model_name": "DescriptionStyleModel",
            "_view_count": null,
            "_view_module": "@jupyter-widgets/base",
            "_view_module_version": "1.2.0",
            "_view_name": "StyleView",
            "description_width": ""
          }
        },
        "ce325b14ccce4e90b75d0a1f07a54210": {
          "model_module": "@jupyter-widgets/base",
          "model_name": "LayoutModel",
          "model_module_version": "1.2.0",
          "state": {
            "_model_module": "@jupyter-widgets/base",
            "_model_module_version": "1.2.0",
            "_model_name": "LayoutModel",
            "_view_count": null,
            "_view_module": "@jupyter-widgets/base",
            "_view_module_version": "1.2.0",
            "_view_name": "LayoutView",
            "align_content": null,
            "align_items": null,
            "align_self": null,
            "border": null,
            "bottom": null,
            "display": null,
            "flex": null,
            "flex_flow": null,
            "grid_area": null,
            "grid_auto_columns": null,
            "grid_auto_flow": null,
            "grid_auto_rows": null,
            "grid_column": null,
            "grid_gap": null,
            "grid_row": null,
            "grid_template_areas": null,
            "grid_template_columns": null,
            "grid_template_rows": null,
            "height": null,
            "justify_content": null,
            "justify_items": null,
            "left": null,
            "margin": null,
            "max_height": null,
            "max_width": null,
            "min_height": null,
            "min_width": null,
            "object_fit": null,
            "object_position": null,
            "order": null,
            "overflow": null,
            "overflow_x": null,
            "overflow_y": null,
            "padding": null,
            "right": null,
            "top": null,
            "visibility": null,
            "width": null
          }
        },
        "52f997bf9d184733b8354a817c156da8": {
          "model_module": "@jupyter-widgets/controls",
          "model_name": "ProgressStyleModel",
          "model_module_version": "1.5.0",
          "state": {
            "_model_module": "@jupyter-widgets/controls",
            "_model_module_version": "1.5.0",
            "_model_name": "ProgressStyleModel",
            "_view_count": null,
            "_view_module": "@jupyter-widgets/base",
            "_view_module_version": "1.2.0",
            "_view_name": "StyleView",
            "bar_color": null,
            "description_width": ""
          }
        },
        "265ec28168e84f9c91f6fbe64896cf3d": {
          "model_module": "@jupyter-widgets/base",
          "model_name": "LayoutModel",
          "model_module_version": "1.2.0",
          "state": {
            "_model_module": "@jupyter-widgets/base",
            "_model_module_version": "1.2.0",
            "_model_name": "LayoutModel",
            "_view_count": null,
            "_view_module": "@jupyter-widgets/base",
            "_view_module_version": "1.2.0",
            "_view_name": "LayoutView",
            "align_content": null,
            "align_items": null,
            "align_self": null,
            "border": null,
            "bottom": null,
            "display": null,
            "flex": null,
            "flex_flow": null,
            "grid_area": null,
            "grid_auto_columns": null,
            "grid_auto_flow": null,
            "grid_auto_rows": null,
            "grid_column": null,
            "grid_gap": null,
            "grid_row": null,
            "grid_template_areas": null,
            "grid_template_columns": null,
            "grid_template_rows": null,
            "height": null,
            "justify_content": null,
            "justify_items": null,
            "left": null,
            "margin": null,
            "max_height": null,
            "max_width": null,
            "min_height": null,
            "min_width": null,
            "object_fit": null,
            "object_position": null,
            "order": null,
            "overflow": null,
            "overflow_x": null,
            "overflow_y": null,
            "padding": null,
            "right": null,
            "top": null,
            "visibility": null,
            "width": null
          }
        },
        "aacefbd331da46e780f17350a68be2a9": {
          "model_module": "@jupyter-widgets/controls",
          "model_name": "DescriptionStyleModel",
          "model_module_version": "1.5.0",
          "state": {
            "_model_module": "@jupyter-widgets/controls",
            "_model_module_version": "1.5.0",
            "_model_name": "DescriptionStyleModel",
            "_view_count": null,
            "_view_module": "@jupyter-widgets/base",
            "_view_module_version": "1.2.0",
            "_view_name": "StyleView",
            "description_width": ""
          }
        }
      }
    }
  },
  "nbformat": 4,
  "nbformat_minor": 5
}