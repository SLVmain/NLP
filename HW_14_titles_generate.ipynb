{
  "cells": [
    {
      "cell_type": "markdown",
      "metadata": {
        "id": "view-in-github",
        "colab_type": "text"
      },
      "source": [
        "<a href=\"https://colab.research.google.com/github/SLVmain/NLP/blob/Les_14/HW_14_titles_generate.ipynb\" target=\"_parent\"><img src=\"https://colab.research.google.com/assets/colab-badge.svg\" alt=\"Open In Colab\"/></a>"
      ]
    },
    {
      "cell_type": "markdown",
      "id": "643ab5ec",
      "metadata": {
        "id": "643ab5ec"
      },
      "source": [
        "##Урок 14. Transfer learning\n",
        "\n",
        "Взять датасет который прикреплён по ссылке\n",
        "обучить модель которая будет генерировать заголовки к постам"
      ]
    },
    {
      "cell_type": "code",
      "execution_count": null,
      "id": "bdef513f",
      "metadata": {
        "id": "bdef513f"
      },
      "outputs": [],
      "source": [
        "!wget https://www.dropbox.com/s/ykqk49a8avlmnaf/ru_all_split.tar.gz"
      ]
    },
    {
      "cell_type": "code",
      "source": [
        "!tar xvzf ru_all_split.tar.gz"
      ],
      "metadata": {
        "id": "jz4_6jxyFUVo"
      },
      "id": "jz4_6jxyFUVo",
      "execution_count": null,
      "outputs": []
    },
    {
      "cell_type": "code",
      "source": [
        "!ls"
      ],
      "metadata": {
        "colab": {
          "base_uri": "https://localhost:8080/"
        },
        "id": "KXNzHnWKFuq3",
        "outputId": "c5de1005-bb03-4cf3-c90c-3c157c7d7d56"
      },
      "id": "KXNzHnWKFuq3",
      "execution_count": 3,
      "outputs": [
        {
          "output_type": "stream",
          "name": "stdout",
          "text": [
            "ru_all_split.tar.gz  ru_all_train.jsonl  sample_data\n",
            "ru_all_test.jsonl    ru_all_val.jsonl\n"
          ]
        }
      ]
    },
    {
      "cell_type": "code",
      "source": [
        "!rm -rf sample_data ru_all_split.tar.gz"
      ],
      "metadata": {
        "id": "gXGCLavlFxWw"
      },
      "id": "gXGCLavlFxWw",
      "execution_count": 4,
      "outputs": []
    },
    {
      "cell_type": "code",
      "source": [
        "!ls"
      ],
      "metadata": {
        "colab": {
          "base_uri": "https://localhost:8080/"
        },
        "id": "mEhHnwL8HFhL",
        "outputId": "79225cfa-0a86-4b0b-867f-392d648b147a"
      },
      "id": "mEhHnwL8HFhL",
      "execution_count": 15,
      "outputs": [
        {
          "output_type": "stream",
          "name": "stdout",
          "text": [
            "ru_all_test.jsonl  ru_all_train.jsonl  ru_all_val.jsonl\n"
          ]
        }
      ]
    },
    {
      "cell_type": "code",
      "execution_count": 1,
      "id": "85550d5f",
      "metadata": {
        "id": "85550d5f"
      },
      "outputs": [],
      "source": [
        "import pandas as pd\n",
        "\n",
        "train_df = pd.read_json('ru_all_train.jsonl', lines=True) \n",
        "test_df = pd.read_json('ru_all_test.jsonl', lines=True) \n",
        "#val_df = pd.read_json('ru_all_val.jsonl', lines=True) "
      ]
    },
    {
      "cell_type": "code",
      "source": [
        "train_df"
      ],
      "metadata": {
        "colab": {
          "base_uri": "https://localhost:8080/",
          "height": 424
        },
        "id": "GiuC-yQ_Hbua",
        "outputId": "749ddaa5-1947-4710-ecbb-ccabace33bc0"
      },
      "id": "GiuC-yQ_Hbua",
      "execution_count": 5,
      "outputs": [
        {
          "output_type": "execute_result",
          "data": {
            "text/plain": [
              "                                                    title  \\\n",
              "0       В разных районах Омска появились свои \"Эйфелев...   \n",
              "1       Закон об отделении туристов от паломников всту...   \n",
              "2       В Гаджиеве пенсионеры сняли фильм о проблемах ...   \n",
              "3         Опубликованы цены на обновленный Mitsubishi ASX   \n",
              "4       «Лента» заявила о возможном закрытии некоторых...   \n",
              "...                                                   ...   \n",
              "616211  Элитный ночной клуб в Киеве ''забил'' на каран...   \n",
              "616212                          Новости Одессы 16.05.2020   \n",
              "616213  Остановку транспортных средств ограничат на ул...   \n",
              "616214  Число жертв COVID-19 в мире превысило 300 тыся...   \n",
              "616215  Оскар дали? Сети в ярости из-за пешехода, брос...   \n",
              "\n",
              "                                                     text  \\\n",
              "0       В городе опоры ЛЭП стали необычно подсвечивать...   \n",
              "1       С 1 ноября вступил в силу закон, устанавливающ...   \n",
              "2       Мурманские активисты ОНФ обратили внимание вла...   \n",
              "3       Компания Mitsubishi провела презентацию обновл...   \n",
              "4       «Лента» может закрыть нерентабельные гипер- и ...   \n",
              "...                                                   ...   \n",
              "616211  В сети опубликовали фото и видео работающего э...   \n",
              "616212  Одесса, как и другие города – как  в Украине ,...   \n",
              "616213  Ограничения начнут действовать с 4 июня. \\n   ...   \n",
              "616214  МОСКВА, 17 мая, ФедералПресс. ВОЗ обновила дан...   \n",
              "616215  В пригороде Киева, городе Вышгород неадекватны...   \n",
              "\n",
              "                                                      url           timestamp  \n",
              "0                  https://omskzdes.ru/society/66017.html 2019-11-01 00:00:00  \n",
              "1                     https://www.tourprom.ru/news/43802/ 2019-11-01 00:00:00  \n",
              "2       https://www.mvestnik.ru/newslent/v-gadzhieve-p... 2019-11-01 00:00:00  \n",
              "3       https://car.ru/news/automobili/56588-opublikov... 2019-11-01 00:00:00  \n",
              "4       https://paperpaper.ru/papernews/2019/11/01/len... 2019-11-01 00:00:00  \n",
              "...                                                   ...                 ...  \n",
              "616211  https://www.obozrevatel.com/kiyany/elitnyij-no... 2020-05-16 21:53:00  \n",
              "616212  https://grad.ua/programmy-tv/tv-novosti/87100-... 2020-05-16 21:53:00  \n",
              "616213  http://www.vremyan.ru/news/ostanovku_transport... 2020-05-16 21:53:00  \n",
              "616214        https://fedpress.ru/news/77/society/2498272 2020-05-16 21:53:00  \n",
              "616215  https://apostrophe.ua/news/society/2020-05-16/... 2020-05-16 21:53:00  \n",
              "\n",
              "[616216 rows x 4 columns]"
            ],
            "text/html": [
              "\n",
              "  <div id=\"df-d47b9370-bb5f-4f59-a8a0-3b79831925b6\">\n",
              "    <div class=\"colab-df-container\">\n",
              "      <div>\n",
              "<style scoped>\n",
              "    .dataframe tbody tr th:only-of-type {\n",
              "        vertical-align: middle;\n",
              "    }\n",
              "\n",
              "    .dataframe tbody tr th {\n",
              "        vertical-align: top;\n",
              "    }\n",
              "\n",
              "    .dataframe thead th {\n",
              "        text-align: right;\n",
              "    }\n",
              "</style>\n",
              "<table border=\"1\" class=\"dataframe\">\n",
              "  <thead>\n",
              "    <tr style=\"text-align: right;\">\n",
              "      <th></th>\n",
              "      <th>title</th>\n",
              "      <th>text</th>\n",
              "      <th>url</th>\n",
              "      <th>timestamp</th>\n",
              "    </tr>\n",
              "  </thead>\n",
              "  <tbody>\n",
              "    <tr>\n",
              "      <th>0</th>\n",
              "      <td>В разных районах Омска появились свои \"Эйфелев...</td>\n",
              "      <td>В городе опоры ЛЭП стали необычно подсвечивать...</td>\n",
              "      <td>https://omskzdes.ru/society/66017.html</td>\n",
              "      <td>2019-11-01 00:00:00</td>\n",
              "    </tr>\n",
              "    <tr>\n",
              "      <th>1</th>\n",
              "      <td>Закон об отделении туристов от паломников всту...</td>\n",
              "      <td>С 1 ноября вступил в силу закон, устанавливающ...</td>\n",
              "      <td>https://www.tourprom.ru/news/43802/</td>\n",
              "      <td>2019-11-01 00:00:00</td>\n",
              "    </tr>\n",
              "    <tr>\n",
              "      <th>2</th>\n",
              "      <td>В Гаджиеве пенсионеры сняли фильм о проблемах ...</td>\n",
              "      <td>Мурманские активисты ОНФ обратили внимание вла...</td>\n",
              "      <td>https://www.mvestnik.ru/newslent/v-gadzhieve-p...</td>\n",
              "      <td>2019-11-01 00:00:00</td>\n",
              "    </tr>\n",
              "    <tr>\n",
              "      <th>3</th>\n",
              "      <td>Опубликованы цены на обновленный Mitsubishi ASX</td>\n",
              "      <td>Компания Mitsubishi провела презентацию обновл...</td>\n",
              "      <td>https://car.ru/news/automobili/56588-opublikov...</td>\n",
              "      <td>2019-11-01 00:00:00</td>\n",
              "    </tr>\n",
              "    <tr>\n",
              "      <th>4</th>\n",
              "      <td>«Лента» заявила о возможном закрытии некоторых...</td>\n",
              "      <td>«Лента» может закрыть нерентабельные гипер- и ...</td>\n",
              "      <td>https://paperpaper.ru/papernews/2019/11/01/len...</td>\n",
              "      <td>2019-11-01 00:00:00</td>\n",
              "    </tr>\n",
              "    <tr>\n",
              "      <th>...</th>\n",
              "      <td>...</td>\n",
              "      <td>...</td>\n",
              "      <td>...</td>\n",
              "      <td>...</td>\n",
              "    </tr>\n",
              "    <tr>\n",
              "      <th>616211</th>\n",
              "      <td>Элитный ночной клуб в Киеве ''забил'' на каран...</td>\n",
              "      <td>В сети опубликовали фото и видео работающего э...</td>\n",
              "      <td>https://www.obozrevatel.com/kiyany/elitnyij-no...</td>\n",
              "      <td>2020-05-16 21:53:00</td>\n",
              "    </tr>\n",
              "    <tr>\n",
              "      <th>616212</th>\n",
              "      <td>Новости Одессы 16.05.2020</td>\n",
              "      <td>Одесса, как и другие города – как  в Украине ,...</td>\n",
              "      <td>https://grad.ua/programmy-tv/tv-novosti/87100-...</td>\n",
              "      <td>2020-05-16 21:53:00</td>\n",
              "    </tr>\n",
              "    <tr>\n",
              "      <th>616213</th>\n",
              "      <td>Остановку транспортных средств ограничат на ул...</td>\n",
              "      <td>Ограничения начнут действовать с 4 июня. \\n   ...</td>\n",
              "      <td>http://www.vremyan.ru/news/ostanovku_transport...</td>\n",
              "      <td>2020-05-16 21:53:00</td>\n",
              "    </tr>\n",
              "    <tr>\n",
              "      <th>616214</th>\n",
              "      <td>Число жертв COVID-19 в мире превысило 300 тыся...</td>\n",
              "      <td>МОСКВА, 17 мая, ФедералПресс. ВОЗ обновила дан...</td>\n",
              "      <td>https://fedpress.ru/news/77/society/2498272</td>\n",
              "      <td>2020-05-16 21:53:00</td>\n",
              "    </tr>\n",
              "    <tr>\n",
              "      <th>616215</th>\n",
              "      <td>Оскар дали? Сети в ярости из-за пешехода, брос...</td>\n",
              "      <td>В пригороде Киева, городе Вышгород неадекватны...</td>\n",
              "      <td>https://apostrophe.ua/news/society/2020-05-16/...</td>\n",
              "      <td>2020-05-16 21:53:00</td>\n",
              "    </tr>\n",
              "  </tbody>\n",
              "</table>\n",
              "<p>616216 rows × 4 columns</p>\n",
              "</div>\n",
              "      <button class=\"colab-df-convert\" onclick=\"convertToInteractive('df-d47b9370-bb5f-4f59-a8a0-3b79831925b6')\"\n",
              "              title=\"Convert this dataframe to an interactive table.\"\n",
              "              style=\"display:none;\">\n",
              "        \n",
              "  <svg xmlns=\"http://www.w3.org/2000/svg\" height=\"24px\"viewBox=\"0 0 24 24\"\n",
              "       width=\"24px\">\n",
              "    <path d=\"M0 0h24v24H0V0z\" fill=\"none\"/>\n",
              "    <path d=\"M18.56 5.44l.94 2.06.94-2.06 2.06-.94-2.06-.94-.94-2.06-.94 2.06-2.06.94zm-11 1L8.5 8.5l.94-2.06 2.06-.94-2.06-.94L8.5 2.5l-.94 2.06-2.06.94zm10 10l.94 2.06.94-2.06 2.06-.94-2.06-.94-.94-2.06-.94 2.06-2.06.94z\"/><path d=\"M17.41 7.96l-1.37-1.37c-.4-.4-.92-.59-1.43-.59-.52 0-1.04.2-1.43.59L10.3 9.45l-7.72 7.72c-.78.78-.78 2.05 0 2.83L4 21.41c.39.39.9.59 1.41.59.51 0 1.02-.2 1.41-.59l7.78-7.78 2.81-2.81c.8-.78.8-2.07 0-2.86zM5.41 20L4 18.59l7.72-7.72 1.47 1.35L5.41 20z\"/>\n",
              "  </svg>\n",
              "      </button>\n",
              "      \n",
              "  <style>\n",
              "    .colab-df-container {\n",
              "      display:flex;\n",
              "      flex-wrap:wrap;\n",
              "      gap: 12px;\n",
              "    }\n",
              "\n",
              "    .colab-df-convert {\n",
              "      background-color: #E8F0FE;\n",
              "      border: none;\n",
              "      border-radius: 50%;\n",
              "      cursor: pointer;\n",
              "      display: none;\n",
              "      fill: #1967D2;\n",
              "      height: 32px;\n",
              "      padding: 0 0 0 0;\n",
              "      width: 32px;\n",
              "    }\n",
              "\n",
              "    .colab-df-convert:hover {\n",
              "      background-color: #E2EBFA;\n",
              "      box-shadow: 0px 1px 2px rgba(60, 64, 67, 0.3), 0px 1px 3px 1px rgba(60, 64, 67, 0.15);\n",
              "      fill: #174EA6;\n",
              "    }\n",
              "\n",
              "    [theme=dark] .colab-df-convert {\n",
              "      background-color: #3B4455;\n",
              "      fill: #D2E3FC;\n",
              "    }\n",
              "\n",
              "    [theme=dark] .colab-df-convert:hover {\n",
              "      background-color: #434B5C;\n",
              "      box-shadow: 0px 1px 3px 1px rgba(0, 0, 0, 0.15);\n",
              "      filter: drop-shadow(0px 1px 2px rgba(0, 0, 0, 0.3));\n",
              "      fill: #FFFFFF;\n",
              "    }\n",
              "  </style>\n",
              "\n",
              "      <script>\n",
              "        const buttonEl =\n",
              "          document.querySelector('#df-d47b9370-bb5f-4f59-a8a0-3b79831925b6 button.colab-df-convert');\n",
              "        buttonEl.style.display =\n",
              "          google.colab.kernel.accessAllowed ? 'block' : 'none';\n",
              "\n",
              "        async function convertToInteractive(key) {\n",
              "          const element = document.querySelector('#df-d47b9370-bb5f-4f59-a8a0-3b79831925b6');\n",
              "          const dataTable =\n",
              "            await google.colab.kernel.invokeFunction('convertToInteractive',\n",
              "                                                     [key], {});\n",
              "          if (!dataTable) return;\n",
              "\n",
              "          const docLinkHtml = 'Like what you see? Visit the ' +\n",
              "            '<a target=\"_blank\" href=https://colab.research.google.com/notebooks/data_table.ipynb>data table notebook</a>'\n",
              "            + ' to learn more about interactive tables.';\n",
              "          element.innerHTML = '';\n",
              "          dataTable['output_type'] = 'display_data';\n",
              "          await google.colab.output.renderOutput(dataTable, element);\n",
              "          const docLink = document.createElement('div');\n",
              "          docLink.innerHTML = docLinkHtml;\n",
              "          element.appendChild(docLink);\n",
              "        }\n",
              "      </script>\n",
              "    </div>\n",
              "  </div>\n",
              "  "
            ]
          },
          "metadata": {},
          "execution_count": 5
        }
      ]
    },
    {
      "cell_type": "code",
      "source": [
        "test_df"
      ],
      "metadata": {
        "colab": {
          "base_uri": "https://localhost:8080/",
          "height": 424
        },
        "id": "2-lmYKfGUr0P",
        "outputId": "3888db35-b1d4-4532-c19b-5c5a44b605a7"
      },
      "id": "2-lmYKfGUr0P",
      "execution_count": 6,
      "outputs": [
        {
          "output_type": "execute_result",
          "data": {
            "text/plain": [
              "                                                   title  \\\n",
              "0             Рассекречен \"убийца\" BMW 5 Series от Acura   \n",
              "1      В Киеве задержали четырех киллеров, пытавшихся...   \n",
              "2      Ураган в Кузбассе сносил крыши домов и валил д...   \n",
              "3      Вся команда \"Челси\" поддержала Канте после его...   \n",
              "4      Смартфоны OnePlus 8 и 8 Pro теперь имеют специ...   \n",
              "...                                                  ...   \n",
              "34230  8 клубов Первой лиги хотят провести доигрывани...   \n",
              "34231  Кайли Дженнер исключили из списка миллиардеров...   \n",
              "34232        День парада Победы в России будет нерабочим   \n",
              "34233  Более 60% жителей Грузии считает, что страна р...   \n",
              "34234  Внутриклановый конфликт в Ингушетии закончился...   \n",
              "\n",
              "                                                    text  \\\n",
              "0      Серийный TLX  не слишком далеко ушел в вопроса...   \n",
              "1      Сотрудники правоохранительных органов задержал...   \n",
              "2      Об последствиях ураганного ветра, накрывшего р...   \n",
              "3      Голкипер «Челси» Вилли Кабальеро прокомментиро...   \n",
              "4      Новые смартфоны компании OnePlus получили экра...   \n",
              "...                                                  ...   \n",
              "34230  8 клубов Первой лиги считают оптимальным вариа...   \n",
              "34231  Американскую модель и владелицу косметического...   \n",
              "34232  Президент России Владимир Путин объявил день п...   \n",
              "34233  Количество сторонников продолжения политики пр...   \n",
              "34234  Москва. 30 мая. INTERFAX.RU - Перестрелка прои...   \n",
              "\n",
              "                                                     url           timestamp  \n",
              "0      https://autorambler.ru/novosti/acura-predstavi... 2020-05-27 08:10:52  \n",
              "1      https://ukranews.com/news/704861-v-kieve-zader... 2020-05-27 08:11:00  \n",
              "2      https://runews24.ru/incidents/27/05/2020/b8cac... 2020-05-27 08:11:00  \n",
              "3      http://dynamomania.com/news/531226-vsya-komand... 2020-05-27 08:11:00  \n",
              "4      https://anonsens.ru/37849_smartfony_oneplus_8_... 2020-05-27 08:11:00  \n",
              "...                                                  ...                 ...  \n",
              "34230  https://sport.ua/news/489497-8-klubov-pervoy-l... 2020-05-29 23:59:00  \n",
              "34231  https://www.obozrevatel.com/show/people/kajli-... 2020-05-29 23:59:00  \n",
              "34232  https://www.zakon.kz/5025060-den-parada-pobedy... 2020-05-29 23:59:00  \n",
              "34233  https://eadaily.com/ru/news/2020/05/29/bolee-6... 2020-05-29 23:59:00  \n",
              "34234              https://www.interfax.ru/russia/710995 2020-05-29 23:59:00  \n",
              "\n",
              "[34235 rows x 4 columns]"
            ],
            "text/html": [
              "\n",
              "  <div id=\"df-8a193024-f914-4cb1-8885-7e5660bf64e1\">\n",
              "    <div class=\"colab-df-container\">\n",
              "      <div>\n",
              "<style scoped>\n",
              "    .dataframe tbody tr th:only-of-type {\n",
              "        vertical-align: middle;\n",
              "    }\n",
              "\n",
              "    .dataframe tbody tr th {\n",
              "        vertical-align: top;\n",
              "    }\n",
              "\n",
              "    .dataframe thead th {\n",
              "        text-align: right;\n",
              "    }\n",
              "</style>\n",
              "<table border=\"1\" class=\"dataframe\">\n",
              "  <thead>\n",
              "    <tr style=\"text-align: right;\">\n",
              "      <th></th>\n",
              "      <th>title</th>\n",
              "      <th>text</th>\n",
              "      <th>url</th>\n",
              "      <th>timestamp</th>\n",
              "    </tr>\n",
              "  </thead>\n",
              "  <tbody>\n",
              "    <tr>\n",
              "      <th>0</th>\n",
              "      <td>Рассекречен \"убийца\" BMW 5 Series от Acura</td>\n",
              "      <td>Серийный TLX  не слишком далеко ушел в вопроса...</td>\n",
              "      <td>https://autorambler.ru/novosti/acura-predstavi...</td>\n",
              "      <td>2020-05-27 08:10:52</td>\n",
              "    </tr>\n",
              "    <tr>\n",
              "      <th>1</th>\n",
              "      <td>В Киеве задержали четырех киллеров, пытавшихся...</td>\n",
              "      <td>Сотрудники правоохранительных органов задержал...</td>\n",
              "      <td>https://ukranews.com/news/704861-v-kieve-zader...</td>\n",
              "      <td>2020-05-27 08:11:00</td>\n",
              "    </tr>\n",
              "    <tr>\n",
              "      <th>2</th>\n",
              "      <td>Ураган в Кузбассе сносил крыши домов и валил д...</td>\n",
              "      <td>Об последствиях ураганного ветра, накрывшего р...</td>\n",
              "      <td>https://runews24.ru/incidents/27/05/2020/b8cac...</td>\n",
              "      <td>2020-05-27 08:11:00</td>\n",
              "    </tr>\n",
              "    <tr>\n",
              "      <th>3</th>\n",
              "      <td>Вся команда \"Челси\" поддержала Канте после его...</td>\n",
              "      <td>Голкипер «Челси» Вилли Кабальеро прокомментиро...</td>\n",
              "      <td>http://dynamomania.com/news/531226-vsya-komand...</td>\n",
              "      <td>2020-05-27 08:11:00</td>\n",
              "    </tr>\n",
              "    <tr>\n",
              "      <th>4</th>\n",
              "      <td>Смартфоны OnePlus 8 и 8 Pro теперь имеют специ...</td>\n",
              "      <td>Новые смартфоны компании OnePlus получили экра...</td>\n",
              "      <td>https://anonsens.ru/37849_smartfony_oneplus_8_...</td>\n",
              "      <td>2020-05-27 08:11:00</td>\n",
              "    </tr>\n",
              "    <tr>\n",
              "      <th>...</th>\n",
              "      <td>...</td>\n",
              "      <td>...</td>\n",
              "      <td>...</td>\n",
              "      <td>...</td>\n",
              "    </tr>\n",
              "    <tr>\n",
              "      <th>34230</th>\n",
              "      <td>8 клубов Первой лиги хотят провести доигрывани...</td>\n",
              "      <td>8 клубов Первой лиги считают оптимальным вариа...</td>\n",
              "      <td>https://sport.ua/news/489497-8-klubov-pervoy-l...</td>\n",
              "      <td>2020-05-29 23:59:00</td>\n",
              "    </tr>\n",
              "    <tr>\n",
              "      <th>34231</th>\n",
              "      <td>Кайли Дженнер исключили из списка миллиардеров...</td>\n",
              "      <td>Американскую модель и владелицу косметического...</td>\n",
              "      <td>https://www.obozrevatel.com/show/people/kajli-...</td>\n",
              "      <td>2020-05-29 23:59:00</td>\n",
              "    </tr>\n",
              "    <tr>\n",
              "      <th>34232</th>\n",
              "      <td>День парада Победы в России будет нерабочим</td>\n",
              "      <td>Президент России Владимир Путин объявил день п...</td>\n",
              "      <td>https://www.zakon.kz/5025060-den-parada-pobedy...</td>\n",
              "      <td>2020-05-29 23:59:00</td>\n",
              "    </tr>\n",
              "    <tr>\n",
              "      <th>34233</th>\n",
              "      <td>Более 60% жителей Грузии считает, что страна р...</td>\n",
              "      <td>Количество сторонников продолжения политики пр...</td>\n",
              "      <td>https://eadaily.com/ru/news/2020/05/29/bolee-6...</td>\n",
              "      <td>2020-05-29 23:59:00</td>\n",
              "    </tr>\n",
              "    <tr>\n",
              "      <th>34234</th>\n",
              "      <td>Внутриклановый конфликт в Ингушетии закончился...</td>\n",
              "      <td>Москва. 30 мая. INTERFAX.RU - Перестрелка прои...</td>\n",
              "      <td>https://www.interfax.ru/russia/710995</td>\n",
              "      <td>2020-05-29 23:59:00</td>\n",
              "    </tr>\n",
              "  </tbody>\n",
              "</table>\n",
              "<p>34235 rows × 4 columns</p>\n",
              "</div>\n",
              "      <button class=\"colab-df-convert\" onclick=\"convertToInteractive('df-8a193024-f914-4cb1-8885-7e5660bf64e1')\"\n",
              "              title=\"Convert this dataframe to an interactive table.\"\n",
              "              style=\"display:none;\">\n",
              "        \n",
              "  <svg xmlns=\"http://www.w3.org/2000/svg\" height=\"24px\"viewBox=\"0 0 24 24\"\n",
              "       width=\"24px\">\n",
              "    <path d=\"M0 0h24v24H0V0z\" fill=\"none\"/>\n",
              "    <path d=\"M18.56 5.44l.94 2.06.94-2.06 2.06-.94-2.06-.94-.94-2.06-.94 2.06-2.06.94zm-11 1L8.5 8.5l.94-2.06 2.06-.94-2.06-.94L8.5 2.5l-.94 2.06-2.06.94zm10 10l.94 2.06.94-2.06 2.06-.94-2.06-.94-.94-2.06-.94 2.06-2.06.94z\"/><path d=\"M17.41 7.96l-1.37-1.37c-.4-.4-.92-.59-1.43-.59-.52 0-1.04.2-1.43.59L10.3 9.45l-7.72 7.72c-.78.78-.78 2.05 0 2.83L4 21.41c.39.39.9.59 1.41.59.51 0 1.02-.2 1.41-.59l7.78-7.78 2.81-2.81c.8-.78.8-2.07 0-2.86zM5.41 20L4 18.59l7.72-7.72 1.47 1.35L5.41 20z\"/>\n",
              "  </svg>\n",
              "      </button>\n",
              "      \n",
              "  <style>\n",
              "    .colab-df-container {\n",
              "      display:flex;\n",
              "      flex-wrap:wrap;\n",
              "      gap: 12px;\n",
              "    }\n",
              "\n",
              "    .colab-df-convert {\n",
              "      background-color: #E8F0FE;\n",
              "      border: none;\n",
              "      border-radius: 50%;\n",
              "      cursor: pointer;\n",
              "      display: none;\n",
              "      fill: #1967D2;\n",
              "      height: 32px;\n",
              "      padding: 0 0 0 0;\n",
              "      width: 32px;\n",
              "    }\n",
              "\n",
              "    .colab-df-convert:hover {\n",
              "      background-color: #E2EBFA;\n",
              "      box-shadow: 0px 1px 2px rgba(60, 64, 67, 0.3), 0px 1px 3px 1px rgba(60, 64, 67, 0.15);\n",
              "      fill: #174EA6;\n",
              "    }\n",
              "\n",
              "    [theme=dark] .colab-df-convert {\n",
              "      background-color: #3B4455;\n",
              "      fill: #D2E3FC;\n",
              "    }\n",
              "\n",
              "    [theme=dark] .colab-df-convert:hover {\n",
              "      background-color: #434B5C;\n",
              "      box-shadow: 0px 1px 3px 1px rgba(0, 0, 0, 0.15);\n",
              "      filter: drop-shadow(0px 1px 2px rgba(0, 0, 0, 0.3));\n",
              "      fill: #FFFFFF;\n",
              "    }\n",
              "  </style>\n",
              "\n",
              "      <script>\n",
              "        const buttonEl =\n",
              "          document.querySelector('#df-8a193024-f914-4cb1-8885-7e5660bf64e1 button.colab-df-convert');\n",
              "        buttonEl.style.display =\n",
              "          google.colab.kernel.accessAllowed ? 'block' : 'none';\n",
              "\n",
              "        async function convertToInteractive(key) {\n",
              "          const element = document.querySelector('#df-8a193024-f914-4cb1-8885-7e5660bf64e1');\n",
              "          const dataTable =\n",
              "            await google.colab.kernel.invokeFunction('convertToInteractive',\n",
              "                                                     [key], {});\n",
              "          if (!dataTable) return;\n",
              "\n",
              "          const docLinkHtml = 'Like what you see? Visit the ' +\n",
              "            '<a target=\"_blank\" href=https://colab.research.google.com/notebooks/data_table.ipynb>data table notebook</a>'\n",
              "            + ' to learn more about interactive tables.';\n",
              "          element.innerHTML = '';\n",
              "          dataTable['output_type'] = 'display_data';\n",
              "          await google.colab.output.renderOutput(dataTable, element);\n",
              "          const docLink = document.createElement('div');\n",
              "          docLink.innerHTML = docLinkHtml;\n",
              "          element.appendChild(docLink);\n",
              "        }\n",
              "      </script>\n",
              "    </div>\n",
              "  </div>\n",
              "  "
            ]
          },
          "metadata": {},
          "execution_count": 6
        }
      ]
    },
    {
      "cell_type": "code",
      "source": [
        "!pip install datasets transformers"
      ],
      "metadata": {
        "id": "Dsl_-VJ0Hw0D"
      },
      "id": "Dsl_-VJ0Hw0D",
      "execution_count": null,
      "outputs": []
    },
    {
      "cell_type": "code",
      "execution_count": 2,
      "id": "769ffcf5",
      "metadata": {
        "id": "769ffcf5"
      },
      "outputs": [],
      "source": [
        "from datasets import Dataset\n",
        "\n",
        "train_dataset = Dataset.from_pandas(train_df[:50])\n",
        "test_dataset = Dataset.from_pandas(test_df[:15])\n",
        "#val_dataset = Dataset.from_pandas(val_df)"
      ]
    },
    {
      "cell_type": "code",
      "source": [
        "train_dataset"
      ],
      "metadata": {
        "colab": {
          "base_uri": "https://localhost:8080/"
        },
        "id": "A-3IcDVsUI3d",
        "outputId": "31e3f807-265f-41a3-bb68-b1752457325a"
      },
      "id": "A-3IcDVsUI3d",
      "execution_count": 3,
      "outputs": [
        {
          "output_type": "execute_result",
          "data": {
            "text/plain": [
              "Dataset({\n",
              "    features: ['title', 'text', 'url', 'timestamp'],\n",
              "    num_rows: 50\n",
              "})"
            ]
          },
          "metadata": {},
          "execution_count": 3
        }
      ]
    },
    {
      "cell_type": "code",
      "source": [
        "test_dataset"
      ],
      "metadata": {
        "colab": {
          "base_uri": "https://localhost:8080/"
        },
        "id": "sIJ3UlWjUWC9",
        "outputId": "d2102540-fa6f-416c-d0c2-4a102985b5d5"
      },
      "id": "sIJ3UlWjUWC9",
      "execution_count": 4,
      "outputs": [
        {
          "output_type": "execute_result",
          "data": {
            "text/plain": [
              "Dataset({\n",
              "    features: ['title', 'text', 'url', 'timestamp'],\n",
              "    num_rows: 15\n",
              "})"
            ]
          },
          "metadata": {},
          "execution_count": 4
        }
      ]
    },
    {
      "cell_type": "code",
      "source": [
        "test_dataset['text'][0]"
      ],
      "metadata": {
        "colab": {
          "base_uri": "https://localhost:8080/",
          "height": 107
        },
        "id": "lTxN1zprZfNE",
        "outputId": "efdd99d5-6a7a-49e0-c4ee-136ca732e619"
      },
      "id": "lTxN1zprZfNE",
      "execution_count": 27,
      "outputs": [
        {
          "output_type": "execute_result",
          "data": {
            "text/plain": [
              "'Серийный TLX  не слишком далеко ушел в вопросах дизайна от предвосхитившего его концепт-кара Type S. Экстерьер атлетичный и стремительный, хотя и понравится не каждому, а салон еще более причудливый. Пока сложно судить о том, насколько хитросплетение поверхностей получилось эргономичным, но выглядит внутреннее пространство действительно интересно и необычно. 1 / 11 Детище премиального подразделения концерна Honda для североамериканского рынка вооружится новыми двигателями. На смену 206-сильной \"четверке\" объемом 2,4 л и 3,5-литровому агрегату V6, развивающему 290 л.с., придут наддувные моторы — 2,0-литровый, выдающий 272 л.с. при 4800 об/мин и 380 Нм при 1600-4600 об/мин, а также V6 объемом 3,0 л для полноприводной спортверсии Type S, развивающий на 50% больше крутящего момента на низких оборотах чем современная \"шестерка\". По предварительным данным, он выдаст около 400 л.с. Обе модификации оснастят десятиступенчатыми автоматическими коробками передач. Впрочем, новинка должна восхитить аудиторию не только динамикой, но и ездовыми свойствами — передняя подвеска на двойных поперечных рычагах и настройки шасси сделают TLX лучшим драйверским седаном в истории Acura. Похоже, У BMW появится серьезный конкурент.'"
            ],
            "application/vnd.google.colaboratory.intrinsic+json": {
              "type": "string"
            }
          },
          "metadata": {},
          "execution_count": 27
        }
      ]
    },
    {
      "cell_type": "code",
      "source": [
        "test_dataset['title'][0]"
      ],
      "metadata": {
        "colab": {
          "base_uri": "https://localhost:8080/",
          "height": 35
        },
        "id": "mzyOL8ybZsDp",
        "outputId": "ef89d155-7d01-4b06-eb83-fd04a42b9257"
      },
      "id": "mzyOL8ybZsDp",
      "execution_count": 13,
      "outputs": [
        {
          "output_type": "execute_result",
          "data": {
            "text/plain": [
              "'Рассекречен \"убийца\" BMW 5 Series от Acura'"
            ],
            "application/vnd.google.colaboratory.intrinsic+json": {
              "type": "string"
            }
          },
          "metadata": {},
          "execution_count": 13
        }
      ]
    },
    {
      "cell_type": "code",
      "execution_count": 56,
      "id": "739396ce",
      "metadata": {
        "id": "739396ce"
      },
      "outputs": [],
      "source": [
        "#train_dataset = train_dataset.select(range(200))\n",
        "#test_dataset = test_dataset.select(range(50))"
      ]
    },
    {
      "cell_type": "code",
      "execution_count": 5,
      "id": "7cb333ae",
      "metadata": {
        "id": "7cb333ae"
      },
      "outputs": [],
      "source": [
        "model_name = \"IlyaGusev/rut5_base_sum_gazeta\""
      ]
    },
    {
      "cell_type": "code",
      "execution_count": 6,
      "id": "8a7cb4c1",
      "metadata": {
        "id": "8a7cb4c1"
      },
      "outputs": [],
      "source": [
        "def len_tok(text):\n",
        "    return len(text.split())"
      ]
    },
    {
      "cell_type": "code",
      "execution_count": 7,
      "id": "a35dbc09",
      "metadata": {
        "id": "a35dbc09",
        "outputId": "64fdac13-f48b-41f6-fbc7-4e3ca7f47b31",
        "colab": {
          "base_uri": "https://localhost:8080/"
        }
      },
      "outputs": [
        {
          "output_type": "execute_result",
          "data": {
            "text/plain": [
              "(710, 23)"
            ]
          },
          "metadata": {},
          "execution_count": 7
        }
      ],
      "source": [
        "# Максимальная длинна текста и заголовка\n",
        "\n",
        "max_len_text, max_len_tl = max(map(len_tok, train_dataset['text'])), max(map(len_tok, train_dataset['title']))\n",
        "max_len_text, max_len_tl"
      ]
    },
    {
      "cell_type": "code",
      "source": [
        "max_len_text, max_len_tl = 500, 23"
      ],
      "metadata": {
        "id": "4fGzqXDkaUpP"
      },
      "id": "4fGzqXDkaUpP",
      "execution_count": 8,
      "outputs": []
    },
    {
      "cell_type": "code",
      "execution_count": 9,
      "id": "dd5d2a9e",
      "metadata": {
        "id": "dd5d2a9e",
        "outputId": "d289bb44-b9bf-43f3-83e8-cc0d287065ae",
        "colab": {
          "referenced_widgets": [
            "b0a1df40d6514102b9ff1a237cdcc095",
            "7783e6c9580140ae86da9f0c114ae1c8",
            "4768aeb9ff534828afae68b4c2d85c15",
            "fbd9fa17bb3f42e088f09db3fe096d8c",
            "bb183e893118490ea820645648d5b091",
            "b406fadc63f948f2af8fb1a0e54c30a9",
            "ccafecde6fcf4425aacb158252605a87",
            "fd0b3623f09f477c85d1b63751ccac79",
            "104703acb1f34391bf7b6ae90c9cf2aa",
            "cb16d89049784736832e84b7f86d6f2e",
            "3987b51ddf91486182ca8be1e027d50b",
            "a04632b554ce4925840882fcee76c481",
            "5abd3d1460304a6e9105c3eee91dba00",
            "e336d4c7b25342cba9069e52d9abaa1e",
            "403bb8dbb050486f939c282c3070ede4",
            "7dae50f798724ab6b1469ea3ffca25dc",
            "9f66ec5826d8486f9d111026100254db",
            "9c7d516c838e4a1e888ab6c71cc55465",
            "0a9bc77408b845a8a595d9042dca4a28",
            "9737fc6cd7284b67905f83b0436c53ea",
            "700b42f74cb34e5cbbf7ca9383684870",
            "74d5aaaf172742efb81070af821aed85"
          ],
          "base_uri": "https://localhost:8080/",
          "height": 119
        }
      },
      "outputs": [
        {
          "output_type": "stream",
          "name": "stderr",
          "text": [
            "Parameter 'function'=<function tokenize at 0x7f8ea201cdd0> of the transform datasets.arrow_dataset.Dataset._map_single couldn't be hashed properly, a random hash was used instead. Make sure your transforms and parameters are serializable with pickle or dill for the dataset fingerprinting and caching to work. If you reuse this transform, the caching mechanism will consider it to be different from the previous calls and recompute everything. This warning is only showed once. Subsequent hashing failures won't be showed.\n"
          ]
        },
        {
          "output_type": "display_data",
          "data": {
            "text/plain": [
              "  0%|          | 0/7 [00:00<?, ?ba/s]"
            ],
            "application/vnd.jupyter.widget-view+json": {
              "version_major": 2,
              "version_minor": 0,
              "model_id": "b0a1df40d6514102b9ff1a237cdcc095"
            }
          },
          "metadata": {}
        },
        {
          "output_type": "display_data",
          "data": {
            "text/plain": [
              "  0%|          | 0/2 [00:00<?, ?ba/s]"
            ],
            "application/vnd.jupyter.widget-view+json": {
              "version_major": 2,
              "version_minor": 0,
              "model_id": "a04632b554ce4925840882fcee76c481"
            }
          },
          "metadata": {}
        }
      ],
      "source": [
        "from transformers import AutoTokenizer\n",
        "\n",
        "tokenizer = AutoTokenizer.from_pretrained(model_name)\n",
        "\n",
        "def tokenize(batch):\n",
        "    tokenized_input = tokenizer(batch['text'], padding='max_length', truncation=True, max_length=max_len_text)\n",
        "    tokenized_label = tokenizer(batch['title'], padding='max_length', truncation=True, max_length=max_len_tl)\n",
        "\n",
        "    tokenized_input['labels'] = tokenized_label['input_ids']\n",
        "\n",
        "    return tokenized_input\n",
        "\n",
        "train_dataset = train_dataset.map(tokenize, batched=True, batch_size=8)\n",
        "test_dataset = test_dataset.map(tokenize, batched=True, batch_size=8)\n",
        "\n",
        "train_dataset.set_format('numpy', columns=['input_ids', 'attention_mask', 'labels'])\n",
        "test_dataset.set_format('numpy', columns=['input_ids', 'attention_mask', 'labels'])"
      ]
    },
    {
      "cell_type": "code",
      "execution_count": 10,
      "id": "6ea2a8d2",
      "metadata": {
        "id": "6ea2a8d2"
      },
      "outputs": [],
      "source": [
        "PATH = '/content/drive/MyDrive/data/'\n",
        "train_dataset.save_to_disk(PATH + 'train')\n",
        "test_dataset.save_to_disk(PATH + 'test')"
      ]
    },
    {
      "cell_type": "code",
      "execution_count": 11,
      "id": "2b74a3a3",
      "metadata": {
        "id": "2b74a3a3"
      },
      "outputs": [],
      "source": [
        "from transformers import T5ForConditionalGeneration, Trainer, TrainingArguments\n",
        "\n",
        "model = T5ForConditionalGeneration.from_pretrained(model_name)"
      ]
    },
    {
      "cell_type": "code",
      "source": [
        "model.cuda();"
      ],
      "metadata": {
        "id": "zgTcCOU_k1a0"
      },
      "id": "zgTcCOU_k1a0",
      "execution_count": 12,
      "outputs": []
    },
    {
      "cell_type": "code",
      "execution_count": 30,
      "id": "4cfb2b32",
      "metadata": {
        "id": "4cfb2b32",
        "colab": {
          "base_uri": "https://localhost:8080/"
        },
        "outputId": "6e37137d-253b-4776-8423-2d6ef40204c5"
      },
      "outputs": [
        {
          "output_type": "stream",
          "name": "stderr",
          "text": [
            "PyTorch: setting up devices\n",
            "The default value for the training argument `--report_to` will change in v5 (from all installed integrations to none). In v5, you will need to use `--report_to all` to get the same behavior as now. You should start updating your code and make this info disappear :-).\n"
          ]
        }
      ],
      "source": [
        "output_dir = 'output'\n",
        "\n",
        "training_args = TrainingArguments(\n",
        "    output_dir=output_dir,\n",
        "    num_train_epochs=10,\n",
        "    per_device_train_batch_size=8,\n",
        "    per_device_eval_batch_size=8,\n",
        "    eval_accumulation_steps=1, # Number of eval steps to keep in GPU (the higher, the mor vRAM used)\n",
        "    prediction_loss_only=True, # If I need co compute only loss and not other metrics, setting this to true will use less RAM\n",
        "    learning_rate=0.00001,    # важно, чтобы был небольшим min  в 5 степени\n",
        "    evaluation_strategy='steps', # Run evaluation every eval_steps\n",
        "    save_steps=1000, # How often to save a checkpoint\n",
        "    save_total_limit=1, # Number of maximum checkpoints to save\n",
        "    remove_unused_columns=True, # Removes useless columns from the dataset\n",
        "    run_name='run_headlines', # Wandb run name\n",
        "    logging_steps=500, # How often to log loss to wandb\n",
        "    eval_steps=500, # How often to run evaluation on the val_set\n",
        "    logging_first_step=False, # Whether to log also the very first training step to wandb\n",
        "    load_best_model_at_end=True, # Whether to load the best model found at each evaluation.\n",
        "    metric_for_best_model=\"loss\", # Use loss to evaluate best model.\n",
        "    greater_is_better=False # Best model is the one with the lowest loss, not highest.\n",
        ")"
      ]
    },
    {
      "cell_type": "code",
      "execution_count": 31,
      "id": "e4cbc882",
      "metadata": {
        "id": "e4cbc882"
      },
      "outputs": [],
      "source": [
        "trainer = Trainer(\n",
        "    model=model,\n",
        "    args=training_args,\n",
        "    train_dataset=train_dataset,\n",
        "    eval_dataset=test_dataset\n",
        ")"
      ]
    },
    {
      "cell_type": "code",
      "execution_count": 32,
      "id": "bc7232bd",
      "metadata": {
        "id": "bc7232bd",
        "outputId": "c4f09ba5-0fbd-4ddb-a404-83fc431d68e5",
        "colab": {
          "base_uri": "https://localhost:8080/",
          "height": 399
        }
      },
      "outputs": [
        {
          "output_type": "stream",
          "name": "stderr",
          "text": [
            "The following columns in the training set don't have a corresponding argument in `T5ForConditionalGeneration.forward` and have been ignored: title, timestamp, text, url. If title, timestamp, text, url are not expected by `T5ForConditionalGeneration.forward`,  you can safely ignore this message.\n",
            "/usr/local/lib/python3.7/dist-packages/transformers/optimization.py:310: FutureWarning: This implementation of AdamW is deprecated and will be removed in a future version. Use the PyTorch implementation torch.optim.AdamW instead, or set `no_deprecation_warning=True` to disable this warning\n",
            "  FutureWarning,\n",
            "***** Running training *****\n",
            "  Num examples = 50\n",
            "  Num Epochs = 10\n",
            "  Instantaneous batch size per device = 8\n",
            "  Total train batch size (w. parallel, distributed & accumulation) = 8\n",
            "  Gradient Accumulation steps = 1\n",
            "  Total optimization steps = 70\n"
          ]
        },
        {
          "output_type": "display_data",
          "data": {
            "text/plain": [
              "<IPython.core.display.HTML object>"
            ],
            "text/html": [
              "\n",
              "    <div>\n",
              "      \n",
              "      <progress value='70' max='70' style='width:300px; height:20px; vertical-align: middle;'></progress>\n",
              "      [70/70 00:39, Epoch 10/10]\n",
              "    </div>\n",
              "    <table border=\"1\" class=\"dataframe\">\n",
              "  <thead>\n",
              " <tr style=\"text-align: left;\">\n",
              "      <th>Step</th>\n",
              "      <th>Training Loss</th>\n",
              "      <th>Validation Loss</th>\n",
              "    </tr>\n",
              "  </thead>\n",
              "  <tbody>\n",
              "  </tbody>\n",
              "</table><p>"
            ]
          },
          "metadata": {}
        },
        {
          "output_type": "stream",
          "name": "stderr",
          "text": [
            "\n",
            "\n",
            "Training completed. Do not forget to share your model on huggingface.co/models =)\n",
            "\n",
            "\n"
          ]
        },
        {
          "output_type": "execute_result",
          "data": {
            "text/plain": [
              "TrainOutput(global_step=70, training_loss=10.457255336216518, metrics={'train_runtime': 40.1765, 'train_samples_per_second': 12.445, 'train_steps_per_second': 1.742, 'total_flos': 331902720000000.0, 'train_loss': 10.457255336216518, 'epoch': 10.0})"
            ]
          },
          "metadata": {},
          "execution_count": 32
        }
      ],
      "source": [
        "trainer.train()"
      ]
    },
    {
      "cell_type": "code",
      "execution_count": 33,
      "id": "abeeeb94",
      "metadata": {
        "id": "abeeeb94",
        "outputId": "6cc90b6e-73e7-4da0-e47e-847127243ad3",
        "colab": {
          "base_uri": "https://localhost:8080/"
        }
      },
      "outputs": [
        {
          "output_type": "stream",
          "name": "stderr",
          "text": [
            "Saving model checkpoint to output/model\n",
            "Configuration saved in output/model/config.json\n",
            "Model weights saved in output/model/pytorch_model.bin\n"
          ]
        }
      ],
      "source": [
        "trainer.save_model(output_dir + '/model')"
      ]
    },
    {
      "cell_type": "code",
      "execution_count": 40,
      "id": "bb2f0449",
      "metadata": {
        "id": "bb2f0449",
        "colab": {
          "base_uri": "https://localhost:8080/"
        },
        "outputId": "7192b5b6-4b62-41a7-cd5d-9077dbfda44d"
      },
      "outputs": [
        {
          "output_type": "stream",
          "name": "stdout",
          "text": [
            "SUMMARY: | Работа за рубежом, стоимость топлива, возможность отдыхать за границей и приобретать импортные автомобили: всё это привязано к соотношению гривны и ведущих мировых валют. Вопрос остро интересует тех, кто занимается экспортом, торгует китайским ширпотребом и турецкой одеждой. Падению национальной единицы всегда рад тот, кто взял кредит в гривне. Если у человека есть стабильные валютные поступления, то он всегда будет на \"гребне волны\". Курс никто не назначает и не отменяет. Он формируется под воздействием ряда нюансов и причин. Жёсткое командное администрирование может повлечь крах экономики, возникнет дефицит товаров и уход рынка в \"чёрный\" сегмент. 70 копеек за доллар ускорил развал СССР. Правительство лишь рекомендует и частично влияет на формирование курса. Он заложен в бюджет, его принято прогнозировать. Соотношение гривны и евро/доллара зависит от: Летом 2019 года гривна заметно укрепилась, опустив \"зелёный\" до значения 24. Но произошло это не от растущей экономики, а от выгодной продажи ОВГЗ на международных биржах. Подобное действие может обернуться плачевно, крах пирамиды облигаций способен спровоцировать падение национальной валюты на треть. Самый сильный обвал украинских денег был зафиксирован зимой 2015 года. Этому поспособствовал затяжной военный конфликт, закрытие многих банков, экономический спад, сомнительные действия НБУ. Гривна всегда стабильна при вливании от МВФ, а нехватка наличного доллара всегда опускает денежные знаки Украины. Курс всегда проседает перед выплатой очередного долга или процентов, в такие дни государство активно скупает \"бакс\", а население его охотно отдаёт за хорошую плату. Любое финансовое учреждение заинтересовано зарабатывать, продажа и скупка валюты - составная часть доходов банкиров. Простодушие рядовых граждан помогает им обогащаться. Не всегда государственный банк готов честно платить за доллары пенсионерки. Надо следить за меняющимся рынком, мониторить ситуацию, обращаться за справкой в проверенные фирмы, которые работают на свой имидж. Приобретать доллары, евро, злотые и т.д. с рук не только опасно, но и преследуется законом. Уголовное наказание за валютные сделки существует. Посещайте легальные обменные пункты, которые проводят гибкую, адекватную финансовую политику. Перед сделками проверяйте курс в нескольких источниках, среди которых обязательно должны быть обменки от KitGroup, -  курс валют на сегодня в Днепре , Харькове, Киеве и т.д. (всего 21 город Украины). Не всегда стоит обращаться в точку, которая находится под рукой, иногда небольшая пешая прогулка поможет хорошо выгадать. KitGroup предлагает выгодные условия обмена. Нет ограничений по сумме, всегда в наличии мелкие денежные знаки. Только здесь: Для удобства пользования имеет смысл пройти лёгкую процедуру регистрации. Пользователь всегда знает о положении дел на валютном рынке. Сведения будут поступать в автоматическом режиме на электронную почту, канал Telegram. Ресурс содержит массу полезной информации, включая аналитику и состояние рынка. Будьте внимательны и осторожны, фальшивые купюры никто не отменял. А курс может колебаться даже в пределах одного часа!\n",
            "TITLE: | От чего зависит курс валюты в Украине (простыми словами)\n"
          ]
        }
      ],
      "source": [
        "INX = 7\n",
        "print(\"SUMMARY: | {}\".format(test_dataset['text'][INX]))\n",
        "print(\"TITLE: | {}\".format(test_dataset['title'][INX]))"
      ]
    },
    {
      "cell_type": "code",
      "source": [
        "device = \"cuda\""
      ],
      "metadata": {
        "id": "AIzE6AngmKAq"
      },
      "id": "AIzE6AngmKAq",
      "execution_count": 21,
      "outputs": []
    },
    {
      "cell_type": "code",
      "execution_count": 41,
      "id": "b9033a92",
      "metadata": {
        "id": "b9033a92"
      },
      "outputs": [],
      "source": [
        "# Инференс\n",
        "\n",
        "import torch\n",
        "\n",
        "input_text = test_dataset['text'][INX]\n",
        "\n",
        "with torch.no_grad():\n",
        "    tokenized_text = tokenizer(input_text,  padding=True, truncation=True, return_tensors='pt')\n",
        "\n",
        "    source_ids = tokenized_text['input_ids'].to(device, dtype = torch.long)\n",
        "    source_mask = tokenized_text['attention_mask'].to(device, dtype = torch.long)\n",
        "\n",
        "    generated_ids = model.generate(  \n",
        "        #end_token=end_token_id, проверить \n",
        "        input_ids = source_ids,\n",
        "        attention_mask = source_mask, \n",
        "        max_length=512,\n",
        "        num_beams=7,\n",
        "        temperature = 1.3,\n",
        "        repetition_penalty=1, \n",
        "        length_penalty=5, \n",
        "        early_stopping=True,\n",
        "        no_repeat_ngram_size=2\n",
        "    )\n",
        "\n",
        "    pred = tokenizer.decode(generated_ids[0], skip_special_tokens=True, clean_up_tokenization_spaces=True)"
      ]
    },
    {
      "cell_type": "code",
      "execution_count": 42,
      "id": "6e63770e",
      "metadata": {
        "id": "6e63770e",
        "outputId": "bace8e26-38ff-4ff4-fdd6-d5c908d3f4f5",
        "colab": {
          "base_uri": "https://localhost:8080/"
        }
      },
      "outputs": [
        {
          "output_type": "stream",
          "name": "stdout",
          "text": [
            "Исходный текст Работа за рубежом, стоимость топлива, возможность отдыхать за границей и приобретать импортные автомобили: всё это привязано к соотношению гривны и ведущих мировых валют. Вопрос остро интересует тех, кто занимается экспортом, торгует китайским ширпотребом и турецкой одеждой. Падению национальной единицы всегда рад тот, кто взял кредит в гривне. Если у человека есть стабильные валютные поступления, то он всегда будет на \"гребне волны\". Курс никто не назначает и не отменяет. Он формируется под воздействием ряда нюансов и причин. Жёсткое командное администрирование может повлечь крах экономики, возникнет дефицит товаров и уход рынка в \"чёрный\" сегмент. 70 копеек за доллар ускорил развал СССР. Правительство лишь рекомендует и частично влияет на формирование курса. Он заложен в бюджет, его принято прогнозировать. Соотношение гривны и евро/доллара зависит от: Летом 2019 года гривна заметно укрепилась, опустив \"зелёный\" до значения 24. Но произошло это не от растущей экономики, а от выгодной продажи ОВГЗ на международных биржах. Подобное действие может обернуться плачевно, крах пирамиды облигаций способен спровоцировать падение национальной валюты на треть. Самый сильный обвал украинских денег был зафиксирован зимой 2015 года. Этому поспособствовал затяжной военный конфликт, закрытие многих банков, экономический спад, сомнительные действия НБУ. Гривна всегда стабильна при вливании от МВФ, а нехватка наличного доллара всегда опускает денежные знаки Украины. Курс всегда проседает перед выплатой очередного долга или процентов, в такие дни государство активно скупает \"бакс\", а население его охотно отдаёт за хорошую плату. Любое финансовое учреждение заинтересовано зарабатывать, продажа и скупка валюты - составная часть доходов банкиров. Простодушие рядовых граждан помогает им обогащаться. Не всегда государственный банк готов честно платить за доллары пенсионерки. Надо следить за меняющимся рынком, мониторить ситуацию, обращаться за справкой в проверенные фирмы, которые работают на свой имидж. Приобретать доллары, евро, злотые и т.д. с рук не только опасно, но и преследуется законом. Уголовное наказание за валютные сделки существует. Посещайте легальные обменные пункты, которые проводят гибкую, адекватную финансовую политику. Перед сделками проверяйте курс в нескольких источниках, среди которых обязательно должны быть обменки от KitGroup, -  курс валют на сегодня в Днепре , Харькове, Киеве и т.д. (всего 21 город Украины). Не всегда стоит обращаться в точку, которая находится под рукой, иногда небольшая пешая прогулка поможет хорошо выгадать. KitGroup предлагает выгодные условия обмена. Нет ограничений по сумме, всегда в наличии мелкие денежные знаки. Только здесь: Для удобства пользования имеет смысл пройти лёгкую процедуру регистрации. Пользователь всегда знает о положении дел на валютном рынке. Сведения будут поступать в автоматическом режиме на электронную почту, канал Telegram. Ресурс содержит массу полезной информации, включая аналитику и состояние рынка. Будьте внимательны и осторожны, фальшивые купюры никто не отменял. А курс может колебаться даже в пределах одного часа!\n",
            "Исходный заголовок От чего зависит курс валюты в Украине (простыми словами)\n",
            "Вывод модели Курс гривны в ближайшие дни может опуститься до 70 копеек за доллар. Если у россиянина есть деньги, то он всегда будет на гребне волны, а не только за границей, но и за рубежом.\n"
          ]
        }
      ],
      "source": [
        "print(f\"Исходный текст {test_dataset['text'][INX]}\")\n",
        "print(f\"Исходный заголовок {test_dataset['title'][INX]}\")\n",
        "print(f'Вывод модели {pred}')"
      ]
    }
  ],
  "metadata": {
    "kernelspec": {
      "display_name": "Python 3 (ipykernel)",
      "language": "python",
      "name": "python3"
    },
    "language_info": {
      "codemirror_mode": {
        "name": "ipython",
        "version": 3
      },
      "file_extension": ".py",
      "mimetype": "text/x-python",
      "name": "python",
      "nbconvert_exporter": "python",
      "pygments_lexer": "ipython3",
      "version": "3.9.13"
    },
    "colab": {
      "name": "HW_14_titles_generate.ipynb",
      "provenance": [],
      "collapsed_sections": [],
      "machine_shape": "hm",
      "include_colab_link": true
    },
    "accelerator": "GPU",
    "gpuClass": "standard",
    "widgets": {
      "application/vnd.jupyter.widget-state+json": {
        "b0a1df40d6514102b9ff1a237cdcc095": {
          "model_module": "@jupyter-widgets/controls",
          "model_name": "HBoxModel",
          "model_module_version": "1.5.0",
          "state": {
            "_dom_classes": [],
            "_model_module": "@jupyter-widgets/controls",
            "_model_module_version": "1.5.0",
            "_model_name": "HBoxModel",
            "_view_count": null,
            "_view_module": "@jupyter-widgets/controls",
            "_view_module_version": "1.5.0",
            "_view_name": "HBoxView",
            "box_style": "",
            "children": [
              "IPY_MODEL_7783e6c9580140ae86da9f0c114ae1c8",
              "IPY_MODEL_4768aeb9ff534828afae68b4c2d85c15",
              "IPY_MODEL_fbd9fa17bb3f42e088f09db3fe096d8c"
            ],
            "layout": "IPY_MODEL_bb183e893118490ea820645648d5b091"
          }
        },
        "7783e6c9580140ae86da9f0c114ae1c8": {
          "model_module": "@jupyter-widgets/controls",
          "model_name": "HTMLModel",
          "model_module_version": "1.5.0",
          "state": {
            "_dom_classes": [],
            "_model_module": "@jupyter-widgets/controls",
            "_model_module_version": "1.5.0",
            "_model_name": "HTMLModel",
            "_view_count": null,
            "_view_module": "@jupyter-widgets/controls",
            "_view_module_version": "1.5.0",
            "_view_name": "HTMLView",
            "description": "",
            "description_tooltip": null,
            "layout": "IPY_MODEL_b406fadc63f948f2af8fb1a0e54c30a9",
            "placeholder": "​",
            "style": "IPY_MODEL_ccafecde6fcf4425aacb158252605a87",
            "value": "100%"
          }
        },
        "4768aeb9ff534828afae68b4c2d85c15": {
          "model_module": "@jupyter-widgets/controls",
          "model_name": "FloatProgressModel",
          "model_module_version": "1.5.0",
          "state": {
            "_dom_classes": [],
            "_model_module": "@jupyter-widgets/controls",
            "_model_module_version": "1.5.0",
            "_model_name": "FloatProgressModel",
            "_view_count": null,
            "_view_module": "@jupyter-widgets/controls",
            "_view_module_version": "1.5.0",
            "_view_name": "ProgressView",
            "bar_style": "success",
            "description": "",
            "description_tooltip": null,
            "layout": "IPY_MODEL_fd0b3623f09f477c85d1b63751ccac79",
            "max": 7,
            "min": 0,
            "orientation": "horizontal",
            "style": "IPY_MODEL_104703acb1f34391bf7b6ae90c9cf2aa",
            "value": 7
          }
        },
        "fbd9fa17bb3f42e088f09db3fe096d8c": {
          "model_module": "@jupyter-widgets/controls",
          "model_name": "HTMLModel",
          "model_module_version": "1.5.0",
          "state": {
            "_dom_classes": [],
            "_model_module": "@jupyter-widgets/controls",
            "_model_module_version": "1.5.0",
            "_model_name": "HTMLModel",
            "_view_count": null,
            "_view_module": "@jupyter-widgets/controls",
            "_view_module_version": "1.5.0",
            "_view_name": "HTMLView",
            "description": "",
            "description_tooltip": null,
            "layout": "IPY_MODEL_cb16d89049784736832e84b7f86d6f2e",
            "placeholder": "​",
            "style": "IPY_MODEL_3987b51ddf91486182ca8be1e027d50b",
            "value": " 7/7 [00:00&lt;00:00, 29.93ba/s]"
          }
        },
        "bb183e893118490ea820645648d5b091": {
          "model_module": "@jupyter-widgets/base",
          "model_name": "LayoutModel",
          "model_module_version": "1.2.0",
          "state": {
            "_model_module": "@jupyter-widgets/base",
            "_model_module_version": "1.2.0",
            "_model_name": "LayoutModel",
            "_view_count": null,
            "_view_module": "@jupyter-widgets/base",
            "_view_module_version": "1.2.0",
            "_view_name": "LayoutView",
            "align_content": null,
            "align_items": null,
            "align_self": null,
            "border": null,
            "bottom": null,
            "display": null,
            "flex": null,
            "flex_flow": null,
            "grid_area": null,
            "grid_auto_columns": null,
            "grid_auto_flow": null,
            "grid_auto_rows": null,
            "grid_column": null,
            "grid_gap": null,
            "grid_row": null,
            "grid_template_areas": null,
            "grid_template_columns": null,
            "grid_template_rows": null,
            "height": null,
            "justify_content": null,
            "justify_items": null,
            "left": null,
            "margin": null,
            "max_height": null,
            "max_width": null,
            "min_height": null,
            "min_width": null,
            "object_fit": null,
            "object_position": null,
            "order": null,
            "overflow": null,
            "overflow_x": null,
            "overflow_y": null,
            "padding": null,
            "right": null,
            "top": null,
            "visibility": null,
            "width": null
          }
        },
        "b406fadc63f948f2af8fb1a0e54c30a9": {
          "model_module": "@jupyter-widgets/base",
          "model_name": "LayoutModel",
          "model_module_version": "1.2.0",
          "state": {
            "_model_module": "@jupyter-widgets/base",
            "_model_module_version": "1.2.0",
            "_model_name": "LayoutModel",
            "_view_count": null,
            "_view_module": "@jupyter-widgets/base",
            "_view_module_version": "1.2.0",
            "_view_name": "LayoutView",
            "align_content": null,
            "align_items": null,
            "align_self": null,
            "border": null,
            "bottom": null,
            "display": null,
            "flex": null,
            "flex_flow": null,
            "grid_area": null,
            "grid_auto_columns": null,
            "grid_auto_flow": null,
            "grid_auto_rows": null,
            "grid_column": null,
            "grid_gap": null,
            "grid_row": null,
            "grid_template_areas": null,
            "grid_template_columns": null,
            "grid_template_rows": null,
            "height": null,
            "justify_content": null,
            "justify_items": null,
            "left": null,
            "margin": null,
            "max_height": null,
            "max_width": null,
            "min_height": null,
            "min_width": null,
            "object_fit": null,
            "object_position": null,
            "order": null,
            "overflow": null,
            "overflow_x": null,
            "overflow_y": null,
            "padding": null,
            "right": null,
            "top": null,
            "visibility": null,
            "width": null
          }
        },
        "ccafecde6fcf4425aacb158252605a87": {
          "model_module": "@jupyter-widgets/controls",
          "model_name": "DescriptionStyleModel",
          "model_module_version": "1.5.0",
          "state": {
            "_model_module": "@jupyter-widgets/controls",
            "_model_module_version": "1.5.0",
            "_model_name": "DescriptionStyleModel",
            "_view_count": null,
            "_view_module": "@jupyter-widgets/base",
            "_view_module_version": "1.2.0",
            "_view_name": "StyleView",
            "description_width": ""
          }
        },
        "fd0b3623f09f477c85d1b63751ccac79": {
          "model_module": "@jupyter-widgets/base",
          "model_name": "LayoutModel",
          "model_module_version": "1.2.0",
          "state": {
            "_model_module": "@jupyter-widgets/base",
            "_model_module_version": "1.2.0",
            "_model_name": "LayoutModel",
            "_view_count": null,
            "_view_module": "@jupyter-widgets/base",
            "_view_module_version": "1.2.0",
            "_view_name": "LayoutView",
            "align_content": null,
            "align_items": null,
            "align_self": null,
            "border": null,
            "bottom": null,
            "display": null,
            "flex": null,
            "flex_flow": null,
            "grid_area": null,
            "grid_auto_columns": null,
            "grid_auto_flow": null,
            "grid_auto_rows": null,
            "grid_column": null,
            "grid_gap": null,
            "grid_row": null,
            "grid_template_areas": null,
            "grid_template_columns": null,
            "grid_template_rows": null,
            "height": null,
            "justify_content": null,
            "justify_items": null,
            "left": null,
            "margin": null,
            "max_height": null,
            "max_width": null,
            "min_height": null,
            "min_width": null,
            "object_fit": null,
            "object_position": null,
            "order": null,
            "overflow": null,
            "overflow_x": null,
            "overflow_y": null,
            "padding": null,
            "right": null,
            "top": null,
            "visibility": null,
            "width": null
          }
        },
        "104703acb1f34391bf7b6ae90c9cf2aa": {
          "model_module": "@jupyter-widgets/controls",
          "model_name": "ProgressStyleModel",
          "model_module_version": "1.5.0",
          "state": {
            "_model_module": "@jupyter-widgets/controls",
            "_model_module_version": "1.5.0",
            "_model_name": "ProgressStyleModel",
            "_view_count": null,
            "_view_module": "@jupyter-widgets/base",
            "_view_module_version": "1.2.0",
            "_view_name": "StyleView",
            "bar_color": null,
            "description_width": ""
          }
        },
        "cb16d89049784736832e84b7f86d6f2e": {
          "model_module": "@jupyter-widgets/base",
          "model_name": "LayoutModel",
          "model_module_version": "1.2.0",
          "state": {
            "_model_module": "@jupyter-widgets/base",
            "_model_module_version": "1.2.0",
            "_model_name": "LayoutModel",
            "_view_count": null,
            "_view_module": "@jupyter-widgets/base",
            "_view_module_version": "1.2.0",
            "_view_name": "LayoutView",
            "align_content": null,
            "align_items": null,
            "align_self": null,
            "border": null,
            "bottom": null,
            "display": null,
            "flex": null,
            "flex_flow": null,
            "grid_area": null,
            "grid_auto_columns": null,
            "grid_auto_flow": null,
            "grid_auto_rows": null,
            "grid_column": null,
            "grid_gap": null,
            "grid_row": null,
            "grid_template_areas": null,
            "grid_template_columns": null,
            "grid_template_rows": null,
            "height": null,
            "justify_content": null,
            "justify_items": null,
            "left": null,
            "margin": null,
            "max_height": null,
            "max_width": null,
            "min_height": null,
            "min_width": null,
            "object_fit": null,
            "object_position": null,
            "order": null,
            "overflow": null,
            "overflow_x": null,
            "overflow_y": null,
            "padding": null,
            "right": null,
            "top": null,
            "visibility": null,
            "width": null
          }
        },
        "3987b51ddf91486182ca8be1e027d50b": {
          "model_module": "@jupyter-widgets/controls",
          "model_name": "DescriptionStyleModel",
          "model_module_version": "1.5.0",
          "state": {
            "_model_module": "@jupyter-widgets/controls",
            "_model_module_version": "1.5.0",
            "_model_name": "DescriptionStyleModel",
            "_view_count": null,
            "_view_module": "@jupyter-widgets/base",
            "_view_module_version": "1.2.0",
            "_view_name": "StyleView",
            "description_width": ""
          }
        },
        "a04632b554ce4925840882fcee76c481": {
          "model_module": "@jupyter-widgets/controls",
          "model_name": "HBoxModel",
          "model_module_version": "1.5.0",
          "state": {
            "_dom_classes": [],
            "_model_module": "@jupyter-widgets/controls",
            "_model_module_version": "1.5.0",
            "_model_name": "HBoxModel",
            "_view_count": null,
            "_view_module": "@jupyter-widgets/controls",
            "_view_module_version": "1.5.0",
            "_view_name": "HBoxView",
            "box_style": "",
            "children": [
              "IPY_MODEL_5abd3d1460304a6e9105c3eee91dba00",
              "IPY_MODEL_e336d4c7b25342cba9069e52d9abaa1e",
              "IPY_MODEL_403bb8dbb050486f939c282c3070ede4"
            ],
            "layout": "IPY_MODEL_7dae50f798724ab6b1469ea3ffca25dc"
          }
        },
        "5abd3d1460304a6e9105c3eee91dba00": {
          "model_module": "@jupyter-widgets/controls",
          "model_name": "HTMLModel",
          "model_module_version": "1.5.0",
          "state": {
            "_dom_classes": [],
            "_model_module": "@jupyter-widgets/controls",
            "_model_module_version": "1.5.0",
            "_model_name": "HTMLModel",
            "_view_count": null,
            "_view_module": "@jupyter-widgets/controls",
            "_view_module_version": "1.5.0",
            "_view_name": "HTMLView",
            "description": "",
            "description_tooltip": null,
            "layout": "IPY_MODEL_9f66ec5826d8486f9d111026100254db",
            "placeholder": "​",
            "style": "IPY_MODEL_9c7d516c838e4a1e888ab6c71cc55465",
            "value": "100%"
          }
        },
        "e336d4c7b25342cba9069e52d9abaa1e": {
          "model_module": "@jupyter-widgets/controls",
          "model_name": "FloatProgressModel",
          "model_module_version": "1.5.0",
          "state": {
            "_dom_classes": [],
            "_model_module": "@jupyter-widgets/controls",
            "_model_module_version": "1.5.0",
            "_model_name": "FloatProgressModel",
            "_view_count": null,
            "_view_module": "@jupyter-widgets/controls",
            "_view_module_version": "1.5.0",
            "_view_name": "ProgressView",
            "bar_style": "success",
            "description": "",
            "description_tooltip": null,
            "layout": "IPY_MODEL_0a9bc77408b845a8a595d9042dca4a28",
            "max": 2,
            "min": 0,
            "orientation": "horizontal",
            "style": "IPY_MODEL_9737fc6cd7284b67905f83b0436c53ea",
            "value": 2
          }
        },
        "403bb8dbb050486f939c282c3070ede4": {
          "model_module": "@jupyter-widgets/controls",
          "model_name": "HTMLModel",
          "model_module_version": "1.5.0",
          "state": {
            "_dom_classes": [],
            "_model_module": "@jupyter-widgets/controls",
            "_model_module_version": "1.5.0",
            "_model_name": "HTMLModel",
            "_view_count": null,
            "_view_module": "@jupyter-widgets/controls",
            "_view_module_version": "1.5.0",
            "_view_name": "HTMLView",
            "description": "",
            "description_tooltip": null,
            "layout": "IPY_MODEL_700b42f74cb34e5cbbf7ca9383684870",
            "placeholder": "​",
            "style": "IPY_MODEL_74d5aaaf172742efb81070af821aed85",
            "value": " 2/2 [00:00&lt;00:00, 29.92ba/s]"
          }
        },
        "7dae50f798724ab6b1469ea3ffca25dc": {
          "model_module": "@jupyter-widgets/base",
          "model_name": "LayoutModel",
          "model_module_version": "1.2.0",
          "state": {
            "_model_module": "@jupyter-widgets/base",
            "_model_module_version": "1.2.0",
            "_model_name": "LayoutModel",
            "_view_count": null,
            "_view_module": "@jupyter-widgets/base",
            "_view_module_version": "1.2.0",
            "_view_name": "LayoutView",
            "align_content": null,
            "align_items": null,
            "align_self": null,
            "border": null,
            "bottom": null,
            "display": null,
            "flex": null,
            "flex_flow": null,
            "grid_area": null,
            "grid_auto_columns": null,
            "grid_auto_flow": null,
            "grid_auto_rows": null,
            "grid_column": null,
            "grid_gap": null,
            "grid_row": null,
            "grid_template_areas": null,
            "grid_template_columns": null,
            "grid_template_rows": null,
            "height": null,
            "justify_content": null,
            "justify_items": null,
            "left": null,
            "margin": null,
            "max_height": null,
            "max_width": null,
            "min_height": null,
            "min_width": null,
            "object_fit": null,
            "object_position": null,
            "order": null,
            "overflow": null,
            "overflow_x": null,
            "overflow_y": null,
            "padding": null,
            "right": null,
            "top": null,
            "visibility": null,
            "width": null
          }
        },
        "9f66ec5826d8486f9d111026100254db": {
          "model_module": "@jupyter-widgets/base",
          "model_name": "LayoutModel",
          "model_module_version": "1.2.0",
          "state": {
            "_model_module": "@jupyter-widgets/base",
            "_model_module_version": "1.2.0",
            "_model_name": "LayoutModel",
            "_view_count": null,
            "_view_module": "@jupyter-widgets/base",
            "_view_module_version": "1.2.0",
            "_view_name": "LayoutView",
            "align_content": null,
            "align_items": null,
            "align_self": null,
            "border": null,
            "bottom": null,
            "display": null,
            "flex": null,
            "flex_flow": null,
            "grid_area": null,
            "grid_auto_columns": null,
            "grid_auto_flow": null,
            "grid_auto_rows": null,
            "grid_column": null,
            "grid_gap": null,
            "grid_row": null,
            "grid_template_areas": null,
            "grid_template_columns": null,
            "grid_template_rows": null,
            "height": null,
            "justify_content": null,
            "justify_items": null,
            "left": null,
            "margin": null,
            "max_height": null,
            "max_width": null,
            "min_height": null,
            "min_width": null,
            "object_fit": null,
            "object_position": null,
            "order": null,
            "overflow": null,
            "overflow_x": null,
            "overflow_y": null,
            "padding": null,
            "right": null,
            "top": null,
            "visibility": null,
            "width": null
          }
        },
        "9c7d516c838e4a1e888ab6c71cc55465": {
          "model_module": "@jupyter-widgets/controls",
          "model_name": "DescriptionStyleModel",
          "model_module_version": "1.5.0",
          "state": {
            "_model_module": "@jupyter-widgets/controls",
            "_model_module_version": "1.5.0",
            "_model_name": "DescriptionStyleModel",
            "_view_count": null,
            "_view_module": "@jupyter-widgets/base",
            "_view_module_version": "1.2.0",
            "_view_name": "StyleView",
            "description_width": ""
          }
        },
        "0a9bc77408b845a8a595d9042dca4a28": {
          "model_module": "@jupyter-widgets/base",
          "model_name": "LayoutModel",
          "model_module_version": "1.2.0",
          "state": {
            "_model_module": "@jupyter-widgets/base",
            "_model_module_version": "1.2.0",
            "_model_name": "LayoutModel",
            "_view_count": null,
            "_view_module": "@jupyter-widgets/base",
            "_view_module_version": "1.2.0",
            "_view_name": "LayoutView",
            "align_content": null,
            "align_items": null,
            "align_self": null,
            "border": null,
            "bottom": null,
            "display": null,
            "flex": null,
            "flex_flow": null,
            "grid_area": null,
            "grid_auto_columns": null,
            "grid_auto_flow": null,
            "grid_auto_rows": null,
            "grid_column": null,
            "grid_gap": null,
            "grid_row": null,
            "grid_template_areas": null,
            "grid_template_columns": null,
            "grid_template_rows": null,
            "height": null,
            "justify_content": null,
            "justify_items": null,
            "left": null,
            "margin": null,
            "max_height": null,
            "max_width": null,
            "min_height": null,
            "min_width": null,
            "object_fit": null,
            "object_position": null,
            "order": null,
            "overflow": null,
            "overflow_x": null,
            "overflow_y": null,
            "padding": null,
            "right": null,
            "top": null,
            "visibility": null,
            "width": null
          }
        },
        "9737fc6cd7284b67905f83b0436c53ea": {
          "model_module": "@jupyter-widgets/controls",
          "model_name": "ProgressStyleModel",
          "model_module_version": "1.5.0",
          "state": {
            "_model_module": "@jupyter-widgets/controls",
            "_model_module_version": "1.5.0",
            "_model_name": "ProgressStyleModel",
            "_view_count": null,
            "_view_module": "@jupyter-widgets/base",
            "_view_module_version": "1.2.0",
            "_view_name": "StyleView",
            "bar_color": null,
            "description_width": ""
          }
        },
        "700b42f74cb34e5cbbf7ca9383684870": {
          "model_module": "@jupyter-widgets/base",
          "model_name": "LayoutModel",
          "model_module_version": "1.2.0",
          "state": {
            "_model_module": "@jupyter-widgets/base",
            "_model_module_version": "1.2.0",
            "_model_name": "LayoutModel",
            "_view_count": null,
            "_view_module": "@jupyter-widgets/base",
            "_view_module_version": "1.2.0",
            "_view_name": "LayoutView",
            "align_content": null,
            "align_items": null,
            "align_self": null,
            "border": null,
            "bottom": null,
            "display": null,
            "flex": null,
            "flex_flow": null,
            "grid_area": null,
            "grid_auto_columns": null,
            "grid_auto_flow": null,
            "grid_auto_rows": null,
            "grid_column": null,
            "grid_gap": null,
            "grid_row": null,
            "grid_template_areas": null,
            "grid_template_columns": null,
            "grid_template_rows": null,
            "height": null,
            "justify_content": null,
            "justify_items": null,
            "left": null,
            "margin": null,
            "max_height": null,
            "max_width": null,
            "min_height": null,
            "min_width": null,
            "object_fit": null,
            "object_position": null,
            "order": null,
            "overflow": null,
            "overflow_x": null,
            "overflow_y": null,
            "padding": null,
            "right": null,
            "top": null,
            "visibility": null,
            "width": null
          }
        },
        "74d5aaaf172742efb81070af821aed85": {
          "model_module": "@jupyter-widgets/controls",
          "model_name": "DescriptionStyleModel",
          "model_module_version": "1.5.0",
          "state": {
            "_model_module": "@jupyter-widgets/controls",
            "_model_module_version": "1.5.0",
            "_model_name": "DescriptionStyleModel",
            "_view_count": null,
            "_view_module": "@jupyter-widgets/base",
            "_view_module_version": "1.2.0",
            "_view_name": "StyleView",
            "description_width": ""
          }
        }
      }
    }
  },
  "nbformat": 4,
  "nbformat_minor": 5
}