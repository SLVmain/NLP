{
  "nbformat": 4,
  "nbformat_minor": 0,
  "metadata": {
    "colab": {
      "name": "HW_05_NER.ipynb",
      "provenance": [],
      "collapsed_sections": [],
      "machine_shape": "hm",
      "mount_file_id": "1y5su-n9giCO4pNxcGEHxaYyGuH9kHLp8",
      "authorship_tag": "ABX9TyO+1GolkP5X7fTrtp7lxheH",
      "include_colab_link": true
    },
    "kernelspec": {
      "name": "python3",
      "display_name": "Python 3"
    },
    "language_info": {
      "name": "python"
    },
    "accelerator": "GPU",
    "widgets": {
      "application/vnd.jupyter.widget-state+json": {
        "be7bc40010164473b7638f26d5747612": {
          "model_module": "@jupyter-widgets/controls",
          "model_name": "HBoxModel",
          "model_module_version": "1.5.0",
          "state": {
            "_dom_classes": [],
            "_model_module": "@jupyter-widgets/controls",
            "_model_module_version": "1.5.0",
            "_model_name": "HBoxModel",
            "_view_count": null,
            "_view_module": "@jupyter-widgets/controls",
            "_view_module_version": "1.5.0",
            "_view_name": "HBoxView",
            "box_style": "",
            "children": [
              "IPY_MODEL_6044017d70eb401382dbaecfe0457d62",
              "IPY_MODEL_ebce98a48ed442f29f291b9d8c958c08",
              "IPY_MODEL_933e3643005a4e4bae5c60b3836ae18a"
            ],
            "layout": "IPY_MODEL_44d2554b5ee44c09bc214b34809def74"
          }
        },
        "6044017d70eb401382dbaecfe0457d62": {
          "model_module": "@jupyter-widgets/controls",
          "model_name": "HTMLModel",
          "model_module_version": "1.5.0",
          "state": {
            "_dom_classes": [],
            "_model_module": "@jupyter-widgets/controls",
            "_model_module_version": "1.5.0",
            "_model_name": "HTMLModel",
            "_view_count": null,
            "_view_module": "@jupyter-widgets/controls",
            "_view_module_version": "1.5.0",
            "_view_name": "HTMLView",
            "description": "",
            "description_tooltip": null,
            "layout": "IPY_MODEL_52e640d03f9c4e8b8e7de8e2f01ea906",
            "placeholder": "​",
            "style": "IPY_MODEL_966234a1a68840ee9ba00d10f860461b",
            "value": "100%"
          }
        },
        "ebce98a48ed442f29f291b9d8c958c08": {
          "model_module": "@jupyter-widgets/controls",
          "model_name": "FloatProgressModel",
          "model_module_version": "1.5.0",
          "state": {
            "_dom_classes": [],
            "_model_module": "@jupyter-widgets/controls",
            "_model_module_version": "1.5.0",
            "_model_name": "FloatProgressModel",
            "_view_count": null,
            "_view_module": "@jupyter-widgets/controls",
            "_view_module_version": "1.5.0",
            "_view_name": "ProgressView",
            "bar_style": "success",
            "description": "",
            "description_tooltip": null,
            "layout": "IPY_MODEL_6158b5f2b25e4afd8ce4154c7a2ec0ed",
            "max": 100000,
            "min": 0,
            "orientation": "horizontal",
            "style": "IPY_MODEL_c0ad6bf1bb134c14b4cc275b67f0283a",
            "value": 100000
          }
        },
        "933e3643005a4e4bae5c60b3836ae18a": {
          "model_module": "@jupyter-widgets/controls",
          "model_name": "HTMLModel",
          "model_module_version": "1.5.0",
          "state": {
            "_dom_classes": [],
            "_model_module": "@jupyter-widgets/controls",
            "_model_module_version": "1.5.0",
            "_model_name": "HTMLModel",
            "_view_count": null,
            "_view_module": "@jupyter-widgets/controls",
            "_view_module_version": "1.5.0",
            "_view_name": "HTMLView",
            "description": "",
            "description_tooltip": null,
            "layout": "IPY_MODEL_79dd05229c5240af99340c7c9642fada",
            "placeholder": "​",
            "style": "IPY_MODEL_3f10e8f8c7b04f4084b1ac6cd2079929",
            "value": " 100000/100000 [02:59&lt;00:00, 452.89it/s]"
          }
        },
        "44d2554b5ee44c09bc214b34809def74": {
          "model_module": "@jupyter-widgets/base",
          "model_name": "LayoutModel",
          "model_module_version": "1.2.0",
          "state": {
            "_model_module": "@jupyter-widgets/base",
            "_model_module_version": "1.2.0",
            "_model_name": "LayoutModel",
            "_view_count": null,
            "_view_module": "@jupyter-widgets/base",
            "_view_module_version": "1.2.0",
            "_view_name": "LayoutView",
            "align_content": null,
            "align_items": null,
            "align_self": null,
            "border": null,
            "bottom": null,
            "display": null,
            "flex": null,
            "flex_flow": null,
            "grid_area": null,
            "grid_auto_columns": null,
            "grid_auto_flow": null,
            "grid_auto_rows": null,
            "grid_column": null,
            "grid_gap": null,
            "grid_row": null,
            "grid_template_areas": null,
            "grid_template_columns": null,
            "grid_template_rows": null,
            "height": null,
            "justify_content": null,
            "justify_items": null,
            "left": null,
            "margin": null,
            "max_height": null,
            "max_width": null,
            "min_height": null,
            "min_width": null,
            "object_fit": null,
            "object_position": null,
            "order": null,
            "overflow": null,
            "overflow_x": null,
            "overflow_y": null,
            "padding": null,
            "right": null,
            "top": null,
            "visibility": null,
            "width": null
          }
        },
        "52e640d03f9c4e8b8e7de8e2f01ea906": {
          "model_module": "@jupyter-widgets/base",
          "model_name": "LayoutModel",
          "model_module_version": "1.2.0",
          "state": {
            "_model_module": "@jupyter-widgets/base",
            "_model_module_version": "1.2.0",
            "_model_name": "LayoutModel",
            "_view_count": null,
            "_view_module": "@jupyter-widgets/base",
            "_view_module_version": "1.2.0",
            "_view_name": "LayoutView",
            "align_content": null,
            "align_items": null,
            "align_self": null,
            "border": null,
            "bottom": null,
            "display": null,
            "flex": null,
            "flex_flow": null,
            "grid_area": null,
            "grid_auto_columns": null,
            "grid_auto_flow": null,
            "grid_auto_rows": null,
            "grid_column": null,
            "grid_gap": null,
            "grid_row": null,
            "grid_template_areas": null,
            "grid_template_columns": null,
            "grid_template_rows": null,
            "height": null,
            "justify_content": null,
            "justify_items": null,
            "left": null,
            "margin": null,
            "max_height": null,
            "max_width": null,
            "min_height": null,
            "min_width": null,
            "object_fit": null,
            "object_position": null,
            "order": null,
            "overflow": null,
            "overflow_x": null,
            "overflow_y": null,
            "padding": null,
            "right": null,
            "top": null,
            "visibility": null,
            "width": null
          }
        },
        "966234a1a68840ee9ba00d10f860461b": {
          "model_module": "@jupyter-widgets/controls",
          "model_name": "DescriptionStyleModel",
          "model_module_version": "1.5.0",
          "state": {
            "_model_module": "@jupyter-widgets/controls",
            "_model_module_version": "1.5.0",
            "_model_name": "DescriptionStyleModel",
            "_view_count": null,
            "_view_module": "@jupyter-widgets/base",
            "_view_module_version": "1.2.0",
            "_view_name": "StyleView",
            "description_width": ""
          }
        },
        "6158b5f2b25e4afd8ce4154c7a2ec0ed": {
          "model_module": "@jupyter-widgets/base",
          "model_name": "LayoutModel",
          "model_module_version": "1.2.0",
          "state": {
            "_model_module": "@jupyter-widgets/base",
            "_model_module_version": "1.2.0",
            "_model_name": "LayoutModel",
            "_view_count": null,
            "_view_module": "@jupyter-widgets/base",
            "_view_module_version": "1.2.0",
            "_view_name": "LayoutView",
            "align_content": null,
            "align_items": null,
            "align_self": null,
            "border": null,
            "bottom": null,
            "display": null,
            "flex": null,
            "flex_flow": null,
            "grid_area": null,
            "grid_auto_columns": null,
            "grid_auto_flow": null,
            "grid_auto_rows": null,
            "grid_column": null,
            "grid_gap": null,
            "grid_row": null,
            "grid_template_areas": null,
            "grid_template_columns": null,
            "grid_template_rows": null,
            "height": null,
            "justify_content": null,
            "justify_items": null,
            "left": null,
            "margin": null,
            "max_height": null,
            "max_width": null,
            "min_height": null,
            "min_width": null,
            "object_fit": null,
            "object_position": null,
            "order": null,
            "overflow": null,
            "overflow_x": null,
            "overflow_y": null,
            "padding": null,
            "right": null,
            "top": null,
            "visibility": null,
            "width": null
          }
        },
        "c0ad6bf1bb134c14b4cc275b67f0283a": {
          "model_module": "@jupyter-widgets/controls",
          "model_name": "ProgressStyleModel",
          "model_module_version": "1.5.0",
          "state": {
            "_model_module": "@jupyter-widgets/controls",
            "_model_module_version": "1.5.0",
            "_model_name": "ProgressStyleModel",
            "_view_count": null,
            "_view_module": "@jupyter-widgets/base",
            "_view_module_version": "1.2.0",
            "_view_name": "StyleView",
            "bar_color": null,
            "description_width": ""
          }
        },
        "79dd05229c5240af99340c7c9642fada": {
          "model_module": "@jupyter-widgets/base",
          "model_name": "LayoutModel",
          "model_module_version": "1.2.0",
          "state": {
            "_model_module": "@jupyter-widgets/base",
            "_model_module_version": "1.2.0",
            "_model_name": "LayoutModel",
            "_view_count": null,
            "_view_module": "@jupyter-widgets/base",
            "_view_module_version": "1.2.0",
            "_view_name": "LayoutView",
            "align_content": null,
            "align_items": null,
            "align_self": null,
            "border": null,
            "bottom": null,
            "display": null,
            "flex": null,
            "flex_flow": null,
            "grid_area": null,
            "grid_auto_columns": null,
            "grid_auto_flow": null,
            "grid_auto_rows": null,
            "grid_column": null,
            "grid_gap": null,
            "grid_row": null,
            "grid_template_areas": null,
            "grid_template_columns": null,
            "grid_template_rows": null,
            "height": null,
            "justify_content": null,
            "justify_items": null,
            "left": null,
            "margin": null,
            "max_height": null,
            "max_width": null,
            "min_height": null,
            "min_width": null,
            "object_fit": null,
            "object_position": null,
            "order": null,
            "overflow": null,
            "overflow_x": null,
            "overflow_y": null,
            "padding": null,
            "right": null,
            "top": null,
            "visibility": null,
            "width": null
          }
        },
        "3f10e8f8c7b04f4084b1ac6cd2079929": {
          "model_module": "@jupyter-widgets/controls",
          "model_name": "DescriptionStyleModel",
          "model_module_version": "1.5.0",
          "state": {
            "_model_module": "@jupyter-widgets/controls",
            "_model_module_version": "1.5.0",
            "_model_name": "DescriptionStyleModel",
            "_view_count": null,
            "_view_module": "@jupyter-widgets/base",
            "_view_module_version": "1.2.0",
            "_view_name": "StyleView",
            "description_width": ""
          }
        },
        "ebffa1bcbcad46198bf3732bab24b2cd": {
          "model_module": "@jupyter-widgets/controls",
          "model_name": "HBoxModel",
          "model_module_version": "1.5.0",
          "state": {
            "_dom_classes": [],
            "_model_module": "@jupyter-widgets/controls",
            "_model_module_version": "1.5.0",
            "_model_name": "HBoxModel",
            "_view_count": null,
            "_view_module": "@jupyter-widgets/controls",
            "_view_module_version": "1.5.0",
            "_view_name": "HBoxView",
            "box_style": "",
            "children": [
              "IPY_MODEL_830d51995c564568b42951a999f3a15b",
              "IPY_MODEL_b6d1597d22ff470d907da11122b9e501",
              "IPY_MODEL_d9c085fbb4be41d7b12d492b13b046e0"
            ],
            "layout": "IPY_MODEL_488ec11d9e334525abefef5bf0d36be5"
          }
        },
        "830d51995c564568b42951a999f3a15b": {
          "model_module": "@jupyter-widgets/controls",
          "model_name": "HTMLModel",
          "model_module_version": "1.5.0",
          "state": {
            "_dom_classes": [],
            "_model_module": "@jupyter-widgets/controls",
            "_model_module_version": "1.5.0",
            "_model_name": "HTMLModel",
            "_view_count": null,
            "_view_module": "@jupyter-widgets/controls",
            "_view_module_version": "1.5.0",
            "_view_name": "HTMLView",
            "description": "",
            "description_tooltip": null,
            "layout": "IPY_MODEL_1cead16907144be2adb761ab2bc9e4dc",
            "placeholder": "​",
            "style": "IPY_MODEL_a1e19c9789a74cf68ec72bf6f622b2d6",
            "value": "100%"
          }
        },
        "b6d1597d22ff470d907da11122b9e501": {
          "model_module": "@jupyter-widgets/controls",
          "model_name": "FloatProgressModel",
          "model_module_version": "1.5.0",
          "state": {
            "_dom_classes": [],
            "_model_module": "@jupyter-widgets/controls",
            "_model_module_version": "1.5.0",
            "_model_name": "FloatProgressModel",
            "_view_count": null,
            "_view_module": "@jupyter-widgets/controls",
            "_view_module_version": "1.5.0",
            "_view_name": "ProgressView",
            "bar_style": "success",
            "description": "",
            "description_tooltip": null,
            "layout": "IPY_MODEL_73a5106168a149b1b304631839966696",
            "max": 100000,
            "min": 0,
            "orientation": "horizontal",
            "style": "IPY_MODEL_221dd06218124212adf17b742bd74585",
            "value": 100000
          }
        },
        "d9c085fbb4be41d7b12d492b13b046e0": {
          "model_module": "@jupyter-widgets/controls",
          "model_name": "HTMLModel",
          "model_module_version": "1.5.0",
          "state": {
            "_dom_classes": [],
            "_model_module": "@jupyter-widgets/controls",
            "_model_module_version": "1.5.0",
            "_model_name": "HTMLModel",
            "_view_count": null,
            "_view_module": "@jupyter-widgets/controls",
            "_view_module_version": "1.5.0",
            "_view_name": "HTMLView",
            "description": "",
            "description_tooltip": null,
            "layout": "IPY_MODEL_18dd255b51054913b1f93fa72485a455",
            "placeholder": "​",
            "style": "IPY_MODEL_4f5a41abeed84f44a7c7a0b1bf57a0ea",
            "value": " 100000/100000 [15:21&lt;00:00, 84.91it/s]"
          }
        },
        "488ec11d9e334525abefef5bf0d36be5": {
          "model_module": "@jupyter-widgets/base",
          "model_name": "LayoutModel",
          "model_module_version": "1.2.0",
          "state": {
            "_model_module": "@jupyter-widgets/base",
            "_model_module_version": "1.2.0",
            "_model_name": "LayoutModel",
            "_view_count": null,
            "_view_module": "@jupyter-widgets/base",
            "_view_module_version": "1.2.0",
            "_view_name": "LayoutView",
            "align_content": null,
            "align_items": null,
            "align_self": null,
            "border": null,
            "bottom": null,
            "display": null,
            "flex": null,
            "flex_flow": null,
            "grid_area": null,
            "grid_auto_columns": null,
            "grid_auto_flow": null,
            "grid_auto_rows": null,
            "grid_column": null,
            "grid_gap": null,
            "grid_row": null,
            "grid_template_areas": null,
            "grid_template_columns": null,
            "grid_template_rows": null,
            "height": null,
            "justify_content": null,
            "justify_items": null,
            "left": null,
            "margin": null,
            "max_height": null,
            "max_width": null,
            "min_height": null,
            "min_width": null,
            "object_fit": null,
            "object_position": null,
            "order": null,
            "overflow": null,
            "overflow_x": null,
            "overflow_y": null,
            "padding": null,
            "right": null,
            "top": null,
            "visibility": null,
            "width": null
          }
        },
        "1cead16907144be2adb761ab2bc9e4dc": {
          "model_module": "@jupyter-widgets/base",
          "model_name": "LayoutModel",
          "model_module_version": "1.2.0",
          "state": {
            "_model_module": "@jupyter-widgets/base",
            "_model_module_version": "1.2.0",
            "_model_name": "LayoutModel",
            "_view_count": null,
            "_view_module": "@jupyter-widgets/base",
            "_view_module_version": "1.2.0",
            "_view_name": "LayoutView",
            "align_content": null,
            "align_items": null,
            "align_self": null,
            "border": null,
            "bottom": null,
            "display": null,
            "flex": null,
            "flex_flow": null,
            "grid_area": null,
            "grid_auto_columns": null,
            "grid_auto_flow": null,
            "grid_auto_rows": null,
            "grid_column": null,
            "grid_gap": null,
            "grid_row": null,
            "grid_template_areas": null,
            "grid_template_columns": null,
            "grid_template_rows": null,
            "height": null,
            "justify_content": null,
            "justify_items": null,
            "left": null,
            "margin": null,
            "max_height": null,
            "max_width": null,
            "min_height": null,
            "min_width": null,
            "object_fit": null,
            "object_position": null,
            "order": null,
            "overflow": null,
            "overflow_x": null,
            "overflow_y": null,
            "padding": null,
            "right": null,
            "top": null,
            "visibility": null,
            "width": null
          }
        },
        "a1e19c9789a74cf68ec72bf6f622b2d6": {
          "model_module": "@jupyter-widgets/controls",
          "model_name": "DescriptionStyleModel",
          "model_module_version": "1.5.0",
          "state": {
            "_model_module": "@jupyter-widgets/controls",
            "_model_module_version": "1.5.0",
            "_model_name": "DescriptionStyleModel",
            "_view_count": null,
            "_view_module": "@jupyter-widgets/base",
            "_view_module_version": "1.2.0",
            "_view_name": "StyleView",
            "description_width": ""
          }
        },
        "73a5106168a149b1b304631839966696": {
          "model_module": "@jupyter-widgets/base",
          "model_name": "LayoutModel",
          "model_module_version": "1.2.0",
          "state": {
            "_model_module": "@jupyter-widgets/base",
            "_model_module_version": "1.2.0",
            "_model_name": "LayoutModel",
            "_view_count": null,
            "_view_module": "@jupyter-widgets/base",
            "_view_module_version": "1.2.0",
            "_view_name": "LayoutView",
            "align_content": null,
            "align_items": null,
            "align_self": null,
            "border": null,
            "bottom": null,
            "display": null,
            "flex": null,
            "flex_flow": null,
            "grid_area": null,
            "grid_auto_columns": null,
            "grid_auto_flow": null,
            "grid_auto_rows": null,
            "grid_column": null,
            "grid_gap": null,
            "grid_row": null,
            "grid_template_areas": null,
            "grid_template_columns": null,
            "grid_template_rows": null,
            "height": null,
            "justify_content": null,
            "justify_items": null,
            "left": null,
            "margin": null,
            "max_height": null,
            "max_width": null,
            "min_height": null,
            "min_width": null,
            "object_fit": null,
            "object_position": null,
            "order": null,
            "overflow": null,
            "overflow_x": null,
            "overflow_y": null,
            "padding": null,
            "right": null,
            "top": null,
            "visibility": null,
            "width": null
          }
        },
        "221dd06218124212adf17b742bd74585": {
          "model_module": "@jupyter-widgets/controls",
          "model_name": "ProgressStyleModel",
          "model_module_version": "1.5.0",
          "state": {
            "_model_module": "@jupyter-widgets/controls",
            "_model_module_version": "1.5.0",
            "_model_name": "ProgressStyleModel",
            "_view_count": null,
            "_view_module": "@jupyter-widgets/base",
            "_view_module_version": "1.2.0",
            "_view_name": "StyleView",
            "bar_color": null,
            "description_width": ""
          }
        },
        "18dd255b51054913b1f93fa72485a455": {
          "model_module": "@jupyter-widgets/base",
          "model_name": "LayoutModel",
          "model_module_version": "1.2.0",
          "state": {
            "_model_module": "@jupyter-widgets/base",
            "_model_module_version": "1.2.0",
            "_model_name": "LayoutModel",
            "_view_count": null,
            "_view_module": "@jupyter-widgets/base",
            "_view_module_version": "1.2.0",
            "_view_name": "LayoutView",
            "align_content": null,
            "align_items": null,
            "align_self": null,
            "border": null,
            "bottom": null,
            "display": null,
            "flex": null,
            "flex_flow": null,
            "grid_area": null,
            "grid_auto_columns": null,
            "grid_auto_flow": null,
            "grid_auto_rows": null,
            "grid_column": null,
            "grid_gap": null,
            "grid_row": null,
            "grid_template_areas": null,
            "grid_template_columns": null,
            "grid_template_rows": null,
            "height": null,
            "justify_content": null,
            "justify_items": null,
            "left": null,
            "margin": null,
            "max_height": null,
            "max_width": null,
            "min_height": null,
            "min_width": null,
            "object_fit": null,
            "object_position": null,
            "order": null,
            "overflow": null,
            "overflow_x": null,
            "overflow_y": null,
            "padding": null,
            "right": null,
            "top": null,
            "visibility": null,
            "width": null
          }
        },
        "4f5a41abeed84f44a7c7a0b1bf57a0ea": {
          "model_module": "@jupyter-widgets/controls",
          "model_name": "DescriptionStyleModel",
          "model_module_version": "1.5.0",
          "state": {
            "_model_module": "@jupyter-widgets/controls",
            "_model_module_version": "1.5.0",
            "_model_name": "DescriptionStyleModel",
            "_view_count": null,
            "_view_module": "@jupyter-widgets/base",
            "_view_module_version": "1.2.0",
            "_view_name": "StyleView",
            "description_width": ""
          }
        },
        "8c493d835ba84ab3a5efdd6441a49d87": {
          "model_module": "@jupyter-widgets/controls",
          "model_name": "HBoxModel",
          "model_module_version": "1.5.0",
          "state": {
            "_dom_classes": [],
            "_model_module": "@jupyter-widgets/controls",
            "_model_module_version": "1.5.0",
            "_model_name": "HBoxModel",
            "_view_count": null,
            "_view_module": "@jupyter-widgets/controls",
            "_view_module_version": "1.5.0",
            "_view_name": "HBoxView",
            "box_style": "",
            "children": [
              "IPY_MODEL_041934aaab75430d92b03da72fcca523",
              "IPY_MODEL_8e1d33ec169c4f06a98433a032a5abea",
              "IPY_MODEL_27312bc5888b444cb2cb00d9cb362ac4"
            ],
            "layout": "IPY_MODEL_4c8dc3836dde4d9ebda02412d85175d6"
          }
        },
        "041934aaab75430d92b03da72fcca523": {
          "model_module": "@jupyter-widgets/controls",
          "model_name": "HTMLModel",
          "model_module_version": "1.5.0",
          "state": {
            "_dom_classes": [],
            "_model_module": "@jupyter-widgets/controls",
            "_model_module_version": "1.5.0",
            "_model_name": "HTMLModel",
            "_view_count": null,
            "_view_module": "@jupyter-widgets/controls",
            "_view_module_version": "1.5.0",
            "_view_name": "HTMLView",
            "description": "",
            "description_tooltip": null,
            "layout": "IPY_MODEL_5de49db0ef4b4adc968a622952138793",
            "placeholder": "​",
            "style": "IPY_MODEL_aabc06fe746e47cbb5af409c7fdebfb4",
            "value": "100%"
          }
        },
        "8e1d33ec169c4f06a98433a032a5abea": {
          "model_module": "@jupyter-widgets/controls",
          "model_name": "FloatProgressModel",
          "model_module_version": "1.5.0",
          "state": {
            "_dom_classes": [],
            "_model_module": "@jupyter-widgets/controls",
            "_model_module_version": "1.5.0",
            "_model_name": "FloatProgressModel",
            "_view_count": null,
            "_view_module": "@jupyter-widgets/controls",
            "_view_module_version": "1.5.0",
            "_view_name": "ProgressView",
            "bar_style": "success",
            "description": "",
            "description_tooltip": null,
            "layout": "IPY_MODEL_ff2f00aad3f94c2c809fd7c5d7b33743",
            "max": 9,
            "min": 0,
            "orientation": "horizontal",
            "style": "IPY_MODEL_4a9d8ab803884d20b22e3f85a71973c6",
            "value": 9
          }
        },
        "27312bc5888b444cb2cb00d9cb362ac4": {
          "model_module": "@jupyter-widgets/controls",
          "model_name": "HTMLModel",
          "model_module_version": "1.5.0",
          "state": {
            "_dom_classes": [],
            "_model_module": "@jupyter-widgets/controls",
            "_model_module_version": "1.5.0",
            "_model_name": "HTMLModel",
            "_view_count": null,
            "_view_module": "@jupyter-widgets/controls",
            "_view_module_version": "1.5.0",
            "_view_name": "HTMLView",
            "description": "",
            "description_tooltip": null,
            "layout": "IPY_MODEL_4a5ac50f7c1e4f34a8805dfe86e3cb72",
            "placeholder": "​",
            "style": "IPY_MODEL_8667e0fd191f4e30babf13f1f296dd16",
            "value": " 9/9 [06:01&lt;00:00, 44.47s/it]"
          }
        },
        "4c8dc3836dde4d9ebda02412d85175d6": {
          "model_module": "@jupyter-widgets/base",
          "model_name": "LayoutModel",
          "model_module_version": "1.2.0",
          "state": {
            "_model_module": "@jupyter-widgets/base",
            "_model_module_version": "1.2.0",
            "_model_name": "LayoutModel",
            "_view_count": null,
            "_view_module": "@jupyter-widgets/base",
            "_view_module_version": "1.2.0",
            "_view_name": "LayoutView",
            "align_content": null,
            "align_items": null,
            "align_self": null,
            "border": null,
            "bottom": null,
            "display": null,
            "flex": null,
            "flex_flow": null,
            "grid_area": null,
            "grid_auto_columns": null,
            "grid_auto_flow": null,
            "grid_auto_rows": null,
            "grid_column": null,
            "grid_gap": null,
            "grid_row": null,
            "grid_template_areas": null,
            "grid_template_columns": null,
            "grid_template_rows": null,
            "height": null,
            "justify_content": null,
            "justify_items": null,
            "left": null,
            "margin": null,
            "max_height": null,
            "max_width": null,
            "min_height": null,
            "min_width": null,
            "object_fit": null,
            "object_position": null,
            "order": null,
            "overflow": null,
            "overflow_x": null,
            "overflow_y": null,
            "padding": null,
            "right": null,
            "top": null,
            "visibility": null,
            "width": null
          }
        },
        "5de49db0ef4b4adc968a622952138793": {
          "model_module": "@jupyter-widgets/base",
          "model_name": "LayoutModel",
          "model_module_version": "1.2.0",
          "state": {
            "_model_module": "@jupyter-widgets/base",
            "_model_module_version": "1.2.0",
            "_model_name": "LayoutModel",
            "_view_count": null,
            "_view_module": "@jupyter-widgets/base",
            "_view_module_version": "1.2.0",
            "_view_name": "LayoutView",
            "align_content": null,
            "align_items": null,
            "align_self": null,
            "border": null,
            "bottom": null,
            "display": null,
            "flex": null,
            "flex_flow": null,
            "grid_area": null,
            "grid_auto_columns": null,
            "grid_auto_flow": null,
            "grid_auto_rows": null,
            "grid_column": null,
            "grid_gap": null,
            "grid_row": null,
            "grid_template_areas": null,
            "grid_template_columns": null,
            "grid_template_rows": null,
            "height": null,
            "justify_content": null,
            "justify_items": null,
            "left": null,
            "margin": null,
            "max_height": null,
            "max_width": null,
            "min_height": null,
            "min_width": null,
            "object_fit": null,
            "object_position": null,
            "order": null,
            "overflow": null,
            "overflow_x": null,
            "overflow_y": null,
            "padding": null,
            "right": null,
            "top": null,
            "visibility": null,
            "width": null
          }
        },
        "aabc06fe746e47cbb5af409c7fdebfb4": {
          "model_module": "@jupyter-widgets/controls",
          "model_name": "DescriptionStyleModel",
          "model_module_version": "1.5.0",
          "state": {
            "_model_module": "@jupyter-widgets/controls",
            "_model_module_version": "1.5.0",
            "_model_name": "DescriptionStyleModel",
            "_view_count": null,
            "_view_module": "@jupyter-widgets/base",
            "_view_module_version": "1.2.0",
            "_view_name": "StyleView",
            "description_width": ""
          }
        },
        "ff2f00aad3f94c2c809fd7c5d7b33743": {
          "model_module": "@jupyter-widgets/base",
          "model_name": "LayoutModel",
          "model_module_version": "1.2.0",
          "state": {
            "_model_module": "@jupyter-widgets/base",
            "_model_module_version": "1.2.0",
            "_model_name": "LayoutModel",
            "_view_count": null,
            "_view_module": "@jupyter-widgets/base",
            "_view_module_version": "1.2.0",
            "_view_name": "LayoutView",
            "align_content": null,
            "align_items": null,
            "align_self": null,
            "border": null,
            "bottom": null,
            "display": null,
            "flex": null,
            "flex_flow": null,
            "grid_area": null,
            "grid_auto_columns": null,
            "grid_auto_flow": null,
            "grid_auto_rows": null,
            "grid_column": null,
            "grid_gap": null,
            "grid_row": null,
            "grid_template_areas": null,
            "grid_template_columns": null,
            "grid_template_rows": null,
            "height": null,
            "justify_content": null,
            "justify_items": null,
            "left": null,
            "margin": null,
            "max_height": null,
            "max_width": null,
            "min_height": null,
            "min_width": null,
            "object_fit": null,
            "object_position": null,
            "order": null,
            "overflow": null,
            "overflow_x": null,
            "overflow_y": null,
            "padding": null,
            "right": null,
            "top": null,
            "visibility": null,
            "width": null
          }
        },
        "4a9d8ab803884d20b22e3f85a71973c6": {
          "model_module": "@jupyter-widgets/controls",
          "model_name": "ProgressStyleModel",
          "model_module_version": "1.5.0",
          "state": {
            "_model_module": "@jupyter-widgets/controls",
            "_model_module_version": "1.5.0",
            "_model_name": "ProgressStyleModel",
            "_view_count": null,
            "_view_module": "@jupyter-widgets/base",
            "_view_module_version": "1.2.0",
            "_view_name": "StyleView",
            "bar_color": null,
            "description_width": ""
          }
        },
        "4a5ac50f7c1e4f34a8805dfe86e3cb72": {
          "model_module": "@jupyter-widgets/base",
          "model_name": "LayoutModel",
          "model_module_version": "1.2.0",
          "state": {
            "_model_module": "@jupyter-widgets/base",
            "_model_module_version": "1.2.0",
            "_model_name": "LayoutModel",
            "_view_count": null,
            "_view_module": "@jupyter-widgets/base",
            "_view_module_version": "1.2.0",
            "_view_name": "LayoutView",
            "align_content": null,
            "align_items": null,
            "align_self": null,
            "border": null,
            "bottom": null,
            "display": null,
            "flex": null,
            "flex_flow": null,
            "grid_area": null,
            "grid_auto_columns": null,
            "grid_auto_flow": null,
            "grid_auto_rows": null,
            "grid_column": null,
            "grid_gap": null,
            "grid_row": null,
            "grid_template_areas": null,
            "grid_template_columns": null,
            "grid_template_rows": null,
            "height": null,
            "justify_content": null,
            "justify_items": null,
            "left": null,
            "margin": null,
            "max_height": null,
            "max_width": null,
            "min_height": null,
            "min_width": null,
            "object_fit": null,
            "object_position": null,
            "order": null,
            "overflow": null,
            "overflow_x": null,
            "overflow_y": null,
            "padding": null,
            "right": null,
            "top": null,
            "visibility": null,
            "width": null
          }
        },
        "8667e0fd191f4e30babf13f1f296dd16": {
          "model_module": "@jupyter-widgets/controls",
          "model_name": "DescriptionStyleModel",
          "model_module_version": "1.5.0",
          "state": {
            "_model_module": "@jupyter-widgets/controls",
            "_model_module_version": "1.5.0",
            "_model_name": "DescriptionStyleModel",
            "_view_count": null,
            "_view_module": "@jupyter-widgets/base",
            "_view_module_version": "1.2.0",
            "_view_name": "StyleView",
            "description_width": ""
          }
        }
      }
    }
  },
  "cells": [
    {
      "cell_type": "markdown",
      "metadata": {
        "id": "view-in-github",
        "colab_type": "text"
      },
      "source": [
        "<a href=\"https://colab.research.google.com/github/SLVmain/NLP/blob/Les_05/HW_05_NER.ipynb\" target=\"_parent\"><img src=\"https://colab.research.google.com/assets/colab-badge.svg\" alt=\"Open In Colab\"/></a>"
      ]
    },
    {
      "cell_type": "markdown",
      "source": [
        "## Урок 5. Тема “POS-tagger и NER”\n",
        "\n",
        "###Задание 1. Написать теггер на данных с русским языком\n",
        "- проверить UnigramTagger, BigramTagger, TrigramTagger и их комбинации\n",
        "\n",
        "- написать свой теггер как на занятии, попробовать разные векторайзеры, добавить знание не только букв но и слов\n",
        "\n",
        "- сравнить все реализованные методы сделать выводы\n",
        " \n",
        "###Задание 2. Проверить насколько хорошо работает NER\n",
        "данные брать из http://www.labinform.ru/pub/named_entities/\n",
        "- проверить NER из nltk/spacy/deeppavlov\n",
        "- написать свой нер попробовать разные подходы\n",
        "-- передаём в сетку токен и его соседей\n",
        "-- передаём в сетку только токен\n",
        "- сделать выводы по вашим экспериментам какой из подходов успешнее справляется\n"
      ],
      "metadata": {
        "id": "JPK3p5nZeJez"
      }
    },
    {
      "cell_type": "code",
      "source": [
        "!wget https://github.com/ods-ai-ml4sg/proj_news_viz/releases/download/data/interfax.csv.gz"
      ],
      "metadata": {
        "id": "MbF-Im_CzwwT"
      },
      "execution_count": null,
      "outputs": []
    },
    {
      "cell_type": "code",
      "source": [
        "!ls"
      ],
      "metadata": {
        "colab": {
          "base_uri": "https://localhost:8080/"
        },
        "id": "ow37_s820jbn",
        "outputId": "f30333dc-9e52-4766-920b-bddf9347f12e"
      },
      "execution_count": null,
      "outputs": [
        {
          "output_type": "stream",
          "name": "stdout",
          "text": [
            "drive  interfax.csv.gz\tsample_data\n"
          ]
        }
      ]
    },
    {
      "cell_type": "code",
      "source": [
        "from corus import load_ods_interfax\n",
        "\n",
        "path = 'interfax.csv.gz'\n",
        "records = load_ods_interfax(path)\n",
        "next(records)"
      ],
      "metadata": {
        "colab": {
          "base_uri": "https://localhost:8080/"
        },
        "id": "vZWV0--N1D5R",
        "outputId": "80d2f5cc-f237-4b36-d113-d2edb9f2ccb1"
      },
      "execution_count": null,
      "outputs": [
        {
          "output_type": "execute_result",
          "data": {
            "text/plain": [
              "NewsRecord(\n",
              "    timestamp=datetime.datetime(2019, 4, 30, 13, 26),\n",
              "    url='https://www.sport-interfax.ru/659837',\n",
              "    edition='www.sport-interfax.ru',\n",
              "    topics='Спорт',\n",
              "    authors=None,\n",
              "    title='Российского чемпиона мира по греко-римской борьбе отстранили за допинг',\n",
              "    text='Москва. 30 апреля. INTERFAX.RU - Чемпион мира по греко-римской борьбе 2014 года Чингиз Лабазанов наказан дисквалификацией сроком на один год за нарушение антидопинговых правил, сообщает во вторник пресс-служба Российского антидопингового агентства во вторник.n\"Федерация борьбы России, по решению РАА РУСАДА, вынесла решение, по которому спортсмен Лабазанов Чингиз лишен права на 1 год за нарушение ст. 2.4 Всероссийских антидопинговых правил, период, начинающийся 11 апреля 2019 года\", - говорится в сообщении.nКроме этого, на четыре года за нарушение антидопинговых правил отстранен еще один отечественный борец - Валерий Гусаров. Его наказание начинается с 31 июля 2018 года.',\n",
              "    stats=Stats(\n",
              "        fb=None,\n",
              "        vk=None,\n",
              "        ok=None,\n",
              "        twitter=None,\n",
              "        lj=None,\n",
              "        tg=None,\n",
              "        likes=None,\n",
              "        views=None,\n",
              "        comments=None\n",
              "    )\n",
              ")"
            ]
          },
          "metadata": {},
          "execution_count": 17
        }
      ]
    },
    {
      "cell_type": "code",
      "source": [
        "data = []\n",
        "for record in records:\n",
        "    data.append(record.text)"
      ],
      "metadata": {
        "id": "m1uz7sEE_dy0"
      },
      "execution_count": null,
      "outputs": []
    },
    {
      "cell_type": "code",
      "source": [
        "len(data)"
      ],
      "metadata": {
        "colab": {
          "base_uri": "https://localhost:8080/"
        },
        "id": "t1QEkJRd9jHu",
        "outputId": "104b1161-35fc-4206-feb7-f1c4b7510bae"
      },
      "execution_count": null,
      "outputs": [
        {
          "output_type": "execute_result",
          "data": {
            "text/plain": [
              "543959"
            ]
          },
          "metadata": {},
          "execution_count": 22
        }
      ]
    },
    {
      "cell_type": "code",
      "source": [
        "data[2]"
      ],
      "metadata": {
        "colab": {
          "base_uri": "https://localhost:8080/",
          "height": 89
        },
        "id": "nMe7hVVk94Q5",
        "outputId": "da7f0bfc-eb14-4d5e-d668-2fe2f7f2ec98"
      },
      "execution_count": null,
      "outputs": [
        {
          "output_type": "execute_result",
          "data": {
            "text/plain": [
              "'Москва. 14 мая. INTERFAX.RU - Российский скейтбордист Максим Круглов дисквалифицирован на четыре года за нарушение антидопинговых правил, сообщает пресс-служба Российского антидопингового агентства (РУСАДА) во вторник.n\"Федерация скейтбординга России на основании и во исполнение решения РАА \"РУСАДА\" приняла решение дисквалифицировать спортсмена Круглова Максима на четыре года за нарушение п. 2.3 Общероссийских антидопинговых правил (отказ или неявка на процедуру сдачи проб - ИФ)\", - говорится в сообщении.nСрок наказания Круглова начинается с 7 февраля 2019 года.nРоссиянин входит в топ-20 элитных скейтбордистов мира и являлся кандидатом на поездку на Олимпиаду 2020 года в Токио.'"
            ],
            "application/vnd.google.colaboratory.intrinsic+json": {
              "type": "string"
            }
          },
          "metadata": {},
          "execution_count": 24
        }
      ]
    },
    {
      "cell_type": "code",
      "source": [
        "!pip install nltk"
      ],
      "metadata": {
        "id": "QtNwrXBgABWF"
      },
      "execution_count": null,
      "outputs": []
    },
    {
      "cell_type": "code",
      "source": [
        "import nltk\n",
        "from nltk.tokenize import word_tokenize\n",
        "import matplotlib\n",
        "%matplotlib inline\n",
        "from tqdm.notebook import tqdm"
      ],
      "metadata": {
        "id": "0OqQBZU6_8zG"
      },
      "execution_count": null,
      "outputs": []
    },
    {
      "cell_type": "code",
      "source": [
        "import warnings\n",
        "warnings.filterwarnings(\"ignore\")"
      ],
      "metadata": {
        "id": "yd13xGoAAFy3"
      },
      "execution_count": null,
      "outputs": []
    },
    {
      "cell_type": "code",
      "source": [
        "nltk.download('punkt')"
      ],
      "metadata": {
        "id": "ZqhcvfzaB-pZ"
      },
      "execution_count": null,
      "outputs": []
    },
    {
      "cell_type": "code",
      "source": [
        "data_tok = [nltk.word_tokenize(x) for x in tqdm(data[:100000])] # уменьшим датасет, чтобы побыстрее считался"
      ],
      "metadata": {
        "colab": {
          "base_uri": "https://localhost:8080/",
          "height": 49,
          "referenced_widgets": [
            "be7bc40010164473b7638f26d5747612",
            "6044017d70eb401382dbaecfe0457d62",
            "ebce98a48ed442f29f291b9d8c958c08",
            "933e3643005a4e4bae5c60b3836ae18a",
            "44d2554b5ee44c09bc214b34809def74",
            "52e640d03f9c4e8b8e7de8e2f01ea906",
            "966234a1a68840ee9ba00d10f860461b",
            "6158b5f2b25e4afd8ce4154c7a2ec0ed",
            "c0ad6bf1bb134c14b4cc275b67f0283a",
            "79dd05229c5240af99340c7c9642fada",
            "3f10e8f8c7b04f4084b1ac6cd2079929"
          ]
        },
        "id": "T_4TmsplB3_6",
        "outputId": "1ba07968-caaf-49a3-93ec-cb5626a3a5fb"
      },
      "execution_count": null,
      "outputs": [
        {
          "output_type": "display_data",
          "data": {
            "text/plain": [
              "  0%|          | 0/100000 [00:00<?, ?it/s]"
            ],
            "application/vnd.jupyter.widget-view+json": {
              "version_major": 2,
              "version_minor": 0,
              "model_id": "be7bc40010164473b7638f26d5747612"
            }
          },
          "metadata": {}
        }
      ]
    },
    {
      "cell_type": "code",
      "source": [
        "import pickle\n",
        "path = '/content/drive/MyDrive/data/'\n",
        "\n",
        "with open(path + \"data_tok.pkl\", 'wb') as f:\n",
        "  pickle.dump(data_tok, f)"
      ],
      "metadata": {
        "id": "wC5igibWFqDf"
      },
      "execution_count": null,
      "outputs": []
    },
    {
      "cell_type": "code",
      "source": [
        "import pickle\n",
        "path = '/content/drive/MyDrive/data/'\n",
        "with open(path + \"data_tok.pkl\", 'rb') as f:\n",
        "     data_tok = pickle.load(f)"
      ],
      "metadata": {
        "id": "hmjtloX9F2Wf"
      },
      "execution_count": null,
      "outputs": []
    },
    {
      "cell_type": "code",
      "source": [
        "nltk.download('averaged_perceptron_tagger')"
      ],
      "metadata": {
        "id": "ZjFK8DdwHvBl"
      },
      "execution_count": null,
      "outputs": []
    },
    {
      "cell_type": "code",
      "source": [
        "data_tag = [nltk.pos_tag(x) for x in tqdm(data_tok)]"
      ],
      "metadata": {
        "colab": {
          "base_uri": "https://localhost:8080/",
          "height": 49,
          "referenced_widgets": [
            "ebffa1bcbcad46198bf3732bab24b2cd",
            "830d51995c564568b42951a999f3a15b",
            "b6d1597d22ff470d907da11122b9e501",
            "d9c085fbb4be41d7b12d492b13b046e0",
            "488ec11d9e334525abefef5bf0d36be5",
            "1cead16907144be2adb761ab2bc9e4dc",
            "a1e19c9789a74cf68ec72bf6f622b2d6",
            "73a5106168a149b1b304631839966696",
            "221dd06218124212adf17b742bd74585",
            "18dd255b51054913b1f93fa72485a455",
            "4f5a41abeed84f44a7c7a0b1bf57a0ea"
          ]
        },
        "id": "C02cd0i79DmE",
        "outputId": "184fd9bd-4741-467b-c68f-923e94fd15d3"
      },
      "execution_count": null,
      "outputs": [
        {
          "output_type": "display_data",
          "data": {
            "text/plain": [
              "  0%|          | 0/100000 [00:00<?, ?it/s]"
            ],
            "application/vnd.jupyter.widget-view+json": {
              "version_major": 2,
              "version_minor": 0,
              "model_id": "ebffa1bcbcad46198bf3732bab24b2cd"
            }
          },
          "metadata": {}
        }
      ]
    },
    {
      "cell_type": "code",
      "source": [
        "data_tag[0][:10]"
      ],
      "metadata": {
        "colab": {
          "base_uri": "https://localhost:8080/"
        },
        "id": "VnlkMJfzWZBi",
        "outputId": "643da22d-f232-4a03-cfc9-cd90de9be4b5"
      },
      "execution_count": null,
      "outputs": [
        {
          "output_type": "execute_result",
          "data": {
            "text/plain": [
              "[('Москва', 'NN'),\n",
              " ('.', '.'),\n",
              " ('8', 'CD'),\n",
              " ('мая', 'NN'),\n",
              " ('.', '.'),\n",
              " ('INTERFAX.RU', 'NNP'),\n",
              " ('-', ':'),\n",
              " ('Главный', 'NN'),\n",
              " ('тренер', 'JJ'),\n",
              " ('петербургского', 'NNP')]"
            ]
          },
          "metadata": {},
          "execution_count": 28
        }
      ]
    },
    {
      "cell_type": "code",
      "source": [
        "with open(path + \"data_tag.pkl\", 'wb') as f:\n",
        "  pickle.dump(data_tag, f)"
      ],
      "metadata": {
        "id": "rwiP73TOIDJ0"
      },
      "execution_count": null,
      "outputs": []
    },
    {
      "cell_type": "code",
      "source": [
        "import pickle\n",
        "path = '/content/drive/MyDrive/data/'\n",
        "with open(path + \"data_tag.pkl\", 'rb') as f:\n",
        "     data_tag = pickle.load(f)"
      ],
      "metadata": {
        "id": "QLcDXslScdXI"
      },
      "execution_count": null,
      "outputs": []
    },
    {
      "cell_type": "code",
      "source": [
        "len(data_tag)"
      ],
      "metadata": {
        "colab": {
          "base_uri": "https://localhost:8080/"
        },
        "id": "REEMWLa5qsO9",
        "outputId": "d06f101b-4442-4cbd-e154-2afcfba9f5e4"
      },
      "execution_count": null,
      "outputs": [
        {
          "output_type": "execute_result",
          "data": {
            "text/plain": [
              "100000"
            ]
          },
          "metadata": {},
          "execution_count": 6
        }
      ]
    },
    {
      "cell_type": "code",
      "source": [
        "from nltk.tag import DefaultTagger\n",
        "from nltk.tag import UnigramTagger\n",
        "from nltk.tag import BigramTagger, TrigramTagger\n",
        "from nltk.tag import RegexpTagger\n",
        "import numpy as np\n",
        "import pandas as pd"
      ],
      "metadata": {
        "id": "v4QquOtqHUL0"
      },
      "execution_count": null,
      "outputs": []
    },
    {
      "cell_type": "code",
      "source": [
        "train_data = data_tag[:int(len(data_tag) * 0.8)]\n",
        "test_data =  data_tag[int(len(data_tag) * 0.8):]                          "
      ],
      "metadata": {
        "id": "mFJZ79mjGtQ4"
      },
      "execution_count": null,
      "outputs": []
    },
    {
      "cell_type": "code",
      "source": [
        "def backoff_tagger(train_sents, tagger_classes, backoff=None):\n",
        "    for cls in tagger_classes:\n",
        "        backoff = cls(train_sents, backoff=backoff)\n",
        "    return backoff"
      ],
      "metadata": {
        "id": "XONgSCzhJIaa"
      },
      "execution_count": null,
      "outputs": []
    },
    {
      "cell_type": "code",
      "source": [
        "default_tagger = nltk.DefaultTagger('NN')\n",
        "unigram_tagger = UnigramTagger(train_data)\n",
        "bigram_tagger = BigramTagger(train_data, backoff=unigram_tagger)\n",
        "trigram_tagger = TrigramTagger(train_data, backoff=bigram_tagger)\n",
        "\n",
        "backoff = DefaultTagger('NN') \n",
        "mix_tagger = backoff_tagger(train_data,  \n",
        "                     [UnigramTagger, BigramTagger, TrigramTagger],  \n",
        "                     backoff = backoff)  "
      ],
      "metadata": {
        "id": "64T9m5pWRycw"
      },
      "execution_count": null,
      "outputs": []
    },
    {
      "cell_type": "code",
      "source": [
        "models = [('default', default_tagger),\n",
        "          ('unigram', unigram_tagger),\n",
        "          ('bigram', bigram_tagger),\n",
        "           ('trigram', trigram_tagger),\n",
        "           ('mix', mix_tagger)]"
      ],
      "metadata": {
        "id": "8cGaomfUCQd7"
      },
      "execution_count": null,
      "outputs": []
    },
    {
      "cell_type": "code",
      "source": [
        "stats = []\n",
        "\n",
        "for name, model in models:\n",
        "    accuracy = model.evaluate(test_data)\n",
        "    stats.append((name, accuracy))\n",
        "  \n",
        "all_tagger = pd.DataFrame(stats, columns = ['model','accuracy'])\n",
        "all_tagger.sort_values('accuracy', ascending=False)"
      ],
      "metadata": {
        "colab": {
          "base_uri": "https://localhost:8080/",
          "height": 206
        },
        "id": "FQDQQKOXLYRZ",
        "outputId": "710b1bfc-6cbb-4f44-90f8-55349ff54574"
      },
      "execution_count": null,
      "outputs": [
        {
          "output_type": "execute_result",
          "data": {
            "text/plain": [
              "     model  accuracy\n",
              "3  trigram  0.914881\n",
              "4      mix  0.911826\n",
              "2   bigram  0.905554\n",
              "1  unigram  0.865672\n",
              "0  default  0.066560"
            ],
            "text/html": [
              "\n",
              "  <div id=\"df-ea26fb9e-31d5-4979-b874-449d4fcb9e84\">\n",
              "    <div class=\"colab-df-container\">\n",
              "      <div>\n",
              "<style scoped>\n",
              "    .dataframe tbody tr th:only-of-type {\n",
              "        vertical-align: middle;\n",
              "    }\n",
              "\n",
              "    .dataframe tbody tr th {\n",
              "        vertical-align: top;\n",
              "    }\n",
              "\n",
              "    .dataframe thead th {\n",
              "        text-align: right;\n",
              "    }\n",
              "</style>\n",
              "<table border=\"1\" class=\"dataframe\">\n",
              "  <thead>\n",
              "    <tr style=\"text-align: right;\">\n",
              "      <th></th>\n",
              "      <th>model</th>\n",
              "      <th>accuracy</th>\n",
              "    </tr>\n",
              "  </thead>\n",
              "  <tbody>\n",
              "    <tr>\n",
              "      <th>3</th>\n",
              "      <td>trigram</td>\n",
              "      <td>0.914881</td>\n",
              "    </tr>\n",
              "    <tr>\n",
              "      <th>4</th>\n",
              "      <td>mix</td>\n",
              "      <td>0.911826</td>\n",
              "    </tr>\n",
              "    <tr>\n",
              "      <th>2</th>\n",
              "      <td>bigram</td>\n",
              "      <td>0.905554</td>\n",
              "    </tr>\n",
              "    <tr>\n",
              "      <th>1</th>\n",
              "      <td>unigram</td>\n",
              "      <td>0.865672</td>\n",
              "    </tr>\n",
              "    <tr>\n",
              "      <th>0</th>\n",
              "      <td>default</td>\n",
              "      <td>0.066560</td>\n",
              "    </tr>\n",
              "  </tbody>\n",
              "</table>\n",
              "</div>\n",
              "      <button class=\"colab-df-convert\" onclick=\"convertToInteractive('df-ea26fb9e-31d5-4979-b874-449d4fcb9e84')\"\n",
              "              title=\"Convert this dataframe to an interactive table.\"\n",
              "              style=\"display:none;\">\n",
              "        \n",
              "  <svg xmlns=\"http://www.w3.org/2000/svg\" height=\"24px\"viewBox=\"0 0 24 24\"\n",
              "       width=\"24px\">\n",
              "    <path d=\"M0 0h24v24H0V0z\" fill=\"none\"/>\n",
              "    <path d=\"M18.56 5.44l.94 2.06.94-2.06 2.06-.94-2.06-.94-.94-2.06-.94 2.06-2.06.94zm-11 1L8.5 8.5l.94-2.06 2.06-.94-2.06-.94L8.5 2.5l-.94 2.06-2.06.94zm10 10l.94 2.06.94-2.06 2.06-.94-2.06-.94-.94-2.06-.94 2.06-2.06.94z\"/><path d=\"M17.41 7.96l-1.37-1.37c-.4-.4-.92-.59-1.43-.59-.52 0-1.04.2-1.43.59L10.3 9.45l-7.72 7.72c-.78.78-.78 2.05 0 2.83L4 21.41c.39.39.9.59 1.41.59.51 0 1.02-.2 1.41-.59l7.78-7.78 2.81-2.81c.8-.78.8-2.07 0-2.86zM5.41 20L4 18.59l7.72-7.72 1.47 1.35L5.41 20z\"/>\n",
              "  </svg>\n",
              "      </button>\n",
              "      \n",
              "  <style>\n",
              "    .colab-df-container {\n",
              "      display:flex;\n",
              "      flex-wrap:wrap;\n",
              "      gap: 12px;\n",
              "    }\n",
              "\n",
              "    .colab-df-convert {\n",
              "      background-color: #E8F0FE;\n",
              "      border: none;\n",
              "      border-radius: 50%;\n",
              "      cursor: pointer;\n",
              "      display: none;\n",
              "      fill: #1967D2;\n",
              "      height: 32px;\n",
              "      padding: 0 0 0 0;\n",
              "      width: 32px;\n",
              "    }\n",
              "\n",
              "    .colab-df-convert:hover {\n",
              "      background-color: #E2EBFA;\n",
              "      box-shadow: 0px 1px 2px rgba(60, 64, 67, 0.3), 0px 1px 3px 1px rgba(60, 64, 67, 0.15);\n",
              "      fill: #174EA6;\n",
              "    }\n",
              "\n",
              "    [theme=dark] .colab-df-convert {\n",
              "      background-color: #3B4455;\n",
              "      fill: #D2E3FC;\n",
              "    }\n",
              "\n",
              "    [theme=dark] .colab-df-convert:hover {\n",
              "      background-color: #434B5C;\n",
              "      box-shadow: 0px 1px 3px 1px rgba(0, 0, 0, 0.15);\n",
              "      filter: drop-shadow(0px 1px 2px rgba(0, 0, 0, 0.3));\n",
              "      fill: #FFFFFF;\n",
              "    }\n",
              "  </style>\n",
              "\n",
              "      <script>\n",
              "        const buttonEl =\n",
              "          document.querySelector('#df-ea26fb9e-31d5-4979-b874-449d4fcb9e84 button.colab-df-convert');\n",
              "        buttonEl.style.display =\n",
              "          google.colab.kernel.accessAllowed ? 'block' : 'none';\n",
              "\n",
              "        async function convertToInteractive(key) {\n",
              "          const element = document.querySelector('#df-ea26fb9e-31d5-4979-b874-449d4fcb9e84');\n",
              "          const dataTable =\n",
              "            await google.colab.kernel.invokeFunction('convertToInteractive',\n",
              "                                                     [key], {});\n",
              "          if (!dataTable) return;\n",
              "\n",
              "          const docLinkHtml = 'Like what you see? Visit the ' +\n",
              "            '<a target=\"_blank\" href=https://colab.research.google.com/notebooks/data_table.ipynb>data table notebook</a>'\n",
              "            + ' to learn more about interactive tables.';\n",
              "          element.innerHTML = '';\n",
              "          dataTable['output_type'] = 'display_data';\n",
              "          await google.colab.output.renderOutput(dataTable, element);\n",
              "          const docLink = document.createElement('div');\n",
              "          docLink.innerHTML = docLinkHtml;\n",
              "          element.appendChild(docLink);\n",
              "        }\n",
              "      </script>\n",
              "    </div>\n",
              "  </div>\n",
              "  "
            ]
          },
          "metadata": {},
          "execution_count": 26
        }
      ]
    },
    {
      "cell_type": "markdown",
      "source": [
        "лучше отработали триграммы и микс из таггеров, чуть хуже биграммы и униграммы"
      ],
      "metadata": {
        "id": "Zmz-fbN9cvd4"
      }
    },
    {
      "cell_type": "code",
      "source": [
        "'''A list of positive and negative opinion words or sentiment words for English.\n",
        "\n",
        ">>> from nltk.corpus import opinion_lexicon\n",
        ">>> opinion_lexicon.words()[:4]\n",
        "    ['2-faced', '2-faces', 'abnormal', 'abolish']'''\n",
        "    #https://www.nltk.org/howto/corpus.html"
      ],
      "metadata": {
        "id": "LG4ULloQcBG9"
      },
      "execution_count": null,
      "outputs": []
    },
    {
      "cell_type": "code",
      "source": [
        "nltk.download('opinion_lexicon')"
      ],
      "metadata": {
        "id": "SV6rphCGdBmT"
      },
      "execution_count": null,
      "outputs": []
    },
    {
      "cell_type": "code",
      "source": [
        "sorted(opinion_lexicon.words())[-10:]"
      ],
      "metadata": {
        "colab": {
          "base_uri": "https://localhost:8080/"
        },
        "id": "9anUgh64dfc1",
        "outputId": "1938470a-90af-4f3d-d0ab-bbe9c360ef2c"
      },
      "execution_count": null,
      "outputs": [
        {
          "output_type": "execute_result",
          "data": {
            "text/plain": [
              "['zapped',\n",
              " 'zaps',\n",
              " 'zeal',\n",
              " 'zealot',\n",
              " 'zealous',\n",
              " 'zealously',\n",
              " 'zenith',\n",
              " 'zest',\n",
              " 'zippy',\n",
              " 'zombie']"
            ]
          },
          "metadata": {},
          "execution_count": 35
        }
      ]
    },
    {
      "cell_type": "code",
      "source": [
        "# напишем свой теггер для слов, обозначающих мнение\n",
        "from nltk.tag import SequentialBackoffTagger\n",
        "from nltk.corpus import opinion_lexicon\n",
        "\n",
        "class OLEXTagger(SequentialBackoffTagger):\n",
        "    def __init__(self, *args, **kwargs):\n",
        "        SequentialBackoffTagger.__init__(self, *args, **kwargs)\n",
        "        self.op_lex_set = set([n.lower() for n in opinion_lexicon.words()])\n",
        "            \n",
        "    def choose_tag(self, tokens, index, history):\n",
        "        word = tokens[index]\n",
        "        if word.lower() in self.op_lex_set:\n",
        "             return 'OLEX'\n",
        "        else:\n",
        "             return None\n",
        "            \n",
        "olt = OLEXTagger()\n",
        "print(olt.tag(['abnormal'])) \n",
        "print(olt.tag(['abomination']))  \n",
        "print(olt.tag(['zest'])) "
      ],
      "metadata": {
        "colab": {
          "base_uri": "https://localhost:8080/"
        },
        "id": "f6gUxhJCW75q",
        "outputId": "48d72942-e2f5-4bb2-ca36-ea126a047496"
      },
      "execution_count": null,
      "outputs": [
        {
          "output_type": "stream",
          "name": "stdout",
          "text": [
            "[('abnormal', 'OLEX')]\n",
            "[('abomination', 'OLEX')]\n",
            "[('zest', 'OLEX')]\n"
          ]
        }
      ]
    },
    {
      "cell_type": "code",
      "source": [
        "from sklearn.feature_extraction.text import CountVectorizer, HashingVectorizer, TfidfVectorizer\n",
        "from sklearn.linear_model import LogisticRegression\n",
        "from sklearn.metrics import accuracy_score\n",
        "import xgboost as xgb\n",
        "from sklearn.preprocessing import LabelEncoder"
      ],
      "metadata": {
        "id": "DfjEe3J9eK7F"
      },
      "execution_count": null,
      "outputs": []
    },
    {
      "cell_type": "code",
      "source": [
        "# уменьшим размер выборки, так как очень долго считает (было 100 000)\n",
        "\n",
        "data_tag_small = data_tag[:1000]\n",
        "train_data = data_tag_small[:int(len(data_tag_small) * 0.8)]\n",
        "test_data =  data_tag_small[int(len(data_tag_small) * 0.8):]"
      ],
      "metadata": {
        "id": "wGPWW4juQoEL"
      },
      "execution_count": null,
      "outputs": []
    },
    {
      "cell_type": "code",
      "source": [
        "train_tok = []\n",
        "train_label = []\n",
        "for sent in train_data:\n",
        "    for tok in sent:\n",
        "        train_tok.append(tok[0])\n",
        "        train_label.append('NO_TAG' if tok[1] is None else tok[1])\n",
        "        \n",
        "test_tok = []\n",
        "test_label = []\n",
        "for sent in test_data:\n",
        "    for tok in sent:\n",
        "        test_tok.append(tok[0])\n",
        "        test_label.append('NO_TAG' if tok[1] is None else tok[1])"
      ],
      "metadata": {
        "id": "v-cxXE50e9oH"
      },
      "execution_count": null,
      "outputs": []
    },
    {
      "cell_type": "code",
      "source": [
        "# решение проблемы, если в трейн и тест разные классы\n",
        "le = LabelEncoder()\n",
        "le.fit(train_label)\n",
        "test_label1 = list(map(lambda s: '<unknown>' if s not in le.classes_ else s, test_label))"
      ],
      "metadata": {
        "id": "9matUY0NTMF1"
      },
      "execution_count": null,
      "outputs": []
    },
    {
      "cell_type": "code",
      "source": [
        "set_a = set(test_label)\n",
        "set_b = set(test_label1)\n",
        "set_a.difference(set_b)"
      ],
      "metadata": {
        "colab": {
          "base_uri": "https://localhost:8080/"
        },
        "id": "BaK-i6jMUlWi",
        "outputId": "e4f7cdd2-8c3d-4719-e5b7-e1c56de7d4cd"
      },
      "execution_count": null,
      "outputs": [
        {
          "output_type": "execute_result",
          "data": {
            "text/plain": [
              "set()"
            ]
          },
          "metadata": {},
          "execution_count": 13
        }
      ]
    },
    {
      "cell_type": "code",
      "source": [
        "print(le.classes_)"
      ],
      "metadata": {
        "colab": {
          "base_uri": "https://localhost:8080/"
        },
        "id": "7OydXaHjfZ_r",
        "outputId": "af080550-ea00-4e9f-cadb-8740289147b3"
      },
      "execution_count": null,
      "outputs": [
        {
          "output_type": "stream",
          "name": "stdout",
          "text": [
            "['#' '$' \"''\" '(' ')' ',' '.' ':' 'CC' 'CD' 'DT' 'FW' 'IN' 'JJ' 'JJR' 'NN'\n",
            " 'NNP' 'NNPS' 'NNS' 'POS' 'PRP' 'RB' 'SYM' 'UH' 'VB' 'VBD' 'VBG' 'VBP'\n",
            " 'VBZ' '``']\n"
          ]
        }
      ]
    },
    {
      "cell_type": "code",
      "source": [
        "'''import bisect\n",
        "le_classes = le.classes_.copy()\n",
        "bisect.insort_left(le_classes, '<unknown>')\n",
        "le.classes_ = le_classes.copy()\n",
        "\n",
        "train_enc_labels = le.transform(train_label)\n",
        "test_enc_labels = le.transform(test_label1)'''"
      ],
      "metadata": {
        "colab": {
          "base_uri": "https://localhost:8080/",
          "height": 53
        },
        "id": "m0inW9FbUh4R",
        "outputId": "b48e4ea8-a1bb-43a7-b252-dd196d2d3b26"
      },
      "execution_count": null,
      "outputs": [
        {
          "output_type": "execute_result",
          "data": {
            "text/plain": [
              "\"import bisect\\nle_classes = le.classes_.copy()\\nbisect.insort_left(le_classes, '<unknown>')\\nle.classes_ = le_classes.copy()\\n\\ntrain_enc_labels = le.transform(train_label)\\ntest_enc_labels = le.transform(test_label1)\""
            ],
            "application/vnd.google.colaboratory.intrinsic+json": {
              "type": "string"
            }
          },
          "metadata": {},
          "execution_count": 52
        }
      ]
    },
    {
      "cell_type": "code",
      "source": [
        "train_enc_labels = le.transform(train_label)\n",
        "test_enc_labels = le.transform(test_label)"
      ],
      "metadata": {
        "id": "sf9NJJIEaINe"
      },
      "execution_count": null,
      "outputs": []
    },
    {
      "cell_type": "code",
      "source": [
        "train_tok[:5], train_label[:5]"
      ],
      "metadata": {
        "colab": {
          "base_uri": "https://localhost:8080/"
        },
        "id": "6NgpKKjadVl8",
        "outputId": "18f07e2b-e3b5-494e-d0f1-f25fafc66529"
      },
      "execution_count": null,
      "outputs": [
        {
          "output_type": "execute_result",
          "data": {
            "text/plain": [
              "(['Москва', '.', '8', 'мая', '.'], ['NN', '.', 'CD', 'NN', '.'])"
            ]
          },
          "metadata": {},
          "execution_count": 41
        }
      ]
    },
    {
      "cell_type": "code",
      "execution_count": null,
      "metadata": {
        "id": "3wpr41IZOv8d"
      },
      "outputs": [],
      "source": [
        "hvectorizer = HashingVectorizer(ngram_range=(1, 3),  analyzer='word', n_features=50)"
      ]
    },
    {
      "cell_type": "code",
      "execution_count": null,
      "metadata": {
        "id": "WP8YyZkbOv8d"
      },
      "outputs": [],
      "source": [
        "X_train = hvectorizer.fit_transform(train_tok)"
      ]
    },
    {
      "cell_type": "code",
      "execution_count": null,
      "metadata": {
        "id": "YpmI9NSAOv8d"
      },
      "outputs": [],
      "source": [
        "X_test = hvectorizer.transform(test_tok)"
      ]
    },
    {
      "cell_type": "code",
      "execution_count": null,
      "metadata": {
        "id": "3t9XdCC4Ov8d",
        "outputId": "21ee1304-b21d-4829-dc89-cbeb0e8adacd",
        "colab": {
          "base_uri": "https://localhost:8080/"
        }
      },
      "outputs": [
        {
          "output_type": "execute_result",
          "data": {
            "text/plain": [
              "(198951, 50)"
            ]
          },
          "metadata": {},
          "execution_count": 57
        }
      ],
      "source": [
        "X_train.shape"
      ]
    },
    {
      "cell_type": "code",
      "execution_count": null,
      "metadata": {
        "id": "QANTLbCbOv8e",
        "outputId": "57d94550-4efd-4f1f-bf7b-f010cff41b36",
        "colab": {
          "base_uri": "https://localhost:8080/"
        }
      },
      "outputs": [
        {
          "output_type": "execute_result",
          "data": {
            "text/plain": [
              "LogisticRegression(random_state=0)"
            ]
          },
          "metadata": {},
          "execution_count": 61
        }
      ],
      "source": [
        "lr = LogisticRegression(random_state=0) #, max_iter=10)\n",
        "lr.fit(X_train, train_enc_labels)"
      ]
    },
    {
      "cell_type": "code",
      "execution_count": null,
      "metadata": {
        "id": "myW667syOv8e"
      },
      "outputs": [],
      "source": [
        "pred = lr.predict(X_test)"
      ]
    },
    {
      "cell_type": "code",
      "execution_count": null,
      "metadata": {
        "id": "o6F-cMJROv8e",
        "outputId": "153f90d8-ec86-4247-c7db-0ecb9820187a",
        "colab": {
          "base_uri": "https://localhost:8080/"
        }
      },
      "outputs": [
        {
          "output_type": "execute_result",
          "data": {
            "text/plain": [
              "0.647492561769652"
            ]
          },
          "metadata": {},
          "execution_count": 63
        }
      ],
      "source": [
        "accuracy_score(test_enc_labels, pred)"
      ]
    },
    {
      "cell_type": "code",
      "execution_count": null,
      "metadata": {
        "id": "GA08fvMqOv8e"
      },
      "outputs": [],
      "source": [
        "# переберем в цикле различные параметры векторайзеров"
      ]
    },
    {
      "cell_type": "code",
      "source": [
        "models = [('CountVectorizer_word', CountVectorizer(ngram_range=(1,3),analyzer='word', max_features=50)),\n",
        "          ('TfidfVectorizer_word', TfidfVectorizer(ngram_range=(1,3),analyzer='word', max_features=50)),\n",
        "          ('HashingVectorizer_word', HashingVectorizer(ngram_range=(1, 3), analyzer='word', n_features=50)),\n",
        "          ('CountVectorizer_char', CountVectorizer(ngram_range=(1,3), analyzer='char', max_features=50)),\n",
        "          ('TfidfVectorizer_char', TfidfVectorizer(ngram_range=(1,3), analyzer='char', max_features=50)),\n",
        "          ('HashingVectorizer_char', HashingVectorizer(ngram_range=(1, 3), analyzer='char', n_features=50)),\n",
        "          ('CountVectorizer_char_wb', CountVectorizer(ngram_range=(1,3), analyzer='char_wb', max_features=50)),\n",
        "          ('TfidfVectorizer_char_wb', TfidfVectorizer(ngram_range=(1,3), analyzer='char_wb', max_features=50)),\n",
        "          ('HashingVectorizer_char_wb', HashingVectorizer(ngram_range=(1, 3), analyzer='char_wb', n_features=50))\n",
        "          ]"
      ],
      "metadata": {
        "id": "l6J7uX8_foKi"
      },
      "execution_count": null,
      "outputs": []
    },
    {
      "cell_type": "code",
      "source": [
        "stats = []\n",
        "classifier = LogisticRegression()\n",
        "\n",
        "for name, model in tqdm(models):\n",
        "    X_train = model.fit_transform(train_tok)\n",
        "    X_test = model.transform(test_tok)\n",
        "    \n",
        "    classifier.fit(X_train, train_enc_labels)\n",
        "    predictions = classifier.predict(X_test)\n",
        "    \n",
        "    accuracy = accuracy_score(test_enc_labels, predictions)\n",
        "\n",
        "    stats.append((name, accuracy))\n",
        "    \n",
        "all_vectorizer = pd.DataFrame(stats, columns = ['model','accuracy'])\n",
        "all_vectorizer.sort_values('accuracy', ascending=False)"
      ],
      "metadata": {
        "colab": {
          "base_uri": "https://localhost:8080/",
          "height": 363,
          "referenced_widgets": [
            "8c493d835ba84ab3a5efdd6441a49d87",
            "041934aaab75430d92b03da72fcca523",
            "8e1d33ec169c4f06a98433a032a5abea",
            "27312bc5888b444cb2cb00d9cb362ac4",
            "4c8dc3836dde4d9ebda02412d85175d6",
            "5de49db0ef4b4adc968a622952138793",
            "aabc06fe746e47cbb5af409c7fdebfb4",
            "ff2f00aad3f94c2c809fd7c5d7b33743",
            "4a9d8ab803884d20b22e3f85a71973c6",
            "4a5ac50f7c1e4f34a8805dfe86e3cb72",
            "8667e0fd191f4e30babf13f1f296dd16"
          ]
        },
        "id": "0pv3_f4rgcvZ",
        "outputId": "a995cc7a-293b-4dda-84b6-b339347166b1"
      },
      "execution_count": null,
      "outputs": [
        {
          "output_type": "display_data",
          "data": {
            "text/plain": [
              "  0%|          | 0/9 [00:00<?, ?it/s]"
            ],
            "application/vnd.jupyter.widget-view+json": {
              "version_major": 2,
              "version_minor": 0,
              "model_id": "8c493d835ba84ab3a5efdd6441a49d87"
            }
          },
          "metadata": {}
        },
        {
          "output_type": "execute_result",
          "data": {
            "text/plain": [
              "                       model  accuracy\n",
              "5     HashingVectorizer_char  0.851580\n",
              "8  HashingVectorizer_char_wb  0.850265\n",
              "4       TfidfVectorizer_char  0.788905\n",
              "3       CountVectorizer_char  0.788819\n",
              "7    TfidfVectorizer_char_wb  0.787331\n",
              "6    CountVectorizer_char_wb  0.787180\n",
              "0       CountVectorizer_word  0.659329\n",
              "1       TfidfVectorizer_word  0.659200\n",
              "2     HashingVectorizer_word  0.647493"
            ],
            "text/html": [
              "\n",
              "  <div id=\"df-ad29063d-4bad-485e-aa7b-d4a890c9165f\">\n",
              "    <div class=\"colab-df-container\">\n",
              "      <div>\n",
              "<style scoped>\n",
              "    .dataframe tbody tr th:only-of-type {\n",
              "        vertical-align: middle;\n",
              "    }\n",
              "\n",
              "    .dataframe tbody tr th {\n",
              "        vertical-align: top;\n",
              "    }\n",
              "\n",
              "    .dataframe thead th {\n",
              "        text-align: right;\n",
              "    }\n",
              "</style>\n",
              "<table border=\"1\" class=\"dataframe\">\n",
              "  <thead>\n",
              "    <tr style=\"text-align: right;\">\n",
              "      <th></th>\n",
              "      <th>model</th>\n",
              "      <th>accuracy</th>\n",
              "    </tr>\n",
              "  </thead>\n",
              "  <tbody>\n",
              "    <tr>\n",
              "      <th>5</th>\n",
              "      <td>HashingVectorizer_char</td>\n",
              "      <td>0.851580</td>\n",
              "    </tr>\n",
              "    <tr>\n",
              "      <th>8</th>\n",
              "      <td>HashingVectorizer_char_wb</td>\n",
              "      <td>0.850265</td>\n",
              "    </tr>\n",
              "    <tr>\n",
              "      <th>4</th>\n",
              "      <td>TfidfVectorizer_char</td>\n",
              "      <td>0.788905</td>\n",
              "    </tr>\n",
              "    <tr>\n",
              "      <th>3</th>\n",
              "      <td>CountVectorizer_char</td>\n",
              "      <td>0.788819</td>\n",
              "    </tr>\n",
              "    <tr>\n",
              "      <th>7</th>\n",
              "      <td>TfidfVectorizer_char_wb</td>\n",
              "      <td>0.787331</td>\n",
              "    </tr>\n",
              "    <tr>\n",
              "      <th>6</th>\n",
              "      <td>CountVectorizer_char_wb</td>\n",
              "      <td>0.787180</td>\n",
              "    </tr>\n",
              "    <tr>\n",
              "      <th>0</th>\n",
              "      <td>CountVectorizer_word</td>\n",
              "      <td>0.659329</td>\n",
              "    </tr>\n",
              "    <tr>\n",
              "      <th>1</th>\n",
              "      <td>TfidfVectorizer_word</td>\n",
              "      <td>0.659200</td>\n",
              "    </tr>\n",
              "    <tr>\n",
              "      <th>2</th>\n",
              "      <td>HashingVectorizer_word</td>\n",
              "      <td>0.647493</td>\n",
              "    </tr>\n",
              "  </tbody>\n",
              "</table>\n",
              "</div>\n",
              "      <button class=\"colab-df-convert\" onclick=\"convertToInteractive('df-ad29063d-4bad-485e-aa7b-d4a890c9165f')\"\n",
              "              title=\"Convert this dataframe to an interactive table.\"\n",
              "              style=\"display:none;\">\n",
              "        \n",
              "  <svg xmlns=\"http://www.w3.org/2000/svg\" height=\"24px\"viewBox=\"0 0 24 24\"\n",
              "       width=\"24px\">\n",
              "    <path d=\"M0 0h24v24H0V0z\" fill=\"none\"/>\n",
              "    <path d=\"M18.56 5.44l.94 2.06.94-2.06 2.06-.94-2.06-.94-.94-2.06-.94 2.06-2.06.94zm-11 1L8.5 8.5l.94-2.06 2.06-.94-2.06-.94L8.5 2.5l-.94 2.06-2.06.94zm10 10l.94 2.06.94-2.06 2.06-.94-2.06-.94-.94-2.06-.94 2.06-2.06.94z\"/><path d=\"M17.41 7.96l-1.37-1.37c-.4-.4-.92-.59-1.43-.59-.52 0-1.04.2-1.43.59L10.3 9.45l-7.72 7.72c-.78.78-.78 2.05 0 2.83L4 21.41c.39.39.9.59 1.41.59.51 0 1.02-.2 1.41-.59l7.78-7.78 2.81-2.81c.8-.78.8-2.07 0-2.86zM5.41 20L4 18.59l7.72-7.72 1.47 1.35L5.41 20z\"/>\n",
              "  </svg>\n",
              "      </button>\n",
              "      \n",
              "  <style>\n",
              "    .colab-df-container {\n",
              "      display:flex;\n",
              "      flex-wrap:wrap;\n",
              "      gap: 12px;\n",
              "    }\n",
              "\n",
              "    .colab-df-convert {\n",
              "      background-color: #E8F0FE;\n",
              "      border: none;\n",
              "      border-radius: 50%;\n",
              "      cursor: pointer;\n",
              "      display: none;\n",
              "      fill: #1967D2;\n",
              "      height: 32px;\n",
              "      padding: 0 0 0 0;\n",
              "      width: 32px;\n",
              "    }\n",
              "\n",
              "    .colab-df-convert:hover {\n",
              "      background-color: #E2EBFA;\n",
              "      box-shadow: 0px 1px 2px rgba(60, 64, 67, 0.3), 0px 1px 3px 1px rgba(60, 64, 67, 0.15);\n",
              "      fill: #174EA6;\n",
              "    }\n",
              "\n",
              "    [theme=dark] .colab-df-convert {\n",
              "      background-color: #3B4455;\n",
              "      fill: #D2E3FC;\n",
              "    }\n",
              "\n",
              "    [theme=dark] .colab-df-convert:hover {\n",
              "      background-color: #434B5C;\n",
              "      box-shadow: 0px 1px 3px 1px rgba(0, 0, 0, 0.15);\n",
              "      filter: drop-shadow(0px 1px 2px rgba(0, 0, 0, 0.3));\n",
              "      fill: #FFFFFF;\n",
              "    }\n",
              "  </style>\n",
              "\n",
              "      <script>\n",
              "        const buttonEl =\n",
              "          document.querySelector('#df-ad29063d-4bad-485e-aa7b-d4a890c9165f button.colab-df-convert');\n",
              "        buttonEl.style.display =\n",
              "          google.colab.kernel.accessAllowed ? 'block' : 'none';\n",
              "\n",
              "        async function convertToInteractive(key) {\n",
              "          const element = document.querySelector('#df-ad29063d-4bad-485e-aa7b-d4a890c9165f');\n",
              "          const dataTable =\n",
              "            await google.colab.kernel.invokeFunction('convertToInteractive',\n",
              "                                                     [key], {});\n",
              "          if (!dataTable) return;\n",
              "\n",
              "          const docLinkHtml = 'Like what you see? Visit the ' +\n",
              "            '<a target=\"_blank\" href=https://colab.research.google.com/notebooks/data_table.ipynb>data table notebook</a>'\n",
              "            + ' to learn more about interactive tables.';\n",
              "          element.innerHTML = '';\n",
              "          dataTable['output_type'] = 'display_data';\n",
              "          await google.colab.output.renderOutput(dataTable, element);\n",
              "          const docLink = document.createElement('div');\n",
              "          docLink.innerHTML = docLinkHtml;\n",
              "          element.appendChild(docLink);\n",
              "        }\n",
              "      </script>\n",
              "    </div>\n",
              "  </div>\n",
              "  "
            ]
          },
          "metadata": {},
          "execution_count": 66
        }
      ]
    },
    {
      "cell_type": "markdown",
      "source": [
        "лучшую точность на линейной регрессии показал HashingVectorizer на char и char_wb"
      ],
      "metadata": {
        "id": "p-1N9SbEcnnH"
      }
    },
    {
      "cell_type": "markdown",
      "source": [
        "###Задание 2. Проверить насколько хорошо работает NER\n",
        "данные брать из http://www.labinform.ru/pub/named_entities/\n",
        "- проверить NER из nltk/spacy/deeppavlov\n",
        "- написать свой нер попробовать разные подходы\n",
        "-- передаём в сетку токен и его соседей\n",
        "-- передаём в сетку только токен\n",
        "- сделать выводы по вашим экспериментам какой из подходов успешнее справляется"
      ],
      "metadata": {
        "id": "px8qXXlqxvwR"
      }
    },
    {
      "cell_type": "code",
      "execution_count": null,
      "metadata": {
        "id": "rqp5bo8YO8aL"
      },
      "outputs": [],
      "source": [
        "!wget http://www.labinform.ru/pub/named_entities/collection5.zip"
      ]
    },
    {
      "cell_type": "code",
      "execution_count": null,
      "metadata": {
        "scrolled": true,
        "id": "s3Xr1qQvO8aL"
      },
      "outputs": [],
      "source": [
        "!unzip collection5.zip"
      ]
    },
    {
      "cell_type": "code",
      "execution_count": null,
      "metadata": {
        "id": "MknbgRrCO8aL"
      },
      "outputs": [],
      "source": [
        "!pip install corus"
      ]
    },
    {
      "cell_type": "code",
      "execution_count": null,
      "metadata": {
        "id": "o4uVNaIVO8aL"
      },
      "outputs": [],
      "source": [
        "import corus"
      ]
    },
    {
      "cell_type": "code",
      "execution_count": null,
      "metadata": {
        "scrolled": true,
        "id": "t8Y4vqqyO8aM"
      },
      "outputs": [],
      "source": [
        "from corus import load_ne5\n",
        "\n",
        "dir = 'Collection5/'\n",
        "records = load_ne5(dir)\n",
        "rec = next(records)"
      ]
    },
    {
      "cell_type": "code",
      "source": [
        "rec.text"
      ],
      "metadata": {
        "colab": {
          "base_uri": "https://localhost:8080/",
          "height": 107
        },
        "id": "z_eDgtq22-ea",
        "outputId": "a301318d-8c63-4315-dee9-d9c35caf8178"
      },
      "execution_count": null,
      "outputs": [
        {
          "output_type": "execute_result",
          "data": {
            "text/plain": [
              "'Политологи прокомментировали отставку самарского губернатора Артякова\\r\\n10/05/201212:31\\r\\n\\r\\nМОСКВА, 10 мая - РИА Новости. Первая при президенте Владимире Путине отставка губернатора - Самарской области Владимира Артякова - является продолжением кадровой политики Дмитрия Медведева и связана с желанием минимизировать риски на выборах глав регионов, считают эксперты. При этом \"переезд\" Николая Меркушкина из Мордовии в Самарскую область политологи связывают с желанием власти использовать его опыт управления в более проблемном субъекте.\\r\\n\\r\\nРуководитель Мордовии единоросс Николай Меркушкин, занимавший этот пост почти 17 лет, отправлен в качестве врио губернатора в Самарскую область. Экс-президент \"АвтоВАЗа\" единоросс Владимир Артяков, работавший самарским губернатором около пяти лет, покинул пост по собственному желанию и досрочно, поскольку срок его полномочий истекал в августе 2012 года.\\r\\n\\r\\nПолномочия же Меркушкина, одного из \"старожилов\" губернаторского корпуса, и вовсе истекали лишь в ноябре 2015 года, поскольку осенью 2010 года были продлены в пятый раз. В Мордовии его временно заменит премьер республики Владимир Волков. Правительством региона он руководит около 17 лет - примерно столько же, сколько Меркушкин возглавлял этот субъект федерации.\\r\\n\\r\\n\"Отставка губернатора Самарской области укладывается в линию отставок, регулярно проходивших при президентстве Дмитрия Медведева. Здесь логика понятна, власть продолжает в оставшееся время (до вступления в силу закона о выборности глав регионов) менять непопулярных губернаторов. Артяков не пользовался большой популярностью в Самарской области, и на выборах он, скорее всего, проиграл бы\", - сказал РИА Новости политолог Владимир Слатинов.\\r\\n\\r\\nМедведев за четыре года пребывания на посту президента сменил половину губернаторского корпуса, при этом заметная часть отставок была принята им непосредственно перед истечением срока его полномочий.\\r\\n\\r\\nВ начале мая Медведев подписал закон о прямых выборах губернаторов. Закон вступает в силу 1 июня 2012 года, а первые выборы на новой основе пройдут 14 октября 2012 года. Пока же действует прежний порядок, по которому глав регионов назначает президент России (по представлению правящей в регионе партии) и утверждает региональный парламент. Политологи сошлись во мнении, что многочисленные отставки губернаторов связаны с желанием избавиться от руководителей, не имеющих, по мнению Кремля, хороших перспектив на переизбрание по новым правилам.\\r\\n\\r\\n\"Власть продолжает действовать в той логике, в которой она действовала последние несколько месяцев, сменив около дюжины губернаторов\", - считает Слатинов.\\r\\n\\r\\n\"Смена главы региона до вступления в силу закона означает, что выборы в этом регионе оттягиваются\", - напомнил он.\\r\\n\\r\\nПолитолог Михаил Виноградов также полагает, что отставка главы Самарской области связана с желанием федерального центра минимизировать риски на губернаторских выборах.\\r\\n\\r\\n\"Хотя ситуация с Артяковым была не такой катастрофичной, как в Ярославле и Костроме, все равно регион достаточно конкурентный и проведение выборов было бы чревато новыми сюрпризами\", - сказал Виноградов РИА Новости.\\r\\n\\r\\nГоворя о назначении врио Меркушина, эксперт высказал мнение, что, скорее всего, здесь сказалась его способность обеспечивать электоральную управляемость и его отдаленность от многочисленных чиновников в Самарской области.\\r\\n\\r\\n\"Итоги выборов в Мордовии всегда считались зашкаливающими, и она всегда в этом плане была успешным регионом. К тому же за долгое время пребывания у власти Меркушкин не стал законсервированным, и Мордовия всегда была на хорошем счету у федералов\",- пояснил Виноградов.\\r\\n\\r\\nВ отличие от других регионов, чьи губернаторы в последние месяцы лишились постов, в Мордовии Путин набрал на президентских выборах 87% голосов (больше он получил лишь в Чечне, Дагестане, Ингушетии, Карачаево-Черкесии и Туве). Для сравнения, в Самарской области результат Путина на выборах составил 58,5% голосов.\\r\\n\\r\\n\"Меркушкин - блестящий специалист по выстраиванию жесткой моноцентристской системы управления регионом\", - согласился с ним Слатинов.\\r\\n\\r\\nПолитолог предположил, что опыт Меркушкина хотят просто перенести на более проблемный субъект федерации. В Мордовии же реализован вариант преемственности, добавил Слатинов.\\r\\n\\r\\n\"Я думаю, что опыт Меркушкина в Самарской области должен пригодиться, скорее всего, это попытка перенести сюда ту модель управления, которую он реализовал в Мордовии. В Мордовии же получается классический вариант преемственности: система сохраняется, во главу становится второе лицо\", - сказал Слатинов.\\r\\n\\r\\nПолитолог Евгений Минченко полагает, что \"Артяков пойдет куда-нибудь в федеральные структуры\". Именно с перестановками на федеральном уровне, по его мнению, связана отставка главы Самарской области.\\r\\n\\r\\n\"Назначение Меркушкина может быть связано с тем, чтобы, во-первых, не давать ни одной из Самарских групп губернаторское место и поставить нейтральную фигуру, \"варяга\" со стороны. Второе - Меркушкин выстроил у себя в регионе достаточно эффективную машину управляемого голосования, и я не исключаю, что есть идея, что нечто подобное он сможет выстроить и в Самаре\", - сказал эксперт.\\r\\nhttp://www.ria.ru/politics/20120510/645615177.html'"
            ],
            "application/vnd.google.colaboratory.intrinsic+json": {
              "type": "string"
            }
          },
          "metadata": {},
          "execution_count": 6
        }
      ]
    },
    {
      "cell_type": "code",
      "source": [
        "rec.spans"
      ],
      "metadata": {
        "colab": {
          "base_uri": "https://localhost:8080/"
        },
        "id": "havpa0Hf3IqL",
        "outputId": "05ead84c-1ea4-4eb4-a0a0-9794393a7f0a"
      },
      "execution_count": null,
      "outputs": [
        {
          "output_type": "execute_result",
          "data": {
            "text/plain": [
              "[Ne5Span(\n",
              "     index='T1',\n",
              "     type='PER',\n",
              "     start=61,\n",
              "     stop=69,\n",
              "     text='Артякова'\n",
              " ), Ne5Span(\n",
              "     index='T2',\n",
              "     type='GEOPOLIT',\n",
              "     start=90,\n",
              "     stop=96,\n",
              "     text='МОСКВА'\n",
              " ), Ne5Span(\n",
              "     index='T3',\n",
              "     type='MEDIA',\n",
              "     start=107,\n",
              "     stop=118,\n",
              "     text='РИА Новости'\n",
              " ), Ne5Span(\n",
              "     index='T4',\n",
              "     type='PER',\n",
              "     start=142,\n",
              "     stop=158,\n",
              "     text='Владимире Путине'\n",
              " ), Ne5Span(\n",
              "     index='T5',\n",
              "     type='LOC',\n",
              "     start=182,\n",
              "     stop=199,\n",
              "     text='Самарской области'\n",
              " ), Ne5Span(\n",
              "     index='T6',\n",
              "     type='PER',\n",
              "     start=200,\n",
              "     stop=218,\n",
              "     text='Владимира Артякова'\n",
              " ), Ne5Span(\n",
              "     index='T7',\n",
              "     type='PER',\n",
              "     start=261,\n",
              "     stop=278,\n",
              "     text='Дмитрия Медведева'\n",
              " ), Ne5Span(\n",
              "     index='T8',\n",
              "     type='PER',\n",
              "     start=384,\n",
              "     stop=402,\n",
              "     text='Николая Меркушкина'\n",
              " ), Ne5Span(\n",
              "     index='T9',\n",
              "     type='LOC',\n",
              "     start=406,\n",
              "     stop=414,\n",
              "     text='Мордовии'\n",
              " ), Ne5Span(\n",
              "     index='T10',\n",
              "     type='LOC',\n",
              "     start=417,\n",
              "     stop=434,\n",
              "     text='Самарскую область'\n",
              " ), Ne5Span(\n",
              "     index='T11',\n",
              "     type='LOC',\n",
              "     start=552,\n",
              "     stop=560,\n",
              "     text='Мордовии'\n",
              " ), Ne5Span(\n",
              "     index='T12',\n",
              "     type='PER',\n",
              "     start=571,\n",
              "     stop=588,\n",
              "     text='Николай Меркушкин'\n",
              " ), Ne5Span(\n",
              "     index='T13',\n",
              "     type='LOC',\n",
              "     start=665,\n",
              "     stop=682,\n",
              "     text='Самарскую область'\n",
              " ), Ne5Span(\n",
              "     index='T14',\n",
              "     type='ORG',\n",
              "     start=699,\n",
              "     stop=707,\n",
              "     text='АвтоВАЗа'\n",
              " ), Ne5Span(\n",
              "     index='T15',\n",
              "     type='PER',\n",
              "     start=719,\n",
              "     stop=735,\n",
              "     text='Владимир Артяков'\n",
              " ), Ne5Span(\n",
              "     index='T16',\n",
              "     type='PER',\n",
              "     start=912,\n",
              "     stop=922,\n",
              "     text='Меркушкина'\n",
              " ), Ne5Span(\n",
              "     index='T17',\n",
              "     type='LOC',\n",
              "     start=1070,\n",
              "     stop=1078,\n",
              "     text='Мордовии'\n",
              " ), Ne5Span(\n",
              "     index='T18',\n",
              "     type='PER',\n",
              "     start=1119,\n",
              "     stop=1134,\n",
              "     text='Владимир Волков'\n",
              " ), Ne5Span(\n",
              "     index='T19',\n",
              "     type='PER',\n",
              "     start=1216,\n",
              "     stop=1225,\n",
              "     text='Меркушкин'\n",
              " ), Ne5Span(\n",
              "     index='T20',\n",
              "     type='LOC',\n",
              "     start=1286,\n",
              "     stop=1303,\n",
              "     text='Самарской области'\n",
              " ), Ne5Span(\n",
              "     index='T21',\n",
              "     type='PER',\n",
              "     start=1375,\n",
              "     stop=1392,\n",
              "     text='Дмитрия Медведева'\n",
              " ), Ne5Span(\n",
              "     index='T22',\n",
              "     type='PER',\n",
              "     start=1544,\n",
              "     stop=1551,\n",
              "     text='Артяков'\n",
              " ), Ne5Span(\n",
              "     index='T23',\n",
              "     type='LOC',\n",
              "     start=1591,\n",
              "     stop=1608,\n",
              "     text='Самарской области'\n",
              " ), Ne5Span(\n",
              "     index='T24',\n",
              "     type='MEDIA',\n",
              "     start=1664,\n",
              "     stop=1675,\n",
              "     text='РИА Новости'\n",
              " ), Ne5Span(\n",
              "     index='T25',\n",
              "     type='PER',\n",
              "     start=1686,\n",
              "     stop=1703,\n",
              "     text='Владимир Слатинов'\n",
              " ), Ne5Span(\n",
              "     index='T26',\n",
              "     type='PER',\n",
              "     start=1708,\n",
              "     stop=1716,\n",
              "     text='Медведев'\n",
              " ), Ne5Span(\n",
              "     index='T27',\n",
              "     type='PER',\n",
              "     start=1924,\n",
              "     stop=1932,\n",
              "     text='Медведев'\n",
              " ), Ne5Span(\n",
              "     index='T28',\n",
              "     type='GEOPOLIT',\n",
              "     start=2162,\n",
              "     stop=2168,\n",
              "     text='России'\n",
              " ), Ne5Span(\n",
              "     index='T29',\n",
              "     type='GEOPOLIT',\n",
              "     start=2392,\n",
              "     stop=2398,\n",
              "     text='Кремля'\n",
              " ), Ne5Span(\n",
              "     index='T30',\n",
              "     type='PER',\n",
              "     start=2602,\n",
              "     stop=2610,\n",
              "     text='Слатинов'\n",
              " ), Ne5Span(\n",
              "     index='T31',\n",
              "     type='PER',\n",
              "     start=2743,\n",
              "     stop=2760,\n",
              "     text='Михаил Виноградов'\n",
              " ), Ne5Span(\n",
              "     index='T32',\n",
              "     type='LOC',\n",
              "     start=2796,\n",
              "     stop=2813,\n",
              "     text='Самарской области'\n",
              " ), Ne5Span(\n",
              "     index='T33',\n",
              "     type='PER',\n",
              "     start=2921,\n",
              "     stop=2930,\n",
              "     text='Артяковым'\n",
              " ), Ne5Span(\n",
              "     index='T34',\n",
              "     type='LOC',\n",
              "     start=2967,\n",
              "     stop=2976,\n",
              "     text='Ярославле'\n",
              " ), Ne5Span(\n",
              "     index='T35',\n",
              "     type='LOC',\n",
              "     start=2979,\n",
              "     stop=2987,\n",
              "     text='Костроме'\n",
              " ), Ne5Span(\n",
              "     index='T36',\n",
              "     type='PER',\n",
              "     start=3096,\n",
              "     stop=3106,\n",
              "     text='Виноградов'\n",
              " ), Ne5Span(\n",
              "     index='T37',\n",
              "     type='MEDIA',\n",
              "     start=3107,\n",
              "     stop=3118,\n",
              "     text='РИА Новости'\n",
              " ), Ne5Span(\n",
              "     index='T38',\n",
              "     type='PER',\n",
              "     start=3148,\n",
              "     stop=3157,\n",
              "     text='Меркушина'\n",
              " ), Ne5Span(\n",
              "     index='T39',\n",
              "     type='LOC',\n",
              "     start=3326,\n",
              "     stop=3343,\n",
              "     text='Самарской области'\n",
              " ), Ne5Span(\n",
              "     index='T40',\n",
              "     type='LOC',\n",
              "     start=3365,\n",
              "     stop=3373,\n",
              "     text='Мордовии'\n",
              " ), Ne5Span(\n",
              "     index='T41',\n",
              "     type='PER',\n",
              "     start=3503,\n",
              "     stop=3512,\n",
              "     text='Меркушкин'\n",
              " ), Ne5Span(\n",
              "     index='T42',\n",
              "     type='LOC',\n",
              "     start=3543,\n",
              "     stop=3551,\n",
              "     text='Мордовия'\n",
              " ), Ne5Span(\n",
              "     index='T43',\n",
              "     type='PER',\n",
              "     start=3604,\n",
              "     stop=3614,\n",
              "     text='Виноградов'\n",
              " ), Ne5Span(\n",
              "     index='T44',\n",
              "     type='LOC',\n",
              "     start=3703,\n",
              "     stop=3711,\n",
              "     text='Мордовии'\n",
              " ), Ne5Span(\n",
              "     index='T45',\n",
              "     type='PER',\n",
              "     start=3712,\n",
              "     stop=3717,\n",
              "     text='Путин'\n",
              " ), Ne5Span(\n",
              "     index='T46',\n",
              "     type='LOC',\n",
              "     start=3788,\n",
              "     stop=3793,\n",
              "     text='Чечне'\n",
              " ), Ne5Span(\n",
              "     index='T47',\n",
              "     type='LOC',\n",
              "     start=3795,\n",
              "     stop=3804,\n",
              "     text='Дагестане'\n",
              " ), Ne5Span(\n",
              "     index='T48',\n",
              "     type='LOC',\n",
              "     start=3806,\n",
              "     stop=3815,\n",
              "     text='Ингушетии'\n",
              " ), Ne5Span(\n",
              "     index='T49',\n",
              "     type='LOC',\n",
              "     start=3817,\n",
              "     stop=3835,\n",
              "     text='Карачаево-Черкесии'\n",
              " ), Ne5Span(\n",
              "     index='T50',\n",
              "     type='LOC',\n",
              "     start=3838,\n",
              "     stop=3842,\n",
              "     text='Туве'\n",
              " ), Ne5Span(\n",
              "     index='T51',\n",
              "     type='LOC',\n",
              "     start=3862,\n",
              "     stop=3879,\n",
              "     text='Самарской области'\n",
              " ), Ne5Span(\n",
              "     index='T52',\n",
              "     type='PER',\n",
              "     start=3890,\n",
              "     stop=3896,\n",
              "     text='Путина'\n",
              " ), Ne5Span(\n",
              "     index='T53',\n",
              "     type='PER',\n",
              "     start=3936,\n",
              "     stop=3945,\n",
              "     text='Меркушкин'\n",
              " ), Ne5Span(\n",
              "     index='T54',\n",
              "     type='PER',\n",
              "     start=4059,\n",
              "     stop=4067,\n",
              "     text='Слатинов'\n",
              " ), Ne5Span(\n",
              "     index='T55',\n",
              "     type='PER',\n",
              "     start=4104,\n",
              "     stop=4114,\n",
              "     text='Меркушкина'\n",
              " ), Ne5Span(\n",
              "     index='T56',\n",
              "     type='LOC',\n",
              "     start=4179,\n",
              "     stop=4187,\n",
              "     text='Мордовии'\n",
              " ), Ne5Span(\n",
              "     index='T57',\n",
              "     type='PER',\n",
              "     start=4235,\n",
              "     stop=4243,\n",
              "     text='Слатинов'\n",
              " ), Ne5Span(\n",
              "     index='T58',\n",
              "     type='PER',\n",
              "     start=4267,\n",
              "     stop=4277,\n",
              "     text='Меркушкина'\n",
              " ), Ne5Span(\n",
              "     index='T59',\n",
              "     type='LOC',\n",
              "     start=4280,\n",
              "     stop=4297,\n",
              "     text='Самарской области'\n",
              " ), Ne5Span(\n",
              "     index='T60',\n",
              "     type='LOC',\n",
              "     start=4405,\n",
              "     stop=4413,\n",
              "     text='Мордовии'\n",
              " ), Ne5Span(\n",
              "     index='T61',\n",
              "     type='LOC',\n",
              "     start=4417,\n",
              "     stop=4425,\n",
              "     text='Мордовии'\n",
              " ), Ne5Span(\n",
              "     index='T62',\n",
              "     type='PER',\n",
              "     start=4542,\n",
              "     stop=4550,\n",
              "     text='Слатинов'\n",
              " ), Ne5Span(\n",
              "     index='T63',\n",
              "     type='PER',\n",
              "     start=4565,\n",
              "     stop=4581,\n",
              "     text='Евгений Минченко'\n",
              " ), Ne5Span(\n",
              "     index='T64',\n",
              "     type='PER',\n",
              "     start=4597,\n",
              "     stop=4604,\n",
              "     text='Артяков'\n",
              " ), Ne5Span(\n",
              "     index='T65',\n",
              "     type='LOC',\n",
              "     start=4735,\n",
              "     stop=4752,\n",
              "     text='Самарской области'\n",
              " ), Ne5Span(\n",
              "     index='T66',\n",
              "     type='PER',\n",
              "     start=4769,\n",
              "     stop=4779,\n",
              "     text='Меркушкина'\n",
              " ), Ne5Span(\n",
              "     index='T67',\n",
              "     type='LOC',\n",
              "     start=4846,\n",
              "     stop=4855,\n",
              "     text='Самарских'\n",
              " ), Ne5Span(\n",
              "     index='T68',\n",
              "     type='PER',\n",
              "     start=4945,\n",
              "     stop=4954,\n",
              "     text='Меркушкин'\n",
              " ), Ne5Span(\n",
              "     index='T69',\n",
              "     type='LOC',\n",
              "     start=5112,\n",
              "     stop=5118,\n",
              "     text='Самаре'\n",
              " )]"
            ]
          },
          "metadata": {},
          "execution_count": 7
        }
      ]
    },
    {
      "cell_type": "code",
      "execution_count": null,
      "metadata": {
        "id": "846I7i1dO8aM"
      },
      "outputs": [],
      "source": [
        "words_docs = []\n",
        "for ix, rec in enumerate(records):\n",
        "    words = []\n",
        "    for token in tokenize(rec.text):\n",
        "        type_ent = 'OUT'\n",
        "        for ent in rec.spans:\n",
        "            if (token.start >= ent.start) and (token.stop <= ent.stop):\n",
        "                type_ent = ent.type\n",
        "                break\n",
        "        words.append([token.text, type_ent])\n",
        "    words_docs.extend(words)"
      ]
    },
    {
      "cell_type": "code",
      "source": [
        "articals = []\n",
        "for rec in records:\n",
        "    articals.append(rec.text)"
      ],
      "metadata": {
        "id": "egxw2P1JdQiL"
      },
      "execution_count": null,
      "outputs": []
    },
    {
      "cell_type": "code",
      "source": [
        "doc1 = articals[1]\n",
        "doc1"
      ],
      "metadata": {
        "colab": {
          "base_uri": "https://localhost:8080/",
          "height": 107
        },
        "id": "XHnYvNqzd19B",
        "outputId": "5907692d-c0da-41c9-a267-ce5d4d0eddee"
      },
      "execution_count": null,
      "outputs": [
        {
          "output_type": "execute_result",
          "data": {
            "text/plain": [
              "'Президент: кризиса в Турции из-за отставки армейского командования нет\\r\\n\\r\\nПрезидент Турции Абдуллах Гюль в субботу заявил, что в стране нет кризиса в связи с отставками начальника Генштаба и командования вооруженных сил.\\r\\n\\r\\n\"Произошли чрезвычайные события, но кризиса нет\", - сказал турецкий лидер, отвечая на вопросы журналистов в Анкаре.\\r\\n\\r\\nВ минувшую пятницу начальник турецкого Генштаба Ышик Кошанер, а также главкомы сухопутных сил, ВВС и ВМС подали в отставку в знак протеста против нахождения под стражей большой группы действующих генералов и офицеров турецкой армии по обвинению в подготовке переворота с целью свержения правительства нынешнего премьера Тайипа Эрдогана.\\r\\n\\r\\n\"В настоящее время под арестом без наличия на то судебных вердиктов находятся 250 военных, в том числе 173 действующих, среди которых генералы, адмиралы, офицеры и унтерофицеры. Их нахождение под стражей идет вразрез с всеобщими правовыми нормами и не вписывается в рамки законов и правосудия\", - написал в прощальном обращении к \"Братьям по оружию\" начальник турецкого Генштаба.\\r\\n\\r\\nОн охарактеризовал сложившуюся ситуацию, в которой около 10% генеральского состава турецкой армии находится за решеткой, как стремление служителей Фемиды представить вооруженные силы в качестве \"преступной организации\".\\r\\n\\r\\nСамые громкие в турецкой истории отставки последовали после состоявшейся в пятницу встречи начальника Генштаба с президентом Турции, в которой также участвовал премьер Эрдоган, и накануне предстоящего 1-4 августа заседания Высшего военного совета Турции, который собирается под председательством главы правительства и производит кадровые назначения в военном руководстве.\\r\\n\\r\\nПосле отставки начальника Генштаба, являющегося главкомом вооруженных сил Турции, на должность и.о. командующего сухопутными силами, который традиционно считается преемником на посту начальника Генштаба, в пятницу вечером был экстренно назначен главком жандармских войск Неджет Озель. Это также происходит впервые в Турции, пишут в субботу местные газеты, отмечая, что последнее назначение полностью нарушает многолетние традиции турецкой армии, которая традиционно считается бастионом светских устоев этой страны.\\r\\n\\r\\nНа военном совете, который соберется в понедельник, генерал Озель будет назначен новым начальником Генштаба и будут озвучены новые, абсолютно неожиданные имена в руководстве вооруженных сил, отмечает в комментарии телекомпания NTV.\\r\\n\\r\\nПрезидент Турции, комментируя отставки военного руководства, заверил, что поводов для беспокойства нет.\\r\\n\\r\\n\"Все, как вы видите, происходит в своем поле, и никакого вакуума нет. Мы с уважением восприняли решение начальника Генштаба, несмотря на то, что хотели, чтобы он продолжил службу\", - добавил турецкий лидер в беседе с журналистами.\\r\\n\\r\\nТурецкая оппозиция крайне резко отреагировала на отставки.\\r\\n\\r\\nВ оппозиционной Народно-республиканской партии (НРП) заявили, что происходящее свидетельствует о том, что возглавляемая Эрдоганом правящая Партия справедливости и развития (ПСР) \"упорно продолжает не признавать право и действующее законодательство\".\\r\\n\\r\\nЛидер правой Партии националистического движения (ПНД) Девлет Бахчели в микроблоге в Twitter охарактеризовал последние события как \"серьезный государственный кризис\".\\r\\n\\r\\nВлиятельная в Турции армия трижды совершала перевороты в стране (в 1960, 1971 и 1980 годах). Кроме того, под ее давлением во второй половине 1990 годов от власти был отстранен первый происламский премьер Неджметтин Эрбакан.\\r\\n\\r\\nГенштаб также выражал опасения относительно происламизации Турции нынешним правительством Эрдогана, однако последний эти обвинения решительно отвергал.'"
            ],
            "application/vnd.google.colaboratory.intrinsic+json": {
              "type": "string"
            }
          },
          "metadata": {},
          "execution_count": 9
        }
      ]
    },
    {
      "cell_type": "code",
      "execution_count": null,
      "metadata": {
        "id": "E40tsXJAO8aM"
      },
      "outputs": [],
      "source": [
        "import pandas as pd"
      ]
    },
    {
      "cell_type": "code",
      "execution_count": null,
      "metadata": {
        "id": "n4xpENrSO8aN"
      },
      "outputs": [],
      "source": [
        "df_words = pd.DataFrame(words_docs, columns=['word', 'tag'])"
      ]
    },
    {
      "cell_type": "code",
      "execution_count": null,
      "metadata": {
        "id": "8CDy5NB0O8aN",
        "outputId": "b2163909-6a9e-413c-b011-d9ecd736c805",
        "colab": {
          "base_uri": "https://localhost:8080/"
        }
      },
      "outputs": [
        {
          "output_type": "execute_result",
          "data": {
            "text/plain": [
              "OUT         218470\n",
              "PER          21155\n",
              "ORG          13650\n",
              "LOC           4530\n",
              "GEOPOLIT      4353\n",
              "MEDIA         2476\n",
              "Name: tag, dtype: int64"
            ]
          },
          "metadata": {},
          "execution_count": 11
        }
      ],
      "source": [
        "df_words['tag'].value_counts()"
      ]
    },
    {
      "cell_type": "code",
      "execution_count": null,
      "metadata": {
        "id": "U07r4DeIO8aN",
        "outputId": "435f0ea0-1127-43ca-8aac-0cce6c73a592",
        "colab": {
          "base_uri": "https://localhost:8080/",
          "height": 206
        }
      },
      "outputs": [
        {
          "output_type": "execute_result",
          "data": {
            "text/plain": [
              "         word  tag\n",
              "0        Мать  OUT\n",
              "1      Майкла  PER\n",
              "2    Джексона  PER\n",
              "3  рассказала  OUT\n",
              "4           ,  OUT"
            ],
            "text/html": [
              "\n",
              "  <div id=\"df-5d7d28d8-edbf-4cf8-9f76-c47d4d202c06\">\n",
              "    <div class=\"colab-df-container\">\n",
              "      <div>\n",
              "<style scoped>\n",
              "    .dataframe tbody tr th:only-of-type {\n",
              "        vertical-align: middle;\n",
              "    }\n",
              "\n",
              "    .dataframe tbody tr th {\n",
              "        vertical-align: top;\n",
              "    }\n",
              "\n",
              "    .dataframe thead th {\n",
              "        text-align: right;\n",
              "    }\n",
              "</style>\n",
              "<table border=\"1\" class=\"dataframe\">\n",
              "  <thead>\n",
              "    <tr style=\"text-align: right;\">\n",
              "      <th></th>\n",
              "      <th>word</th>\n",
              "      <th>tag</th>\n",
              "    </tr>\n",
              "  </thead>\n",
              "  <tbody>\n",
              "    <tr>\n",
              "      <th>0</th>\n",
              "      <td>Мать</td>\n",
              "      <td>OUT</td>\n",
              "    </tr>\n",
              "    <tr>\n",
              "      <th>1</th>\n",
              "      <td>Майкла</td>\n",
              "      <td>PER</td>\n",
              "    </tr>\n",
              "    <tr>\n",
              "      <th>2</th>\n",
              "      <td>Джексона</td>\n",
              "      <td>PER</td>\n",
              "    </tr>\n",
              "    <tr>\n",
              "      <th>3</th>\n",
              "      <td>рассказала</td>\n",
              "      <td>OUT</td>\n",
              "    </tr>\n",
              "    <tr>\n",
              "      <th>4</th>\n",
              "      <td>,</td>\n",
              "      <td>OUT</td>\n",
              "    </tr>\n",
              "  </tbody>\n",
              "</table>\n",
              "</div>\n",
              "      <button class=\"colab-df-convert\" onclick=\"convertToInteractive('df-5d7d28d8-edbf-4cf8-9f76-c47d4d202c06')\"\n",
              "              title=\"Convert this dataframe to an interactive table.\"\n",
              "              style=\"display:none;\">\n",
              "        \n",
              "  <svg xmlns=\"http://www.w3.org/2000/svg\" height=\"24px\"viewBox=\"0 0 24 24\"\n",
              "       width=\"24px\">\n",
              "    <path d=\"M0 0h24v24H0V0z\" fill=\"none\"/>\n",
              "    <path d=\"M18.56 5.44l.94 2.06.94-2.06 2.06-.94-2.06-.94-.94-2.06-.94 2.06-2.06.94zm-11 1L8.5 8.5l.94-2.06 2.06-.94-2.06-.94L8.5 2.5l-.94 2.06-2.06.94zm10 10l.94 2.06.94-2.06 2.06-.94-2.06-.94-.94-2.06-.94 2.06-2.06.94z\"/><path d=\"M17.41 7.96l-1.37-1.37c-.4-.4-.92-.59-1.43-.59-.52 0-1.04.2-1.43.59L10.3 9.45l-7.72 7.72c-.78.78-.78 2.05 0 2.83L4 21.41c.39.39.9.59 1.41.59.51 0 1.02-.2 1.41-.59l7.78-7.78 2.81-2.81c.8-.78.8-2.07 0-2.86zM5.41 20L4 18.59l7.72-7.72 1.47 1.35L5.41 20z\"/>\n",
              "  </svg>\n",
              "      </button>\n",
              "      \n",
              "  <style>\n",
              "    .colab-df-container {\n",
              "      display:flex;\n",
              "      flex-wrap:wrap;\n",
              "      gap: 12px;\n",
              "    }\n",
              "\n",
              "    .colab-df-convert {\n",
              "      background-color: #E8F0FE;\n",
              "      border: none;\n",
              "      border-radius: 50%;\n",
              "      cursor: pointer;\n",
              "      display: none;\n",
              "      fill: #1967D2;\n",
              "      height: 32px;\n",
              "      padding: 0 0 0 0;\n",
              "      width: 32px;\n",
              "    }\n",
              "\n",
              "    .colab-df-convert:hover {\n",
              "      background-color: #E2EBFA;\n",
              "      box-shadow: 0px 1px 2px rgba(60, 64, 67, 0.3), 0px 1px 3px 1px rgba(60, 64, 67, 0.15);\n",
              "      fill: #174EA6;\n",
              "    }\n",
              "\n",
              "    [theme=dark] .colab-df-convert {\n",
              "      background-color: #3B4455;\n",
              "      fill: #D2E3FC;\n",
              "    }\n",
              "\n",
              "    [theme=dark] .colab-df-convert:hover {\n",
              "      background-color: #434B5C;\n",
              "      box-shadow: 0px 1px 3px 1px rgba(0, 0, 0, 0.15);\n",
              "      filter: drop-shadow(0px 1px 2px rgba(0, 0, 0, 0.3));\n",
              "      fill: #FFFFFF;\n",
              "    }\n",
              "  </style>\n",
              "\n",
              "      <script>\n",
              "        const buttonEl =\n",
              "          document.querySelector('#df-5d7d28d8-edbf-4cf8-9f76-c47d4d202c06 button.colab-df-convert');\n",
              "        buttonEl.style.display =\n",
              "          google.colab.kernel.accessAllowed ? 'block' : 'none';\n",
              "\n",
              "        async function convertToInteractive(key) {\n",
              "          const element = document.querySelector('#df-5d7d28d8-edbf-4cf8-9f76-c47d4d202c06');\n",
              "          const dataTable =\n",
              "            await google.colab.kernel.invokeFunction('convertToInteractive',\n",
              "                                                     [key], {});\n",
              "          if (!dataTable) return;\n",
              "\n",
              "          const docLinkHtml = 'Like what you see? Visit the ' +\n",
              "            '<a target=\"_blank\" href=https://colab.research.google.com/notebooks/data_table.ipynb>data table notebook</a>'\n",
              "            + ' to learn more about interactive tables.';\n",
              "          element.innerHTML = '';\n",
              "          dataTable['output_type'] = 'display_data';\n",
              "          await google.colab.output.renderOutput(dataTable, element);\n",
              "          const docLink = document.createElement('div');\n",
              "          docLink.innerHTML = docLinkHtml;\n",
              "          element.appendChild(docLink);\n",
              "        }\n",
              "      </script>\n",
              "    </div>\n",
              "  </div>\n",
              "  "
            ]
          },
          "metadata": {},
          "execution_count": 12
        }
      ],
      "source": [
        "df_words.head()"
      ]
    },
    {
      "cell_type": "code",
      "execution_count": null,
      "metadata": {
        "id": "G7VCSDa-O8aN",
        "outputId": "54906716-a53b-4f0f-aba4-30f6346e7b64",
        "colab": {
          "base_uri": "https://localhost:8080/"
        }
      },
      "outputs": [
        {
          "output_type": "execute_result",
          "data": {
            "text/plain": [
              "(264634, 2)"
            ]
          },
          "metadata": {},
          "execution_count": 13
        }
      ],
      "source": [
        "df_words.shape"
      ]
    },
    {
      "cell_type": "code",
      "source": [
        "# Для разметки NER с помощью NLTK сначала производим токенизацию слов, затем POS тэггинг. "
      ],
      "metadata": {
        "id": "HU7dgYdBAYN4"
      },
      "execution_count": null,
      "outputs": []
    },
    {
      "cell_type": "code",
      "execution_count": null,
      "metadata": {
        "id": "DZkB-u0EO8aQ"
      },
      "outputs": [],
      "source": [
        "import nltk\n",
        "nltk.download('words')\n",
        "nltk.download('maxent_ne_chunker')\n",
        "nltk.download('names')"
      ]
    },
    {
      "cell_type": "code",
      "source": [
        "nltk.download('punkt')"
      ],
      "metadata": {
        "id": "2LvtblKrA2BN"
      },
      "execution_count": null,
      "outputs": []
    },
    {
      "cell_type": "code",
      "source": [
        "nltk.download('averaged_perceptron_tagger')"
      ],
      "metadata": {
        "id": "u9iX2-u9DPE6"
      },
      "execution_count": null,
      "outputs": []
    },
    {
      "cell_type": "code",
      "source": [
        "import tqdm\n",
        "words5 = list(df_words.word)"
      ],
      "metadata": {
        "id": "zBPCkwbUBFrB"
      },
      "execution_count": null,
      "outputs": []
    },
    {
      "cell_type": "code",
      "source": [
        "#data5_tok = [nltk.word_tokenize(x) for x in words5]\n",
        "#data5_tag = [nltk.pos_tag(x) for x in data5_tok[:50000]]"
      ],
      "metadata": {
        "id": "T4i3bVo4EvOK"
      },
      "execution_count": null,
      "outputs": []
    },
    {
      "cell_type": "code",
      "source": [
        "data5_tag = nltk.pos_tag(words5[:50000])"
      ],
      "metadata": {
        "id": "Kc-K7VZ5GTOT"
      },
      "execution_count": null,
      "outputs": []
    },
    {
      "cell_type": "code",
      "source": [
        "data5_tag[:10]"
      ],
      "metadata": {
        "colab": {
          "base_uri": "https://localhost:8080/"
        },
        "id": "EV3X1Yq1Fypp",
        "outputId": "b6e617cd-16b0-4971-8a0c-05d1f9643069"
      },
      "execution_count": null,
      "outputs": [
        {
          "output_type": "execute_result",
          "data": {
            "text/plain": [
              "[('Мать', 'JJ'),\n",
              " ('Майкла', 'NNP'),\n",
              " ('Джексона', 'NNP'),\n",
              " ('рассказала', 'NNP'),\n",
              " (',', ','),\n",
              " ('как', 'NNP'),\n",
              " ('она', 'NNP'),\n",
              " ('«', 'NNP'),\n",
              " ('исчезла', 'NNP'),\n",
              " ('»', 'NNP')]"
            ]
          },
          "metadata": {},
          "execution_count": 19
        }
      ]
    },
    {
      "cell_type": "markdown",
      "source": [
        "С помощью функции nltk.ne_chunk () (уже оттренированный классификатор) мы можем распознавать именованные сущности с помощью классификатора, который добавляет метки категорий, такие как PERSON, ORGANIZATION и GPE."
      ],
      "metadata": {
        "id": "S4S08NWHAiMG"
      }
    },
    {
      "cell_type": "code",
      "source": [
        "{(' '.join(c[0] for c in chunk), chunk.label() ) for chunk in nltk.ne_chunk(nltk.pos_tag(words5[:50000])) if hasattr(chunk, 'label') }"
      ],
      "metadata": {
        "id": "5EwFIAmsAjUj"
      },
      "execution_count": null,
      "outputs": []
    },
    {
      "cell_type": "code",
      "source": [
        "# возьмем одну небольшую статью и посмотрим разные NER\n",
        "test_doc = articals[0]"
      ],
      "metadata": {
        "id": "OrTUyYEebqwU"
      },
      "execution_count": null,
      "outputs": []
    },
    {
      "cell_type": "code",
      "source": [
        "{(' '.join(c[0] for c in chunk), chunk.label() ) for chunk in nltk.ne_chunk(nltk.pos_tag(nltk.word_tokenize(test_doc))) if hasattr(chunk, 'label') }"
      ],
      "metadata": {
        "colab": {
          "base_uri": "https://localhost:8080/"
        },
        "id": "OS1-XElCbRMr",
        "outputId": "cf5a046c-837d-457f-d542-8ed5117c7907"
      },
      "execution_count": null,
      "outputs": [
        {
          "output_type": "execute_result",
          "data": {
            "text/plain": [
              "{('Блэнкет', 'PERSON'),\n",
              " ('Джексон', 'PERSON'),\n",
              " ('Документы', 'PERSON'),\n",
              " ('Жермен Джексон', 'PERSON'),\n",
              " ('Кэтрин', 'PERSON'),\n",
              " ('Кэтрин Джексон', 'PERSON'),\n",
              " ('Кэтрин Жермен Джексон', 'PERSON'),\n",
              " ('Майкла Джексона', 'ORGANIZATION'),\n",
              " ('Майкла Джексона', 'PERSON'),\n",
              " ('Майкла Джексона Кэтрин', 'PERSON'),\n",
              " ('Мать', 'PERSON'),\n",
              " ('Накануне', 'PERSON'),\n",
              " ('Новости', 'PERSON'),\n",
              " ('Принс', 'PERSON'),\n",
              " ('Пэрис', 'PERSON'),\n",
              " ('Ранее', 'PERSON'),\n",
              " ('ТиДжей', 'ORGANIZATION'),\n",
              " ('Тито Джексона', 'PERSON'),\n",
              " ('Тусоне', 'GPE')}"
            ]
          },
          "metadata": {},
          "execution_count": 16
        }
      ]
    },
    {
      "cell_type": "markdown",
      "source": [
        "#Spacy"
      ],
      "metadata": {
        "id": "qHkL4fqVHrB5"
      }
    },
    {
      "cell_type": "code",
      "source": [
        "!pip -q install spacy\n",
        "!python -m spacy download en\n",
        "!python -m spacy download en_core_web_sm"
      ],
      "metadata": {
        "id": "i0ZnQwmMHtgy"
      },
      "execution_count": null,
      "outputs": []
    },
    {
      "cell_type": "code",
      "source": [
        "!pip install -U spacy\n",
        "!python -m spacy info"
      ],
      "metadata": {
        "id": "lGvDnQHSH_Kj"
      },
      "execution_count": null,
      "outputs": []
    },
    {
      "cell_type": "code",
      "source": [
        "import spacy\n",
        "from spacy import displacy\n",
        "from spacy.lang.ru import Russian\n",
        "\n",
        "#nlp = Russian()\n",
        "#ny_bb = url_to_string('https://www.nytimes.com/2018/08/13/us/politics/peter-strzok-fired-fbi.html?hp&action=click&pgtype=Homepage&clickSource=story-heading&module=first-column-region&region=top-news&WT.nav=top-news')\n",
        "#article = nlp(rec.text)\n"
      ],
      "metadata": {
        "id": "tjp50_F1IE7H"
      },
      "execution_count": null,
      "outputs": []
    },
    {
      "cell_type": "code",
      "source": [
        "!python -m spacy download ru_core_news_md"
      ],
      "metadata": {
        "id": "_hx5TbCGZxjc"
      },
      "execution_count": null,
      "outputs": []
    },
    {
      "cell_type": "code",
      "source": [
        "import ru_core_news_md\n",
        "nlp = ru_core_news_md.load()"
      ],
      "metadata": {
        "id": "Dg1WTtb4Z4o-"
      },
      "execution_count": null,
      "outputs": []
    },
    {
      "cell_type": "code",
      "source": [
        "doc = nlp(test_doc)\n",
        "for ent in doc.ents:\n",
        "    print(ent.text, ent.label_)"
      ],
      "metadata": {
        "colab": {
          "base_uri": "https://localhost:8080/"
        },
        "id": "Raww28JFKn0h",
        "outputId": "e2f6a1d1-d11f-49e7-ae2f-d93af2a1c596"
      },
      "execution_count": null,
      "outputs": [
        {
          "output_type": "stream",
          "name": "stdout",
          "text": [
            "Майкла Джексона PER\n",
            "Майкла Джексона Кэтрин PER\n",
            "РИА Новости ORG\n",
            "Ассошиэйтед Пресс PER\n",
            "Документы PER\n",
            "Кэтрин PER\n",
            "Майкла Джексона PER\n",
            "Кэтрин Джексон PER\n",
            "Калифорни LOC\n",
            "Жермен Джексон PER\n",
            "Ребби PER\n",
            "Аризона LOC\n",
            "Калифорнии LOC\n",
            "Кэтрин PER\n",
            "Блэнкет LOC\n",
            "Принс PER\n",
            "Пэрис PER\n",
            "ТиДжей (TJ) PER\n",
            "Тито Джексона PER\n",
            "Кэтрин PER\n",
            "Майкла Джексона PER\n",
            "Тусон LOC\n",
            "Аризона LOC\n",
            "США LOC\n",
            "Кэтрин PER\n",
            "Калифорнии LOC\n",
            "Тусоне LOC\n",
            "Кэтрин PER\n",
            "Принс PER\n",
            "Пэрис PER\n",
            "Блэнкет PER\n",
            "Кэтрин PER\n",
            "Майкла Джексона PER\n",
            "Кэтрин PER\n",
            "СМИ ORG\n",
            "Джексона PER\n",
            "Ассошиэйтед Пресс PER\n",
            "Кэтрин Жермен Джексон PER\n",
            "Майкл Джексон PER\n"
          ]
        }
      ]
    },
    {
      "cell_type": "code",
      "source": [
        "for named_entity in doc.ents:\n",
        "    if named_entity.label_ == \"PER\":\n",
        "        print(named_entity)"
      ],
      "metadata": {
        "colab": {
          "base_uri": "https://localhost:8080/"
        },
        "id": "AUQc8vlJcd3e",
        "outputId": "633652ea-6744-4c14-f044-c85f3c3c7816"
      },
      "execution_count": null,
      "outputs": [
        {
          "output_type": "stream",
          "name": "stdout",
          "text": [
            "Майкла Джексона\n",
            "Майкла Джексона Кэтрин\n",
            "Ассошиэйтед Пресс\n",
            "Документы\n",
            "Кэтрин\n",
            "Майкла Джексона\n",
            "Кэтрин Джексон\n",
            "Жермен Джексон\n",
            "Ребби\n",
            "Кэтрин\n",
            "Принс\n",
            "Пэрис\n",
            "ТиДжей (TJ)\n",
            "Тито Джексона\n",
            "Кэтрин\n",
            "Майкла Джексона\n",
            "Кэтрин\n",
            "Кэтрин\n",
            "Принс\n",
            "Пэрис\n",
            "Блэнкет\n",
            "Кэтрин\n",
            "Майкла Джексона\n",
            "Кэтрин\n",
            "Джексона\n",
            "Ассошиэйтед Пресс\n",
            "Кэтрин Жермен Джексон\n",
            "Майкл Джексон\n"
          ]
        }
      ]
    },
    {
      "cell_type": "code",
      "source": [
        "displacy.render(doc, jupyter=True, style='ent')"
      ],
      "metadata": {
        "colab": {
          "base_uri": "https://localhost:8080/",
          "height": 1000
        },
        "id": "4xFUS3_GaJWc",
        "outputId": "c2f5f2f1-5f05-4977-8ab9-a8fc85d4defc"
      },
      "execution_count": null,
      "outputs": [
        {
          "output_type": "display_data",
          "data": {
            "text/plain": [
              "<IPython.core.display.HTML object>"
            ],
            "text/html": [
              "<span class=\"tex2jax_ignore\"><div class=\"entities\" style=\"line-height: 2.5; direction: ltr\">Мать \n",
              "<mark class=\"entity\" style=\"background: #ddd; padding: 0.45em 0.6em; margin: 0 0.25em; line-height: 1; border-radius: 0.35em;\">\n",
              "    Майкла Джексона\n",
              "    <span style=\"font-size: 0.8em; font-weight: bold; line-height: 1; border-radius: 0.35em; vertical-align: middle; margin-left: 0.5rem\">PER</span>\n",
              "</mark>\n",
              " рассказала, как она «исчезла» на несколько дней\r</br>\r</br>Мать скончавшегося в 2009 году &quot;короля поп-музыки&quot; \n",
              "<mark class=\"entity\" style=\"background: #ddd; padding: 0.45em 0.6em; margin: 0 0.25em; line-height: 1; border-radius: 0.35em;\">\n",
              "    Майкла Джексона Кэтрин\n",
              "    <span style=\"font-size: 0.8em; font-weight: bold; line-height: 1; border-radius: 0.35em; vertical-align: middle; margin-left: 0.5rem\">PER</span>\n",
              "</mark>\n",
              ", которая две недели назад &quot;пропала&quot; и обнаружилась лишь через десять дней, сообщила, что родственники преднамеренно лишили ее связи с внешним миром, передает \n",
              "<mark class=\"entity\" style=\"background: #7aecec; padding: 0.45em 0.6em; margin: 0 0.25em; line-height: 1; border-radius: 0.35em;\">\n",
              "    РИА Новости\n",
              "    <span style=\"font-size: 0.8em; font-weight: bold; line-height: 1; border-radius: 0.35em; vertical-align: middle; margin-left: 0.5rem\">ORG</span>\n",
              "</mark>\n",
              " со ссылкой на агентство \n",
              "<mark class=\"entity\" style=\"background: #ddd; padding: 0.45em 0.6em; margin: 0 0.25em; line-height: 1; border-radius: 0.35em;\">\n",
              "    Ассошиэйтед Пресс\n",
              "    <span style=\"font-size: 0.8em; font-weight: bold; line-height: 1; border-radius: 0.35em; vertical-align: middle; margin-left: 0.5rem\">PER</span>\n",
              "</mark>\n",
              ", которое приводит данные судебных документов.\r</br>\r</br>\n",
              "<mark class=\"entity\" style=\"background: #ddd; padding: 0.45em 0.6em; margin: 0 0.25em; line-height: 1; border-radius: 0.35em;\">\n",
              "    Документы\n",
              "    <span style=\"font-size: 0.8em; font-weight: bold; line-height: 1; border-radius: 0.35em; vertical-align: middle; margin-left: 0.5rem\">PER</span>\n",
              "</mark>\n",
              ", в которых \n",
              "<mark class=\"entity\" style=\"background: #ddd; padding: 0.45em 0.6em; margin: 0 0.25em; line-height: 1; border-radius: 0.35em;\">\n",
              "    Кэтрин\n",
              "    <span style=\"font-size: 0.8em; font-weight: bold; line-height: 1; border-radius: 0.35em; vertical-align: middle; margin-left: 0.5rem\">PER</span>\n",
              "</mark>\n",
              " рассказала об этом, были прикреплены к официальному запросу в суд о восстановлении ее права на опеку троих детей \n",
              "<mark class=\"entity\" style=\"background: #ddd; padding: 0.45em 0.6em; margin: 0 0.25em; line-height: 1; border-radius: 0.35em;\">\n",
              "    Майкла Джексона\n",
              "    <span style=\"font-size: 0.8em; font-weight: bold; line-height: 1; border-radius: 0.35em; vertical-align: middle; margin-left: 0.5rem\">PER</span>\n",
              "</mark>\n",
              ".\r</br>\r</br>Ранее, 22 июля, представитель \n",
              "<mark class=\"entity\" style=\"background: #ddd; padding: 0.45em 0.6em; margin: 0 0.25em; line-height: 1; border-radius: 0.35em;\">\n",
              "    Кэтрин Джексон\n",
              "    <span style=\"font-size: 0.8em; font-weight: bold; line-height: 1; border-radius: 0.35em; vertical-align: middle; margin-left: 0.5rem\">PER</span>\n",
              "</mark>\n",
              " подала в полицию \n",
              "<mark class=\"entity\" style=\"background: #ff9561; padding: 0.45em 0.6em; margin: 0 0.25em; line-height: 1; border-radius: 0.35em;\">\n",
              "    Калифорни\n",
              "    <span style=\"font-size: 0.8em; font-weight: bold; line-height: 1; border-radius: 0.35em; vertical-align: middle; margin-left: 0.5rem\">LOC</span>\n",
              "</mark>\n",
              " заявление о пропаже ее клиента. Однако вскоре брат &quot;короля поп-музыки&quot; \n",
              "<mark class=\"entity\" style=\"background: #ddd; padding: 0.45em 0.6em; margin: 0 0.25em; line-height: 1; border-radius: 0.35em;\">\n",
              "    Жермен Джексон\n",
              "    <span style=\"font-size: 0.8em; font-weight: bold; line-height: 1; border-radius: 0.35em; vertical-align: middle; margin-left: 0.5rem\">PER</span>\n",
              "</mark>\n",
              " заявил, что врачи просто предписали его 82-летней матери покой. Именно поэтому женщина вместе со своей старшей дочерью \n",
              "<mark class=\"entity\" style=\"background: #ddd; padding: 0.45em 0.6em; margin: 0 0.25em; line-height: 1; border-radius: 0.35em;\">\n",
              "    Ребби\n",
              "    <span style=\"font-size: 0.8em; font-weight: bold; line-height: 1; border-radius: 0.35em; vertical-align: middle; margin-left: 0.5rem\">PER</span>\n",
              "</mark>\n",
              " отправилась отдыхать на спа-курорт в штате \n",
              "<mark class=\"entity\" style=\"background: #ff9561; padding: 0.45em 0.6em; margin: 0 0.25em; line-height: 1; border-radius: 0.35em;\">\n",
              "    Аризона\n",
              "    <span style=\"font-size: 0.8em; font-weight: bold; line-height: 1; border-radius: 0.35em; vertical-align: middle; margin-left: 0.5rem\">LOC</span>\n",
              "</mark>\n",
              ", где отключила мобильные телефоны и другие электронные устройства.\r</br>\r</br>Через четыре дня суд \n",
              "<mark class=\"entity\" style=\"background: #ff9561; padding: 0.45em 0.6em; margin: 0 0.25em; line-height: 1; border-radius: 0.35em;\">\n",
              "    Калифорнии\n",
              "    <span style=\"font-size: 0.8em; font-weight: bold; line-height: 1; border-radius: 0.35em; vertical-align: middle; margin-left: 0.5rem\">LOC</span>\n",
              "</mark>\n",
              " лишил \n",
              "<mark class=\"entity\" style=\"background: #ddd; padding: 0.45em 0.6em; margin: 0 0.25em; line-height: 1; border-radius: 0.35em;\">\n",
              "    Кэтрин\n",
              "    <span style=\"font-size: 0.8em; font-weight: bold; line-height: 1; border-radius: 0.35em; vertical-align: middle; margin-left: 0.5rem\">PER</span>\n",
              "</mark>\n",
              " опекунства над \n",
              "<mark class=\"entity\" style=\"background: #ff9561; padding: 0.45em 0.6em; margin: 0 0.25em; line-height: 1; border-radius: 0.35em;\">\n",
              "    Блэнкет\n",
              "    <span style=\"font-size: 0.8em; font-weight: bold; line-height: 1; border-radius: 0.35em; vertical-align: middle; margin-left: 0.5rem\">LOC</span>\n",
              "</mark>\n",
              ", \n",
              "<mark class=\"entity\" style=\"background: #ddd; padding: 0.45em 0.6em; margin: 0 0.25em; line-height: 1; border-radius: 0.35em;\">\n",
              "    Принс\n",
              "    <span style=\"font-size: 0.8em; font-weight: bold; line-height: 1; border-radius: 0.35em; vertical-align: middle; margin-left: 0.5rem\">PER</span>\n",
              "</mark>\n",
              " и \n",
              "<mark class=\"entity\" style=\"background: #ddd; padding: 0.45em 0.6em; margin: 0 0.25em; line-height: 1; border-radius: 0.35em;\">\n",
              "    Пэрис\n",
              "    <span style=\"font-size: 0.8em; font-weight: bold; line-height: 1; border-radius: 0.35em; vertical-align: middle; margin-left: 0.5rem\">PER</span>\n",
              "</mark>\n",
              ", после того как дети, жившие с момента кончины отца с бабушкой, в течение десяти дней не могли с ней связаться. Тогда же временным опекуном детей был назначен 34-летний \n",
              "<mark class=\"entity\" style=\"background: #ddd; padding: 0.45em 0.6em; margin: 0 0.25em; line-height: 1; border-radius: 0.35em;\">\n",
              "    ТиДжей (TJ)\n",
              "    <span style=\"font-size: 0.8em; font-weight: bold; line-height: 1; border-radius: 0.35em; vertical-align: middle; margin-left: 0.5rem\">PER</span>\n",
              "</mark>\n",
              ", сын \n",
              "<mark class=\"entity\" style=\"background: #ddd; padding: 0.45em 0.6em; margin: 0 0.25em; line-height: 1; border-radius: 0.35em;\">\n",
              "    Тито Джексона\n",
              "    <span style=\"font-size: 0.8em; font-weight: bold; line-height: 1; border-radius: 0.35em; vertical-align: middle; margin-left: 0.5rem\">PER</span>\n",
              "</mark>\n",
              ", который приходится знаменитому певцу старшим братом. Накануне, в четверг, это же суд принял решение восстановить право \n",
              "<mark class=\"entity\" style=\"background: #ddd; padding: 0.45em 0.6em; margin: 0 0.25em; line-height: 1; border-radius: 0.35em;\">\n",
              "    Кэтрин\n",
              "    <span style=\"font-size: 0.8em; font-weight: bold; line-height: 1; border-radius: 0.35em; vertical-align: middle; margin-left: 0.5rem\">PER</span>\n",
              "</mark>\n",
              " на опекунство над внуками.\r</br>\r</br>По словам самой матери \n",
              "<mark class=\"entity\" style=\"background: #ddd; padding: 0.45em 0.6em; margin: 0 0.25em; line-height: 1; border-radius: 0.35em;\">\n",
              "    Майкла Джексона\n",
              "    <span style=\"font-size: 0.8em; font-weight: bold; line-height: 1; border-radius: 0.35em; vertical-align: middle; margin-left: 0.5rem\">PER</span>\n",
              "</mark>\n",
              ", ей передали, что ее доктор якобы рекомендует ей покой, поэтому родственники отвезли ее в один из санаториев города \n",
              "<mark class=\"entity\" style=\"background: #ff9561; padding: 0.45em 0.6em; margin: 0 0.25em; line-height: 1; border-radius: 0.35em;\">\n",
              "    Тусон\n",
              "    <span style=\"font-size: 0.8em; font-weight: bold; line-height: 1; border-radius: 0.35em; vertical-align: middle; margin-left: 0.5rem\">LOC</span>\n",
              "</mark>\n",
              " (штата \n",
              "<mark class=\"entity\" style=\"background: #ff9561; padding: 0.45em 0.6em; margin: 0 0.25em; line-height: 1; border-radius: 0.35em;\">\n",
              "    Аризона\n",
              "    <span style=\"font-size: 0.8em; font-weight: bold; line-height: 1; border-radius: 0.35em; vertical-align: middle; margin-left: 0.5rem\">LOC</span>\n",
              "</mark>\n",
              "). Эта поездка была для нее незапланированной, так как она собралась присоединиться к братьям знаменитого певца, которые ездили с гастролями по городам \n",
              "<mark class=\"entity\" style=\"background: #ff9561; padding: 0.45em 0.6em; margin: 0 0.25em; line-height: 1; border-radius: 0.35em;\">\n",
              "    США\n",
              "    <span style=\"font-size: 0.8em; font-weight: bold; line-height: 1; border-radius: 0.35em; vertical-align: middle; margin-left: 0.5rem\">LOC</span>\n",
              "</mark>\n",
              ".\r</br>\r</br>В номере санатория, куда поселили \n",
              "<mark class=\"entity\" style=\"background: #ddd; padding: 0.45em 0.6em; margin: 0 0.25em; line-height: 1; border-radius: 0.35em;\">\n",
              "    Кэтрин\n",
              "    <span style=\"font-size: 0.8em; font-weight: bold; line-height: 1; border-radius: 0.35em; vertical-align: middle; margin-left: 0.5rem\">PER</span>\n",
              "</mark>\n",
              ", у которой, по ее словам, забрали мобильный телефон и планшетный компьютер, не работал стационарный телефон, а телевизор не воспроизводил картинку. Но несмотря на это, одним утром она услышала в новостной программе, что в полицию \n",
              "<mark class=\"entity\" style=\"background: #ff9561; padding: 0.45em 0.6em; margin: 0 0.25em; line-height: 1; border-radius: 0.35em;\">\n",
              "    Калифорнии\n",
              "    <span style=\"font-size: 0.8em; font-weight: bold; line-height: 1; border-radius: 0.35em; vertical-align: middle; margin-left: 0.5rem\">LOC</span>\n",
              "</mark>\n",
              " поступило заявление о ее пропаже.\r</br>\r</br>Находясь в \n",
              "<mark class=\"entity\" style=\"background: #ff9561; padding: 0.45em 0.6em; margin: 0 0.25em; line-height: 1; border-radius: 0.35em;\">\n",
              "    Тусоне\n",
              "    <span style=\"font-size: 0.8em; font-weight: bold; line-height: 1; border-radius: 0.35em; vertical-align: middle; margin-left: 0.5rem\">LOC</span>\n",
              "</mark>\n",
              ", \n",
              "<mark class=\"entity\" style=\"background: #ddd; padding: 0.45em 0.6em; margin: 0 0.25em; line-height: 1; border-radius: 0.35em;\">\n",
              "    Кэтрин\n",
              "    <span style=\"font-size: 0.8em; font-weight: bold; line-height: 1; border-radius: 0.35em; vertical-align: middle; margin-left: 0.5rem\">PER</span>\n",
              "</mark>\n",
              " не знала, что ее внуки не могут с ней связаться и поэтому очень обеспокоены.\r</br>\r</br>&quot;Пока меня не было (с внуками), у меня было причин сомневаться в том, скажут ли мне люди, которым я доверяла, о том, что \n",
              "<mark class=\"entity\" style=\"background: #ddd; padding: 0.45em 0.6em; margin: 0 0.25em; line-height: 1; border-radius: 0.35em;\">\n",
              "    Принс\n",
              "    <span style=\"font-size: 0.8em; font-weight: bold; line-height: 1; border-radius: 0.35em; vertical-align: middle; margin-left: 0.5rem\">PER</span>\n",
              "</mark>\n",
              ", \n",
              "<mark class=\"entity\" style=\"background: #ddd; padding: 0.45em 0.6em; margin: 0 0.25em; line-height: 1; border-radius: 0.35em;\">\n",
              "    Пэрис\n",
              "    <span style=\"font-size: 0.8em; font-weight: bold; line-height: 1; border-radius: 0.35em; vertical-align: middle; margin-left: 0.5rem\">PER</span>\n",
              "</mark>\n",
              " и \n",
              "<mark class=\"entity\" style=\"background: #ddd; padding: 0.45em 0.6em; margin: 0 0.25em; line-height: 1; border-radius: 0.35em;\">\n",
              "    Блэнкет\n",
              "    <span style=\"font-size: 0.8em; font-weight: bold; line-height: 1; border-radius: 0.35em; vertical-align: middle; margin-left: 0.5rem\">PER</span>\n",
              "</mark>\n",
              " пытаются найти меня&quot;, - сказала \n",
              "<mark class=\"entity\" style=\"background: #ddd; padding: 0.45em 0.6em; margin: 0 0.25em; line-height: 1; border-radius: 0.35em;\">\n",
              "    Кэтрин\n",
              "    <span style=\"font-size: 0.8em; font-weight: bold; line-height: 1; border-radius: 0.35em; vertical-align: middle; margin-left: 0.5rem\">PER</span>\n",
              "</mark>\n",
              ". Когда она спрашивала, все ли хорошо с детьми, ей отвечали, что они в полном порядке.\r</br>\r</br>В последнее время среди многочисленных родственников &quot;короля поп-музыки&quot; разгорелся скандал относительно наследства. Официальным и единственным наследником, согласно завещанию \n",
              "<mark class=\"entity\" style=\"background: #ddd; padding: 0.45em 0.6em; margin: 0 0.25em; line-height: 1; border-radius: 0.35em;\">\n",
              "    Майкла Джексона\n",
              "    <span style=\"font-size: 0.8em; font-weight: bold; line-height: 1; border-radius: 0.35em; vertical-align: middle; margin-left: 0.5rem\">PER</span>\n",
              "</mark>\n",
              ", стала \n",
              "<mark class=\"entity\" style=\"background: #ddd; padding: 0.45em 0.6em; margin: 0 0.25em; line-height: 1; border-radius: 0.35em;\">\n",
              "    Кэтрин\n",
              "    <span style=\"font-size: 0.8em; font-weight: bold; line-height: 1; border-radius: 0.35em; vertical-align: middle; margin-left: 0.5rem\">PER</span>\n",
              "</mark>\n",
              ". Однако некоторые братья и сестры певца недавно подписали попавшее впоследствии в распоряжение \n",
              "<mark class=\"entity\" style=\"background: #7aecec; padding: 0.45em 0.6em; margin: 0 0.25em; line-height: 1; border-radius: 0.35em;\">\n",
              "    СМИ\n",
              "    <span style=\"font-size: 0.8em; font-weight: bold; line-height: 1; border-radius: 0.35em; vertical-align: middle; margin-left: 0.5rem\">ORG</span>\n",
              "</mark>\n",
              " письмо, в котором они утверждали, что завещание \n",
              "<mark class=\"entity\" style=\"background: #ddd; padding: 0.45em 0.6em; margin: 0 0.25em; line-height: 1; border-radius: 0.35em;\">\n",
              "    Джексона\n",
              "    <span style=\"font-size: 0.8em; font-weight: bold; line-height: 1; border-radius: 0.35em; vertical-align: middle; margin-left: 0.5rem\">PER</span>\n",
              "</mark>\n",
              " поддельное.\r</br>\r</br>В минувшую среду, как передает \n",
              "<mark class=\"entity\" style=\"background: #ddd; padding: 0.45em 0.6em; margin: 0 0.25em; line-height: 1; border-radius: 0.35em;\">\n",
              "    Ассошиэйтед Пресс\n",
              "    <span style=\"font-size: 0.8em; font-weight: bold; line-height: 1; border-radius: 0.35em; vertical-align: middle; margin-left: 0.5rem\">PER</span>\n",
              "</mark>\n",
              ", другой сын \n",
              "<mark class=\"entity\" style=\"background: #ddd; padding: 0.45em 0.6em; margin: 0 0.25em; line-height: 1; border-radius: 0.35em;\">\n",
              "    Кэтрин Жермен Джексон\n",
              "    <span style=\"font-size: 0.8em; font-weight: bold; line-height: 1; border-radius: 0.35em; vertical-align: middle; margin-left: 0.5rem\">PER</span>\n",
              "</mark>\n",
              ", который сначала подписал это письмо, однако позже отказался от этого, призвал все семейство преодолеть распри, так как его мать пережила огромный стресс и давление с момента смерти &quot;поп-короля&quot;.\r</br>\r</br>\n",
              "<mark class=\"entity\" style=\"background: #ddd; padding: 0.45em 0.6em; margin: 0 0.25em; line-height: 1; border-radius: 0.35em;\">\n",
              "    Майкл Джексон\n",
              "    <span style=\"font-size: 0.8em; font-weight: bold; line-height: 1; border-radius: 0.35em; vertical-align: middle; margin-left: 0.5rem\">PER</span>\n",
              "</mark>\n",
              " скончался 25 июня 2009 года на 51-м году жизни от передозировки сильнодействующими снотворными препаратами.</div></span>"
            ]
          },
          "metadata": {}
        }
      ]
    },
    {
      "cell_type": "markdown",
      "source": [
        "# deeppavlov"
      ],
      "metadata": {
        "id": "iWQQABbdhKmW"
      }
    },
    {
      "cell_type": "code",
      "source": [
        "#!python -m venv env \n",
        "# #.\\env\\Scripts\\activate.bat\n",
        "#!pip install deeppavlov\n",
        "#!python -m deeppavlov install squad_bert\n",
        "#!python -m deeppavlov install ner_ontonotes"
      ],
      "metadata": {
        "id": "qXiZL9t_c2P8"
      },
      "execution_count": null,
      "outputs": []
    },
    {
      "cell_type": "code",
      "source": [
        "'''import deeppavlov\n",
        "from deeppavlov import configs, build_model\n",
        "deeppavlov_ner = build_model(configs.ner, download=True)\n",
        "rus_document = \"Нью-Йорк, США, 30 апреля 2020, 01:01 — REGNUM В администрации президента США Дональда Трампа планируют пройти все этапы создания вакцины от коронавируса в ускоренном темпе и выпустить 100 млн доз до конца 2020 года, передаёт агентство Bloomberg со ссылкой на осведомлённые источники\"\n",
        "deeppavlov_ner([rus_document])'''"
      ],
      "metadata": {
        "id": "rAFSMWkEhQpN"
      },
      "execution_count": null,
      "outputs": []
    },
    {
      "cell_type": "code",
      "source": [
        "!pip install deeppavlov"
      ],
      "metadata": {
        "id": "oGW-j-uvilJ3"
      },
      "execution_count": null,
      "outputs": []
    },
    {
      "cell_type": "code",
      "source": [
        "!python -m deeppavlov install ner_rus_bert_torch"
      ],
      "metadata": {
        "id": "Rk1sSkLfk43-"
      },
      "execution_count": null,
      "outputs": []
    },
    {
      "cell_type": "code",
      "source": [
        "from deeppavlov import configs, build_model\n",
        "\n",
        "ner_model = build_model(configs.ner.ner_rus_bert_torch, download=True)\n",
        "\n",
        "# [[['Bob', 'Ross', 'lived', 'in', 'Florida']], [['B-PERSON', 'I-PERSON', 'O', 'O', 'B-GPE']]]"
      ],
      "metadata": {
        "id": "QhqFUF4XlyRU"
      },
      "execution_count": null,
      "outputs": []
    },
    {
      "cell_type": "code",
      "source": [
        "# в модели ограничение стоит на количество токенов 512, это неудобно, нужно резать данные на предложения\n",
        "dpavlov_tags = ner_model([test_doc[:512]])\n",
        "print(dpavlov_tags)"
      ],
      "metadata": {
        "colab": {
          "base_uri": "https://localhost:8080/"
        },
        "id": "vQN0DaF7rij6",
        "outputId": "5c5421db-e812-4cd3-aa7c-f4fd4e0cb222"
      },
      "execution_count": null,
      "outputs": [
        {
          "output_type": "stream",
          "name": "stdout",
          "text": [
            "[[['Мать', 'Майкла', 'Джексона', 'рассказала', ',', 'как', 'она', '«', 'исчезла', '»', 'на', 'несколько', 'дней', '\\r', '\\n', '\\r', '\\n', 'Мать', 'скончавшегося', 'в', '2009', 'году', '\"', 'короля', 'поп', '-', 'музыки', '\"', 'Майкла', 'Джексона', 'Кэтрин', ',', 'которая', 'две', 'недели', 'назад', '\"', 'пропала', '\"', 'и', 'обнаружилась', 'лишь', 'через', 'десять', 'дней', ',', 'сообщила', ',', 'что', 'родственники', 'преднамеренно', 'лишили', 'ее', 'связи', 'с', 'внешним', 'миром', ',', 'передает', 'РИА', 'Новости', 'со', 'ссылкой', 'на', 'агентство', 'Ассошиэйтед', 'Пресс', ',', 'которое', 'приводит', 'данные', 'судебных', 'документов', '.', '\\r', '\\n', '\\r', '\\n', 'Документы', ',', 'в', 'которых', 'Кэтрин', 'рассказала', 'об', 'этом', ',', 'были', 'прикреплены', 'к', 'официальному', 'запросу', 'в', 'суд', 'о', 'восстанов']], [['O', 'B-PER', 'I-PER', 'O', 'O', 'O', 'O', 'O', 'O', 'O', 'O', 'O', 'O', 'O', 'O', 'O', 'O', 'O', 'O', 'O', 'O', 'O', 'O', 'O', 'O', 'O', 'O', 'O', 'B-PER', 'I-PER', 'B-PER', 'O', 'O', 'O', 'O', 'O', 'O', 'O', 'O', 'O', 'O', 'O', 'O', 'O', 'O', 'O', 'O', 'O', 'O', 'O', 'O', 'O', 'O', 'O', 'O', 'O', 'O', 'O', 'O', 'B-ORG', 'I-ORG', 'O', 'O', 'O', 'O', 'B-ORG', 'I-ORG', 'O', 'O', 'O', 'O', 'O', 'O', 'O', 'O', 'O', 'O', 'O', 'O', 'O', 'O', 'O', 'B-PER', 'O', 'O', 'O', 'O', 'O', 'O', 'O', 'O', 'O', 'O', 'O', 'O', 'O']]]\n"
          ]
        }
      ]
    },
    {
      "cell_type": "code",
      "source": [
        "len(dpavlov_tags[1][0]), len(dpavlov_tags[0][0])"
      ],
      "metadata": {
        "colab": {
          "base_uri": "https://localhost:8080/"
        },
        "id": "0jqeRVAjchyR",
        "outputId": "3c471f56-59e6-421a-fafa-1105c6d048f2"
      },
      "execution_count": null,
      "outputs": [
        {
          "output_type": "execute_result",
          "data": {
            "text/plain": [
              "(96, 96)"
            ]
          },
          "metadata": {},
          "execution_count": 70
        }
      ]
    },
    {
      "cell_type": "code",
      "source": [
        "dpavlov_tags[0][0][95], dpavlov_tags[1][0][95]"
      ],
      "metadata": {
        "colab": {
          "base_uri": "https://localhost:8080/"
        },
        "id": "w7pgt1nxfSeS",
        "outputId": "e9c3749e-3c30-4d1f-d384-3b185da86c73"
      },
      "execution_count": null,
      "outputs": [
        {
          "output_type": "execute_result",
          "data": {
            "text/plain": [
              "('восстанов', 'O')"
            ]
          },
          "metadata": {},
          "execution_count": 77
        }
      ]
    },
    {
      "cell_type": "code",
      "source": [
        "for i in range(len(dpavlov_tags[0][0])):\n",
        "  print(dpavlov_tags[0][0][i], dpavlov_tags[1][0][i])\n",
        "  "
      ],
      "metadata": {
        "colab": {
          "base_uri": "https://localhost:8080/"
        },
        "id": "S5mdsh_tsAB7",
        "outputId": "8cf4da31-05b6-4759-8f37-71364451a8e1"
      },
      "execution_count": null,
      "outputs": [
        {
          "output_type": "stream",
          "name": "stdout",
          "text": [
            "Мать O\n",
            "Майкла B-PER\n",
            "Джексона I-PER\n",
            "рассказала O\n",
            ", O\n",
            "как O\n",
            "она O\n",
            "« O\n",
            "исчезла O\n",
            "» O\n",
            "на O\n",
            "несколько O\n",
            "дней O\n",
            "\r O\n",
            "\n",
            " O\n",
            "\r O\n",
            "\n",
            " O\n",
            "Мать O\n",
            "скончавшегося O\n",
            "в O\n",
            "2009 O\n",
            "году O\n",
            "\" O\n",
            "короля O\n",
            "поп O\n",
            "- O\n",
            "музыки O\n",
            "\" O\n",
            "Майкла B-PER\n",
            "Джексона I-PER\n",
            "Кэтрин B-PER\n",
            ", O\n",
            "которая O\n",
            "две O\n",
            "недели O\n",
            "назад O\n",
            "\" O\n",
            "пропала O\n",
            "\" O\n",
            "и O\n",
            "обнаружилась O\n",
            "лишь O\n",
            "через O\n",
            "десять O\n",
            "дней O\n",
            ", O\n",
            "сообщила O\n",
            ", O\n",
            "что O\n",
            "родственники O\n",
            "преднамеренно O\n",
            "лишили O\n",
            "ее O\n",
            "связи O\n",
            "с O\n",
            "внешним O\n",
            "миром O\n",
            ", O\n",
            "передает O\n",
            "РИА B-ORG\n",
            "Новости I-ORG\n",
            "со O\n",
            "ссылкой O\n",
            "на O\n",
            "агентство O\n",
            "Ассошиэйтед B-ORG\n",
            "Пресс I-ORG\n",
            ", O\n",
            "которое O\n",
            "приводит O\n",
            "данные O\n",
            "судебных O\n",
            "документов O\n",
            ". O\n",
            "\r O\n",
            "\n",
            " O\n",
            "\r O\n",
            "\n",
            " O\n",
            "Документы O\n",
            ", O\n",
            "в O\n",
            "которых O\n",
            "Кэтрин B-PER\n",
            "рассказала O\n",
            "об O\n",
            "этом O\n",
            ", O\n",
            "были O\n",
            "прикреплены O\n",
            "к O\n",
            "официальному O\n",
            "запросу O\n",
            "в O\n",
            "суд O\n",
            "о O\n",
            "восстанов O\n"
          ]
        }
      ]
    },
    {
      "cell_type": "code",
      "source": [
        "ner_model(['Bob Ross lived in Florida'])"
      ],
      "metadata": {
        "colab": {
          "base_uri": "https://localhost:8080/"
        },
        "id": "Q3-drqOWr10j",
        "outputId": "02067ac6-b12f-4f02-9318-fd037789632a"
      },
      "execution_count": null,
      "outputs": [
        {
          "output_type": "execute_result",
          "data": {
            "text/plain": [
              "[[['Bob', 'Ross', 'lived', 'in', 'Florida']],\n",
              " [['B-PER', 'I-PER', 'O', 'O', 'B-LOC']]]"
            ]
          },
          "metadata": {},
          "execution_count": 66
        }
      ]
    },
    {
      "cell_type": "code",
      "source": [
        "ner_model(['Боб жил во Флориде'])"
      ],
      "metadata": {
        "colab": {
          "base_uri": "https://localhost:8080/"
        },
        "id": "bJbsggI9r5Oq",
        "outputId": "6202e161-a591-4d3d-b093-b55b7d21a297"
      },
      "execution_count": null,
      "outputs": [
        {
          "output_type": "execute_result",
          "data": {
            "text/plain": [
              "[[['Боб', 'жил', 'во', 'Флориде']], [['B-PER', 'O', 'O', 'B-LOC']]]"
            ]
          },
          "metadata": {},
          "execution_count": 67
        }
      ]
    },
    {
      "cell_type": "markdown",
      "source": [
        "#Natasha"
      ],
      "metadata": {
        "id": "L0oUBF65jdAa"
      }
    },
    {
      "cell_type": "code",
      "execution_count": null,
      "metadata": {
        "id": "RAF3CCHJOv8j"
      },
      "outputs": [],
      "source": [
        "!pip install natasha"
      ]
    },
    {
      "cell_type": "code",
      "execution_count": null,
      "metadata": {
        "id": "PHGmg-adOv8j"
      },
      "outputs": [],
      "source": [
        "from natasha import (\n",
        "    Segmenter,\n",
        "    MorphVocab,\n",
        "    \n",
        "    NewsEmbedding,\n",
        "    NewsMorphTagger,\n",
        "    NewsSyntaxParser,\n",
        "    NewsNERTagger,\n",
        "    \n",
        "    PER,\n",
        "    NamesExtractor,\n",
        "\n",
        "    Doc\n",
        ")"
      ]
    },
    {
      "cell_type": "code",
      "execution_count": null,
      "metadata": {
        "id": "HxhDj4ZuOv8j"
      },
      "outputs": [],
      "source": [
        "segmenter = Segmenter()\n",
        "morph_vocab = MorphVocab()\n",
        "\n",
        "emb = NewsEmbedding()\n",
        "morph_tagger = NewsMorphTagger(emb)\n",
        "syntax_parser = NewsSyntaxParser(emb)\n",
        "ner_tagger = NewsNERTagger(emb)\n",
        "\n",
        "names_extractor = NamesExtractor(morph_vocab)\n",
        "\n",
        "#text = 'Посол Израиля на Украине Йоэль Лион признался, что пришел в шок, узнав о решении властей Львовской области объявить 2019 год годом лидера запрещенной в России Организации украинских националистов (ОУН) Степана Бандеры. Свое заявление он разместил в Twitter. «Я не могу понять, как прославление тех, кто непосредственно принимал участие в ужасных антисемитских преступлениях, помогает бороться с антисемитизмом и ксенофобией. Украина не должна забывать о преступлениях, совершенных против украинских евреев, и никоим образом не отмечать их через почитание их исполнителей», — написал дипломат. 11 декабря Львовский областной совет принял решение провозгласить 2019 год в регионе годом Степана Бандеры в связи с празднованием 110-летия со дня рождения лидера ОУН (Бандера родился 1 января 1909 года). В июле аналогичное решение принял Житомирский областной совет. В начале месяца с предложением к президенту страны Петру Порошенко вернуть Бандере звание Героя Украины обратились депутаты Верховной Рады. Парламентарии уверены, что признание Бандеры национальным героем поможет в борьбе с подрывной деятельностью против Украины в информационном поле, а также остановит «распространение мифов, созданных российской пропагандой». Степан Бандера (1909-1959) был одним из лидеров Организации украинских националистов, выступающей за создание независимого государства на территориях с украиноязычным населением. В 2010 году в период президентства Виктора Ющенко Бандера был посмертно признан Героем Украины, однако впоследствии это решение было отменено судом. '\n",
        "doc = Doc(test_doc)"
      ]
    },
    {
      "cell_type": "code",
      "execution_count": null,
      "metadata": {
        "id": "9lkideJQOv8k",
        "outputId": "3775027c-5b44-4927-db03-34ae59ba8bad",
        "colab": {
          "base_uri": "https://localhost:8080/",
          "height": 195
        }
      },
      "outputs": [
        {
          "output_type": "display_data",
          "data": {
            "text/plain": [
              "[DocToken(stop=4, text='Мать'),\n",
              " DocToken(start=5, stop=11, text='Майкла'),\n",
              " DocToken(start=12, stop=20, text='Джексона'),\n",
              " DocToken(start=21, stop=31, text='рассказала'),\n",
              " DocToken(start=31, stop=32, text=',')]"
            ]
          },
          "metadata": {}
        },
        {
          "output_type": "display_data",
          "data": {
            "text/plain": [
              "[DocSent(stop=403, text='Мать Майкла Джексона рассказала, как она «исчезла..., tokens=[...]),\n",
              " DocSent(start=407, stop=564, text='Документы, в которых Кэтрин рассказала об этом, б..., tokens=[...]),\n",
              " DocSent(start=568, stop=671, text='Ранее, 22 июля, представитель Кэтрин Джексон пода..., tokens=[...]),\n",
              " DocSent(start=672, stop=789, text='Однако вскоре брат \"короля поп-музыки\" Жермен Дже..., tokens=[...]),\n",
              " DocSent(start=790, stop=968, text='Именно поэтому женщина вместе со своей старшей до..., tokens=[...])]"
            ]
          },
          "metadata": {}
        }
      ],
      "source": [
        "doc.segment(segmenter)\n",
        "display(doc.tokens[:5])\n",
        "display(doc.sents[:5])"
      ]
    },
    {
      "cell_type": "code",
      "execution_count": null,
      "metadata": {
        "id": "NOLhCQWrOv8k",
        "outputId": "1e1fe64b-846c-426f-9379-7d8033f5b3d4",
        "colab": {
          "base_uri": "https://localhost:8080/"
        }
      },
      "outputs": [
        {
          "output_type": "stream",
          "name": "stdout",
          "text": [
            "                Мать NOUN|Animacy=Anim|Case=Nom|Gender=Fem|Number=Sing\n",
            "              Майкла PROPN|Animacy=Anim|Case=Gen|Gender=Masc|Number=Sing\n",
            "            Джексона PROPN|Animacy=Anim|Case=Gen|Gender=Masc|Number=Sing\n",
            "          рассказала VERB|Aspect=Perf|Gender=Fem|Mood=Ind|Number=Sing|Tense=Past|VerbForm=Fin|Voice=Act\n",
            "                   , PUNCT\n",
            "                 как SCONJ\n",
            "                 она PRON|Case=Nom|Gender=Fem|Number=Sing|Person=3\n",
            "                   « PUNCT\n",
            "             исчезла VERB|Aspect=Perf|Gender=Fem|Mood=Ind|Number=Sing|Tense=Past|VerbForm=Fin|Voice=Act\n",
            "                   » PUNCT\n",
            "                  на ADP\n",
            "           несколько NUM|Animacy=Inan|Case=Acc\n",
            "                дней NOUN|Animacy=Inan|Case=Gen|Gender=Masc|Number=Plur\n",
            "                Мать PROPN|Animacy=Anim|Case=Nom|Gender=Fem|Number=Sing\n",
            "       скончавшегося VERB|Aspect=Perf|Case=Gen|Gender=Masc|Number=Sing|Tense=Past|VerbForm=Part|Voice=Act\n",
            "                   в ADP\n",
            "                2009 ADJ\n",
            "                году NOUN|Animacy=Inan|Case=Loc|Gender=Masc|Number=Sing\n",
            "                   \" PUNCT\n",
            "              короля NOUN|Animacy=Anim|Case=Acc|Gender=Masc|Number=Sing\n",
            "          поп-музыки NOUN|Animacy=Inan|Case=Gen|Gender=Fem|Number=Sing\n",
            "                   \" PUNCT\n",
            "              Майкла PROPN|Animacy=Anim|Case=Gen|Gender=Masc|Number=Sing\n",
            "            Джексона PROPN|Animacy=Anim|Case=Gen|Gender=Masc|Number=Sing\n",
            "              Кэтрин PROPN|Animacy=Anim|Case=Gen|Gender=Fem|Number=Sing\n",
            "                   , PUNCT\n",
            "             которая PRON|Case=Nom|Gender=Fem|Number=Sing\n",
            "                 две NUM|Animacy=Inan|Case=Acc|Gender=Fem\n",
            "              недели NOUN|Animacy=Inan|Case=Gen|Gender=Fem|Number=Sing\n",
            "               назад ADV|Degree=Pos\n",
            "                   \" PUNCT\n",
            "             пропала VERB|Aspect=Perf|Gender=Fem|Mood=Ind|Number=Sing|Tense=Past|VerbForm=Fin|Voice=Act\n",
            "                   \" PUNCT\n",
            "                   и CCONJ\n",
            "        обнаружилась VERB|Aspect=Perf|Gender=Fem|Mood=Ind|Number=Sing|Tense=Past|VerbForm=Fin|Voice=Mid\n",
            "                лишь PART\n",
            "               через ADP\n",
            "              десять NUM|Case=Acc\n",
            "                дней NOUN|Animacy=Inan|Case=Gen|Gender=Masc|Number=Plur\n",
            "                   , PUNCT\n",
            "            сообщила VERB|Aspect=Perf|Gender=Fem|Mood=Ind|Number=Sing|Tense=Past|VerbForm=Fin|Voice=Act\n",
            "                   , PUNCT\n",
            "                 что SCONJ\n",
            "        родственники NOUN|Animacy=Anim|Case=Nom|Gender=Masc|Number=Plur\n",
            "       преднамеренно ADV|Degree=Pos\n",
            "              лишили VERB|Aspect=Perf|Mood=Ind|Number=Plur|Tense=Past|VerbForm=Fin|Voice=Act\n",
            "                  ее DET\n",
            "               связи NOUN|Animacy=Inan|Case=Gen|Gender=Fem|Number=Sing\n",
            "                   с ADP\n",
            "             внешним ADJ|Case=Ins|Degree=Pos|Gender=Masc|Number=Sing\n",
            "               миром NOUN|Animacy=Inan|Case=Ins|Gender=Masc|Number=Sing\n",
            "                   , PUNCT\n",
            "            передает VERB|Aspect=Imp|Mood=Ind|Number=Sing|Person=3|Tense=Pres|VerbForm=Fin|Voice=Act\n",
            "                 РИА PROPN|Animacy=Inan|Case=Nom|Gender=Neut|Number=Sing\n",
            "             Новости PROPN|Animacy=Inan|Case=Nom|Gender=Fem|Number=Plur\n",
            "                  со ADP\n",
            "             ссылкой NOUN|Animacy=Inan|Case=Ins|Gender=Fem|Number=Sing\n",
            "                  на ADP\n",
            "           агентство NOUN|Animacy=Inan|Case=Acc|Gender=Neut|Number=Sing\n",
            "         Ассошиэйтед PROPN|Animacy=Inan|Case=Gen|Gender=Neut|Number=Sing\n",
            "               Пресс PROPN|Animacy=Inan|Case=Nom|Gender=Masc|Number=Sing\n",
            "                   , PUNCT\n",
            "             которое PRON|Case=Nom|Gender=Neut|Number=Sing\n",
            "            приводит VERB|Aspect=Imp|Mood=Ind|Number=Sing|Person=3|Tense=Pres|VerbForm=Fin|Voice=Act\n",
            "              данные NOUN|Animacy=Inan|Case=Acc|Gender=Neut|Number=Plur\n",
            "            судебных ADJ|Case=Gen|Degree=Pos|Number=Plur\n",
            "          документов NOUN|Animacy=Inan|Case=Gen|Gender=Masc|Number=Plur\n",
            "                   . PUNCT\n"
          ]
        }
      ],
      "source": [
        "doc.segment(segmenter)\n",
        "doc.tag_morph(morph_tagger)\n",
        "doc.parse_syntax(syntax_parser)\n",
        "sent = doc.sents[0]\n",
        "sent.morph.print()"
      ]
    },
    {
      "cell_type": "code",
      "execution_count": null,
      "metadata": {
        "id": "7nHpdZmqOv8k",
        "outputId": "68691717-97f9-4afb-da89-f8a94a2267fb",
        "colab": {
          "base_uri": "https://localhost:8080/"
        }
      },
      "outputs": [
        {
          "output_type": "stream",
          "name": "stdout",
          "text": [
            "                      ┌──► Мать          nsubj\n",
            "                      │ ┌─ Майкла        \n",
            "                      │ └► Джексона      flat:name\n",
            "                      └─── рассказала    \n",
            "    ┌────────────────────► ,             punct\n",
            "    │                 ┌──► как           advmod\n",
            "┌──►│                 │    она           nsubj\n",
            "│   │                 │ ┌► «             punct\n",
            "│ ┌►│     ┌───┌─┌───┌─└─└─ исчезла       ccomp\n",
            "│ │ │     │   │ │   │ └──► »             punct\n",
            "│ │ │     │   │ │   │ ┌──► на            case\n",
            "│ │ │     │   │ │   │ │ ┌► несколько     nummod:gov\n",
            "│ │ │     │   │ │   └►└─└─ дней          obl\n",
            "│ │ │     │ ┌►│ │          Мать          nsubj\n",
            "│ │ │     │ │ │ │ ┌►┌───── скончавшегося acl\n",
            "│ │ │     │ │ │ │ │ │ ┌──► в             case\n",
            "│ │ │     │ │ │ │ │ │ │ ┌► 2009          amod\n",
            "│ │ │     │ │ │ │ │ └►└─└─ году          obl\n",
            "│ │ │     │ │ │ │ │     ┌► \"             punct\n",
            "│ │ │ ┌──►│ │ │ │ └─┌─┌─└─ короля        obj\n",
            "│ │ │ │   │ │ │ │ │ │ └──► поп-музыки    nmod\n",
            "│ │ │ │   │ │ │ │ │ └────► \"             punct\n",
            "│ │ │ │   │ │ │ │ └──►┌─┌─ Майкла        appos\n",
            "│ │ │ │   │ │ │ │     │ └► Джексона      flat:name\n",
            "│ │ │ │   │ │ │ │     └──► Кэтрин        flat:name\n",
            "│ │ │ │   │ │ │ └────────► ,             punct\n",
            "│ │ │ │   │ │ └──────────► которая       nsubj\n",
            "│ │ │ │   │ │           ┌► две           nummod:gov\n",
            "│ │ │ │   └►│         ┌─└─ недели        obl\n",
            "│ │ │ │     │         └──► назад         advmod\n",
            "│ │ │ │     │           ┌► \"             punct\n",
            "│ │ └─│   ┌─└─┌────►┌─┌─└─ пропала       ccomp\n",
            "│ │   │   │   │     │ └──► \"             punct\n",
            "│ │   │   │   │     │   ┌► и             cc\n",
            "│ │   │   │   │     └──►└─ обнаружилась  conj\n",
            "│ │   │   │   │     ┌────► лишь          advmod\n",
            "│ │   │   │   │     │ ┌──► через         case\n",
            "│ │   │   │   │     │ │ ┌► десять        nummod:gov\n",
            "│ │   │   │ ┌─│ ┌──►└─└─└─ дней          obl\n",
            "│ │   │ ┌►│ │ │ │          ,             punct\n",
            "│ └─┌─│ │ │ │ └─│ ┌─────── сообщила      \n",
            "│   │ │ │ │ │   │ │ ┌────► ,             punct\n",
            "│   │ │ │ └►│   │ │ │      что           mark\n",
            "│   │ │ │   │   │ │ │ ┌──► родственники  nsubj\n",
            "│   │ │ │   │   │ │ │ │ ┌► преднамеренно advmod\n",
            "│   │ └─│   │   └─└►└─└─└─ лишили        ccomp\n",
            "│   │   │   │   │   │ └──► ее            obj\n",
            "│   │   │   │   │   └────► связи         obj\n",
            "│   │   │   └──►│          с             case\n",
            "│   │   │       │       ┌► внешним       amod\n",
            "│   │   │       └──────►└─ миром         obl\n",
            "│   │   │               ┌► ,             punct\n",
            "│   │   │           ┌─┌─└─ передает      \n",
            "│   │   │           │ └►┌─ РИА           nsubj\n",
            "│   │   │           │   └► Новости       appos\n",
            "│   │   │           │   ┌► со            case\n",
            "│   │   │           └►┌─└─ ссылкой       obl\n",
            "│   │   │             │ ┌► на            case\n",
            "│   │   │             └►└─ агентство     nmod\n",
            "│   │   │             └►┌─ Ассошиэйтед   nmod\n",
            "│   │   │               └► Пресс         appos\n",
            "│   │   │             ┌──► ,             punct\n",
            "│   │   │             │ ┌► которое       nsubj\n",
            "└───│   └─────────────└─└─ приводит      \n",
            "    │               ┌─└──► данные        obj\n",
            "    │               │   ┌► судебных      amod\n",
            "    │               └──►└─ документов    nmod\n",
            "    └────────────────────► .             punct\n"
          ]
        }
      ],
      "source": [
        "sent.syntax.print()"
      ]
    },
    {
      "cell_type": "markdown",
      "metadata": {
        "id": "2dNnBDnqOv8k"
      },
      "source": [
        "Модуль извлечения именованных сущностей не зависит от результатов морфологического и синтаксического разбора, его можно использовать отдельно."
      ]
    },
    {
      "cell_type": "code",
      "execution_count": null,
      "metadata": {
        "id": "dp5fFXLaOv8k",
        "outputId": "6343a942-76e0-4182-d700-9bad101466e1",
        "colab": {
          "base_uri": "https://localhost:8080/"
        }
      },
      "outputs": [
        {
          "output_type": "stream",
          "name": "stdout",
          "text": [
            "Мать Майкла Джексона рассказала, как она «исчезла» на несколько дней\n",
            "     PER────────────                                                \n",
            "Мать скончавшегося в 2009 году \"короля поп-музыки\" Майкла Джексона \n",
            "                                                   PER──────────── \n",
            "Кэтрин, которая две недели назад \"пропала\" и обнаружилась лишь через \n",
            "PER───                                                               \n",
            "десять дней, сообщила, что родственники преднамеренно лишили ее связи \n",
            "с внешним миром, передает РИА Новости со ссылкой на агентство \n",
            "                          ORG────────                         \n",
            "Ассошиэйтед Пресс, которое приводит данные судебных документов.\n",
            "ORG──────────────                                              \n",
            "Документы, в которых Кэтрин рассказала об этом, были прикреплены к \n",
            "                     PER───                                        \n",
            "официальному запросу в суд о восстановлении ее права на опеку троих \n",
            "детей Майкла Джексона.\n",
            "      PER──────────── \n",
            "Ранее, 22 июля, представитель Кэтрин Джексон подала в полицию \n",
            "                              PER───────────                  \n",
            "Калифорни заявление о пропаже ее клиента. Однако вскоре брат \"короля \n",
            "PER──────                                                            \n",
            "поп-музыки\" Жермен Джексон заявил, что врачи просто предписали его \n",
            "            PER───────────                                         \n",
            "82-летней матери покой. Именно поэтому женщина вместе со своей старшей\n",
            " дочерью Ребби отправилась отдыхать на спа-курорт в штате Аризона, где\n",
            "         PER──                                            LOC────     \n",
            " отключила мобильные телефоны и другие электронные устройства.\n",
            "Через четыре дня суд Калифорнии лишил Кэтрин опекунства над Блэнкет, \n",
            "                     LOC───────       PER───                PER────  \n",
            "Принс и Пэрис, после того как дети, жившие с момента кончины отца с \n",
            "PER──   PER──                                                       \n",
            "бабушкой, в течение десяти дней не могли с ней связаться. Тогда же \n",
            "временным опекуном детей был назначен 34-летний ТиДжей (TJ), сын Тито \n",
            "                                      PER──────────────────      PER──\n",
            "Джексона, который приходится знаменитому певцу старшим братом. \n",
            "────────                                                       \n",
            "Накануне, в четверг, это же суд принял решение восстановить право \n",
            "Кэтрин на опекунство над внуками.\n",
            "PER───                           \n",
            "По словам самой матери Майкла Джексона, ей передали, что ее доктор \n",
            "                       PER────────────                             \n",
            "якобы рекомендует ей покой, поэтому родственники отвезли ее в один из \n",
            "санаториев города Тусон (штата Аризона). Эта поездка была для нее \n",
            "                  LOC──        LOC────                            \n",
            "незапланированной, так как она собралась присоединиться к братьям \n",
            "знаменитого певца, которые ездили с гастролями по городам США.\n",
            "                                                          LOC \n",
            "В номере санатория, куда поселили Кэтрин, у которой, по ее словам, \n",
            "                                  PER───                           \n",
            "забрали мобильный телефон и планшетный компьютер, не работал \n",
            "стационарный телефон, а телевизор не воспроизводил картинку. Но \n",
            "несмотря на это, одним утром она услышала в новостной программе, что в\n",
            " полицию Калифорнии поступило заявление о ее пропаже.\n",
            "         LOC───────                                  \n",
            "Находясь в Тусоне, Кэтрин не знала, что ее внуки не могут с ней \n",
            "           LOC───  PER───                                       \n",
            "связаться и поэтому очень обеспокоены.\n",
            "\"Пока меня не было (с внуками), у меня было причин сомневаться в том, \n",
            "скажут ли мне люди, которым я доверяла, о том, что Принс, Пэрис и \n",
            "                                                   PER──  PER──   \n",
            "Блэнкет пытаются найти меня\", - сказала Кэтрин. Когда она спрашивала, \n",
            "PER────                                 PER───                        \n",
            "все ли хорошо с детьми, ей отвечали, что они в полном порядке.\n",
            "В последнее время среди многочисленных родственников \"короля поп-\n",
            "музыки\" разгорелся скандал относительно наследства. Официальным и \n",
            "единственным наследником, согласно завещанию Майкла Джексона, стала \n",
            "                                             PER────────────        \n",
            "Кэтрин. Однако некоторые братья и сестры певца недавно подписали \n",
            "PER───                                                           \n",
            "попавшее впоследствии в распоряжение СМИ письмо, в котором они \n",
            "                                     ORG                       \n",
            "утверждали, что завещание Джексона поддельное.\n",
            "                          PER─────            \n",
            "В минувшую среду, как передает Ассошиэйтед Пресс, другой сын Кэтрин \n",
            "                               ORG──────────────             PER────\n",
            "Жермен Джексон, который сначала подписал это письмо, однако позже \n",
            "──────────────                                                    \n",
            "отказался от этого, призвал все семейство преодолеть распри, так как \n",
            "его мать пережила огромный стресс и давление с момента смерти \"поп-\n",
            "короля\".\n",
            "Майкл Джексон скончался 25 июня 2009 года на 51-м году жизни от \n",
            "PER──────────                                                   \n",
            "передозировки сильнодействующими снотворными препаратами.\n"
          ]
        }
      ],
      "source": [
        "doc.tag_ner(ner_tagger)\n",
        "doc.ner.print()"
      ]
    },
    {
      "cell_type": "markdown",
      "source": [
        "##Spacy и Natasha отработали NER лучше nltk и dpavlov"
      ],
      "metadata": {
        "id": "Se_o7HI-klbz"
      }
    },
    {
      "cell_type": "markdown",
      "source": [
        "- написать свой нер попробовать разные подходы\n",
        "-- передаём в сетку токен и его соседей\n",
        "-- передаём в сетку только токен\n",
        "- сделать выводы по вашим экспериментам какой из подходов успешнее справляется"
      ],
      "metadata": {
        "id": "QPQRdTnflBPT"
      }
    },
    {
      "cell_type": "code",
      "execution_count": null,
      "metadata": {
        "id": "nnRA7gs116Ic"
      },
      "outputs": [],
      "source": [
        "!wget http://www.labinform.ru/pub/named_entities/collection5.zip"
      ]
    },
    {
      "cell_type": "code",
      "execution_count": null,
      "metadata": {
        "scrolled": true,
        "id": "SNTkauwO16Ic"
      },
      "outputs": [],
      "source": [
        "!unzip collection5.zip"
      ]
    },
    {
      "cell_type": "code",
      "execution_count": null,
      "metadata": {
        "id": "re5CR5Mv16Ic"
      },
      "outputs": [],
      "source": [
        "!pip install corus"
      ]
    },
    {
      "cell_type": "code",
      "execution_count": null,
      "metadata": {
        "id": "niEvxysz16Ic"
      },
      "outputs": [],
      "source": [
        "import corus"
      ]
    },
    {
      "cell_type": "code",
      "execution_count": null,
      "metadata": {
        "scrolled": true,
        "id": "Av9xwFQZ16Ic"
      },
      "outputs": [],
      "source": [
        "from corus import load_ne5\n",
        "\n",
        "dir = 'Collection5/'\n",
        "records = load_ne5(dir)\n",
        "rec = next(records)"
      ]
    },
    {
      "cell_type": "code",
      "execution_count": null,
      "metadata": {
        "id": "XmsaG7_k16Id"
      },
      "outputs": [],
      "source": [
        "!pip install razdel"
      ]
    },
    {
      "cell_type": "code",
      "execution_count": null,
      "metadata": {
        "id": "lO6tRPjW16Id"
      },
      "outputs": [],
      "source": [
        "from razdel import tokenize"
      ]
    },
    {
      "cell_type": "code",
      "execution_count": null,
      "metadata": {
        "id": "lIGpfO9f16Ie"
      },
      "outputs": [],
      "source": [
        "words_docs = []\n",
        "for ix, rec in enumerate(records):\n",
        "    words = []\n",
        "    for token in tokenize(rec.text):\n",
        "        type_ent = 'OUT'\n",
        "        for ent in rec.spans:\n",
        "            if (token.start >= ent.start) and (token.stop <= ent.stop):\n",
        "                type_ent = ent.type\n",
        "                break\n",
        "        words.append([token.text, type_ent])\n",
        "    words_docs.extend(words)"
      ]
    },
    {
      "cell_type": "code",
      "source": [
        "articals = []\n",
        "for rec in records:\n",
        "    articals.append(rec.text)"
      ],
      "metadata": {
        "id": "mNKQ-BM-16Ie"
      },
      "execution_count": null,
      "outputs": []
    },
    {
      "cell_type": "code",
      "source": [
        "doc1 = articals[1]\n",
        "doc1"
      ],
      "metadata": {
        "colab": {
          "base_uri": "https://localhost:8080/",
          "height": 107
        },
        "outputId": "d1b44d1a-2ff9-42dd-ffcc-a067b7c28093",
        "id": "xX4-iWAJ16Ie"
      },
      "execution_count": null,
      "outputs": [
        {
          "output_type": "execute_result",
          "data": {
            "text/plain": [
              "'Олег Митволь высадился на Северном округе\\r\\n\\t\\r\\nСегодня бывший заместитель главы Росприроднадзора Олег Митволь должен быть представлен на заседании правительства Москвы в новой должности префекта Северного административного округа столицы. В руководстве мэрии назначение связывают с богатым опытом работы бывшего чиновника на госслужбе и \"давними отношениями\" с мэром Юрием Лужковым, уточняя, что первым ответственным фронтом работы Олега Митволя станут осенние выборы в Мосгордуму. Господин Митволь заявил \"Ъ\", что будет работать \"с удовольствием\".\\r\\n\\r\\nО том, что мэр Москвы Юрий Лужков сделал бывшему заместителю руководителя Росприроднадзора, а ныне главе движения \"Зеленая альтернатива\" предложение занять должность префекта Северного административного округа (САО) столицы, \"Ъ\" сообщил сам Олег Митволь. По его словам, предложение он \"с благодарностью принял\": \"Я родился в этом округе, его проблемы знаю, а силы и энергия, чтобы сделать жизнь жителей округа лучше, у меня есть\". Господин Митволь уточнил, что готов приступить к работе 7 июля, поскольку до 6-го числа он находится в отпуске по прежнему месту службы - в Росприроднадзоре.\\r\\n\\r\\nВ пресс-службе мэрии Москвы информацию о назначении господина Митволя до официального представления не комментируют. Источник \"Ъ\" в руководстве столичного правительства подтвердил, что вопрос с его назначением \"практически решен\" и Олег Митволь будет представлен как новый префект на сегодняшнем заседании правительства Москвы. Господин Митволь, правда, заявил \"Ъ\", что его на заседание в столичную мэрию \"никто не вызывал\", и уточнил, что документов о своем назначении \"еще не видел\". Однако он сообщил, что у него было \"длительное общение\" с Юрием Лужковым по поводу своего назначения, которое \"было окончательно формализовано на прошлой неделе\".\\r\\n\\r\\nИсточник \"Ъ\" в руководстве мэрии объясняет назначение Олега Митволя опытом работы на госслужбе и \"давними отношениями с Юрием Михайловичем, состоявшимися и проверенными\". Действительно, еще в 2007 году Олег Митволь и Юрий Лужков совместно провели несколько громких кампаний, например, заявляя о необходимости снести поселок Речник на берегу Москвы-реки в Крылатской пойме, а также потребовав вывести из акватории Москвы-реки все плавучие рестораны, оборудованные на дебаркадерах. Что касается госслужбы, то в Росприроднадзоре Олег Митволь отметился как громкими природоохранными спецоперациями, так и не менее скандальным разбирательством с собственным начальством.\\r\\n\\r\\nГосподин Митволь сменит на посту и. о. префекта САО Фазиля Измайлова. Это брат главы группы АСТ, владельца Черкизовского рынка Тельмана Исмаилова, против которого следственный комитет при прокуратуре РФ возбудил в июне уголовное дело по факту хранения на складах группы контрабандного товара на сумму $2 млрд (см. стр. 4). Фазиль Измайлов в разговоре с \"Ъ\" не стал комментировать связь кадрового решения мэра с проблемами брата, заявив, что \"еще нет приказа\" о назначении господина Митволя, поэтому комментировать это он \"не может\". \"Все вопросы в любом случае решает мэр,- заявил он \"Ъ\".- Меня, например, вообще назначали без моего ведома. Я человек трудолюбивый, просто выполняю свою работу, и результаты налицо - в САО проблем нет\". Проблемы были с предыдущим префектом САО Юрием Хардиковым. 19 января его отстранили от должности как не справившегося со служебными обязанностями, главным образом с программой по капремонту жилья. Вслед за отставкой господина Хардикова в префектуре САО прошли обыски в рамках уголовного дела в отношении ее сотрудников. Их обвинили в превышении должностных полномочий при проведении семинара для сотрудников префектуры в подмосковном отеле, услуги которого так и не были оплачены.\\r\\n\\r\\nГлава Центра региональных исследований Ростислав Туровский связывает назначение с давним пограничным конфликтом Москвы и области о территориальной принадлежности земель под застройку, тогда как господин Митволь активно боролся в Росприроднадзоре против незаконного выделения земель именно в Московской области. Сам Олег Митволь заявил \"Ъ\", что \"так глубоко\" над причинами своего назначения \"не думал\". Источник \"Ъ\" в руководстве столичной мэрии считает маловероятным, что господина Митволя назначили с целью \"укрепления границ с Подмосковьем\". \"Тогда бы его взяли в центральный аппарат мэрии,- считает собеседник \"Ъ\".- САО - это целый город, проблем здесь гораздо больше, чем одно взаимодействие с областью. Олег Митволь действительно разбирался с подмосковными землями, но это скорее может испортить отношения мэрии с областью\". Как рассказали в мэрии, первым ответственным фронтом работы господина Митволя станут осенние выборы в Мосгордуму. \"Это серьезное испытание. Хотя главное для префекта хозяйственная деятельность, выборы - хороший показатель, насколько руководитель справляется с работой в режиме форс-мажора\",- говорит источник. '"
            ],
            "application/vnd.google.colaboratory.intrinsic+json": {
              "type": "string"
            }
          },
          "metadata": {},
          "execution_count": 16
        }
      ]
    },
    {
      "cell_type": "code",
      "execution_count": null,
      "metadata": {
        "id": "ubQw0iwp16Ie"
      },
      "outputs": [],
      "source": [
        "import pandas as pd"
      ]
    },
    {
      "cell_type": "code",
      "execution_count": null,
      "metadata": {
        "id": "xVzrtX9m16Ie"
      },
      "outputs": [],
      "source": [
        "df_words = pd.DataFrame(words_docs, columns=['word', 'tag'])"
      ]
    },
    {
      "cell_type": "code",
      "execution_count": null,
      "metadata": {
        "outputId": "5c9cf6c0-1e55-413f-eae3-7c073f11ee1b",
        "colab": {
          "base_uri": "https://localhost:8080/"
        },
        "id": "5uUedfBT16Ie"
      },
      "outputs": [
        {
          "output_type": "execute_result",
          "data": {
            "text/plain": [
              "OUT         218616\n",
              "PER          21119\n",
              "ORG          13620\n",
              "LOC           4555\n",
              "GEOPOLIT      4316\n",
              "MEDIA         2482\n",
              "Name: tag, dtype: int64"
            ]
          },
          "metadata": {},
          "execution_count": 19
        }
      ],
      "source": [
        "df_words['tag'].value_counts()"
      ]
    },
    {
      "cell_type": "code",
      "execution_count": null,
      "metadata": {
        "outputId": "02118c53-ca68-4145-958a-31942f130cad",
        "colab": {
          "base_uri": "https://localhost:8080/",
          "height": 206
        },
        "id": "i7Zj3eoo16Ie"
      },
      "outputs": [
        {
          "output_type": "execute_result",
          "data": {
            "text/plain": [
              "        word       tag\n",
              "0  Премьером       OUT\n",
              "1     Катара  GEOPOLIT\n",
              "2     станет       OUT\n",
              "3      глава       OUT\n",
              "4        МВД       ORG"
            ],
            "text/html": [
              "\n",
              "  <div id=\"df-c98600cf-5974-4028-83cc-e05818ff5b9b\">\n",
              "    <div class=\"colab-df-container\">\n",
              "      <div>\n",
              "<style scoped>\n",
              "    .dataframe tbody tr th:only-of-type {\n",
              "        vertical-align: middle;\n",
              "    }\n",
              "\n",
              "    .dataframe tbody tr th {\n",
              "        vertical-align: top;\n",
              "    }\n",
              "\n",
              "    .dataframe thead th {\n",
              "        text-align: right;\n",
              "    }\n",
              "</style>\n",
              "<table border=\"1\" class=\"dataframe\">\n",
              "  <thead>\n",
              "    <tr style=\"text-align: right;\">\n",
              "      <th></th>\n",
              "      <th>word</th>\n",
              "      <th>tag</th>\n",
              "    </tr>\n",
              "  </thead>\n",
              "  <tbody>\n",
              "    <tr>\n",
              "      <th>0</th>\n",
              "      <td>Премьером</td>\n",
              "      <td>OUT</td>\n",
              "    </tr>\n",
              "    <tr>\n",
              "      <th>1</th>\n",
              "      <td>Катара</td>\n",
              "      <td>GEOPOLIT</td>\n",
              "    </tr>\n",
              "    <tr>\n",
              "      <th>2</th>\n",
              "      <td>станет</td>\n",
              "      <td>OUT</td>\n",
              "    </tr>\n",
              "    <tr>\n",
              "      <th>3</th>\n",
              "      <td>глава</td>\n",
              "      <td>OUT</td>\n",
              "    </tr>\n",
              "    <tr>\n",
              "      <th>4</th>\n",
              "      <td>МВД</td>\n",
              "      <td>ORG</td>\n",
              "    </tr>\n",
              "  </tbody>\n",
              "</table>\n",
              "</div>\n",
              "      <button class=\"colab-df-convert\" onclick=\"convertToInteractive('df-c98600cf-5974-4028-83cc-e05818ff5b9b')\"\n",
              "              title=\"Convert this dataframe to an interactive table.\"\n",
              "              style=\"display:none;\">\n",
              "        \n",
              "  <svg xmlns=\"http://www.w3.org/2000/svg\" height=\"24px\"viewBox=\"0 0 24 24\"\n",
              "       width=\"24px\">\n",
              "    <path d=\"M0 0h24v24H0V0z\" fill=\"none\"/>\n",
              "    <path d=\"M18.56 5.44l.94 2.06.94-2.06 2.06-.94-2.06-.94-.94-2.06-.94 2.06-2.06.94zm-11 1L8.5 8.5l.94-2.06 2.06-.94-2.06-.94L8.5 2.5l-.94 2.06-2.06.94zm10 10l.94 2.06.94-2.06 2.06-.94-2.06-.94-.94-2.06-.94 2.06-2.06.94z\"/><path d=\"M17.41 7.96l-1.37-1.37c-.4-.4-.92-.59-1.43-.59-.52 0-1.04.2-1.43.59L10.3 9.45l-7.72 7.72c-.78.78-.78 2.05 0 2.83L4 21.41c.39.39.9.59 1.41.59.51 0 1.02-.2 1.41-.59l7.78-7.78 2.81-2.81c.8-.78.8-2.07 0-2.86zM5.41 20L4 18.59l7.72-7.72 1.47 1.35L5.41 20z\"/>\n",
              "  </svg>\n",
              "      </button>\n",
              "      \n",
              "  <style>\n",
              "    .colab-df-container {\n",
              "      display:flex;\n",
              "      flex-wrap:wrap;\n",
              "      gap: 12px;\n",
              "    }\n",
              "\n",
              "    .colab-df-convert {\n",
              "      background-color: #E8F0FE;\n",
              "      border: none;\n",
              "      border-radius: 50%;\n",
              "      cursor: pointer;\n",
              "      display: none;\n",
              "      fill: #1967D2;\n",
              "      height: 32px;\n",
              "      padding: 0 0 0 0;\n",
              "      width: 32px;\n",
              "    }\n",
              "\n",
              "    .colab-df-convert:hover {\n",
              "      background-color: #E2EBFA;\n",
              "      box-shadow: 0px 1px 2px rgba(60, 64, 67, 0.3), 0px 1px 3px 1px rgba(60, 64, 67, 0.15);\n",
              "      fill: #174EA6;\n",
              "    }\n",
              "\n",
              "    [theme=dark] .colab-df-convert {\n",
              "      background-color: #3B4455;\n",
              "      fill: #D2E3FC;\n",
              "    }\n",
              "\n",
              "    [theme=dark] .colab-df-convert:hover {\n",
              "      background-color: #434B5C;\n",
              "      box-shadow: 0px 1px 3px 1px rgba(0, 0, 0, 0.15);\n",
              "      filter: drop-shadow(0px 1px 2px rgba(0, 0, 0, 0.3));\n",
              "      fill: #FFFFFF;\n",
              "    }\n",
              "  </style>\n",
              "\n",
              "      <script>\n",
              "        const buttonEl =\n",
              "          document.querySelector('#df-c98600cf-5974-4028-83cc-e05818ff5b9b button.colab-df-convert');\n",
              "        buttonEl.style.display =\n",
              "          google.colab.kernel.accessAllowed ? 'block' : 'none';\n",
              "\n",
              "        async function convertToInteractive(key) {\n",
              "          const element = document.querySelector('#df-c98600cf-5974-4028-83cc-e05818ff5b9b');\n",
              "          const dataTable =\n",
              "            await google.colab.kernel.invokeFunction('convertToInteractive',\n",
              "                                                     [key], {});\n",
              "          if (!dataTable) return;\n",
              "\n",
              "          const docLinkHtml = 'Like what you see? Visit the ' +\n",
              "            '<a target=\"_blank\" href=https://colab.research.google.com/notebooks/data_table.ipynb>data table notebook</a>'\n",
              "            + ' to learn more about interactive tables.';\n",
              "          element.innerHTML = '';\n",
              "          dataTable['output_type'] = 'display_data';\n",
              "          await google.colab.output.renderOutput(dataTable, element);\n",
              "          const docLink = document.createElement('div');\n",
              "          docLink.innerHTML = docLinkHtml;\n",
              "          element.appendChild(docLink);\n",
              "        }\n",
              "      </script>\n",
              "    </div>\n",
              "  </div>\n",
              "  "
            ]
          },
          "metadata": {},
          "execution_count": 20
        }
      ],
      "source": [
        "df_words.head()"
      ]
    },
    {
      "cell_type": "code",
      "execution_count": null,
      "metadata": {
        "outputId": "f2731487-237c-4871-aca2-6479db34a8a9",
        "colab": {
          "base_uri": "https://localhost:8080/"
        },
        "id": "YubJmLbP16If"
      },
      "outputs": [
        {
          "output_type": "execute_result",
          "data": {
            "text/plain": [
              "(264708, 2)"
            ]
          },
          "metadata": {},
          "execution_count": 21
        }
      ],
      "source": [
        "df_words.shape"
      ]
    },
    {
      "cell_type": "code",
      "execution_count": null,
      "metadata": {
        "id": "rJMi2D9J16If"
      },
      "outputs": [],
      "source": [
        "import tensorflow as tf\n",
        "\n",
        "from tensorflow.keras import Sequential\n",
        "from tensorflow.keras.layers import Dense, Embedding, GlobalAveragePooling1D, GlobalMaxPooling1D, Conv1D, GRU, LSTM, Dropout, Input\n",
        "from tensorflow.keras.layers.experimental.preprocessing import TextVectorization"
      ]
    },
    {
      "cell_type": "code",
      "execution_count": null,
      "metadata": {
        "id": "gPFFq2MS16If"
      },
      "outputs": [],
      "source": [
        "from sklearn import model_selection, preprocessing, linear_model\n",
        "\n",
        "train_x, valid_x, train_y, valid_y = model_selection.train_test_split(df_words['word'], df_words['tag'])\n",
        "\n",
        "# labelEncode целевую переменную\n",
        "encoder = preprocessing.LabelEncoder()\n",
        "train_y = encoder.fit_transform(train_y)\n",
        "valid_y = encoder.transform(valid_y) #fit_transform"
      ]
    },
    {
      "cell_type": "code",
      "execution_count": null,
      "metadata": {
        "outputId": "082bffb5-16e3-453e-9b50-b843eaa5de74",
        "colab": {
          "base_uri": "https://localhost:8080/"
        },
        "id": "Ms_LGt6h16If"
      },
      "outputs": [
        {
          "output_type": "execute_result",
          "data": {
            "text/plain": [
              "55"
            ]
          },
          "metadata": {},
          "execution_count": 24
        }
      ],
      "source": [
        "train_x.apply(len).max(axis=0)"
      ]
    },
    {
      "cell_type": "code",
      "execution_count": null,
      "metadata": {
        "id": "XTiVRd8d16Ig"
      },
      "outputs": [],
      "source": [
        "# char level\n",
        "#train_x = train_x.apply(lambda x: ' '.join(list(x)))\n",
        "#valid_x = valid_x.apply(lambda x: ' '.join(list(x)))"
      ]
    },
    {
      "cell_type": "code",
      "execution_count": null,
      "metadata": {
        "id": "gnaR-bYD16Ig"
      },
      "outputs": [],
      "source": [
        "train_data = tf.data.Dataset.from_tensor_slices((train_x, train_y))\n",
        "valid_data = tf.data.Dataset.from_tensor_slices((valid_x, valid_y))\n",
        "\n",
        "train_data = train_data.batch(16)\n",
        "valid_data = valid_data.batch(16)"
      ]
    },
    {
      "cell_type": "code",
      "execution_count": null,
      "metadata": {
        "id": "5RQtqcAI16Ig"
      },
      "outputs": [],
      "source": [
        "AUTOTUNE = tf.data.AUTOTUNE\n",
        "\n",
        "train_data = train_data.cache().prefetch(buffer_size=AUTOTUNE)\n",
        "valid_data = valid_data.cache().prefetch(buffer_size=AUTOTUNE)"
      ]
    },
    {
      "cell_type": "code",
      "execution_count": null,
      "metadata": {
        "id": "oInsLvb816Ig"
      },
      "outputs": [],
      "source": [
        "def custom_standardization(input_data):\n",
        "    return input_data\n",
        "\n",
        "vocab_size = 30000\n",
        "seq_len = 10\n",
        "\n",
        "vectorize_layer = TextVectorization(\n",
        "    standardize=custom_standardization,\n",
        "    max_tokens=vocab_size,\n",
        "    output_mode='int',\n",
        "    #ngrams=(1, 3),\n",
        "    output_sequence_length=seq_len)\n",
        "\n",
        "# Make a text-only dataset (no labels) and call adapt to build the vocabulary.\n",
        "text_data = train_data.map(lambda x, y: x)\n",
        "vectorize_layer.adapt(text_data)"
      ]
    },
    {
      "cell_type": "code",
      "execution_count": null,
      "metadata": {
        "outputId": "3ad5634a-27af-4040-c456-d7c96f68d6fc",
        "colab": {
          "base_uri": "https://localhost:8080/"
        },
        "id": "5jQh-Sji16Ig"
      },
      "outputs": [
        {
          "output_type": "execute_result",
          "data": {
            "text/plain": [
              "29800"
            ]
          },
          "metadata": {},
          "execution_count": 28
        }
      ],
      "source": [
        "len(vectorize_layer.get_vocabulary())"
      ]
    },
    {
      "cell_type": "code",
      "execution_count": null,
      "metadata": {
        "id": "eSOR3TaK16Ig"
      },
      "outputs": [],
      "source": [
        "embedding_dim = 64\n",
        "\n",
        "class modelNER(tf.keras.Model):\n",
        "    def __init__(self):\n",
        "        super(modelNER, self).__init__()\n",
        "        self.emb = Embedding(vocab_size, embedding_dim)\n",
        "        self.gPool = GlobalMaxPooling1D()\n",
        "        self.fc1 = Dense(300, activation='relu')\n",
        "        self.fc2 = Dense(50, activation='relu')\n",
        "        self.fc3 = Dense(6, activation='softmax')\n",
        "\n",
        "    def call(self, x):\n",
        "        x = vectorize_layer(x)\n",
        "        x = self.emb(x)\n",
        "        pool_x = self.gPool(x)\n",
        "        \n",
        "        fc_x = self.fc1(pool_x)\n",
        "        fc_x = self.fc2(fc_x)\n",
        "        \n",
        "        concat_x = tf.concat([pool_x, fc_x], axis=1)\n",
        "        prob = self.fc3(concat_x)\n",
        "        return prob"
      ]
    },
    {
      "cell_type": "code",
      "execution_count": null,
      "metadata": {
        "id": "lUERLRWO16Ig"
      },
      "outputs": [],
      "source": [
        "mmodel = modelNER()"
      ]
    },
    {
      "cell_type": "code",
      "execution_count": null,
      "metadata": {
        "id": "V7RK1rfd16Ih"
      },
      "outputs": [],
      "source": [
        "mmodel.compile(optimizer='adam',\n",
        "              loss=tf.keras.losses.SparseCategoricalCrossentropy(),\n",
        "              metrics=['accuracy'])"
      ]
    },
    {
      "cell_type": "code",
      "execution_count": null,
      "metadata": {
        "outputId": "b8b125de-91f5-48e7-f41f-c496e223ca3d",
        "colab": {
          "base_uri": "https://localhost:8080/"
        },
        "id": "oG8DNzhI16Ih"
      },
      "outputs": [
        {
          "output_type": "stream",
          "name": "stdout",
          "text": [
            "Epoch 1/3\n",
            "12409/12409 [==============================] - 54s 4ms/step - loss: 0.2943 - accuracy: 0.9139 - val_loss: 0.2059 - val_accuracy: 0.9390\n",
            "Epoch 2/3\n",
            "12409/12409 [==============================] - 50s 4ms/step - loss: 0.1259 - accuracy: 0.9623 - val_loss: 0.3285 - val_accuracy: 0.8940\n",
            "Epoch 3/3\n",
            "12409/12409 [==============================] - 50s 4ms/step - loss: 0.1101 - accuracy: 0.9651 - val_loss: 0.2616 - val_accuracy: 0.8939\n"
          ]
        },
        {
          "output_type": "execute_result",
          "data": {
            "text/plain": [
              "<keras.callbacks.History at 0x7fe1b21e8dd0>"
            ]
          },
          "metadata": {},
          "execution_count": 32
        }
      ],
      "source": [
        "mmodel.fit(train_data, validation_data=valid_data, epochs=3)"
      ]
    },
    {
      "cell_type": "code",
      "source": [
        "from sklearn.metrics import confusion_matrix, classification_report,f1_score, accuracy_score\n",
        "import numpy as np\n",
        "from sklearn.metrics import confusion_matrix, ConfusionMatrixDisplay\n",
        "import matplotlib.pyplot as plt"
      ],
      "metadata": {
        "id": "9aKW2s6YJDWJ"
      },
      "execution_count": null,
      "outputs": []
    },
    {
      "cell_type": "code",
      "source": [
        "preds = mmodel.predict(valid_x)\n",
        "preds = np.argmax(preds,axis=1)\n",
        "print(f1_score(valid_y, preds, average= \"weighted\"))"
      ],
      "metadata": {
        "colab": {
          "base_uri": "https://localhost:8080/"
        },
        "id": "bS4A-TJqJGSs",
        "outputId": "041f4dd4-f8aa-4244-93e1-d407345d6942"
      },
      "execution_count": null,
      "outputs": [
        {
          "output_type": "stream",
          "name": "stdout",
          "text": [
            "0.9007748058957001\n"
          ]
        }
      ]
    },
    {
      "cell_type": "code",
      "source": [
        "classes = encoder.classes_\n",
        "classes"
      ],
      "metadata": {
        "colab": {
          "base_uri": "https://localhost:8080/"
        },
        "id": "_2VpNBf8Jqs3",
        "outputId": "3f56af46-7ec2-45ce-f013-70bfa8ac11bc"
      },
      "execution_count": null,
      "outputs": [
        {
          "output_type": "execute_result",
          "data": {
            "text/plain": [
              "array(['GEOPOLIT', 'LOC', 'MEDIA', 'ORG', 'OUT', 'PER'], dtype=object)"
            ]
          },
          "metadata": {},
          "execution_count": 39
        }
      ]
    },
    {
      "cell_type": "code",
      "source": [
        "from sklearn import metrics\n",
        "\n",
        "print(metrics.classification_report(valid_y, preds))"
      ],
      "metadata": {
        "colab": {
          "base_uri": "https://localhost:8080/"
        },
        "id": "mGLlcXOwME1b",
        "outputId": "d24873f1-0403-4621-c17b-376944d60073"
      },
      "execution_count": null,
      "outputs": [
        {
          "output_type": "stream",
          "name": "stdout",
          "text": [
            "              precision    recall  f1-score   support\n",
            "\n",
            "           0       0.92      0.90      0.91      1083\n",
            "           1       0.88      0.76      0.82      1191\n",
            "           2       0.95      0.73      0.83       659\n",
            "           3       0.88      0.57      0.69      3399\n",
            "           4       0.96      0.92      0.94     54559\n",
            "           5       0.49      0.87      0.63      5286\n",
            "\n",
            "    accuracy                           0.89     66177\n",
            "   macro avg       0.85      0.79      0.80     66177\n",
            "weighted avg       0.92      0.89      0.90     66177\n",
            "\n"
          ]
        }
      ]
    },
    {
      "cell_type": "code",
      "source": [
        "import seaborn as sns\n",
        "\n",
        "cm = confusion_matrix(valid_y, preds)\n",
        "ax = sns.heatmap(cm, annot=True, fmt='g', cmap=\"Greens\");\n",
        "\n",
        "ax.set_title('Seaborn Confusion Matrix');\n",
        "ax.set_xlabel('Predicted')\n",
        "ax.set_ylabel('Actual');\n",
        "\n",
        "## For the Tick Labels, the labels should be in Alphabetical order\n",
        "ax.xaxis.set_ticklabels(['GEOPOLIT', 'LOC', 'MEDIA', 'ORG', 'OUT', 'PER'])\n",
        "ax.yaxis.set_ticklabels(['GEOPOLIT', 'LOC', 'MEDIA', 'ORG', 'OUT', 'PER'])\n",
        "\n",
        "plt.show()"
      ],
      "metadata": {
        "colab": {
          "base_uri": "https://localhost:8080/",
          "height": 295
        },
        "id": "b5itqI_5QAjB",
        "outputId": "21c8ae13-d51d-42f2-e527-5cc738975966"
      },
      "execution_count": null,
      "outputs": [
        {
          "output_type": "display_data",
          "data": {
            "text/plain": [
              "<Figure size 432x288 with 2 Axes>"
            ],
            "image/png": "[encoded data removed]"
          },
          "metadata": {
            "needs_background": "light"
          }
        }
      ]
    },
    {
      "cell_type": "code",
      "source": [
        "#добавим биграммы и триграммы\n",
        "def custom_standardization(input_data):\n",
        "    return input_data\n",
        "\n",
        "vocab_size = 30000\n",
        "seq_len = 10\n",
        "\n",
        "vectorize_layer = TextVectorization(\n",
        "    standardize=custom_standardization,\n",
        "    max_tokens=vocab_size,\n",
        "    output_mode='int',\n",
        "    ngrams=(1, 3),\n",
        "    output_sequence_length=seq_len)\n",
        "\n",
        "# Make a text-only dataset (no labels) and call adapt to build the vocabulary.\n",
        "text_data = train_data.map(lambda x, y: x)\n",
        "vectorize_layer.adapt(text_data)\n",
        "mmodel1 = modelNER()\n",
        "mmodel1.compile(optimizer='adam',\n",
        "              loss=tf.keras.losses.SparseCategoricalCrossentropy(),\n",
        "              metrics=['accuracy'])\n",
        "mmodel1.fit( train_data,\n",
        "            validation_data=valid_data,\n",
        "            epochs=3)"
      ],
      "metadata": {
        "colab": {
          "base_uri": "https://localhost:8080/"
        },
        "id": "f_H3r0njVNkt",
        "outputId": "809da84a-04f0-48c1-800d-ea6953b33047"
      },
      "execution_count": null,
      "outputs": [
        {
          "output_type": "stream",
          "name": "stdout",
          "text": [
            "Epoch 1/3\n",
            "12409/12409 [==============================] - 64s 5ms/step - loss: 0.2943 - accuracy: 0.9138 - val_loss: 0.2076 - val_accuracy: 0.9389\n",
            "Epoch 2/3\n",
            "12409/12409 [==============================] - 65s 5ms/step - loss: 0.1265 - accuracy: 0.9624 - val_loss: 0.2003 - val_accuracy: 0.9421\n",
            "Epoch 3/3\n",
            "12409/12409 [==============================] - 59s 5ms/step - loss: 0.1101 - accuracy: 0.9651 - val_loss: 0.2146 - val_accuracy: 0.9416\n"
          ]
        },
        {
          "output_type": "execute_result",
          "data": {
            "text/plain": [
              "<keras.callbacks.History at 0x7fe19915c410>"
            ]
          },
          "metadata": {},
          "execution_count": 72
        }
      ]
    },
    {
      "cell_type": "code",
      "source": [
        "preds1 = mmodel1.predict(valid_x)\n",
        "preds1 = np.argmax(preds1,axis=1)\n",
        "print(f1_score(valid_y, preds1, average= \"weighted\"))\n",
        "print('--------------------------------------------')\n",
        "print(metrics.classification_report(valid_y, preds1))\n",
        "\n",
        "cm = confusion_matrix(valid_y, preds1)\n",
        "ax = sns.heatmap(cm, annot=True, fmt='g', cmap=\"Greens\");\n",
        "\n",
        "ax.set_title('Seaborn Confusion Matrix');\n",
        "ax.set_xlabel('Predicted')\n",
        "ax.set_ylabel('Actual');\n",
        "\n",
        "## For the Tick Labels, the labels should be in Alphabetical order\n",
        "ax.xaxis.set_ticklabels(['GEOPOLIT', 'LOC', 'MEDIA', 'ORG', 'OUT', 'PER'])\n",
        "ax.yaxis.set_ticklabels(['GEOPOLIT', 'LOC', 'MEDIA', 'ORG', 'OUT', 'PER'])\n",
        "\n",
        "plt.show()\n",
        "\n"
      ],
      "metadata": {
        "colab": {
          "base_uri": "https://localhost:8080/",
          "height": 563
        },
        "id": "AuhmpOPAV5n7",
        "outputId": "7f62c122-e61e-4eb4-ee59-c1a362878f4e"
      },
      "execution_count": null,
      "outputs": [
        {
          "output_type": "stream",
          "name": "stdout",
          "text": [
            "0.937177866100764\n",
            "--------------------------------------------\n",
            "              precision    recall  f1-score   support\n",
            "\n",
            "           0       0.92      0.90      0.91      1083\n",
            "           1       0.87      0.78      0.82      1191\n",
            "           2       0.95      0.74      0.83       659\n",
            "           3       0.87      0.57      0.69      3399\n",
            "           4       0.94      0.99      0.97     54559\n",
            "           5       0.99      0.71      0.83      5286\n",
            "\n",
            "    accuracy                           0.94     66177\n",
            "   macro avg       0.92      0.78      0.84     66177\n",
            "weighted avg       0.94      0.94      0.94     66177\n",
            "\n"
          ]
        },
        {
          "output_type": "display_data",
          "data": {
            "text/plain": [
              "<Figure size 432x288 with 2 Axes>"
            ],
            "image/png": "[encoded data removed]"
          },
          "metadata": {
            "needs_background": "light"
          }
        }
      ]
    },
    {
      "cell_type": "code",
      "source": [
        "# увеличим длину последовательности\n",
        "#добавим биграммы и триграммы\n",
        "def custom_standardization(input_data):\n",
        "    return input_data\n",
        "\n",
        "vocab_size = 30000\n",
        "seq_len = 100\n",
        "\n",
        "vectorize_layer = TextVectorization(\n",
        "    standardize=custom_standardization,\n",
        "    max_tokens=vocab_size,\n",
        "    output_mode='int',\n",
        "    ngrams=(1, 3),\n",
        "    output_sequence_length=seq_len)\n",
        "\n",
        "# Make a text-only dataset (no labels) and call adapt to build the vocabulary.\n",
        "text_data = train_data.map(lambda x, y: x)\n",
        "vectorize_layer.adapt(text_data)\n",
        "mmodel1 = modelNER()\n",
        "mmodel1.compile(optimizer='adam',\n",
        "              loss=tf.keras.losses.SparseCategoricalCrossentropy(),\n",
        "              metrics=['accuracy'])\n",
        "mmodel1.fit( train_data,\n",
        "            validation_data=valid_data,\n",
        "            epochs=3)"
      ],
      "metadata": {
        "colab": {
          "base_uri": "https://localhost:8080/"
        },
        "id": "0UD8qOPsV5hl",
        "outputId": "a732bb7f-325a-4ad8-a56d-c105274c4e26"
      },
      "execution_count": null,
      "outputs": [
        {
          "output_type": "stream",
          "name": "stdout",
          "text": [
            "Epoch 1/3\n",
            "12409/12409 [==============================] - 60s 5ms/step - loss: 0.2916 - accuracy: 0.9150 - val_loss: 0.2058 - val_accuracy: 0.9398\n",
            "Epoch 2/3\n",
            "12409/12409 [==============================] - 60s 5ms/step - loss: 0.1255 - accuracy: 0.9626 - val_loss: 0.2044 - val_accuracy: 0.9419\n",
            "Epoch 3/3\n",
            "12409/12409 [==============================] - 59s 5ms/step - loss: 0.1104 - accuracy: 0.9651 - val_loss: 0.2115 - val_accuracy: 0.9421\n"
          ]
        },
        {
          "output_type": "execute_result",
          "data": {
            "text/plain": [
              "<keras.callbacks.History at 0x7fe1975a3050>"
            ]
          },
          "metadata": {},
          "execution_count": 75
        }
      ]
    },
    {
      "cell_type": "code",
      "source": [
        "preds1 = mmodel1.predict(valid_x)\n",
        "preds1 = np.argmax(preds1,axis=1)\n",
        "print(f1_score(valid_y, preds1, average= \"weighted\"))\n",
        "print('--------------------------------------------')\n",
        "print(metrics.classification_report(valid_y, preds1))\n",
        "\n",
        "cm = confusion_matrix(valid_y, preds1)\n",
        "ax = sns.heatmap(cm, annot=True, fmt='g', cmap=\"Greens\");\n",
        "\n",
        "ax.set_title('Seaborn Confusion Matrix');\n",
        "ax.set_xlabel('Predicted')\n",
        "ax.set_ylabel('Actual');\n",
        "\n",
        "## For the Tick Labels, the labels should be in Alphabetical order\n",
        "ax.xaxis.set_ticklabels(['GEOPOLIT', 'LOC', 'MEDIA', 'ORG', 'OUT', 'PER'])\n",
        "ax.yaxis.set_ticklabels(['GEOPOLIT', 'LOC', 'MEDIA', 'ORG', 'OUT', 'PER'])\n",
        "\n",
        "plt.show()\n"
      ],
      "metadata": {
        "colab": {
          "base_uri": "https://localhost:8080/",
          "height": 563
        },
        "id": "at8-JCDvXIx0",
        "outputId": "d3610666-c6cc-4952-8a21-cac2129bf501"
      },
      "execution_count": null,
      "outputs": [
        {
          "output_type": "stream",
          "name": "stdout",
          "text": [
            "0.937761211172429\n",
            "--------------------------------------------\n",
            "              precision    recall  f1-score   support\n",
            "\n",
            "           0       0.91      0.90      0.91      1083\n",
            "           1       0.88      0.77      0.82      1191\n",
            "           2       0.95      0.73      0.83       659\n",
            "           3       0.87      0.57      0.69      3399\n",
            "           4       0.94      0.99      0.97     54559\n",
            "           5       0.99      0.71      0.83      5286\n",
            "\n",
            "    accuracy                           0.94     66177\n",
            "   macro avg       0.93      0.78      0.84     66177\n",
            "weighted avg       0.94      0.94      0.94     66177\n",
            "\n"
          ]
        },
        {
          "output_type": "display_data",
          "data": {
            "text/plain": [
              "<Figure size 432x288 with 2 Axes>"
            ],
            "image/png": "[encoded data removed]"
          },
          "metadata": {
            "needs_background": "light"
          }
        }
      ]
    }
  ]
}